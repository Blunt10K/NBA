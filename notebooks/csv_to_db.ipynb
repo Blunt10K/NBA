{
 "cells": [
  {
   "cell_type": "code",
   "execution_count": 1,
   "id": "35404335",
   "metadata": {},
   "outputs": [],
   "source": [
    "import sqlalchemy\n",
    "from sqlalchemy.ext.declarative import declarative_base\n",
    "import pandas as pd\n",
    "from os import environ\n",
    "from os import walk\n",
    "from os.path import join"
   ]
  },
  {
   "cell_type": "code",
   "execution_count": 2,
   "id": "39450035",
   "metadata": {},
   "outputs": [],
   "source": [
    "from sqlalchemy.sql import exists\n",
    "from sqlalchemy import insert"
   ]
  },
  {
   "cell_type": "code",
   "execution_count": 3,
   "id": "4651c9cf",
   "metadata": {},
   "outputs": [],
   "source": [
    "import re"
   ]
  },
  {
   "cell_type": "code",
   "execution_count": 4,
   "id": "7a307303",
   "metadata": {},
   "outputs": [],
   "source": [
    "engine = sqlalchemy.create_engine(\"mariadb+mariadbconnector://\"\\\n",
    "                                  +environ.get(\"USER\")+\":\"\\\n",
    "                                  +environ.get(\"PSWD\")+\"@127.0.0.1:3306/nba\")"
   ]
  },
  {
   "cell_type": "code",
   "execution_count": 5,
   "id": "82467697",
   "metadata": {},
   "outputs": [],
   "source": [
    "Base = declarative_base()"
   ]
  },
  {
   "cell_type": "code",
   "execution_count": 6,
   "id": "7691e90a",
   "metadata": {},
   "outputs": [],
   "source": [
    "class Players(Base):\n",
    "    __tablename__ = \"Players\"\n",
    "    ID = sqlalchemy.Column(sqlalchemy.Integer, primary_key = True)\n",
    "    Name = sqlalchemy.Column(sqlalchemy.String(length=255))"
   ]
  },
  {
   "cell_type": "code",
   "execution_count": 7,
   "id": "6e4286de",
   "metadata": {},
   "outputs": [],
   "source": [
    "class Teams(Base):\n",
    "    __tablename__ = \"Teams\"\n",
    "    ID = sqlalchemy.Column(sqlalchemy.Integer, primary_key = True)\n",
    "    Name = sqlalchemy.Column(sqlalchemy.String(length=255))"
   ]
  },
  {
   "cell_type": "code",
   "execution_count": 16,
   "id": "fd83fe66",
   "metadata": {},
   "outputs": [],
   "source": [
    "class Connector:\n",
    "    def __init__(self):\n",
    "        Base.metadata.create_all(engine)\n",
    "        Session = sqlalchemy.orm.sessionmaker()\n",
    "        Session.configure(bind=engine)\n",
    "        self.session = Session()\n",
    "        \n",
    "    def add_players(self, df):\n",
    "        \n",
    "        ids = df[\"PLAYER_ID\"]\n",
    "        names = df[\"PLAYER\"]\n",
    "        for (i,p) in zip(ids,names):\n",
    "            e = self.session.query(exists().where(Players.ID == i)).scalar()\n",
    "            if(not e):\n",
    "                player = Players(ID = i, Name = p)\n",
    "                self.session.add(player)\n",
    "                self.session.commit()\n",
    "        return\n",
    "                \n",
    "    def add_teams(self, df):\n",
    "        \n",
    "        ids = df[\"TEAM_ID\"].unique()\n",
    "        names = df[\"TEAM\"].unique()\n",
    "        for (i,t) in zip(ids,names):\n",
    "            e = self.session.query(exists().where(Teams.ID == int(i))).scalar()\n",
    "            if(not e):\n",
    "                team = Teams(ID = int(i), Name = t)\n",
    "                self.session.add(team)\n",
    "                self.session.commit()\n",
    "                \n",
    "        return\n",
    "    \n",
    "    def add_seasonal_performances(self, df,mode,year):\n",
    "        seasons = {\"preseason\":\"001\",\n",
    "                   \"regular_season\":\"002\",\n",
    "                   \"all_star\":\"003\",\n",
    "                   \"playoffs\":\"004\",\n",
    "                   \"play_in\":\"005\"}\n",
    "        \n",
    "        \n",
    "        cols = ['PLAYER_ID','TEAM_ID','AGE','GP','W','L','MIN','PTS','FGM','FGA',\\\n",
    "        'FG%','3PM','3PA','3P%','FTM','FTA','FT%','OREB','DREB','REB','AST',\\\n",
    "        'TOV','STL','BLK','PF','DD2','TD3']\n",
    "        \n",
    "        db_cols = ['PLAYER_ID','TEAM_ID','AGE','GP','W','L','MINS','PTS','FGM','FGA',\\\n",
    "           'FGP','PM3','PA3','P3P','FTM','FTA','FTP','OREB','DREB','REB','AST',\\\n",
    "           'TOV','STL','BLK','PF','DD2','TD3']\n",
    "        \n",
    "        df[[\"FG%\",\"3P%\",\"FT%\"]] /= 100\n",
    "        \n",
    "        d = dict(zip(cols,db_cols))\n",
    "        \n",
    "        df = df[cols]\n",
    "        df = df.rename(columns=d) \n",
    "        df[\"Season_ID\"] = seasons[mode]+year\n",
    "        df.to_sql(\"Seasonal_performance\",engine,if_exists=\"append\", index = False)\n",
    "        \n",
    "        return\n",
    "    \n",
    "    def add_team_standings(self, df,mode,year):\n",
    "        seasons = {\"preseason\":\"001\",\n",
    "                   \"regular_season\":\"002\",\n",
    "                   \"all_star\":\"003\",\n",
    "                   \"playoffs\":\"004\",\n",
    "                   \"play_in\":\"005\"}\n",
    "        \n",
    "        \n",
    "        cols = ['TEAM_ID','GP','W','L','WIN%','MIN','PTS','FGM','FGA',\\\n",
    "        'FG%','3PM','3PA','3P%','FTM','FTA','FT%','OREB','DREB','REB','AST',\\\n",
    "        'TOV','STL','BLK','BLKA','PF','PFD']\n",
    "        \n",
    "        db_cols = ['TEAM_ID','GP','W','L','WINP','MINS','PTS','FGM','FGA',\\\n",
    "           'FGP','PM3','PA3','P3P','FTM','FTA','FTP','OREB','DREB','REB','AST',\\\n",
    "           'TOV','STL','BLK','BLKA','PF','PFD']\n",
    "        \n",
    "        df[[\"FG%\",\"3P%\",\"FT%\"]] /= 100\n",
    "        \n",
    "        d = dict(zip(cols,db_cols))\n",
    "        \n",
    "        df = df[cols]\n",
    "        df = df.rename(columns=d)\n",
    "        df.insert(0,\"SEASON_ID\",seasons[mode]+year)\n",
    "        df.to_sql(\"Team_standings\",engine,if_exists=\"append\", index = False)\n",
    "        \n",
    "        return"
   ]
  },
  {
   "cell_type": "code",
   "execution_count": 17,
   "id": "becbee18",
   "metadata": {},
   "outputs": [],
   "source": [
    "def players_csv_to_db(c):\n",
    "    for root,_, files in walk(\"../player_stats/\"):\n",
    "        for f in files:\n",
    "            path = join(root,f)\n",
    "            if(\".csv\" in path):\n",
    "                df = pd.read_csv(path)\n",
    "                c.add_players(df)"
   ]
  },
  {
   "cell_type": "code",
   "execution_count": 18,
   "id": "eda00aba",
   "metadata": {},
   "outputs": [],
   "source": [
    "def teams_csv_to_db(c):\n",
    "    for root,_, files in walk(\"../player_stats/\"):\n",
    "        for f in files:\n",
    "            path = join(root,f)\n",
    "            if(\"regular_season.csv\" in path):\n",
    "                df = pd.read_csv(path)\n",
    "                c.add_teams(df)"
   ]
  },
  {
   "cell_type": "code",
   "execution_count": 19,
   "id": "91563d0c",
   "metadata": {},
   "outputs": [],
   "source": [
    "def get_season_year_code(year):\n",
    "    if(year == \"00\"):\n",
    "        return 99\n",
    "    \n",
    "    return int(year)-1"
   ]
  },
  {
   "cell_type": "code",
   "execution_count": 20,
   "id": "5567fda5",
   "metadata": {},
   "outputs": [],
   "source": [
    "def seasonals_csv_to_db(c):\n",
    "    for root,_, files in walk(\"../player_stats/\"):\n",
    "        for f in files:\n",
    "            path = join(root,f)\n",
    "            year = re.search(\"(\\d+)-(\\d+)\",path)\n",
    "            if(year):\n",
    "                year = get_season_year_code(year.group().split(\"-\")[1])\n",
    "                year = \"{:0>2d}\".format(year)\n",
    "                if(\"regular_season.csv\" in path):\n",
    "                    df = pd.read_csv(path)\n",
    "                    c.add_seasonal_performances(df,\"regular_season\",year)\n",
    "                elif(\"playoffs.csv\" in path):\n",
    "                    df = pd.read_csv(path)\n",
    "                    c.add_seasonal_performances(df,\"playoffs\",year)"
   ]
  },
  {
   "cell_type": "code",
   "execution_count": 21,
   "id": "267652df",
   "metadata": {},
   "outputs": [],
   "source": [
    "def standings_csv_to_db(c):\n",
    "    d = {}\n",
    "    for root,_, files in walk(\"../team_standings/\"):\n",
    "        for f in files:\n",
    "            path = join(root,f)\n",
    "            year = re.search(\"(\\d+)-(\\d+)\",path)\n",
    "            if(year):\n",
    "                year = get_season_year_code(year.group().split(\"-\")[1])\n",
    "                year = \"{:0>2d}\".format(year)\n",
    "                if(\"regular_season.csv\" in path):\n",
    "                    df = pd.read_csv(path)\n",
    "                    d = c.add_team_standings(df,\"regular_season\",year)\n",
    "                elif(\"playoffs.csv\" in path):\n",
    "                    df = pd.read_csv(path)\n",
    "                    d = c.add_team_standings(df,\"playoffs\",year)\n",
    "    return d"
   ]
  },
  {
   "cell_type": "code",
   "execution_count": 22,
   "id": "a55b3381",
   "metadata": {},
   "outputs": [],
   "source": [
    "c = Connector()"
   ]
  },
  {
   "cell_type": "code",
   "execution_count": 23,
   "id": "a1760de8",
   "metadata": {},
   "outputs": [],
   "source": [
    "standings_csv_to_db(c)"
   ]
  },
  {
   "cell_type": "code",
   "execution_count": null,
   "id": "eb8801c4",
   "metadata": {},
   "outputs": [],
   "source": []
  }
 ],
 "metadata": {
  "kernelspec": {
   "display_name": "Python 3",
   "language": "python",
   "name": "python3"
  },
  "language_info": {
   "codemirror_mode": {
    "name": "ipython",
    "version": 3
   },
   "file_extension": ".py",
   "mimetype": "text/x-python",
   "name": "python",
   "nbconvert_exporter": "python",
   "pygments_lexer": "ipython3",
   "version": "3.7.3"
  }
 },
 "nbformat": 4,
 "nbformat_minor": 5
}
