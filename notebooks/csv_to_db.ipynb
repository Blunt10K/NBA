{
 "cells": [
  {
   "cell_type": "code",
   "execution_count": 1,
   "id": "35404335",
   "metadata": {},
   "outputs": [],
   "source": [
    "import sqlalchemy\n",
    "from sqlalchemy.ext.declarative import declarative_base\n",
    "import pandas as pd\n",
    "from os import environ\n",
    "from os import walk\n",
    "from os.path import join"
   ]
  },
  {
   "cell_type": "code",
   "execution_count": 2,
   "id": "39450035",
   "metadata": {},
   "outputs": [],
   "source": [
    "from sqlalchemy.sql import exists\n",
    "from sqlalchemy import insert"
   ]
  },
  {
   "cell_type": "code",
   "execution_count": 3,
   "id": "7a307303",
   "metadata": {},
   "outputs": [],
   "source": [
    "engine = sqlalchemy.create_engine(\"mariadb+mariadbconnector://\"\\\n",
    "                                  +environ.get(\"USER\")+\":\"\\\n",
    "                                  +environ.get(\"PSWD\")+\"@127.0.0.1:3306/nba\")"
   ]
  },
  {
   "cell_type": "code",
   "execution_count": 4,
   "id": "82467697",
   "metadata": {},
   "outputs": [],
   "source": [
    "Base = declarative_base()"
   ]
  },
  {
   "cell_type": "code",
   "execution_count": 5,
   "id": "7167ae5b",
   "metadata": {},
   "outputs": [],
   "source": [
    "class Teams(Base):\n",
    "    __tablename__ = \"Teams\"\n",
    "    ID = sqlalchemy.Column(sqlalchemy.Integer, primary_key = True)\n",
    "    Name = sqlalchemy.Column(sqlalchemy.String(length=255))"
   ]
  },
  {
   "cell_type": "code",
   "execution_count": 6,
   "id": "7691e90a",
   "metadata": {},
   "outputs": [],
   "source": [
    "class Players(Base):\n",
    "    __tablename__ = \"Players\"\n",
    "    ID = sqlalchemy.Column(sqlalchemy.Integer, primary_key = True)\n",
    "    Name = sqlalchemy.Column(sqlalchemy.String(length=255))"
   ]
  },
  {
   "cell_type": "code",
   "execution_count": 11,
   "id": "fd83fe66",
   "metadata": {},
   "outputs": [],
   "source": [
    "class Connector:\n",
    "    def __init__(self):\n",
    "        Base.metadata.create_all(engine)\n",
    "        Session = sqlalchemy.orm.sessionmaker()\n",
    "        Session.configure(bind=engine)\n",
    "        self.session = Session()\n",
    "        \n",
    "    def addPlayers(self, df):\n",
    "        \n",
    "        ids = df[\"PLAYER_ID\"]\n",
    "        names = df[\"PLAYER\"]\n",
    "        for (i,p) in zip(ids,names):\n",
    "            e = self.session.query(exists().where(Players.ID == i)).scalar()\n",
    "            if(not e):\n",
    "                player = Players(ID = i, Name = p)\n",
    "                self.session.add(player)\n",
    "                self.session.commit()\n",
    "                \n",
    "    def addTeams(self, df):\n",
    "        \n",
    "        ids = df[\"TEAM_ID\"].unique()\n",
    "        names = df[\"TEAM\"].unique()\n",
    "        for (i,t) in zip(ids,names):\n",
    "            e = self.session.query(exists().where(Teams.ID == int(i))).scalar()\n",
    "            if(not e):\n",
    "                team = Teams(ID = int(i), Name = t)\n",
    "                self.session.add(team)\n",
    "                self.session.commit()"
   ]
  },
  {
   "cell_type": "code",
   "execution_count": null,
   "id": "39d651fe",
   "metadata": {},
   "outputs": [],
   "source": [
    "def players_csv_to_db(c):\n",
    "    for root,_, files in walk(\"../player_stats/\"):\n",
    "        for f in files:\n",
    "            path = join(root,f)\n",
    "            if(\"regular_season.csv\" in path):\n",
    "                df = pd.read_csv(path)\n",
    "                c.addPlayers(df)"
   ]
  },
  {
   "cell_type": "code",
   "execution_count": 12,
   "id": "becbee18",
   "metadata": {},
   "outputs": [],
   "source": [
    "def team_csv_to_db(c):\n",
    "    for root,_, files in walk(\"../player_stats/\"):\n",
    "        for f in files:\n",
    "            path = join(root,f)\n",
    "            if(\"regular_season.csv\" in path):\n",
    "                df = pd.read_csv(path)\n",
    "                c.addTeams(df)"
   ]
  },
  {
   "cell_type": "code",
   "execution_count": 13,
   "id": "a55b3381",
   "metadata": {},
   "outputs": [],
   "source": [
    "c = Connector()"
   ]
  },
  {
   "cell_type": "code",
   "execution_count": null,
   "id": "f9423a85",
   "metadata": {},
   "outputs": [],
   "source": []
  }
 ],
 "metadata": {
  "kernelspec": {
   "display_name": "Python 3",
   "language": "python",
   "name": "python3"
  },
  "language_info": {
   "codemirror_mode": {
    "name": "ipython",
    "version": 3
   },
   "file_extension": ".py",
   "mimetype": "text/x-python",
   "name": "python",
   "nbconvert_exporter": "python",
   "pygments_lexer": "ipython3",
   "version": "3.7.3"
  }
 },
 "nbformat": 4,
 "nbformat_minor": 5
}
