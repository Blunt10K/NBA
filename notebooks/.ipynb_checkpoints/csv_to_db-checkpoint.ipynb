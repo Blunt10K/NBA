{
 "cells": [
  {
   "cell_type": "code",
   "execution_count": 1,
   "id": "35404335",
   "metadata": {},
   "outputs": [],
   "source": [
    "import sqlalchemy\n",
    "from sqlalchemy.ext.declarative import declarative_base\n",
    "import pandas as pd\n",
    "from os import environ\n",
    "from os import walk\n",
    "from os.path import join"
   ]
  },
  {
   "cell_type": "code",
   "execution_count": 2,
   "id": "39450035",
   "metadata": {},
   "outputs": [],
   "source": [
    "from sqlalchemy.sql import exists\n",
    "from sqlalchemy import insert"
   ]
  },
  {
   "cell_type": "code",
   "execution_count": 3,
   "id": "7a307303",
   "metadata": {},
   "outputs": [],
   "source": [
    "engine = sqlalchemy.create_engine(\"mariadb+mariadbconnector://\"\\\n",
    "                                  +environ.get(\"USER\")+\":\"\\\n",
    "                                  +environ.get(\"PSWD\")+\"@127.0.0.1:3306/nba\")"
   ]
  },
  {
   "cell_type": "code",
   "execution_count": 4,
   "id": "82467697",
   "metadata": {},
   "outputs": [],
   "source": [
    "Base = declarative_base()"
   ]
  },
  {
   "cell_type": "code",
   "execution_count": 5,
   "id": "d2ba0aa6",
   "metadata": {},
   "outputs": [],
   "source": [
    "class Teams(Base):\n",
    "    __tablename__ = \"Teams\"\n",
    "    ID = sqlalchemy.Column(sqlalchemy.Integer, primary_key = True)\n",
    "    Name = sqlalchemy.Column(sqlalchemy.String(length=255))"
   ]
  },
  {
   "cell_type": "code",
   "execution_count": 6,
   "id": "7691e90a",
   "metadata": {},
   "outputs": [],
   "source": [
    "class Players(Base):\n",
    "    __tablename__ = \"Players\"\n",
    "    ID = sqlalchemy.Column(sqlalchemy.Integer, primary_key = True)\n",
    "    Name = sqlalchemy.Column(sqlalchemy.String(length=255))"
   ]
  },
  {
   "cell_type": "code",
   "execution_count": 11,
   "id": "fd83fe66",
   "metadata": {},
   "outputs": [],
   "source": [
    "class Connector:\n",
    "    def __init__(self):\n",
    "        Base.metadata.create_all(engine)\n",
    "        Session = sqlalchemy.orm.sessionmaker()\n",
    "        Session.configure(bind=engine)\n",
    "        self.session = Session()\n",
    "        \n",
    "    def addPlayers(self, df):\n",
    "        \n",
    "        ids = df[\"PLAYER_ID\"]\n",
    "        names = df[\"PLAYER\"]\n",
    "        for (i,p) in zip(ids,names):\n",
    "            e = self.session.query(exists().where(Players.ID == i)).scalar()\n",
    "            if(not e):\n",
    "                player = Players(ID = i, Name = p)\n",
    "                self.session.add(player)\n",
    "                self.session.commit()\n",
    "                \n",
    "    def addTeams(self, df):\n",
    "        \n",
    "        ids = df[\"TEAM_ID\"].unique()\n",
    "        names = df[\"TEAM\"].unique()\n",
    "        for (i,t) in zip(ids,names):\n",
    "            e = self.session.query(exists().where(Teams.ID == int(i))).scalar()\n",
    "            if(not e):\n",
    "                team = Teams(ID = int(i), Name = t)\n",
    "                self.session.add(team)\n",
    "                self.session.commit()"
   ]
  },
  {
   "cell_type": "code",
   "execution_count": null,
   "id": "d4748896",
   "metadata": {},
   "outputs": [],
   "source": [
    "def players_csv_to_db(c):\n",
    "    for root,_, files in walk(\"../player_stats/\"):\n",
    "        for f in files:\n",
    "            path = join(root,f)\n",
    "            if(\"regular_season.csv\" in path):\n",
    "                df = pd.read_csv(path)\n",
    "                c.addPlayers(df)"
   ]
  },
  {
   "cell_type": "code",
   "execution_count": 12,
   "id": "becbee18",
   "metadata": {},
   "outputs": [],
   "source": [
    "def team_csv_to_db(c):\n",
    "    for root,_, files in walk(\"../player_stats/\"):\n",
    "        for f in files:\n",
    "            path = join(root,f)\n",
    "            if(\"regular_season.csv\" in path):\n",
    "                df = pd.read_csv(path)\n",
    "                c.addTeams(df)"
   ]
  },
  {
   "cell_type": "code",
   "execution_count": 13,
   "id": "a55b3381",
   "metadata": {},
   "outputs": [],
   "source": [
    "c = Connector()"
   ]
  },
  {
   "cell_type": "code",
   "execution_count": 14,
   "id": "f9423a85",
   "metadata": {},
   "outputs": [
    {
     "name": "stdout",
     "output_type": "stream",
     "text": [
      "../player_stats/2014-15/regular_season.csv\n",
      "../player_stats/2019-20/regular_season.csv\n",
      "../player_stats/2007-08/regular_season.csv\n",
      "../player_stats/2000-01/regular_season.csv\n",
      "../player_stats/1999-00/regular_season.csv\n",
      "../player_stats/1996-97/regular_season.csv\n",
      "../player_stats/2004-05/regular_season.csv\n",
      "../player_stats/1998-99/regular_season.csv\n",
      "../player_stats/2013-14/regular_season.csv\n",
      "../player_stats/2006-07/regular_season.csv\n",
      "../player_stats/2017-18/regular_season.csv\n",
      "../player_stats/2009-10/regular_season.csv\n",
      "../player_stats/2010-11/regular_season.csv\n",
      "../player_stats/2015-16/regular_season.csv\n",
      "../player_stats/2001-02/regular_season.csv\n",
      "../player_stats/2005-06/regular_season.csv\n",
      "../player_stats/2002-03/regular_season.csv\n",
      "../player_stats/1997-98/regular_season.csv\n",
      "../player_stats/2018-19/regular_season.csv\n",
      "../player_stats/2016-17/regular_season.csv\n",
      "../player_stats/2008-09/regular_season.csv\n",
      "../player_stats/2012-13/regular_season.csv\n",
      "../player_stats/2003-04/regular_season.csv\n",
      "../player_stats/2011-12/regular_season.csv\n",
      "../player_stats/2020-21/regular_season.csv\n"
     ]
    }
   ],
   "source": [
    "csv_to_db(c)"
   ]
  },
  {
   "cell_type": "code",
   "execution_count": 20,
   "id": "def9861c",
   "metadata": {},
   "outputs": [],
   "source": [
    "df = pd.read_csv(\"../player_stats/2007-08/regular_season.csv\")"
   ]
  },
  {
   "cell_type": "code",
   "execution_count": 22,
   "id": "a69012e2",
   "metadata": {},
   "outputs": [
    {
     "data": {
      "text/html": [
       "<div>\n",
       "<style scoped>\n",
       "    .dataframe tbody tr th:only-of-type {\n",
       "        vertical-align: middle;\n",
       "    }\n",
       "\n",
       "    .dataframe tbody tr th {\n",
       "        vertical-align: top;\n",
       "    }\n",
       "\n",
       "    .dataframe thead th {\n",
       "        text-align: right;\n",
       "    }\n",
       "</style>\n",
       "<table border=\"1\" class=\"dataframe\">\n",
       "  <thead>\n",
       "    <tr style=\"text-align: right;\">\n",
       "      <th></th>\n",
       "      <th>Unnamed: 0</th>\n",
       "      <th>Unnamed: 0.1</th>\n",
       "      <th>PLAYER</th>\n",
       "      <th>TEAM</th>\n",
       "      <th>AGE</th>\n",
       "      <th>GP</th>\n",
       "      <th>W</th>\n",
       "      <th>L</th>\n",
       "      <th>MIN</th>\n",
       "      <th>PTS</th>\n",
       "      <th>...</th>\n",
       "      <th>TOV</th>\n",
       "      <th>STL</th>\n",
       "      <th>BLK</th>\n",
       "      <th>PF</th>\n",
       "      <th>FP</th>\n",
       "      <th>DD2</th>\n",
       "      <th>TD3</th>\n",
       "      <th>+/-</th>\n",
       "      <th>PLAYER_ID</th>\n",
       "      <th>TEAM_ID</th>\n",
       "    </tr>\n",
       "  </thead>\n",
       "  <tbody>\n",
       "    <tr>\n",
       "      <th>27</th>\n",
       "      <td>27</td>\n",
       "      <td>28</td>\n",
       "      <td>Kevin Durant</td>\n",
       "      <td>SEA</td>\n",
       "      <td>19</td>\n",
       "      <td>80</td>\n",
       "      <td>19</td>\n",
       "      <td>61</td>\n",
       "      <td>34.6</td>\n",
       "      <td>20.3</td>\n",
       "      <td>...</td>\n",
       "      <td>2.9</td>\n",
       "      <td>1.0</td>\n",
       "      <td>0.9</td>\n",
       "      <td>1.5</td>\n",
       "      <td>32.0</td>\n",
       "      <td>1</td>\n",
       "      <td>0</td>\n",
       "      <td>-8.2</td>\n",
       "      <td>201142</td>\n",
       "      <td>1610612760</td>\n",
       "    </tr>\n",
       "  </tbody>\n",
       "</table>\n",
       "<p>1 rows × 33 columns</p>\n",
       "</div>"
      ],
      "text/plain": [
       "    Unnamed: 0  Unnamed: 0.1        PLAYER TEAM  AGE  GP   W   L   MIN   PTS  \\\n",
       "27          27            28  Kevin Durant  SEA   19  80  19  61  34.6  20.3   \n",
       "\n",
       "       ...      TOV  STL  BLK   PF    FP  DD2  TD3  +/-  PLAYER_ID     TEAM_ID  \n",
       "27     ...      2.9  1.0  0.9  1.5  32.0    1    0 -8.2     201142  1610612760  \n",
       "\n",
       "[1 rows x 33 columns]"
      ]
     },
     "execution_count": 22,
     "metadata": {},
     "output_type": "execute_result"
    }
   ],
   "source": [
    "df.loc[df[\"PLAYER\"] == \"Kevin Durant\"]"
   ]
  },
  {
   "cell_type": "code",
   "execution_count": 34,
   "id": "8cb3ad9a",
   "metadata": {},
   "outputs": [
    {
     "data": {
      "text/plain": [
       "array([1610612739, 1610612747, 1610612743, 1610612756, 1610612748,\n",
       "       1610612758, 1610612742, 1610612749, 1610612751, 1610612761,\n",
       "       1610612746, 1610612745, 1610612744, 1610612766, 1610612737,\n",
       "       1610612764, 1610612762, 1610612740, 1610612750, 1610612753,\n",
       "       1610612752, 1610612760, 1610612763, 1610612755, 1610612738,\n",
       "       1610612754, 1610612759, 1610612757, 1610612741, 1610612765],\n",
       "      dtype=int64)"
      ]
     },
     "execution_count": 34,
     "metadata": {},
     "output_type": "execute_result"
    }
   ],
   "source": [
    "df[\"TEAM_ID\"].unique()"
   ]
  },
  {
   "cell_type": "code",
   "execution_count": null,
   "id": "beae6bbc",
   "metadata": {},
   "outputs": [],
   "source": []
  }
 ],
 "metadata": {
  "kernelspec": {
   "display_name": "Python 3",
   "language": "python",
   "name": "python3"
  },
  "language_info": {
   "codemirror_mode": {
    "name": "ipython",
    "version": 3
   },
   "file_extension": ".py",
   "mimetype": "text/x-python",
   "name": "python",
   "nbconvert_exporter": "python",
   "pygments_lexer": "ipython3",
   "version": "3.7.3"
  }
 },
 "nbformat": 4,
 "nbformat_minor": 5
}
