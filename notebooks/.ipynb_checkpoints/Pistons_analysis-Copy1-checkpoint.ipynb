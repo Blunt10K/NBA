{
 "cells": [
  {
   "cell_type": "code",
   "execution_count": 1,
   "id": "002fcdc6",
   "metadata": {},
   "outputs": [],
   "source": [
    "import sqlalchemy\n",
    "from os import environ\n",
    "\n",
    "import numpy as np\n",
    "import pandas as pd\n",
    "\n",
    "# from jupyter_dash import JupyterDash\n",
    "# from dash import html\n",
    "# from dash.dependencies import Input, Output\n",
    "# import plotly.express as px\n",
    "# from dash import dcc"
   ]
  },
  {
   "cell_type": "code",
   "execution_count": 2,
   "id": "12d0d029",
   "metadata": {},
   "outputs": [],
   "source": [
    "engine = sqlalchemy.create_engine(\"mariadb+mariadbconnector://\"+environ.get(\"USER\")+\\\n",
    "                                  \":\"+environ.get(\"PSWD\")+\"@127.0.0.1:3306/nba\")"
   ]
  },
  {
   "cell_type": "code",
   "execution_count": 3,
   "id": "048f5b03",
   "metadata": {},
   "outputs": [],
   "source": [
    "A_cols = ['A.Name', 'Matchup', 'Game_day', 'Result','MINS', 'PTS',\n",
    " 'FGM', 'FGA', 'FGP', 'PM3', 'PA3', 'P3P', 'FTM', 'FTA','FTP',\n",
    " 'OREB', 'DREB', 'REB', 'AST', 'TOV', 'STL', 'BLK', 'PF','Game_ID']\n",
    "\n",
    "A_cols = \", \".join(A_cols)"
   ]
  },
  {
   "cell_type": "code",
   "execution_count": 4,
   "id": "9a265102",
   "metadata": {},
   "outputs": [],
   "source": [
    "fields = \"* \"\n",
    "\n",
    "inner_join =  \"Box_scores INNER JOIN Players on Box_scores.Player_ID = Players.ID) A \"\n",
    "\n",
    "inner_select = \"(SELECT * FROM \" + inner_join \n",
    "\n",
    "outer_join = \"INNER JOIN Teams on Teams.ID=A.Team_ID \"\n",
    "\n",
    "where = \" WHERE Teams.Name = 'DET'\"\n",
    "\n",
    "outer_select = \"SELECT \" + A_cols +  \", Teams.Name as Team FROM \" + inner_select  + outer_join + where\n",
    "\n",
    "# \"ORDER BY Game_day desc\""
   ]
  },
  {
   "cell_type": "code",
   "execution_count": 5,
   "id": "95347a08",
   "metadata": {},
   "outputs": [],
   "source": [
    "det = pd.read_sql(outer_select,engine,parse_dates=[\"Game_day\"])"
   ]
  },
  {
   "cell_type": "code",
   "execution_count": 8,
   "id": "7be63369",
   "metadata": {},
   "outputs": [],
   "source": [
    "outer_select.find(where)\n",
    "league_query = outer_select[0:outer_select.find(where)]\n",
    "league = pd.read_sql(league_query,engine,parse_dates=[\"Game_day\"])"
   ]
  },
  {
   "cell_type": "code",
   "execution_count": 47,
   "id": "94533494",
   "metadata": {},
   "outputs": [],
   "source": [
    "def map_conference(df):\n",
    "    west = ['NOP','UTA', 'MEM','PHX', 'POR', 'SAC', 'SAS', 'OKC','DAL', 'DEN', 'GSW', 'HOU','LAC', 'LAL','MIN']\n",
    "    \n",
    "    df['Conference'] = 'west'\n",
    "    df['Conference'].where(df['Team'].isin(west),'east',inplace=True)\n",
    "    return df"
   ]
  },
  {
   "cell_type": "code",
   "execution_count": 55,
   "id": "71d501d7",
   "metadata": {},
   "outputs": [],
   "source": [
    "west = league['Team'].unique()[0:4]"
   ]
  },
  {
   "cell_type": "code",
   "execution_count": 56,
   "id": "57445622",
   "metadata": {},
   "outputs": [
    {
     "data": {
      "text/plain": [
       "0        False\n",
       "1        False\n",
       "2        False\n",
       "3        False\n",
       "4        False\n",
       "         ...  \n",
       "24920     True\n",
       "24921     True\n",
       "24922     True\n",
       "24923     True\n",
       "24924     True\n",
       "Name: Team, Length: 24925, dtype: bool"
      ]
     },
     "execution_count": 56,
     "metadata": {},
     "output_type": "execute_result"
    }
   ],
   "source": []
  },
  {
   "cell_type": "code",
   "execution_count": 57,
   "id": "ef14f981",
   "metadata": {},
   "outputs": [],
   "source": [
    "def map_division(df):\n",
    "    divisions = {}\n",
    "    # eastern conference divisions\n",
    "    divisions['atlantic'] = ['BOS','BKN','NYK','PHI','TOR']\n",
    "    divisions['central'] = ['CHI','CLE','DET','IND','MIL']\n",
    "    divisions['southeast'] = ['ATL','CHA','MIA','ORL','WAS']\n",
    "    \n",
    "    # western conference divisions\n",
    "    divisions['northwest'] = ['DEN', 'MIN','OKC','POR','UTA']\n",
    "    divisions['pacific'] = ['GSW','LAC','LAL','PHX','SAC']\n",
    "    divisions['southwest'] = ['DAL','HOU','MEM','NOP','SAS']\n",
    "    \n",
    "    df['Division'] = 'west'\n",
    "    \n",
    "    for i in divisions:\n",
    "        df['Division'].where(~df['Team'].isin(divisions[i]),i,inplace=True)\n",
    "#         print(i)\n",
    "    return df"
   ]
  },
  {
   "cell_type": "code",
   "execution_count": 62,
   "id": "1aac0cf5",
   "metadata": {},
   "outputs": [],
   "source": [
    "league = map_division(league)\n",
    "league = map_conference(league)"
   ]
  },
  {
   "cell_type": "code",
   "execution_count": 65,
   "id": "454497f9",
   "metadata": {},
   "outputs": [
    {
     "data": {
      "text/html": [
       "<div>\n",
       "<style scoped>\n",
       "    .dataframe tbody tr th:only-of-type {\n",
       "        vertical-align: middle;\n",
       "    }\n",
       "\n",
       "    .dataframe tbody tr th {\n",
       "        vertical-align: top;\n",
       "    }\n",
       "\n",
       "    .dataframe thead th {\n",
       "        text-align: right;\n",
       "    }\n",
       "</style>\n",
       "<table border=\"1\" class=\"dataframe\">\n",
       "  <thead>\n",
       "    <tr style=\"text-align: right;\">\n",
       "      <th></th>\n",
       "      <th>Name</th>\n",
       "      <th>Team</th>\n",
       "      <th>Division</th>\n",
       "      <th>Conference</th>\n",
       "    </tr>\n",
       "  </thead>\n",
       "  <tbody>\n",
       "    <tr>\n",
       "      <th>24920</th>\n",
       "      <td>P.J. Washington</td>\n",
       "      <td>CHA</td>\n",
       "      <td>southeast</td>\n",
       "      <td>east</td>\n",
       "    </tr>\n",
       "    <tr>\n",
       "      <th>24921</th>\n",
       "      <td>Cody Martin</td>\n",
       "      <td>CHA</td>\n",
       "      <td>southeast</td>\n",
       "      <td>east</td>\n",
       "    </tr>\n",
       "    <tr>\n",
       "      <th>24922</th>\n",
       "      <td>Gordon Hayward</td>\n",
       "      <td>CHA</td>\n",
       "      <td>southeast</td>\n",
       "      <td>east</td>\n",
       "    </tr>\n",
       "    <tr>\n",
       "      <th>24923</th>\n",
       "      <td>Terry Rozier</td>\n",
       "      <td>CHA</td>\n",
       "      <td>southeast</td>\n",
       "      <td>east</td>\n",
       "    </tr>\n",
       "    <tr>\n",
       "      <th>24924</th>\n",
       "      <td>Mason Plumlee</td>\n",
       "      <td>CHA</td>\n",
       "      <td>southeast</td>\n",
       "      <td>east</td>\n",
       "    </tr>\n",
       "  </tbody>\n",
       "</table>\n",
       "</div>"
      ],
      "text/plain": [
       "                  Name Team   Division Conference\n",
       "24920  P.J. Washington  CHA  southeast       east\n",
       "24921      Cody Martin  CHA  southeast       east\n",
       "24922   Gordon Hayward  CHA  southeast       east\n",
       "24923     Terry Rozier  CHA  southeast       east\n",
       "24924    Mason Plumlee  CHA  southeast       east"
      ]
     },
     "execution_count": 65,
     "metadata": {},
     "output_type": "execute_result"
    }
   ],
   "source": [
    "league[['Name','Team','Division','Conference']].tail()"
   ]
  },
  {
   "cell_type": "code",
   "execution_count": 9,
   "id": "5f94eb0e",
   "metadata": {},
   "outputs": [],
   "source": [
    "def calculate_features(df):\n",
    "    df['FGP'] = 100*df['FGM']/df['FGA']\n",
    "    df['FTP'] = 100*df['FTM']/df['FTA']\n",
    "    df['P3P'] = 100*df['PM3']/df['PA3']\n",
    "    df['eFG'] = 100*(df['FGM']+.5*df['PM3'])/df['FGA']\n",
    "    \n",
    "    \n",
    "    df[\"%OREB\"] = 100*df[\"OREB\"]/df[\"OREB\"].sum()\n",
    "    df[\"%DREB\"] = 100*df[\"DREB\"]/df[\"DREB\"].sum()\n",
    "    df[\"%PTS\"] = 100*df[\"PTS\"]/df[\"PTS\"].sum()\n",
    "    df[\"%AST\"] = 100*df[\"AST\"]/df[\"AST\"].sum()\n",
    "    df[\"%3\"] = 100*df[\"PM3\"]/df[\"PM3\"].sum()\n",
    "    df[\"%FG\"] = 100*df[\"FGM\"]/df[\"FGM\"].sum()\n",
    "    df[\"%FT\"] = 100*df[\"FTM\"]/df[\"FTM\"].sum()\n",
    "    df[\"%STL\"] = 100*df[\"STL\"]/df[\"STL\"].sum()\n",
    "    df[\"%TOV\"] = 100*df[\"TOV\"]/df[\"TOV\"].sum()\n",
    "    df[\"%BLK\"] = 100*df[\"BLK\"]/df[\"BLK\"].sum()\n",
    "    df[\"FTR\"] = 100*df[\"FTA\"]/df[\"FGA\"]\n",
    "    df['PM2'] = df['FGM'] - df['PM3']\n",
    "#     df = df.round(1)\n",
    "    \n",
    "    return df"
   ]
  },
  {
   "cell_type": "code",
   "execution_count": 10,
   "id": "9b707b9a",
   "metadata": {},
   "outputs": [],
   "source": [
    "det = calculate_features(det)\n",
    "league = calculate_features(league)"
   ]
  },
  {
   "cell_type": "code",
   "execution_count": null,
   "id": "20b3da17",
   "metadata": {},
   "outputs": [],
   "source": []
  },
  {
   "cell_type": "code",
   "execution_count": 16,
   "id": "ed24d6e6",
   "metadata": {},
   "outputs": [],
   "source": [
    "league_avg = league.dropna().mean(numeric_only=True)"
   ]
  },
  {
   "cell_type": "code",
   "execution_count": 17,
   "id": "f874eedc",
   "metadata": {},
   "outputs": [],
   "source": [
    "det = det.groupby('Name').mean()"
   ]
  },
  {
   "cell_type": "code",
   "execution_count": 149,
   "id": "34318ed5",
   "metadata": {},
   "outputs": [],
   "source": [
    "div_avg = league.groupby('Division').mean()"
   ]
  },
  {
   "cell_type": "code",
   "execution_count": 154,
   "id": "b5a2c11c",
   "metadata": {},
   "outputs": [],
   "source": [
    "conf_avg = league.groupby('Conference').mean()"
   ]
  },
  {
   "cell_type": "code",
   "execution_count": 155,
   "id": "724bc8a4",
   "metadata": {},
   "outputs": [
    {
     "data": {
      "text/html": [
       "<div>\n",
       "<style scoped>\n",
       "    .dataframe tbody tr th:only-of-type {\n",
       "        vertical-align: middle;\n",
       "    }\n",
       "\n",
       "    .dataframe tbody tr th {\n",
       "        vertical-align: top;\n",
       "    }\n",
       "\n",
       "    .dataframe thead th {\n",
       "        text-align: right;\n",
       "    }\n",
       "</style>\n",
       "<table border=\"1\" class=\"dataframe\">\n",
       "  <thead>\n",
       "    <tr style=\"text-align: right;\">\n",
       "      <th></th>\n",
       "      <th>MINS</th>\n",
       "      <th>PTS</th>\n",
       "      <th>FGM</th>\n",
       "      <th>FGA</th>\n",
       "      <th>FGP</th>\n",
       "      <th>PM3</th>\n",
       "      <th>PA3</th>\n",
       "      <th>P3P</th>\n",
       "      <th>FTM</th>\n",
       "      <th>FTA</th>\n",
       "      <th>...</th>\n",
       "      <th>%PTS</th>\n",
       "      <th>%AST</th>\n",
       "      <th>%3</th>\n",
       "      <th>%FG</th>\n",
       "      <th>%FT</th>\n",
       "      <th>%STL</th>\n",
       "      <th>%TOV</th>\n",
       "      <th>%BLK</th>\n",
       "      <th>FTR</th>\n",
       "      <th>PM2</th>\n",
       "    </tr>\n",
       "    <tr>\n",
       "      <th>Conference</th>\n",
       "      <th></th>\n",
       "      <th></th>\n",
       "      <th></th>\n",
       "      <th></th>\n",
       "      <th></th>\n",
       "      <th></th>\n",
       "      <th></th>\n",
       "      <th></th>\n",
       "      <th></th>\n",
       "      <th></th>\n",
       "      <th></th>\n",
       "      <th></th>\n",
       "      <th></th>\n",
       "      <th></th>\n",
       "      <th></th>\n",
       "      <th></th>\n",
       "      <th></th>\n",
       "      <th></th>\n",
       "      <th></th>\n",
       "      <th></th>\n",
       "      <th></th>\n",
       "    </tr>\n",
       "  </thead>\n",
       "  <tbody>\n",
       "    <tr>\n",
       "      <th>east</th>\n",
       "      <td>23.177928</td>\n",
       "      <td>10.546499</td>\n",
       "      <td>3.862417</td>\n",
       "      <td>8.411117</td>\n",
       "      <td>44.789559</td>\n",
       "      <td>1.172549</td>\n",
       "      <td>3.305648</td>\n",
       "      <td>32.623723</td>\n",
       "      <td>1.649116</td>\n",
       "      <td>2.102127</td>\n",
       "      <td>...</td>\n",
       "      <td>0.0</td>\n",
       "      <td>0.0</td>\n",
       "      <td>0.0</td>\n",
       "      <td>0.0</td>\n",
       "      <td>0.000008</td>\n",
       "      <td>0.0</td>\n",
       "      <td>0.0</td>\n",
       "      <td>0.000065</td>\n",
       "      <td>NaN</td>\n",
       "      <td>2.689869</td>\n",
       "    </tr>\n",
       "    <tr>\n",
       "      <th>west</th>\n",
       "      <td>22.436789</td>\n",
       "      <td>10.308944</td>\n",
       "      <td>3.796618</td>\n",
       "      <td>8.227007</td>\n",
       "      <td>45.073380</td>\n",
       "      <td>1.171618</td>\n",
       "      <td>3.337705</td>\n",
       "      <td>32.307438</td>\n",
       "      <td>1.544090</td>\n",
       "      <td>2.019991</td>\n",
       "      <td>...</td>\n",
       "      <td>0.0</td>\n",
       "      <td>0.0</td>\n",
       "      <td>0.0</td>\n",
       "      <td>0.0</td>\n",
       "      <td>0.000008</td>\n",
       "      <td>0.0</td>\n",
       "      <td>0.0</td>\n",
       "      <td>0.000071</td>\n",
       "      <td>NaN</td>\n",
       "      <td>2.625000</td>\n",
       "    </tr>\n",
       "  </tbody>\n",
       "</table>\n",
       "<p>2 rows × 32 columns</p>\n",
       "</div>"
      ],
      "text/plain": [
       "                 MINS        PTS       FGM       FGA        FGP       PM3  \\\n",
       "Conference                                                                  \n",
       "east        23.177928  10.546499  3.862417  8.411117  44.789559  1.172549   \n",
       "west        22.436789  10.308944  3.796618  8.227007  45.073380  1.171618   \n",
       "\n",
       "                 PA3        P3P       FTM       FTA  ...  %PTS  %AST   %3  \\\n",
       "Conference                                           ...                    \n",
       "east        3.305648  32.623723  1.649116  2.102127  ...   0.0   0.0  0.0   \n",
       "west        3.337705  32.307438  1.544090  2.019991  ...   0.0   0.0  0.0   \n",
       "\n",
       "            %FG       %FT  %STL  %TOV      %BLK  FTR       PM2  \n",
       "Conference                                                      \n",
       "east        0.0  0.000008   0.0   0.0  0.000065  NaN  2.689869  \n",
       "west        0.0  0.000008   0.0   0.0  0.000071  NaN  2.625000  \n",
       "\n",
       "[2 rows x 32 columns]"
      ]
     },
     "execution_count": 155,
     "metadata": {},
     "output_type": "execute_result"
    }
   ],
   "source": [
    "conf_avg"
   ]
  },
  {
   "cell_type": "code",
   "execution_count": 18,
   "id": "faa7c5a3",
   "metadata": {},
   "outputs": [],
   "source": [
    "import seaborn as sns"
   ]
  },
  {
   "cell_type": "code",
   "execution_count": 23,
   "id": "f42dfd91",
   "metadata": {},
   "outputs": [
    {
     "data": {
      "image/png": "[encoded data removed]",
      "text/plain": [
       "<Figure size 1800x1440 with 1 Axes>"
      ]
     },
     "metadata": {},
     "output_type": "display_data"
    }
   ],
   "source": [
    "import matplotlib.pyplot as plt\n",
    "fig, ax = plt.subplots(figsize=(25,20))\n",
    "\n",
    "sns.set(font_scale=2)\n",
    "# ax.xlab('2 Point Shots Made')\n",
    "sns.scatterplot(data = det,x='PM2',y='PM3',size='AST',hue='eFG',hue_norm=(det['eFG'].min(),det['eFG'].max()),\n",
    "                ax=ax,sizes=(200,2000),size_norm=(det['AST'].min(),det['AST'].max()),\n",
    "                palette = 'Reds')#,legend=False)\n",
    "\n",
    "\n",
    "ax.legend(loc='upper left')\n",
    "ax.grid(False)\n",
    "a = 0\n",
    "pm3 = list(det.columns).index('PM3')\n",
    "pm2 = list(det.columns).index('PM2')\n",
    "for i in det.sort_values('PM2',ascending=False).iterrows():\n",
    "    if a < 10:\n",
    "        plt.text(i[1][pm2],i[1][pm3]+.05,det.sort_values('PM2',ascending=False).index[a])\n",
    "    else:\n",
    "        break\n",
    "    a+=1"
   ]
  },
  {
   "cell_type": "code",
   "execution_count": 103,
   "id": "de74bea9",
   "metadata": {},
   "outputs": [
    {
     "data": {
      "text/plain": [
       "Index(['Marvin Bagley III', 'Cade Cunningham', 'Jerami Grant',\n",
       "       'Hamidou Diallo', 'Isaiah Stewart', 'Saddiq Bey', 'Trey Lyles',\n",
       "       'Braxton Key', 'Kelly Olynyk', 'Killian Hayes'],\n",
       "      dtype='object', name='Name')"
      ]
     },
     "execution_count": 103,
     "metadata": {},
     "output_type": "execute_result"
    }
   ],
   "source": [
    "det.sort_values('PM2',ascending=False).head(10).index"
   ]
  },
  {
   "cell_type": "code",
   "execution_count": 44,
   "id": "2677e05a",
   "metadata": {},
   "outputs": [
    {
     "data": {
      "text/plain": [
       "MINS     28.300638\n",
       "PTS      15.270915\n",
       "FGM       5.291546\n",
       "FGA      11.508436\n",
       "FGP      45.105813\n",
       "PM3       1.650057\n",
       "PA3       4.644375\n",
       "P3P      32.997290\n",
       "FTM       3.037766\n",
       "FTA       3.833290\n",
       "FTP      78.338194\n",
       "OREB      1.041350\n",
       "DREB      3.954891\n",
       "REB       4.996241\n",
       "AST       3.214704\n",
       "TOV       1.665705\n",
       "STL       0.909520\n",
       "BLK       0.488767\n",
       "PF        2.151237\n",
       "eFG      52.539059\n",
       "%OREB     0.000000\n",
       "%DREB     0.000000\n",
       "%PTS      0.000000\n",
       "%AST      0.000000\n",
       "%3        0.000000\n",
       "%FG       0.000000\n",
       "%FT       0.000017\n",
       "%STL      0.000000\n",
       "%TOV      0.000000\n",
       "%BLK      0.000044\n",
       "FTR      40.590087\n",
       "PM2       3.641490\n",
       "dtype: float64"
      ]
     },
     "execution_count": 44,
     "metadata": {},
     "output_type": "execute_result"
    }
   ],
   "source": [
    "league_avg"
   ]
  },
  {
   "cell_type": "code",
   "execution_count": 72,
   "id": "a203f5ee",
   "metadata": {},
   "outputs": [],
   "source": [
    "from jupyter_dash import JupyterDash\n",
    "from dash import html\n",
    "from dash.dependencies import Input, Output\n",
    "import plotly.express as px\n",
    "import plotly.graph_objects as go\n",
    "from dash import dcc"
   ]
  },
  {
   "cell_type": "code",
   "execution_count": 147,
   "id": "c08c002b",
   "metadata": {},
   "outputs": [],
   "source": [
    "fig = px.scatter(y=\"PM3\", x=\"PM2\",color=\"eFG\",size = \"AST\",data_frame = det,color_continuous_scale='Reds')\n",
    "fig.update_layout(title =\"Average 3PM vs 2PM\", xaxis_title = \"2PM\",\n",
    "                  title_x = 0.5,yaxis_title = \"3PM\")#,grid=False)\n",
    "\n",
    "temp = det.sort_values('PM2',ascending=False)\n",
    "fig.update_traces(textposition='top center')\n",
    "\n",
    "fig.update_xaxes(showgrid=False)\n",
    "fig.update_yaxes(showgrid=False)\n",
    "\n",
    "fig.add_hline(league_avg['PM3'],annotation_text = 'League PM3 average',annotation_position='left top')\n",
    "fig.add_vline(league_avg['PM2'],annotation={'text':'League PM2 average'})\n",
    "\n",
    "\n",
    "for i in range(10):\n",
    "    fig.add_annotation(text=temp.index[i],x=temp.loc[temp.index[i],'PM2'],\n",
    "                       y=temp.loc[temp.index[i],'PM3'],showarrow=False)\n",
    "\n",
    "    # fig2 = px.histogram(don, x= \"Fantasy Points\",color = \"Name\",marginal = 'box',barmode='overlay',\n",
    "#                     histnorm=\"probability\")\n",
    "\n",
    "# fig3 = px.ecdf(don,x=\"Fantasy Points\",color=\"Name\")\n",
    "app = JupyterDash(__name__)\n",
    "# colours = {'text': '#7FDBFF', 'background':'#333333','radio_button':'#BBBBBB'} \n",
    "# text_size = {'H1':48,'H2':40,'text':28,'radio_button':20}\n",
    "\n",
    "app.layout = html.Div(className=\"p-heading\",\n",
    "                      children=[html.H1(children=\"Detroit Pistons scoring\"),\n",
    "                                html.Div(children=[dcc.Graph(figure = fig, id = 'graph')])#drpdwn('g1'), \n",
    "                                #html.Div(children=[dcc.Graph(figure = fig2, id = 'graph2')]),\n",
    "#         html.Div(children=[dcc.Graph(figure = fig3, id = 'graph3')])\n",
    "])\n",
    "\n",
    "# @app.callback(\n",
    "#     Output('graph','figure'),\n",
    "# #     Output('graph2','figure'),\n",
    "# #     Output('graph3','figure'),\n",
    "# #     Input('g1','value'))\n",
    "# def update_figure(selected):\n",
    "#     d = box_scores.loc[box_scores['Name'].isin(selected)]\n",
    "    \n",
    "#     fig = px.line(y=\"Rolling\", x=\"Game_day\",color=\"Name\",data_frame = d, markers=True,range_y=(0,100))\n",
    "    \n",
    "#     fig.update_layout(title =\"Fantasy points during current season\", xaxis_title = \"Game Day\",\n",
    "#                   title_x = 0.5,yaxis_title = \"4 game Rolling mean / Fantasy points\")\n",
    "    \n",
    "#     fig2 = px.histogram(d, x= \"Fantasy Points\",color = \"Name\",marginal = 'box',barmode='overlay',\n",
    "#                         histnorm=\"probability\")\n",
    "    \n",
    "#     fig3 = px.ecdf(d,x=\"Fantasy Points\",color=\"Name\")\n",
    "\n",
    "    \n",
    "#     return fig#,fig2,fig3"
   ]
  },
  {
   "cell_type": "code",
   "execution_count": 148,
   "id": "bc988a39",
   "metadata": {},
   "outputs": [
    {
     "name": "stderr",
     "output_type": "stream",
     "text": [
      "/home/blunt/.local/lib/python3.7/site-packages/jupyter_dash/jupyter_app.py:139: UserWarning:\n",
      "\n",
      "The 'environ['werkzeug.server.shutdown']' function is deprecated and will be removed in Werkzeug 2.1.\n",
      "\n"
     ]
    },
    {
     "name": "stdout",
     "output_type": "stream",
     "text": [
      "Dash app running on http://127.0.0.1:8050/\n"
     ]
    }
   ],
   "source": [
    "app.run_server(mode = \"external\")"
   ]
  },
  {
   "cell_type": "code",
   "execution_count": null,
   "id": "c0af9db2",
   "metadata": {},
   "outputs": [],
   "source": []
  }
 ],
 "metadata": {
  "kernelspec": {
   "display_name": "Python 3",
   "language": "python",
   "name": "python3"
  },
  "language_info": {
   "codemirror_mode": {
    "name": "ipython",
    "version": 3
   },
   "file_extension": ".py",
   "mimetype": "text/x-python",
   "name": "python",
   "nbconvert_exporter": "python",
   "pygments_lexer": "ipython3",
   "version": "3.7.3"
  }
 },
 "nbformat": 4,
 "nbformat_minor": 5
}
