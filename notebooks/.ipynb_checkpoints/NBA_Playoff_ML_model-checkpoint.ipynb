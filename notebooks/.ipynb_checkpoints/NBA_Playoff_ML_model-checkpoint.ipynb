{
 "cells": [
  {
   "cell_type": "markdown",
   "id": "1549a9be",
   "metadata": {},
   "source": [
    "This notebook is going to explore neural network models to predict whether a team makes the playoffs given a team's sequence of box scores."
   ]
  },
  {
   "cell_type": "code",
   "execution_count": 52,
   "id": "3ec91456",
   "metadata": {},
   "outputs": [],
   "source": [
    "import numpy as np\n",
    "import pandas as pd\n",
    "\n",
    "from playoff_model_helpers import *"
   ]
  },
  {
   "cell_type": "code",
   "execution_count": 212,
   "id": "7afc5a2c",
   "metadata": {},
   "outputs": [],
   "source": [
    "from sklearn.model_selection import train_test_split"
   ]
  },
  {
   "cell_type": "code",
   "execution_count": 223,
   "id": "08eb9b68",
   "metadata": {},
   "outputs": [],
   "source": [
    "df = import_data()"
   ]
  },
  {
   "cell_type": "code",
   "execution_count": 225,
   "id": "15653eba",
   "metadata": {},
   "outputs": [],
   "source": [
    "df = made_playoffs(df)"
   ]
  },
  {
   "cell_type": "code",
   "execution_count": 226,
   "id": "29b210ed",
   "metadata": {},
   "outputs": [],
   "source": [
    "df.sort_values(['Team','Game_day'],inplace=True)"
   ]
  },
  {
   "cell_type": "code",
   "execution_count": 227,
   "id": "128c820d",
   "metadata": {},
   "outputs": [],
   "source": [
    "df = include_home(df)"
   ]
  },
  {
   "cell_type": "code",
   "execution_count": 228,
   "id": "39429337",
   "metadata": {},
   "outputs": [],
   "source": [
    "df = include_conference(df)"
   ]
  },
  {
   "cell_type": "code",
   "execution_count": 229,
   "id": "9fdb398f",
   "metadata": {},
   "outputs": [],
   "source": [
    "df = add_new_features(df)"
   ]
  },
  {
   "cell_type": "code",
   "execution_count": 230,
   "id": "c92d4927",
   "metadata": {},
   "outputs": [],
   "source": [
    "df = clean(df)"
   ]
  },
  {
   "cell_type": "code",
   "execution_count": 231,
   "id": "26c2bbea",
   "metadata": {},
   "outputs": [
    {
     "data": {
      "text/html": [
       "<div>\n",
       "<style scoped>\n",
       "    .dataframe tbody tr th:only-of-type {\n",
       "        vertical-align: middle;\n",
       "    }\n",
       "\n",
       "    .dataframe tbody tr th {\n",
       "        vertical-align: top;\n",
       "    }\n",
       "\n",
       "    .dataframe thead th {\n",
       "        text-align: right;\n",
       "    }\n",
       "</style>\n",
       "<table border=\"1\" class=\"dataframe\">\n",
       "  <thead>\n",
       "    <tr style=\"text-align: right;\">\n",
       "      <th></th>\n",
       "      <th>Team</th>\n",
       "      <th>Game_ID</th>\n",
       "      <th>Matchup</th>\n",
       "      <th>Game_day</th>\n",
       "      <th>Result</th>\n",
       "      <th>MINS</th>\n",
       "      <th>PTS</th>\n",
       "      <th>FGM</th>\n",
       "      <th>FGA</th>\n",
       "      <th>FGP</th>\n",
       "      <th>...</th>\n",
       "      <th>PF</th>\n",
       "      <th>Playoffs</th>\n",
       "      <th>Home</th>\n",
       "      <th>Conference</th>\n",
       "      <th>Poss</th>\n",
       "      <th>PPP</th>\n",
       "      <th>OREB%</th>\n",
       "      <th>ATR</th>\n",
       "      <th>FTR</th>\n",
       "      <th>eFG</th>\n",
       "    </tr>\n",
       "  </thead>\n",
       "  <tbody>\n",
       "    <tr>\n",
       "      <th>81</th>\n",
       "      <td>ATL</td>\n",
       "      <td>0028900002</td>\n",
       "      <td>ATL vs. IND</td>\n",
       "      <td>1989-11-03</td>\n",
       "      <td>L</td>\n",
       "      <td>240</td>\n",
       "      <td>103</td>\n",
       "      <td>42</td>\n",
       "      <td>94</td>\n",
       "      <td>44.7</td>\n",
       "      <td>...</td>\n",
       "      <td>29</td>\n",
       "      <td>0</td>\n",
       "      <td>1</td>\n",
       "      <td>East</td>\n",
       "      <td>113.72</td>\n",
       "      <td>0.905733</td>\n",
       "      <td>0.403846</td>\n",
       "      <td>0.888889</td>\n",
       "      <td>0.404255</td>\n",
       "      <td>45.212766</td>\n",
       "    </tr>\n",
       "    <tr>\n",
       "      <th>80</th>\n",
       "      <td>ATL</td>\n",
       "      <td>0028900025</td>\n",
       "      <td>ATL vs. WAS</td>\n",
       "      <td>1989-11-07</td>\n",
       "      <td>L</td>\n",
       "      <td>240</td>\n",
       "      <td>114</td>\n",
       "      <td>45</td>\n",
       "      <td>92</td>\n",
       "      <td>48.9</td>\n",
       "      <td>...</td>\n",
       "      <td>24</td>\n",
       "      <td>0</td>\n",
       "      <td>1</td>\n",
       "      <td>East</td>\n",
       "      <td>109.52</td>\n",
       "      <td>1.040906</td>\n",
       "      <td>0.340426</td>\n",
       "      <td>1.230769</td>\n",
       "      <td>0.358696</td>\n",
       "      <td>48.913043</td>\n",
       "    </tr>\n",
       "    <tr>\n",
       "      <th>79</th>\n",
       "      <td>ATL</td>\n",
       "      <td>0028900054</td>\n",
       "      <td>ATL @ BOS</td>\n",
       "      <td>1989-11-10</td>\n",
       "      <td>L</td>\n",
       "      <td>240</td>\n",
       "      <td>106</td>\n",
       "      <td>40</td>\n",
       "      <td>86</td>\n",
       "      <td>46.5</td>\n",
       "      <td>...</td>\n",
       "      <td>26</td>\n",
       "      <td>0</td>\n",
       "      <td>0</td>\n",
       "      <td>East</td>\n",
       "      <td>101.72</td>\n",
       "      <td>1.042076</td>\n",
       "      <td>0.195652</td>\n",
       "      <td>2.000000</td>\n",
       "      <td>0.441860</td>\n",
       "      <td>46.511628</td>\n",
       "    </tr>\n",
       "    <tr>\n",
       "      <th>78</th>\n",
       "      <td>ATL</td>\n",
       "      <td>0028900064</td>\n",
       "      <td>ATL vs. ORL</td>\n",
       "      <td>1989-11-11</td>\n",
       "      <td>W</td>\n",
       "      <td>240</td>\n",
       "      <td>148</td>\n",
       "      <td>58</td>\n",
       "      <td>95</td>\n",
       "      <td>61.1</td>\n",
       "      <td>...</td>\n",
       "      <td>28</td>\n",
       "      <td>0</td>\n",
       "      <td>1</td>\n",
       "      <td>East</td>\n",
       "      <td>109.04</td>\n",
       "      <td>1.357300</td>\n",
       "      <td>0.324324</td>\n",
       "      <td>2.500000</td>\n",
       "      <td>0.431579</td>\n",
       "      <td>62.105263</td>\n",
       "    </tr>\n",
       "    <tr>\n",
       "      <th>77</th>\n",
       "      <td>ATL</td>\n",
       "      <td>0028900070</td>\n",
       "      <td>ATL @ ORL</td>\n",
       "      <td>1989-11-13</td>\n",
       "      <td>W</td>\n",
       "      <td>240</td>\n",
       "      <td>112</td>\n",
       "      <td>42</td>\n",
       "      <td>92</td>\n",
       "      <td>45.7</td>\n",
       "      <td>...</td>\n",
       "      <td>32</td>\n",
       "      <td>0</td>\n",
       "      <td>0</td>\n",
       "      <td>East</td>\n",
       "      <td>109.84</td>\n",
       "      <td>1.019665</td>\n",
       "      <td>0.380000</td>\n",
       "      <td>1.235294</td>\n",
       "      <td>0.391304</td>\n",
       "      <td>45.652174</td>\n",
       "    </tr>\n",
       "  </tbody>\n",
       "</table>\n",
       "<p>5 rows × 33 columns</p>\n",
       "</div>"
      ],
      "text/plain": [
       "   Team     Game_ID      Matchup   Game_day Result  MINS  PTS  FGM  FGA   FGP  \\\n",
       "81  ATL  0028900002  ATL vs. IND 1989-11-03      L   240  103   42   94  44.7   \n",
       "80  ATL  0028900025  ATL vs. WAS 1989-11-07      L   240  114   45   92  48.9   \n",
       "79  ATL  0028900054    ATL @ BOS 1989-11-10      L   240  106   40   86  46.5   \n",
       "78  ATL  0028900064  ATL vs. ORL 1989-11-11      W   240  148   58   95  61.1   \n",
       "77  ATL  0028900070    ATL @ ORL 1989-11-13      W   240  112   42   92  45.7   \n",
       "\n",
       "    ...  PF  Playoffs  Home  Conference    Poss       PPP     OREB%       ATR  \\\n",
       "81  ...  29         0     1        East  113.72  0.905733  0.403846  0.888889   \n",
       "80  ...  24         0     1        East  109.52  1.040906  0.340426  1.230769   \n",
       "79  ...  26         0     0        East  101.72  1.042076  0.195652  2.000000   \n",
       "78  ...  28         0     1        East  109.04  1.357300  0.324324  2.500000   \n",
       "77  ...  32         0     0        East  109.84  1.019665  0.380000  1.235294   \n",
       "\n",
       "         FTR        eFG  \n",
       "81  0.404255  45.212766  \n",
       "80  0.358696  48.913043  \n",
       "79  0.441860  46.511628  \n",
       "78  0.431579  62.105263  \n",
       "77  0.391304  45.652174  \n",
       "\n",
       "[5 rows x 33 columns]"
      ]
     },
     "execution_count": 231,
     "metadata": {},
     "output_type": "execute_result"
    }
   ],
   "source": [
    "df.head()"
   ]
  },
  {
   "cell_type": "code",
   "execution_count": 232,
   "id": "4babbc8d",
   "metadata": {},
   "outputs": [],
   "source": [
    "df['Season_ID'] = df['Game_ID'].str.slice(0,5)"
   ]
  },
  {
   "cell_type": "code",
   "execution_count": 233,
   "id": "790eb671",
   "metadata": {},
   "outputs": [
    {
     "data": {
      "text/plain": [
       "array(['ATL', 'BKN', 'BOS', 'CHA', 'CHI', 'CLE', 'DAL', 'DEN', 'DET',\n",
       "       'GSW', 'HOU', 'IND', 'LAC', 'LAL', 'MEM', 'MIA', 'MIL', 'MIN',\n",
       "       'NOP', 'NYK', 'OKC', 'ORL', 'PHI', 'PHX', 'POR', 'SAC', 'SAS',\n",
       "       'TOR', 'UTA', 'WAS'], dtype=object)"
      ]
     },
     "execution_count": 233,
     "metadata": {},
     "output_type": "execute_result"
    }
   ],
   "source": [
    "df['Team'].unique()"
   ]
  },
  {
   "cell_type": "code",
   "execution_count": 235,
   "id": "53bb46b1",
   "metadata": {},
   "outputs": [],
   "source": [
    "df.drop(inplace=True,columns=['Game_ID','MINS','Matchup'])"
   ]
  },
  {
   "cell_type": "code",
   "execution_count": null,
   "id": "3f16d7a0",
   "metadata": {},
   "outputs": [],
   "source": [
    "class DataIterator(torch.utils.data.IterableDataset):\n",
    "    def __init__(self,start,end,df,idxs):\n",
    "        self.start = start\n",
    "        self.end = end\n",
    "        self.df = df\n",
    "        self.idxs = idxs\n",
    "        \n",
    "    def __iter__(self):\n",
    "        workers = torch.utils.data.get_worker_info()\n",
    "\n",
    "        if workers is None:\n",
    "            start = self.start\n",
    "            end = self.end\n",
    "        else:\n",
    "            each_worker = int(ceil((sef.end - self.start)/float(workers.num_workers)))\n",
    "            pid = workers.id\n",
    "\n",
    "            start = self.start + pid*each_worker\n",
    "            end = min(start + each_worker,self.end)\n",
    "\n",
    "        return team_and_season_generator(self.df,idxs[start:end])\n",
    "\n",
    "    @staticmethod\n",
    "    def team_and_season_generator(df,idxs):\n",
    "        for t,s in idxs:\n",
    "            yield df[(df['Team']==t) & (df['Season_ID']==s)] "
   ]
  },
  {
   "cell_type": "code",
   "execution_count": 236,
   "id": "e4f78bdf",
   "metadata": {},
   "outputs": [],
   "source": [
    "def create_indices(df):\n",
    "    teams = df['Team'].unique()\n",
    "    seasons = df['Season_ID'].unique()\n",
    "    combs = []\n",
    "    for t in teams:\n",
    "        for s in seasons:\n",
    "            combs.append((t,s))\n",
    "            \n",
    "    return combs"
   ]
  },
  {
   "cell_type": "code",
   "execution_count": 169,
   "id": "7cfd91b7",
   "metadata": {},
   "outputs": [],
   "source": [
    "def team_and_season_generator(df,idxs):\n",
    "    for t,s in idxs:\n",
    "        yield df[(df['Team']==t) & (df['Season_ID']==s)]\n",
    "#     for t in teams:\n",
    "#         for s in seasons:\n",
    "#             yield df[(df['Team']==t) & (df['Season_ID']==s)]"
   ]
  },
  {
   "cell_type": "code",
   "execution_count": 171,
   "id": "1b3bd9bb",
   "metadata": {},
   "outputs": [],
   "source": [
    "def window_data(df,window = 5):\n",
    "    a = df.iloc[0:window].values\n",
    "    a = a.reshape((a.shape[0],a.shape[1],1))\n",
    "    \n",
    "    for i in range(1,len(df)-window):\n",
    "        b = df.iloc[i:i+window].values\n",
    "        b = np.expand_dims(b,2)\n",
    "        a = np.append(a,b,axis=2)\n",
    "        \n",
    "    return a"
   ]
  },
  {
   "cell_type": "code",
   "execution_count": 180,
   "id": "acb965eb",
   "metadata": {},
   "outputs": [],
   "source": [
    "def create_sequence(df, idxs):\n",
    "    for d in team_and_season_generator(df,idxs):\n",
    "        yield d"
   ]
  },
  {
   "cell_type": "code",
   "execution_count": 210,
   "id": "9da32d21",
   "metadata": {},
   "outputs": [],
   "source": [
    "idxs = create_indices(df)"
   ]
  },
  {
   "cell_type": "code",
   "execution_count": 213,
   "id": "b3dcecff",
   "metadata": {},
   "outputs": [],
   "source": [
    "train, test = split_train_test(idxs)"
   ]
  },
  {
   "cell_type": "code",
   "execution_count": null,
   "id": "e3992742",
   "metadata": {},
   "outputs": [],
   "source": []
  },
  {
   "cell_type": "code",
   "execution_count": 216,
   "id": "6e93d7a7",
   "metadata": {},
   "outputs": [
    {
     "data": {
      "text/html": [
       "<div>\n",
       "<style scoped>\n",
       "    .dataframe tbody tr th:only-of-type {\n",
       "        vertical-align: middle;\n",
       "    }\n",
       "\n",
       "    .dataframe tbody tr th {\n",
       "        vertical-align: top;\n",
       "    }\n",
       "\n",
       "    .dataframe thead th {\n",
       "        text-align: right;\n",
       "    }\n",
       "</style>\n",
       "<table border=\"1\" class=\"dataframe\">\n",
       "  <thead>\n",
       "    <tr style=\"text-align: right;\">\n",
       "      <th></th>\n",
       "      <th>Team</th>\n",
       "      <th>Game_day</th>\n",
       "      <th>Result</th>\n",
       "      <th>PTS</th>\n",
       "      <th>FGM</th>\n",
       "      <th>FGA</th>\n",
       "      <th>FGP</th>\n",
       "      <th>PM3</th>\n",
       "      <th>PA3</th>\n",
       "      <th>P3P</th>\n",
       "      <th>...</th>\n",
       "      <th>Playoffs</th>\n",
       "      <th>Home</th>\n",
       "      <th>Conference</th>\n",
       "      <th>Poss</th>\n",
       "      <th>PPP</th>\n",
       "      <th>OREB%</th>\n",
       "      <th>ATR</th>\n",
       "      <th>FTR</th>\n",
       "      <th>eFG</th>\n",
       "      <th>Season_ID</th>\n",
       "    </tr>\n",
       "  </thead>\n",
       "  <tbody>\n",
       "    <tr>\n",
       "      <th>81</th>\n",
       "      <td>ATL</td>\n",
       "      <td>1989-11-03</td>\n",
       "      <td>L</td>\n",
       "      <td>103</td>\n",
       "      <td>42</td>\n",
       "      <td>94</td>\n",
       "      <td>44.7</td>\n",
       "      <td>1</td>\n",
       "      <td>6</td>\n",
       "      <td>16.7</td>\n",
       "      <td>...</td>\n",
       "      <td>0</td>\n",
       "      <td>1</td>\n",
       "      <td>East</td>\n",
       "      <td>113.72</td>\n",
       "      <td>0.905733</td>\n",
       "      <td>0.403846</td>\n",
       "      <td>0.888889</td>\n",
       "      <td>0.404255</td>\n",
       "      <td>45.212766</td>\n",
       "      <td>00289</td>\n",
       "    </tr>\n",
       "    <tr>\n",
       "      <th>80</th>\n",
       "      <td>ATL</td>\n",
       "      <td>1989-11-07</td>\n",
       "      <td>L</td>\n",
       "      <td>114</td>\n",
       "      <td>45</td>\n",
       "      <td>92</td>\n",
       "      <td>48.9</td>\n",
       "      <td>0</td>\n",
       "      <td>0</td>\n",
       "      <td>0.0</td>\n",
       "      <td>...</td>\n",
       "      <td>0</td>\n",
       "      <td>1</td>\n",
       "      <td>East</td>\n",
       "      <td>109.52</td>\n",
       "      <td>1.040906</td>\n",
       "      <td>0.340426</td>\n",
       "      <td>1.230769</td>\n",
       "      <td>0.358696</td>\n",
       "      <td>48.913043</td>\n",
       "      <td>00289</td>\n",
       "    </tr>\n",
       "    <tr>\n",
       "      <th>79</th>\n",
       "      <td>ATL</td>\n",
       "      <td>1989-11-10</td>\n",
       "      <td>L</td>\n",
       "      <td>106</td>\n",
       "      <td>40</td>\n",
       "      <td>86</td>\n",
       "      <td>46.5</td>\n",
       "      <td>0</td>\n",
       "      <td>8</td>\n",
       "      <td>0.0</td>\n",
       "      <td>...</td>\n",
       "      <td>0</td>\n",
       "      <td>0</td>\n",
       "      <td>East</td>\n",
       "      <td>101.72</td>\n",
       "      <td>1.042076</td>\n",
       "      <td>0.195652</td>\n",
       "      <td>2.000000</td>\n",
       "      <td>0.441860</td>\n",
       "      <td>46.511628</td>\n",
       "      <td>00289</td>\n",
       "    </tr>\n",
       "    <tr>\n",
       "      <th>78</th>\n",
       "      <td>ATL</td>\n",
       "      <td>1989-11-11</td>\n",
       "      <td>W</td>\n",
       "      <td>148</td>\n",
       "      <td>58</td>\n",
       "      <td>95</td>\n",
       "      <td>61.1</td>\n",
       "      <td>2</td>\n",
       "      <td>4</td>\n",
       "      <td>50.0</td>\n",
       "      <td>...</td>\n",
       "      <td>0</td>\n",
       "      <td>1</td>\n",
       "      <td>East</td>\n",
       "      <td>109.04</td>\n",
       "      <td>1.357300</td>\n",
       "      <td>0.324324</td>\n",
       "      <td>2.500000</td>\n",
       "      <td>0.431579</td>\n",
       "      <td>62.105263</td>\n",
       "      <td>00289</td>\n",
       "    </tr>\n",
       "    <tr>\n",
       "      <th>77</th>\n",
       "      <td>ATL</td>\n",
       "      <td>1989-11-13</td>\n",
       "      <td>W</td>\n",
       "      <td>112</td>\n",
       "      <td>42</td>\n",
       "      <td>92</td>\n",
       "      <td>45.7</td>\n",
       "      <td>0</td>\n",
       "      <td>3</td>\n",
       "      <td>0.0</td>\n",
       "      <td>...</td>\n",
       "      <td>0</td>\n",
       "      <td>0</td>\n",
       "      <td>East</td>\n",
       "      <td>109.84</td>\n",
       "      <td>1.019665</td>\n",
       "      <td>0.380000</td>\n",
       "      <td>1.235294</td>\n",
       "      <td>0.391304</td>\n",
       "      <td>45.652174</td>\n",
       "      <td>00289</td>\n",
       "    </tr>\n",
       "    <tr>\n",
       "      <th>...</th>\n",
       "      <td>...</td>\n",
       "      <td>...</td>\n",
       "      <td>...</td>\n",
       "      <td>...</td>\n",
       "      <td>...</td>\n",
       "      <td>...</td>\n",
       "      <td>...</td>\n",
       "      <td>...</td>\n",
       "      <td>...</td>\n",
       "      <td>...</td>\n",
       "      <td>...</td>\n",
       "      <td>...</td>\n",
       "      <td>...</td>\n",
       "      <td>...</td>\n",
       "      <td>...</td>\n",
       "      <td>...</td>\n",
       "      <td>...</td>\n",
       "      <td>...</td>\n",
       "      <td>...</td>\n",
       "      <td>...</td>\n",
       "      <td>...</td>\n",
       "    </tr>\n",
       "    <tr>\n",
       "      <th>74157</th>\n",
       "      <td>WAS</td>\n",
       "      <td>2021-05-08</td>\n",
       "      <td>W</td>\n",
       "      <td>133</td>\n",
       "      <td>49</td>\n",
       "      <td>110</td>\n",
       "      <td>44.5</td>\n",
       "      <td>9</td>\n",
       "      <td>32</td>\n",
       "      <td>28.1</td>\n",
       "      <td>...</td>\n",
       "      <td>1</td>\n",
       "      <td>0</td>\n",
       "      <td>East</td>\n",
       "      <td>120.20</td>\n",
       "      <td>1.106489</td>\n",
       "      <td>0.245902</td>\n",
       "      <td>1.444444</td>\n",
       "      <td>0.272727</td>\n",
       "      <td>48.636364</td>\n",
       "      <td>00220</td>\n",
       "    </tr>\n",
       "    <tr>\n",
       "      <th>74156</th>\n",
       "      <td>WAS</td>\n",
       "      <td>2021-05-10</td>\n",
       "      <td>L</td>\n",
       "      <td>124</td>\n",
       "      <td>51</td>\n",
       "      <td>100</td>\n",
       "      <td>51.0</td>\n",
       "      <td>13</td>\n",
       "      <td>26</td>\n",
       "      <td>50.0</td>\n",
       "      <td>...</td>\n",
       "      <td>1</td>\n",
       "      <td>0</td>\n",
       "      <td>East</td>\n",
       "      <td>103.84</td>\n",
       "      <td>1.194145</td>\n",
       "      <td>0.163265</td>\n",
       "      <td>3.111111</td>\n",
       "      <td>0.110000</td>\n",
       "      <td>57.500000</td>\n",
       "      <td>00220</td>\n",
       "    </tr>\n",
       "    <tr>\n",
       "      <th>74155</th>\n",
       "      <td>WAS</td>\n",
       "      <td>2021-05-12</td>\n",
       "      <td>L</td>\n",
       "      <td>116</td>\n",
       "      <td>45</td>\n",
       "      <td>101</td>\n",
       "      <td>44.6</td>\n",
       "      <td>10</td>\n",
       "      <td>29</td>\n",
       "      <td>34.5</td>\n",
       "      <td>...</td>\n",
       "      <td>1</td>\n",
       "      <td>0</td>\n",
       "      <td>East</td>\n",
       "      <td>111.36</td>\n",
       "      <td>1.041667</td>\n",
       "      <td>0.160714</td>\n",
       "      <td>4.142857</td>\n",
       "      <td>0.188119</td>\n",
       "      <td>49.504950</td>\n",
       "      <td>00220</td>\n",
       "    </tr>\n",
       "    <tr>\n",
       "      <th>74154</th>\n",
       "      <td>WAS</td>\n",
       "      <td>2021-05-14</td>\n",
       "      <td>W</td>\n",
       "      <td>120</td>\n",
       "      <td>41</td>\n",
       "      <td>89</td>\n",
       "      <td>46.1</td>\n",
       "      <td>7</td>\n",
       "      <td>25</td>\n",
       "      <td>28.0</td>\n",
       "      <td>...</td>\n",
       "      <td>1</td>\n",
       "      <td>1</td>\n",
       "      <td>East</td>\n",
       "      <td>106.28</td>\n",
       "      <td>1.129093</td>\n",
       "      <td>0.250000</td>\n",
       "      <td>2.090909</td>\n",
       "      <td>0.415730</td>\n",
       "      <td>50.000000</td>\n",
       "      <td>00220</td>\n",
       "    </tr>\n",
       "    <tr>\n",
       "      <th>74153</th>\n",
       "      <td>WAS</td>\n",
       "      <td>2021-05-16</td>\n",
       "      <td>W</td>\n",
       "      <td>115</td>\n",
       "      <td>44</td>\n",
       "      <td>91</td>\n",
       "      <td>48.4</td>\n",
       "      <td>10</td>\n",
       "      <td>31</td>\n",
       "      <td>32.3</td>\n",
       "      <td>...</td>\n",
       "      <td>1</td>\n",
       "      <td>1</td>\n",
       "      <td>East</td>\n",
       "      <td>96.24</td>\n",
       "      <td>1.194929</td>\n",
       "      <td>0.212766</td>\n",
       "      <td>1.571429</td>\n",
       "      <td>0.230769</td>\n",
       "      <td>53.846154</td>\n",
       "      <td>00220</td>\n",
       "    </tr>\n",
       "  </tbody>\n",
       "</table>\n",
       "<p>74454 rows × 31 columns</p>\n",
       "</div>"
      ],
      "text/plain": [
       "      Team   Game_day Result  PTS  FGM  FGA   FGP  PM3  PA3   P3P  ...  \\\n",
       "81     ATL 1989-11-03      L  103   42   94  44.7    1    6  16.7  ...   \n",
       "80     ATL 1989-11-07      L  114   45   92  48.9    0    0   0.0  ...   \n",
       "79     ATL 1989-11-10      L  106   40   86  46.5    0    8   0.0  ...   \n",
       "78     ATL 1989-11-11      W  148   58   95  61.1    2    4  50.0  ...   \n",
       "77     ATL 1989-11-13      W  112   42   92  45.7    0    3   0.0  ...   \n",
       "...    ...        ...    ...  ...  ...  ...   ...  ...  ...   ...  ...   \n",
       "74157  WAS 2021-05-08      W  133   49  110  44.5    9   32  28.1  ...   \n",
       "74156  WAS 2021-05-10      L  124   51  100  51.0   13   26  50.0  ...   \n",
       "74155  WAS 2021-05-12      L  116   45  101  44.6   10   29  34.5  ...   \n",
       "74154  WAS 2021-05-14      W  120   41   89  46.1    7   25  28.0  ...   \n",
       "74153  WAS 2021-05-16      W  115   44   91  48.4   10   31  32.3  ...   \n",
       "\n",
       "       Playoffs  Home  Conference    Poss       PPP     OREB%       ATR  \\\n",
       "81            0     1        East  113.72  0.905733  0.403846  0.888889   \n",
       "80            0     1        East  109.52  1.040906  0.340426  1.230769   \n",
       "79            0     0        East  101.72  1.042076  0.195652  2.000000   \n",
       "78            0     1        East  109.04  1.357300  0.324324  2.500000   \n",
       "77            0     0        East  109.84  1.019665  0.380000  1.235294   \n",
       "...         ...   ...         ...     ...       ...       ...       ...   \n",
       "74157         1     0        East  120.20  1.106489  0.245902  1.444444   \n",
       "74156         1     0        East  103.84  1.194145  0.163265  3.111111   \n",
       "74155         1     0        East  111.36  1.041667  0.160714  4.142857   \n",
       "74154         1     1        East  106.28  1.129093  0.250000  2.090909   \n",
       "74153         1     1        East   96.24  1.194929  0.212766  1.571429   \n",
       "\n",
       "            FTR        eFG  Season_ID  \n",
       "81     0.404255  45.212766      00289  \n",
       "80     0.358696  48.913043      00289  \n",
       "79     0.441860  46.511628      00289  \n",
       "78     0.431579  62.105263      00289  \n",
       "77     0.391304  45.652174      00289  \n",
       "...         ...        ...        ...  \n",
       "74157  0.272727  48.636364      00220  \n",
       "74156  0.110000  57.500000      00220  \n",
       "74155  0.188119  49.504950      00220  \n",
       "74154  0.415730  50.000000      00220  \n",
       "74153  0.230769  53.846154      00220  \n",
       "\n",
       "[74454 rows x 31 columns]"
      ]
     },
     "execution_count": 216,
     "metadata": {},
     "output_type": "execute_result"
    }
   ],
   "source": [
    "df"
   ]
  },
  {
   "cell_type": "code",
   "execution_count": 184,
   "id": "84264076",
   "metadata": {},
   "outputs": [],
   "source": [
    "d = df[(df['Team']=='DET')]"
   ]
  },
  {
   "cell_type": "code",
   "execution_count": 202,
   "id": "72383d20",
   "metadata": {},
   "outputs": [],
   "source": [
    "start = time.ctime()\n",
    "for g in create_sequence(df):\n",
    "    gen = g\n",
    "end = time.ctime()"
   ]
  },
  {
   "cell_type": "code",
   "execution_count": 203,
   "id": "fe834b09",
   "metadata": {},
   "outputs": [
    {
     "data": {
      "text/plain": [
       "'Thu Apr 14 21:24:37 2022'"
      ]
     },
     "execution_count": 203,
     "metadata": {},
     "output_type": "execute_result"
    }
   ],
   "source": [
    "start"
   ]
  },
  {
   "cell_type": "code",
   "execution_count": 204,
   "id": "36fdb7de",
   "metadata": {},
   "outputs": [
    {
     "data": {
      "text/plain": [
       "'Thu Apr 14 21:26:22 2022'"
      ]
     },
     "execution_count": 204,
     "metadata": {},
     "output_type": "execute_result"
    }
   ],
   "source": [
    "end"
   ]
  },
  {
   "cell_type": "code",
   "execution_count": 207,
   "id": "fe024b9e",
   "metadata": {},
   "outputs": [
    {
     "data": {
      "text/plain": [
       "array([['WAS', 'WAS', 'WAS', ..., 'WAS', 'WAS', 'WAS'],\n",
       "       [Timestamp('2020-12-31 00:00:00'),\n",
       "        Timestamp('2021-01-01 00:00:00'),\n",
       "        Timestamp('2021-01-03 00:00:00'), ...,\n",
       "        Timestamp('2021-05-10 00:00:00'),\n",
       "        Timestamp('2021-05-12 00:00:00'),\n",
       "        Timestamp('2021-05-14 00:00:00')],\n",
       "       ['L', 'W', 'W', ..., 'L', 'L', 'W'],\n",
       "       ...,\n",
       "       [0.4880952380952381, 0.23595505617977527, 0.3269230769230769, ...,\n",
       "        0.11, 0.18811881188118812, 0.4157303370786517],\n",
       "       [58.333333333333336, 64.04494382022472, 47.11538461538461, ...,\n",
       "        57.5, 49.504950495049506, 50.0],\n",
       "       ['00220', '00220', '00220', ..., '00220', '00220', '00220']],\n",
       "      dtype=object)"
      ]
     },
     "execution_count": 207,
     "metadata": {},
     "output_type": "execute_result"
    }
   ],
   "source": [
    "gen[:,:]"
   ]
  },
  {
   "cell_type": "code",
   "execution_count": 199,
   "id": "c2acc3aa",
   "metadata": {},
   "outputs": [],
   "source": [
    "import time"
   ]
  },
  {
   "cell_type": "code",
   "execution_count": null,
   "id": "a065bca3",
   "metadata": {},
   "outputs": [],
   "source": [
    "window = 5\n",
    "\n",
    "a = det_90.iloc[0:window].values\n",
    "a = a.reshape((a.shape[0],a.shape[1],1))\n",
    "for i in range(1,len(det_90)-window):\n",
    "    b = det_90.iloc[i:i+window].values\n",
    "    b = np.expand_dims(b,2)\n",
    "    a = np.append(a,b,axis=2)"
   ]
  },
  {
   "cell_type": "code",
   "execution_count": null,
   "id": "3aa58d4b",
   "metadata": {},
   "outputs": [],
   "source": [
    "a[:,:,1]"
   ]
  },
  {
   "cell_type": "code",
   "execution_count": null,
   "id": "c6cf81fd",
   "metadata": {},
   "outputs": [],
   "source": [
    "##### a[:,:,1]"
   ]
  },
  {
   "cell_type": "code",
   "execution_count": 147,
   "id": "d00bb103",
   "metadata": {},
   "outputs": [],
   "source": [
    "idxs = np.arange(a.shape[2])"
   ]
  },
  {
   "cell_type": "code",
   "execution_count": 198,
   "id": "d10242b6",
   "metadata": {},
   "outputs": [],
   "source": [
    "%timeit\n",
    "np.random.shuffle(idxs)"
   ]
  },
  {
   "cell_type": "code",
   "execution_count": 157,
   "id": "172c07af",
   "metadata": {},
   "outputs": [
    {
     "data": {
      "text/plain": [
       "62"
      ]
     },
     "execution_count": 157,
     "metadata": {},
     "output_type": "execute_result"
    }
   ],
   "source": [
    "trains"
   ]
  },
  {
   "cell_type": "code",
   "execution_count": 165,
   "id": "c5d0a7be",
   "metadata": {},
   "outputs": [],
   "source": [
    "test = idxs[int(len(idxs)*.2)]\n",
    "trains = idxs[0:round(len(idxs)*.8)]\n",
    "test = idxs[len(trains):len(idxs)]"
   ]
  },
  {
   "cell_type": "code",
   "execution_count": 166,
   "id": "e4fe748a",
   "metadata": {},
   "outputs": [],
   "source": [
    "train = a[:,:,trains]"
   ]
  },
  {
   "cell_type": "code",
   "execution_count": 167,
   "id": "169f4ec5",
   "metadata": {},
   "outputs": [],
   "source": [
    "test = a[:,:,test]"
   ]
  },
  {
   "cell_type": "code",
   "execution_count": 168,
   "id": "850e4a81",
   "metadata": {},
   "outputs": [
    {
     "data": {
      "text/plain": [
       "(5, 31, 15)"
      ]
     },
     "execution_count": 168,
     "metadata": {},
     "output_type": "execute_result"
    }
   ],
   "source": [
    "test.shape"
   ]
  },
  {
   "cell_type": "code",
   "execution_count": 136,
   "id": "fcb13b16",
   "metadata": {},
   "outputs": [],
   "source": [
    "train, test = train_test_split(a)"
   ]
  },
  {
   "cell_type": "code",
   "execution_count": 137,
   "id": "c7d9f7aa",
   "metadata": {},
   "outputs": [
    {
     "data": {
      "text/plain": [
       "(3, 31, 77)"
      ]
     },
     "execution_count": 137,
     "metadata": {},
     "output_type": "execute_result"
    }
   ],
   "source": [
    "train.shape"
   ]
  },
  {
   "cell_type": "code",
   "execution_count": 33,
   "id": "69725f0e",
   "metadata": {},
   "outputs": [],
   "source": [
    "eg = df.head()\n",
    "# .values.reshape((-1,24,5))"
   ]
  },
  {
   "cell_type": "code",
   "execution_count": 34,
   "id": "461ff009",
   "metadata": {},
   "outputs": [],
   "source": [
    "eg = eg.values.reshape((5,24,1))"
   ]
  },
  {
   "cell_type": "code",
   "execution_count": 42,
   "id": "f8149a22",
   "metadata": {},
   "outputs": [],
   "source": [
    "eg = np.append(eg,df.tail().values.reshape((5,24,1)),2)"
   ]
  },
  {
   "cell_type": "code",
   "execution_count": 3,
   "id": "2e12be7a",
   "metadata": {},
   "outputs": [],
   "source": []
  },
  {
   "cell_type": "code",
   "execution_count": 190,
   "id": "2ffc5044",
   "metadata": {},
   "outputs": [
    {
     "data": {
      "text/plain": [
       "array([[['DET', 'DET', 'DET', ..., 'DET', 'DET', 'DET'],\n",
       "        [Timestamp('1990-11-02 00:00:00'),\n",
       "         Timestamp('1990-11-03 00:00:00'),\n",
       "         Timestamp('1990-11-06 00:00:00'), ...,\n",
       "         Timestamp('1991-04-06 00:00:00'),\n",
       "         Timestamp('1991-04-09 00:00:00'),\n",
       "         Timestamp('1991-04-10 00:00:00')],\n",
       "        ['W', 'W', 'L', ..., 'L', 'L', 'L'],\n",
       "        ...,\n",
       "        [0.4819277108433735, 0.19318181818181818, 0.4246575342465753,\n",
       "         ..., 0.17391304347826086, 0.27848101265822783,\n",
       "         0.30864197530864196],\n",
       "        [50.0, 52.27272727272727, 44.52054794520548, ...,\n",
       "         41.30434782608695, 50.0, 43.20987654320987],\n",
       "        ['00290', '00290', '00290', ..., '00290', '00290', '00290']],\n",
       "\n",
       "       [['DET', 'DET', 'DET', ..., 'DET', 'DET', 'DET'],\n",
       "        [Timestamp('1990-11-03 00:00:00'),\n",
       "         Timestamp('1990-11-06 00:00:00'),\n",
       "         Timestamp('1990-11-07 00:00:00'), ...,\n",
       "         Timestamp('1991-04-09 00:00:00'),\n",
       "         Timestamp('1991-04-10 00:00:00'),\n",
       "         Timestamp('1991-04-12 00:00:00')],\n",
       "        ['W', 'L', 'W', ..., 'L', 'L', 'W'],\n",
       "        ...,\n",
       "        [0.19318181818181818, 0.4246575342465753, 0.43529411764705883,\n",
       "         ..., 0.27848101265822783, 0.30864197530864196,\n",
       "         0.31645569620253167],\n",
       "        [52.27272727272727, 44.52054794520548, 47.64705882352941, ...,\n",
       "         50.0, 43.20987654320987, 45.56962025316456],\n",
       "        ['00290', '00290', '00290', ..., '00290', '00290', '00290']],\n",
       "\n",
       "       [['DET', 'DET', 'DET', ..., 'DET', 'DET', 'DET'],\n",
       "        [Timestamp('1990-11-06 00:00:00'),\n",
       "         Timestamp('1990-11-07 00:00:00'),\n",
       "         Timestamp('1990-11-09 00:00:00'), ...,\n",
       "         Timestamp('1991-04-10 00:00:00'),\n",
       "         Timestamp('1991-04-12 00:00:00'),\n",
       "         Timestamp('1991-04-14 00:00:00')],\n",
       "        ['L', 'W', 'L', ..., 'L', 'W', 'L'],\n",
       "        ...,\n",
       "        [0.4246575342465753, 0.43529411764705883, 0.20430107526881722,\n",
       "         ..., 0.30864197530864196, 0.31645569620253167,\n",
       "         0.1414141414141414],\n",
       "        [44.52054794520548, 47.64705882352941, 46.774193548387096, ...,\n",
       "         43.20987654320987, 45.56962025316456, 50.0],\n",
       "        ['00290', '00290', '00290', ..., '00290', '00290', '00290']],\n",
       "\n",
       "       [['DET', 'DET', 'DET', ..., 'DET', 'DET', 'DET'],\n",
       "        [Timestamp('1990-11-07 00:00:00'),\n",
       "         Timestamp('1990-11-09 00:00:00'),\n",
       "         Timestamp('1990-11-13 00:00:00'), ...,\n",
       "         Timestamp('1991-04-12 00:00:00'),\n",
       "         Timestamp('1991-04-14 00:00:00'),\n",
       "         Timestamp('1991-04-16 00:00:00')],\n",
       "        ['W', 'L', 'W', ..., 'W', 'L', 'W'],\n",
       "        ...,\n",
       "        [0.43529411764705883, 0.20430107526881722, 0.35555555555555557,\n",
       "         ..., 0.31645569620253167, 0.1414141414141414,\n",
       "         0.4482758620689655],\n",
       "        [47.64705882352941, 46.774193548387096, 51.666666666666664, ...,\n",
       "         45.56962025316456, 50.0, 49.42528735632184],\n",
       "        ['00290', '00290', '00290', ..., '00290', '00290', '00290']],\n",
       "\n",
       "       [['DET', 'DET', 'DET', ..., 'DET', 'DET', 'DET'],\n",
       "        [Timestamp('1990-11-09 00:00:00'),\n",
       "         Timestamp('1990-11-13 00:00:00'),\n",
       "         Timestamp('1990-11-16 00:00:00'), ...,\n",
       "         Timestamp('1991-04-14 00:00:00'),\n",
       "         Timestamp('1991-04-16 00:00:00'),\n",
       "         Timestamp('1991-04-19 00:00:00')],\n",
       "        ['L', 'W', 'W', ..., 'L', 'W', 'W'],\n",
       "        ...,\n",
       "        [0.20430107526881722, 0.35555555555555557, 0.46835443037974683,\n",
       "         ..., 0.1414141414141414, 0.4482758620689655,\n",
       "         0.5897435897435898],\n",
       "        [46.774193548387096, 51.666666666666664, 47.46835443037975, ...,\n",
       "         50.0, 49.42528735632184, 60.256410256410255],\n",
       "        ['00290', '00290', '00290', ..., '00290', '00290', '00290']]],\n",
       "      dtype=object)"
      ]
     },
     "execution_count": 190,
     "metadata": {},
     "output_type": "execute_result"
    }
   ],
   "source": [
    "a"
   ]
  },
  {
   "cell_type": "code",
   "execution_count": null,
   "id": "8b6ad757",
   "metadata": {},
   "outputs": [],
   "source": []
  },
  {
   "cell_type": "code",
   "execution_count": null,
   "id": "a8fc1835",
   "metadata": {},
   "outputs": [],
   "source": []
  }
 ],
 "metadata": {
  "kernelspec": {
   "display_name": "Python 3",
   "language": "python",
   "name": "python3"
  },
  "language_info": {
   "codemirror_mode": {
    "name": "ipython",
    "version": 3
   },
   "file_extension": ".py",
   "mimetype": "text/x-python",
   "name": "python",
   "nbconvert_exporter": "python",
   "pygments_lexer": "ipython3",
   "version": "3.7.3"
  }
 },
 "nbformat": 4,
 "nbformat_minor": 5
}
