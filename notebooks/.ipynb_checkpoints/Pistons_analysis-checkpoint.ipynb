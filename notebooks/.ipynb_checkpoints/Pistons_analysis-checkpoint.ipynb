{
 "cells": [
  {
   "cell_type": "code",
   "execution_count": 24,
   "id": "a203f5ee",
   "metadata": {},
   "outputs": [
    {
     "name": "stderr",
     "output_type": "stream",
     "text": [
      "/usr/lib/python3/dist-packages/requests/__init__.py:91: RequestsDependencyWarning: urllib3 (1.26.7) or chardet (3.0.4) doesn't match a supported version!\n",
      "  RequestsDependencyWarning)\n"
     ]
    }
   ],
   "source": [
    "from jupyter_dash import JupyterDash\n",
    "from dash import html\n",
    "from dash.dependencies import Input, Output\n",
    "import plotly.express as px\n",
    "# import plotly.graph_objects as go\n",
    "from dash import dcc"
   ]
  },
  {
   "cell_type": "code",
   "execution_count": 1,
   "id": "002fcdc6",
   "metadata": {},
   "outputs": [],
   "source": [
    "import sqlalchemy\n",
    "from os import environ\n",
    "\n",
    "import numpy as np\n",
    "import pandas as pd"
   ]
  },
  {
   "cell_type": "code",
   "execution_count": 2,
   "id": "12d0d029",
   "metadata": {},
   "outputs": [],
   "source": [
    "engine = sqlalchemy.create_engine(\"mariadb+mariadbconnector://\"+environ.get(\"USER\")+\\\n",
    "                                  \":\"+environ.get(\"PSWD\")+\"@127.0.0.1:3306/nba\")"
   ]
  },
  {
   "cell_type": "code",
   "execution_count": 3,
   "id": "048f5b03",
   "metadata": {},
   "outputs": [],
   "source": [
    "A_cols = ['A.Name', 'PTS',\n",
    " 'FGM', 'FGA', 'PM3', 'PA3', 'AST']\n",
    "\n",
    "A_cols = \", \".join(A_cols)"
   ]
  },
  {
   "cell_type": "code",
   "execution_count": 4,
   "id": "9a265102",
   "metadata": {},
   "outputs": [],
   "source": [
    "fields = \"* \"\n",
    "\n",
    "inner_join =  \"Box_scores INNER JOIN Players on Box_scores.Player_ID = Players.ID) A \"\n",
    "\n",
    "inner_select = \"(SELECT * FROM \" + inner_join \n",
    "\n",
    "outer_join = \"INNER JOIN Teams on Teams.ID=A.Team_ID \"\n",
    "\n",
    "outer_select = \"SELECT \" + A_cols +  \", Teams.Name as Team FROM \" + inner_select  + outer_join"
   ]
  },
  {
   "cell_type": "code",
   "execution_count": 5,
   "id": "95347a08",
   "metadata": {},
   "outputs": [],
   "source": [
    "league = pd.read_sql(outer_select,engine)"
   ]
  },
  {
   "cell_type": "code",
   "execution_count": 7,
   "id": "f97e5935",
   "metadata": {},
   "outputs": [],
   "source": [
    "def map_conference(df):\n",
    "    west = ['NOP','UTA', 'MEM','PHX', 'POR', 'SAC', 'SAS', 'OKC','DAL', 'DEN', 'GSW', 'HOU','LAC', 'LAL','MIN']\n",
    "    \n",
    "    df['Conference'] = 'west'\n",
    "    df['Conference'].where(df['Team'].isin(west),'east',inplace=True)\n",
    "    return df"
   ]
  },
  {
   "cell_type": "code",
   "execution_count": 8,
   "id": "3e56d768",
   "metadata": {},
   "outputs": [],
   "source": [
    "def map_division(df):\n",
    "    divisions = {}\n",
    "    # eastern conference divisions\n",
    "    divisions['atlantic'] = ['BOS','BKN','NYK','PHI','TOR']\n",
    "    divisions['central'] = ['CHI','CLE','DET','IND','MIL']\n",
    "    divisions['southeast'] = ['ATL','CHA','MIA','ORL','WAS']\n",
    "    \n",
    "    # western conference divisions\n",
    "    divisions['northwest'] = ['DEN', 'MIN','OKC','POR','UTA']\n",
    "    divisions['pacific'] = ['GSW','LAC','LAL','PHX','SAC']\n",
    "    divisions['southwest'] = ['DAL','HOU','MEM','NOP','SAS']\n",
    "    \n",
    "    df['Division'] = 'west'\n",
    "    \n",
    "    for i in divisions:\n",
    "        df['Division'].where(~df['Team'].isin(divisions[i]),i,inplace=True)\n",
    "    return df"
   ]
  },
  {
   "cell_type": "code",
   "execution_count": 9,
   "id": "aa74bd82",
   "metadata": {},
   "outputs": [],
   "source": [
    "league = map_division(league)\n",
    "league = map_conference(league)"
   ]
  },
  {
   "cell_type": "code",
   "execution_count": 12,
   "id": "5f94eb0e",
   "metadata": {},
   "outputs": [],
   "source": [
    "def calculate_features(df):\n",
    "    df['eFG'] = 100*(df['FGM']+.5*df['PM3'])/df['FGA']\n",
    "    df['PM2'] = df['FGM'] - df['PM3']\n",
    "\n",
    "    return df"
   ]
  },
  {
   "cell_type": "code",
   "execution_count": 13,
   "id": "9b707b9a",
   "metadata": {},
   "outputs": [],
   "source": [
    "league = calculate_features(league)"
   ]
  },
  {
   "cell_type": "code",
   "execution_count": 15,
   "id": "8e122508",
   "metadata": {},
   "outputs": [],
   "source": [
    "league_avg = league.dropna().mean(numeric_only=True)"
   ]
  },
  {
   "cell_type": "code",
   "execution_count": 17,
   "id": "34318ed5",
   "metadata": {},
   "outputs": [],
   "source": [
    "div_avg = league.groupby('Division').mean()"
   ]
  },
  {
   "cell_type": "code",
   "execution_count": 18,
   "id": "b0793ef6",
   "metadata": {},
   "outputs": [],
   "source": [
    "conf_avg = league.groupby('Conference').mean()"
   ]
  },
  {
   "cell_type": "code",
   "execution_count": 21,
   "id": "13906b4d",
   "metadata": {},
   "outputs": [],
   "source": [
    "team_avg = league.groupby(\"Team\").mean()"
   ]
  },
  {
   "cell_type": "code",
   "execution_count": 22,
   "id": "98df1e4d",
   "metadata": {},
   "outputs": [],
   "source": [
    "det = league.loc[league['Team']=='DET']"
   ]
  },
  {
   "cell_type": "code",
   "execution_count": 23,
   "id": "d88a02da",
   "metadata": {},
   "outputs": [],
   "source": [
    "det_avg = det.mean(numeric_only=True)"
   ]
  },
  {
   "cell_type": "code",
   "execution_count": 25,
   "id": "f1d359c9",
   "metadata": {},
   "outputs": [],
   "source": [
    "def teams(names):\n",
    "    options = []\n",
    "    for i in names:\n",
    "        d = {}\n",
    "        d[\"label\"] = i\n",
    "        d[\"value\"] = i\n",
    "        options.append(d)\n",
    "        \n",
    "    return options"
   ]
  },
  {
   "cell_type": "code",
   "execution_count": 26,
   "id": "50b20e9d",
   "metadata": {},
   "outputs": [],
   "source": [
    "def opposition_select(opps, i):\n",
    "    opts = team(opps)\n",
    "    d = dcc.Dropdown(options=opts,value=None,id=i,multi=False)"
   ]
  },
  {
   "cell_type": "code",
   "execution_count": 38,
   "id": "26084c02",
   "metadata": {},
   "outputs": [],
   "source": [
    "opps = league.loc[league['Team']=='BKN'].groupby('Name').mean().sort_values('PTS',ascending=False)\n",
    "opps['Team'] = 'BKN'\n",
    "d = det.groupby('Name').mean().sort_values('PTS',ascending=False)\n",
    "d['Team'] = 'DET'\n",
    "df = pd.concat((d.head(10),opps.head(10)))\n",
    "\n",
    "fig = px.scatter(y=\"PM3\", x=\"PM2\",color=\"eFG\",size = \"AST\",data_frame = df,symbol='Team',text=df.index,\n",
    "                 color_continuous_scale='RdBu_r')#RdYlBu_r\n",
    "fig.update_layout(title =\"Average 3PM vs 2PM\", xaxis_title = \"2PM\",\n",
    "                  title_x = 0.5,yaxis_title = \"3PM\",coloraxis_colorbar_x=1.15)\n",
    "\n",
    "temp = det.groupby('Name').mean().sort_values('PM2',ascending=False)\n",
    "\n",
    "fig.update_xaxes(showgrid=False)\n",
    "fig.update_yaxes(showgrid=False)\n",
    "\n",
    "fig.add_hline(league_avg['PM3'],annotation_text = 'League PM3 average',annotation_position='left top')\n",
    "fig.add_vline(league_avg['PM2'],annotation={'text':'League PM2 average'})\n",
    "other = det.groupby('Name').mean()\n",
    "\n",
    "\n",
    "fig.update_traces(textposition='top center')\n",
    "\n",
    "\n",
    "\n",
    "app = JupyterDash(__name__)\n",
    "\n",
    "\n",
    "app.layout = html.Div(className=\"p-heading\",\n",
    "                      children=[html.H1(children=\"Detroit Pistons scoring\"),\n",
    "                                html.Div(children=[dcc.Graph(figure = fig, id = 'graph')])\n",
    "])\n",
    "\n",
    "# @app.callback(\n",
    "#     Output('graph','figure'),\n",
    "# #     Output('graph2','figure'),\n",
    "# #     Output('graph3','figure'),\n",
    "# #     Input('g1','value'))\n",
    "# def update_figure(selected):\n",
    "    \n",
    "#     return fig"
   ]
  },
  {
   "cell_type": "code",
   "execution_count": 39,
   "id": "bc988a39",
   "metadata": {},
   "outputs": [
    {
     "name": "stderr",
     "output_type": "stream",
     "text": [
      "/home/blunt/.local/lib/python3.7/site-packages/jupyter_dash/jupyter_app.py:139: UserWarning:\n",
      "\n",
      "The 'environ['werkzeug.server.shutdown']' function is deprecated and will be removed in Werkzeug 2.1.\n",
      "\n"
     ]
    },
    {
     "name": "stdout",
     "output_type": "stream",
     "text": [
      "Dash app running on http://127.0.0.1:8050/\n"
     ]
    }
   ],
   "source": [
    "app.run_server(mode = \"external\")"
   ]
  },
  {
   "cell_type": "code",
   "execution_count": 41,
   "id": "267f56be",
   "metadata": {},
   "outputs": [],
   "source": [
    "league.to_csv('Pistons_dash.csv')"
   ]
  },
  {
   "cell_type": "code",
   "execution_count": null,
   "id": "e901b57b",
   "metadata": {},
   "outputs": [],
   "source": [
    "# fig.add_scatter(y=other[\"PM3\"], x=other[\"PM2\"],color=other[\"eFG\"],size = other[\"AST\"])#,\n",
    "#                 color_continuous_scale='Blues')\n",
    "\n",
    "# for k in df['Team'].unique():\n",
    "#     temp = df.loc[df['Team']==k].sort_values(\"PTS\",ascending=False)\n",
    "#     for i in range(10):\n",
    "#         fig.add_annotation(text=temp.index[i],x=temp.loc[temp.index[i],'PM2'],\n",
    "#                            y=temp.loc[temp.index[i],'PM3'])\n",
    "\n",
    "\n",
    "# fig = go.Figure()\n",
    "\n",
    "# # Team averages\n",
    "# temp = det.groupby('Name').mean()\n",
    "# opps = league.loc[league['Team']=='BKN'].groupby('Name').mean()\n",
    "\n",
    "# # size limit definition\n",
    "# upper_limit = max(temp['AST'].max(),opps['AST'].max())\n",
    "# sizeref = 2*upper_limit/100\n",
    "# sizemin = 10\n",
    "\n",
    "# colorbar=dict(tickvals = list(range(0,100,10)),ticktext=list(range(0,100,10)))\n",
    "\n",
    "# # plot DET stats\n",
    "# marker = dict(size=temp['AST'],sizeref=sizeref,sizemin=sizemin,\n",
    "#               color=temp['eFG'],colorscale='Blues',showscale=True,colorbar=colorbar)\n",
    "\n",
    "# fig.add_trace(go.Scatter(y=temp[\"PM3\"], x=temp[\"PM2\"],mode='markers',\n",
    "#                          name='DET',marker=marker))\n",
    "\n",
    "# # plot opposition stats\n",
    "# marker = dict(size=opps['AST'],sizeref=sizeref,sizemin=sizemin,colorbar=colorbar,\n",
    "#               color=opps['eFG'],colorscale='Reds',showscale=True,colorbar_x=1.15)\n",
    "\n",
    "# fig.add_trace(go.Scatter(y=opps[\"PM3\"], x=opps[\"PM2\"],mode='markers',name='POR',marker = marker))\n",
    "\n",
    "# # plot league averages\n",
    "# fig.add_hline(y=league_avg['PM3'])\n",
    "# fig.add_vline(x=league_avg['PM2'])"
   ]
  }
 ],
 "metadata": {
  "kernelspec": {
   "display_name": "Python 3",
   "language": "python",
   "name": "python3"
  },
  "language_info": {
   "codemirror_mode": {
    "name": "ipython",
    "version": 3
   },
   "file_extension": ".py",
   "mimetype": "text/x-python",
   "name": "python",
   "nbconvert_exporter": "python",
   "pygments_lexer": "ipython3",
   "version": "3.7.3"
  }
 },
 "nbformat": 4,
 "nbformat_minor": 5
}
