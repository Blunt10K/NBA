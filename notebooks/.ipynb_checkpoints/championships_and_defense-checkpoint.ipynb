{
 "cells": [
  {
   "cell_type": "markdown",
   "id": "d4cb2647",
   "metadata": {},
   "source": [
    "# Does defense actually win championships?\n",
    "\n",
    "In this analysis, we will attempt to answer this question with defensive team statistics on the NBA championships from the 1996-97 season up to the 2020-21 season. These are different eras which would help identify if there is a consistent underlying pattern that is fundamental in the NBA even as the style of play changes.\n",
    "\n",
    "The relevence of this analysis is to provide evidence to coaches deciding on their next draft pick or trade should be geared towards a more defensive player. It is also relevent to players as it can help illustrate how important defense is to their championship aspirations.\n",
    "\n",
    "Following analyses will also address attacking and the combination of attacking and defense."
   ]
  },
  {
   "cell_type": "code",
   "execution_count": 6,
   "id": "bec10379",
   "metadata": {},
   "outputs": [],
   "source": [
    "import sqlalchemy\n",
    "import pandas as pd\n",
    "from os import environ\n",
    "\n",
    "\n",
    "engine = sqlalchemy.create_engine(\"mariadb+mariadbconnector://\"+environ.get(\"USER\")+\\\n",
    "                                  \":\"+environ.get(\"PSWD\")+\"@127.0.0.1:3306/nba\")"
   ]
  },
  {
   "cell_type": "markdown",
   "id": "a4c5a00a",
   "metadata": {},
   "source": [
    "### The first step is to collect the data from the team standings in the playoffs from the database.\n",
    "\n",
    "Since we are interested in team's position during the playoffs in relation to the defesive statistics, we will only collect the defensive statistics, wins and the team names. The teams can then be ordered by the number of wins with respect to the season the teams participated in/\n",
    "\n",
    "We will therefore take:\n",
    "- The playoff season that follows the format \"004YY\" where YY is the year the season starts (SEASON_ID)\n",
    "- The team names of the participating teams (TEAM) and: \n",
    "- Their wins (W)\n",
    "- Their average rebounds (REB)\n",
    "- Their average steals (STL)\n",
    "- Their average blocks (BLK)"
   ]
  },
  {
   "cell_type": "code",
   "execution_count": 7,
   "id": "f7f10d3a",
   "metadata": {},
   "outputs": [],
   "source": [
    "fields = \"SEASON_ID, Teams.Name as TEAM, W, REB, STL, BLK \"\n",
    "\n",
    "join =  \"Team_standings INNER JOIN Teams on Team_standings.TEAM_ID = Teams.ID \"\n",
    "\n",
    "condition = \"where SEASON_ID LIKE '004%' \"\n",
    "\n",
    "select = \"SELECT \"+ fields + \"FROM \" + join + condition + \"order by SEASON_ID asc, W desc\"\n",
    "\n",
    "df = pd.read_sql(select, engine)"
   ]
  },
  {
   "cell_type": "markdown",
   "id": "4b7a5032",
   "metadata": {},
   "source": [
    "## We will now build a dashboard that shows the defensive statistic against the season's year. With colour seperating the team's positions"
   ]
  },
  {
   "cell_type": "code",
   "execution_count": null,
   "id": "6f7a1cf0",
   "metadata": {},
   "outputs": [],
   "source": []
  },
  {
   "cell_type": "code",
   "execution_count": 1,
   "id": "0691f976",
   "metadata": {},
   "outputs": [
    {
     "name": "stderr",
     "output_type": "stream",
     "text": [
      "/usr/lib/python3/dist-packages/requests/__init__.py:91: RequestsDependencyWarning: urllib3 (1.26.7) or chardet (3.0.4) doesn't match a supported version!\n",
      "  RequestsDependencyWarning)\n"
     ]
    }
   ],
   "source": [
    "from jupyter_dash import JupyterDash\n",
    "from dash import html\n",
    "from dash.dependencies import Input, Output\n",
    "import plotly.express as px\n",
    "from dash import dcc"
   ]
  },
  {
   "cell_type": "code",
   "execution_count": 2,
   "id": "e05dd46b",
   "metadata": {},
   "outputs": [],
   "source": [
    "from time import localtime"
   ]
  },
  {
   "cell_type": "code",
   "execution_count": null,
   "id": "a4701cc3",
   "metadata": {},
   "outputs": [],
   "source": []
  },
  {
   "cell_type": "code",
   "execution_count": 3,
   "id": "c6b1b23f",
   "metadata": {},
   "outputs": [],
   "source": [
    "def build_year(year):\n",
    "    if(2000+year> localtime().tm_year):\n",
    "        return 1900+year\n",
    "    return 2000+year"
   ]
  },
  {
   "cell_type": "code",
   "execution_count": 17,
   "id": "ba127f1c",
   "metadata": {},
   "outputs": [],
   "source": [
    "def segment_data(df):\n",
    "    new_df  = pd.DataFrame()\n",
    "    seasons = df['SEASON_ID'].unique()\n",
    "    \n",
    "    for s in seasons:\n",
    "        d = df.loc[df['SEASON_ID'] == s].head(2)\n",
    "        d[\"POSITION\"] = str(list(range(1,len(d)+1)))\n",
    "        d[\"YEAR\"] =build_year(int(s[-2:]))\n",
    "        new_df = pd.concat([new_df,d])\n",
    "        \n",
    "    return new_df.sort_values(\"YEAR\")"
   ]
  },
  {
   "cell_type": "code",
   "execution_count": 7,
   "id": "ed34419d",
   "metadata": {},
   "outputs": [],
   "source": [
    "def player_slider():\n",
    "    slider = dcc.Slider(\n",
    "                        id = 'n_players',\n",
    "                        min = 1,\n",
    "                        max = 10,\n",
    "                        value = 5,\n",
    "                        marks = {str(n): str(n) for n in range(1,11)},\n",
    "                        step = None,\n",
    "                        tooltip={'always_visible':False}\n",
    "                    )\n",
    "    return slider"
   ]
  },
  {
   "cell_type": "code",
   "execution_count": 7,
   "id": "de59e47d",
   "metadata": {},
   "outputs": [],
   "source": [
    "def year_slider():\n",
    "    slider = dcc.RangeSlider(\n",
    "                        id = 'years',\n",
    "                        min = min(dfs[\"YEAR\"]),\n",
    "                        max = max(dfs[\"YEAR\"]),\n",
    "#                         value = max(reg_season.keys()),\n",
    "                        marks = {year: str(year) for year in dfs[\"YEAR\"].unique()},\n",
    "#                         step = None,\n",
    "                        value=[min(dfs[\"YEAR\"]), max(dfs[\"YEAR\"])]\n",
    "#                         tooltip={'always_visible':False}\n",
    "                    )\n",
    "    return slider"
   ]
  },
  {
   "cell_type": "code",
   "execution_count": 9,
   "id": "82c46968",
   "metadata": {},
   "outputs": [],
   "source": [
    "def player_stats():\n",
    "    stats = dcc.RadioItems(\n",
    "                            options=[\n",
    "                                {'label': 'PTS','value':'PTS'},\n",
    "                                {'label': 'AST','value':'AST'},\n",
    "                                {'label': 'REB','value':'REB'},\n",
    "                                {'label': 'BLK','value':'BLK'},\n",
    "                                {'label': 'STL','value':'STL'}\n",
    "                            ],\n",
    "                            value = 'PTS',\n",
    "                            labelStyle={'display': 'inline-block'},\n",
    "                            id = \"stats\",\n",
    "                            style = {'color':colours['radio_button'],\n",
    "                                     'fontSize':text_size['radio_button']}\n",
    "                    )\n",
    "    return stats"
   ]
  },
  {
   "cell_type": "code",
   "execution_count": 18,
   "id": "f9294913",
   "metadata": {},
   "outputs": [],
   "source": [
    "dfs = segment_data(df)"
   ]
  },
  {
   "cell_type": "code",
   "execution_count": 19,
   "id": "1ca98a3e",
   "metadata": {},
   "outputs": [
    {
     "data": {
      "text/plain": [
       "337    [1, 2]\n",
       "336    [1, 2]\n",
       "353    [1, 2]\n",
       "352    [1, 2]\n",
       "369    [1, 2]\n",
       "368    [1, 2]\n",
       "385    [1, 2]\n",
       "384    [1, 2]\n",
       "0      [1, 2]\n",
       "1      [1, 2]\n",
       "17     [1, 2]\n",
       "16     [1, 2]\n",
       "32     [1, 2]\n",
       "33     [1, 2]\n",
       "48     [1, 2]\n",
       "49     [1, 2]\n",
       "64     [1, 2]\n",
       "65     [1, 2]\n",
       "81     [1, 2]\n",
       "80     [1, 2]\n",
       "97     [1, 2]\n",
       "96     [1, 2]\n",
       "113    [1, 2]\n",
       "112    [1, 2]\n",
       "128    [1, 2]\n",
       "129    [1, 2]\n",
       "144    [1, 2]\n",
       "145    [1, 2]\n",
       "161    [1, 2]\n",
       "160    [1, 2]\n",
       "176    [1, 2]\n",
       "177    [1, 2]\n",
       "192    [1, 2]\n",
       "193    [1, 2]\n",
       "208    [1, 2]\n",
       "209    [1, 2]\n",
       "225    [1, 2]\n",
       "224    [1, 2]\n",
       "240    [1, 2]\n",
       "241    [1, 2]\n",
       "256    [1, 2]\n",
       "257    [1, 2]\n",
       "273    [1, 2]\n",
       "272    [1, 2]\n",
       "289    [1, 2]\n",
       "288    [1, 2]\n",
       "305    [1, 2]\n",
       "304    [1, 2]\n",
       "320    [1, 2]\n",
       "321    [1, 2]\n",
       "Name: POSITION, dtype: object"
      ]
     },
     "execution_count": 19,
     "metadata": {},
     "output_type": "execute_result"
    }
   ],
   "source": [
    "dfs[\"POSITION\"]"
   ]
  },
  {
   "cell_type": "code",
   "execution_count": 10,
   "id": "5eab3cc5",
   "metadata": {},
   "outputs": [],
   "source": [
    "fig = px.bar(dfs, y='YEAR', x=\"BLK\", color=\"POSITION\",barmode='overlay',opacity=1,orientation='h')\n",
    "# fig.update_layout(title_text=\"PTS for top \"+str(top_n_players)+\" players at \"+ pos +\\\n",
    "#                   \" in the \"+str(y) +\" regular season\", title_x=0.5)\n",
    "\n",
    "\n",
    "\n",
    "\n",
    "app = JupyterDash(__name__)\n",
    "colours = {'text': '#7FDBFF', 'background':'#333333','radio_button':'#BBBBBB'}\n",
    "text_size = {'H1':48,'H2':40,'text':28,'radio_button':20}\n",
    "\n",
    "app.layout = html.Div(style={'backgroundColor':colours['background'],'fontFamily':'Arial'}, children=[\n",
    "\n",
    "    html.H1(children='NBA Data visualisation',\n",
    "        style = {'textAlign': 'center',\n",
    "                 'color':colours['text'],\n",
    "                 'fontSize':text_size['H1']}),\n",
    "\n",
    "\n",
    "    html.Div(children=[dcc.Graph(figure = fig, id = 'graph')])\n",
    "        \n",
    "#             html.Div([html.Label(\"Position: \", style = {'textAlign': 'center',\n",
    "#                          'color':colours['text'],\n",
    "#                          'fontSize':text_size['text']}),\n",
    "#                         pos_dropdown()\n",
    "#                     ],\n",
    "#                 style = {'textAlign': 'left',\"flex\":1}\n",
    "#             ),\n",
    "        \n",
    "#             html.Div([html.Label(\"Season: \", style = {'textAlign': 'center',\n",
    "#                          'color':colours['text'],\n",
    "#                          'fontSize':text_size['text']}),\n",
    "#                         season_dropdown()\n",
    "#                      ],\n",
    "#                 style = {'textAlign': 'center',\"flex\":1}\n",
    "#             ),\n",
    "        \n",
    "        \n",
    "#             html.Div([html.Label(\"Stats\", style = {'textAlign': 'center',\n",
    "#                          'color':colours['text'],\n",
    "#                          'fontSize':text_size['text']}),\n",
    "#                         player_stats()\n",
    "#                      ],\n",
    "#                 style = {'textAlign': 'right',\"flex\":1}\n",
    "#             )\n",
    "        \n",
    "        \n",
    "            \n",
    "\n",
    "#         ],style = {'display':'flex','flex-direction': 'row'}\n",
    "#     ),\n",
    "    \n",
    "#     player_slider(),\n",
    "    \n",
    "   \n",
    "    \n",
    "#     ,year_slider()\n",
    "])\n",
    "\n",
    "@app.callback(\n",
    "    Output('graph','figure'),\n",
    "    Input('stats','value'),\n",
    "    Input('years','value'),\n",
    "    Input('pos_drop','value'),\n",
    "    Input('n_players','value'),\n",
    "    Input('season_drop','value'))\n",
    "def update_figure(stat,y,pos,top_n_players,season_type):\n",
    "    \n",
    "    fig = px.scatter(dfs, x='YEAR', y=\"REB\", color=\"POSITION\",markers=True)\n",
    "    \n",
    "#     fig.update_layout(yaxis={'categoryorder':'max ascending'},\n",
    "#                       title_text= stat+ \" for top \"+str(top_n_players)+\" players at \"+ pos +\\\n",
    "#                       \" in the \"+str(y) +\" regular season\", title_x=0.5)\n",
    "\n",
    "    return fig"
   ]
  },
  {
   "cell_type": "code",
   "execution_count": 11,
   "id": "ef0c6e8c",
   "metadata": {},
   "outputs": [
    {
     "name": "stdout",
     "output_type": "stream",
     "text": [
      "Dash app running on http://127.0.0.1:8050/\n"
     ]
    }
   ],
   "source": [
    "app.run_server(mode = \"external\")"
   ]
  },
  {
   "cell_type": "code",
   "execution_count": 16,
   "id": "91c863fe",
   "metadata": {},
   "outputs": [
    {
     "data": {
      "text/plain": [
       "SEASON_ID     object\n",
       "TEAM          object\n",
       "W              int64\n",
       "REB          float64\n",
       "STL          float64\n",
       "BLK          float64\n",
       "POSITION       int64\n",
       "YEAR           int64\n",
       "dtype: object"
      ]
     },
     "execution_count": 16,
     "metadata": {},
     "output_type": "execute_result"
    }
   ],
   "source": [
    "dfs.dtypes"
   ]
  },
  {
   "cell_type": "code",
   "execution_count": null,
   "id": "7caaee37",
   "metadata": {},
   "outputs": [],
   "source": []
  }
 ],
 "metadata": {
  "kernelspec": {
   "display_name": "Python 3",
   "language": "python",
   "name": "python3"
  },
  "language_info": {
   "codemirror_mode": {
    "name": "ipython",
    "version": 3
   },
   "file_extension": ".py",
   "mimetype": "text/x-python",
   "name": "python",
   "nbconvert_exporter": "python",
   "pygments_lexer": "ipython3",
   "version": "3.7.3"
  }
 },
 "nbformat": 4,
 "nbformat_minor": 5
}
