{
 "cells": [
  {
   "cell_type": "code",
   "execution_count": 1,
   "id": "cd1adac4",
   "metadata": {},
   "outputs": [
    {
     "name": "stderr",
     "output_type": "stream",
     "text": [
      "/usr/lib/python3/dist-packages/requests/__init__.py:91: RequestsDependencyWarning: urllib3 (1.26.7) or chardet (3.0.4) doesn't match a supported version!\n",
      "  RequestsDependencyWarning)\n"
     ]
    }
   ],
   "source": [
    "import sqlalchemy\n",
    "from os import environ\n",
    "\n",
    "import numpy as np\n",
    "import pandas as pd\n",
    "\n",
    "from jupyter_dash import JupyterDash\n",
    "from dash import html\n",
    "from dash.dependencies import Input, Output\n",
    "import plotly.express as px\n",
    "from dash import dcc"
   ]
  },
  {
   "cell_type": "markdown",
   "id": "797c1965",
   "metadata": {},
   "source": [
    "## The next step is to model the Fantasy scores. A simple model would be calculating the expected scores for each player."
   ]
  },
  {
   "cell_type": "code",
   "execution_count": 2,
   "id": "0548c4f6",
   "metadata": {},
   "outputs": [],
   "source": [
    "value = {\"PTS\":1,\"BLK\":4,\"AST\":2,\"REB\":1,\"TOV\":-2,\"FGM\":2,\"FGA\":-1,\"FTM\":1,\"FTA\":-1,\"PM3\":1,\"STL\":4}"
   ]
  },
  {
   "cell_type": "markdown",
   "id": "24f12d87",
   "metadata": {},
   "source": [
    "### The fantasy scores are given as :\n",
    "$$score = \\sum^{N-1}_{i=0} v_i \\cdot s_i$$\n",
    "\n",
    "Where $v_i$ is the value assigned to stat $s_i$."
   ]
  },
  {
   "cell_type": "code",
   "execution_count": 3,
   "id": "7bd9614f",
   "metadata": {},
   "outputs": [],
   "source": [
    "v = np.array(list(value.values()))"
   ]
  },
  {
   "cell_type": "code",
   "execution_count": 4,
   "id": "1ac0f40e",
   "metadata": {},
   "outputs": [],
   "source": [
    "stats = \", \".join(list(value.keys()))"
   ]
  },
  {
   "cell_type": "code",
   "execution_count": 5,
   "id": "81b7b8eb",
   "metadata": {},
   "outputs": [],
   "source": [
    "engine = sqlalchemy.create_engine(\"mariadb+mariadbconnector://\"+environ.get(\"USER\")+\\\n",
    "                                  \":\"+environ.get(\"PSWD\")+\"@127.0.0.1:3306/nba\")"
   ]
  },
  {
   "cell_type": "code",
   "execution_count": 6,
   "id": "17693fcd",
   "metadata": {},
   "outputs": [],
   "source": [
    "fields = \"Name, \" + stats + \", Game_day \"\n",
    "\n",
    "join =  \"Box_scores INNER JOIN Players on Box_scores.Player_ID = Players.ID \"\n",
    "\n",
    "select = \"SELECT \"+ fields + \" FROM \" + join + \"ORDER BY Game_day desc\""
   ]
  },
  {
   "cell_type": "code",
   "execution_count": 7,
   "id": "ce89e0af",
   "metadata": {
    "scrolled": false
   },
   "outputs": [],
   "source": [
    "box_scores = pd.read_sql(select,engine)"
   ]
  },
  {
   "cell_type": "code",
   "execution_count": 8,
   "id": "6cfb606e",
   "metadata": {},
   "outputs": [],
   "source": [
    "box_scores[\"Game_day\"] = pd.to_datetime(box_scores[\"Game_day\"])"
   ]
  },
  {
   "cell_type": "markdown",
   "id": "e811d7e9",
   "metadata": {},
   "source": [
    "## Calculate the fantasy points by a matrix multiplication\n",
    "$$\\vec{f} = \\vec{v} \\times \\matrix{B} $$\n",
    "\n",
    "Where $\\vec{f}$ is the fantasy points, $\\vec{v}$ is the values assigned to the box scores $\\matrix{B}$."
   ]
  },
  {
   "cell_type": "code",
   "execution_count": 9,
   "id": "880befb3",
   "metadata": {
    "scrolled": true
   },
   "outputs": [],
   "source": [
    "def calc_fantasy_points(v, box_scores):\n",
    "    return v @ box_scores"
   ]
  },
  {
   "cell_type": "code",
   "execution_count": 10,
   "id": "fd1f9812",
   "metadata": {},
   "outputs": [],
   "source": [
    "s = np.array(box_scores.values[:,1:-1],dtype = np.int64)"
   ]
  },
  {
   "cell_type": "code",
   "execution_count": 11,
   "id": "7060b04f",
   "metadata": {},
   "outputs": [],
   "source": [
    "box_scores[\"Fantasy Points\"] = calc_fantasy_points(v, s.T)"
   ]
  },
  {
   "cell_type": "markdown",
   "id": "7963c8fc",
   "metadata": {},
   "source": [
    "## The fantasy scores can then be grouped by the player names and aggregated using a rolling mean on their fantasy scores.\n",
    "\n",
    "Typically, there are 3-4 games a week and since the Fantasy League is in a week-by week format, it makes sense to set the rolling mean window to 4. This will show how a player is doing on a week to week basis."
   ]
  },
  {
   "cell_type": "code",
   "execution_count": 12,
   "id": "aaad08e8",
   "metadata": {},
   "outputs": [],
   "source": [
    "names = box_scores[\"Name\"].unique()"
   ]
  },
  {
   "cell_type": "code",
   "execution_count": 17,
   "id": "d4526088",
   "metadata": {},
   "outputs": [],
   "source": [
    "rolls= box_scores[[\"Name\",\"Fantasy Points\"]].groupby(\"Name\").mean()"
   ]
  },
  {
   "cell_type": "code",
   "execution_count": 21,
   "id": "737c56d8",
   "metadata": {},
   "outputs": [],
   "source": [
    "names = box_scores[\"Name\"].unique()\n",
    "hist = pd.DataFrame(data = {}, index=names)"
   ]
  },
  {
   "cell_type": "code",
   "execution_count": 26,
   "id": "82f5d405",
   "metadata": {},
   "outputs": [],
   "source": [
    "h = np.histogram(box_scores.loc[box_scores[\"Name\"] == \"Donovan Mitchell\"][\"Fantasy Points\"]\\\n",
    "             .values,bins=250,range=(-50,200),density=True)"
   ]
  },
  {
   "cell_type": "code",
   "execution_count": 32,
   "id": "08b52beb",
   "metadata": {},
   "outputs": [
    {
     "data": {
      "text/plain": [
       "(array([0.        , 0.        , 0.        , 0.        , 0.        ,\n",
       "        0.        , 0.        , 0.        , 0.        , 0.        ,\n",
       "        0.        , 0.        , 0.        , 0.        , 0.        ,\n",
       "        0.        , 0.        , 0.        , 0.        , 0.        ,\n",
       "        0.        , 0.        , 0.        , 0.        , 0.        ,\n",
       "        0.        , 0.        , 0.        , 0.        , 0.        ,\n",
       "        0.        , 0.        , 0.        , 0.        , 0.        ,\n",
       "        0.        , 0.        , 0.        , 0.        , 0.        ,\n",
       "        0.        , 0.        , 0.        , 0.        , 0.        ,\n",
       "        0.        , 0.        , 0.        , 0.        , 0.        ,\n",
       "        0.        , 0.        , 0.        , 0.        , 0.        ,\n",
       "        0.        , 0.        , 0.        , 0.        , 0.        ,\n",
       "        0.        , 0.        , 0.        , 0.        , 0.        ,\n",
       "        0.        , 0.        , 0.02380952, 0.        , 0.        ,\n",
       "        0.02380952, 0.        , 0.        , 0.        , 0.        ,\n",
       "        0.02380952, 0.        , 0.02380952, 0.07142857, 0.02380952,\n",
       "        0.04761905, 0.02380952, 0.        , 0.        , 0.02380952,\n",
       "        0.02380952, 0.04761905, 0.        , 0.02380952, 0.        ,\n",
       "        0.02380952, 0.07142857, 0.04761905, 0.        , 0.02380952,\n",
       "        0.        , 0.02380952, 0.02380952, 0.04761905, 0.02380952,\n",
       "        0.07142857, 0.04761905, 0.        , 0.        , 0.        ,\n",
       "        0.        , 0.07142857, 0.02380952, 0.02380952, 0.        ,\n",
       "        0.        , 0.04761905, 0.        , 0.04761905, 0.        ,\n",
       "        0.        , 0.        , 0.        , 0.        , 0.        ,\n",
       "        0.        , 0.        , 0.        , 0.        , 0.        ,\n",
       "        0.        , 0.        , 0.        , 0.        , 0.        ,\n",
       "        0.        , 0.        , 0.        , 0.        , 0.        ,\n",
       "        0.        , 0.        , 0.        , 0.        , 0.        ,\n",
       "        0.        , 0.        , 0.        , 0.        , 0.        ,\n",
       "        0.        , 0.        , 0.        , 0.        , 0.        ,\n",
       "        0.        , 0.        , 0.        , 0.        , 0.        ,\n",
       "        0.        , 0.        , 0.        , 0.        , 0.        ,\n",
       "        0.        , 0.        , 0.        , 0.        , 0.        ,\n",
       "        0.        , 0.        , 0.        , 0.        , 0.        ,\n",
       "        0.        , 0.        , 0.        , 0.        , 0.        ,\n",
       "        0.        , 0.        , 0.        , 0.        , 0.        ,\n",
       "        0.        , 0.        , 0.        , 0.        , 0.        ,\n",
       "        0.        , 0.        , 0.        , 0.        , 0.        ,\n",
       "        0.        , 0.        , 0.        , 0.        , 0.        ,\n",
       "        0.        , 0.        , 0.        , 0.        , 0.        ,\n",
       "        0.        , 0.        , 0.        , 0.        , 0.        ,\n",
       "        0.        , 0.        , 0.        , 0.        , 0.        ,\n",
       "        0.        , 0.        , 0.        , 0.        , 0.        ,\n",
       "        0.        , 0.        , 0.        , 0.        , 0.        ,\n",
       "        0.        , 0.        , 0.        , 0.        , 0.        ,\n",
       "        0.        , 0.        , 0.        , 0.        , 0.        ,\n",
       "        0.        , 0.        , 0.        , 0.        , 0.        ,\n",
       "        0.        , 0.        , 0.        , 0.        , 0.        ,\n",
       "        0.        , 0.        , 0.        , 0.        , 0.        ,\n",
       "        0.        , 0.        , 0.        , 0.        , 0.        ]),\n",
       " array([-50., -49., -48., -47., -46., -45., -44., -43., -42., -41., -40.,\n",
       "        -39., -38., -37., -36., -35., -34., -33., -32., -31., -30., -29.,\n",
       "        -28., -27., -26., -25., -24., -23., -22., -21., -20., -19., -18.,\n",
       "        -17., -16., -15., -14., -13., -12., -11., -10.,  -9.,  -8.,  -7.,\n",
       "         -6.,  -5.,  -4.,  -3.,  -2.,  -1.,   0.,   1.,   2.,   3.,   4.,\n",
       "          5.,   6.,   7.,   8.,   9.,  10.,  11.,  12.,  13.,  14.,  15.,\n",
       "         16.,  17.,  18.,  19.,  20.,  21.,  22.,  23.,  24.,  25.,  26.,\n",
       "         27.,  28.,  29.,  30.,  31.,  32.,  33.,  34.,  35.,  36.,  37.,\n",
       "         38.,  39.,  40.,  41.,  42.,  43.,  44.,  45.,  46.,  47.,  48.,\n",
       "         49.,  50.,  51.,  52.,  53.,  54.,  55.,  56.,  57.,  58.,  59.,\n",
       "         60.,  61.,  62.,  63.,  64.,  65.,  66.,  67.,  68.,  69.,  70.,\n",
       "         71.,  72.,  73.,  74.,  75.,  76.,  77.,  78.,  79.,  80.,  81.,\n",
       "         82.,  83.,  84.,  85.,  86.,  87.,  88.,  89.,  90.,  91.,  92.,\n",
       "         93.,  94.,  95.,  96.,  97.,  98.,  99., 100., 101., 102., 103.,\n",
       "        104., 105., 106., 107., 108., 109., 110., 111., 112., 113., 114.,\n",
       "        115., 116., 117., 118., 119., 120., 121., 122., 123., 124., 125.,\n",
       "        126., 127., 128., 129., 130., 131., 132., 133., 134., 135., 136.,\n",
       "        137., 138., 139., 140., 141., 142., 143., 144., 145., 146., 147.,\n",
       "        148., 149., 150., 151., 152., 153., 154., 155., 156., 157., 158.,\n",
       "        159., 160., 161., 162., 163., 164., 165., 166., 167., 168., 169.,\n",
       "        170., 171., 172., 173., 174., 175., 176., 177., 178., 179., 180.,\n",
       "        181., 182., 183., 184., 185., 186., 187., 188., 189., 190., 191.,\n",
       "        192., 193., 194., 195., 196., 197., 198., 199., 200.]))"
      ]
     },
     "execution_count": 32,
     "metadata": {},
     "output_type": "execute_result"
    }
   ],
   "source": [
    "h"
   ]
  },
  {
   "cell_type": "code",
   "execution_count": 53,
   "id": "fc1f46ed",
   "metadata": {},
   "outputs": [
    {
     "data": {
      "text/plain": [
       "250"
      ]
     },
     "execution_count": 53,
     "metadata": {},
     "output_type": "execute_result"
    }
   ],
   "source": [
    "len(h[0])"
   ]
  },
  {
   "cell_type": "code",
   "execution_count": 54,
   "id": "689e42ec",
   "metadata": {},
   "outputs": [
    {
     "data": {
      "text/plain": [
       "251"
      ]
     },
     "execution_count": 54,
     "metadata": {},
     "output_type": "execute_result"
    }
   ],
   "source": [
    "len(h[1])"
   ]
  },
  {
   "cell_type": "code",
   "execution_count": 116,
   "id": "e235d85a",
   "metadata": {},
   "outputs": [],
   "source": [
    "prod  = np.multiply(h[0],h[1][:-1])"
   ]
  },
  {
   "cell_type": "code",
   "execution_count": 117,
   "id": "779cd5a6",
   "metadata": {},
   "outputs": [
    {
     "data": {
      "text/plain": [
       "42.47619047619047"
      ]
     },
     "execution_count": 117,
     "metadata": {},
     "output_type": "execute_result"
    }
   ],
   "source": [
    "np.sum(prod)"
   ]
  },
  {
   "cell_type": "code",
   "execution_count": null,
   "id": "80870179",
   "metadata": {},
   "outputs": [],
   "source": []
  },
  {
   "cell_type": "code",
   "execution_count": 77,
   "id": "1cc40568",
   "metadata": {},
   "outputs": [
    {
     "data": {
      "text/plain": [
       "0"
      ]
     },
     "execution_count": 77,
     "metadata": {},
     "output_type": "execute_result"
    }
   ],
   "source": [
    "sum(box_scores[\"Name\"].isna())"
   ]
  },
  {
   "cell_type": "code",
   "execution_count": 106,
   "id": "59815367",
   "metadata": {},
   "outputs": [],
   "source": [
    "def histogram(box_scores):\n",
    "    names = box_scores[\"Name\"].unique()\n",
    "    hist = pd.DataFrame(columns=[\"Name\",\"P(F)\",\"F\"])\n",
    "    d = pd.DataFrame(columns=[\"Name\",\"P(F)\",\"F\"])\n",
    "\n",
    "    for n in names:\n",
    "        player = box_scores.loc[box_scores['Name'].isin([n])][\"Fantasy Points\"].values\n",
    "        h = np.histogram(player,bins=250,range=(-50,200),density=True)\n",
    "        d[\"P(F)\"] = h[0]\n",
    "        d[\"F\"] = h[1][:-1]\n",
    "        d[\"Name\"] = n\n",
    "        hist = pd.concat((hist,d),ignore_index=True)\n",
    "#         hist.loc[n,\"F\"] = h[1,np.newaxis]\n",
    "        \n",
    "    return hist"
   ]
  },
  {
   "cell_type": "code",
   "execution_count": 107,
   "id": "a29b9438",
   "metadata": {},
   "outputs": [],
   "source": [
    "hist = histogram(box_scores)"
   ]
  },
  {
   "cell_type": "code",
   "execution_count": 109,
   "id": "0f438dae",
   "metadata": {},
   "outputs": [
    {
     "data": {
      "text/html": [
       "<div>\n",
       "<style scoped>\n",
       "    .dataframe tbody tr th:only-of-type {\n",
       "        vertical-align: middle;\n",
       "    }\n",
       "\n",
       "    .dataframe tbody tr th {\n",
       "        vertical-align: top;\n",
       "    }\n",
       "\n",
       "    .dataframe thead th {\n",
       "        text-align: right;\n",
       "    }\n",
       "</style>\n",
       "<table border=\"1\" class=\"dataframe\">\n",
       "  <thead>\n",
       "    <tr style=\"text-align: right;\">\n",
       "      <th></th>\n",
       "      <th>Name</th>\n",
       "      <th>P(F)</th>\n",
       "      <th>F</th>\n",
       "    </tr>\n",
       "  </thead>\n",
       "  <tbody>\n",
       "    <tr>\n",
       "      <th>0</th>\n",
       "      <td>Greg Monroe</td>\n",
       "      <td>0.0</td>\n",
       "      <td>-50.0</td>\n",
       "    </tr>\n",
       "    <tr>\n",
       "      <th>1</th>\n",
       "      <td>Greg Monroe</td>\n",
       "      <td>0.0</td>\n",
       "      <td>-49.0</td>\n",
       "    </tr>\n",
       "    <tr>\n",
       "      <th>2</th>\n",
       "      <td>Greg Monroe</td>\n",
       "      <td>0.0</td>\n",
       "      <td>-48.0</td>\n",
       "    </tr>\n",
       "    <tr>\n",
       "      <th>3</th>\n",
       "      <td>Greg Monroe</td>\n",
       "      <td>0.0</td>\n",
       "      <td>-47.0</td>\n",
       "    </tr>\n",
       "    <tr>\n",
       "      <th>4</th>\n",
       "      <td>Greg Monroe</td>\n",
       "      <td>0.0</td>\n",
       "      <td>-46.0</td>\n",
       "    </tr>\n",
       "    <tr>\n",
       "      <th>...</th>\n",
       "      <td>...</td>\n",
       "      <td>...</td>\n",
       "      <td>...</td>\n",
       "    </tr>\n",
       "    <tr>\n",
       "      <th>147745</th>\n",
       "      <td>Brook Lopez</td>\n",
       "      <td>0.0</td>\n",
       "      <td>195.0</td>\n",
       "    </tr>\n",
       "    <tr>\n",
       "      <th>147746</th>\n",
       "      <td>Brook Lopez</td>\n",
       "      <td>0.0</td>\n",
       "      <td>196.0</td>\n",
       "    </tr>\n",
       "    <tr>\n",
       "      <th>147747</th>\n",
       "      <td>Brook Lopez</td>\n",
       "      <td>0.0</td>\n",
       "      <td>197.0</td>\n",
       "    </tr>\n",
       "    <tr>\n",
       "      <th>147748</th>\n",
       "      <td>Brook Lopez</td>\n",
       "      <td>0.0</td>\n",
       "      <td>198.0</td>\n",
       "    </tr>\n",
       "    <tr>\n",
       "      <th>147749</th>\n",
       "      <td>Brook Lopez</td>\n",
       "      <td>0.0</td>\n",
       "      <td>199.0</td>\n",
       "    </tr>\n",
       "  </tbody>\n",
       "</table>\n",
       "<p>147750 rows × 3 columns</p>\n",
       "</div>"
      ],
      "text/plain": [
       "               Name  P(F)      F\n",
       "0       Greg Monroe   0.0  -50.0\n",
       "1       Greg Monroe   0.0  -49.0\n",
       "2       Greg Monroe   0.0  -48.0\n",
       "3       Greg Monroe   0.0  -47.0\n",
       "4       Greg Monroe   0.0  -46.0\n",
       "...             ...   ...    ...\n",
       "147745  Brook Lopez   0.0  195.0\n",
       "147746  Brook Lopez   0.0  196.0\n",
       "147747  Brook Lopez   0.0  197.0\n",
       "147748  Brook Lopez   0.0  198.0\n",
       "147749  Brook Lopez   0.0  199.0\n",
       "\n",
       "[147750 rows x 3 columns]"
      ]
     },
     "execution_count": 109,
     "metadata": {},
     "output_type": "execute_result"
    }
   ],
   "source": [
    "def efp(hist):\n",
    "    "
   ]
  },
  {
   "cell_type": "code",
   "execution_count": 17,
   "id": "5e0f3310",
   "metadata": {},
   "outputs": [],
   "source": [
    "def options(names):\n",
    "    options = []\n",
    "    for i in names:\n",
    "        d = {}\n",
    "        d[\"label\"] = i\n",
    "        d[\"value\"] = i\n",
    "        options.append(d)\n",
    "        \n",
    "    return options"
   ]
  },
  {
   "cell_type": "markdown",
   "id": "4c263ce0",
   "metadata": {},
   "source": [
    "## Below defines a dashboard that shows a line graph for aggregated fantasy scores against the game day. A searchable dropdown includes all the players who recorded stats this season. Simply search and select the player(s) of interest and their fantasy points over the course of the season will be visible. The dropdown includes functionality for multiple players to enable multiple comparisons. "
   ]
  },
  {
   "cell_type": "code",
   "execution_count": 25,
   "id": "3ba1b9cf",
   "metadata": {},
   "outputs": [],
   "source": [
    "def drpdwn():\n",
    "    opts = options(names)\n",
    "    d = dcc.Dropdown(options = opts, value = names[0:2],id = 'dp',multi = True)\n",
    "    \n",
    "    return d"
   ]
  },
  {
   "cell_type": "code",
   "execution_count": 26,
   "id": "587aed61",
   "metadata": {},
   "outputs": [],
   "source": [
    "fig = px.line(y=\"Rolling\", x=\"Game_day\",color=\"Name\",data_frame = box_scores.head(5), markers=True,range_y=(0,100))\n",
    "fig.update_layout(title =\"Fantasy points during current season\", xaxis_title = \"Game Day\",\n",
    "                  title_x = 0.5,yaxis_title = \"4 game Rolling mean / Fantasy points\")\n",
    "\n",
    "\n",
    "app = JupyterDash(__name__)\n",
    "colours = {'text': '#7FDBFF', 'background':'#333333','radio_button':'#BBBBBB'} \n",
    "text_size = {'H1':48,'H2':40,'text':28,'radio_button':20}\n",
    "\n",
    "app.layout = html.Div(style={'backgroundColor':colours['background'],'fontFamily':'Arial'}, children=[\n",
    "    html.H1(children=\"ESPN Fantasy Analysis\",\n",
    "        style = {'textAlign': 'center',\n",
    "                 'color':colours['text'],\n",
    "                 'fontSize':text_size['H1']}),\n",
    "    \n",
    "    html.Div(children=[drpdwn(), dcc.Graph(figure = fig, id = 'graph')])\n",
    "\n",
    "\n",
    "\n",
    "])\n",
    "\n",
    "@app.callback(\n",
    "    Output('graph','figure'),\n",
    "    Input('dp','value'))\n",
    "def update_figure(selected):\n",
    "    d = box_scores.loc[box_scores['Name'].isin(selected)]\n",
    "    \n",
    "    fig = px.line(y=\"Rolling\", x=\"Game_day\",color=\"Name\",data_frame = d, markers=True,range_y=(0,100))\n",
    "    \n",
    "    fig.update_layout(title =\"Fantasy points during current season\", xaxis_title = \"Game Day\",\n",
    "                  title_x = 0.5,yaxis_title = \"4 game Rolling mean / Fantasy points\")\n",
    "    return fig"
   ]
  },
  {
   "cell_type": "code",
   "execution_count": 27,
   "id": "1ffa6460",
   "metadata": {},
   "outputs": [
    {
     "name": "stderr",
     "output_type": "stream",
     "text": [
      "/home/blunt/.local/lib/python3.7/site-packages/jupyter_dash/jupyter_app.py:139: UserWarning:\n",
      "\n",
      "The 'environ['werkzeug.server.shutdown']' function is deprecated and will be removed in Werkzeug 2.1.\n",
      "\n"
     ]
    },
    {
     "name": "stdout",
     "output_type": "stream",
     "text": [
      "Dash app running on http://127.0.0.1:8050/\n"
     ]
    }
   ],
   "source": [
    "app.run_server(mode = \"external\")"
   ]
  },
  {
   "cell_type": "code",
   "execution_count": null,
   "id": "b3c14ba4",
   "metadata": {},
   "outputs": [],
   "source": [
    " "
   ]
  }
 ],
 "metadata": {
  "kernelspec": {
   "display_name": "Python 3",
   "language": "python",
   "name": "python3"
  },
  "language_info": {
   "codemirror_mode": {
    "name": "ipython",
    "version": 3
   },
   "file_extension": ".py",
   "mimetype": "text/x-python",
   "name": "python",
   "nbconvert_exporter": "python",
   "pygments_lexer": "ipython3",
   "version": "3.7.3"
  }
 },
 "nbformat": 4,
 "nbformat_minor": 5
}
