{
 "cells": [
  {
   "cell_type": "markdown",
   "id": "072952e7",
   "metadata": {},
   "source": [
    "# Regression"
   ]
  },
  {
   "cell_type": "code",
   "execution_count": 1,
   "id": "7e8d4144",
   "metadata": {},
   "outputs": [],
   "source": [
    "from sklearn.linear_model import Ridge"
   ]
  },
  {
   "cell_type": "code",
   "execution_count": 2,
   "id": "80592c8b",
   "metadata": {},
   "outputs": [],
   "source": [
    "from sklearn.datasets import load_boston"
   ]
  },
  {
   "cell_type": "code",
   "execution_count": 3,
   "id": "02f62166",
   "metadata": {},
   "outputs": [
    {
     "name": "stderr",
     "output_type": "stream",
     "text": [
      "/home/blunt/.local/lib/python3.7/site-packages/sklearn/utils/deprecation.py:87: FutureWarning: Function load_boston is deprecated; `load_boston` is deprecated in 1.0 and will be removed in 1.2.\n",
      "\n",
      "    The Boston housing prices dataset has an ethical problem. You can refer to\n",
      "    the documentation of this function for further details.\n",
      "\n",
      "    The scikit-learn maintainers therefore strongly discourage the use of this\n",
      "    dataset unless the purpose of the code is to study and educate about\n",
      "    ethical issues in data science and machine learning.\n",
      "\n",
      "    In this special case, you can fetch the dataset from the original\n",
      "    source::\n",
      "\n",
      "        import pandas as pd\n",
      "        import numpy as np\n",
      "\n",
      "\n",
      "        data_url = \"http://lib.stat.cmu.edu/datasets/boston\"\n",
      "        raw_df = pd.read_csv(data_url, sep=\"\\s+\", skiprows=22, header=None)\n",
      "        data = np.hstack([raw_df.values[::2, :], raw_df.values[1::2, :2]])\n",
      "        target = raw_df.values[1::2, 2]\n",
      "\n",
      "    Alternative datasets include the California housing dataset (i.e.\n",
      "    :func:`~sklearn.datasets.fetch_california_housing`) and the Ames housing\n",
      "    dataset. You can load the datasets as follows::\n",
      "\n",
      "        from sklearn.datasets import fetch_california_housing\n",
      "        housing = fetch_california_housing()\n",
      "\n",
      "    for the California housing dataset and::\n",
      "\n",
      "        from sklearn.datasets import fetch_openml\n",
      "        housing = fetch_openml(name=\"house_prices\", as_frame=True)\n",
      "\n",
      "    for the Ames housing dataset.\n",
      "    \n",
      "  warnings.warn(msg, category=FutureWarning)\n"
     ]
    }
   ],
   "source": [
    "data = load_boston()"
   ]
  },
  {
   "cell_type": "code",
   "execution_count": 4,
   "id": "b5cecdf3",
   "metadata": {},
   "outputs": [],
   "source": [
    "from sklearn.model_selection import train_test_split"
   ]
  },
  {
   "cell_type": "code",
   "execution_count": 5,
   "id": "e296b3e0",
   "metadata": {},
   "outputs": [],
   "source": [
    "from sklearn.preprocessing import StandardScaler"
   ]
  },
  {
   "cell_type": "code",
   "execution_count": 6,
   "id": "87fe17c1",
   "metadata": {},
   "outputs": [],
   "source": [
    "X = data['data']\n",
    "Y = data['target']"
   ]
  },
  {
   "cell_type": "code",
   "execution_count": 7,
   "id": "50e10b29",
   "metadata": {},
   "outputs": [],
   "source": [
    "X_train, X_test, Y_train, Y_test = train_test_split(X,Y)"
   ]
  },
  {
   "cell_type": "code",
   "execution_count": 8,
   "id": "98e352c1",
   "metadata": {},
   "outputs": [],
   "source": [
    "import numpy as np"
   ]
  },
  {
   "cell_type": "code",
   "execution_count": 9,
   "id": "1ef229b0",
   "metadata": {},
   "outputs": [],
   "source": [
    "transformer = StandardScaler()"
   ]
  },
  {
   "cell_type": "code",
   "execution_count": 10,
   "id": "d7606ee4",
   "metadata": {},
   "outputs": [],
   "source": [
    "Y_train  = Y_train[:,np.newaxis]\n",
    "Y_test = Y_test[:,np.newaxis]"
   ]
  },
  {
   "cell_type": "code",
   "execution_count": 11,
   "id": "7c83fed2",
   "metadata": {},
   "outputs": [],
   "source": [
    "training = np.hstack((X_train,Y_train))\n",
    "testing = np.hstack((X_test,Y_test))"
   ]
  },
  {
   "cell_type": "code",
   "execution_count": 12,
   "id": "a29ebb28",
   "metadata": {},
   "outputs": [],
   "source": [
    "train = transformer.fit_transform(training)"
   ]
  },
  {
   "cell_type": "code",
   "execution_count": 13,
   "id": "72364330",
   "metadata": {},
   "outputs": [],
   "source": [
    "test  = transformer.transform(testing)"
   ]
  },
  {
   "cell_type": "code",
   "execution_count": 14,
   "id": "837297ca",
   "metadata": {},
   "outputs": [],
   "source": [
    "train_X, train_Y, test_X, test_Y = train[:,:-1], train[:,-1], test[:,:-1],test[:,-1]"
   ]
  },
  {
   "cell_type": "code",
   "execution_count": 76,
   "id": "8257e037",
   "metadata": {},
   "outputs": [],
   "source": [
    "model = Ridge(alpha=.0001)"
   ]
  },
  {
   "cell_type": "code",
   "execution_count": 77,
   "id": "936a14f6",
   "metadata": {},
   "outputs": [
    {
     "data": {
      "text/plain": [
       "Ridge(alpha=0.0001)"
      ]
     },
     "execution_count": 77,
     "metadata": {},
     "output_type": "execute_result"
    }
   ],
   "source": [
    "model.fit(train_X, train_Y)"
   ]
  },
  {
   "cell_type": "code",
   "execution_count": 78,
   "id": "6c62671f",
   "metadata": {},
   "outputs": [
    {
     "data": {
      "text/plain": [
       "array([-0.11289332,  0.15704864,  0.03466716,  0.09048046, -0.22033682,\n",
       "        0.27413064, -0.01096403, -0.37159684,  0.31161955, -0.23610208,\n",
       "       -0.19088516,  0.09463134, -0.44222797])"
      ]
     },
     "execution_count": 78,
     "metadata": {},
     "output_type": "execute_result"
    }
   ],
   "source": [
    "model.coef_"
   ]
  },
  {
   "cell_type": "code",
   "execution_count": 79,
   "id": "5e1dc097",
   "metadata": {},
   "outputs": [
    {
     "data": {
      "text/plain": [
       "0.7367006654366928"
      ]
     },
     "execution_count": 79,
     "metadata": {},
     "output_type": "execute_result"
    }
   ],
   "source": [
    "model.score(train_X,train_Y)"
   ]
  },
  {
   "cell_type": "code",
   "execution_count": 80,
   "id": "7503dc02",
   "metadata": {},
   "outputs": [
    {
     "data": {
      "text/plain": [
       "0.7368022491140993"
      ]
     },
     "execution_count": 80,
     "metadata": {},
     "output_type": "execute_result"
    }
   ],
   "source": [
    "model.score(test_X,test_Y)"
   ]
  },
  {
   "cell_type": "code",
   "execution_count": 20,
   "id": "9c5174a7",
   "metadata": {},
   "outputs": [],
   "source": [
    "from sklearn.linear_model import Lasso"
   ]
  },
  {
   "cell_type": "code",
   "execution_count": 67,
   "id": "25ceaf1f",
   "metadata": {},
   "outputs": [],
   "source": [
    "model1 = Lasso(alpha=.000000000001)"
   ]
  },
  {
   "cell_type": "code",
   "execution_count": 68,
   "id": "dd078a7e",
   "metadata": {},
   "outputs": [
    {
     "data": {
      "text/plain": [
       "Lasso(alpha=1e-12)"
      ]
     },
     "execution_count": 68,
     "metadata": {},
     "output_type": "execute_result"
    }
   ],
   "source": [
    "model1.fit(train_X,train_Y)"
   ]
  },
  {
   "cell_type": "code",
   "execution_count": 69,
   "id": "f8c042da",
   "metadata": {},
   "outputs": [
    {
     "data": {
      "text/plain": [
       "0.7367006654369713"
      ]
     },
     "execution_count": 69,
     "metadata": {},
     "output_type": "execute_result"
    }
   ],
   "source": [
    "model1.score(train_X,train_Y)"
   ]
  },
  {
   "cell_type": "code",
   "execution_count": 70,
   "id": "204345c8",
   "metadata": {},
   "outputs": [
    {
     "data": {
      "text/plain": [
       "0.7368021018568539"
      ]
     },
     "execution_count": 70,
     "metadata": {},
     "output_type": "execute_result"
    }
   ],
   "source": [
    "model1.score(test_X,test_Y)"
   ]
  },
  {
   "cell_type": "code",
   "execution_count": 81,
   "id": "30f33d13",
   "metadata": {},
   "outputs": [],
   "source": [
    "from sklearn.linear_model import LinearRegression"
   ]
  },
  {
   "cell_type": "code",
   "execution_count": 82,
   "id": "2b4a496b",
   "metadata": {},
   "outputs": [],
   "source": [
    "model2 = LinearRegression()"
   ]
  },
  {
   "cell_type": "code",
   "execution_count": 83,
   "id": "ae9a9f4e",
   "metadata": {},
   "outputs": [
    {
     "data": {
      "text/plain": [
       "LinearRegression()"
      ]
     },
     "execution_count": 83,
     "metadata": {},
     "output_type": "execute_result"
    }
   ],
   "source": [
    "model2.fit(train_X,train_Y)"
   ]
  },
  {
   "cell_type": "code",
   "execution_count": 84,
   "id": "98a650a6",
   "metadata": {},
   "outputs": [
    {
     "data": {
      "text/plain": [
       "0.7367006654369712"
      ]
     },
     "execution_count": 84,
     "metadata": {},
     "output_type": "execute_result"
    }
   ],
   "source": [
    "model2.score(train_X,train_Y)"
   ]
  },
  {
   "cell_type": "code",
   "execution_count": 85,
   "id": "033f7e9a",
   "metadata": {},
   "outputs": [
    {
     "data": {
      "text/plain": [
       "0.7368021018546472"
      ]
     },
     "execution_count": 85,
     "metadata": {},
     "output_type": "execute_result"
    }
   ],
   "source": [
    "model2.score(test_X,test_Y)"
   ]
  },
  {
   "cell_type": "code",
   "execution_count": 86,
   "id": "b60a54eb",
   "metadata": {},
   "outputs": [],
   "source": [
    "d = {1:11,2:22}"
   ]
  },
  {
   "cell_type": "code",
   "execution_count": 88,
   "id": "7ea21fb7",
   "metadata": {},
   "outputs": [
    {
     "data": {
      "text/plain": [
       "dict_keys([1, 2])"
      ]
     },
     "execution_count": 88,
     "metadata": {},
     "output_type": "execute_result"
    }
   ],
   "source": [
    "d.keys()"
   ]
  },
  {
   "cell_type": "code",
   "execution_count": 89,
   "id": "ad4b5576",
   "metadata": {},
   "outputs": [
    {
     "data": {
      "text/plain": [
       "11"
      ]
     },
     "execution_count": 89,
     "metadata": {},
     "output_type": "execute_result"
    }
   ],
   "source": [
    "d[1]"
   ]
  },
  {
   "cell_type": "code",
   "execution_count": 90,
   "id": "be627125",
   "metadata": {},
   "outputs": [
    {
     "data": {
      "text/plain": [
       "(127,)"
      ]
     },
     "execution_count": 90,
     "metadata": {},
     "output_type": "execute_result"
    }
   ],
   "source": [
    "test_Y.shape "
   ]
  },
  {
   "cell_type": "code",
   "execution_count": 91,
   "id": "15a998ae",
   "metadata": {},
   "outputs": [],
   "source": [
    "a = test_Y[:64].reshape((8,8))"
   ]
  },
  {
   "cell_type": "code",
   "execution_count": 95,
   "id": "288fb446",
   "metadata": {},
   "outputs": [
    {
     "data": {
      "text/plain": [
       "array([[1.51061232e+00, 1.00000000e+02, 1.09700927e+00, 1.00000000e+02,\n",
       "        1.00000000e+02, 1.00000000e+02, 3.97065644e-01, 1.34092902e+00],\n",
       "       [1.63751103e-01, 1.00000000e+02, 1.31971860e+00, 2.88928915e+00,\n",
       "        1.42540690e-01, 1.00000000e+02, 3.64886258e-02, 1.00000000e+02],\n",
       "       [1.00000000e+02, 1.00000000e+02, 1.00000000e+02, 7.78853076e-01,\n",
       "        1.00000000e+02, 1.00000000e+02, 1.00000000e+02, 1.42540690e-01],\n",
       "       [1.00000000e+02, 1.00000000e+02, 1.00000000e+02, 1.00000000e+02,\n",
       "        4.60696883e-01, 1.00000000e+02, 1.00000000e+02, 1.10725071e-01],\n",
       "       [1.00000000e+02, 1.52782130e-02, 1.00000000e+02, 1.00000000e+02,\n",
       "        1.00000000e+02, 1.00000000e+02, 2.59197961e-01, 6.09169773e-01],\n",
       "       [2.00905702e+00, 6.30380186e-01, 1.00000000e+02, 1.03337803e+00,\n",
       "        1.00000000e+02, 1.42577067e+00, 2.37987548e-01, 1.00000000e+02],\n",
       "       [1.00000000e+02, 2.16777135e-01, 1.00000000e+02, 2.19995074e+00,\n",
       "        6.19774979e-01, 1.00000000e+02, 9.80351998e-01, 1.00000000e+02],\n",
       "       [1.00000000e+02, 1.00000000e+02, 7.25827043e-01, 1.00000000e+02,\n",
       "        1.00000000e+02, 1.00000000e+02, 1.00000000e+02, 1.00000000e+02]])"
      ]
     },
     "execution_count": 95,
     "metadata": {},
     "output_type": "execute_result"
    }
   ],
   "source": [
    "np.where(a< 0,100,a)"
   ]
  },
  {
   "cell_type": "code",
   "execution_count": null,
   "id": "8ecea83e",
   "metadata": {},
   "outputs": [],
   "source": []
  }
 ],
 "metadata": {
  "kernelspec": {
   "display_name": "Python 3",
   "language": "python",
   "name": "python3"
  },
  "language_info": {
   "codemirror_mode": {
    "name": "ipython",
    "version": 3
   },
   "file_extension": ".py",
   "mimetype": "text/x-python",
   "name": "python",
   "nbconvert_exporter": "python",
   "pygments_lexer": "ipython3",
   "version": "3.7.3"
  }
 },
 "nbformat": 4,
 "nbformat_minor": 5
}
