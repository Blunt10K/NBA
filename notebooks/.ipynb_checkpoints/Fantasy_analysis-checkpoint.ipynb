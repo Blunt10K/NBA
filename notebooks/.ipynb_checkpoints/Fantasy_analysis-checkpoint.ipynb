{
 "cells": [
  {
   "cell_type": "code",
   "execution_count": null,
   "id": "3b9490d6",
   "metadata": {},
   "outputs": [],
   "source": [
    "import sqlalchemy\n",
    "from os import environ\n",
    "\n",
    "import numpy as np\n",
    "import pandas as pd\n",
    "\n",
    "from jupyter_dash import JupyterDash\n",
    "from dash import html\n",
    "from dash.dependencies import Input, Output\n",
    "import plotly.express as px\n",
    "from dash import dcc"
   ]
  },
  {
   "cell_type": "markdown",
   "id": "797c1965",
   "metadata": {},
   "source": [
    "## The ESPN fantasy league assigns value to some recorded player statistics. The values include:\n",
    "\n",
    "- Points scored PTS = 1\n",
    "- Blocks BLK = 4\n",
    "- Assists AST = 2\n",
    "- Rebounds REB = 1\n",
    "- Field goals made FGM = 2\n",
    "- Free throws made FTM = 1\n",
    "- Three pointers made PM3 = 1\n",
    "- Steals STL = 4\n",
    "\n",
    "## Some values result in a penalty (negative scores):\n",
    "\n",
    "- Turnovers TOV = -2\n",
    "- Field goals attempted FGA = -1\n",
    "- Free throws attempted FTA = -1"
   ]
  },
  {
   "cell_type": "code",
   "execution_count": 1,
   "id": "0548c4f6",
   "metadata": {},
   "outputs": [],
   "source": [
    "value = {\"PTS\":1,\"BLK\":4,\"AST\":2,\"REB\":1,\"TOV\":-2,\"FGM\":2,\"FGA\":-1,\"FTM\":1,\"FTA\":-1,\"PM3\":1,\"STL\":4}"
   ]
  },
  {
   "cell_type": "markdown",
   "id": "24f12d87",
   "metadata": {},
   "source": [
    "### The fantasy scores are given as :\n",
    "$$score = \\sum^{N-1}_{i=0} v_i \\cdot s_i$$\n",
    "\n",
    "Where $v_i$ is the value assigned to stat $s_i$."
   ]
  },
  {
   "cell_type": "code",
   "execution_count": 3,
   "id": "7bd9614f",
   "metadata": {},
   "outputs": [],
   "source": [
    "v = np.array(list(value.values()))"
   ]
  },
  {
   "cell_type": "code",
   "execution_count": 37,
   "id": "81b7b8eb",
   "metadata": {},
   "outputs": [],
   "source": [
    "engine = sqlalchemy.create_engine(\"mariadb+mariadbconnector://\"+environ.get(\"USER\")+\\\n",
    "                                  \":\"+environ.get(\"PSWD\")+\"@127.0.0.1:3306/nba\")"
   ]
  },
  {
   "cell_type": "code",
   "execution_count": 54,
   "id": "1ac0f40e",
   "metadata": {},
   "outputs": [],
   "source": [
    "stats = \", \".join(list(value.keys()))"
   ]
  },
  {
   "cell_type": "code",
   "execution_count": 38,
   "id": "17693fcd",
   "metadata": {},
   "outputs": [],
   "source": [
    "fields = \"Name, \" + stats + \", Game_day \"\n",
    "\n",
    "join =  \"Box_scores INNER JOIN Players on Box_scores.Player_ID = Players.ID \"\n",
    "\n",
    "select = \"SELECT \"+ fields + \" FROM \" + join + \"ORDER BY Game_day desc\""
   ]
  },
  {
   "cell_type": "code",
   "execution_count": 39,
   "id": "ce89e0af",
   "metadata": {
    "scrolled": false
   },
   "outputs": [],
   "source": [
    "box_scores = pd.read_sql(select,engine)"
   ]
  },
  {
   "cell_type": "code",
   "execution_count": 40,
   "id": "6cfb606e",
   "metadata": {},
   "outputs": [],
   "source": [
    "box_scores[\"Game_day\"] = pd.to_datetime(box_scores[\"Game_day\"])"
   ]
  },
  {
   "cell_type": "code",
   "execution_count": 41,
   "id": "880befb3",
   "metadata": {
    "scrolled": true
   },
   "outputs": [],
   "source": [
    "def calc_fantasy_points(v, box_scores):\n",
    "    return v @ box_scores"
   ]
  },
  {
   "cell_type": "code",
   "execution_count": 42,
   "id": "fd1f9812",
   "metadata": {},
   "outputs": [],
   "source": [
    "s = np.array(box_scores.values[:,1:-1],dtype = np.int64)"
   ]
  },
  {
   "cell_type": "code",
   "execution_count": 43,
   "id": "a0cd5d09",
   "metadata": {},
   "outputs": [],
   "source": [
    "fantasy_points = calc_fantasy_points(v, s.T)"
   ]
  },
  {
   "cell_type": "code",
   "execution_count": 44,
   "id": "7060b04f",
   "metadata": {},
   "outputs": [],
   "source": [
    "box_scores[\"Fantasy Points\"] = fantasy_points"
   ]
  },
  {
   "cell_type": "code",
   "execution_count": 45,
   "id": "aaad08e8",
   "metadata": {},
   "outputs": [],
   "source": [
    "names = box_scores[\"Name\"].unique()"
   ]
  },
  {
   "cell_type": "code",
   "execution_count": 46,
   "id": "d4526088",
   "metadata": {},
   "outputs": [],
   "source": [
    "rolls= box_scores.sort_values([\"Game_day\"], ascending=[True]).groupby(\"Name\").rolling(4,min_periods =1).mean()"
   ]
  },
  {
   "cell_type": "code",
   "execution_count": 47,
   "id": "94f35612",
   "metadata": {},
   "outputs": [],
   "source": [
    "box_scores[\"Rolling\"] = 1"
   ]
  },
  {
   "cell_type": "code",
   "execution_count": 48,
   "id": "84cf80eb",
   "metadata": {},
   "outputs": [],
   "source": [
    "for i,j in rolls.index:\n",
    "    box_scores.loc[j,\"Rolling\"] = rolls.loc[i,j][\"Fantasy Points\"]"
   ]
  },
  {
   "cell_type": "code",
   "execution_count": 50,
   "id": "5e0f3310",
   "metadata": {},
   "outputs": [],
   "source": [
    "def options(names):\n",
    "    options = []\n",
    "    for i in names:\n",
    "        d = {}\n",
    "        d[\"label\"] = i\n",
    "        d[\"value\"] = i\n",
    "        options.append(d)\n",
    "        \n",
    "    return options"
   ]
  },
  {
   "cell_type": "code",
   "execution_count": 51,
   "id": "3ba1b9cf",
   "metadata": {},
   "outputs": [],
   "source": [
    "def drpdwn():\n",
    "    opts = options(names)\n",
    "    d = dcc.Dropdown(options = opts, value = names[0:2],id = 'dp',multi = True)\n",
    "    \n",
    "    return d"
   ]
  },
  {
   "cell_type": "code",
   "execution_count": 52,
   "id": "587aed61",
   "metadata": {},
   "outputs": [],
   "source": [
    "fig = px.line(y=\"Rolling\", x=\"Game_day\",color=\"Name\",data_frame = box_scores.head(5), markers=True,range_y=(0,100))\n",
    "fig.update_layout(title =\"Fantasy points during current season\", xaxis_title = \"Game Day\",\n",
    "                  title_x = 0.5,yaxis_title = \"4 game Rolling mean / Fantasy points\")\n",
    "\n",
    "\n",
    "app = JupyterDash(__name__)\n",
    "colours = {'text': '#7FDBFF', 'background':'#333333','radio_button':'#BBBBBB'} \n",
    "text_size = {'H1':48,'H2':40,'text':28,'radio_button':20}\n",
    "\n",
    "app.layout = html.Div(style={'backgroundColor':colours['background'],'fontFamily':'Arial'}, children=[\n",
    "    html.H1(children=\"ESPN Fantasy Analysis\",\n",
    "        style = {'textAlign': 'center',\n",
    "                 'color':colours['text'],\n",
    "                 'fontSize':text_size['H1']}),\n",
    "    \n",
    "    \n",
    "    \n",
    "    \n",
    "    html.Div(children=[drpdwn(), dcc.Graph(figure = fig, id = 'graph')])\n",
    "\n",
    "\n",
    "\n",
    "])\n",
    "\n",
    "@app.callback(\n",
    "    Output('graph','figure'),\n",
    "    Input('dp','value'))\n",
    "def update_figure(selected):\n",
    "    d = box_scores.loc[box_scores['Name'].isin(selected)]\n",
    "    \n",
    "    fig = px.line(y=\"Rolling\", x=\"Game_day\",color=\"Name\",data_frame = d, markers=True,range_y=(0,100))\n",
    "    \n",
    "    fig.update_layout(title =\"Fantasy points during current season\", xaxis_title = \"Game Day\",\n",
    "                  title_x = 0.5,yaxis_title = \"4 game Rolling mean / Fantasy points\")\n",
    "    return fig"
   ]
  },
  {
   "cell_type": "code",
   "execution_count": 53,
   "id": "1ffa6460",
   "metadata": {},
   "outputs": [
    {
     "name": "stdout",
     "output_type": "stream",
     "text": [
      "Dash app running on http://127.0.0.1:8050/\n"
     ]
    },
    {
     "name": "stderr",
     "output_type": "stream",
     "text": [
      "/home/blunt/.local/lib/python3.7/site-packages/jupyter_dash/jupyter_app.py:139: UserWarning:\n",
      "\n",
      "The 'environ['werkzeug.server.shutdown']' function is deprecated and will be removed in Werkzeug 2.1.\n",
      "\n"
     ]
    }
   ],
   "source": [
    "app.run_server(mode = \"external\")"
   ]
  },
  {
   "cell_type": "code",
   "execution_count": null,
   "id": "46b47757",
   "metadata": {},
   "outputs": [],
   "source": [
    " "
   ]
  }
 ],
 "metadata": {
  "kernelspec": {
   "display_name": "Python 3",
   "language": "python",
   "name": "python3"
  },
  "language_info": {
   "codemirror_mode": {
    "name": "ipython",
    "version": 3
   },
   "file_extension": ".py",
   "mimetype": "text/x-python",
   "name": "python",
   "nbconvert_exporter": "python",
   "pygments_lexer": "ipython3",
   "version": "3.7.3"
  }
 },
 "nbformat": 4,
 "nbformat_minor": 5
}
