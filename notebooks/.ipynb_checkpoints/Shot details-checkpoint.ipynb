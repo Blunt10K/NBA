{
 "cells": [
  {
   "cell_type": "code",
   "execution_count": 1,
   "id": "22d9f365",
   "metadata": {},
   "outputs": [
    {
     "name": "stderr",
     "output_type": "stream",
     "text": [
      "/usr/lib/python3/dist-packages/requests/__init__.py:91: RequestsDependencyWarning: urllib3 (1.26.7) or chardet (3.0.4) doesn't match a supported version!\n",
      "  RequestsDependencyWarning)\n"
     ]
    }
   ],
   "source": [
    "import requests\n",
    "import json"
   ]
  },
  {
   "cell_type": "code",
   "execution_count": 10,
   "id": "6041c003",
   "metadata": {},
   "outputs": [],
   "source": [
    "url_base = 'https://stats.nba.com/stats/shotchartdetail'\n",
    "boxes = 'https://www.nba.com/stats/players/boxscores/'"
   ]
  },
  {
   "cell_type": "code",
   "execution_count": 11,
   "id": "d6d8e7ce",
   "metadata": {},
   "outputs": [],
   "source": [
    "headers = {\n",
    "\t\t'Host': 'stats.nba.com',\n",
    "\t\t'Connection': 'keep-alive',\n",
    "\t\t'Accept': 'application/json, text/plain, */*',\n",
    "\t\t'User-Agent': 'Mozilla/5.0 (Windows NT 10.0; Win64; x64) AppleWebKit/537.36 (KHTML, like Gecko) Chrome/79.0.3945.130 Safari/537.36',\n",
    "\t\t'Referer': 'https://stats.nba.com/',\n",
    "\t\t\"x-nba-stats-origin\": \"stats\",\n",
    "\t\t\"x-nba-stats-token\": \"true\",\n",
    "\t\t'Accept-Encoding': 'gzip, deflate, br',\n",
    "\t\t'Accept-Language': 'en-US,en;q=0.9',\n",
    "\t}"
   ]
  },
  {
   "cell_type": "code",
   "execution_count": 15,
   "id": "4ac32435",
   "metadata": {},
   "outputs": [],
   "source": [
    "parameters = {\n",
    "\t'ContextMeasure': 'FGA',\n",
    "\t'LastNGames': 0,\n",
    "\t'LeagueID': '00',\n",
    "\t'Month': 0,\n",
    "\t'OpponentTeamID': 0,\n",
    "\t'Period': 0,\n",
    "\t'PlayerID': 0,\n",
    "\t'SeasonType': 'Regular Season',\n",
    "\t'TeamID': 0,\n",
    "\t'VsDivision': '',\n",
    "\t'VsConference': '',\n",
    "\t'SeasonSegment': '',\n",
    "\t'Season': '2020-21',\n",
    "\t'RookieYear': '',\n",
    "\t'PlayerPosition': '',\n",
    "\t'Outcome': '',\n",
    "\t'Location': '',\n",
    "\t'GameSegment': '',\n",
    "\t'GameId': '',\n",
    "\t'DateTo': '',\n",
    "\t'DateFrom': ''\n",
    "}"
   ]
  },
  {
   "cell_type": "code",
   "execution_count": 16,
   "id": "f4a49ca7",
   "metadata": {},
   "outputs": [
    {
     "data": {
      "text/plain": [
       "b'Invalid parameters'"
      ]
     },
     "execution_count": 16,
     "metadata": {},
     "output_type": "execute_result"
    }
   ],
   "source": [
    "response.content"
   ]
  },
  {
   "cell_type": "code",
   "execution_count": 17,
   "id": "e3c25c75",
   "metadata": {},
   "outputs": [],
   "source": [
    "response = requests.get(url_base, params=parameters, headers=headers)\n",
    "content = json.loads(response.content)"
   ]
  },
  {
   "cell_type": "code",
   "execution_count": 18,
   "id": "415d0df3",
   "metadata": {},
   "outputs": [
    {
     "data": {
      "text/plain": [
       "dict_keys(['resource', 'parameters', 'resultSets'])"
      ]
     },
     "execution_count": 18,
     "metadata": {},
     "output_type": "execute_result"
    }
   ],
   "source": [
    "content.keys()"
   ]
  },
  {
   "cell_type": "code",
   "execution_count": 19,
   "id": "4feed7ca",
   "metadata": {},
   "outputs": [],
   "source": [
    "import pandas as pd"
   ]
  },
  {
   "cell_type": "code",
   "execution_count": 20,
   "id": "df7fb20e",
   "metadata": {},
   "outputs": [
    {
     "data": {
      "text/plain": [
       "dict_keys(['name', 'headers', 'rowSet'])"
      ]
     },
     "execution_count": 20,
     "metadata": {},
     "output_type": "execute_result"
    }
   ],
   "source": [
    "content['resultSets'][1].keys()"
   ]
  },
  {
   "cell_type": "code",
   "execution_count": 21,
   "id": "e415ff41",
   "metadata": {},
   "outputs": [
    {
     "data": {
      "text/plain": [
       "dict_keys(['name', 'headers', 'rowSet'])"
      ]
     },
     "execution_count": 21,
     "metadata": {},
     "output_type": "execute_result"
    }
   ],
   "source": [
    "content['resultSets'][0].keys()"
   ]
  },
  {
   "cell_type": "code",
   "execution_count": 23,
   "id": "a3948f8f",
   "metadata": {},
   "outputs": [],
   "source": [
    "df1 = pd.DataFrame(data = content['resultSets'][0]['rowSet'], columns=content['resultSets'][0]['headers'])"
   ]
  },
  {
   "cell_type": "code",
   "execution_count": null,
   "id": "83675cef",
   "metadata": {},
   "outputs": [],
   "source": []
  },
  {
   "cell_type": "code",
   "execution_count": 24,
   "id": "a45fba8f",
   "metadata": {},
   "outputs": [],
   "source": [
    "df1[\"GAME_DATE\"] = pd.to_datetime(df1['GAME_DATE'])"
   ]
  },
  {
   "cell_type": "code",
   "execution_count": 27,
   "id": "b4ddfe13",
   "metadata": {},
   "outputs": [
    {
     "data": {
      "text/plain": [
       "Index(['GRID_TYPE', 'GAME_ID', 'GAME_EVENT_ID', 'PLAYER_ID', 'PLAYER_NAME',\n",
       "       'TEAM_ID', 'TEAM_NAME', 'PERIOD', 'MINUTES_REMAINING',\n",
       "       'SECONDS_REMAINING', 'EVENT_TYPE', 'ACTION_TYPE', 'SHOT_TYPE',\n",
       "       'SHOT_ZONE_BASIC', 'SHOT_ZONE_AREA', 'SHOT_ZONE_RANGE', 'SHOT_DISTANCE',\n",
       "       'LOC_X', 'LOC_Y', 'SHOT_ATTEMPTED_FLAG', 'SHOT_MADE_FLAG', 'GAME_DATE',\n",
       "       'HTM', 'VTM'],\n",
       "      dtype='object')"
      ]
     },
     "execution_count": 27,
     "metadata": {},
     "output_type": "execute_result"
    }
   ],
   "source": [
    "df1.columns"
   ]
  },
  {
   "cell_type": "code",
   "execution_count": 29,
   "id": "65c93d73",
   "metadata": {},
   "outputs": [],
   "source": [
    "df1.to_csv('shot_details2020-21.csv')"
   ]
  },
  {
   "cell_type": "code",
   "execution_count": 30,
   "id": "8a7b4c2b",
   "metadata": {},
   "outputs": [
    {
     "data": {
      "text/plain": [
       "190983"
      ]
     },
     "execution_count": 30,
     "metadata": {},
     "output_type": "execute_result"
    }
   ],
   "source": [
    "len(df1)"
   ]
  },
  {
   "cell_type": "code",
   "execution_count": 77,
   "id": "4c6402b2",
   "metadata": {},
   "outputs": [],
   "source": [
    "shot_types = df1.value_counts('ACTION_TYPE',normalize=True)"
   ]
  },
  {
   "cell_type": "code",
   "execution_count": 79,
   "id": "6c9b8836",
   "metadata": {},
   "outputs": [],
   "source": [
    "det_shots = df1.loc[df1['TEAM_NAME']=='Detroit Pistons']"
   ]
  },
  {
   "cell_type": "code",
   "execution_count": 83,
   "id": "30b2b130",
   "metadata": {},
   "outputs": [],
   "source": [
    "det_shot_types = det_shots.value_counts(['ACTION_TYPE'],normalize=True)"
   ]
  },
  {
   "cell_type": "code",
   "execution_count": 86,
   "id": "7da5ae76",
   "metadata": {},
   "outputs": [
    {
     "data": {
      "text/plain": [
       "SHOT_ZONE_AREA       \n",
       "Center(C)                0.570295\n",
       "Left Side Center(LC)     0.131181\n",
       "Right Side Center(RC)    0.115129\n",
       "Left Side(L)             0.096679\n",
       "Right Side(R)            0.083579\n",
       "Back Court(BC)           0.003137\n",
       "dtype: float64"
      ]
     },
     "execution_count": 86,
     "metadata": {},
     "output_type": "execute_result"
    }
   ],
   "source": [
    "det_shots.value_counts(['SHOT_ZONE_AREA'],normalize=True)"
   ]
  },
  {
   "cell_type": "code",
   "execution_count": 89,
   "id": "86685bfc",
   "metadata": {},
   "outputs": [],
   "source": [
    "det_shot_types['Step Back Bank Jump Shot'] = 0"
   ]
  },
  {
   "cell_type": "code",
   "execution_count": 98,
   "id": "83f3dd0e",
   "metadata": {},
   "outputs": [],
   "source": [
    "shots = df1.value_counts('SHOT_TYPE',normalize=True)\n",
    "det_shots = det_shots.value_counts('SHOT_TYPE',normalize=True)"
   ]
  },
  {
   "cell_type": "code",
   "execution_count": 99,
   "id": "364b540e",
   "metadata": {},
   "outputs": [
    {
     "name": "stdout",
     "output_type": "stream",
     "text": [
      "DET - League percentages:\n",
      "\n",
      "2PT Field Goal: 1.0\n",
      "3PT Field Goal: -1.0\n"
     ]
    }
   ],
   "source": [
    "print('DET - League percentages:\\n')\n",
    "for i in shots.index:\n",
    "    a = round(shots[i]*100,1)\n",
    "    b = round(det_shots[i]*100,1)\n",
    "    c = round(b-a,1)\n",
    "#     print(i+' League: '+str(a)+'\\t DET: '+str(b))\n",
    "    print(i+': '+str(c))"
   ]
  },
  {
   "cell_type": "code",
   "execution_count": 97,
   "id": "100e8972",
   "metadata": {},
   "outputs": [
    {
     "name": "stdout",
     "output_type": "stream",
     "text": [
      "DET - League percentages:\n",
      "\n",
      "Alley Oop Dunk Shot: -0.5\n",
      "Alley Oop Layup shot: -0.2\n",
      "Cutting Dunk Shot: -0.7\n",
      "Cutting Finger Roll Layup Shot: -0.1\n",
      "Cutting Layup Shot: -0.5\n",
      "Driving Bank Hook Shot: -0.1\n",
      "Driving Dunk Shot: 0.0\n",
      "Driving Finger Roll Layup Shot: -0.2\n",
      "Driving Floating Bank Jump Shot: -0.3\n",
      "Driving Floating Jump Shot: -1.5\n",
      "Driving Hook Shot: 0.0\n",
      "Driving Layup Shot: 1.4\n",
      "Driving Reverse Dunk Shot: 0.0\n",
      "Driving Reverse Layup Shot: 0.1\n",
      "Dunk Shot: -0.3\n",
      "Fadeaway Jump Shot: 0.0\n",
      "Finger Roll Layup Shot: 0.0\n",
      "Floating Jump shot: -0.2\n",
      "Hook Bank Shot: 0.0\n",
      "Hook Shot: 0.3\n",
      "Jump Bank Shot: -0.1\n",
      "Jump Shot: 3.8\n",
      "Layup Shot: 2.2\n",
      "Pullup Jump shot: -1.4\n",
      "Putback Dunk Shot: -0.1\n",
      "Putback Layup Shot: 0.5\n",
      "Reverse Dunk Shot: -0.1\n",
      "Reverse Layup Shot: 0.2\n",
      "Running Alley Oop Dunk Shot: -0.1\n",
      "Running Alley Oop Layup Shot: -0.1\n",
      "Running Dunk Shot: 0.0\n",
      "Running Finger Roll Layup Shot: 0.0\n",
      "Running Jump Shot: -0.5\n",
      "Running Layup Shot: 0.0\n",
      "Running Pull-Up Jump Shot: -0.4\n",
      "Running Reverse Dunk Shot: 0.0\n",
      "Running Reverse Layup Shot: 0.0\n",
      "Step Back Bank Jump Shot: 0.0\n",
      "Step Back Jump shot: -1.4\n",
      "Tip Dunk Shot: -0.2\n",
      "Tip Layup Shot: 1.0\n",
      "Turnaround Bank Hook Shot: 0.0\n",
      "Turnaround Fadeaway Bank Jump Shot: -0.1\n",
      "Turnaround Fadeaway shot: -0.3\n",
      "Turnaround Hook Shot: 0.0\n",
      "Turnaround Jump Shot: -0.2\n"
     ]
    }
   ],
   "source": [
    "print('DET - League percentages:\\n')\n",
    "for i in ordered:\n",
    "    a = round(shot_types[i]*100,1)\n",
    "    b = round(det_shot_types[i]*100,1)\n",
    "    c = round(b-a,1)\n",
    "#     print(i+' League: '+str(a)+'\\t DET: '+str(b))\n",
    "    print(i+': '+str(c))"
   ]
  },
  {
   "cell_type": "code",
   "execution_count": 87,
   "id": "fae904cd",
   "metadata": {},
   "outputs": [],
   "source": [
    "ordered = sorted(list(shot_types.index))"
   ]
  },
  {
   "cell_type": "code",
   "execution_count": 94,
   "id": "b7dc8574",
   "metadata": {},
   "outputs": [
    {
     "data": {
      "text/plain": [
       "46"
      ]
     },
     "execution_count": 94,
     "metadata": {},
     "output_type": "execute_result"
    }
   ],
   "source": [
    "len(ordered)"
   ]
  },
  {
   "cell_type": "code",
   "execution_count": 67,
   "id": "ff54c400",
   "metadata": {},
   "outputs": [
    {
     "name": "stdout",
     "output_type": "stream",
     "text": [
      "Alley Oop Dunk Shot: 0.8\n",
      "Alley Oop Layup shot: 0.4\n",
      "Cutting Dunk Shot: 1.4\n",
      "Cutting Finger Roll Layup Shot: 0.3\n",
      "Cutting Layup Shot: 2.5\n",
      "Driving Bank Hook Shot: 0.1\n",
      "Driving Dunk Shot: 0.8\n",
      "Driving Finger Roll Layup Shot: 2.3\n",
      "Driving Floating Bank Jump Shot: 1.2\n",
      "Driving Floating Jump Shot: 4.4\n",
      "Driving Hook Shot: 0.5\n",
      "Driving Layup Shot: 8.8\n",
      "Driving Reverse Dunk Shot: 0.0\n",
      "Driving Reverse Layup Shot: 0.9\n",
      "Dunk Shot: 0.8\n",
      "Fadeaway Jump Shot: 1.9\n",
      "Finger Roll Layup Shot: 0.2\n",
      "Floating Jump shot: 2.3\n",
      "Hook Bank Shot: 0.1\n",
      "Hook Shot: 1.0\n",
      "Jump Bank Shot: 0.3\n",
      "Jump Shot: 33.0\n",
      "Layup Shot: 3.8\n",
      "Pullup Jump shot: 12.2\n",
      "Putback Dunk Shot: 0.2\n",
      "Putback Layup Shot: 1.5\n",
      "Reverse Dunk Shot: 0.1\n",
      "Reverse Layup Shot: 0.7\n",
      "Running Alley Oop Dunk Shot: 0.2\n",
      "Running Alley Oop Layup Shot: 0.1\n",
      "Running Dunk Shot: 1.0\n",
      "Running Finger Roll Layup Shot: 0.5\n",
      "Running Jump Shot: 1.3\n",
      "Running Layup Shot: 2.3\n",
      "Running Pull-Up Jump Shot: 0.8\n",
      "Running Reverse Dunk Shot: 0.0\n",
      "Running Reverse Layup Shot: 0.2\n",
      "Step Back Bank Jump Shot: 0.0\n",
      "Step Back Jump shot: 4.7\n",
      "Tip Dunk Shot: 0.3\n",
      "Tip Layup Shot: 2.1\n",
      "Turnaround Bank Hook Shot: 0.1\n",
      "Turnaround Fadeaway Bank Jump Shot: 0.3\n",
      "Turnaround Fadeaway shot: 1.4\n",
      "Turnaround Hook Shot: 1.0\n",
      "Turnaround Jump Shot: 1.4\n"
     ]
    }
   ],
   "source": [
    "total = 0\n",
    "for i in ordered:\n",
    "    a = round(shot_types[i]*100,1)\n",
    "    total += a\n",
    "    print(i+': '+str(a))"
   ]
  },
  {
   "cell_type": "code",
   "execution_count": 68,
   "id": "723bc70a",
   "metadata": {},
   "outputs": [
    {
     "data": {
      "text/plain": [
       "100.19999999999999"
      ]
     },
     "execution_count": 68,
     "metadata": {},
     "output_type": "execute_result"
    }
   ],
   "source": [
    "total"
   ]
  },
  {
   "cell_type": "code",
   "execution_count": 30,
   "id": "ceb22d08",
   "metadata": {},
   "outputs": [],
   "source": [
    "df2 = pd.DataFrame(data = content['resultSets'][1]['rowSet'], columns=content['resultSets'][1]['headers'])"
   ]
  },
  {
   "cell_type": "code",
   "execution_count": 72,
   "id": "c7d84727",
   "metadata": {},
   "outputs": [
    {
     "data": {
      "text/html": [
       "<div>\n",
       "<style scoped>\n",
       "    .dataframe tbody tr th:only-of-type {\n",
       "        vertical-align: middle;\n",
       "    }\n",
       "\n",
       "    .dataframe tbody tr th {\n",
       "        vertical-align: top;\n",
       "    }\n",
       "\n",
       "    .dataframe thead th {\n",
       "        text-align: right;\n",
       "    }\n",
       "</style>\n",
       "<table border=\"1\" class=\"dataframe\">\n",
       "  <thead>\n",
       "    <tr style=\"text-align: right;\">\n",
       "      <th></th>\n",
       "      <th>GRID_TYPE</th>\n",
       "      <th>SHOT_ZONE_BASIC</th>\n",
       "      <th>SHOT_ZONE_AREA</th>\n",
       "      <th>SHOT_ZONE_RANGE</th>\n",
       "      <th>FGA</th>\n",
       "      <th>FGM</th>\n",
       "      <th>FG_PCT</th>\n",
       "    </tr>\n",
       "  </thead>\n",
       "  <tbody>\n",
       "    <tr>\n",
       "      <th>0</th>\n",
       "      <td>League Averages</td>\n",
       "      <td>Above the Break 3</td>\n",
       "      <td>Back Court(BC)</td>\n",
       "      <td>Back Court Shot</td>\n",
       "      <td>28</td>\n",
       "      <td>3</td>\n",
       "      <td>0.107</td>\n",
       "    </tr>\n",
       "    <tr>\n",
       "      <th>1</th>\n",
       "      <td>League Averages</td>\n",
       "      <td>Above the Break 3</td>\n",
       "      <td>Center(C)</td>\n",
       "      <td>24+ ft.</td>\n",
       "      <td>12228</td>\n",
       "      <td>4148</td>\n",
       "      <td>0.339</td>\n",
       "    </tr>\n",
       "    <tr>\n",
       "      <th>2</th>\n",
       "      <td>League Averages</td>\n",
       "      <td>Above the Break 3</td>\n",
       "      <td>Left Side Center(LC)</td>\n",
       "      <td>24+ ft.</td>\n",
       "      <td>18508</td>\n",
       "      <td>6234</td>\n",
       "      <td>0.337</td>\n",
       "    </tr>\n",
       "    <tr>\n",
       "      <th>3</th>\n",
       "      <td>League Averages</td>\n",
       "      <td>Above the Break 3</td>\n",
       "      <td>Right Side Center(RC)</td>\n",
       "      <td>24+ ft.</td>\n",
       "      <td>17384</td>\n",
       "      <td>6059</td>\n",
       "      <td>0.349</td>\n",
       "    </tr>\n",
       "    <tr>\n",
       "      <th>4</th>\n",
       "      <td>League Averages</td>\n",
       "      <td>Backcourt</td>\n",
       "      <td>Back Court(BC)</td>\n",
       "      <td>Back Court Shot</td>\n",
       "      <td>318</td>\n",
       "      <td>10</td>\n",
       "      <td>0.031</td>\n",
       "    </tr>\n",
       "    <tr>\n",
       "      <th>5</th>\n",
       "      <td>League Averages</td>\n",
       "      <td>In The Paint (Non-RA)</td>\n",
       "      <td>Center(C)</td>\n",
       "      <td>8-16 ft.</td>\n",
       "      <td>8812</td>\n",
       "      <td>3888</td>\n",
       "      <td>0.441</td>\n",
       "    </tr>\n",
       "    <tr>\n",
       "      <th>6</th>\n",
       "      <td>League Averages</td>\n",
       "      <td>In The Paint (Non-RA)</td>\n",
       "      <td>Center(C)</td>\n",
       "      <td>Less Than 8 ft.</td>\n",
       "      <td>17114</td>\n",
       "      <td>7136</td>\n",
       "      <td>0.417</td>\n",
       "    </tr>\n",
       "    <tr>\n",
       "      <th>7</th>\n",
       "      <td>League Averages</td>\n",
       "      <td>In The Paint (Non-RA)</td>\n",
       "      <td>Left Side(L)</td>\n",
       "      <td>8-16 ft.</td>\n",
       "      <td>1643</td>\n",
       "      <td>703</td>\n",
       "      <td>0.428</td>\n",
       "    </tr>\n",
       "    <tr>\n",
       "      <th>8</th>\n",
       "      <td>League Averages</td>\n",
       "      <td>In The Paint (Non-RA)</td>\n",
       "      <td>Right Side(R)</td>\n",
       "      <td>8-16 ft.</td>\n",
       "      <td>1762</td>\n",
       "      <td>746</td>\n",
       "      <td>0.423</td>\n",
       "    </tr>\n",
       "    <tr>\n",
       "      <th>9</th>\n",
       "      <td>League Averages</td>\n",
       "      <td>Left Corner 3</td>\n",
       "      <td>Left Side(L)</td>\n",
       "      <td>24+ ft.</td>\n",
       "      <td>8342</td>\n",
       "      <td>3182</td>\n",
       "      <td>0.381</td>\n",
       "    </tr>\n",
       "    <tr>\n",
       "      <th>10</th>\n",
       "      <td>League Averages</td>\n",
       "      <td>Mid-Range</td>\n",
       "      <td>Center(C)</td>\n",
       "      <td>8-16 ft.</td>\n",
       "      <td>1594</td>\n",
       "      <td>695</td>\n",
       "      <td>0.436</td>\n",
       "    </tr>\n",
       "    <tr>\n",
       "      <th>11</th>\n",
       "      <td>League Averages</td>\n",
       "      <td>Mid-Range</td>\n",
       "      <td>Center(C)</td>\n",
       "      <td>16-24 ft.</td>\n",
       "      <td>3105</td>\n",
       "      <td>1310</td>\n",
       "      <td>0.422</td>\n",
       "    </tr>\n",
       "    <tr>\n",
       "      <th>12</th>\n",
       "      <td>League Averages</td>\n",
       "      <td>Mid-Range</td>\n",
       "      <td>Left Side Center(LC)</td>\n",
       "      <td>16-24 ft.</td>\n",
       "      <td>2977</td>\n",
       "      <td>1211</td>\n",
       "      <td>0.407</td>\n",
       "    </tr>\n",
       "    <tr>\n",
       "      <th>13</th>\n",
       "      <td>League Averages</td>\n",
       "      <td>Mid-Range</td>\n",
       "      <td>Left Side(L)</td>\n",
       "      <td>8-16 ft.</td>\n",
       "      <td>3734</td>\n",
       "      <td>1494</td>\n",
       "      <td>0.400</td>\n",
       "    </tr>\n",
       "    <tr>\n",
       "      <th>14</th>\n",
       "      <td>League Averages</td>\n",
       "      <td>Mid-Range</td>\n",
       "      <td>Left Side(L)</td>\n",
       "      <td>16-24 ft.</td>\n",
       "      <td>1246</td>\n",
       "      <td>451</td>\n",
       "      <td>0.362</td>\n",
       "    </tr>\n",
       "    <tr>\n",
       "      <th>15</th>\n",
       "      <td>League Averages</td>\n",
       "      <td>Mid-Range</td>\n",
       "      <td>Right Side Center(RC)</td>\n",
       "      <td>16-24 ft.</td>\n",
       "      <td>3104</td>\n",
       "      <td>1228</td>\n",
       "      <td>0.396</td>\n",
       "    </tr>\n",
       "    <tr>\n",
       "      <th>16</th>\n",
       "      <td>League Averages</td>\n",
       "      <td>Mid-Range</td>\n",
       "      <td>Right Side(R)</td>\n",
       "      <td>8-16 ft.</td>\n",
       "      <td>3873</td>\n",
       "      <td>1617</td>\n",
       "      <td>0.418</td>\n",
       "    </tr>\n",
       "    <tr>\n",
       "      <th>17</th>\n",
       "      <td>League Averages</td>\n",
       "      <td>Mid-Range</td>\n",
       "      <td>Right Side(R)</td>\n",
       "      <td>16-24 ft.</td>\n",
       "      <td>1198</td>\n",
       "      <td>448</td>\n",
       "      <td>0.374</td>\n",
       "    </tr>\n",
       "    <tr>\n",
       "      <th>18</th>\n",
       "      <td>League Averages</td>\n",
       "      <td>Restricted Area</td>\n",
       "      <td>Center(C)</td>\n",
       "      <td>Less Than 8 ft.</td>\n",
       "      <td>46740</td>\n",
       "      <td>30230</td>\n",
       "      <td>0.647</td>\n",
       "    </tr>\n",
       "    <tr>\n",
       "      <th>19</th>\n",
       "      <td>League Averages</td>\n",
       "      <td>Right Corner 3</td>\n",
       "      <td>Right Side(R)</td>\n",
       "      <td>24+ ft.</td>\n",
       "      <td>7440</td>\n",
       "      <td>2818</td>\n",
       "      <td>0.379</td>\n",
       "    </tr>\n",
       "  </tbody>\n",
       "</table>\n",
       "</div>"
      ],
      "text/plain": [
       "          GRID_TYPE        SHOT_ZONE_BASIC         SHOT_ZONE_AREA  \\\n",
       "0   League Averages      Above the Break 3         Back Court(BC)   \n",
       "1   League Averages      Above the Break 3              Center(C)   \n",
       "2   League Averages      Above the Break 3   Left Side Center(LC)   \n",
       "3   League Averages      Above the Break 3  Right Side Center(RC)   \n",
       "4   League Averages              Backcourt         Back Court(BC)   \n",
       "5   League Averages  In The Paint (Non-RA)              Center(C)   \n",
       "6   League Averages  In The Paint (Non-RA)              Center(C)   \n",
       "7   League Averages  In The Paint (Non-RA)           Left Side(L)   \n",
       "8   League Averages  In The Paint (Non-RA)          Right Side(R)   \n",
       "9   League Averages          Left Corner 3           Left Side(L)   \n",
       "10  League Averages              Mid-Range              Center(C)   \n",
       "11  League Averages              Mid-Range              Center(C)   \n",
       "12  League Averages              Mid-Range   Left Side Center(LC)   \n",
       "13  League Averages              Mid-Range           Left Side(L)   \n",
       "14  League Averages              Mid-Range           Left Side(L)   \n",
       "15  League Averages              Mid-Range  Right Side Center(RC)   \n",
       "16  League Averages              Mid-Range          Right Side(R)   \n",
       "17  League Averages              Mid-Range          Right Side(R)   \n",
       "18  League Averages        Restricted Area              Center(C)   \n",
       "19  League Averages         Right Corner 3          Right Side(R)   \n",
       "\n",
       "    SHOT_ZONE_RANGE    FGA    FGM  FG_PCT  \n",
       "0   Back Court Shot     28      3   0.107  \n",
       "1           24+ ft.  12228   4148   0.339  \n",
       "2           24+ ft.  18508   6234   0.337  \n",
       "3           24+ ft.  17384   6059   0.349  \n",
       "4   Back Court Shot    318     10   0.031  \n",
       "5          8-16 ft.   8812   3888   0.441  \n",
       "6   Less Than 8 ft.  17114   7136   0.417  \n",
       "7          8-16 ft.   1643    703   0.428  \n",
       "8          8-16 ft.   1762    746   0.423  \n",
       "9           24+ ft.   8342   3182   0.381  \n",
       "10         8-16 ft.   1594    695   0.436  \n",
       "11        16-24 ft.   3105   1310   0.422  \n",
       "12        16-24 ft.   2977   1211   0.407  \n",
       "13         8-16 ft.   3734   1494   0.400  \n",
       "14        16-24 ft.   1246    451   0.362  \n",
       "15        16-24 ft.   3104   1228   0.396  \n",
       "16         8-16 ft.   3873   1617   0.418  \n",
       "17        16-24 ft.   1198    448   0.374  \n",
       "18  Less Than 8 ft.  46740  30230   0.647  \n",
       "19          24+ ft.   7440   2818   0.379  "
      ]
     },
     "execution_count": 72,
     "metadata": {},
     "output_type": "execute_result"
    }
   ],
   "source": [
    "df2"
   ]
  },
  {
   "cell_type": "code",
   "execution_count": 100,
   "id": "0e4e5902",
   "metadata": {},
   "outputs": [],
   "source": [
    "from sqlalchemy import create_engine\n",
    "from os import environ"
   ]
  },
  {
   "cell_type": "code",
   "execution_count": 101,
   "id": "1abd96ef",
   "metadata": {},
   "outputs": [],
   "source": [
    "engine = create_engine(\"mariadb+mariadbconnector://\"\\\n",
    "                                  +environ.get(\"USER\")+\":\"\\\n",
    "                                  +environ.get(\"PSWD\")+\"@127.0.0.1:3306/nba\")"
   ]
  },
  {
   "cell_type": "code",
   "execution_count": 104,
   "id": "245e9a96",
   "metadata": {},
   "outputs": [],
   "source": [
    "df1.to_csv('shot_details.csv',index=False,mode='a')"
   ]
  },
  {
   "cell_type": "code",
   "execution_count": null,
   "id": "9a1c3665",
   "metadata": {},
   "outputs": [],
   "source": []
  }
 ],
 "metadata": {
  "kernelspec": {
   "display_name": "Python 3",
   "language": "python",
   "name": "python3"
  },
  "language_info": {
   "codemirror_mode": {
    "name": "ipython",
    "version": 3
   },
   "file_extension": ".py",
   "mimetype": "text/x-python",
   "name": "python",
   "nbconvert_exporter": "python",
   "pygments_lexer": "ipython3",
   "version": "3.7.3"
  }
 },
 "nbformat": 4,
 "nbformat_minor": 5
}
