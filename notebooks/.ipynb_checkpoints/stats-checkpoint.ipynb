{
 "cells": [
  {
   "cell_type": "code",
   "execution_count": 11,
   "id": "6425f117",
   "metadata": {},
   "outputs": [],
   "source": [
    "import pandas as pd\n",
    "from time import strftime,localtime\n",
    "from sqlalchemy import create_engine\n",
    "from os import environ\n",
    "from os.path import exists\n",
    "from os import mkdir"
   ]
  },
  {
   "cell_type": "code",
   "execution_count": 35,
   "id": "aaa05ea6",
   "metadata": {},
   "outputs": [],
   "source": [
    "from sys import path"
   ]
  },
  {
   "cell_type": "code",
   "execution_count": 36,
   "id": "8e23c7cb",
   "metadata": {},
   "outputs": [],
   "source": [
    "path.insert(0,'./code/')"
   ]
  },
  {
   "cell_type": "code",
   "execution_count": 37,
   "id": "63e26bc5",
   "metadata": {},
   "outputs": [],
   "source": [
    "from web_scraper import *"
   ]
  },
  {
   "cell_type": "code",
   "execution_count": 38,
   "id": "ec0a3f5d",
   "metadata": {},
   "outputs": [],
   "source": [
    "from selenium import webdriver"
   ]
  },
  {
   "cell_type": "code",
   "execution_count": 16,
   "id": "c2631d2e",
   "metadata": {},
   "outputs": [],
   "source": [
    "def add_new_players(engine, names, ids):\n",
    "    condition = str(tuple(ids))\n",
    "    existing_players = pd.read_sql(\"select * from Players where ID IN \"+condition,engine)\n",
    "        \n",
    "    c = pd.DataFrame({\"ID\":ids,\"Name\":names}).drop_duplicates()\n",
    "    e = c.merge(existing_players,on=\"ID\",how='left',indicator=True,suffixes = ('','_y'))\n",
    "    e = e.loc[e[\"_merge\"]== \"left_only\"][[\"ID\",\"Name\"]]\n",
    "        \n",
    "    e.to_sql(\"Players\",engine,index=False, if_exists=\"append\")\n",
    "    \n",
    "    return"
   ]
  },
  {
   "cell_type": "code",
   "execution_count": 17,
   "id": "1c7ed725",
   "metadata": {},
   "outputs": [],
   "source": [
    "class Box:\n",
    "    def __init__(self):\n",
    "        self.boxes = Box_scores()        \n",
    "        self.table = \"Box_scores\"\n",
    "        self.scores =[]\n",
    "        self.page_count = pd.read_csv(\"../box_score.csv\")\n",
    "        self.engine = create_engine(\"mariadb+mariadbconnector://\"\\\n",
    "                                  +environ.get(\"USER\")+\":\"\\\n",
    "                                  +environ.get(\"PSWD\")+\"@127.0.0.1:3306/nba\")\n",
    "        \n",
    "        self.db_columns = ['Player_ID', 'Team_ID', 'Game_ID', 'Matchup', 'Game_day', 'Result',\n",
    "                        'MINS', 'PTS', 'FGM', 'FGA', 'FGP', 'PM3', 'PA3', 'P3P', 'FTM', 'FTA',\n",
    "                        'FTP', 'OREB', 'DREB', 'REB', 'AST', 'STL', 'BLK', 'TOV',  'PF']\n",
    "        \n",
    "    def add_new_box_scores(self,df):\n",
    "        existing = pd.read_sql(\"select * from Box_scores\",self.engine)\n",
    "\n",
    "        e = df.merge(existing,on=[\"Player_ID\",\"Team_ID\",\"Game_ID\"],how='left',indicator=True,suffixes = ('','_y'))\n",
    "        e = e.loc[e[\"_merge\"]== \"left_only\"][df.columns]\n",
    "\n",
    "        e.to_sql(\"Box_scores\",self.engine,index=False, if_exists=\"append\")\n",
    "\n",
    "        return\n",
    "        \n",
    "    def write(self,html,pids,tids,gids):\n",
    "        df = pd.read_html(html,na_values=['-'])[0]\n",
    "        self.scores = df\n",
    "        df = df.drop(columns = ['Season','+/-','FP'])\n",
    "        \n",
    "        add_new_players(self.engine, df[df.columns[0]],pids)\n",
    "        df = df[df.columns[2:]]\n",
    "        \n",
    "        d = dict(zip(df.columns,self.db_columns[3:]))\n",
    "        df = df.rename(columns=d)\n",
    "        \n",
    "        df.insert(0, \"Player_ID\",pids)\n",
    "        df.insert(1, \"Team_ID\",tids)\n",
    "        df.insert(2, \"Game_ID\",gids)\n",
    "        \n",
    "        \n",
    "        df['Game_day'] = pd.to_datetime(df['Game_day'])\n",
    "        \n",
    "        df = df[self.db_columns]\n",
    "        df = df.drop_duplicates()\n",
    "\n",
    "        self.add_new_box_scores(df)\n",
    "        \n",
    "        return \n",
    "    \n",
    "    def get_last_year(self,year):\n",
    "        if(year > 2000):\n",
    "            return year % 2000\n",
    "        return year % 100\n",
    "        \n",
    "    def get_season(self, driver, year, reg_season=True):\n",
    "        \n",
    "        url = self.boxes.build_url(year,reg_season)\n",
    "        \n",
    "        for html in self.boxes.iter_all(url, driver):\n",
    "            pids, tids, gids = self.boxes.get_player_and_team_ids(html)\n",
    "            self.write(html,pids,tids,gids)\n",
    "        \n",
    "        return\n",
    "        \n",
    "       \n",
    "    def get_player_stats(self,year,reg_season = True):\n",
    "        with webdriver.Chrome() as driver:\n",
    "            year_range = str(year-1) + \"-{:0>2d}\".format(self.get_last_year(year))\n",
    "\n",
    "            self.get_season(driver,year_range,reg_season)\n",
    "\n",
    "        return"
   ]
  },
  {
   "cell_type": "code",
   "execution_count": 58,
   "id": "cd7a5db5",
   "metadata": {},
   "outputs": [],
   "source": [
    "class Team_standings:\n",
    "    \n",
    "    def __init__(self):\n",
    "        self.REG = \"002\"\n",
    "        self.POST = \"004\"\n",
    "        self.teams = Teams()\n",
    "        self.db_columns = ['SEASON_ID', 'TEAM_ID', 'GP', 'W', 'L', 'WINP', 'MINS', 'PTS', 'FGM',\n",
    "                        'FGA', 'FGP', 'PM3', 'PA3', 'P3P', 'FTM', 'FTA', 'FTP', 'OREB', 'DREB',\n",
    "                        'REB', 'AST', 'TOV', 'STL', 'BLK', 'BLKA', 'PF', 'PFD']\n",
    "        self.engine = create_engine(\"mariadb+mariadbconnector://\"\\\n",
    "                                  +environ.get(\"USER\")+\":\"\\\n",
    "                                  +environ.get(\"PSWD\")+\"@127.0.0.1:3306/nba\")\n",
    "        \n",
    "    def get_last_year(self,year):\n",
    "        if(year > 2000):\n",
    "            return year % 2000\n",
    "        return year % 100\n",
    "\n",
    "    \n",
    "    def write(self,html,tids,season_id):\n",
    "        df = pd.read_html(html)[0]\n",
    "        df = df.drop(columns = ['TEAM','+/-'])\n",
    "        \n",
    "        d = dict(zip(df.columns,self.db_columns[2:]))\n",
    "        df = df.rename(columns=d)\n",
    "        \n",
    "        df[\"TEAM_ID\"] = tids\n",
    "        df[\"SEASON_ID\"] = season_id\n",
    "        \n",
    "        df = df.dropna('columns')\n",
    "        \n",
    "        df = df[self.db_columns]\n",
    "        df = df.drop_duplicates()\n",
    "        df.to_sql(\"Team_standings\",self.engine,index=False, if_exists=\"append\")\n",
    "        \n",
    "        return \n",
    "\n",
    "    def get_season(self, driver, year,season_id, reg_season=True):\n",
    "        \n",
    "        url = self.teams.build_url(year,reg_season)\n",
    "        \n",
    "        print(url)\n",
    "        \n",
    "        html,tids = self.teams.get_source_and_teams(url, driver)\n",
    "        \n",
    "        self.write(html,tids,season_id)\n",
    "        \n",
    "        return\n",
    "    \n",
    "    def get_team_standings(self,last_n_years):\n",
    "        this_year = strftime(\"%Y\",localtime())\n",
    "        year = int(this_year) -  1\n",
    "        \n",
    "        with webdriver.Chrome() as driver:\n",
    "            for y in range(year,year-last_n_years-1,-1):\n",
    "                id_year = \"{:0>2d}\".format(self.get_last_year(y-1))\n",
    "                \n",
    "                select = \"select SEASON_ID from Team_standings \"\n",
    "                condition = \"where SEASON_ID LIKE '%\" + id_year+\"'\"\n",
    "                limit = \" limit 10\"\n",
    "                \n",
    "                query = select +condition +limit\n",
    "                d = pd.read_sql(query,engine)\n",
    "                if(len(d)== 0):# there is no data on this year, get it\n",
    "                    year_range = str(y-1) + \"-{:0>2d}\".format(self.get_last_year(y))\n",
    "                    season_id = self.REG + id_year\n",
    "                    self.get_season(driver,year_range,season_id)\n",
    "\n",
    "                    season_id = self.POST + id_year\n",
    "                    self.get_season(driver,year_range,season_id,reg_season=False)\n",
    "\n",
    "        \n",
    "        return"
   ]
  },
  {
   "cell_type": "code",
   "execution_count": 19,
   "id": "56968e18",
   "metadata": {},
   "outputs": [],
   "source": [
    "class Player_stats:\n",
    "    def __init__(self):\n",
    "        self.players = Players()        \n",
    "        self.root = \"../player_stats\"\n",
    "        self.REG = 0\n",
    "        self.POST = 1\n",
    "        self.labels =(\"/regular_season.csv\", \"/playoffs.csv\")\n",
    "        self.engine = create_engine(\"mariadb+mariadbconnector://\"\\\n",
    "                                  +environ.get(\"USER\")+\":\"\\\n",
    "                                  +environ.get(\"PSWD\")+\"@127.0.0.1:3306/nba\")\n",
    "        \n",
    "        \n",
    "    def write(self,html,pids,tids,fp):\n",
    "        df = pd.read_html(html)[0]\n",
    "        df[\"PLAYER_ID\"] = pids\n",
    "        df[\"TEAM_ID\"] = tids\n",
    "        \n",
    "        df = df.dropna('columns')\n",
    "        df.to_csv(fp,index = False)\n",
    "        return \n",
    "    \n",
    "    def get_last_year(self,year):\n",
    "        if(year > 2000):\n",
    "            return year % 2000\n",
    "        return year % 100\n",
    "        \n",
    "    def get_season(self, driver, year,fp, reg_season=True):\n",
    "        \n",
    "        url = self.players.build_url(year,reg_season)\n",
    "        \n",
    "        print(url)\n",
    "        while(1<2):\n",
    "            try:\n",
    "                html = self.players.click_all(url, driver)\n",
    "                pids, tids = self.players.get_player_and_team_ids(html)\n",
    "                break\n",
    "            except:\n",
    "                print(\"Error. Trying again.\")\n",
    "        \n",
    "        self.write(html,pids,tids,fp)\n",
    "        \n",
    "        return\n",
    "        \n",
    "       \n",
    "    def get_player_stats(self,last_n_years):\n",
    "        year = int(strftime(\"%Y\",localtime()))-1\n",
    "        \n",
    "        with webdriver.Chrome() as driver:\n",
    "            for y in range(year,year-last_n_years-1,-1):\n",
    "                d = \n",
    "\n",
    "                if(not exists(file_dir)):# there is no data on this year, get it\n",
    "                    year_range = str(y-1) + \"-{:0>2d}\".format(self.get_last_year(y))\n",
    "\n",
    "                    fp = file_dir + self.labels[self.REG]\n",
    "                    self.get_season(driver,year_range,fp)\n",
    "\n",
    "\n",
    "                    fp = file_dir + self.labels[self.POST]\n",
    "                    self.get_season(driver,year_range,fp,reg_season=False)\n",
    "\n",
    "        return"
   ]
  },
  {
   "cell_type": "code",
   "execution_count": 20,
   "id": "227e3fd3",
   "metadata": {},
   "outputs": [],
   "source": [
    "bs = Box()"
   ]
  },
  {
   "cell_type": "code",
   "execution_count": 21,
   "id": "33040b06",
   "metadata": {
    "scrolled": true
   },
   "outputs": [],
   "source": [
    "bs.get_player_stats(2022)"
   ]
  },
  {
   "cell_type": "code",
   "execution_count": 22,
   "id": "d74e9074",
   "metadata": {},
   "outputs": [],
   "source": [
    "engine = create_engine(\"mariadb+mariadbconnector://\"\\\n",
    "                                  +environ.get(\"USER\")+\":\"\\\n",
    "                                  +environ.get(\"PSWD\")+\"@127.0.0.1:3306/nba\")"
   ]
  },
  {
   "cell_type": "code",
   "execution_count": 29,
   "id": "1f223073",
   "metadata": {},
   "outputs": [],
   "source": [
    "d = pd.read_sql(\"select SEASON_ID from Team_standings where SEASON_ID = 00495 limit 10\",engine)"
   ]
  },
  {
   "cell_type": "code",
   "execution_count": 30,
   "id": "5a7002c2",
   "metadata": {},
   "outputs": [
    {
     "data": {
      "text/plain": [
       "Index(['SEASON_ID', 'TEAM_ID', 'GP', 'W', 'L', 'WINP', 'MINS', 'PTS', 'FGM',\n",
       "       'FGA', 'FGP', 'PM3', 'PA3', 'P3P', 'FTM', 'FTA', 'FTP', 'OREB', 'DREB',\n",
       "       'REB', 'AST', 'TOV', 'STL', 'BLK', 'BLKA', 'PF', 'PFD'],\n",
       "      dtype='object')"
      ]
     },
     "execution_count": 30,
     "metadata": {},
     "output_type": "execute_result"
    }
   ],
   "source": [
    "d.columns"
   ]
  },
  {
   "cell_type": "code",
   "execution_count": 32,
   "id": "1262c684",
   "metadata": {},
   "outputs": [
    {
     "data": {
      "text/plain": [
       "0"
      ]
     },
     "execution_count": 32,
     "metadata": {},
     "output_type": "execute_result"
    }
   ],
   "source": [
    "len(d)"
   ]
  },
  {
   "cell_type": "code",
   "execution_count": 59,
   "id": "c7ec1f3a",
   "metadata": {},
   "outputs": [],
   "source": [
    "ts = Team_standings()"
   ]
  },
  {
   "cell_type": "code",
   "execution_count": 60,
   "id": "16f8f40c",
   "metadata": {},
   "outputs": [
    {
     "name": "stdout",
     "output_type": "stream",
     "text": [
      "https://www.nba.com/stats/teams/traditional/?Season=1995-96&SeasonType=Regular%20Season\n"
     ]
    },
    {
     "name": "stderr",
     "output_type": "stream",
     "text": [
      "/usr/lib/python3/dist-packages/ipykernel_launcher.py:27: FutureWarning: In a future version of pandas all arguments of DataFrame.dropna will be keyword-only\n"
     ]
    },
    {
     "ename": "OperationalError",
     "evalue": "(mariadb.OperationalError) Incorrect integer value: 'Phoenix Suns' for column `nba`.`Team_standings`.`GP` at row 1\n[SQL: INSERT INTO `Team_standings` (`SEASON_ID`, `TEAM_ID`, `GP`, `W`, `L`, `WINP`, `MINS`, `PTS`, `FGM`, `FGA`, `FGP`, `PM3`, `PA3`, `P3P`, `FTM`, `FTA`, `FTP`, `OREB`, `DREB`, `REB`, `AST`, `TOV`, `STL`, `BLK`, `BLKA`, `PF`, `PFD`) VALUES (?, ?, ?, ?, ?, ?, ?, ?, ?, ?, ?, ?, ?, ?, ?, ?, ?, ?, ?, ?, ?, ?, ?, ?, ?, ?, ?)]\n[parameters: (('00295', 1610612756, 'Phoenix Suns', 54, 44, 10, 0.815, 48.1, 113.0, 42.8, 89.5, 47.8, 11.4, 31.6, 36.1, 16.0, 20.1, 79.5, 10.2, 35.9, 46.1, 26.6, 13.1, 8.5, 4.3, 4.0, 19.3), ('00295', 1610612744, 'Golden State Warriors', 55, 41, 14, 0.745, 48.2, 110.5, 40.2, 86.2, 46.6, 14.6, 40.2, 36.4, 15.5, 20.2, 76.4, 9.9, 36.3, 46.1, 27.4, 15.5, 9.5, 4.9, 4.1, 17.6), ('00295', 1610612763, 'Memphis Grizzlies', 56, 38, 18, 0.679, 48.3, 113.1, 42.9, 93.6, 45.8, 11.1, 32.6, 33.9, 16.3, 22.1, 73.8, 13.7, 35.0, 48.7, 25.1, 13.3, 10.2, 6.4, 6.4, 18.9), ('00295', 1610612748, 'Miami Heat', 55, 35, 20, 0.636, 48.5, 108.9, 39.4, 85.5, 46.1, 13.6, 36.0, 37.8, 16.5, 20.2, 81.5, 10.7, 33.8, 44.5, 25.9, 14.9, 7.6, 3.3, 4.3, 19.9), ('00295', 1610612749, 'Milwaukee Bucks', 56, 35, 21, 0.625, 48.2, 113.0, 40.9, 89.0, 46.0, 14.3, 39.3, 36.4, 16.8, 21.6, 77.9, 10.3, 36.4, 46.7, 23.5, 13.7, 7.8, 4.2, 4.5, 19.2), ('00295', 1610612741, 'Chicago Bulls', 55, 34, 21, 0.618, 48.1, 112.0, 41.7, 86.9, 48.0, 11.3, 30.0, 37.5, 17.3, 21.3, 81.4, 8.8, 34.0, 42.9, 24.4, 12.9, 7.2, 4.6, 5.1, 17.8), ('00295', 1610612739, 'Cleveland Cavaliers', 55, 34, 21, 0.618, 48.0, 106.5, 39.5, 85.1, 46.4, 11.8, 33.4, 35.2, 15.7, 20.9, 75.1, 10.4, 35.0, 45.4, 25.3, 14.9, 7.2, 4.3, 4.5, 19.2), ('00295', 1610612762, 'Utah Jazz', 55, 34, 21, 0.618, 48.0, 113.6, 40.6, 86.1, 47.2, 14.6, 40.4, 36.1, 17.8, 22.8, 77.9, 10.2, 35.8, 46.0, 22.2, 14.2, 7.0, 4.9, 4.2, 20.2)  ... displaying 10 of 30 total bound parameter sets ...  ('00295', 1610612753, 'Orlando Magic', 56, 13, 43, 0.232, 48.1, 103.1, 37.9, 87.5, 43.3, 11.9, 36.0, 33.0, 15.5, 19.7, 78.7, 9.1, 34.4, 43.4, 23.2, 14.6, 6.8, 4.8, 5.4, 18.4), ('00295', 1610612765, 'Detroit Pistons', 54, 12, 42, 0.222, 48.2, 102.1, 37.0, 88.2, 42.0, 11.1, 34.9, 31.8, 17.0, 21.9, 77.6, 10.6, 32.1, 42.7, 22.4, 14.6, 7.8, 4.8, 5.2, 20.1))]\n(Background on this error at: https://sqlalche.me/e/14/e3q8)",
     "output_type": "error",
     "traceback": [
      "\u001b[0;31m---------------------------------------------------------------------------\u001b[0m",
      "\u001b[0;31mOperationalError\u001b[0m                          Traceback (most recent call last)",
      "\u001b[0;32m/home/blunt/.local/lib/python3.7/site-packages/sqlalchemy/engine/base.py\u001b[0m in \u001b[0;36m_execute_context\u001b[0;34m(self, dialect, constructor, statement, parameters, execution_options, *args, **kw)\u001b[0m\n\u001b[1;32m   1779\u001b[0m                     self.dialect.do_executemany(\n\u001b[0;32m-> 1780\u001b[0;31m                         \u001b[0mcursor\u001b[0m\u001b[0;34m,\u001b[0m \u001b[0mstatement\u001b[0m\u001b[0;34m,\u001b[0m \u001b[0mparameters\u001b[0m\u001b[0;34m,\u001b[0m \u001b[0mcontext\u001b[0m\u001b[0;34m\u001b[0m\u001b[0;34m\u001b[0m\u001b[0m\n\u001b[0m\u001b[1;32m   1781\u001b[0m                     )\n",
      "\u001b[0;32m/home/blunt/.local/lib/python3.7/site-packages/sqlalchemy/engine/default.py\u001b[0m in \u001b[0;36mdo_executemany\u001b[0;34m(self, cursor, statement, parameters, context)\u001b[0m\n\u001b[1;32m    713\u001b[0m     \u001b[0;32mdef\u001b[0m \u001b[0mdo_executemany\u001b[0m\u001b[0;34m(\u001b[0m\u001b[0mself\u001b[0m\u001b[0;34m,\u001b[0m \u001b[0mcursor\u001b[0m\u001b[0;34m,\u001b[0m \u001b[0mstatement\u001b[0m\u001b[0;34m,\u001b[0m \u001b[0mparameters\u001b[0m\u001b[0;34m,\u001b[0m \u001b[0mcontext\u001b[0m\u001b[0;34m=\u001b[0m\u001b[0;32mNone\u001b[0m\u001b[0;34m)\u001b[0m\u001b[0;34m:\u001b[0m\u001b[0;34m\u001b[0m\u001b[0;34m\u001b[0m\u001b[0m\n\u001b[0;32m--> 714\u001b[0;31m         \u001b[0mcursor\u001b[0m\u001b[0;34m.\u001b[0m\u001b[0mexecutemany\u001b[0m\u001b[0;34m(\u001b[0m\u001b[0mstatement\u001b[0m\u001b[0;34m,\u001b[0m \u001b[0mparameters\u001b[0m\u001b[0;34m)\u001b[0m\u001b[0;34m\u001b[0m\u001b[0;34m\u001b[0m\u001b[0m\n\u001b[0m\u001b[1;32m    715\u001b[0m \u001b[0;34m\u001b[0m\u001b[0m\n",
      "\u001b[0;31mOperationalError\u001b[0m: Incorrect integer value: 'Phoenix Suns' for column `nba`.`Team_standings`.`GP` at row 1",
      "\nThe above exception was the direct cause of the following exception:\n",
      "\u001b[0;31mOperationalError\u001b[0m                          Traceback (most recent call last)",
      "\u001b[0;32m<ipython-input-60-d91c27d9c808>\u001b[0m in \u001b[0;36m<module>\u001b[0;34m()\u001b[0m\n\u001b[0;32m----> 1\u001b[0;31m \u001b[0mts\u001b[0m\u001b[0;34m.\u001b[0m\u001b[0mget_team_standings\u001b[0m\u001b[0;34m(\u001b[0m\u001b[0;36m25\u001b[0m\u001b[0;34m)\u001b[0m\u001b[0;34m\u001b[0m\u001b[0;34m\u001b[0m\u001b[0m\n\u001b[0m",
      "\u001b[0;32m<ipython-input-58-e70c76b07ac8>\u001b[0m in \u001b[0;36mget_team_standings\u001b[0;34m(self, last_n_years)\u001b[0m\n\u001b[1;32m     62\u001b[0m                     \u001b[0myear_range\u001b[0m \u001b[0;34m=\u001b[0m \u001b[0mstr\u001b[0m\u001b[0;34m(\u001b[0m\u001b[0my\u001b[0m\u001b[0;34m-\u001b[0m\u001b[0;36m1\u001b[0m\u001b[0;34m)\u001b[0m \u001b[0;34m+\u001b[0m \u001b[0;34m\"-{:0>2d}\"\u001b[0m\u001b[0;34m.\u001b[0m\u001b[0mformat\u001b[0m\u001b[0;34m(\u001b[0m\u001b[0mself\u001b[0m\u001b[0;34m.\u001b[0m\u001b[0mget_last_year\u001b[0m\u001b[0;34m(\u001b[0m\u001b[0my\u001b[0m\u001b[0;34m)\u001b[0m\u001b[0;34m)\u001b[0m\u001b[0;34m\u001b[0m\u001b[0;34m\u001b[0m\u001b[0m\n\u001b[1;32m     63\u001b[0m                     \u001b[0mseason_id\u001b[0m \u001b[0;34m=\u001b[0m \u001b[0mself\u001b[0m\u001b[0;34m.\u001b[0m\u001b[0mREG\u001b[0m \u001b[0;34m+\u001b[0m \u001b[0mid_year\u001b[0m\u001b[0;34m\u001b[0m\u001b[0;34m\u001b[0m\u001b[0m\n\u001b[0;32m---> 64\u001b[0;31m                     \u001b[0mself\u001b[0m\u001b[0;34m.\u001b[0m\u001b[0mget_season\u001b[0m\u001b[0;34m(\u001b[0m\u001b[0mdriver\u001b[0m\u001b[0;34m,\u001b[0m\u001b[0myear_range\u001b[0m\u001b[0;34m,\u001b[0m\u001b[0mseason_id\u001b[0m\u001b[0;34m)\u001b[0m\u001b[0;34m\u001b[0m\u001b[0;34m\u001b[0m\u001b[0m\n\u001b[0m\u001b[1;32m     65\u001b[0m \u001b[0;34m\u001b[0m\u001b[0m\n\u001b[1;32m     66\u001b[0m                     \u001b[0mseason_id\u001b[0m \u001b[0;34m=\u001b[0m \u001b[0mself\u001b[0m\u001b[0;34m.\u001b[0m\u001b[0mPOST\u001b[0m \u001b[0;34m+\u001b[0m \u001b[0mid_year\u001b[0m\u001b[0;34m\u001b[0m\u001b[0;34m\u001b[0m\u001b[0m\n",
      "\u001b[0;32m<ipython-input-58-e70c76b07ac8>\u001b[0m in \u001b[0;36mget_season\u001b[0;34m(self, driver, year, season_id, reg_season)\u001b[0m\n\u001b[1;32m     41\u001b[0m         \u001b[0mhtml\u001b[0m\u001b[0;34m,\u001b[0m\u001b[0mtids\u001b[0m \u001b[0;34m=\u001b[0m \u001b[0mself\u001b[0m\u001b[0;34m.\u001b[0m\u001b[0mteams\u001b[0m\u001b[0;34m.\u001b[0m\u001b[0mget_source_and_teams\u001b[0m\u001b[0;34m(\u001b[0m\u001b[0murl\u001b[0m\u001b[0;34m,\u001b[0m \u001b[0mdriver\u001b[0m\u001b[0;34m)\u001b[0m\u001b[0;34m\u001b[0m\u001b[0;34m\u001b[0m\u001b[0m\n\u001b[1;32m     42\u001b[0m \u001b[0;34m\u001b[0m\u001b[0m\n\u001b[0;32m---> 43\u001b[0;31m         \u001b[0mself\u001b[0m\u001b[0;34m.\u001b[0m\u001b[0mwrite\u001b[0m\u001b[0;34m(\u001b[0m\u001b[0mhtml\u001b[0m\u001b[0;34m,\u001b[0m\u001b[0mtids\u001b[0m\u001b[0;34m,\u001b[0m\u001b[0mseason_id\u001b[0m\u001b[0;34m)\u001b[0m\u001b[0;34m\u001b[0m\u001b[0;34m\u001b[0m\u001b[0m\n\u001b[0m\u001b[1;32m     44\u001b[0m \u001b[0;34m\u001b[0m\u001b[0m\n\u001b[1;32m     45\u001b[0m         \u001b[0;32mreturn\u001b[0m\u001b[0;34m\u001b[0m\u001b[0;34m\u001b[0m\u001b[0m\n",
      "\u001b[0;32m<ipython-input-58-e70c76b07ac8>\u001b[0m in \u001b[0;36mwrite\u001b[0;34m(self, html, tids, season_id)\u001b[0m\n\u001b[1;32m     29\u001b[0m         \u001b[0mdf\u001b[0m \u001b[0;34m=\u001b[0m \u001b[0mdf\u001b[0m\u001b[0;34m[\u001b[0m\u001b[0mself\u001b[0m\u001b[0;34m.\u001b[0m\u001b[0mdb_columns\u001b[0m\u001b[0;34m]\u001b[0m\u001b[0;34m\u001b[0m\u001b[0;34m\u001b[0m\u001b[0m\n\u001b[1;32m     30\u001b[0m         \u001b[0mdf\u001b[0m \u001b[0;34m=\u001b[0m \u001b[0mdf\u001b[0m\u001b[0;34m.\u001b[0m\u001b[0mdrop_duplicates\u001b[0m\u001b[0;34m(\u001b[0m\u001b[0;34m)\u001b[0m\u001b[0;34m\u001b[0m\u001b[0;34m\u001b[0m\u001b[0m\n\u001b[0;32m---> 31\u001b[0;31m         \u001b[0mdf\u001b[0m\u001b[0;34m.\u001b[0m\u001b[0mto_sql\u001b[0m\u001b[0;34m(\u001b[0m\u001b[0;34m\"Team_standings\"\u001b[0m\u001b[0;34m,\u001b[0m\u001b[0mself\u001b[0m\u001b[0;34m.\u001b[0m\u001b[0mengine\u001b[0m\u001b[0;34m,\u001b[0m\u001b[0mindex\u001b[0m\u001b[0;34m=\u001b[0m\u001b[0;32mFalse\u001b[0m\u001b[0;34m,\u001b[0m \u001b[0mif_exists\u001b[0m\u001b[0;34m=\u001b[0m\u001b[0;34m\"append\"\u001b[0m\u001b[0;34m)\u001b[0m\u001b[0;34m\u001b[0m\u001b[0;34m\u001b[0m\u001b[0m\n\u001b[0m\u001b[1;32m     32\u001b[0m \u001b[0;34m\u001b[0m\u001b[0m\n\u001b[1;32m     33\u001b[0m         \u001b[0;32mreturn\u001b[0m\u001b[0;34m\u001b[0m\u001b[0;34m\u001b[0m\u001b[0m\n",
      "\u001b[0;32m/home/blunt/.local/lib/python3.7/site-packages/pandas/core/generic.py\u001b[0m in \u001b[0;36mto_sql\u001b[0;34m(self, name, con, schema, if_exists, index, index_label, chunksize, dtype, method)\u001b[0m\n\u001b[1;32m   2880\u001b[0m             \u001b[0mchunksize\u001b[0m\u001b[0;34m=\u001b[0m\u001b[0mchunksize\u001b[0m\u001b[0;34m,\u001b[0m\u001b[0;34m\u001b[0m\u001b[0;34m\u001b[0m\u001b[0m\n\u001b[1;32m   2881\u001b[0m             \u001b[0mdtype\u001b[0m\u001b[0;34m=\u001b[0m\u001b[0mdtype\u001b[0m\u001b[0;34m,\u001b[0m\u001b[0;34m\u001b[0m\u001b[0;34m\u001b[0m\u001b[0m\n\u001b[0;32m-> 2882\u001b[0;31m             \u001b[0mmethod\u001b[0m\u001b[0;34m=\u001b[0m\u001b[0mmethod\u001b[0m\u001b[0;34m,\u001b[0m\u001b[0;34m\u001b[0m\u001b[0;34m\u001b[0m\u001b[0m\n\u001b[0m\u001b[1;32m   2883\u001b[0m         )\n\u001b[1;32m   2884\u001b[0m \u001b[0;34m\u001b[0m\u001b[0m\n",
      "\u001b[0;32m/home/blunt/.local/lib/python3.7/site-packages/pandas/io/sql.py\u001b[0m in \u001b[0;36mto_sql\u001b[0;34m(frame, name, con, schema, if_exists, index, index_label, chunksize, dtype, method, engine, **engine_kwargs)\u001b[0m\n\u001b[1;32m    726\u001b[0m         \u001b[0mmethod\u001b[0m\u001b[0;34m=\u001b[0m\u001b[0mmethod\u001b[0m\u001b[0;34m,\u001b[0m\u001b[0;34m\u001b[0m\u001b[0;34m\u001b[0m\u001b[0m\n\u001b[1;32m    727\u001b[0m         \u001b[0mengine\u001b[0m\u001b[0;34m=\u001b[0m\u001b[0mengine\u001b[0m\u001b[0;34m,\u001b[0m\u001b[0;34m\u001b[0m\u001b[0;34m\u001b[0m\u001b[0m\n\u001b[0;32m--> 728\u001b[0;31m         \u001b[0;34m**\u001b[0m\u001b[0mengine_kwargs\u001b[0m\u001b[0;34m,\u001b[0m\u001b[0;34m\u001b[0m\u001b[0;34m\u001b[0m\u001b[0m\n\u001b[0m\u001b[1;32m    729\u001b[0m     )\n\u001b[1;32m    730\u001b[0m \u001b[0;34m\u001b[0m\u001b[0m\n",
      "\u001b[0;32m/home/blunt/.local/lib/python3.7/site-packages/pandas/io/sql.py\u001b[0m in \u001b[0;36mto_sql\u001b[0;34m(self, frame, name, if_exists, index, index_label, schema, chunksize, dtype, method, engine, **engine_kwargs)\u001b[0m\n\u001b[1;32m   1768\u001b[0m             \u001b[0mchunksize\u001b[0m\u001b[0;34m=\u001b[0m\u001b[0mchunksize\u001b[0m\u001b[0;34m,\u001b[0m\u001b[0;34m\u001b[0m\u001b[0;34m\u001b[0m\u001b[0m\n\u001b[1;32m   1769\u001b[0m             \u001b[0mmethod\u001b[0m\u001b[0;34m=\u001b[0m\u001b[0mmethod\u001b[0m\u001b[0;34m,\u001b[0m\u001b[0;34m\u001b[0m\u001b[0;34m\u001b[0m\u001b[0m\n\u001b[0;32m-> 1770\u001b[0;31m             \u001b[0;34m**\u001b[0m\u001b[0mengine_kwargs\u001b[0m\u001b[0;34m,\u001b[0m\u001b[0;34m\u001b[0m\u001b[0;34m\u001b[0m\u001b[0m\n\u001b[0m\u001b[1;32m   1771\u001b[0m         )\n\u001b[1;32m   1772\u001b[0m \u001b[0;34m\u001b[0m\u001b[0m\n",
      "\u001b[0;32m/home/blunt/.local/lib/python3.7/site-packages/pandas/io/sql.py\u001b[0m in \u001b[0;36minsert_records\u001b[0;34m(self, table, con, frame, name, index, schema, chunksize, method, **engine_kwargs)\u001b[0m\n\u001b[1;32m   1348\u001b[0m                 \u001b[0;32mraise\u001b[0m \u001b[0mValueError\u001b[0m\u001b[0;34m(\u001b[0m\u001b[0;34m\"inf cannot be used with MySQL\"\u001b[0m\u001b[0;34m)\u001b[0m \u001b[0;32mfrom\u001b[0m \u001b[0merr\u001b[0m\u001b[0;34m\u001b[0m\u001b[0;34m\u001b[0m\u001b[0m\n\u001b[1;32m   1349\u001b[0m             \u001b[0;32melse\u001b[0m\u001b[0;34m:\u001b[0m\u001b[0;34m\u001b[0m\u001b[0;34m\u001b[0m\u001b[0m\n\u001b[0;32m-> 1350\u001b[0;31m                 \u001b[0;32mraise\u001b[0m \u001b[0merr\u001b[0m\u001b[0;34m\u001b[0m\u001b[0;34m\u001b[0m\u001b[0m\n\u001b[0m\u001b[1;32m   1351\u001b[0m \u001b[0;34m\u001b[0m\u001b[0m\n\u001b[1;32m   1352\u001b[0m \u001b[0;34m\u001b[0m\u001b[0m\n",
      "\u001b[0;32m/home/blunt/.local/lib/python3.7/site-packages/pandas/io/sql.py\u001b[0m in \u001b[0;36minsert_records\u001b[0;34m(self, table, con, frame, name, index, schema, chunksize, method, **engine_kwargs)\u001b[0m\n\u001b[1;32m   1338\u001b[0m \u001b[0;34m\u001b[0m\u001b[0m\n\u001b[1;32m   1339\u001b[0m         \u001b[0;32mtry\u001b[0m\u001b[0;34m:\u001b[0m\u001b[0;34m\u001b[0m\u001b[0;34m\u001b[0m\u001b[0m\n\u001b[0;32m-> 1340\u001b[0;31m             \u001b[0mtable\u001b[0m\u001b[0;34m.\u001b[0m\u001b[0minsert\u001b[0m\u001b[0;34m(\u001b[0m\u001b[0mchunksize\u001b[0m\u001b[0;34m=\u001b[0m\u001b[0mchunksize\u001b[0m\u001b[0;34m,\u001b[0m \u001b[0mmethod\u001b[0m\u001b[0;34m=\u001b[0m\u001b[0mmethod\u001b[0m\u001b[0;34m)\u001b[0m\u001b[0;34m\u001b[0m\u001b[0;34m\u001b[0m\u001b[0m\n\u001b[0m\u001b[1;32m   1341\u001b[0m         \u001b[0;32mexcept\u001b[0m \u001b[0mexc\u001b[0m\u001b[0;34m.\u001b[0m\u001b[0mSQLAlchemyError\u001b[0m \u001b[0;32mas\u001b[0m \u001b[0merr\u001b[0m\u001b[0;34m:\u001b[0m\u001b[0;34m\u001b[0m\u001b[0;34m\u001b[0m\u001b[0m\n\u001b[1;32m   1342\u001b[0m             \u001b[0;31m# GH34431\u001b[0m\u001b[0;34m\u001b[0m\u001b[0;34m\u001b[0m\u001b[0;34m\u001b[0m\u001b[0m\n",
      "\u001b[0;32m/home/blunt/.local/lib/python3.7/site-packages/pandas/io/sql.py\u001b[0m in \u001b[0;36minsert\u001b[0;34m(self, chunksize, method)\u001b[0m\n\u001b[1;32m    965\u001b[0m \u001b[0;34m\u001b[0m\u001b[0m\n\u001b[1;32m    966\u001b[0m                 \u001b[0mchunk_iter\u001b[0m \u001b[0;34m=\u001b[0m \u001b[0mzip\u001b[0m\u001b[0;34m(\u001b[0m\u001b[0;34m*\u001b[0m\u001b[0;34m[\u001b[0m\u001b[0marr\u001b[0m\u001b[0;34m[\u001b[0m\u001b[0mstart_i\u001b[0m\u001b[0;34m:\u001b[0m\u001b[0mend_i\u001b[0m\u001b[0;34m]\u001b[0m \u001b[0;32mfor\u001b[0m \u001b[0marr\u001b[0m \u001b[0;32min\u001b[0m \u001b[0mdata_list\u001b[0m\u001b[0;34m]\u001b[0m\u001b[0;34m)\u001b[0m\u001b[0;34m\u001b[0m\u001b[0;34m\u001b[0m\u001b[0m\n\u001b[0;32m--> 967\u001b[0;31m                 \u001b[0mexec_insert\u001b[0m\u001b[0;34m(\u001b[0m\u001b[0mconn\u001b[0m\u001b[0;34m,\u001b[0m \u001b[0mkeys\u001b[0m\u001b[0;34m,\u001b[0m \u001b[0mchunk_iter\u001b[0m\u001b[0;34m)\u001b[0m\u001b[0;34m\u001b[0m\u001b[0;34m\u001b[0m\u001b[0m\n\u001b[0m\u001b[1;32m    968\u001b[0m \u001b[0;34m\u001b[0m\u001b[0m\n\u001b[1;32m    969\u001b[0m     def _query_iterator(\n",
      "\u001b[0;32m/home/blunt/.local/lib/python3.7/site-packages/pandas/io/sql.py\u001b[0m in \u001b[0;36m_execute_insert\u001b[0;34m(self, conn, keys, data_iter)\u001b[0m\n\u001b[1;32m    880\u001b[0m         \"\"\"\n\u001b[1;32m    881\u001b[0m         \u001b[0mdata\u001b[0m \u001b[0;34m=\u001b[0m \u001b[0;34m[\u001b[0m\u001b[0mdict\u001b[0m\u001b[0;34m(\u001b[0m\u001b[0mzip\u001b[0m\u001b[0;34m(\u001b[0m\u001b[0mkeys\u001b[0m\u001b[0;34m,\u001b[0m \u001b[0mrow\u001b[0m\u001b[0;34m)\u001b[0m\u001b[0;34m)\u001b[0m \u001b[0;32mfor\u001b[0m \u001b[0mrow\u001b[0m \u001b[0;32min\u001b[0m \u001b[0mdata_iter\u001b[0m\u001b[0;34m]\u001b[0m\u001b[0;34m\u001b[0m\u001b[0;34m\u001b[0m\u001b[0m\n\u001b[0;32m--> 882\u001b[0;31m         \u001b[0mconn\u001b[0m\u001b[0;34m.\u001b[0m\u001b[0mexecute\u001b[0m\u001b[0;34m(\u001b[0m\u001b[0mself\u001b[0m\u001b[0;34m.\u001b[0m\u001b[0mtable\u001b[0m\u001b[0;34m.\u001b[0m\u001b[0minsert\u001b[0m\u001b[0;34m(\u001b[0m\u001b[0;34m)\u001b[0m\u001b[0;34m,\u001b[0m \u001b[0mdata\u001b[0m\u001b[0;34m)\u001b[0m\u001b[0;34m\u001b[0m\u001b[0;34m\u001b[0m\u001b[0m\n\u001b[0m\u001b[1;32m    883\u001b[0m \u001b[0;34m\u001b[0m\u001b[0m\n\u001b[1;32m    884\u001b[0m     \u001b[0;32mdef\u001b[0m \u001b[0m_execute_insert_multi\u001b[0m\u001b[0;34m(\u001b[0m\u001b[0mself\u001b[0m\u001b[0;34m,\u001b[0m \u001b[0mconn\u001b[0m\u001b[0;34m,\u001b[0m \u001b[0mkeys\u001b[0m\u001b[0;34m:\u001b[0m \u001b[0mlist\u001b[0m\u001b[0;34m[\u001b[0m\u001b[0mstr\u001b[0m\u001b[0;34m]\u001b[0m\u001b[0;34m,\u001b[0m \u001b[0mdata_iter\u001b[0m\u001b[0;34m)\u001b[0m\u001b[0;34m:\u001b[0m\u001b[0;34m\u001b[0m\u001b[0;34m\u001b[0m\u001b[0m\n",
      "\u001b[0;32m/home/blunt/.local/lib/python3.7/site-packages/sqlalchemy/engine/base.py\u001b[0m in \u001b[0;36mexecute\u001b[0;34m(self, statement, *multiparams, **params)\u001b[0m\n\u001b[1;32m   1284\u001b[0m             )\n\u001b[1;32m   1285\u001b[0m         \u001b[0;32melse\u001b[0m\u001b[0;34m:\u001b[0m\u001b[0;34m\u001b[0m\u001b[0;34m\u001b[0m\u001b[0m\n\u001b[0;32m-> 1286\u001b[0;31m             \u001b[0;32mreturn\u001b[0m \u001b[0mmeth\u001b[0m\u001b[0;34m(\u001b[0m\u001b[0mself\u001b[0m\u001b[0;34m,\u001b[0m \u001b[0mmultiparams\u001b[0m\u001b[0;34m,\u001b[0m \u001b[0mparams\u001b[0m\u001b[0;34m,\u001b[0m \u001b[0m_EMPTY_EXECUTION_OPTS\u001b[0m\u001b[0;34m)\u001b[0m\u001b[0;34m\u001b[0m\u001b[0;34m\u001b[0m\u001b[0m\n\u001b[0m\u001b[1;32m   1287\u001b[0m \u001b[0;34m\u001b[0m\u001b[0m\n\u001b[1;32m   1288\u001b[0m     \u001b[0;32mdef\u001b[0m \u001b[0m_execute_function\u001b[0m\u001b[0;34m(\u001b[0m\u001b[0mself\u001b[0m\u001b[0;34m,\u001b[0m \u001b[0mfunc\u001b[0m\u001b[0;34m,\u001b[0m \u001b[0mmultiparams\u001b[0m\u001b[0;34m,\u001b[0m \u001b[0mparams\u001b[0m\u001b[0;34m,\u001b[0m \u001b[0mexecution_options\u001b[0m\u001b[0;34m)\u001b[0m\u001b[0;34m:\u001b[0m\u001b[0;34m\u001b[0m\u001b[0;34m\u001b[0m\u001b[0m\n",
      "\u001b[0;32m/home/blunt/.local/lib/python3.7/site-packages/sqlalchemy/sql/elements.py\u001b[0m in \u001b[0;36m_execute_on_connection\u001b[0;34m(self, connection, multiparams, params, execution_options, _force)\u001b[0m\n\u001b[1;32m    322\u001b[0m         \u001b[0;32mif\u001b[0m \u001b[0m_force\u001b[0m \u001b[0;32mor\u001b[0m \u001b[0mself\u001b[0m\u001b[0;34m.\u001b[0m\u001b[0msupports_execution\u001b[0m\u001b[0;34m:\u001b[0m\u001b[0;34m\u001b[0m\u001b[0;34m\u001b[0m\u001b[0m\n\u001b[1;32m    323\u001b[0m             return connection._execute_clauseelement(\n\u001b[0;32m--> 324\u001b[0;31m                 \u001b[0mself\u001b[0m\u001b[0;34m,\u001b[0m \u001b[0mmultiparams\u001b[0m\u001b[0;34m,\u001b[0m \u001b[0mparams\u001b[0m\u001b[0;34m,\u001b[0m \u001b[0mexecution_options\u001b[0m\u001b[0;34m\u001b[0m\u001b[0;34m\u001b[0m\u001b[0m\n\u001b[0m\u001b[1;32m    325\u001b[0m             )\n\u001b[1;32m    326\u001b[0m         \u001b[0;32melse\u001b[0m\u001b[0;34m:\u001b[0m\u001b[0;34m\u001b[0m\u001b[0;34m\u001b[0m\u001b[0m\n",
      "\u001b[0;32m/home/blunt/.local/lib/python3.7/site-packages/sqlalchemy/engine/base.py\u001b[0m in \u001b[0;36m_execute_clauseelement\u001b[0;34m(self, elem, multiparams, params, execution_options)\u001b[0m\n\u001b[1;32m   1486\u001b[0m             \u001b[0melem\u001b[0m\u001b[0;34m,\u001b[0m\u001b[0;34m\u001b[0m\u001b[0;34m\u001b[0m\u001b[0m\n\u001b[1;32m   1487\u001b[0m             \u001b[0mextracted_params\u001b[0m\u001b[0;34m,\u001b[0m\u001b[0;34m\u001b[0m\u001b[0;34m\u001b[0m\u001b[0m\n\u001b[0;32m-> 1488\u001b[0;31m             \u001b[0mcache_hit\u001b[0m\u001b[0;34m=\u001b[0m\u001b[0mcache_hit\u001b[0m\u001b[0;34m,\u001b[0m\u001b[0;34m\u001b[0m\u001b[0;34m\u001b[0m\u001b[0m\n\u001b[0m\u001b[1;32m   1489\u001b[0m         )\n\u001b[1;32m   1490\u001b[0m         \u001b[0;32mif\u001b[0m \u001b[0mhas_events\u001b[0m\u001b[0;34m:\u001b[0m\u001b[0;34m\u001b[0m\u001b[0;34m\u001b[0m\u001b[0m\n",
      "\u001b[0;32m/home/blunt/.local/lib/python3.7/site-packages/sqlalchemy/engine/base.py\u001b[0m in \u001b[0;36m_execute_context\u001b[0;34m(self, dialect, constructor, statement, parameters, execution_options, *args, **kw)\u001b[0m\n\u001b[1;32m   1841\u001b[0m         \u001b[0;32mexcept\u001b[0m \u001b[0mBaseException\u001b[0m \u001b[0;32mas\u001b[0m \u001b[0me\u001b[0m\u001b[0;34m:\u001b[0m\u001b[0;34m\u001b[0m\u001b[0;34m\u001b[0m\u001b[0m\n\u001b[1;32m   1842\u001b[0m             self._handle_dbapi_exception(\n\u001b[0;32m-> 1843\u001b[0;31m                 \u001b[0me\u001b[0m\u001b[0;34m,\u001b[0m \u001b[0mstatement\u001b[0m\u001b[0;34m,\u001b[0m \u001b[0mparameters\u001b[0m\u001b[0;34m,\u001b[0m \u001b[0mcursor\u001b[0m\u001b[0;34m,\u001b[0m \u001b[0mcontext\u001b[0m\u001b[0;34m\u001b[0m\u001b[0;34m\u001b[0m\u001b[0m\n\u001b[0m\u001b[1;32m   1844\u001b[0m             )\n\u001b[1;32m   1845\u001b[0m \u001b[0;34m\u001b[0m\u001b[0m\n",
      "\u001b[0;32m/home/blunt/.local/lib/python3.7/site-packages/sqlalchemy/engine/base.py\u001b[0m in \u001b[0;36m_handle_dbapi_exception\u001b[0;34m(self, e, statement, parameters, cursor, context)\u001b[0m\n\u001b[1;32m   2022\u001b[0m             \u001b[0;32melif\u001b[0m \u001b[0mshould_wrap\u001b[0m\u001b[0;34m:\u001b[0m\u001b[0;34m\u001b[0m\u001b[0;34m\u001b[0m\u001b[0m\n\u001b[1;32m   2023\u001b[0m                 util.raise_(\n\u001b[0;32m-> 2024\u001b[0;31m                     \u001b[0msqlalchemy_exception\u001b[0m\u001b[0;34m,\u001b[0m \u001b[0mwith_traceback\u001b[0m\u001b[0;34m=\u001b[0m\u001b[0mexc_info\u001b[0m\u001b[0;34m[\u001b[0m\u001b[0;36m2\u001b[0m\u001b[0;34m]\u001b[0m\u001b[0;34m,\u001b[0m \u001b[0mfrom_\u001b[0m\u001b[0;34m=\u001b[0m\u001b[0me\u001b[0m\u001b[0;34m\u001b[0m\u001b[0;34m\u001b[0m\u001b[0m\n\u001b[0m\u001b[1;32m   2025\u001b[0m                 )\n\u001b[1;32m   2026\u001b[0m             \u001b[0;32melse\u001b[0m\u001b[0;34m:\u001b[0m\u001b[0;34m\u001b[0m\u001b[0;34m\u001b[0m\u001b[0m\n",
      "\u001b[0;32m/home/blunt/.local/lib/python3.7/site-packages/sqlalchemy/util/compat.py\u001b[0m in \u001b[0;36mraise_\u001b[0;34m(***failed resolving arguments***)\u001b[0m\n\u001b[1;32m    205\u001b[0m \u001b[0;34m\u001b[0m\u001b[0m\n\u001b[1;32m    206\u001b[0m         \u001b[0;32mtry\u001b[0m\u001b[0;34m:\u001b[0m\u001b[0;34m\u001b[0m\u001b[0;34m\u001b[0m\u001b[0m\n\u001b[0;32m--> 207\u001b[0;31m             \u001b[0;32mraise\u001b[0m \u001b[0mexception\u001b[0m\u001b[0;34m\u001b[0m\u001b[0;34m\u001b[0m\u001b[0m\n\u001b[0m\u001b[1;32m    208\u001b[0m         \u001b[0;32mfinally\u001b[0m\u001b[0;34m:\u001b[0m\u001b[0;34m\u001b[0m\u001b[0;34m\u001b[0m\u001b[0m\n\u001b[1;32m    209\u001b[0m             \u001b[0;31m# credit to\u001b[0m\u001b[0;34m\u001b[0m\u001b[0;34m\u001b[0m\u001b[0;34m\u001b[0m\u001b[0m\n",
      "\u001b[0;32m/home/blunt/.local/lib/python3.7/site-packages/sqlalchemy/engine/base.py\u001b[0m in \u001b[0;36m_execute_context\u001b[0;34m(self, dialect, constructor, statement, parameters, execution_options, *args, **kw)\u001b[0m\n\u001b[1;32m   1778\u001b[0m                 \u001b[0;32mif\u001b[0m \u001b[0;32mnot\u001b[0m \u001b[0mevt_handled\u001b[0m\u001b[0;34m:\u001b[0m\u001b[0;34m\u001b[0m\u001b[0;34m\u001b[0m\u001b[0m\n\u001b[1;32m   1779\u001b[0m                     self.dialect.do_executemany(\n\u001b[0;32m-> 1780\u001b[0;31m                         \u001b[0mcursor\u001b[0m\u001b[0;34m,\u001b[0m \u001b[0mstatement\u001b[0m\u001b[0;34m,\u001b[0m \u001b[0mparameters\u001b[0m\u001b[0;34m,\u001b[0m \u001b[0mcontext\u001b[0m\u001b[0;34m\u001b[0m\u001b[0;34m\u001b[0m\u001b[0m\n\u001b[0m\u001b[1;32m   1781\u001b[0m                     )\n\u001b[1;32m   1782\u001b[0m             \u001b[0;32melif\u001b[0m \u001b[0;32mnot\u001b[0m \u001b[0mparameters\u001b[0m \u001b[0;32mand\u001b[0m \u001b[0mcontext\u001b[0m\u001b[0;34m.\u001b[0m\u001b[0mno_parameters\u001b[0m\u001b[0;34m:\u001b[0m\u001b[0;34m\u001b[0m\u001b[0;34m\u001b[0m\u001b[0m\n",
      "\u001b[0;32m/home/blunt/.local/lib/python3.7/site-packages/sqlalchemy/engine/default.py\u001b[0m in \u001b[0;36mdo_executemany\u001b[0;34m(self, cursor, statement, parameters, context)\u001b[0m\n\u001b[1;32m    712\u001b[0m \u001b[0;34m\u001b[0m\u001b[0m\n\u001b[1;32m    713\u001b[0m     \u001b[0;32mdef\u001b[0m \u001b[0mdo_executemany\u001b[0m\u001b[0;34m(\u001b[0m\u001b[0mself\u001b[0m\u001b[0;34m,\u001b[0m \u001b[0mcursor\u001b[0m\u001b[0;34m,\u001b[0m \u001b[0mstatement\u001b[0m\u001b[0;34m,\u001b[0m \u001b[0mparameters\u001b[0m\u001b[0;34m,\u001b[0m \u001b[0mcontext\u001b[0m\u001b[0;34m=\u001b[0m\u001b[0;32mNone\u001b[0m\u001b[0;34m)\u001b[0m\u001b[0;34m:\u001b[0m\u001b[0;34m\u001b[0m\u001b[0;34m\u001b[0m\u001b[0m\n\u001b[0;32m--> 714\u001b[0;31m         \u001b[0mcursor\u001b[0m\u001b[0;34m.\u001b[0m\u001b[0mexecutemany\u001b[0m\u001b[0;34m(\u001b[0m\u001b[0mstatement\u001b[0m\u001b[0;34m,\u001b[0m \u001b[0mparameters\u001b[0m\u001b[0;34m)\u001b[0m\u001b[0;34m\u001b[0m\u001b[0;34m\u001b[0m\u001b[0m\n\u001b[0m\u001b[1;32m    715\u001b[0m \u001b[0;34m\u001b[0m\u001b[0m\n\u001b[1;32m    716\u001b[0m     \u001b[0;32mdef\u001b[0m \u001b[0mdo_execute\u001b[0m\u001b[0;34m(\u001b[0m\u001b[0mself\u001b[0m\u001b[0;34m,\u001b[0m \u001b[0mcursor\u001b[0m\u001b[0;34m,\u001b[0m \u001b[0mstatement\u001b[0m\u001b[0;34m,\u001b[0m \u001b[0mparameters\u001b[0m\u001b[0;34m,\u001b[0m \u001b[0mcontext\u001b[0m\u001b[0;34m=\u001b[0m\u001b[0;32mNone\u001b[0m\u001b[0;34m)\u001b[0m\u001b[0;34m:\u001b[0m\u001b[0;34m\u001b[0m\u001b[0;34m\u001b[0m\u001b[0m\n",
      "\u001b[0;31mOperationalError\u001b[0m: (mariadb.OperationalError) Incorrect integer value: 'Phoenix Suns' for column `nba`.`Team_standings`.`GP` at row 1\n[SQL: INSERT INTO `Team_standings` (`SEASON_ID`, `TEAM_ID`, `GP`, `W`, `L`, `WINP`, `MINS`, `PTS`, `FGM`, `FGA`, `FGP`, `PM3`, `PA3`, `P3P`, `FTM`, `FTA`, `FTP`, `OREB`, `DREB`, `REB`, `AST`, `TOV`, `STL`, `BLK`, `BLKA`, `PF`, `PFD`) VALUES (?, ?, ?, ?, ?, ?, ?, ?, ?, ?, ?, ?, ?, ?, ?, ?, ?, ?, ?, ?, ?, ?, ?, ?, ?, ?, ?)]\n[parameters: (('00295', 1610612756, 'Phoenix Suns', 54, 44, 10, 0.815, 48.1, 113.0, 42.8, 89.5, 47.8, 11.4, 31.6, 36.1, 16.0, 20.1, 79.5, 10.2, 35.9, 46.1, 26.6, 13.1, 8.5, 4.3, 4.0, 19.3), ('00295', 1610612744, 'Golden State Warriors', 55, 41, 14, 0.745, 48.2, 110.5, 40.2, 86.2, 46.6, 14.6, 40.2, 36.4, 15.5, 20.2, 76.4, 9.9, 36.3, 46.1, 27.4, 15.5, 9.5, 4.9, 4.1, 17.6), ('00295', 1610612763, 'Memphis Grizzlies', 56, 38, 18, 0.679, 48.3, 113.1, 42.9, 93.6, 45.8, 11.1, 32.6, 33.9, 16.3, 22.1, 73.8, 13.7, 35.0, 48.7, 25.1, 13.3, 10.2, 6.4, 6.4, 18.9), ('00295', 1610612748, 'Miami Heat', 55, 35, 20, 0.636, 48.5, 108.9, 39.4, 85.5, 46.1, 13.6, 36.0, 37.8, 16.5, 20.2, 81.5, 10.7, 33.8, 44.5, 25.9, 14.9, 7.6, 3.3, 4.3, 19.9), ('00295', 1610612749, 'Milwaukee Bucks', 56, 35, 21, 0.625, 48.2, 113.0, 40.9, 89.0, 46.0, 14.3, 39.3, 36.4, 16.8, 21.6, 77.9, 10.3, 36.4, 46.7, 23.5, 13.7, 7.8, 4.2, 4.5, 19.2), ('00295', 1610612741, 'Chicago Bulls', 55, 34, 21, 0.618, 48.1, 112.0, 41.7, 86.9, 48.0, 11.3, 30.0, 37.5, 17.3, 21.3, 81.4, 8.8, 34.0, 42.9, 24.4, 12.9, 7.2, 4.6, 5.1, 17.8), ('00295', 1610612739, 'Cleveland Cavaliers', 55, 34, 21, 0.618, 48.0, 106.5, 39.5, 85.1, 46.4, 11.8, 33.4, 35.2, 15.7, 20.9, 75.1, 10.4, 35.0, 45.4, 25.3, 14.9, 7.2, 4.3, 4.5, 19.2), ('00295', 1610612762, 'Utah Jazz', 55, 34, 21, 0.618, 48.0, 113.6, 40.6, 86.1, 47.2, 14.6, 40.4, 36.1, 17.8, 22.8, 77.9, 10.2, 35.8, 46.0, 22.2, 14.2, 7.0, 4.9, 4.2, 20.2)  ... displaying 10 of 30 total bound parameter sets ...  ('00295', 1610612753, 'Orlando Magic', 56, 13, 43, 0.232, 48.1, 103.1, 37.9, 87.5, 43.3, 11.9, 36.0, 33.0, 15.5, 19.7, 78.7, 9.1, 34.4, 43.4, 23.2, 14.6, 6.8, 4.8, 5.4, 18.4), ('00295', 1610612765, 'Detroit Pistons', 54, 12, 42, 0.222, 48.2, 102.1, 37.0, 88.2, 42.0, 11.1, 34.9, 31.8, 17.0, 21.9, 77.6, 10.6, 32.1, 42.7, 22.4, 14.6, 7.8, 4.8, 5.2, 20.1))]\n(Background on this error at: https://sqlalche.me/e/14/e3q8)"
     ]
    }
   ],
   "source": [
    "ts.get_team_standings(25)"
   ]
  },
  {
   "cell_type": "code",
   "execution_count": null,
   "id": "6feebcf2",
   "metadata": {},
   "outputs": [],
   "source": []
  }
 ],
 "metadata": {
  "kernelspec": {
   "display_name": "Python 3",
   "language": "python",
   "name": "python3"
  },
  "language_info": {
   "codemirror_mode": {
    "name": "ipython",
    "version": 3
   },
   "file_extension": ".py",
   "mimetype": "text/x-python",
   "name": "python",
   "nbconvert_exporter": "python",
   "pygments_lexer": "ipython3",
   "version": "3.7.3"
  }
 },
 "nbformat": 4,
 "nbformat_minor": 5
}
