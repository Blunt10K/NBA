{
 "cells": [
  {
   "cell_type": "markdown",
   "id": "5c89ad96",
   "metadata": {},
   "source": [
    "# Regression"
   ]
  },
  {
   "cell_type": "code",
   "execution_count": 1,
   "id": "ef417e10",
   "metadata": {},
   "outputs": [],
   "source": [
    "from sklearn.linear_model import Ridge"
   ]
  },
  {
   "cell_type": "code",
   "execution_count": 2,
   "id": "0d083e38",
   "metadata": {},
   "outputs": [],
   "source": [
    "from sklearn.datasets import load_boston"
   ]
  },
  {
   "cell_type": "code",
   "execution_count": 3,
   "id": "e4522695",
   "metadata": {},
   "outputs": [
    {
     "name": "stderr",
     "output_type": "stream",
     "text": [
      "/home/blunt/.local/lib/python3.7/site-packages/sklearn/utils/deprecation.py:87: FutureWarning: Function load_boston is deprecated; `load_boston` is deprecated in 1.0 and will be removed in 1.2.\n",
      "\n",
      "    The Boston housing prices dataset has an ethical problem. You can refer to\n",
      "    the documentation of this function for further details.\n",
      "\n",
      "    The scikit-learn maintainers therefore strongly discourage the use of this\n",
      "    dataset unless the purpose of the code is to study and educate about\n",
      "    ethical issues in data science and machine learning.\n",
      "\n",
      "    In this special case, you can fetch the dataset from the original\n",
      "    source::\n",
      "\n",
      "        import pandas as pd\n",
      "        import numpy as np\n",
      "\n",
      "\n",
      "        data_url = \"http://lib.stat.cmu.edu/datasets/boston\"\n",
      "        raw_df = pd.read_csv(data_url, sep=\"\\s+\", skiprows=22, header=None)\n",
      "        data = np.hstack([raw_df.values[::2, :], raw_df.values[1::2, :2]])\n",
      "        target = raw_df.values[1::2, 2]\n",
      "\n",
      "    Alternative datasets include the California housing dataset (i.e.\n",
      "    :func:`~sklearn.datasets.fetch_california_housing`) and the Ames housing\n",
      "    dataset. You can load the datasets as follows::\n",
      "\n",
      "        from sklearn.datasets import fetch_california_housing\n",
      "        housing = fetch_california_housing()\n",
      "\n",
      "    for the California housing dataset and::\n",
      "\n",
      "        from sklearn.datasets import fetch_openml\n",
      "        housing = fetch_openml(name=\"house_prices\", as_frame=True)\n",
      "\n",
      "    for the Ames housing dataset.\n",
      "    \n",
      "  warnings.warn(msg, category=FutureWarning)\n"
     ]
    }
   ],
   "source": [
    "data = load_boston()"
   ]
  },
  {
   "cell_type": "code",
   "execution_count": 4,
   "id": "7869124b",
   "metadata": {},
   "outputs": [],
   "source": [
    "from sklearn.model_selection import train_test_split"
   ]
  },
  {
   "cell_type": "code",
   "execution_count": 5,
   "id": "f2ecdddb",
   "metadata": {},
   "outputs": [],
   "source": [
    "from sklearn.preprocessing import StandardScaler"
   ]
  },
  {
   "cell_type": "code",
   "execution_count": 6,
   "id": "1511d3a8",
   "metadata": {},
   "outputs": [],
   "source": [
    "X = data['data']\n",
    "Y = data['target']"
   ]
  },
  {
   "cell_type": "code",
   "execution_count": 7,
   "id": "1f668edd",
   "metadata": {},
   "outputs": [],
   "source": [
    "X_train, X_test, Y_train, Y_test = train_test_split(X,Y)"
   ]
  },
  {
   "cell_type": "code",
   "execution_count": 8,
   "id": "58305f04",
   "metadata": {},
   "outputs": [],
   "source": [
    "import numpy as np"
   ]
  },
  {
   "cell_type": "code",
   "execution_count": 9,
   "id": "bf2e8481",
   "metadata": {},
   "outputs": [],
   "source": [
    "transformer = StandardScaler()"
   ]
  },
  {
   "cell_type": "code",
   "execution_count": 10,
   "id": "7149450e",
   "metadata": {},
   "outputs": [],
   "source": [
    "Y_train  = Y_train[:,np.newaxis]\n",
    "Y_test = Y_test[:,np.newaxis]"
   ]
  },
  {
   "cell_type": "code",
   "execution_count": 11,
   "id": "f7b7327f",
   "metadata": {},
   "outputs": [],
   "source": [
    "training = np.hstack((X_train,Y_train))\n",
    "testing = np.hstack((X_test,Y_test))"
   ]
  },
  {
   "cell_type": "code",
   "execution_count": 12,
   "id": "a2e00eb0",
   "metadata": {},
   "outputs": [],
   "source": [
    "train = transformer.fit_transform(training)"
   ]
  },
  {
   "cell_type": "code",
   "execution_count": 13,
   "id": "727ece47",
   "metadata": {},
   "outputs": [],
   "source": [
    "test  = transformer.transform(testing)"
   ]
  },
  {
   "cell_type": "code",
   "execution_count": 14,
   "id": "6d00f251",
   "metadata": {},
   "outputs": [],
   "source": [
    "train_X, train_Y, test_X, test_Y = train[:,:-1], train[:,-1], test[:,:-1],test[:,-1]"
   ]
  },
  {
   "cell_type": "code",
   "execution_count": 76,
   "id": "2316e4bd",
   "metadata": {},
   "outputs": [],
   "source": [
    "model = Ridge(alpha=.0001)"
   ]
  },
  {
   "cell_type": "code",
   "execution_count": 77,
   "id": "e0072c85",
   "metadata": {},
   "outputs": [
    {
     "data": {
      "text/plain": [
       "Ridge(alpha=0.0001)"
      ]
     },
     "execution_count": 77,
     "metadata": {},
     "output_type": "execute_result"
    }
   ],
   "source": [
    "model.fit(train_X, train_Y)"
   ]
  },
  {
   "cell_type": "code",
   "execution_count": 78,
   "id": "163c07b8",
   "metadata": {},
   "outputs": [
    {
     "data": {
      "text/plain": [
       "array([-0.11289332,  0.15704864,  0.03466716,  0.09048046, -0.22033682,\n",
       "        0.27413064, -0.01096403, -0.37159684,  0.31161955, -0.23610208,\n",
       "       -0.19088516,  0.09463134, -0.44222797])"
      ]
     },
     "execution_count": 78,
     "metadata": {},
     "output_type": "execute_result"
    }
   ],
   "source": [
    "model.coef_"
   ]
  },
  {
   "cell_type": "code",
   "execution_count": 105,
   "id": "12008b45",
   "metadata": {},
   "outputs": [
    {
     "data": {
      "text/plain": [
       "1.619623092428511e-15"
      ]
     },
     "execution_count": 105,
     "metadata": {},
     "output_type": "execute_result"
    }
   ],
   "source": [
    "model.intercept_"
   ]
  },
  {
   "cell_type": "code",
   "execution_count": 79,
   "id": "656be82d",
   "metadata": {},
   "outputs": [
    {
     "data": {
      "text/plain": [
       "0.7367006654366928"
      ]
     },
     "execution_count": 79,
     "metadata": {},
     "output_type": "execute_result"
    }
   ],
   "source": [
    "model.score(train_X,train_Y)"
   ]
  },
  {
   "cell_type": "code",
   "execution_count": 80,
   "id": "92e7113d",
   "metadata": {},
   "outputs": [
    {
     "data": {
      "text/plain": [
       "0.7368022491140993"
      ]
     },
     "execution_count": 80,
     "metadata": {},
     "output_type": "execute_result"
    }
   ],
   "source": [
    "model.score(test_X,test_Y)"
   ]
  },
  {
   "cell_type": "code",
   "execution_count": 20,
   "id": "bbc34122",
   "metadata": {},
   "outputs": [],
   "source": [
    "from sklearn.linear_model import Lasso"
   ]
  },
  {
   "cell_type": "code",
   "execution_count": 67,
   "id": "a395df4e",
   "metadata": {},
   "outputs": [],
   "source": [
    "model1 = Lasso(alpha=.000000000001)"
   ]
  },
  {
   "cell_type": "code",
   "execution_count": 68,
   "id": "ba587f37",
   "metadata": {},
   "outputs": [
    {
     "data": {
      "text/plain": [
       "Lasso(alpha=1e-12)"
      ]
     },
     "execution_count": 68,
     "metadata": {},
     "output_type": "execute_result"
    }
   ],
   "source": [
    "model1.fit(train_X,train_Y)"
   ]
  },
  {
   "cell_type": "code",
   "execution_count": 69,
   "id": "1b35fe0f",
   "metadata": {},
   "outputs": [
    {
     "data": {
      "text/plain": [
       "0.7367006654369713"
      ]
     },
     "execution_count": 69,
     "metadata": {},
     "output_type": "execute_result"
    }
   ],
   "source": [
    "model1.score(train_X,train_Y)"
   ]
  },
  {
   "cell_type": "code",
   "execution_count": 70,
   "id": "7d5b0465",
   "metadata": {},
   "outputs": [
    {
     "data": {
      "text/plain": [
       "0.7368021018568539"
      ]
     },
     "execution_count": 70,
     "metadata": {},
     "output_type": "execute_result"
    }
   ],
   "source": [
    "model1.score(test_X,test_Y)"
   ]
  },
  {
   "cell_type": "code",
   "execution_count": 81,
   "id": "ac0add83",
   "metadata": {},
   "outputs": [],
   "source": [
    "from sklearn.linear_model import LinearRegression"
   ]
  },
  {
   "cell_type": "code",
   "execution_count": 82,
   "id": "23f5b3c7",
   "metadata": {},
   "outputs": [],
   "source": [
    "model2 = LinearRegression()"
   ]
  },
  {
   "cell_type": "code",
   "execution_count": 83,
   "id": "22461b01",
   "metadata": {},
   "outputs": [
    {
     "data": {
      "text/plain": [
       "LinearRegression()"
      ]
     },
     "execution_count": 83,
     "metadata": {},
     "output_type": "execute_result"
    }
   ],
   "source": [
    "model2.fit(train_X,train_Y)"
   ]
  },
  {
   "cell_type": "code",
   "execution_count": 84,
   "id": "142df601",
   "metadata": {},
   "outputs": [
    {
     "data": {
      "text/plain": [
       "0.7367006654369712"
      ]
     },
     "execution_count": 84,
     "metadata": {},
     "output_type": "execute_result"
    }
   ],
   "source": [
    "model2.score(train_X,train_Y)"
   ]
  },
  {
   "cell_type": "code",
   "execution_count": 85,
   "id": "48b0db62",
   "metadata": {},
   "outputs": [
    {
     "data": {
      "text/plain": [
       "0.7368021018546472"
      ]
     },
     "execution_count": 85,
     "metadata": {},
     "output_type": "execute_result"
    }
   ],
   "source": [
    "model2.score(test_X,test_Y)"
   ]
  },
  {
   "cell_type": "code",
   "execution_count": 86,
   "id": "414601f1",
   "metadata": {},
   "outputs": [],
   "source": [
    "d = {1:11,2:22}"
   ]
  },
  {
   "cell_type": "code",
   "execution_count": 88,
   "id": "6646a5cf",
   "metadata": {},
   "outputs": [
    {
     "data": {
      "text/plain": [
       "dict_keys([1, 2])"
      ]
     },
     "execution_count": 88,
     "metadata": {},
     "output_type": "execute_result"
    }
   ],
   "source": [
    "d.keys()"
   ]
  },
  {
   "cell_type": "code",
   "execution_count": 89,
   "id": "7f6c5806",
   "metadata": {},
   "outputs": [
    {
     "data": {
      "text/plain": [
       "11"
      ]
     },
     "execution_count": 89,
     "metadata": {},
     "output_type": "execute_result"
    }
   ],
   "source": [
    "d[1]"
   ]
  },
  {
   "cell_type": "code",
   "execution_count": 90,
   "id": "fbebf985",
   "metadata": {},
   "outputs": [
    {
     "data": {
      "text/plain": [
       "(127,)"
      ]
     },
     "execution_count": 90,
     "metadata": {},
     "output_type": "execute_result"
    }
   ],
   "source": [
    "test_Y.shape "
   ]
  },
  {
   "cell_type": "code",
   "execution_count": 91,
   "id": "6bf994b1",
   "metadata": {},
   "outputs": [],
   "source": [
    "a = test_Y[:64].reshape((8,8))"
   ]
  },
  {
   "cell_type": "code",
   "execution_count": 97,
   "id": "2ac6b503",
   "metadata": {},
   "outputs": [
    {
     "data": {
      "text/plain": [
       "array([[1., 1., 1., 1., 1., 1., 1., 1.],\n",
       "       [1., 1., 1., 1., 1., 1., 1., 1.],\n",
       "       [1., 1., 1., 1., 1., 1., 1., 1.],\n",
       "       [1., 1., 1., 1., 1., 1., 1., 1.],\n",
       "       [1., 1., 1., 1., 1., 1., 1., 1.],\n",
       "       [1., 1., 1., 1., 1., 1., 1., 1.],\n",
       "       [1., 1., 1., 1., 1., 1., 1., 1.],\n",
       "       [1., 1., 1., 1., 1., 1., 1., 1.]])"
      ]
     },
     "execution_count": 97,
     "metadata": {},
     "output_type": "execute_result"
    }
   ],
   "source": [
    "np.where(np.std(a[]) > 0.5 ,1,a)"
   ]
  },
  {
   "cell_type": "code",
   "execution_count": 99,
   "id": "56533f17",
   "metadata": {},
   "outputs": [],
   "source": [
    "from sklearn.pipeline import Pipeline"
   ]
  },
  {
   "cell_type": "code",
   "execution_count": 104,
   "id": "a7974c20",
   "metadata": {},
   "outputs": [],
   "source": [
    "p = Pipeline([('scaler',StandardScaler()),('ridge',Ridge())])"
   ]
  },
  {
   "cell_type": "code",
   "execution_count": null,
   "id": "535e30ce",
   "metadata": {},
   "outputs": [],
   "source": [
    "import pandas "
   ]
  }
 ],
 "metadata": {
  "kernelspec": {
   "display_name": "Python 3",
   "language": "python",
   "name": "python3"
  },
  "language_info": {
   "codemirror_mode": {
    "name": "ipython",
    "version": 3
   },
   "file_extension": ".py",
   "mimetype": "text/x-python",
   "name": "python",
   "nbconvert_exporter": "python",
   "pygments_lexer": "ipython3",
   "version": "3.7.3"
  }
 },
 "nbformat": 4,
 "nbformat_minor": 5
}
