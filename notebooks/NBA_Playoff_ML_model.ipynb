{
 "cells": [
  {
   "cell_type": "markdown",
   "id": "1549a9be",
   "metadata": {},
   "source": [
    "This notebook is going to explore neural network models to predict whether a team makes the playoffs given a team's sequence of box scores."
   ]
  },
  {
   "cell_type": "code",
   "execution_count": 52,
   "id": "3ec91456",
   "metadata": {},
   "outputs": [],
   "source": [
    "import numpy as np\n",
    "import pandas as pd\n",
    "\n",
    "from playoff_model_helpers import *"
   ]
  },
  {
   "cell_type": "code",
   "execution_count": 104,
   "id": "0cd0fd7c",
   "metadata": {},
   "outputs": [],
   "source": [
    "df = import_data()"
   ]
  },
  {
   "cell_type": "code",
   "execution_count": 105,
   "id": "01792596",
   "metadata": {},
   "outputs": [],
   "source": [
    "df = made_playoffs(df)"
   ]
  },
  {
   "cell_type": "code",
   "execution_count": 106,
   "id": "9eb25978",
   "metadata": {},
   "outputs": [],
   "source": [
    "df.sort_values(['Team','Game_day'],inplace=True)"
   ]
  },
  {
   "cell_type": "code",
   "execution_count": 107,
   "id": "6de617f9",
   "metadata": {},
   "outputs": [],
   "source": [
    "df = include_home(df)"
   ]
  },
  {
   "cell_type": "code",
   "execution_count": 108,
   "id": "c0670193",
   "metadata": {},
   "outputs": [],
   "source": [
    "df = include_conference(df)"
   ]
  },
  {
   "cell_type": "code",
   "execution_count": 109,
   "id": "80bda2fe",
   "metadata": {},
   "outputs": [],
   "source": [
    "df = add_new_features(df)"
   ]
  },
  {
   "cell_type": "code",
   "execution_count": 110,
   "id": "2b6ae337",
   "metadata": {},
   "outputs": [],
   "source": [
    "df = clean(df)"
   ]
  },
  {
   "cell_type": "code",
   "execution_count": 116,
   "id": "789c3c6c",
   "metadata": {},
   "outputs": [
    {
     "data": {
      "text/html": [
       "<div>\n",
       "<style scoped>\n",
       "    .dataframe tbody tr th:only-of-type {\n",
       "        vertical-align: middle;\n",
       "    }\n",
       "\n",
       "    .dataframe tbody tr th {\n",
       "        vertical-align: top;\n",
       "    }\n",
       "\n",
       "    .dataframe thead th {\n",
       "        text-align: right;\n",
       "    }\n",
       "</style>\n",
       "<table border=\"1\" class=\"dataframe\">\n",
       "  <thead>\n",
       "    <tr style=\"text-align: right;\">\n",
       "      <th></th>\n",
       "      <th>Team</th>\n",
       "      <th>Game_day</th>\n",
       "      <th>Result</th>\n",
       "      <th>PTS</th>\n",
       "      <th>FGM</th>\n",
       "      <th>FGA</th>\n",
       "      <th>FGP</th>\n",
       "      <th>PM3</th>\n",
       "      <th>PA3</th>\n",
       "      <th>P3P</th>\n",
       "      <th>...</th>\n",
       "      <th>Playoffs</th>\n",
       "      <th>Home</th>\n",
       "      <th>Conference</th>\n",
       "      <th>Poss</th>\n",
       "      <th>PPP</th>\n",
       "      <th>OREB%</th>\n",
       "      <th>ATR</th>\n",
       "      <th>FTR</th>\n",
       "      <th>eFG</th>\n",
       "      <th>Season_ID</th>\n",
       "    </tr>\n",
       "  </thead>\n",
       "  <tbody>\n",
       "    <tr>\n",
       "      <th>81</th>\n",
       "      <td>ATL</td>\n",
       "      <td>1989-11-03</td>\n",
       "      <td>L</td>\n",
       "      <td>103</td>\n",
       "      <td>42</td>\n",
       "      <td>94</td>\n",
       "      <td>44.7</td>\n",
       "      <td>1</td>\n",
       "      <td>6</td>\n",
       "      <td>16.7</td>\n",
       "      <td>...</td>\n",
       "      <td>0</td>\n",
       "      <td>1</td>\n",
       "      <td>East</td>\n",
       "      <td>113.72</td>\n",
       "      <td>0.905733</td>\n",
       "      <td>0.403846</td>\n",
       "      <td>0.888889</td>\n",
       "      <td>0.404255</td>\n",
       "      <td>45.212766</td>\n",
       "      <td>00289</td>\n",
       "    </tr>\n",
       "    <tr>\n",
       "      <th>80</th>\n",
       "      <td>ATL</td>\n",
       "      <td>1989-11-07</td>\n",
       "      <td>L</td>\n",
       "      <td>114</td>\n",
       "      <td>45</td>\n",
       "      <td>92</td>\n",
       "      <td>48.9</td>\n",
       "      <td>0</td>\n",
       "      <td>0</td>\n",
       "      <td>0.0</td>\n",
       "      <td>...</td>\n",
       "      <td>0</td>\n",
       "      <td>1</td>\n",
       "      <td>East</td>\n",
       "      <td>109.52</td>\n",
       "      <td>1.040906</td>\n",
       "      <td>0.340426</td>\n",
       "      <td>1.230769</td>\n",
       "      <td>0.358696</td>\n",
       "      <td>48.913043</td>\n",
       "      <td>00289</td>\n",
       "    </tr>\n",
       "    <tr>\n",
       "      <th>79</th>\n",
       "      <td>ATL</td>\n",
       "      <td>1989-11-10</td>\n",
       "      <td>L</td>\n",
       "      <td>106</td>\n",
       "      <td>40</td>\n",
       "      <td>86</td>\n",
       "      <td>46.5</td>\n",
       "      <td>0</td>\n",
       "      <td>8</td>\n",
       "      <td>0.0</td>\n",
       "      <td>...</td>\n",
       "      <td>0</td>\n",
       "      <td>0</td>\n",
       "      <td>East</td>\n",
       "      <td>101.72</td>\n",
       "      <td>1.042076</td>\n",
       "      <td>0.195652</td>\n",
       "      <td>2.000000</td>\n",
       "      <td>0.441860</td>\n",
       "      <td>46.511628</td>\n",
       "      <td>00289</td>\n",
       "    </tr>\n",
       "    <tr>\n",
       "      <th>78</th>\n",
       "      <td>ATL</td>\n",
       "      <td>1989-11-11</td>\n",
       "      <td>W</td>\n",
       "      <td>148</td>\n",
       "      <td>58</td>\n",
       "      <td>95</td>\n",
       "      <td>61.1</td>\n",
       "      <td>2</td>\n",
       "      <td>4</td>\n",
       "      <td>50.0</td>\n",
       "      <td>...</td>\n",
       "      <td>0</td>\n",
       "      <td>1</td>\n",
       "      <td>East</td>\n",
       "      <td>109.04</td>\n",
       "      <td>1.357300</td>\n",
       "      <td>0.324324</td>\n",
       "      <td>2.500000</td>\n",
       "      <td>0.431579</td>\n",
       "      <td>62.105263</td>\n",
       "      <td>00289</td>\n",
       "    </tr>\n",
       "    <tr>\n",
       "      <th>77</th>\n",
       "      <td>ATL</td>\n",
       "      <td>1989-11-13</td>\n",
       "      <td>W</td>\n",
       "      <td>112</td>\n",
       "      <td>42</td>\n",
       "      <td>92</td>\n",
       "      <td>45.7</td>\n",
       "      <td>0</td>\n",
       "      <td>3</td>\n",
       "      <td>0.0</td>\n",
       "      <td>...</td>\n",
       "      <td>0</td>\n",
       "      <td>0</td>\n",
       "      <td>East</td>\n",
       "      <td>109.84</td>\n",
       "      <td>1.019665</td>\n",
       "      <td>0.380000</td>\n",
       "      <td>1.235294</td>\n",
       "      <td>0.391304</td>\n",
       "      <td>45.652174</td>\n",
       "      <td>00289</td>\n",
       "    </tr>\n",
       "  </tbody>\n",
       "</table>\n",
       "<p>5 rows × 31 columns</p>\n",
       "</div>"
      ],
      "text/plain": [
       "   Team   Game_day Result  PTS  FGM  FGA   FGP  PM3  PA3   P3P  ...  Playoffs  \\\n",
       "81  ATL 1989-11-03      L  103   42   94  44.7    1    6  16.7  ...         0   \n",
       "80  ATL 1989-11-07      L  114   45   92  48.9    0    0   0.0  ...         0   \n",
       "79  ATL 1989-11-10      L  106   40   86  46.5    0    8   0.0  ...         0   \n",
       "78  ATL 1989-11-11      W  148   58   95  61.1    2    4  50.0  ...         0   \n",
       "77  ATL 1989-11-13      W  112   42   92  45.7    0    3   0.0  ...         0   \n",
       "\n",
       "    Home  Conference    Poss       PPP     OREB%       ATR       FTR  \\\n",
       "81     1        East  113.72  0.905733  0.403846  0.888889  0.404255   \n",
       "80     1        East  109.52  1.040906  0.340426  1.230769  0.358696   \n",
       "79     0        East  101.72  1.042076  0.195652  2.000000  0.441860   \n",
       "78     1        East  109.04  1.357300  0.324324  2.500000  0.431579   \n",
       "77     0        East  109.84  1.019665  0.380000  1.235294  0.391304   \n",
       "\n",
       "          eFG  Season_ID  \n",
       "81  45.212766      00289  \n",
       "80  48.913043      00289  \n",
       "79  46.511628      00289  \n",
       "78  62.105263      00289  \n",
       "77  45.652174      00289  \n",
       "\n",
       "[5 rows x 31 columns]"
      ]
     },
     "execution_count": 116,
     "metadata": {},
     "output_type": "execute_result"
    }
   ],
   "source": [
    "df.head()"
   ]
  },
  {
   "cell_type": "code",
   "execution_count": 113,
   "id": "bcbc4a75",
   "metadata": {},
   "outputs": [],
   "source": [
    "df['Season_ID'] = df['Game_ID'].str.slice(0,5)"
   ]
  },
  {
   "cell_type": "code",
   "execution_count": 75,
   "id": "d7370599",
   "metadata": {},
   "outputs": [
    {
     "data": {
      "text/plain": [
       "array(['ATL', 'BKN', 'BOS', 'CHA', 'CHI', 'CLE', 'DAL', 'DEN', 'DET',\n",
       "       'GSW', 'HOU', 'IND', 'LAC', 'LAL', 'MEM', 'MIA', 'MIL', 'MIN',\n",
       "       'NOP', 'NYK', 'OKC', 'ORL', 'PHI', 'PHX', 'POR', 'SAC', 'SAS',\n",
       "       'TOR', 'UTA', 'WAS'], dtype=object)"
      ]
     },
     "execution_count": 75,
     "metadata": {},
     "output_type": "execute_result"
    }
   ],
   "source": [
    "df['Team'].unique()"
   ]
  },
  {
   "cell_type": "code",
   "execution_count": 115,
   "id": "a83bc3aa",
   "metadata": {},
   "outputs": [],
   "source": [
    "df.drop(inplace=True,columns=['Game_ID','MINS','Matchup','Year'])"
   ]
  },
  {
   "cell_type": "code",
   "execution_count": 117,
   "id": "ac42f221",
   "metadata": {},
   "outputs": [],
   "source": [
    "det_90 = df[(df['Team']=='DET') & (df['Season_ID']=='00290')]"
   ]
  },
  {
   "cell_type": "code",
   "execution_count": 169,
   "id": "d06053e5",
   "metadata": {},
   "outputs": [],
   "source": [
    "def team_and_season_generator(df):\n",
    "    teams = df['Team'].unique()\n",
    "    seasons = df['Season_ID'].unique()\n",
    "    \n",
    "    for t in teams:\n",
    "        for s in seasons:\n",
    "            yield df[(df['Team']==t) & (df['Season_ID']==s)]"
   ]
  },
  {
   "cell_type": "code",
   "execution_count": 171,
   "id": "4b8f2b8b",
   "metadata": {},
   "outputs": [],
   "source": [
    "def window_data(df,window = 5):\n",
    "    a = df.iloc[0:window].values\n",
    "    a = a.reshape((a.shape[0],a.shape[1],1))\n",
    "    \n",
    "    for i in range(1,len(df)-window):\n",
    "        b = df.iloc[i:i+window].values\n",
    "        b = np.expand_dims(b,2)\n",
    "        a = np.append(a,b,axis=2)\n",
    "        \n",
    "    return a"
   ]
  },
  {
   "cell_type": "code",
   "execution_count": 180,
   "id": "34795a37",
   "metadata": {},
   "outputs": [],
   "source": [
    "def create_sequence(df):\n",
    "    for d in team_and_season_generator(df):\n",
    "        yield window_data(d)\n",
    "        \n",
    "#     return seq"
   ]
  },
  {
   "cell_type": "code",
   "execution_count": 184,
   "id": "816804b6",
   "metadata": {},
   "outputs": [],
   "source": [
    "d = df[(df['Team']=='DET')]"
   ]
  },
  {
   "cell_type": "code",
   "execution_count": 202,
   "id": "b36fe56c",
   "metadata": {},
   "outputs": [],
   "source": [
    "start = time.ctime()\n",
    "for g in create_sequence(df):\n",
    "    gen = g\n",
    "end = time.ctime()"
   ]
  },
  {
   "cell_type": "code",
   "execution_count": 203,
   "id": "a3a4acd4",
   "metadata": {},
   "outputs": [
    {
     "data": {
      "text/plain": [
       "'Thu Apr 14 21:24:37 2022'"
      ]
     },
     "execution_count": 203,
     "metadata": {},
     "output_type": "execute_result"
    }
   ],
   "source": [
    "start"
   ]
  },
  {
   "cell_type": "code",
   "execution_count": 204,
   "id": "a1faf46e",
   "metadata": {},
   "outputs": [
    {
     "data": {
      "text/plain": [
       "'Thu Apr 14 21:26:22 2022'"
      ]
     },
     "execution_count": 204,
     "metadata": {},
     "output_type": "execute_result"
    }
   ],
   "source": [
    "end"
   ]
  },
  {
   "cell_type": "code",
   "execution_count": 207,
   "id": "89b6adcc",
   "metadata": {},
   "outputs": [
    {
     "data": {
      "text/plain": [
       "array([['WAS', 'WAS', 'WAS', ..., 'WAS', 'WAS', 'WAS'],\n",
       "       [Timestamp('2020-12-31 00:00:00'),\n",
       "        Timestamp('2021-01-01 00:00:00'),\n",
       "        Timestamp('2021-01-03 00:00:00'), ...,\n",
       "        Timestamp('2021-05-10 00:00:00'),\n",
       "        Timestamp('2021-05-12 00:00:00'),\n",
       "        Timestamp('2021-05-14 00:00:00')],\n",
       "       ['L', 'W', 'W', ..., 'L', 'L', 'W'],\n",
       "       ...,\n",
       "       [0.4880952380952381, 0.23595505617977527, 0.3269230769230769, ...,\n",
       "        0.11, 0.18811881188118812, 0.4157303370786517],\n",
       "       [58.333333333333336, 64.04494382022472, 47.11538461538461, ...,\n",
       "        57.5, 49.504950495049506, 50.0],\n",
       "       ['00220', '00220', '00220', ..., '00220', '00220', '00220']],\n",
       "      dtype=object)"
      ]
     },
     "execution_count": 207,
     "metadata": {},
     "output_type": "execute_result"
    }
   ],
   "source": [
    "gen[:,:]"
   ]
  },
  {
   "cell_type": "code",
   "execution_count": 199,
   "id": "f8b250d4",
   "metadata": {},
   "outputs": [],
   "source": [
    "import time"
   ]
  },
  {
   "cell_type": "code",
   "execution_count": null,
   "id": "21bb0fa9",
   "metadata": {},
   "outputs": [],
   "source": [
    "window = 5\n",
    "\n",
    "a = det_90.iloc[0:window].values\n",
    "a = a.reshape((a.shape[0],a.shape[1],1))\n",
    "for i in range(1,len(det_90)-window):\n",
    "    b = det_90.iloc[i:i+window].values\n",
    "    b = np.expand_dims(b,2)\n",
    "    a = np.append(a,b,axis=2)"
   ]
  },
  {
   "cell_type": "code",
   "execution_count": null,
   "id": "501e67bc",
   "metadata": {},
   "outputs": [],
   "source": [
    "a[:,:,1]"
   ]
  },
  {
   "cell_type": "code",
   "execution_count": null,
   "id": "a9833c67",
   "metadata": {},
   "outputs": [],
   "source": [
    "##### a[:,:,1]"
   ]
  },
  {
   "cell_type": "code",
   "execution_count": 147,
   "id": "5a78e345",
   "metadata": {},
   "outputs": [],
   "source": [
    "idxs = np.arange(a.shape[2])"
   ]
  },
  {
   "cell_type": "code",
   "execution_count": 198,
   "id": "c900ac25",
   "metadata": {},
   "outputs": [],
   "source": [
    "%timeit\n",
    "np.random.shuffle(idxs)"
   ]
  },
  {
   "cell_type": "code",
   "execution_count": 157,
   "id": "6896a8c6",
   "metadata": {},
   "outputs": [
    {
     "data": {
      "text/plain": [
       "62"
      ]
     },
     "execution_count": 157,
     "metadata": {},
     "output_type": "execute_result"
    }
   ],
   "source": [
    "trains"
   ]
  },
  {
   "cell_type": "code",
   "execution_count": 165,
   "id": "698f61ff",
   "metadata": {},
   "outputs": [],
   "source": [
    "test = idxs[int(len(idxs)*.2)]\n",
    "trains = idxs[0:round(len(idxs)*.8)]\n",
    "test = idxs[len(trains):len(idxs)]"
   ]
  },
  {
   "cell_type": "code",
   "execution_count": 166,
   "id": "bffaf699",
   "metadata": {},
   "outputs": [],
   "source": [
    "train = a[:,:,trains]"
   ]
  },
  {
   "cell_type": "code",
   "execution_count": 167,
   "id": "6e3b7804",
   "metadata": {},
   "outputs": [],
   "source": [
    "test = a[:,:,test]"
   ]
  },
  {
   "cell_type": "code",
   "execution_count": 168,
   "id": "4e766f2d",
   "metadata": {},
   "outputs": [
    {
     "data": {
      "text/plain": [
       "(5, 31, 15)"
      ]
     },
     "execution_count": 168,
     "metadata": {},
     "output_type": "execute_result"
    }
   ],
   "source": [
    "test.shape"
   ]
  },
  {
   "cell_type": "code",
   "execution_count": 135,
   "id": "d26ddb57",
   "metadata": {},
   "outputs": [],
   "source": [
    "from sklearn.model_selection import train_test_split"
   ]
  },
  {
   "cell_type": "code",
   "execution_count": 136,
   "id": "e982d8a6",
   "metadata": {},
   "outputs": [],
   "source": [
    "train, test = train_test_split(a)"
   ]
  },
  {
   "cell_type": "code",
   "execution_count": 137,
   "id": "ed59317a",
   "metadata": {},
   "outputs": [
    {
     "data": {
      "text/plain": [
       "(3, 31, 77)"
      ]
     },
     "execution_count": 137,
     "metadata": {},
     "output_type": "execute_result"
    }
   ],
   "source": [
    "train.shape"
   ]
  },
  {
   "cell_type": "code",
   "execution_count": 33,
   "id": "d2349bc7",
   "metadata": {},
   "outputs": [],
   "source": [
    "eg = df.head()\n",
    "# .values.reshape((-1,24,5))"
   ]
  },
  {
   "cell_type": "code",
   "execution_count": 34,
   "id": "5a5f463c",
   "metadata": {},
   "outputs": [],
   "source": [
    "eg = eg.values.reshape((5,24,1))"
   ]
  },
  {
   "cell_type": "code",
   "execution_count": 42,
   "id": "4956a28b",
   "metadata": {},
   "outputs": [],
   "source": [
    "eg = np.append(eg,df.tail().values.reshape((5,24,1)),2)"
   ]
  },
  {
   "cell_type": "code",
   "execution_count": 3,
   "id": "2e12be7a",
   "metadata": {},
   "outputs": [],
   "source": [
    "train, test = split_train_test(df)"
   ]
  },
  {
   "cell_type": "code",
   "execution_count": 190,
   "id": "2ffc5044",
   "metadata": {},
   "outputs": [
    {
     "data": {
      "text/plain": [
       "array([[['DET', 'DET', 'DET', ..., 'DET', 'DET', 'DET'],\n",
       "        [Timestamp('1990-11-02 00:00:00'),\n",
       "         Timestamp('1990-11-03 00:00:00'),\n",
       "         Timestamp('1990-11-06 00:00:00'), ...,\n",
       "         Timestamp('1991-04-06 00:00:00'),\n",
       "         Timestamp('1991-04-09 00:00:00'),\n",
       "         Timestamp('1991-04-10 00:00:00')],\n",
       "        ['W', 'W', 'L', ..., 'L', 'L', 'L'],\n",
       "        ...,\n",
       "        [0.4819277108433735, 0.19318181818181818, 0.4246575342465753,\n",
       "         ..., 0.17391304347826086, 0.27848101265822783,\n",
       "         0.30864197530864196],\n",
       "        [50.0, 52.27272727272727, 44.52054794520548, ...,\n",
       "         41.30434782608695, 50.0, 43.20987654320987],\n",
       "        ['00290', '00290', '00290', ..., '00290', '00290', '00290']],\n",
       "\n",
       "       [['DET', 'DET', 'DET', ..., 'DET', 'DET', 'DET'],\n",
       "        [Timestamp('1990-11-03 00:00:00'),\n",
       "         Timestamp('1990-11-06 00:00:00'),\n",
       "         Timestamp('1990-11-07 00:00:00'), ...,\n",
       "         Timestamp('1991-04-09 00:00:00'),\n",
       "         Timestamp('1991-04-10 00:00:00'),\n",
       "         Timestamp('1991-04-12 00:00:00')],\n",
       "        ['W', 'L', 'W', ..., 'L', 'L', 'W'],\n",
       "        ...,\n",
       "        [0.19318181818181818, 0.4246575342465753, 0.43529411764705883,\n",
       "         ..., 0.27848101265822783, 0.30864197530864196,\n",
       "         0.31645569620253167],\n",
       "        [52.27272727272727, 44.52054794520548, 47.64705882352941, ...,\n",
       "         50.0, 43.20987654320987, 45.56962025316456],\n",
       "        ['00290', '00290', '00290', ..., '00290', '00290', '00290']],\n",
       "\n",
       "       [['DET', 'DET', 'DET', ..., 'DET', 'DET', 'DET'],\n",
       "        [Timestamp('1990-11-06 00:00:00'),\n",
       "         Timestamp('1990-11-07 00:00:00'),\n",
       "         Timestamp('1990-11-09 00:00:00'), ...,\n",
       "         Timestamp('1991-04-10 00:00:00'),\n",
       "         Timestamp('1991-04-12 00:00:00'),\n",
       "         Timestamp('1991-04-14 00:00:00')],\n",
       "        ['L', 'W', 'L', ..., 'L', 'W', 'L'],\n",
       "        ...,\n",
       "        [0.4246575342465753, 0.43529411764705883, 0.20430107526881722,\n",
       "         ..., 0.30864197530864196, 0.31645569620253167,\n",
       "         0.1414141414141414],\n",
       "        [44.52054794520548, 47.64705882352941, 46.774193548387096, ...,\n",
       "         43.20987654320987, 45.56962025316456, 50.0],\n",
       "        ['00290', '00290', '00290', ..., '00290', '00290', '00290']],\n",
       "\n",
       "       [['DET', 'DET', 'DET', ..., 'DET', 'DET', 'DET'],\n",
       "        [Timestamp('1990-11-07 00:00:00'),\n",
       "         Timestamp('1990-11-09 00:00:00'),\n",
       "         Timestamp('1990-11-13 00:00:00'), ...,\n",
       "         Timestamp('1991-04-12 00:00:00'),\n",
       "         Timestamp('1991-04-14 00:00:00'),\n",
       "         Timestamp('1991-04-16 00:00:00')],\n",
       "        ['W', 'L', 'W', ..., 'W', 'L', 'W'],\n",
       "        ...,\n",
       "        [0.43529411764705883, 0.20430107526881722, 0.35555555555555557,\n",
       "         ..., 0.31645569620253167, 0.1414141414141414,\n",
       "         0.4482758620689655],\n",
       "        [47.64705882352941, 46.774193548387096, 51.666666666666664, ...,\n",
       "         45.56962025316456, 50.0, 49.42528735632184],\n",
       "        ['00290', '00290', '00290', ..., '00290', '00290', '00290']],\n",
       "\n",
       "       [['DET', 'DET', 'DET', ..., 'DET', 'DET', 'DET'],\n",
       "        [Timestamp('1990-11-09 00:00:00'),\n",
       "         Timestamp('1990-11-13 00:00:00'),\n",
       "         Timestamp('1990-11-16 00:00:00'), ...,\n",
       "         Timestamp('1991-04-14 00:00:00'),\n",
       "         Timestamp('1991-04-16 00:00:00'),\n",
       "         Timestamp('1991-04-19 00:00:00')],\n",
       "        ['L', 'W', 'W', ..., 'L', 'W', 'W'],\n",
       "        ...,\n",
       "        [0.20430107526881722, 0.35555555555555557, 0.46835443037974683,\n",
       "         ..., 0.1414141414141414, 0.4482758620689655,\n",
       "         0.5897435897435898],\n",
       "        [46.774193548387096, 51.666666666666664, 47.46835443037975, ...,\n",
       "         50.0, 49.42528735632184, 60.256410256410255],\n",
       "        ['00290', '00290', '00290', ..., '00290', '00290', '00290']]],\n",
       "      dtype=object)"
      ]
     },
     "execution_count": 190,
     "metadata": {},
     "output_type": "execute_result"
    }
   ],
   "source": [
    "a"
   ]
  },
  {
   "cell_type": "code",
   "execution_count": null,
   "id": "439fc492",
   "metadata": {},
   "outputs": [],
   "source": []
  },
  {
   "cell_type": "code",
   "execution_count": null,
   "id": "70848f17",
   "metadata": {},
   "outputs": [],
   "source": []
  }
 ],
 "metadata": {
  "kernelspec": {
   "display_name": "Python 3",
   "language": "python",
   "name": "python3"
  },
  "language_info": {
   "codemirror_mode": {
    "name": "ipython",
    "version": 3
   },
   "file_extension": ".py",
   "mimetype": "text/x-python",
   "name": "python",
   "nbconvert_exporter": "python",
   "pygments_lexer": "ipython3",
   "version": "3.7.3"
  }
 },
 "nbformat": 4,
 "nbformat_minor": 5
}
