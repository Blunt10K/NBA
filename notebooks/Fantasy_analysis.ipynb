{
 "cells": [
  {
   "cell_type": "code",
   "execution_count": 1,
   "id": "284b6ad1",
   "metadata": {},
   "outputs": [],
   "source": [
    "import sqlalchemy\n",
    "from os import environ\n",
    "\n",
    "import numpy as np\n",
    "import pandas as pd\n",
    "\n",
    "from jupyter_dash import JupyterDash\n",
    "from dash import html\n",
    "from dash.dependencies import Input, Output\n",
    "import plotly.express as px\n",
    "from dash import dcc\n",
    "\n",
    "from sklearn.cluster import MeanShift"
   ]
  },
  {
   "cell_type": "markdown",
   "id": "797c1965",
   "metadata": {},
   "source": [
    "## The ESPN fantasy league assigns value to some recorded player statistics. The values include:\n",
    "\n",
    "- Points scored PTS = 1\n",
    "- Blocks BLK = 4\n",
    "- Assists AST = 2\n",
    "- Rebounds REB = 1\n",
    "- Field goals made FGM = 2\n",
    "- Free throws made FTM = 1\n",
    "- Three pointers made PM3 = 1\n",
    "- Steals STL = 4\n",
    "\n",
    "## Some values result in a penalty (negative scores):\n",
    "\n",
    "- Turnovers TOV = -2\n",
    "- Field goals attempted FGA = -1\n",
    "- Free throws attempted FTA = -1"
   ]
  },
  {
   "cell_type": "code",
   "execution_count": 2,
   "id": "0548c4f6",
   "metadata": {},
   "outputs": [],
   "source": [
    "value = {\"PTS\":1,\"BLK\":4,\"AST\":2,\"TOV\":-2,\"FGM\":2,\"FGA\":-1,\"FTM\":1,\"FTA\":-1,\"PM3\":1,\"STL\":4,\"REB\":1}"
   ]
  },
  {
   "cell_type": "markdown",
   "id": "24f12d87",
   "metadata": {},
   "source": [
    "### The fantasy scores are given as :\n",
    "$$score = \\sum^{N-1}_{i=0} v_i \\cdot s_i$$\n",
    "\n",
    "Where $v_i$ is the value assigned to stat $s_i$."
   ]
  },
  {
   "cell_type": "code",
   "execution_count": 3,
   "id": "7bd9614f",
   "metadata": {},
   "outputs": [],
   "source": [
    "v = np.array(list(value.values()))"
   ]
  },
  {
   "cell_type": "code",
   "execution_count": 4,
   "id": "1ac0f40e",
   "metadata": {},
   "outputs": [],
   "source": [
    "stats = \", \".join([k.lower() for k in list(value.keys()) if k != 'REB'])"
   ]
  },
  {
   "cell_type": "code",
   "execution_count": 5,
   "id": "81b7b8eb",
   "metadata": {},
   "outputs": [],
   "source": [
    "engine = sqlalchemy.create_engine(\"mariadb+mariadbconnector://\"+environ.get(\"USER\")+\\\n",
    "                                  \":\"+environ.get(\"PSWD\")+\"@127.0.0.1:3306/nba\")"
   ]
  },
  {
   "cell_type": "code",
   "execution_count": 6,
   "id": "d46f8932",
   "metadata": {},
   "outputs": [
    {
     "data": {
      "text/plain": [
       "array([ 1,  4,  2, -2,  2, -1,  1, -1,  1,  4,  1])"
      ]
     },
     "execution_count": 6,
     "metadata": {},
     "output_type": "execute_result"
    }
   ],
   "source": [
    "v"
   ]
  },
  {
   "cell_type": "code",
   "execution_count": 7,
   "id": "17693fcd",
   "metadata": {},
   "outputs": [],
   "source": [
    "fields = \"name, game_day, \" + stats + \", (oreb + dreb) as reb \" \n",
    "\n",
    "join =  'box_scores INNER JOIN players on box_scores.player_id = players.id '\n",
    "\n",
    "select = \"SELECT \"+ fields + \"FROM \" + join + ' where substring(game_id,1,5) = \"00222\" ORDER BY name, game_day;'"
   ]
  },
  {
   "cell_type": "code",
   "execution_count": 8,
   "id": "ce89e0af",
   "metadata": {
    "scrolled": false
   },
   "outputs": [],
   "source": [
    "box_scores = pd.read_sql(select,engine,parse_dates=[\"game_day\"])"
   ]
  },
  {
   "cell_type": "code",
   "execution_count": 9,
   "id": "1ce066c7",
   "metadata": {},
   "outputs": [
    {
     "data": {
      "text/html": [
       "<div>\n",
       "<style scoped>\n",
       "    .dataframe tbody tr th:only-of-type {\n",
       "        vertical-align: middle;\n",
       "    }\n",
       "\n",
       "    .dataframe tbody tr th {\n",
       "        vertical-align: top;\n",
       "    }\n",
       "\n",
       "    .dataframe thead th {\n",
       "        text-align: right;\n",
       "    }\n",
       "</style>\n",
       "<table border=\"1\" class=\"dataframe\">\n",
       "  <thead>\n",
       "    <tr style=\"text-align: right;\">\n",
       "      <th></th>\n",
       "      <th>name</th>\n",
       "      <th>game_day</th>\n",
       "      <th>pts</th>\n",
       "      <th>blk</th>\n",
       "      <th>ast</th>\n",
       "      <th>tov</th>\n",
       "      <th>fgm</th>\n",
       "      <th>fga</th>\n",
       "      <th>ftm</th>\n",
       "      <th>fta</th>\n",
       "      <th>pm3</th>\n",
       "      <th>stl</th>\n",
       "      <th>reb</th>\n",
       "    </tr>\n",
       "  </thead>\n",
       "  <tbody>\n",
       "    <tr>\n",
       "      <th>0</th>\n",
       "      <td>A.J. Lawson</td>\n",
       "      <td>2022-11-16</td>\n",
       "      <td>2</td>\n",
       "      <td>0</td>\n",
       "      <td>0</td>\n",
       "      <td>0</td>\n",
       "      <td>1</td>\n",
       "      <td>1</td>\n",
       "      <td>0</td>\n",
       "      <td>0</td>\n",
       "      <td>0</td>\n",
       "      <td>0</td>\n",
       "      <td>1</td>\n",
       "    </tr>\n",
       "    <tr>\n",
       "      <th>1</th>\n",
       "      <td>A.J. Lawson</td>\n",
       "      <td>2022-12-29</td>\n",
       "      <td>0</td>\n",
       "      <td>0</td>\n",
       "      <td>0</td>\n",
       "      <td>0</td>\n",
       "      <td>0</td>\n",
       "      <td>1</td>\n",
       "      <td>0</td>\n",
       "      <td>0</td>\n",
       "      <td>0</td>\n",
       "      <td>0</td>\n",
       "      <td>0</td>\n",
       "    </tr>\n",
       "    <tr>\n",
       "      <th>2</th>\n",
       "      <td>A.J. Lawson</td>\n",
       "      <td>2023-01-05</td>\n",
       "      <td>0</td>\n",
       "      <td>0</td>\n",
       "      <td>0</td>\n",
       "      <td>0</td>\n",
       "      <td>0</td>\n",
       "      <td>1</td>\n",
       "      <td>0</td>\n",
       "      <td>0</td>\n",
       "      <td>0</td>\n",
       "      <td>0</td>\n",
       "      <td>0</td>\n",
       "    </tr>\n",
       "    <tr>\n",
       "      <th>3</th>\n",
       "      <td>A.J. Lawson</td>\n",
       "      <td>2023-01-07</td>\n",
       "      <td>0</td>\n",
       "      <td>0</td>\n",
       "      <td>0</td>\n",
       "      <td>0</td>\n",
       "      <td>0</td>\n",
       "      <td>0</td>\n",
       "      <td>0</td>\n",
       "      <td>0</td>\n",
       "      <td>0</td>\n",
       "      <td>0</td>\n",
       "      <td>0</td>\n",
       "    </tr>\n",
       "    <tr>\n",
       "      <th>4</th>\n",
       "      <td>A.J. Lawson</td>\n",
       "      <td>2023-01-08</td>\n",
       "      <td>0</td>\n",
       "      <td>0</td>\n",
       "      <td>0</td>\n",
       "      <td>0</td>\n",
       "      <td>0</td>\n",
       "      <td>1</td>\n",
       "      <td>0</td>\n",
       "      <td>0</td>\n",
       "      <td>0</td>\n",
       "      <td>0</td>\n",
       "      <td>0</td>\n",
       "    </tr>\n",
       "  </tbody>\n",
       "</table>\n",
       "</div>"
      ],
      "text/plain": [
       "          name   game_day  pts  blk  ast  tov  fgm  fga  ftm  fta  pm3  stl  \\\n",
       "0  A.J. Lawson 2022-11-16    2    0    0    0    1    1    0    0    0    0   \n",
       "1  A.J. Lawson 2022-12-29    0    0    0    0    0    1    0    0    0    0   \n",
       "2  A.J. Lawson 2023-01-05    0    0    0    0    0    1    0    0    0    0   \n",
       "3  A.J. Lawson 2023-01-07    0    0    0    0    0    0    0    0    0    0   \n",
       "4  A.J. Lawson 2023-01-08    0    0    0    0    0    1    0    0    0    0   \n",
       "\n",
       "   reb  \n",
       "0    1  \n",
       "1    0  \n",
       "2    0  \n",
       "3    0  \n",
       "4    0  "
      ]
     },
     "execution_count": 9,
     "metadata": {},
     "output_type": "execute_result"
    }
   ],
   "source": [
    "box_scores.head()"
   ]
  },
  {
   "cell_type": "markdown",
   "id": "bc939d6c",
   "metadata": {},
   "source": [
    "#### Calculate the fantasy points by a matrix multiplication\n",
    "$$\\vec{f} = \\vec{v} \\times \\matrix{B} $$\n",
    "\n",
    "Where $\\vec{f}$ is all player's fantasy points, $\\vec{v}$ is the values assigned to the all player's box scores $\\matrix{B}$."
   ]
  },
  {
   "cell_type": "code",
   "execution_count": 10,
   "id": "880befb3",
   "metadata": {
    "scrolled": true
   },
   "outputs": [],
   "source": [
    "def calc_fantasy_points(v, box_scores):\n",
    "    return v @ box_scores"
   ]
  },
  {
   "cell_type": "code",
   "execution_count": 11,
   "id": "fd1f9812",
   "metadata": {},
   "outputs": [],
   "source": [
    "s = np.array(box_scores.values[:,2:],dtype = np.int64)"
   ]
  },
  {
   "cell_type": "code",
   "execution_count": 12,
   "id": "a33549df",
   "metadata": {},
   "outputs": [
    {
     "data": {
      "text/plain": [
       "array([ 1,  4,  2, -2,  2, -1,  1, -1,  1,  4,  1])"
      ]
     },
     "execution_count": 12,
     "metadata": {},
     "output_type": "execute_result"
    }
   ],
   "source": [
    "v"
   ]
  },
  {
   "cell_type": "code",
   "execution_count": 13,
   "id": "7060b04f",
   "metadata": {},
   "outputs": [],
   "source": [
    "box_scores[\"Fantasy Points\"] = calc_fantasy_points(v, s.T)"
   ]
  },
  {
   "cell_type": "markdown",
   "id": "2f0438f2",
   "metadata": {},
   "source": [
    "## The fantasy scores can then be grouped by the player names and aggregated using a rolling mean on their fantasy scores.\n",
    "\n",
    "Typically, there are 3-4 games a week and since the Fantasy League is in a week-by week format, it makes sense to set the rolling mean window to 4. This will show how a player is doing on a week to week basis."
   ]
  },
  {
   "cell_type": "code",
   "execution_count": 14,
   "id": "aaad08e8",
   "metadata": {},
   "outputs": [],
   "source": [
    "names = box_scores[\"name\"].unique()"
   ]
  },
  {
   "cell_type": "code",
   "execution_count": 15,
   "id": "d4526088",
   "metadata": {},
   "outputs": [],
   "source": [
    "rolls = box_scores[['name','Fantasy Points']]\n",
    "rolls= rolls.groupby([\"name\"],as_index=False).rolling(4,min_periods =1).mean()"
   ]
  },
  {
   "cell_type": "code",
   "execution_count": 16,
   "id": "e987e9b6",
   "metadata": {},
   "outputs": [],
   "source": [
    "fps = box_scores.groupby(\"name\",as_index=False).mean()"
   ]
  },
  {
   "cell_type": "code",
   "execution_count": 17,
   "id": "0b74054b",
   "metadata": {},
   "outputs": [],
   "source": [
    "box_scores[\"Rolling\"] = rolls[\"Fantasy Points\"]"
   ]
  },
  {
   "cell_type": "code",
   "execution_count": 18,
   "id": "d17d9f0f",
   "metadata": {},
   "outputs": [
    {
     "data": {
      "text/html": [
       "<div>\n",
       "<style scoped>\n",
       "    .dataframe tbody tr th:only-of-type {\n",
       "        vertical-align: middle;\n",
       "    }\n",
       "\n",
       "    .dataframe tbody tr th {\n",
       "        vertical-align: top;\n",
       "    }\n",
       "\n",
       "    .dataframe thead th {\n",
       "        text-align: right;\n",
       "    }\n",
       "</style>\n",
       "<table border=\"1\" class=\"dataframe\">\n",
       "  <thead>\n",
       "    <tr style=\"text-align: right;\">\n",
       "      <th></th>\n",
       "      <th>name</th>\n",
       "      <th>game_day</th>\n",
       "      <th>pts</th>\n",
       "      <th>blk</th>\n",
       "      <th>ast</th>\n",
       "      <th>tov</th>\n",
       "      <th>fgm</th>\n",
       "      <th>fga</th>\n",
       "      <th>ftm</th>\n",
       "      <th>fta</th>\n",
       "      <th>pm3</th>\n",
       "      <th>stl</th>\n",
       "      <th>reb</th>\n",
       "      <th>Fantasy Points</th>\n",
       "      <th>Rolling</th>\n",
       "    </tr>\n",
       "  </thead>\n",
       "  <tbody>\n",
       "    <tr>\n",
       "      <th>0</th>\n",
       "      <td>A.J. Lawson</td>\n",
       "      <td>2022-11-16</td>\n",
       "      <td>2</td>\n",
       "      <td>0</td>\n",
       "      <td>0</td>\n",
       "      <td>0</td>\n",
       "      <td>1</td>\n",
       "      <td>1</td>\n",
       "      <td>0</td>\n",
       "      <td>0</td>\n",
       "      <td>0</td>\n",
       "      <td>0</td>\n",
       "      <td>1</td>\n",
       "      <td>4</td>\n",
       "      <td>4.000000</td>\n",
       "    </tr>\n",
       "    <tr>\n",
       "      <th>1</th>\n",
       "      <td>A.J. Lawson</td>\n",
       "      <td>2022-12-29</td>\n",
       "      <td>0</td>\n",
       "      <td>0</td>\n",
       "      <td>0</td>\n",
       "      <td>0</td>\n",
       "      <td>0</td>\n",
       "      <td>1</td>\n",
       "      <td>0</td>\n",
       "      <td>0</td>\n",
       "      <td>0</td>\n",
       "      <td>0</td>\n",
       "      <td>0</td>\n",
       "      <td>-1</td>\n",
       "      <td>1.500000</td>\n",
       "    </tr>\n",
       "    <tr>\n",
       "      <th>2</th>\n",
       "      <td>A.J. Lawson</td>\n",
       "      <td>2023-01-05</td>\n",
       "      <td>0</td>\n",
       "      <td>0</td>\n",
       "      <td>0</td>\n",
       "      <td>0</td>\n",
       "      <td>0</td>\n",
       "      <td>1</td>\n",
       "      <td>0</td>\n",
       "      <td>0</td>\n",
       "      <td>0</td>\n",
       "      <td>0</td>\n",
       "      <td>0</td>\n",
       "      <td>-1</td>\n",
       "      <td>0.666667</td>\n",
       "    </tr>\n",
       "    <tr>\n",
       "      <th>3</th>\n",
       "      <td>A.J. Lawson</td>\n",
       "      <td>2023-01-07</td>\n",
       "      <td>0</td>\n",
       "      <td>0</td>\n",
       "      <td>0</td>\n",
       "      <td>0</td>\n",
       "      <td>0</td>\n",
       "      <td>0</td>\n",
       "      <td>0</td>\n",
       "      <td>0</td>\n",
       "      <td>0</td>\n",
       "      <td>0</td>\n",
       "      <td>0</td>\n",
       "      <td>0</td>\n",
       "      <td>0.500000</td>\n",
       "    </tr>\n",
       "    <tr>\n",
       "      <th>4</th>\n",
       "      <td>A.J. Lawson</td>\n",
       "      <td>2023-01-08</td>\n",
       "      <td>0</td>\n",
       "      <td>0</td>\n",
       "      <td>0</td>\n",
       "      <td>0</td>\n",
       "      <td>0</td>\n",
       "      <td>1</td>\n",
       "      <td>0</td>\n",
       "      <td>0</td>\n",
       "      <td>0</td>\n",
       "      <td>0</td>\n",
       "      <td>0</td>\n",
       "      <td>-1</td>\n",
       "      <td>-0.750000</td>\n",
       "    </tr>\n",
       "  </tbody>\n",
       "</table>\n",
       "</div>"
      ],
      "text/plain": [
       "          name   game_day  pts  blk  ast  tov  fgm  fga  ftm  fta  pm3  stl  \\\n",
       "0  A.J. Lawson 2022-11-16    2    0    0    0    1    1    0    0    0    0   \n",
       "1  A.J. Lawson 2022-12-29    0    0    0    0    0    1    0    0    0    0   \n",
       "2  A.J. Lawson 2023-01-05    0    0    0    0    0    1    0    0    0    0   \n",
       "3  A.J. Lawson 2023-01-07    0    0    0    0    0    0    0    0    0    0   \n",
       "4  A.J. Lawson 2023-01-08    0    0    0    0    0    1    0    0    0    0   \n",
       "\n",
       "   reb  Fantasy Points   Rolling  \n",
       "0    1               4  4.000000  \n",
       "1    0              -1  1.500000  \n",
       "2    0              -1  0.666667  \n",
       "3    0               0  0.500000  \n",
       "4    0              -1 -0.750000  "
      ]
     },
     "execution_count": 18,
     "metadata": {},
     "output_type": "execute_result"
    }
   ],
   "source": [
    "box_scores.head()"
   ]
  },
  {
   "cell_type": "code",
   "execution_count": 19,
   "id": "5e0f3310",
   "metadata": {},
   "outputs": [],
   "source": [
    "def options(names):\n",
    "    options = []\n",
    "    for i in names:\n",
    "        d = {}\n",
    "        d[\"label\"] = i\n",
    "        d[\"value\"] = i\n",
    "        options.append(d)\n",
    "        \n",
    "    return options"
   ]
  },
  {
   "cell_type": "markdown",
   "id": "167479ae",
   "metadata": {},
   "source": [
    "## Below defines a dashboard that shows a line graph for aggregated fantasy scores against the game day. A searchable dropdown includes all the players who recorded stats this season. Simply search and select the player(s) of interest and their fantasy points over the course of the season will be visible. The dropdown includes functionality for multiple players to enable multiple comparisons. \n",
    "\n",
    "## A second graph, a (overlaid) histogram with the marginal plots for the fantasy points counts is included to show the distribution of fantasy points for the selected players."
   ]
  },
  {
   "cell_type": "code",
   "execution_count": 20,
   "id": "3ba1b9cf",
   "metadata": {},
   "outputs": [],
   "source": [
    "def drpdwn(i):\n",
    "    opts = options(names)\n",
    "    d = dcc.Dropdown(options = opts, value = names[0:2],id = i,multi = True)\n",
    "    \n",
    "    return d"
   ]
  },
  {
   "cell_type": "code",
   "execution_count": 21,
   "id": "7228c3ae",
   "metadata": {},
   "outputs": [],
   "source": [
    "model = MeanShift(bandwidth = 3.6, min_bin_freq = 1)"
   ]
  },
  {
   "cell_type": "code",
   "execution_count": 112,
   "id": "df2e8cd8",
   "metadata": {
    "scrolled": false
   },
   "outputs": [
    {
     "data": {
      "text/html": [
       "<style>#sk-container-id-3 {color: black;background-color: white;}#sk-container-id-3 pre{padding: 0;}#sk-container-id-3 div.sk-toggleable {background-color: white;}#sk-container-id-3 label.sk-toggleable__label {cursor: pointer;display: block;width: 100%;margin-bottom: 0;padding: 0.3em;box-sizing: border-box;text-align: center;}#sk-container-id-3 label.sk-toggleable__label-arrow:before {content: \"▸\";float: left;margin-right: 0.25em;color: #696969;}#sk-container-id-3 label.sk-toggleable__label-arrow:hover:before {color: black;}#sk-container-id-3 div.sk-estimator:hover label.sk-toggleable__label-arrow:before {color: black;}#sk-container-id-3 div.sk-toggleable__content {max-height: 0;max-width: 0;overflow: hidden;text-align: left;background-color: #f0f8ff;}#sk-container-id-3 div.sk-toggleable__content pre {margin: 0.2em;color: black;border-radius: 0.25em;background-color: #f0f8ff;}#sk-container-id-3 input.sk-toggleable__control:checked~div.sk-toggleable__content {max-height: 200px;max-width: 100%;overflow: auto;}#sk-container-id-3 input.sk-toggleable__control:checked~label.sk-toggleable__label-arrow:before {content: \"▾\";}#sk-container-id-3 div.sk-estimator input.sk-toggleable__control:checked~label.sk-toggleable__label {background-color: #d4ebff;}#sk-container-id-3 div.sk-label input.sk-toggleable__control:checked~label.sk-toggleable__label {background-color: #d4ebff;}#sk-container-id-3 input.sk-hidden--visually {border: 0;clip: rect(1px 1px 1px 1px);clip: rect(1px, 1px, 1px, 1px);height: 1px;margin: -1px;overflow: hidden;padding: 0;position: absolute;width: 1px;}#sk-container-id-3 div.sk-estimator {font-family: monospace;background-color: #f0f8ff;border: 1px dotted black;border-radius: 0.25em;box-sizing: border-box;margin-bottom: 0.5em;}#sk-container-id-3 div.sk-estimator:hover {background-color: #d4ebff;}#sk-container-id-3 div.sk-parallel-item::after {content: \"\";width: 100%;border-bottom: 1px solid gray;flex-grow: 1;}#sk-container-id-3 div.sk-label:hover label.sk-toggleable__label {background-color: #d4ebff;}#sk-container-id-3 div.sk-serial::before {content: \"\";position: absolute;border-left: 1px solid gray;box-sizing: border-box;top: 0;bottom: 0;left: 50%;z-index: 0;}#sk-container-id-3 div.sk-serial {display: flex;flex-direction: column;align-items: center;background-color: white;padding-right: 0.2em;padding-left: 0.2em;position: relative;}#sk-container-id-3 div.sk-item {position: relative;z-index: 1;}#sk-container-id-3 div.sk-parallel {display: flex;align-items: stretch;justify-content: center;background-color: white;position: relative;}#sk-container-id-3 div.sk-item::before, #sk-container-id-3 div.sk-parallel-item::before {content: \"\";position: absolute;border-left: 1px solid gray;box-sizing: border-box;top: 0;bottom: 0;left: 50%;z-index: -1;}#sk-container-id-3 div.sk-parallel-item {display: flex;flex-direction: column;z-index: 1;position: relative;background-color: white;}#sk-container-id-3 div.sk-parallel-item:first-child::after {align-self: flex-end;width: 50%;}#sk-container-id-3 div.sk-parallel-item:last-child::after {align-self: flex-start;width: 50%;}#sk-container-id-3 div.sk-parallel-item:only-child::after {width: 0;}#sk-container-id-3 div.sk-dashed-wrapped {border: 1px dashed gray;margin: 0 0.4em 0.5em 0.4em;box-sizing: border-box;padding-bottom: 0.4em;background-color: white;}#sk-container-id-3 div.sk-label label {font-family: monospace;font-weight: bold;display: inline-block;line-height: 1.2em;}#sk-container-id-3 div.sk-label-container {text-align: center;}#sk-container-id-3 div.sk-container {/* jupyter's `normalize.less` sets `[hidden] { display: none; }` but bootstrap.min.css set `[hidden] { display: none !important; }` so we also need the `!important` here to be able to override the default hidden behavior on the sphinx rendered scikit-learn.org. See: https://github.com/scikit-learn/scikit-learn/issues/21755 */display: inline-block !important;position: relative;}#sk-container-id-3 div.sk-text-repr-fallback {display: none;}</style><div id=\"sk-container-id-3\" class=\"sk-top-container\"><div class=\"sk-text-repr-fallback\"><pre>MeanShift(bandwidth=3.6)</pre><b>In a Jupyter environment, please rerun this cell to show the HTML representation or trust the notebook. <br />On GitHub, the HTML representation is unable to render, please try loading this page with nbviewer.org.</b></div><div class=\"sk-container\" hidden><div class=\"sk-item\"><div class=\"sk-estimator sk-toggleable\"><input class=\"sk-toggleable__control sk-hidden--visually\" id=\"sk-estimator-id-3\" type=\"checkbox\" checked><label for=\"sk-estimator-id-3\" class=\"sk-toggleable__label sk-toggleable__label-arrow\">MeanShift</label><div class=\"sk-toggleable__content\"><pre>MeanShift(bandwidth=3.6)</pre></div></div></div></div></div>"
      ],
      "text/plain": [
       "MeanShift(bandwidth=3.6)"
      ]
     },
     "execution_count": 112,
     "metadata": {},
     "output_type": "execute_result"
    }
   ],
   "source": [
    "model.fit(fps[\"Fantasy Points\"].values.reshape((-1,1)))"
   ]
  },
  {
   "cell_type": "code",
   "execution_count": 147,
   "id": "d35c1593",
   "metadata": {},
   "outputs": [],
   "source": [
    "labs = {0:'horrible',2:'below average',1:'average',3:'good',4:'very good',\n",
    "        5:'great',6:'outstanding'}"
   ]
  },
  {
   "cell_type": "code",
   "execution_count": 148,
   "id": "1584b544",
   "metadata": {},
   "outputs": [],
   "source": [
    "box_scores['Rating'] = [labs[i] for i in model.predict(box_scores['Rolling'].values.reshape((-1,1)))]"
   ]
  },
  {
   "cell_type": "code",
   "execution_count": 21,
   "id": "a602f1b8",
   "metadata": {},
   "outputs": [
    {
     "data": {
      "text/html": [
       "<div>\n",
       "<style scoped>\n",
       "    .dataframe tbody tr th:only-of-type {\n",
       "        vertical-align: middle;\n",
       "    }\n",
       "\n",
       "    .dataframe tbody tr th {\n",
       "        vertical-align: top;\n",
       "    }\n",
       "\n",
       "    .dataframe thead th {\n",
       "        text-align: right;\n",
       "    }\n",
       "</style>\n",
       "<table border=\"1\" class=\"dataframe\">\n",
       "  <thead>\n",
       "    <tr style=\"text-align: right;\">\n",
       "      <th></th>\n",
       "      <th>name</th>\n",
       "      <th>game_day</th>\n",
       "      <th>pts</th>\n",
       "      <th>blk</th>\n",
       "      <th>ast</th>\n",
       "      <th>tov</th>\n",
       "      <th>fgm</th>\n",
       "      <th>fga</th>\n",
       "      <th>ftm</th>\n",
       "      <th>fta</th>\n",
       "      <th>pm3</th>\n",
       "      <th>stl</th>\n",
       "      <th>reb</th>\n",
       "      <th>Fantasy Points</th>\n",
       "      <th>Rolling</th>\n",
       "    </tr>\n",
       "  </thead>\n",
       "  <tbody>\n",
       "    <tr>\n",
       "      <th>8491</th>\n",
       "      <td>Kevin Huerter</td>\n",
       "      <td>2022-10-19</td>\n",
       "      <td>23</td>\n",
       "      <td>0</td>\n",
       "      <td>2</td>\n",
       "      <td>1</td>\n",
       "      <td>8</td>\n",
       "      <td>12</td>\n",
       "      <td>1</td>\n",
       "      <td>2</td>\n",
       "      <td>6</td>\n",
       "      <td>1</td>\n",
       "      <td>3</td>\n",
       "      <td>41</td>\n",
       "      <td>41.000000</td>\n",
       "    </tr>\n",
       "    <tr>\n",
       "      <th>8492</th>\n",
       "      <td>Kevin Huerter</td>\n",
       "      <td>2022-10-22</td>\n",
       "      <td>18</td>\n",
       "      <td>0</td>\n",
       "      <td>5</td>\n",
       "      <td>1</td>\n",
       "      <td>5</td>\n",
       "      <td>9</td>\n",
       "      <td>3</td>\n",
       "      <td>4</td>\n",
       "      <td>5</td>\n",
       "      <td>0</td>\n",
       "      <td>3</td>\n",
       "      <td>34</td>\n",
       "      <td>37.500000</td>\n",
       "    </tr>\n",
       "    <tr>\n",
       "      <th>8493</th>\n",
       "      <td>Kevin Huerter</td>\n",
       "      <td>2022-10-23</td>\n",
       "      <td>9</td>\n",
       "      <td>0</td>\n",
       "      <td>4</td>\n",
       "      <td>2</td>\n",
       "      <td>3</td>\n",
       "      <td>14</td>\n",
       "      <td>2</td>\n",
       "      <td>2</td>\n",
       "      <td>1</td>\n",
       "      <td>0</td>\n",
       "      <td>5</td>\n",
       "      <td>11</td>\n",
       "      <td>28.666667</td>\n",
       "    </tr>\n",
       "    <tr>\n",
       "      <th>8494</th>\n",
       "      <td>Kevin Huerter</td>\n",
       "      <td>2022-10-27</td>\n",
       "      <td>7</td>\n",
       "      <td>0</td>\n",
       "      <td>2</td>\n",
       "      <td>0</td>\n",
       "      <td>3</td>\n",
       "      <td>8</td>\n",
       "      <td>0</td>\n",
       "      <td>0</td>\n",
       "      <td>1</td>\n",
       "      <td>0</td>\n",
       "      <td>2</td>\n",
       "      <td>12</td>\n",
       "      <td>24.500000</td>\n",
       "    </tr>\n",
       "    <tr>\n",
       "      <th>8495</th>\n",
       "      <td>Kevin Huerter</td>\n",
       "      <td>2022-10-29</td>\n",
       "      <td>27</td>\n",
       "      <td>0</td>\n",
       "      <td>7</td>\n",
       "      <td>0</td>\n",
       "      <td>8</td>\n",
       "      <td>11</td>\n",
       "      <td>4</td>\n",
       "      <td>6</td>\n",
       "      <td>7</td>\n",
       "      <td>0</td>\n",
       "      <td>3</td>\n",
       "      <td>54</td>\n",
       "      <td>27.750000</td>\n",
       "    </tr>\n",
       "    <tr>\n",
       "      <th>...</th>\n",
       "      <td>...</td>\n",
       "      <td>...</td>\n",
       "      <td>...</td>\n",
       "      <td>...</td>\n",
       "      <td>...</td>\n",
       "      <td>...</td>\n",
       "      <td>...</td>\n",
       "      <td>...</td>\n",
       "      <td>...</td>\n",
       "      <td>...</td>\n",
       "      <td>...</td>\n",
       "      <td>...</td>\n",
       "      <td>...</td>\n",
       "      <td>...</td>\n",
       "      <td>...</td>\n",
       "    </tr>\n",
       "    <tr>\n",
       "      <th>11566</th>\n",
       "      <td>Patrick Beverley</td>\n",
       "      <td>2023-01-07</td>\n",
       "      <td>6</td>\n",
       "      <td>0</td>\n",
       "      <td>1</td>\n",
       "      <td>2</td>\n",
       "      <td>2</td>\n",
       "      <td>3</td>\n",
       "      <td>0</td>\n",
       "      <td>0</td>\n",
       "      <td>2</td>\n",
       "      <td>0</td>\n",
       "      <td>1</td>\n",
       "      <td>8</td>\n",
       "      <td>16.750000</td>\n",
       "    </tr>\n",
       "    <tr>\n",
       "      <th>11567</th>\n",
       "      <td>Patrick Beverley</td>\n",
       "      <td>2023-01-09</td>\n",
       "      <td>0</td>\n",
       "      <td>0</td>\n",
       "      <td>0</td>\n",
       "      <td>2</td>\n",
       "      <td>0</td>\n",
       "      <td>1</td>\n",
       "      <td>0</td>\n",
       "      <td>0</td>\n",
       "      <td>0</td>\n",
       "      <td>1</td>\n",
       "      <td>1</td>\n",
       "      <td>0</td>\n",
       "      <td>11.250000</td>\n",
       "    </tr>\n",
       "    <tr>\n",
       "      <th>11568</th>\n",
       "      <td>Patrick Beverley</td>\n",
       "      <td>2023-01-16</td>\n",
       "      <td>11</td>\n",
       "      <td>0</td>\n",
       "      <td>1</td>\n",
       "      <td>0</td>\n",
       "      <td>3</td>\n",
       "      <td>6</td>\n",
       "      <td>2</td>\n",
       "      <td>2</td>\n",
       "      <td>3</td>\n",
       "      <td>0</td>\n",
       "      <td>2</td>\n",
       "      <td>18</td>\n",
       "      <td>11.750000</td>\n",
       "    </tr>\n",
       "    <tr>\n",
       "      <th>11569</th>\n",
       "      <td>Patrick Beverley</td>\n",
       "      <td>2023-01-18</td>\n",
       "      <td>3</td>\n",
       "      <td>0</td>\n",
       "      <td>2</td>\n",
       "      <td>0</td>\n",
       "      <td>1</td>\n",
       "      <td>4</td>\n",
       "      <td>0</td>\n",
       "      <td>0</td>\n",
       "      <td>1</td>\n",
       "      <td>1</td>\n",
       "      <td>1</td>\n",
       "      <td>11</td>\n",
       "      <td>9.250000</td>\n",
       "    </tr>\n",
       "    <tr>\n",
       "      <th>11570</th>\n",
       "      <td>Patrick Beverley</td>\n",
       "      <td>2023-01-20</td>\n",
       "      <td>10</td>\n",
       "      <td>0</td>\n",
       "      <td>0</td>\n",
       "      <td>0</td>\n",
       "      <td>3</td>\n",
       "      <td>6</td>\n",
       "      <td>2</td>\n",
       "      <td>2</td>\n",
       "      <td>2</td>\n",
       "      <td>1</td>\n",
       "      <td>1</td>\n",
       "      <td>17</td>\n",
       "      <td>11.500000</td>\n",
       "    </tr>\n",
       "  </tbody>\n",
       "</table>\n",
       "<p>78 rows × 15 columns</p>\n",
       "</div>"
      ],
      "text/plain": [
       "                   name   game_day  pts  blk  ast  tov  fgm  fga  ftm  fta  \\\n",
       "8491      Kevin Huerter 2022-10-19   23    0    2    1    8   12    1    2   \n",
       "8492      Kevin Huerter 2022-10-22   18    0    5    1    5    9    3    4   \n",
       "8493      Kevin Huerter 2022-10-23    9    0    4    2    3   14    2    2   \n",
       "8494      Kevin Huerter 2022-10-27    7    0    2    0    3    8    0    0   \n",
       "8495      Kevin Huerter 2022-10-29   27    0    7    0    8   11    4    6   \n",
       "...                 ...        ...  ...  ...  ...  ...  ...  ...  ...  ...   \n",
       "11566  Patrick Beverley 2023-01-07    6    0    1    2    2    3    0    0   \n",
       "11567  Patrick Beverley 2023-01-09    0    0    0    2    0    1    0    0   \n",
       "11568  Patrick Beverley 2023-01-16   11    0    1    0    3    6    2    2   \n",
       "11569  Patrick Beverley 2023-01-18    3    0    2    0    1    4    0    0   \n",
       "11570  Patrick Beverley 2023-01-20   10    0    0    0    3    6    2    2   \n",
       "\n",
       "       pm3  stl  reb  Fantasy Points    Rolling  \n",
       "8491     6    1    3              41  41.000000  \n",
       "8492     5    0    3              34  37.500000  \n",
       "8493     1    0    5              11  28.666667  \n",
       "8494     1    0    2              12  24.500000  \n",
       "8495     7    0    3              54  27.750000  \n",
       "...    ...  ...  ...             ...        ...  \n",
       "11566    2    0    1               8  16.750000  \n",
       "11567    0    1    1               0  11.250000  \n",
       "11568    3    0    2              18  11.750000  \n",
       "11569    1    1    1              11   9.250000  \n",
       "11570    2    1    1              17  11.500000  \n",
       "\n",
       "[78 rows x 15 columns]"
      ]
     },
     "execution_count": 21,
     "metadata": {},
     "output_type": "execute_result"
    }
   ],
   "source": [
    "box_scores.loc[box_scores['name'].isin(['Kevin Huerter','Patrick Beverley'])]"
   ]
  },
  {
   "cell_type": "code",
   "execution_count": 22,
   "id": "587aed61",
   "metadata": {},
   "outputs": [],
   "source": [
    "don = box_scores.loc[box_scores['name'].isin(names[0:2])]\n",
    "\n",
    "fig = px.line(y=\"Rolling\", x=\"game_day\",color=\"name\",data_frame = don, markers=True,range_y=(0,100))\n",
    "fig.update_layout(title =\"Fantasy points during current season\", xaxis_title = \"Game Day\",\n",
    "                  title_x = 0.5,yaxis_title = \"4 game Rolling mean / Fantasy points\")\n",
    "\n",
    "fig2 = px.histogram(don, x= \"Fantasy Points\",color = \"name\",marginal = 'box',barmode='overlay',\n",
    "                    histnorm=\"probability\")\n",
    "\n",
    "fig3 = px.ecdf(don,x=\"Fantasy Points\",color=\"name\")\n",
    "app = JupyterDash(__name__)\n",
    "# colours = {'text': '#7FDBFF', 'background':'#333333','radio_button':'#BBBBBB'} \n",
    "# text_size = {'H1':48,'H2':40,'text':28,'radio_button':20}\n",
    "\n",
    "app.layout = html.Div(className=\"p-heading\",\n",
    "                      children=[html.H1(children=\"ESPN Fantasy Analysis\"),\n",
    "                                html.Div(children=[drpdwn('g1'), dcc.Graph(figure = fig, id = 'graph')]),\n",
    "                                html.Div(children=[dcc.Graph(figure = fig2, id = 'graph2')]),\n",
    "        html.Div(children=[dcc.Graph(figure = fig3, id = 'graph3')])\n",
    "])\n",
    "\n",
    "@app.callback(\n",
    "    Output('graph','figure'),\n",
    "    Output('graph2','figure'),\n",
    "    Output('graph3','figure'),\n",
    "    Input('g1','value'))\n",
    "def update_figure(selected):\n",
    "    d = box_scores.loc[box_scores['name'].isin(selected)]\n",
    "    \n",
    "    fig = px.line(y=\"Rolling\", x=\"game_day\",color=\"name\",data_frame = d, markers=True,range_y=(0,100))\n",
    "    \n",
    "    fig.update_layout(title =\"Fantasy points during current season\", xaxis_title = \"Game Day\",\n",
    "                  title_x = 0.5,yaxis_title = \"4 game Rolling mean / Fantasy points\")\n",
    "    \n",
    "    fig2 = px.histogram(d, x= \"Fantasy Points\",color = \"name\",marginal = 'box',barmode='overlay',\n",
    "                        histnorm=\"probability\")\n",
    "    \n",
    "    fig3 = px.ecdf(d,x=\"Fantasy Points\",color=\"name\")\n",
    "\n",
    "    \n",
    "    return fig,fig2,fig3"
   ]
  },
  {
   "cell_type": "code",
   "execution_count": 23,
   "id": "c792fd8f",
   "metadata": {},
   "outputs": [
    {
     "data": {
      "text/html": [
       "\n",
       "        <iframe\n",
       "            width=\"100%\"\n",
       "            height=\"650\"\n",
       "            src=\"http://127.0.0.1:8050/\"\n",
       "            frameborder=\"0\"\n",
       "            allowfullscreen\n",
       "            \n",
       "        ></iframe>\n",
       "        "
      ],
      "text/plain": [
       "<IPython.lib.display.IFrame at 0x7f51c2a160>"
      ]
     },
     "metadata": {},
     "output_type": "display_data"
    }
   ],
   "source": [
    "app.run_server(mode = \"inline\")"
   ]
  },
  {
   "cell_type": "code",
   "execution_count": 117,
   "id": "35bb0121",
   "metadata": {},
   "outputs": [],
   "source": [
    "import matplotlib.pyplot as plt"
   ]
  },
  {
   "cell_type": "code",
   "execution_count": 171,
   "id": "5f174bf5",
   "metadata": {},
   "outputs": [],
   "source": [
    "def plot_fp_distribution(fps,centres, labels):\n",
    "    fig = plt.figure(figsize=(15,2))\n",
    "    ax = fig.add_axes([0,1,1,1])\n",
    "\n",
    "    plt.vlines(x = fps, ymin = -0.01,ymax=0.01, colors='b',label='player averages')\n",
    "    plt.vlines(x = centres, ymin = -0.1,ymax=0.1, colors='r',linestyles='dashed',label='cluster centres')\n",
    "    plt.ylim((-0.05,0.05))\n",
    "    plt.xlim((0,max(fps)+1))\n",
    "    plt.xlabel(\"Average Fantasy Points\")\n",
    "    # plt.legend()\n",
    "    plt.xticks(range(-5,70,5))\n",
    "    mod = -1\n",
    "    for c,l in zip(centres,labels):\n",
    "        plt.annotate(l,(c,0.04*mod))\n",
    "        mod *= -1\n",
    "    \n",
    "    return"
   ]
  },
  {
   "cell_type": "code",
   "execution_count": 119,
   "id": "67bca324",
   "metadata": {},
   "outputs": [],
   "source": [
    "fps['Rating'] = model.labels_"
   ]
  },
  {
   "cell_type": "code",
   "execution_count": 120,
   "id": "3c093b66",
   "metadata": {},
   "outputs": [],
   "source": [
    "fps['Rating']  = [labs[i] for i in fps['Rating']]"
   ]
  },
  {
   "cell_type": "code",
   "execution_count": 123,
   "id": "c4d09520",
   "metadata": {},
   "outputs": [
    {
     "data": {
      "text/plain": [
       "array(['Average', 'Horrible', 'Avoid', 'Temporary', 'Good', 'Underrated',\n",
       "       'Great'], dtype=object)"
      ]
     },
     "execution_count": 123,
     "metadata": {},
     "output_type": "execute_result"
    }
   ],
   "source": [
    "fps['Rating'].unique()"
   ]
  },
  {
   "cell_type": "code",
   "execution_count": 166,
   "id": "435ce1b5",
   "metadata": {},
   "outputs": [
    {
     "data": {
      "text/plain": [
       "dict_values(['horrible', 'below average', 'average', 'good', 'very good', 'great', 'outstanding'])"
      ]
     },
     "execution_count": 166,
     "metadata": {},
     "output_type": "execute_result"
    }
   ],
   "source": [
    "labs.values()"
   ]
  },
  {
   "cell_type": "code",
   "execution_count": 172,
   "id": "b2e1cab8",
   "metadata": {},
   "outputs": [
    {
     "data": {
      "image/png": "[encoded data removed]",
      "text/plain": [
       "<Figure size 1080x144 with 1 Axes>"
      ]
     },
     "metadata": {
      "needs_background": "light"
     },
     "output_type": "display_data"
    }
   ],
   "source": [
    "centres = [i[0] for i in model.cluster_centers_]\n",
    "centres = sorted(centres)\n",
    "plot_fp_distribution(fps[\"Fantasy Points\"],centres,labs.values())"
   ]
  },
  {
   "cell_type": "code",
   "execution_count": null,
   "id": "818c5c27",
   "metadata": {},
   "outputs": [],
   "source": []
  }
 ],
 "metadata": {
  "kernelspec": {
   "display_name": "Python 3.9.2 64-bit",
   "language": "python",
   "name": "python3"
  },
  "language_info": {
   "codemirror_mode": {
    "name": "ipython",
    "version": 3
   },
   "file_extension": ".py",
   "mimetype": "text/x-python",
   "name": "python",
   "nbconvert_exporter": "python",
   "pygments_lexer": "ipython3",
   "version": "3.9.2"
  },
  "vscode": {
   "interpreter": {
    "hash": "767d51c1340bd893661ea55ea3124f6de3c7a262a8b4abca0554b478b1e2ff90"
   }
  }
 },
 "nbformat": 4,
 "nbformat_minor": 5
}
