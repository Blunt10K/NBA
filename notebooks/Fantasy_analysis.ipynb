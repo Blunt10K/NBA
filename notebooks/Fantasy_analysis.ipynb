{
 "cells": [
  {
   "cell_type": "markdown",
   "id": "797c1965",
   "metadata": {},
   "source": [
    "## The ESPN fantasy league assigns value to some recorded player statistics. The values include:\n",
    "\n",
    "- Points scored PTS = 1\n",
    "- Blocks BLK = 4\n",
    "- Assists AST = 2\n",
    "- Rebounds REB = 1\n",
    "- Field goals made FGM = 2\n",
    "- Free throws made FTM = 1\n",
    "- Three pointers made PM3 = 1\n",
    "- Steals STL = 4\n",
    "\n",
    "## Some values result in a penalty (negative scores):\n",
    "\n",
    "- Turnovers TOV = -2\n",
    "- Field goals attempted FGA = -1\n",
    "- Free throws attempted FTA = -1\n",
    "\n",
    "The f"
   ]
  },
  {
   "cell_type": "code",
   "execution_count": 1,
   "id": "0548c4f6",
   "metadata": {},
   "outputs": [],
   "source": [
    "stats = {\"PTS\":1,\"BLK\":4,\"AST\":2,\"REB\":1,\"TOV\":-2,\"FGM\":2,\"FGA\":-1,\"FTM\":1,\"FTA\":-1,\"PM3\":1,\"STL\":4}"
   ]
  },
  {
   "cell_type": "code",
   "execution_count": 2,
   "id": "b2f21e52",
   "metadata": {},
   "outputs": [
    {
     "data": {
      "text/plain": [
       "dict_values([1, 4, 2, 1, -2, 2, -1, 1, -1, 1, 4])"
      ]
     },
     "execution_count": 2,
     "metadata": {},
     "output_type": "execute_result"
    }
   ],
   "source": [
    "stats.values()"
   ]
  },
  {
   "cell_type": "markdown",
   "id": "24f12d87",
   "metadata": {},
   "source": [
    "### The "
   ]
  },
  {
   "cell_type": "code",
   "execution_count": 3,
   "id": "b4a841c9",
   "metadata": {},
   "outputs": [],
   "source": [
    "import numpy as np"
   ]
  },
  {
   "cell_type": "code",
   "execution_count": 4,
   "id": "7bd9614f",
   "metadata": {},
   "outputs": [],
   "source": [
    "scores = np.array(list(stats.values()))"
   ]
  },
  {
   "cell_type": "code",
   "execution_count": 5,
   "id": "1086739f",
   "metadata": {},
   "outputs": [
    {
     "data": {
      "text/plain": [
       "dtype('int32')"
      ]
     },
     "execution_count": 5,
     "metadata": {},
     "output_type": "execute_result"
    }
   ],
   "source": [
    "scores.dtype"
   ]
  },
  {
   "cell_type": "code",
   "execution_count": 6,
   "id": "1ac0f40e",
   "metadata": {},
   "outputs": [],
   "source": [
    "fs = \", \".join(list(stats.keys()))"
   ]
  },
  {
   "cell_type": "code",
   "execution_count": 7,
   "id": "bb66fa6c",
   "metadata": {},
   "outputs": [
    {
     "data": {
      "text/plain": [
       "'PTS, BLK, AST, REB, TOV, FGM, FGA, FTM, FTA, PM3, STL'"
      ]
     },
     "execution_count": 7,
     "metadata": {},
     "output_type": "execute_result"
    }
   ],
   "source": [
    "fs"
   ]
  },
  {
   "cell_type": "code",
   "execution_count": 8,
   "id": "81b7b8eb",
   "metadata": {},
   "outputs": [],
   "source": [
    "import sqlalchemy\n",
    "import pandas as pd\n",
    "from os import environ\n",
    "from time import localtime\n",
    "\n",
    "engine = sqlalchemy.create_engine(\"mariadb+mariadbconnector://\"+environ.get(\"USER\")+\\\n",
    "                                  \":\"+environ.get(\"PSWD\")+\"@127.0.0.1:3306/nba\")"
   ]
  },
  {
   "cell_type": "code",
   "execution_count": 9,
   "id": "17693fcd",
   "metadata": {},
   "outputs": [],
   "source": [
    "fields = \"Name, \" + fs + \", Game_day \"\n",
    "\n",
    "join =  \"Box_scores INNER JOIN Players on Box_scores.Player_ID = Players.ID \"\n",
    "\n",
    "players = ['Eric Bledsoe', 'Chris Boucher', 'P.J. Washington', 'Brandon Clarke','Patrick Beverley',\n",
    "          \"De'Anthony Melton\", 'Coby White', 'Onyeka Okongwu', 'Chris Duarte', 'Jordan Clarkson',\n",
    "           'Richaun Holmes']\n",
    "condition = \"where Name IN \" + str(tuple(players))\n",
    "\n",
    "# select = \"SELECT \"+ fields + \" FROM \" + join + condition + \"ORDER BY Game_day desc\"\n",
    "select = \"SELECT \"+ fields + \" FROM \" + join + \"ORDER BY Game_day desc\""
   ]
  },
  {
   "cell_type": "code",
   "execution_count": 10,
   "id": "ce89e0af",
   "metadata": {
    "scrolled": false
   },
   "outputs": [],
   "source": [
    "boxes = pd.read_sql(select,engine)"
   ]
  },
  {
   "cell_type": "code",
   "execution_count": 11,
   "id": "6cfb606e",
   "metadata": {},
   "outputs": [],
   "source": [
    "boxes[\"Game_day\"] = pd.to_datetime(boxes[\"Game_day\"])"
   ]
  },
  {
   "cell_type": "code",
   "execution_count": 12,
   "id": "fea7ebc9",
   "metadata": {},
   "outputs": [
    {
     "data": {
      "text/html": [
       "<div>\n",
       "<style scoped>\n",
       "    .dataframe tbody tr th:only-of-type {\n",
       "        vertical-align: middle;\n",
       "    }\n",
       "\n",
       "    .dataframe tbody tr th {\n",
       "        vertical-align: top;\n",
       "    }\n",
       "\n",
       "    .dataframe thead th {\n",
       "        text-align: right;\n",
       "    }\n",
       "</style>\n",
       "<table border=\"1\" class=\"dataframe\">\n",
       "  <thead>\n",
       "    <tr style=\"text-align: right;\">\n",
       "      <th></th>\n",
       "      <th>Name</th>\n",
       "      <th>PTS</th>\n",
       "      <th>BLK</th>\n",
       "      <th>AST</th>\n",
       "      <th>REB</th>\n",
       "      <th>TOV</th>\n",
       "      <th>FGM</th>\n",
       "      <th>FGA</th>\n",
       "      <th>FTM</th>\n",
       "      <th>FTA</th>\n",
       "      <th>PM3</th>\n",
       "      <th>STL</th>\n",
       "      <th>Game_day</th>\n",
       "    </tr>\n",
       "  </thead>\n",
       "  <tbody>\n",
       "    <tr>\n",
       "      <th>0</th>\n",
       "      <td>Udoka Azubuike</td>\n",
       "      <td>7</td>\n",
       "      <td>3</td>\n",
       "      <td>0</td>\n",
       "      <td>14</td>\n",
       "      <td>1</td>\n",
       "      <td>3</td>\n",
       "      <td>5</td>\n",
       "      <td>1</td>\n",
       "      <td>2</td>\n",
       "      <td>0</td>\n",
       "      <td>0</td>\n",
       "      <td>2022-02-07</td>\n",
       "    </tr>\n",
       "    <tr>\n",
       "      <th>1</th>\n",
       "      <td>Jordan Clarkson</td>\n",
       "      <td>16</td>\n",
       "      <td>0</td>\n",
       "      <td>2</td>\n",
       "      <td>2</td>\n",
       "      <td>1</td>\n",
       "      <td>6</td>\n",
       "      <td>12</td>\n",
       "      <td>1</td>\n",
       "      <td>1</td>\n",
       "      <td>3</td>\n",
       "      <td>0</td>\n",
       "      <td>2022-02-07</td>\n",
       "    </tr>\n",
       "    <tr>\n",
       "      <th>2</th>\n",
       "      <td>Nerlens Noel</td>\n",
       "      <td>0</td>\n",
       "      <td>0</td>\n",
       "      <td>0</td>\n",
       "      <td>3</td>\n",
       "      <td>1</td>\n",
       "      <td>0</td>\n",
       "      <td>1</td>\n",
       "      <td>0</td>\n",
       "      <td>2</td>\n",
       "      <td>0</td>\n",
       "      <td>1</td>\n",
       "      <td>2022-02-07</td>\n",
       "    </tr>\n",
       "    <tr>\n",
       "      <th>3</th>\n",
       "      <td>Mike Conley</td>\n",
       "      <td>18</td>\n",
       "      <td>1</td>\n",
       "      <td>7</td>\n",
       "      <td>3</td>\n",
       "      <td>1</td>\n",
       "      <td>5</td>\n",
       "      <td>17</td>\n",
       "      <td>6</td>\n",
       "      <td>6</td>\n",
       "      <td>2</td>\n",
       "      <td>0</td>\n",
       "      <td>2022-02-07</td>\n",
       "    </tr>\n",
       "    <tr>\n",
       "      <th>4</th>\n",
       "      <td>Jared Butler</td>\n",
       "      <td>0</td>\n",
       "      <td>0</td>\n",
       "      <td>0</td>\n",
       "      <td>0</td>\n",
       "      <td>1</td>\n",
       "      <td>0</td>\n",
       "      <td>0</td>\n",
       "      <td>0</td>\n",
       "      <td>0</td>\n",
       "      <td>0</td>\n",
       "      <td>0</td>\n",
       "      <td>2022-02-07</td>\n",
       "    </tr>\n",
       "    <tr>\n",
       "      <th>...</th>\n",
       "      <td>...</td>\n",
       "      <td>...</td>\n",
       "      <td>...</td>\n",
       "      <td>...</td>\n",
       "      <td>...</td>\n",
       "      <td>...</td>\n",
       "      <td>...</td>\n",
       "      <td>...</td>\n",
       "      <td>...</td>\n",
       "      <td>...</td>\n",
       "      <td>...</td>\n",
       "      <td>...</td>\n",
       "      <td>...</td>\n",
       "    </tr>\n",
       "    <tr>\n",
       "      <th>17273</th>\n",
       "      <td>Kevon Looney</td>\n",
       "      <td>7</td>\n",
       "      <td>1</td>\n",
       "      <td>1</td>\n",
       "      <td>4</td>\n",
       "      <td>1</td>\n",
       "      <td>3</td>\n",
       "      <td>5</td>\n",
       "      <td>1</td>\n",
       "      <td>2</td>\n",
       "      <td>0</td>\n",
       "      <td>1</td>\n",
       "      <td>2021-10-19</td>\n",
       "    </tr>\n",
       "    <tr>\n",
       "      <th>17274</th>\n",
       "      <td>Draymond Green</td>\n",
       "      <td>6</td>\n",
       "      <td>0</td>\n",
       "      <td>6</td>\n",
       "      <td>8</td>\n",
       "      <td>5</td>\n",
       "      <td>2</td>\n",
       "      <td>5</td>\n",
       "      <td>2</td>\n",
       "      <td>4</td>\n",
       "      <td>0</td>\n",
       "      <td>1</td>\n",
       "      <td>2021-10-19</td>\n",
       "    </tr>\n",
       "    <tr>\n",
       "      <th>17275</th>\n",
       "      <td>Carmelo Anthony</td>\n",
       "      <td>9</td>\n",
       "      <td>0</td>\n",
       "      <td>2</td>\n",
       "      <td>4</td>\n",
       "      <td>1</td>\n",
       "      <td>3</td>\n",
       "      <td>9</td>\n",
       "      <td>1</td>\n",
       "      <td>2</td>\n",
       "      <td>2</td>\n",
       "      <td>0</td>\n",
       "      <td>2021-10-19</td>\n",
       "    </tr>\n",
       "    <tr>\n",
       "      <th>17276</th>\n",
       "      <td>Kent Bazemore</td>\n",
       "      <td>8</td>\n",
       "      <td>1</td>\n",
       "      <td>0</td>\n",
       "      <td>2</td>\n",
       "      <td>1</td>\n",
       "      <td>3</td>\n",
       "      <td>9</td>\n",
       "      <td>0</td>\n",
       "      <td>0</td>\n",
       "      <td>2</td>\n",
       "      <td>0</td>\n",
       "      <td>2021-10-19</td>\n",
       "    </tr>\n",
       "    <tr>\n",
       "      <th>17277</th>\n",
       "      <td>LeBron James</td>\n",
       "      <td>34</td>\n",
       "      <td>1</td>\n",
       "      <td>5</td>\n",
       "      <td>11</td>\n",
       "      <td>4</td>\n",
       "      <td>13</td>\n",
       "      <td>23</td>\n",
       "      <td>3</td>\n",
       "      <td>6</td>\n",
       "      <td>5</td>\n",
       "      <td>1</td>\n",
       "      <td>2021-10-19</td>\n",
       "    </tr>\n",
       "  </tbody>\n",
       "</table>\n",
       "<p>17278 rows × 13 columns</p>\n",
       "</div>"
      ],
      "text/plain": [
       "                  Name  PTS  BLK  AST  REB  TOV  FGM  FGA  FTM  FTA  PM3  STL  \\\n",
       "0       Udoka Azubuike    7    3    0   14    1    3    5    1    2    0    0   \n",
       "1      Jordan Clarkson   16    0    2    2    1    6   12    1    1    3    0   \n",
       "2         Nerlens Noel    0    0    0    3    1    0    1    0    2    0    1   \n",
       "3          Mike Conley   18    1    7    3    1    5   17    6    6    2    0   \n",
       "4         Jared Butler    0    0    0    0    1    0    0    0    0    0    0   \n",
       "...                ...  ...  ...  ...  ...  ...  ...  ...  ...  ...  ...  ...   \n",
       "17273     Kevon Looney    7    1    1    4    1    3    5    1    2    0    1   \n",
       "17274   Draymond Green    6    0    6    8    5    2    5    2    4    0    1   \n",
       "17275  Carmelo Anthony    9    0    2    4    1    3    9    1    2    2    0   \n",
       "17276    Kent Bazemore    8    1    0    2    1    3    9    0    0    2    0   \n",
       "17277     LeBron James   34    1    5   11    4   13   23    3    6    5    1   \n",
       "\n",
       "        Game_day  \n",
       "0     2022-02-07  \n",
       "1     2022-02-07  \n",
       "2     2022-02-07  \n",
       "3     2022-02-07  \n",
       "4     2022-02-07  \n",
       "...          ...  \n",
       "17273 2021-10-19  \n",
       "17274 2021-10-19  \n",
       "17275 2021-10-19  \n",
       "17276 2021-10-19  \n",
       "17277 2021-10-19  \n",
       "\n",
       "[17278 rows x 13 columns]"
      ]
     },
     "execution_count": 12,
     "metadata": {},
     "output_type": "execute_result"
    }
   ],
   "source": [
    "boxes"
   ]
  },
  {
   "cell_type": "code",
   "execution_count": 13,
   "id": "880befb3",
   "metadata": {
    "scrolled": true
   },
   "outputs": [],
   "source": [
    "def calc_fantasy_points(scores, boxes):\n",
    "    return scores @ boxes"
   ]
  },
  {
   "cell_type": "code",
   "execution_count": 14,
   "id": "fd1f9812",
   "metadata": {},
   "outputs": [],
   "source": [
    "a = np.array(boxes.values[:,1:-1],dtype = np.int64)"
   ]
  },
  {
   "cell_type": "code",
   "execution_count": 16,
   "id": "a0cd5d09",
   "metadata": {},
   "outputs": [],
   "source": [
    "fantasy_points = calc_fantasy_points(scores, a.T)"
   ]
  },
  {
   "cell_type": "code",
   "execution_count": 17,
   "id": "7060b04f",
   "metadata": {},
   "outputs": [],
   "source": [
    "boxes[\"Fantasy Points\"] = fantasy_points"
   ]
  },
  {
   "cell_type": "code",
   "execution_count": 18,
   "id": "aaad08e8",
   "metadata": {},
   "outputs": [],
   "source": [
    "names = boxes[\"Name\"].unique()"
   ]
  },
  {
   "cell_type": "code",
   "execution_count": 19,
   "id": "d4526088",
   "metadata": {},
   "outputs": [],
   "source": [
    "rolls= boxes.sort_values([\"Game_day\"], ascending=[True]).groupby(\"Name\").rolling(5,min_periods =1).mean()\n",
    "# .rolling(5,min_periods =5).mean()\n",
    "# df.dtypes"
   ]
  },
  {
   "cell_type": "code",
   "execution_count": 20,
   "id": "94f35612",
   "metadata": {},
   "outputs": [],
   "source": [
    "boxes[\"Rolling\"] = 1"
   ]
  },
  {
   "cell_type": "code",
   "execution_count": null,
   "id": "fce18e89",
   "metadata": {},
   "outputs": [],
   "source": []
  },
  {
   "cell_type": "code",
   "execution_count": 21,
   "id": "84cf80eb",
   "metadata": {},
   "outputs": [],
   "source": [
    "for i,j in rolls.index:\n",
    "    boxes.loc[j,\"Rolling\"] = rolls.loc[i,j][\"Fantasy Points\"]"
   ]
  },
  {
   "cell_type": "code",
   "execution_count": 22,
   "id": "ca071b4e",
   "metadata": {},
   "outputs": [
    {
     "name": "stderr",
     "output_type": "stream",
     "text": [
      "/usr/lib/python3/dist-packages/requests/__init__.py:91: RequestsDependencyWarning: urllib3 (1.26.7) or chardet (3.0.4) doesn't match a supported version!\n",
      "  RequestsDependencyWarning)\n"
     ]
    }
   ],
   "source": [
    "from jupyter_dash import JupyterDash\n",
    "from dash import html\n",
    "from dash.dependencies import Input, Output\n",
    "import plotly.express as px\n",
    "from dash import dcc"
   ]
  },
  {
   "cell_type": "code",
   "execution_count": 23,
   "id": "5e0f3310",
   "metadata": {},
   "outputs": [],
   "source": [
    "def options(names):\n",
    "    options = []\n",
    "    for i in names:\n",
    "        d = {}\n",
    "        d[\"label\"] = i\n",
    "        d[\"value\"] = i\n",
    "        options.append(d)\n",
    "        \n",
    "    return options"
   ]
  },
  {
   "cell_type": "code",
   "execution_count": 24,
   "id": "3ba1b9cf",
   "metadata": {},
   "outputs": [],
   "source": [
    "def drpdwn():\n",
    "    names = list(boxes[\"Name\"].unique())\n",
    "    opts = options(names)\n",
    "    d = dcc.Dropdown(options = opts, value = names[0:2],id = 'dp',multi = True)\n",
    "    \n",
    "    return d"
   ]
  },
  {
   "cell_type": "code",
   "execution_count": 35,
   "id": "587aed61",
   "metadata": {},
   "outputs": [],
   "source": [
    "fig = px.line(y=\"Rolling\", x=\"Game_day\",color=\"Name\",data_frame = boxes, markers=True,range_y=(0,100))\n",
    "fig.update_layout(title =\"Fantasy points over time\",\n",
    "                  title_x = 0.5,yaxis_title = \"5 game Rolling mean / Fantasy points\")\n",
    "\n",
    "\n",
    "app = JupyterDash(__name__)\n",
    "colours = {'text': '#7FDBFF', 'background':'#333333','radio_button':'#BBBBBB'} \n",
    "text_size = {'H1':48,'H2':40,'text':28,'radio_button':20}\n",
    "\n",
    "app.layout = html.Div(style={'backgroundColor':colours['background'],'fontFamily':'Arial'}, children=[\n",
    "    html.H1(children=\"ESPN Fantasy anlysis\",\n",
    "        style = {'textAlign': 'center',\n",
    "                 'color':colours['text'],\n",
    "                 'fontSize':text_size['H1']}),\n",
    "    \n",
    "#     year_slider(),\n",
    "    \n",
    "    \n",
    "    \n",
    "    html.Div(children=[drpdwn(), dcc.Graph(figure = fig, id = 'graph')])\n",
    "\n",
    "\n",
    "\n",
    "])\n",
    "\n",
    "@app.callback(\n",
    "    Output('graph','figure'),\n",
    "    Input('dp','value'))\n",
    "def update_figure(selected):\n",
    "    d = boxes.loc[boxes['Name'].isin(selected)]\n",
    "    \n",
    "#     _ , percentages = get_highs_and_percentages(d, stats,len(d))\n",
    "    fig = px.line(y=\"Rolling\", x=\"Game_day\",color=\"Name\",data_frame = d, markers=True,range_y=(0,100))\n",
    "    \n",
    "#     fig.update_layout(title =\"Fantasy points over time\",\n",
    "#                   title_x = 0.5)\n",
    "    return fig"
   ]
  },
  {
   "cell_type": "code",
   "execution_count": 36,
   "id": "1ffa6460",
   "metadata": {},
   "outputs": [
    {
     "name": "stderr",
     "output_type": "stream",
     "text": [
      "/home/blunt/.local/lib/python3.7/site-packages/jupyter_dash/jupyter_app.py:139: UserWarning:\n",
      "\n",
      "The 'environ['werkzeug.server.shutdown']' function is deprecated and will be removed in Werkzeug 2.1.\n",
      "\n"
     ]
    },
    {
     "name": "stdout",
     "output_type": "stream",
     "text": [
      "Dash app running on http://127.0.0.1:8050/\n"
     ]
    }
   ],
   "source": [
    "app.run_server(mode = \"external\")"
   ]
  },
  {
   "cell_type": "code",
   "execution_count": null,
   "id": "9cabc3a7",
   "metadata": {},
   "outputs": [],
   "source": []
  }
 ],
 "metadata": {
  "kernelspec": {
   "display_name": "Python 3",
   "language": "python",
   "name": "python3"
  },
  "language_info": {
   "codemirror_mode": {
    "name": "ipython",
    "version": 3
   },
   "file_extension": ".py",
   "mimetype": "text/x-python",
   "name": "python",
   "nbconvert_exporter": "python",
   "pygments_lexer": "ipython3",
   "version": "3.7.3"
  }
 },
 "nbformat": 4,
 "nbformat_minor": 5
}
