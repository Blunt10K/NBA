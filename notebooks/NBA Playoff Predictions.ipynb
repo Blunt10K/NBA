{
 "cells": [
  {
   "cell_type": "markdown",
   "id": "1549a9be",
   "metadata": {},
   "source": [
    "The NBA playoffs are coming soon and the brckets are almost completely set. This notebook aims to make predictions for these playoffs.\n",
    "\n",
    "This project delivers value by:\n",
    "- revealing indicators of success that tend to appear in the NBA\n",
    "- providing data to identify strategies that need to be adjusted"
   ]
  },
  {
   "cell_type": "code",
   "execution_count": 1,
   "id": "3ec91456",
   "metadata": {},
   "outputs": [],
   "source": [
    "import sqlalchemy\n",
    "from os import environ\n",
    "\n",
    "import numpy as np\n",
    "import pandas as pd"
   ]
  },
  {
   "cell_type": "markdown",
   "id": "a5d09e7f",
   "metadata": {},
   "source": [
    "The data used in this projects are the traditional team box scores during the regular and postseasons from the 1989-90 to 2020-21. These box scores represent the team's sum (in the case of percentages, the total percentages) of each statistic in a game.\n",
    "\n",
    "Data was sourced from the NBA's official website: https://www.nba.com/stats/teams/boxscores/\n",
    "\n",
    "The data is stored locally in a MySQL database and is imported as follows:"
   ]
  },
  {
   "cell_type": "code",
   "execution_count": 63,
   "id": "c617d00b",
   "metadata": {},
   "outputs": [],
   "source": [
    "engine = sqlalchemy.create_engine(\"mariadb+mariadbconnector://\"+environ.get(\"USER\")+\\\n",
    "                                  \":\"+environ.get(\"PSWD\")+\"@127.0.0.1:3306/nba\")"
   ]
  },
  {
   "cell_type": "code",
   "execution_count": 93,
   "id": "f35ba673",
   "metadata": {},
   "outputs": [],
   "source": [
    "command = \"SELECT Teams.Name AS Team, Team_box_scores.* FROM Team_box_scores\"+\\\n",
    "\" INNER JOIN Teams ON Team_box_scores.Team_ID = Teams.ID \"\n",
    "\n",
    "df = pd.read_sql(command,engine)"
   ]
  },
  {
   "cell_type": "code",
   "execution_count": 94,
   "id": "0bbfdba1",
   "metadata": {},
   "outputs": [],
   "source": [
    "drop_columns = ['Team_ID']\n",
    "df.drop(columns=drop_columns,inplace = True)"
   ]
  },
  {
   "cell_type": "markdown",
   "id": "5ea436fe",
   "metadata": {},
   "source": [
    "Season_type will be used to differentiate regular season from playoffs. Variable gdf.index is a tuple of size 3 of the format: (Team, season_type, year)"
   ]
  },
  {
   "cell_type": "code",
   "execution_count": 95,
   "id": "0e3da576",
   "metadata": {},
   "outputs": [],
   "source": [
    "df[\"Season_type\"] = df[\"Game_ID\"].str.slice(0,3) # first three digits represent the season type\n",
    "df[\"Year\"] = df[\"Game_ID\"].str.slice(3,5) # 4th and 5th digit represent year the season started\n",
    "df['Playoffs'] = True"
   ]
  },
  {
   "cell_type": "code",
   "execution_count": 96,
   "id": "a578eedc",
   "metadata": {},
   "outputs": [],
   "source": [
    "gdf = df.groupby(['Team','Season_type','Year']).count()"
   ]
  },
  {
   "cell_type": "markdown",
   "id": "ffeb954d",
   "metadata": {},
   "source": [
    "Change Playoffs variable to 0 if there is no playoff data for that team that year."
   ]
  },
  {
   "cell_type": "code",
   "execution_count": 97,
   "id": "8f101a5e",
   "metadata": {},
   "outputs": [],
   "source": [
    "for t,s,y in gdf.index:\n",
    "    if(s=='004'):\n",
    "        l = gdf.loc[t].loc[s].index\n",
    "        df.loc[df['Team']==t,\"Playoffs\"] = df.loc[df['Team']==t,\"Playoffs\"].where(df[\"Year\"].isin(l),False)"
   ]
  },
  {
   "cell_type": "markdown",
   "id": "77690ecf",
   "metadata": {},
   "source": [
    "Now that the playoff status has been established, the temporary variables can be removed"
   ]
  },
  {
   "cell_type": "code",
   "execution_count": 98,
   "id": "9fde95f7",
   "metadata": {},
   "outputs": [],
   "source": [
    "df.loc[:,:] = df.loc[df['Season_type']=='002']\n",
    "drop_cols = ['Season_type','Year']\n",
    "df.drop(columns = drop_cols,inplace=True)"
   ]
  },
  {
   "cell_type": "markdown",
   "id": "4c991b91",
   "metadata": {},
   "source": [
    "# Basic exploration"
   ]
  },
  {
   "cell_type": "markdown",
   "id": "11feff9c",
   "metadata": {},
   "source": [
    "The data is clean with only 3 null values for the variable P3P (3P%) which means that there were three games over the last 33 years in which a team did not attempt 3 point shots. These null values for P3P can be replaced with a 0 because in this case, it is semantically the same thing."
   ]
  },
  {
   "cell_type": "code",
   "execution_count": 100,
   "id": "3f50bec4",
   "metadata": {},
   "outputs": [
    {
     "name": "stdout",
     "output_type": "stream",
     "text": [
      "<class 'pandas.core.frame.DataFrame'>\n",
      "RangeIndex: 79504 entries, 0 to 79503\n",
      "Data columns (total 25 columns):\n",
      " #   Column    Non-Null Count  Dtype  \n",
      "---  ------    --------------  -----  \n",
      " 0   Team      74454 non-null  object \n",
      " 1   Game_ID   74454 non-null  object \n",
      " 2   Matchup   74454 non-null  object \n",
      " 3   Game_day  74454 non-null  object \n",
      " 4   Result    74454 non-null  object \n",
      " 5   MINS      74454 non-null  float64\n",
      " 6   PTS       74454 non-null  float64\n",
      " 7   FGM       74454 non-null  float64\n",
      " 8   FGA       74454 non-null  float64\n",
      " 9   FGP       74454 non-null  float64\n",
      " 10  PM3       74454 non-null  float64\n",
      " 11  PA3       74454 non-null  float64\n",
      " 12  P3P       74351 non-null  float64\n",
      " 13  FTM       74454 non-null  float64\n",
      " 14  FTA       74454 non-null  float64\n",
      " 15  FTP       74454 non-null  float64\n",
      " 16  OREB      74454 non-null  float64\n",
      " 17  DREB      74454 non-null  float64\n",
      " 18  REB       74454 non-null  float64\n",
      " 19  AST       74454 non-null  float64\n",
      " 20  TOV       74454 non-null  float64\n",
      " 21  STL       74454 non-null  float64\n",
      " 22  BLK       74454 non-null  float64\n",
      " 23  PF        74454 non-null  float64\n",
      " 24  Playoffs  74454 non-null  object \n",
      "dtypes: float64(19), object(6)\n",
      "memory usage: 13.3+ MB\n"
     ]
    }
   ],
   "source": [
    "df.info()"
   ]
  },
  {
   "cell_type": "code",
   "execution_count": 101,
   "id": "0410f272",
   "metadata": {},
   "outputs": [],
   "source": [
    "df.fillna(value={'P3P':0},inplace=True)"
   ]
  },
  {
   "cell_type": "code",
   "execution_count": null,
   "id": "75ce0836",
   "metadata": {},
   "outputs": [],
   "source": []
  },
  {
   "cell_type": "markdown",
   "id": "d9f61520",
   "metadata": {},
   "source": [
    "Below is the histogram for each numeric variable"
   ]
  },
  {
   "cell_type": "code",
   "execution_count": 102,
   "id": "d46f9a9f",
   "metadata": {},
   "outputs": [
    {
     "data": {
      "image/png": "[encoded data removed]",
      "text/plain": [
       "<Figure size 2160x1080 with 20 Axes>"
      ]
     },
     "metadata": {
      "needs_background": "light"
     },
     "output_type": "display_data"
    }
   ],
   "source": [
    "import matplotlib.pyplot as plt\n",
    "df.hist(bins = 100,figsize=(30,15))\n",
    "plt.show()"
   ]
  },
  {
   "cell_type": "markdown",
   "id": "21883d2d",
   "metadata": {},
   "source": [
    "With the exception of the Minutes played, all other numeric statistics are roughly normally distributed. This pattern is typical throughout basketball (from team performance to individual performance) and it is this property that that will be useful for a number of machine learning methods.\n",
    "\n",
    "Minutes played will not follow a normal distribution because most games typically end in regulation and increasingly less every subsequent overtime period. It may be difficult to use minutes played as a predictor to make the playoffs."
   ]
  },
  {
   "cell_type": "code",
   "execution_count": null,
   "id": "6a18aa43",
   "metadata": {},
   "outputs": [],
   "source": []
  },
  {
   "cell_type": "markdown",
   "id": "1e7164c1",
   "metadata": {},
   "source": [
    "# Test set allocation\n",
    "Best practice dictates that a test set must now be created and unseen the until models can be tested.\n",
    "\n",
    "Since there are a large number of records $\\approx$ 75K, the data can be randomly sampled. The test size will be 20% of the data. This will be used to evaluate the final model. For reprducability, the random seed will be 10.\n",
    "\n",
    "Model selection will be done using cross-validation."
   ]
  },
  {
   "cell_type": "code",
   "execution_count": 103,
   "id": "44ad04ca",
   "metadata": {},
   "outputs": [],
   "source": [
    "from sklearn.model_selection import train_test_split\n",
    "SEED = 10\n",
    "test_size = .2"
   ]
  },
  {
   "cell_type": "code",
   "execution_count": 104,
   "id": "f8c31360",
   "metadata": {},
   "outputs": [],
   "source": [
    "features = ['Result', 'MINS', 'PTS', 'FGM', 'FGA', 'FGP', 'PM3', 'PA3', 'P3P','FTM','FTA',\n",
    "              'FTP', 'OREB', 'DREB', 'REB', 'AST', 'TOV', 'STL', 'BLK','PF']\n",
    "dependent = ['Playoffs']\n",
    "X = df[features]\n",
    "Y = df[dependent]"
   ]
  },
  {
   "cell_type": "code",
   "execution_count": 105,
   "id": "d731a590",
   "metadata": {},
   "outputs": [],
   "source": [
    "x_train,x_test,y_train,y_test = train_test_split(X,Y,random_state=SEED,test_size=test_size)"
   ]
  },
  {
   "cell_type": "code",
   "execution_count": null,
   "id": "cd5dd59e",
   "metadata": {},
   "outputs": [],
   "source": []
  },
  {
   "cell_type": "markdown",
   "id": "d782be3c",
   "metadata": {},
   "source": [
    "# Exploratory analysis"
   ]
  },
  {
   "cell_type": "code",
   "execution_count": null,
   "id": "fd957985",
   "metadata": {},
   "outputs": [],
   "source": []
  },
  {
   "cell_type": "code",
   "execution_count": 106,
   "id": "0dfb7cbb",
   "metadata": {},
   "outputs": [],
   "source": [
    "explore = pd.concat((x_train,y_train),axis=1)"
   ]
  },
  {
   "cell_type": "code",
   "execution_count": 108,
   "id": "5c87367f",
   "metadata": {},
   "outputs": [],
   "source": [
    "corr_matrix = explore.corr()"
   ]
  },
  {
   "cell_type": "code",
   "execution_count": 116,
   "id": "1b5c9944",
   "metadata": {},
   "outputs": [
    {
     "data": {
      "text/plain": [
       "TOV    -0.116918\n",
       "OREB   -0.000084\n",
       "BLK     0.064174\n",
       "PF      0.099441\n",
       "STL     0.123665\n",
       "REB     0.175749\n",
       "FTP     0.189382\n",
       "MINS    0.190658\n",
       "DREB    0.212258\n",
       "PA3     0.256843\n",
       "FTA     0.268280\n",
       "FTM     0.324411\n",
       "P3P     0.329814\n",
       "FGA     0.399283\n",
       "PM3     0.416653\n",
       "AST     0.589306\n",
       "FGP     0.677125\n",
       "FGM     0.847338\n",
       "PTS     1.000000\n",
       "Name: PTS, dtype: float64"
      ]
     },
     "execution_count": 116,
     "metadata": {},
     "output_type": "execute_result"
    }
   ],
   "source": [
    "corr_matrix['PTS'].sort_values()"
   ]
  },
  {
   "cell_type": "markdown",
   "id": "dba09385",
   "metadata": {},
   "source": [
    "Since teams are ranked within their conference, it could be useful to include the conference a team competes in."
   ]
  },
  {
   "cell_type": "code",
   "execution_count": 18,
   "id": "fbd65a46",
   "metadata": {},
   "outputs": [],
   "source": [
    "conferences = {'West':['NOP','UTA', 'MEM','PHX', 'POR', 'SAC', 'SAS', 'OKC','DAL', 'DEN', 'GSW', 'HOU','LAC', 'LAL','MIN'],\n",
    "               'East':[]}"
   ]
  },
  {
   "cell_type": "code",
   "execution_count": 19,
   "id": "d4cd012d",
   "metadata": {},
   "outputs": [],
   "source": [
    "conferences['East'] = [i for i in df['Team'].unique() if i not in conferences['West']]"
   ]
  },
  {
   "cell_type": "code",
   "execution_count": 20,
   "id": "16549410",
   "metadata": {},
   "outputs": [
    {
     "data": {
      "text/plain": [
       "{'West': ['NOP',\n",
       "  'UTA',\n",
       "  'MEM',\n",
       "  'PHX',\n",
       "  'POR',\n",
       "  'SAC',\n",
       "  'SAS',\n",
       "  'OKC',\n",
       "  'DAL',\n",
       "  'DEN',\n",
       "  'GSW',\n",
       "  'HOU',\n",
       "  'LAC',\n",
       "  'LAL',\n",
       "  'MIN'],\n",
       " 'East': ['ATL',\n",
       "  'BOS',\n",
       "  'CLE',\n",
       "  'CHI',\n",
       "  'MIA',\n",
       "  'MIL',\n",
       "  'BKN',\n",
       "  'NYK',\n",
       "  'ORL',\n",
       "  'IND',\n",
       "  'PHI',\n",
       "  'TOR',\n",
       "  'WAS',\n",
       "  'DET',\n",
       "  'CHA']}"
      ]
     },
     "execution_count": 20,
     "metadata": {},
     "output_type": "execute_result"
    }
   ],
   "source": [
    "conferences"
   ]
  },
  {
   "cell_type": "code",
   "execution_count": null,
   "id": "e922c2e8",
   "metadata": {},
   "outputs": [],
   "source": []
  }
 ],
 "metadata": {
  "kernelspec": {
   "display_name": "Python 3",
   "language": "python",
   "name": "python3"
  },
  "language_info": {
   "codemirror_mode": {
    "name": "ipython",
    "version": 3
   },
   "file_extension": ".py",
   "mimetype": "text/x-python",
   "name": "python",
   "nbconvert_exporter": "python",
   "pygments_lexer": "ipython3",
   "version": "3.7.3"
  }
 },
 "nbformat": 4,
 "nbformat_minor": 5
}
