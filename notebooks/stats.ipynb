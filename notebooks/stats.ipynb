{
 "cells": [
  {
   "cell_type": "code",
   "execution_count": 2,
   "id": "6425f117",
   "metadata": {},
   "outputs": [],
   "source": [
    "import pandas as pd\n",
    "from time import strftime,localtime\n",
    "from sqlalchemy import create_engine\n",
    "from os import environ"
   ]
  },
  {
   "cell_type": "code",
   "execution_count": 3,
   "id": "aaa05ea6",
   "metadata": {},
   "outputs": [],
   "source": [
    "from sys import path"
   ]
  },
  {
   "cell_type": "code",
   "execution_count": 4,
   "id": "8e23c7cb",
   "metadata": {},
   "outputs": [],
   "source": [
    "path.insert(0,'./code/')"
   ]
  },
  {
   "cell_type": "code",
   "execution_count": 5,
   "id": "63e26bc5",
   "metadata": {},
   "outputs": [],
   "source": [
    "from web_scraper import *"
   ]
  },
  {
   "cell_type": "code",
   "execution_count": 6,
   "id": "ec0a3f5d",
   "metadata": {},
   "outputs": [],
   "source": [
    "from selenium import webdriver"
   ]
  },
  {
   "cell_type": "code",
   "execution_count": 6,
   "id": "c2631d2e",
   "metadata": {},
   "outputs": [],
   "source": [
    "def add_new_players(engine, names, ids):\n",
    "    condition = str(tuple(ids))\n",
    "    existing_players = pd.read_sql(\"select * from Players where ID IN \"+condition,engine)\n",
    "        \n",
    "    c = pd.DataFrame({\"ID\":ids,\"Name\":names}).drop_duplicates()\n",
    "    e = c.merge(existing_players,on=\"ID\",how='left',indicator=True,suffixes = ('','_y'))\n",
    "    e = e.loc[e[\"_merge\"]== \"left_only\"][[\"ID\",\"Name\"]]\n",
    "        \n",
    "    e.to_sql(\"Players\",engine,index=False, if_exists=\"append\")\n",
    "    \n",
    "    return"
   ]
  },
  {
   "cell_type": "code",
   "execution_count": 7,
   "id": "70fc9411",
   "metadata": {},
   "outputs": [],
   "source": [
    "from selenium.webdriver.support.select import Select\n",
    "from selenium.webdriver.common.by import By\n",
    "from selenium.webdriver.support.ui import WebDriverWait\n",
    "from selenium.webdriver.support import expected_conditions as EC\n",
    "\n",
    "from re import search\n",
    "\n",
    "from bs4 import BeautifulSoup\n",
    "\n",
    "import pandas as pd"
   ]
  },
  {
   "cell_type": "code",
   "execution_count": 23,
   "id": "063e9264",
   "metadata": {},
   "outputs": [],
   "source": [
    "class Team_Box:\n",
    "    def __init__(self):\n",
    "        self.boxes = Team_box_scores()        \n",
    "        self.table = \"Team_box_scores\"\n",
    "        self.scores =[]\n",
    "#         self.page_count = pd.read_csv(\"../box_score.csv\")\n",
    "        self.engine = create_engine(\"mariadb+mariadbconnector://\"\\\n",
    "                                  +environ.get(\"USER\")+\":\"\\\n",
    "                                  +environ.get(\"PSWD\")+\"@127.0.0.1:3306/nba\")\n",
    "        \n",
    "        self.db_columns = ['Team_ID', 'Game_ID', 'Matchup', 'Game_day', 'Result',\n",
    "                        'MINS', 'PTS', 'FGM', 'FGA', 'FGP', 'PM3', 'PA3', 'P3P', 'FTM', 'FTA',\n",
    "                        'FTP', 'OREB', 'DREB', 'REB', 'AST', 'STL', 'BLK', 'TOV',  'PF']\n",
    "\n",
    "        \n",
    "    def add_new_box_scores(self,df):\n",
    "        existing = pd.read_sql(\"select * from \"+self.table,self.engine)\n",
    "\n",
    "        e = df.merge(existing,on=[\"Team_ID\",\"Game_ID\"],how='left',indicator=True,suffixes = ('','_y'))\n",
    "        e = e.loc[e[\"_merge\"]== \"left_only\"][df.columns]\n",
    "\n",
    "        e.to_sql(self.table,self.engine,index=False, if_exists=\"append\")\n",
    "\n",
    "        return\n",
    "\n",
    "    def write(self,df,tids,gids):\n",
    "        df.insert(0, \"Team_ID\",tids)\n",
    "        df.insert(1, \"Game_ID\",gids)\n",
    "        \n",
    "                \n",
    "        df = df[self.db_columns]\n",
    "        df = df.drop_duplicates()\n",
    "        df = df.dropna(subset = ['Result'])\n",
    "        self.add_new_box_scores(df)\n",
    "        \n",
    "        return\n",
    "    \n",
    "    def preprocess(self,html):\n",
    "        df = pd.read_html(html,na_values=['-'])[0]\n",
    "        df = df.drop(columns = ['Season','+/-'])\n",
    "        \n",
    "        df = df[df.columns[1:]]\n",
    "        \n",
    "        d = dict(zip(df.columns,self.db_columns[2:]))\n",
    "        df = df.rename(columns=d)\n",
    "        df['Game_day'] = pd.to_datetime(df['Game_day'])\n",
    "        \n",
    "        return df\n",
    "\n",
    "        \n",
    "    \n",
    "    def get_last_year(self,year):\n",
    "        if(year > 2000):\n",
    "            return year % 2000\n",
    "        return year % 100\n",
    "        \n",
    "    def get_season(self, driver, year, reg_season=True):\n",
    "        \n",
    "        url = self.boxes.build_url(year,reg_season)\n",
    "        \n",
    "        for html in self.boxes.iter_all(url, driver):\n",
    "            tids, gids = self.boxes.get_player_and_team_ids(html)\n",
    "            df = self.preprocess(html)\n",
    "            if self.max_date['GD'].max() > df['Game_day'].max():\n",
    "                break\n",
    "                \n",
    "            self.write(df,tids,gids)\n",
    "        \n",
    "        return\n",
    "        \n",
    "       \n",
    "    def get_team_stats(self,year,reg_season = True):\n",
    "        with webdriver.Chrome() as driver:\n",
    "            year_range = str(year-1) + \"-{:0>2d}\".format(self.get_last_year(year))\n",
    "\n",
    "            self.get_season(driver,year_range,reg_season)\n",
    "\n",
    "        return"
   ]
  },
  {
   "cell_type": "code",
   "execution_count": 24,
   "id": "cfbf1bc5",
   "metadata": {},
   "outputs": [],
   "source": [
    "t = Team_Box()"
   ]
  },
  {
   "cell_type": "code",
   "execution_count": 25,
   "id": "4af82639",
   "metadata": {},
   "outputs": [],
   "source": [
    "# t.get_team_stats(2013,True)"
   ]
  },
  {
   "cell_type": "code",
   "execution_count": 16,
   "id": "3e78fad3",
   "metadata": {
    "scrolled": true
   },
   "outputs": [],
   "source": [
    "# for i in range(2014,2022):\n",
    "#     for j in (True,False):\n",
    "#         print(i,j)\n",
    "#         t.get_team_stats(i,j)"
   ]
  },
  {
   "cell_type": "code",
   "execution_count": 12,
   "id": "1c7ed725",
   "metadata": {},
   "outputs": [],
   "source": [
    "class Box:\n",
    "    def __init__(self):\n",
    "        self.boxes = Box_scores()        \n",
    "        self.table = \"Box_scores\"\n",
    "        self.scores =[]\n",
    "        command = 'SELECT MAX(Game_day) as GD from Box_scores'\n",
    "\n",
    "        self.engine = create_engine(\"mariadb+mariadbconnector://\"\\\n",
    "                                  +environ.get(\"USER\")+\":\"\\\n",
    "                                  +environ.get(\"PSWD\")+\"@127.0.0.1:3306/nba\")\n",
    "\n",
    "        self.max_date = pd.read_sql(command,self.engine,parse_dates=['GD'])\n",
    "        \n",
    "        self.db_columns = ['Player_ID', 'Team_ID', 'Game_ID', 'Matchup', 'Game_day', 'Result',\n",
    "                        'MINS', 'PTS', 'FGM', 'FGA', 'FGP', 'PM3', 'PA3', 'P3P', 'FTM', 'FTA',\n",
    "                        'FTP', 'OREB', 'DREB', 'REB', 'AST', 'STL', 'BLK', 'TOV',  'PF']\n",
    "\n",
    "    def add_new_players(self, names, ids):\n",
    "        condition = str(tuple(ids))\n",
    "        existing_players = pd.read_sql(\"select * from Players where ID IN \"+condition,self.engine)\n",
    "            \n",
    "        c = pd.DataFrame({\"ID\":ids,\"Name\":names}).drop_duplicates()\n",
    "        e = c.merge(existing_players,on=\"ID\",how='left',indicator=True,suffixes = ('','_y'))\n",
    "        e = e.loc[e[\"_merge\"]== \"left_only\"][[\"ID\",\"Name\"]]\n",
    "            \n",
    "        e.to_sql(\"Players\",self.engine,index=False, if_exists=\"append\")\n",
    "        \n",
    "        return\n",
    "\n",
    "    def add_new_box_scores(self,df):\n",
    "        existing = pd.read_sql(\"select * from Box_scores\",self.engine)\n",
    "        \n",
    "        e = df.merge(existing,on=[\"Player_ID\",\"Team_ID\",\"Game_ID\"],how='left',indicator=True,suffixes = ('','_y'))\n",
    "        e = e.loc[e[\"_merge\"]== \"left_only\"][df.columns]\n",
    "        \n",
    "        e.to_sql(\"Box_scores\",self.engine,index=False, if_exists=\"append\")\n",
    "        \n",
    "        return   \n",
    "\n",
    "    def write(self,df):        \n",
    "                \n",
    "        df = df[self.db_columns]\n",
    "        df = df.drop_duplicates()\n",
    "        df = df.dropna(subset = ['Result'])\n",
    "        self.add_new_box_scores(df)\n",
    "        \n",
    "        return\n",
    "    \n",
    "    def preprocess(self,html, pids, tids, gids):\n",
    "        df = pd.read_html(html,na_values=['-'])[0]\n",
    "        df = df.drop(columns = ['Season','+/-','FP'])\n",
    "\n",
    "        self.add_new_players(df[df.columns[0]],pids)\n",
    "        df = df[df.columns[2:]]\n",
    "\n",
    "        d = dict(zip(df.columns,self.db_columns[3:]))\n",
    "        df = df.rename(columns=d)\n",
    "        \n",
    "        df.insert(0, \"Player_ID\",pids)\n",
    "        df.insert(1, \"Team_ID\",tids)\n",
    "        df.insert(2, \"Game_ID\",gids)\n",
    "        df['Game_day'] = pd.to_datetime(df['Game_day'])\n",
    "        \n",
    "        \n",
    "        return df\n",
    "\n",
    "        \n",
    "    def get_season(self, driver, year, reg_season=True):\n",
    "        \n",
    "        url = self.boxes.build_url(year,reg_season)\n",
    "        df = pd.DataFrame()\n",
    "        \n",
    "        for html in self.boxes.iter_all(url, driver):\n",
    "            with open('test.html','w') as f:\n",
    "                f.write(html)\n",
    "            pids, tids, gids = self.boxes.get_player_and_team_ids(html)\n",
    "            df = pd.concat((df,self.preprocess(html,pids, tids, gids)))  \n",
    "\n",
    "            if self.max_date['GD'].max() > df['Game_day'].max():\n",
    "                break\n",
    "\n",
    "                \n",
    "        self.write(df)\n",
    "        \n",
    "        return\n",
    "         \n",
    "       \n",
    "    def get_player_stats(self,year,reg_season = True):\n",
    "        with webdriver.Chrome() as driver:\n",
    "            year_range = str(year-1) + \"-{:0>2d}\".format(self.get_last_year(year))\n",
    "\n",
    "            self.get_season(driver,year_range,reg_season)\n",
    "\n",
    "        return\n",
    "\n",
    "    @staticmethod\n",
    "    def get_last_year(year):\n",
    "        if(year > 2000):\n",
    "            return year % 2000\n",
    "        return year % 100"
   ]
  },
  {
   "cell_type": "code",
   "execution_count": 21,
   "id": "cd7a5db5",
   "metadata": {},
   "outputs": [],
   "source": [
    "class Team_standings:\n",
    "    \n",
    "    def __init__(self):\n",
    "        self.REG = \"002\"\n",
    "        self.POST = \"004\"\n",
    "        self.teams = Teams()\n",
    "        self.db_columns = ['SEASON_ID', 'TEAM_ID', 'GP', 'W', 'L', 'WINP', 'MINS', 'PTS', 'FGM',\n",
    "                        'FGA', 'FGP', 'PM3', 'PA3', 'P3P', 'FTM', 'FTA', 'FTP', 'OREB', 'DREB',\n",
    "                        'REB', 'AST', 'TOV', 'STL', 'BLK', 'BLKA', 'PF', 'PFD']\n",
    "        self.engine = create_engine(\"mariadb+mariadbconnector://\"\\\n",
    "                                  +environ.get(\"USER\")+\":\"\\\n",
    "                                  +environ.get(\"PSWD\")+\"@127.0.0.1:3306/nba\")\n",
    "        \n",
    "    def get_last_year(self,year):\n",
    "        if(year > 2000):\n",
    "            return year % 2000\n",
    "        return year % 100\n",
    "\n",
    "    \n",
    "    def write(self,html,tids,season_id):\n",
    "        df = pd.read_html(html)[0]\n",
    "        df = df.drop(columns = ['TEAM','+/-','Unnamed: 0','Unnamed: 1'])\n",
    "#         df = df.dropna('columns')\n",
    "        \n",
    "        d = dict(zip(df.columns,self.db_columns[2:]))\n",
    "        df = df.rename(columns=d)\n",
    "        \n",
    "        df[\"TEAM_ID\"] = tids\n",
    "        df[\"SEASON_ID\"] = season_id\n",
    "        \n",
    "        \n",
    "        df = df[self.db_columns]\n",
    "        df = df.drop_duplicates()\n",
    "        \n",
    "        df.to_sql(\"Team_standings\",self.engine,index=False, if_exists=\"append\")\n",
    "        \n",
    "        return \n",
    "\n",
    "    def get_season(self, driver, year,season_id, reg_season=True):\n",
    "        \n",
    "        url = self.teams.build_url(year,reg_season)\n",
    "        \n",
    "        print(url)\n",
    "        \n",
    "        html,tids = self.teams.get_source_and_teams(url, driver)\n",
    "        \n",
    "        self.write(html,tids,season_id)\n",
    "        \n",
    "        return\n",
    "    \n",
    "    def get_team_standings(self,last_n_years):\n",
    "        this_year = strftime(\"%Y\",localtime())\n",
    "        year = int(this_year) -  1\n",
    "        \n",
    "        with webdriver.Chrome() as driver:\n",
    "            for y in range(year,year-last_n_years-1,-1):\n",
    "                id_year = \"{:0>2d}\".format(self.get_last_year(y-1))\n",
    "                \n",
    "                select = \"select SEASON_ID from Team_standings \"\n",
    "                condition = \"where SEASON_ID LIKE '%\" + id_year+\"'\"\n",
    "                limit = \" limit 1\"\n",
    "                \n",
    "                query = select + condition +limit\n",
    "                d = pd.read_sql(query,self.engine)\n",
    "                if(len(d)== 0):# there is no data on this year, get it\n",
    "                    year_range = str(y-1) + \"-{:0>2d}\".format(self.get_last_year(y))\n",
    "                    season_id = self.REG + id_year\n",
    "                    self.get_season(driver,year_range,season_id)\n",
    "\n",
    "                    season_id = self.POST + id_year\n",
    "                    self.get_season(driver,year_range,season_id,reg_season=False)\n",
    "\n",
    "        \n",
    "        return"
   ]
  },
  {
   "cell_type": "code",
   "execution_count": 1,
   "id": "56968e18",
   "metadata": {},
   "outputs": [],
   "source": [
    "class Player_stats:\n",
    "    def __init__(self):\n",
    "        self.players = Players()        \n",
    "        self.REG = \"002\"\n",
    "        self.POST = \"004\"\n",
    "        self.db_columns = ['Player_ID', 'Team_ID', 'Age', 'GP', 'W', 'L', 'MINS', 'PTS', 'FGM',\n",
    "                           'FGA', 'FGP', 'PM3', 'PA3', 'P3P', 'FTM', 'FTA', 'FTP', 'OREB', 'DREB',\n",
    "                           'REB', 'AST', 'TOV', 'STL', 'BLK', 'PF', 'DD2', 'TD3', 'Season_ID']\n",
    "        self.engine = create_engine(\"mariadb+mariadbconnector://\"\\\n",
    "                                  +environ.get(\"USER\")+\":\"\\\n",
    "                                  +environ.get(\"PSWD\")+\"@127.0.0.1:3306/nba\")\n",
    "        \n",
    "        \n",
    "    def write(self,html,pids,tids,season_id):\n",
    "        df = pd.read_html(html)[0]\n",
    "        \n",
    "        df = df.drop(columns = ['PLAYER','TEAM','+/-'])\n",
    "        df = df.dropna('columns')\n",
    "\n",
    "        \n",
    "        d = dict(zip(df.columns[1:],self.db_columns[2:-1]))\n",
    "        df = df.rename(columns=d)\n",
    "        \n",
    "        \n",
    "        df.insert(0,\"Player_ID\",pids)\n",
    "        df.insert(1,\"Team_ID\",tids)\n",
    "        df.insert(len(self.db_columns)-1,\"Season_ID\",season_id)\n",
    "        \n",
    "        df = df[self.db_columns]\n",
    "        \n",
    "        df.to_sql(\"Seasonal_performance\",self.engine,index=False, if_exists=\"append\")\n",
    "        \n",
    "        return \n",
    "    \n",
    "    def get_last_year(self,year):\n",
    "        if(year > 2000):\n",
    "            return year % 2000\n",
    "        return year % 100\n",
    "        \n",
    "    def get_season(self, driver, year,season_id, reg_season=True):\n",
    "        \n",
    "        url = self.players.build_url(year,reg_season)\n",
    "        \n",
    "        print(url)\n",
    "\n",
    "        html = self.players.click_all(url, driver)\n",
    "        pids, tids = self.players.get_player_and_team_ids(html)\n",
    "        \n",
    "        \n",
    "        \n",
    "        self.write(html,pids,tids,season_id)\n",
    "        \n",
    "        return\n",
    "        \n",
    "       \n",
    "    def get_player_stats(self,last_n_years):\n",
    "        year = int(strftime(\"%Y\",localtime()))\n",
    "        \n",
    "        with webdriver.Chrome() as driver:\n",
    "            for y in range(year,year-last_n_years-1,-1):\n",
    "                id_year = \"{:0>2d}\".format(self.get_last_year(y-1))\n",
    "                \n",
    "                select = \"select SEASON_ID from Seasonal_performance \"\n",
    "                condition = \"where SEASON_ID LIKE '%\" + id_year+\"'\"\n",
    "                limit = \" limit 1\"\n",
    "                \n",
    "                query = select + condition +limit\n",
    "                d = pd.read_sql(query,self.engine)\n",
    "\n",
    "                if(len(d)== 0):# there is no data on this year, get it\n",
    "                    year_range = str(y-1) + \"-{:0>2d}\".format(self.get_last_year(y))\n",
    "                    season_id = self.REG + id_year\n",
    "                    self.get_season(driver,year_range,season_id)\n",
    "\n",
    "                    season_id = self.POST + id_year\n",
    "                    self.get_season(driver,year_range,season_id,reg_season=False)\n",
    "\n",
    "        return"
   ]
  },
  {
   "cell_type": "code",
   "execution_count": 13,
   "id": "227e3fd3",
   "metadata": {},
   "outputs": [],
   "source": [
    "bs = Box()"
   ]
  },
  {
   "cell_type": "code",
   "execution_count": 16,
   "id": "33040b06",
   "metadata": {
    "scrolled": true
   },
   "outputs": [],
   "source": [
    "bs.get_player_stats(2022)"
   ]
  },
  {
   "cell_type": "code",
   "execution_count": 22,
   "id": "c7ec1f3a",
   "metadata": {},
   "outputs": [],
   "source": [
    "ts = Team_standings()"
   ]
  },
  {
   "cell_type": "code",
   "execution_count": 24,
   "id": "6c175ab7",
   "metadata": {},
   "outputs": [
    {
     "name": "stdout",
     "output_type": "stream",
     "text": [
      "https://www.nba.com/stats/teams/traditional/?Season=2021-22&SeasonType=Regular%20Season\n"
     ]
    },
    {
     "name": "stderr",
     "output_type": "stream",
     "text": [
      "/usr/lib/python3/dist-packages/ipykernel_launcher.py:21: FutureWarning: In a future version of pandas all arguments of DataFrame.dropna will be keyword-only\n"
     ]
    },
    {
     "name": "stdout",
     "output_type": "stream",
     "text": [
      "    GP   W   L   WIN%   MIN    PTS   FGM   FGA   FG%   3PM  ...  OREB  DREB  \\\n",
      "0   58  48  10  0.828  48.1  113.7  43.2  89.7  48.2  11.3  ...  10.1  36.1   \n",
      "1   59  42  17  0.712  48.2  110.6  40.3  86.4  46.6  14.5  ...   9.7  36.1   \n",
      "2   60  41  19  0.683  48.3  113.8  42.9  93.5  45.9  11.1  ...  13.9  35.0   \n",
      "3   59  38  21  0.644  48.1  112.6  42.1  87.1  48.3  11.2  ...   8.9  34.4   \n",
      "4   59  38  21  0.644  48.6  108.9  39.4  85.6  46.0  13.4  ...  10.8  34.0   \n",
      "5   58  36  22  0.621  48.0  113.7  40.7  86.0  47.3  14.5  ...  10.2  35.9   \n",
      "6   58  35  23  0.603  48.0  106.7  39.6  84.9  46.6  11.7  ...  10.3  34.5   \n",
      "7   58  35  23  0.603  48.3  107.5  39.3  85.1  46.2  10.9  ...   8.6  33.8   \n",
      "8   60  36  24  0.600  48.2  113.2  41.0  89.1  46.0  14.2  ...  10.2  36.2   \n",
      "9   59  35  24  0.593  48.3  106.6  39.1  85.9  45.5  12.7  ...   9.5  34.2   \n",
      "10  58  33  25  0.569  48.2  109.9  40.9  86.6  47.3  12.9  ...   9.2  34.8   \n",
      "11  60  34  26  0.567  48.7  108.9  39.7  87.5  45.3  12.6  ...  10.7  35.9   \n",
      "12  57  32  25  0.561  48.4  108.7  40.3  91.0  44.3  12.3  ...  13.1  31.7   \n",
      "13  59  31  28  0.525  48.2  110.8  41.4  88.7  46.7  11.2  ...  10.3  34.6   \n",
      "14  59  31  28  0.525  48.3  113.2  41.0  91.7  44.7  14.4  ...  11.9  32.9   \n",
      "15  61  30  31  0.492  48.2  106.9  39.7  87.4  45.5  12.4  ...   8.9  34.9   \n",
      "16  60  29  31  0.483  48.6  113.8  42.1  92.3  45.6  13.7  ...  11.1  34.1   \n",
      "17  58  28  30  0.483  48.0  112.2  41.1  87.8  46.8  12.7  ...   9.9  34.4   \n",
      "18  58  27  31  0.466  48.8  110.9  41.4  88.9  46.6  12.0  ...   9.6  35.2   \n",
      "19  58  27  31  0.466  48.3  107.1  39.9  86.0  46.4  10.2  ...   9.2  34.6   \n",
      "20  59  25  34  0.424  48.3  105.1  37.5  86.5  43.4  13.1  ...  11.5  34.6   \n",
      "21  59  25  34  0.424  48.1  108.2  39.1  87.1  44.9  13.5  ...  10.3  33.8   \n",
      "22  59  23  36  0.390  48.2  106.3  39.0  87.1  44.7  10.7  ...  11.5  33.6   \n",
      "23  59  23  36  0.390  48.3  111.8  43.4  93.2  46.6  11.1  ...  11.0  34.3   \n",
      "24  60  22  38  0.367  48.3  109.9  40.6  88.9  45.6  11.6  ...  10.2  33.5   \n",
      "25  60  20  40  0.333  48.5  109.3  40.7  89.1  45.7  11.8  ...  11.1  33.4   \n",
      "26  58  18  40  0.310  48.3  101.2  37.4  89.4  41.8  11.8  ...  10.6  35.5   \n",
      "27  58  15  43  0.259  48.1  108.5  38.7  85.8  45.1  13.3  ...   9.8  32.6   \n",
      "28  58  13  45  0.224  48.2  102.6  37.3  88.6  42.1  11.1  ...  10.9  31.9   \n",
      "29  60  13  47  0.217  48.1  103.3  38.0  87.7  43.3  11.9  ...   9.1  34.3   \n",
      "\n",
      "     REB   AST   TOV   STL  BLK  BLKA    PF   PFD  \n",
      "0   46.2  27.0  12.9   8.5  4.2   4.0  19.2  19.2  \n",
      "1   45.8  27.2  15.2   9.3  4.8   4.1  20.3  17.8  \n",
      "2   48.9  25.3  13.3  10.1  6.3   6.4  19.5  19.5  \n",
      "3   43.4  24.5  13.0   7.1  4.5   5.1  18.6  17.6  \n",
      "4   44.8  25.8  14.9   7.5  3.2   4.3  20.6  20.3  \n",
      "5   46.1  22.3  14.2   7.2  4.9   4.2  18.9  20.0  \n",
      "6   44.9  25.3  14.8   7.2  4.3   4.5  16.9  19.3  \n",
      "7   42.3  23.0  12.5   7.6  5.6   4.7  19.2  18.9  \n",
      "8   46.5  23.4  13.6   7.7  4.1   4.4  18.1  19.4  \n",
      "9   43.6  23.7  12.5   7.0  4.1   3.8  19.8  20.0  \n",
      "10  43.9  27.1  14.4   7.1  3.7   4.9  19.2  19.3  \n",
      "11  46.6  23.6  14.1   7.2  6.0   4.6  18.7  19.2  \n",
      "12  44.8  22.0  12.8   9.2  4.8   5.1  19.8  18.9  \n",
      "13  44.8  24.8  13.8   7.0  5.3   5.2  19.9  19.3  \n",
      "14  44.8  25.1  14.5   8.7  5.8   5.2  21.6  20.7  \n",
      "15  43.9  23.6  14.2   7.6  4.6   4.2  18.6  18.6  \n",
      "16  45.1  27.2  13.4   8.7  4.8   4.9  20.0  19.7  \n",
      "17  44.4  24.4  12.4   6.9  4.4   4.5  18.5  20.1  \n",
      "18  44.8  24.2  14.7   8.0  5.7   4.0  20.1  20.1  \n",
      "19  43.8  24.0  13.3   6.3  4.9   4.2  18.8  20.2  \n",
      "20  46.1  21.5  13.6   6.9  5.1   4.5  19.9  19.7  \n",
      "21  44.1  22.9  13.8   7.6  4.6   4.7  20.0  19.7  \n",
      "22  45.0  24.7  14.4   7.5  4.2   4.9  19.8  20.2  \n",
      "23  45.3  28.0  12.5   7.7  5.1   5.2  17.8  18.2  \n",
      "24  43.7  23.3  14.2   7.2  4.6   5.1  19.1  19.1  \n",
      "25  44.5  24.5  14.3   6.9  5.5   4.9  20.4  19.6  \n",
      "26  46.1  21.4  13.5   7.5  4.7   6.3  18.2  17.7  \n",
      "27  42.3  23.0  17.0   7.2  4.6   5.8  20.3  22.5  \n",
      "28  42.8  22.7  14.6   7.7  4.8   5.1  21.5  20.0  \n",
      "29  43.4  23.2  14.7   6.9  4.7   5.3  19.6  18.4  \n",
      "\n",
      "[30 rows x 25 columns]\n"
     ]
    }
   ],
   "source": [
    "ts.get_team_standings(1)"
   ]
  },
  {
   "cell_type": "code",
   "execution_count": 7,
   "id": "89ee9486",
   "metadata": {},
   "outputs": [],
   "source": [
    "ps = Player_stats()"
   ]
  },
  {
   "cell_type": "code",
   "execution_count": null,
   "id": "bd1fea55",
   "metadata": {
    "scrolled": false
   },
   "outputs": [],
   "source": [
    "ps.get_player_stats(1)"
   ]
  },
  {
   "cell_type": "code",
   "execution_count": 17,
   "id": "a02bf5c9",
   "metadata": {},
   "outputs": [],
   "source": [
    "from bs4 import BeautifulSoup"
   ]
  },
  {
   "cell_type": "code",
   "execution_count": 18,
   "id": "437b0c46",
   "metadata": {},
   "outputs": [],
   "source": [
    "with open('test.html','r') as f:\n",
    "    h = f.read()"
   ]
  },
  {
   "cell_type": "code",
   "execution_count": 20,
   "id": "aeb9a30f",
   "metadata": {},
   "outputs": [],
   "source": [
    "soup = BeautifulSoup(h,'html')"
   ]
  },
  {
   "cell_type": "code",
   "execution_count": 46,
   "id": "db7e3674",
   "metadata": {},
   "outputs": [],
   "source": [
    "t = soup.find('table')\n",
    "table = pd.read_html(str(t))"
   ]
  },
  {
   "cell_type": "code",
   "execution_count": 50,
   "id": "b69d555c",
   "metadata": {},
   "outputs": [
    {
     "name": "stdout",
     "output_type": "stream",
     "text": [
      "<a href=\"/stats/player/1630792/\" ng-href=\"/stats/player/1630792/\">Malcolm Hill</a>\n",
      "<a href=\"/stats/player/1630245/\" ng-href=\"/stats/player/1630245/\">Ayo Dosunmu</a>\n",
      "<a href=\"/stats/player/1630233/\" ng-href=\"/stats/player/1630233/\">Nathan Knight</a>\n",
      "<a href=\"/stats/player/1630195/\" ng-href=\"/stats/player/1630195/\">Leandro Bolmaro</a>\n",
      "<a href=\"/stats/player/1630172/\" ng-href=\"/stats/player/1630172/\">Patrick Williams</a>\n",
      "<a href=\"/stats/player/1629750/\" ng-href=\"/stats/player/1629750/\">Javonte Green</a>\n",
      "<a href=\"/stats/player/1629669/\" ng-href=\"/stats/player/1629669/\">Jaylen Nowell</a>\n",
      "<a href=\"/stats/player/202328/\" ng-href=\"/stats/player/202328/\">Greg Monroe</a>\n",
      "<a href=\"/stats/player/1627774/\" ng-href=\"/stats/player/1627774/\">Jake Layman</a>\n",
      "<a href=\"/stats/player/1628396/\" ng-href=\"/stats/player/1628396/\">Tony Bradley</a>\n",
      "<a href=\"/stats/player/1630593/\" ng-href=\"/stats/player/1630593/\">McKinley Wright IV</a>\n",
      "<a href=\"/stats/player/1630183/\" ng-href=\"/stats/player/1630183/\">Jaden McDaniels</a>\n",
      "<a href=\"/stats/player/1630162/\" ng-href=\"/stats/player/1630162/\">Anthony Edwards</a>\n",
      "<a href=\"/stats/player/1629675/\" ng-href=\"/stats/player/1629675/\">Naz Reid</a>\n",
      "<a href=\"/stats/player/1629162/\" ng-href=\"/stats/player/1629162/\">Jordan McLaughlin</a>\n",
      "<a href=\"/stats/player/1629076/\" ng-href=\"/stats/player/1629076/\">Tyler Cook</a>\n",
      "<a href=\"/stats/player/1629020/\" ng-href=\"/stats/player/1629020/\">Jarred Vanderbilt</a>\n",
      "<a href=\"/stats/player/1629006/\" ng-href=\"/stats/player/1629006/\">Josh Okogie</a>\n",
      "<a href=\"/stats/player/1628972/\" ng-href=\"/stats/player/1628972/\">Troy Brown Jr.</a>\n",
      "<a href=\"/stats/player/1627884/\" ng-href=\"/stats/player/1627884/\">Derrick Jones Jr.</a>\n",
      "<a href=\"/stats/player/1627736/\" ng-href=\"/stats/player/1627736/\">Malik Beasley</a>\n",
      "<a href=\"/stats/player/202684/\" ng-href=\"/stats/player/202684/\">Tristan Thompson</a>\n",
      "<a href=\"/stats/player/201976/\" ng-href=\"/stats/player/201976/\">Patrick Beverley</a>\n",
      "<a href=\"/stats/player/201980/\" ng-href=\"/stats/player/201980/\">Danny Green</a>\n",
      "<a href=\"/stats/player/202699/\" ng-href=\"/stats/player/202699/\">Tobias Harris</a>\n",
      "<a href=\"/stats/player/1630198/\" ng-href=\"/stats/player/1630198/\">Isaiah Joe</a>\n",
      "<a href=\"/stats/player/1629003/\" ng-href=\"/stats/player/1629003/\">Shake Milton</a>\n",
      "<a href=\"/stats/player/1630691/\" ng-href=\"/stats/player/1630691/\">Jamorko Pickett</a>\n",
      "<a href=\"/stats/player/1630568/\" ng-href=\"/stats/player/1630568/\">Luka Garza</a>\n",
      "<a href=\"/stats/player/1630240/\" ng-href=\"/stats/player/1630240/\">Saben Lee</a>\n",
      "<a href=\"/stats/player/1629680/\" ng-href=\"/stats/player/1629680/\">Matisse Thybulle</a>\n",
      "<a href=\"/stats/player/1629035/\" ng-href=\"/stats/player/1629035/\">Carsen Edwards</a>\n",
      "<a href=\"/stats/player/1627788/\" ng-href=\"/stats/player/1627788/\">Furkan Korkmaz</a>\n",
      "<a href=\"/stats/player/203585/\" ng-href=\"/stats/player/203585/\">Rodney McGruder</a>\n",
      "<a href=\"/stats/player/201599/\" ng-href=\"/stats/player/201599/\">DeAndre Jordan</a>\n",
      "<a href=\"/stats/player/1630194/\" ng-href=\"/stats/player/1630194/\">Paul Reed</a>\n",
      "<a href=\"/stats/player/1630587/\" ng-href=\"/stats/player/1630587/\">Isaiah Livers</a>\n",
      "<a href=\"/stats/player/1630296/\" ng-href=\"/stats/player/1630296/\">Braxton Key</a>\n",
      "<a href=\"/stats/player/1630191/\" ng-href=\"/stats/player/1630191/\">Isaiah Stewart</a>\n",
      "<a href=\"/stats/player/1630180/\" ng-href=\"/stats/player/1630180/\">Saddiq Bey</a>\n",
      "<a href=\"/stats/player/1630178/\" ng-href=\"/stats/player/1630178/\">Tyrese Maxey</a>\n",
      "<a href=\"/stats/player/1630165/\" ng-href=\"/stats/player/1630165/\">Killian Hayes</a>\n",
      "<a href=\"/stats/player/1628402/\" ng-href=\"/stats/player/1628402/\">Frank Jackson</a>\n",
      "<a href=\"/stats/player/1628369/\" ng-href=\"/stats/player/1628369/\">Jayson Tatum</a>\n",
      "<a href=\"/stats/player/203937/\" ng-href=\"/stats/player/203937/\">Kyle Anderson</a>\n",
      "<a href=\"/stats/player/203935/\" ng-href=\"/stats/player/203935/\">Marcus Smart</a>\n",
      "<a href=\"/stats/player/1628464/\" ng-href=\"/stats/player/1628464/\">Daniel Theis</a>\n",
      "<a href=\"/stats/player/1628401/\" ng-href=\"/stats/player/1628401/\">Derrick White</a>\n",
      "<a href=\"/stats/player/1629723/\" ng-href=\"/stats/player/1629723/\">John Konchar</a>\n",
      "<a href=\"/stats/player/1630214/\" ng-href=\"/stats/player/1630214/\">Xavier Tillman</a>\n"
     ]
    }
   ],
   "source": [
    "from re import search\n",
    "player_reg = '/player/\\d+'\n",
    "\n",
    "for l in t.find_all('a'):\n",
    "    \n",
    "    if search(player_reg,l.get('href')):\n",
    "        print(l)"
   ]
  },
  {
   "cell_type": "code",
   "execution_count": 51,
   "id": "1808f928",
   "metadata": {},
   "outputs": [],
   "source": [
    "with open('data.html','r') as f:\n",
    "    html = f.read()"
   ]
  },
  {
   "cell_type": "code",
   "execution_count": 52,
   "id": "1f24c57f",
   "metadata": {},
   "outputs": [],
   "source": [
    "sou = BeautifulSoup(html)"
   ]
  },
  {
   "cell_type": "code",
   "execution_count": 72,
   "id": "000b1023",
   "metadata": {},
   "outputs": [],
   "source": [
    "for i in sou.find_all('script'):\n",
    "    if 'id' in i.attrs.keys() and i.attrs['id'] == '__NEXT_DATA__':\n",
    "        dat = i\n",
    "        break"
   ]
  },
  {
   "cell_type": "code",
   "execution_count": 73,
   "id": "75332df3",
   "metadata": {},
   "outputs": [],
   "source": [
    "li = dat.contents"
   ]
  },
  {
   "cell_type": "code",
   "execution_count": 74,
   "id": "0a0a08fc",
   "metadata": {},
   "outputs": [],
   "source": [
    "import json"
   ]
  },
  {
   "cell_type": "code",
   "execution_count": 75,
   "id": "a6139c5a",
   "metadata": {},
   "outputs": [],
   "source": [
    "dat = json.loads(li[0])"
   ]
  },
  {
   "cell_type": "code",
   "execution_count": 76,
   "id": "41fadaf0",
   "metadata": {},
   "outputs": [
    {
     "data": {
      "text/plain": [
       "dict_keys(['props', 'page', 'query', 'buildId', 'runtimeConfig', 'isFallback', 'gssp', 'appGip', 'scriptLoader'])"
      ]
     },
     "execution_count": 76,
     "metadata": {},
     "output_type": "execute_result"
    }
   ],
   "source": [
    "dat.keys()"
   ]
  },
  {
   "cell_type": "code",
   "execution_count": 155,
   "id": "06ab075a",
   "metadata": {},
   "outputs": [
    {
     "data": {
      "text/plain": [
       "{'props': ['mia-vs-bos-0042100304', 'game-charts']}"
      ]
     },
     "execution_count": 155,
     "metadata": {},
     "output_type": "execute_result"
    }
   ],
   "source": [
    "dat['props']['pageProps']['initialQueryParams']"
   ]
  },
  {
   "cell_type": "code",
   "execution_count": 145,
   "id": "bd389f8c",
   "metadata": {},
   "outputs": [
    {
     "data": {
      "text/plain": [
       "dict_keys(['layout', 'game', 'playByPlay', 'headline', 'heroImage', 'story', 'endeavorCameraData', 'rollingschedule', 'id', 'postId', 'view', 'region', 'analyticsObject', 'highlightVideos', 'seriesHubInfo', 'periodOptions', 'boxscoreParams', 'initialQueryParams'])"
      ]
     },
     "execution_count": 145,
     "metadata": {},
     "output_type": "execute_result"
    }
   ],
   "source": [
    "dat['props']['pageProps'].keys()#['playByPlay'].keys()"
   ]
  },
  {
   "cell_type": "code",
   "execution_count": 138,
   "id": "25a3a41e",
   "metadata": {},
   "outputs": [],
   "source": [
    "j = dat['props']['pageProps']['playByPlay']['actions']\n",
    "# with open('pbp.json','w') as f:\n",
    "j = json.dumps(j)\n",
    "    \n",
    "tab = pd.read_json(path_or_buf=j,orient='records')#.keys()"
   ]
  },
  {
   "cell_type": "code",
   "execution_count": 143,
   "id": "de9a639f",
   "metadata": {},
   "outputs": [
    {
     "data": {
      "text/plain": [
       "Index(['actionNumber', 'clock', 'period', 'teamId', 'teamTricode', 'personId',\n",
       "       'playerName', 'playerNameI', 'xLegacy', 'yLegacy', 'shotDistance',\n",
       "       'shotResult', 'isFieldGoal', 'scoreHome', 'scoreAway', 'pointsTotal',\n",
       "       'location', 'description', 'actionType', 'subType', 'videoAvailable',\n",
       "       'actionId'],\n",
       "      dtype='object')"
      ]
     },
     "execution_count": 143,
     "metadata": {},
     "output_type": "execute_result"
    }
   ],
   "source": [
    "tab.head(10).keys()"
   ]
  },
  {
   "cell_type": "code",
   "execution_count": null,
   "id": "fff4e0ce",
   "metadata": {},
   "outputs": [],
   "source": []
  }
 ],
 "metadata": {
  "kernelspec": {
   "display_name": "Python 3 (ipykernel)",
   "language": "python",
   "name": "python3"
  },
  "language_info": {
   "codemirror_mode": {
    "name": "ipython",
    "version": 3
   },
   "file_extension": ".py",
   "mimetype": "text/x-python",
   "name": "python",
   "nbconvert_exporter": "python",
   "pygments_lexer": "ipython3",
   "version": "3.7.3"
  }
 },
 "nbformat": 4,
 "nbformat_minor": 5
}
