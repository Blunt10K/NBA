{
 "cells": [
  {
   "cell_type": "code",
   "execution_count": 11,
   "id": "6425f117",
   "metadata": {},
   "outputs": [],
   "source": [
    "import pandas as pd\n",
    "from time import strftime,localtime\n",
    "from sqlalchemy import create_engine\n",
    "from os import environ\n",
    "from os.path import exists\n",
    "from os import mkdir"
   ]
  },
  {
   "cell_type": "code",
   "execution_count": 35,
   "id": "aaa05ea6",
   "metadata": {},
   "outputs": [],
   "source": [
    "from sys import path"
   ]
  },
  {
   "cell_type": "code",
   "execution_count": 36,
   "id": "8e23c7cb",
   "metadata": {},
   "outputs": [],
   "source": [
    "path.insert(0,'./code/')"
   ]
  },
  {
   "cell_type": "code",
   "execution_count": 37,
   "id": "63e26bc5",
   "metadata": {},
   "outputs": [],
   "source": [
    "from web_scraper import *"
   ]
  },
  {
   "cell_type": "code",
   "execution_count": 38,
   "id": "ec0a3f5d",
   "metadata": {},
   "outputs": [],
   "source": [
    "from selenium import webdriver"
   ]
  },
  {
   "cell_type": "code",
   "execution_count": 16,
   "id": "c2631d2e",
   "metadata": {},
   "outputs": [],
   "source": [
    "def add_new_players(engine, names, ids):\n",
    "    condition = str(tuple(ids))\n",
    "    existing_players = pd.read_sql(\"select * from Players where ID IN \"+condition,engine)\n",
    "        \n",
    "    c = pd.DataFrame({\"ID\":ids,\"Name\":names}).drop_duplicates()\n",
    "    e = c.merge(existing_players,on=\"ID\",how='left',indicator=True,suffixes = ('','_y'))\n",
    "    e = e.loc[e[\"_merge\"]== \"left_only\"][[\"ID\",\"Name\"]]\n",
    "        \n",
    "    e.to_sql(\"Players\",engine,index=False, if_exists=\"append\")\n",
    "    \n",
    "    return"
   ]
  },
  {
   "cell_type": "code",
   "execution_count": 17,
   "id": "1c7ed725",
   "metadata": {},
   "outputs": [],
   "source": [
    "class Box:\n",
    "    def __init__(self):\n",
    "        self.boxes = Box_scores()        \n",
    "        self.table = \"Box_scores\"\n",
    "        self.scores =[]\n",
    "        self.page_count = pd.read_csv(\"../box_score.csv\")\n",
    "        self.engine = create_engine(\"mariadb+mariadbconnector://\"\\\n",
    "                                  +environ.get(\"USER\")+\":\"\\\n",
    "                                  +environ.get(\"PSWD\")+\"@127.0.0.1:3306/nba\")\n",
    "        \n",
    "        self.db_columns = ['Player_ID', 'Team_ID', 'Game_ID', 'Matchup', 'Game_day', 'Result',\n",
    "                        'MINS', 'PTS', 'FGM', 'FGA', 'FGP', 'PM3', 'PA3', 'P3P', 'FTM', 'FTA',\n",
    "                        'FTP', 'OREB', 'DREB', 'REB', 'AST', 'STL', 'BLK', 'TOV',  'PF']\n",
    "        \n",
    "    def add_new_box_scores(self,df):\n",
    "        existing = pd.read_sql(\"select * from Box_scores\",self.engine)\n",
    "\n",
    "        e = df.merge(existing,on=[\"Player_ID\",\"Team_ID\",\"Game_ID\"],how='left',indicator=True,suffixes = ('','_y'))\n",
    "        e = e.loc[e[\"_merge\"]== \"left_only\"][df.columns]\n",
    "\n",
    "        e.to_sql(\"Box_scores\",self.engine,index=False, if_exists=\"append\")\n",
    "\n",
    "        return\n",
    "        \n",
    "    def write(self,html,pids,tids,gids):\n",
    "        df = pd.read_html(html,na_values=['-'])[0]\n",
    "        self.scores = df\n",
    "        df = df.drop(columns = ['Season','+/-','FP'])\n",
    "        \n",
    "        add_new_players(self.engine, df[df.columns[0]],pids)\n",
    "        df = df[df.columns[2:]]\n",
    "        \n",
    "        d = dict(zip(df.columns,self.db_columns[3:]))\n",
    "        df = df.rename(columns=d)\n",
    "        \n",
    "        df.insert(0, \"Player_ID\",pids)\n",
    "        df.insert(1, \"Team_ID\",tids)\n",
    "        df.insert(2, \"Game_ID\",gids)\n",
    "        \n",
    "        \n",
    "        df['Game_day'] = pd.to_datetime(df['Game_day'])\n",
    "        \n",
    "        df = df[self.db_columns]\n",
    "        df = df.drop_duplicates()\n",
    "\n",
    "        self.add_new_box_scores(df)\n",
    "        \n",
    "        return \n",
    "    \n",
    "    def get_last_year(self,year):\n",
    "        if(year > 2000):\n",
    "            return year % 2000\n",
    "        return year % 100\n",
    "        \n",
    "    def get_season(self, driver, year, reg_season=True):\n",
    "        \n",
    "        url = self.boxes.build_url(year,reg_season)\n",
    "        \n",
    "        for html in self.boxes.iter_all(url, driver):\n",
    "            pids, tids, gids = self.boxes.get_player_and_team_ids(html)\n",
    "            self.write(html,pids,tids,gids)\n",
    "        \n",
    "        return\n",
    "        \n",
    "       \n",
    "    def get_player_stats(self,year,reg_season = True):\n",
    "        with webdriver.Chrome() as driver:\n",
    "            year_range = str(year-1) + \"-{:0>2d}\".format(self.get_last_year(year))\n",
    "\n",
    "            self.get_season(driver,year_range,reg_season)\n",
    "\n",
    "        return"
   ]
  },
  {
   "cell_type": "code",
   "execution_count": 61,
   "id": "cd7a5db5",
   "metadata": {},
   "outputs": [],
   "source": [
    "class Team_standings:\n",
    "    \n",
    "    def __init__(self):\n",
    "        self.REG = \"002\"\n",
    "        self.POST = \"004\"\n",
    "        self.teams = Teams()\n",
    "        self.db_columns = ['SEASON_ID', 'TEAM_ID', 'GP', 'W', 'L', 'WINP', 'MINS', 'PTS', 'FGM',\n",
    "                        'FGA', 'FGP', 'PM3', 'PA3', 'P3P', 'FTM', 'FTA', 'FTP', 'OREB', 'DREB',\n",
    "                        'REB', 'AST', 'TOV', 'STL', 'BLK', 'BLKA', 'PF', 'PFD']\n",
    "        self.engine = create_engine(\"mariadb+mariadbconnector://\"\\\n",
    "                                  +environ.get(\"USER\")+\":\"\\\n",
    "                                  +environ.get(\"PSWD\")+\"@127.0.0.1:3306/nba\")\n",
    "        \n",
    "    def get_last_year(self,year):\n",
    "        if(year > 2000):\n",
    "            return year % 2000\n",
    "        return year % 100\n",
    "\n",
    "    \n",
    "    def write(self,html,tids,season_id):\n",
    "        df = pd.read_html(html)[0]\n",
    "        df = df.drop(columns = ['TEAM','+/-'])\n",
    "        \n",
    "        d = dict(zip(df.columns,self.db_columns[2:]))\n",
    "        df = df.rename(columns=d)\n",
    "        \n",
    "        df[\"TEAM_ID\"] = tids\n",
    "        df[\"SEASON_ID\"] = season_id\n",
    "        \n",
    "        df = df.dropna('columns')\n",
    "        \n",
    "        df = df[self.db_columns]\n",
    "        df = df.drop_duplicates()\n",
    "        df.to_sql(\"Team_standings\",self.engine,index=False, if_exists=\"append\")\n",
    "        \n",
    "        return \n",
    "\n",
    "    def get_season(self, driver, year,season_id, reg_season=True):\n",
    "        \n",
    "        url = self.teams.build_url(year,reg_season)\n",
    "        \n",
    "        print(url)\n",
    "        \n",
    "        html,tids = self.teams.get_source_and_teams(url, driver)\n",
    "        \n",
    "        self.write(html,tids,season_id)\n",
    "        \n",
    "        return\n",
    "    \n",
    "    def get_team_standings(self,last_n_years):\n",
    "        this_year = strftime(\"%Y\",localtime())\n",
    "        year = int(this_year) -  1\n",
    "        \n",
    "        with webdriver.Chrome() as driver:\n",
    "            for y in range(year,year-last_n_years-1,-1):\n",
    "                id_year = \"{:0>2d}\".format(self.get_last_year(y-1))\n",
    "                \n",
    "                select = \"select SEASON_ID from Team_standings \"\n",
    "                condition = \"where SEASON_ID LIKE '%\" + id_year+\"'\"\n",
    "                limit = \" limit 10\"\n",
    "                \n",
    "                query = select +condition +limit\n",
    "                d = pd.read_sql(query,engine)\n",
    "                if(len(d)== 0):# there is no data on this year, get it\n",
    "                    year_range = str(y-1) + \"-{:0>2d}\".format(self.get_last_year(y))\n",
    "                    season_id = self.REG + id_year\n",
    "                    self.get_season(driver,year_range,season_id)\n",
    "\n",
    "                    season_id = self.POST + id_year\n",
    "                    self.get_season(driver,year_range,season_id,reg_season=False)\n",
    "\n",
    "        \n",
    "        return"
   ]
  },
  {
   "cell_type": "code",
   "execution_count": 19,
   "id": "56968e18",
   "metadata": {},
   "outputs": [],
   "source": [
    "class Player_stats:\n",
    "    def __init__(self):\n",
    "        self.players = Players()        \n",
    "        self.root = \"../player_stats\"\n",
    "        self.REG = 0\n",
    "        self.POST = 1\n",
    "        self.labels =(\"/regular_season.csv\", \"/playoffs.csv\")\n",
    "        self.engine = create_engine(\"mariadb+mariadbconnector://\"\\\n",
    "                                  +environ.get(\"USER\")+\":\"\\\n",
    "                                  +environ.get(\"PSWD\")+\"@127.0.0.1:3306/nba\")\n",
    "        \n",
    "        \n",
    "    def write(self,html,pids,tids,fp):\n",
    "        df = pd.read_html(html)[0]\n",
    "        df[\"PLAYER_ID\"] = pids\n",
    "        df[\"TEAM_ID\"] = tids\n",
    "        \n",
    "        df = df.dropna('columns')\n",
    "        df.to_csv(fp,index = False)\n",
    "        return \n",
    "    \n",
    "    def get_last_year(self,year):\n",
    "        if(year > 2000):\n",
    "            return year % 2000\n",
    "        return year % 100\n",
    "        \n",
    "    def get_season(self, driver, year,fp, reg_season=True):\n",
    "        \n",
    "        url = self.players.build_url(year,reg_season)\n",
    "        \n",
    "        print(url)\n",
    "        while(1<2):\n",
    "            try:\n",
    "                html = self.players.click_all(url, driver)\n",
    "                pids, tids = self.players.get_player_and_team_ids(html)\n",
    "                break\n",
    "            except:\n",
    "                print(\"Error. Trying again.\")\n",
    "        \n",
    "        self.write(html,pids,tids,fp)\n",
    "        \n",
    "        return\n",
    "        \n",
    "       \n",
    "    def get_player_stats(self,last_n_years):\n",
    "        year = int(strftime(\"%Y\",localtime()))-1\n",
    "        \n",
    "        with webdriver.Chrome() as driver:\n",
    "            for y in range(year,year-last_n_years-1,-1):\n",
    "                d = \n",
    "\n",
    "                if(not exists(file_dir)):# there is no data on this year, get it\n",
    "                    year_range = str(y-1) + \"-{:0>2d}\".format(self.get_last_year(y))\n",
    "\n",
    "                    fp = file_dir + self.labels[self.REG]\n",
    "                    self.get_season(driver,year_range,fp)\n",
    "\n",
    "\n",
    "                    fp = file_dir + self.labels[self.POST]\n",
    "                    self.get_season(driver,year_range,fp,reg_season=False)\n",
    "\n",
    "        return"
   ]
  },
  {
   "cell_type": "code",
   "execution_count": 20,
   "id": "227e3fd3",
   "metadata": {},
   "outputs": [],
   "source": [
    "bs = Box()"
   ]
  },
  {
   "cell_type": "code",
   "execution_count": 21,
   "id": "33040b06",
   "metadata": {
    "scrolled": true
   },
   "outputs": [],
   "source": [
    "bs.get_player_stats(2022)"
   ]
  },
  {
   "cell_type": "code",
   "execution_count": 22,
   "id": "d74e9074",
   "metadata": {},
   "outputs": [],
   "source": [
    "engine = create_engine(\"mariadb+mariadbconnector://\"\\\n",
    "                                  +environ.get(\"USER\")+\":\"\\\n",
    "                                  +environ.get(\"PSWD\")+\"@127.0.0.1:3306/nba\")"
   ]
  },
  {
   "cell_type": "code",
   "execution_count": 29,
   "id": "1f223073",
   "metadata": {},
   "outputs": [],
   "source": [
    "d = pd.read_sql(\"select SEASON_ID from Team_standings where SEASON_ID = 00495 limit 10\",engine)"
   ]
  },
  {
   "cell_type": "code",
   "execution_count": 30,
   "id": "5a7002c2",
   "metadata": {},
   "outputs": [
    {
     "data": {
      "text/plain": [
       "Index(['SEASON_ID', 'TEAM_ID', 'GP', 'W', 'L', 'WINP', 'MINS', 'PTS', 'FGM',\n",
       "       'FGA', 'FGP', 'PM3', 'PA3', 'P3P', 'FTM', 'FTA', 'FTP', 'OREB', 'DREB',\n",
       "       'REB', 'AST', 'TOV', 'STL', 'BLK', 'BLKA', 'PF', 'PFD'],\n",
       "      dtype='object')"
      ]
     },
     "execution_count": 30,
     "metadata": {},
     "output_type": "execute_result"
    }
   ],
   "source": [
    "d.columns"
   ]
  },
  {
   "cell_type": "code",
   "execution_count": 32,
   "id": "1262c684",
   "metadata": {},
   "outputs": [
    {
     "data": {
      "text/plain": [
       "0"
      ]
     },
     "execution_count": 32,
     "metadata": {},
     "output_type": "execute_result"
    }
   ],
   "source": [
    "len(d)"
   ]
  },
  {
   "cell_type": "code",
   "execution_count": 62,
   "id": "c7ec1f3a",
   "metadata": {},
   "outputs": [],
   "source": [
    "ts = Team_standings()"
   ]
  },
  {
   "cell_type": "code",
   "execution_count": null,
   "id": "a850d6f8",
   "metadata": {},
   "outputs": [
    {
     "name": "stdout",
     "output_type": "stream",
     "text": [
      "https://www.nba.com/stats/teams/traditional/?Season=1995-96&SeasonType=Regular%20Season\n"
     ]
    },
    {
     "name": "stderr",
     "output_type": "stream",
     "text": [
      "/usr/lib/python3/dist-packages/ipykernel_launcher.py:28: FutureWarning: In a future version of pandas all arguments of DataFrame.dropna will be keyword-only\n"
     ]
    },
    {
     "name": "stdout",
     "output_type": "stream",
     "text": [
      "https://www.nba.com/stats/teams/traditional/?Season=1995-96&SeasonType=Playoffs\n"
     ]
    }
   ],
   "source": [
    "ts.get_team_standings(25)"
   ]
  },
  {
   "cell_type": "code",
   "execution_count": null,
   "id": "a464393d",
   "metadata": {},
   "outputs": [],
   "source": []
  }
 ],
 "metadata": {
  "kernelspec": {
   "display_name": "Python 3",
   "language": "python",
   "name": "python3"
  },
  "language_info": {
   "codemirror_mode": {
    "name": "ipython",
    "version": 3
   },
   "file_extension": ".py",
   "mimetype": "text/x-python",
   "name": "python",
   "nbconvert_exporter": "python",
   "pygments_lexer": "ipython3",
   "version": "3.7.3"
  }
 },
 "nbformat": 4,
 "nbformat_minor": 5
}
