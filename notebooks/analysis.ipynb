{
 "cells": [
  {
   "cell_type": "code",
   "execution_count": 1,
   "metadata": {},
   "outputs": [],
   "source": [
    "from pyspark.sql import SparkSession\n",
    "from os import environ"
   ]
  },
  {
   "cell_type": "code",
   "execution_count": null,
   "metadata": {},
   "outputs": [],
   "source": [
    "# environ.get('SPARK_JDBC')"
   ]
  },
  {
   "cell_type": "code",
   "execution_count": 2,
   "metadata": {},
   "outputs": [
    {
     "name": "stderr",
     "output_type": "stream",
     "text": [
      "22/06/22 15:59:38 WARN Utils: Your hostname, rpi3 resolves to a loopback address: 127.0.1.1; using 172.25.14.38 instead (on interface wlan0)\n",
      "22/06/22 15:59:38 WARN Utils: Set SPARK_LOCAL_IP if you need to bind to another address\n",
      "WARNING: An illegal reflective access operation has occurred\n",
      "WARNING: Illegal reflective access by org.apache.spark.unsafe.Platform (file:/home/blunt/.local/lib/python3.9/site-packages/pyspark/jars/spark-unsafe_2.12-3.2.1.jar) to constructor java.nio.DirectByteBuffer(long,int)\n",
      "WARNING: Please consider reporting this to the maintainers of org.apache.spark.unsafe.Platform\n",
      "WARNING: Use --illegal-access=warn to enable warnings of further illegal reflective access operations\n",
      "WARNING: All illegal access operations will be denied in a future release\n",
      "Using Spark's default log4j profile: org/apache/spark/log4j-defaults.properties\n",
      "Setting default log level to \"WARN\".\n",
      "To adjust logging level use sc.setLogLevel(newLevel). For SparkR, use setLogLevel(newLevel).\n",
      "22/06/22 16:00:03 WARN NativeCodeLoader: Unable to load native-hadoop library for your platform... using builtin-java classes where applicable\n"
     ]
    }
   ],
   "source": [
    "SparkSession.builder.config('spark.driver.extraClassPath',environ.get('SPARK_JDBC')).getOrCreate()\n",
    "spark = SparkSession.builder.appName('box_score_analysis').getOrCreate()"
   ]
  },
  {
   "cell_type": "code",
   "execution_count": 3,
   "metadata": {},
   "outputs": [],
   "source": [
    "query = 'select players.name as name, A.*  from '\n",
    "query += '(select teams.name as team, box_scores.* from box_scores inner join teams on ' \n",
    "query += 'team_id = id) ' \n",
    "query += 'A inner join players on player_id = id'\n",
    "\n",
    "\n",
    "df = spark.read.format('jdbc').option('url','jdbc:mysql://localhost:3306/nba').\\\n",
    "    option('user',environ.get('USER')).option('password',environ.get('PSWD')).\\\n",
    "    option('query',query).load()"
   ]
  },
  {
   "cell_type": "code",
   "execution_count": 4,
   "metadata": {},
   "outputs": [],
   "source": [
    "df = df.drop('player_id','team_id')"
   ]
  },
  {
   "cell_type": "markdown",
   "metadata": {},
   "source": [
    "Select scoring stats from the original df"
   ]
  },
  {
   "cell_type": "code",
   "execution_count": 170,
   "metadata": {},
   "outputs": [],
   "source": [
    "scoring_stats = ['pts','fgm','fga','pm3','pa3','ftm','fta','ast']\n",
    "identifiers = ['name','team']\n",
    "label = ['result']\n",
    "scoring_df = df[identifiers+label+scoring_stats]"
   ]
  },
  {
   "cell_type": "markdown",
   "metadata": {},
   "source": [
    "Compute some derived scoring stats"
   ]
  },
  {
   "cell_type": "code",
   "execution_count": 171,
   "metadata": {},
   "outputs": [],
   "source": [
    "scoring_df = scoring_df.withColumn('ft%', scoring_df.ftm/scoring_df.fta)\n",
    "scoring_df = scoring_df.withColumn('fg%', scoring_df.fgm/scoring_df.fga)\n",
    "scoring_df = scoring_df.withColumn('3p%', scoring_df.pm3/scoring_df.pa3)\n",
    "scoring_df = scoring_df.withColumn('2p%', \n",
    "            (scoring_df.fgm - scoring_df.pm3)/(scoring_df.fga -scoring_df.pa3))\n",
    "scoring_df = scoring_df.withColumn('eFG%', (scoring_df.fgm + 0.5*scoring_df.pm3)/scoring_df.fga)"
   ]
  },
  {
   "cell_type": "code",
   "execution_count": 172,
   "metadata": {},
   "outputs": [],
   "source": [
    "from pyspark.ml.feature import StringIndexer"
   ]
  },
  {
   "cell_type": "code",
   "execution_count": 173,
   "metadata": {},
   "outputs": [
    {
     "name": "stderr",
     "output_type": "stream",
     "text": [
      "                                                                                \r"
     ]
    }
   ],
   "source": [
    "result_labler = StringIndexer(inputCol='result',outputCol='win',\n",
    "                stringOrderType='alphabetAsc').fit(scoring_df)"
   ]
  },
  {
   "cell_type": "code",
   "execution_count": 174,
   "metadata": {},
   "outputs": [],
   "source": [
    "scoring_df = result_labler.transform(scoring_df)"
   ]
  },
  {
   "cell_type": "code",
   "execution_count": 175,
   "metadata": {},
   "outputs": [
    {
     "name": "stdout",
     "output_type": "stream",
     "text": [
      "root\n",
      " |-- name: string (nullable = true)\n",
      " |-- team: string (nullable = true)\n",
      " |-- result: string (nullable = true)\n",
      " |-- pts: integer (nullable = true)\n",
      " |-- fgm: integer (nullable = true)\n",
      " |-- fga: integer (nullable = true)\n",
      " |-- pm3: integer (nullable = true)\n",
      " |-- pa3: integer (nullable = true)\n",
      " |-- ftm: integer (nullable = true)\n",
      " |-- fta: integer (nullable = true)\n",
      " |-- ast: integer (nullable = true)\n",
      " |-- ft%: double (nullable = true)\n",
      " |-- fg%: double (nullable = true)\n",
      " |-- 3p%: double (nullable = true)\n",
      " |-- 2p%: double (nullable = true)\n",
      " |-- eFG%: double (nullable = true)\n",
      " |-- win: double (nullable = false)\n",
      "\n"
     ]
    }
   ],
   "source": [
    "scoring_df.printSchema()"
   ]
  },
  {
   "cell_type": "markdown",
   "metadata": {},
   "source": [
    "# Exploratory analysis"
   ]
  },
  {
   "cell_type": "code",
   "execution_count": 176,
   "metadata": {},
   "outputs": [
    {
     "name": "stderr",
     "output_type": "stream",
     "text": [
      "                                                                                \r"
     ]
    },
    {
     "data": {
      "text/html": [
       "<div>\n",
       "<style scoped>\n",
       "    .dataframe tbody tr th:only-of-type {\n",
       "        vertical-align: middle;\n",
       "    }\n",
       "\n",
       "    .dataframe tbody tr th {\n",
       "        vertical-align: top;\n",
       "    }\n",
       "\n",
       "    .dataframe thead th {\n",
       "        text-align: right;\n",
       "    }\n",
       "</style>\n",
       "<table border=\"1\" class=\"dataframe\">\n",
       "  <thead>\n",
       "    <tr style=\"text-align: right;\">\n",
       "      <th></th>\n",
       "      <th>pts</th>\n",
       "      <th>fgm</th>\n",
       "      <th>fga</th>\n",
       "      <th>pm3</th>\n",
       "      <th>pa3</th>\n",
       "      <th>ftm</th>\n",
       "      <th>fta</th>\n",
       "      <th>ast</th>\n",
       "      <th>ft%</th>\n",
       "      <th>fg%</th>\n",
       "      <th>3p%</th>\n",
       "      <th>2p%</th>\n",
       "      <th>eFG%</th>\n",
       "      <th>win</th>\n",
       "    </tr>\n",
       "  </thead>\n",
       "  <tbody>\n",
       "    <tr>\n",
       "      <th>count</th>\n",
       "      <td>293686.0000</td>\n",
       "      <td>293686.0000</td>\n",
       "      <td>293686.0000</td>\n",
       "      <td>293686.0000</td>\n",
       "      <td>293686.0000</td>\n",
       "      <td>293686.0000</td>\n",
       "      <td>293686.0000</td>\n",
       "      <td>293686.0000</td>\n",
       "      <td>166381.0000</td>\n",
       "      <td>279167.0000</td>\n",
       "      <td>201886.0000</td>\n",
       "      <td>265440.0000</td>\n",
       "      <td>279167.0000</td>\n",
       "      <td>293686.000</td>\n",
       "    </tr>\n",
       "    <tr>\n",
       "      <th>mean</th>\n",
       "      <td>9.9248</td>\n",
       "      <td>3.6834</td>\n",
       "      <td>8.0747</td>\n",
       "      <td>0.9169</td>\n",
       "      <td>2.5699</td>\n",
       "      <td>1.6410</td>\n",
       "      <td>2.1493</td>\n",
       "      <td>2.1706</td>\n",
       "      <td>0.7519</td>\n",
       "      <td>0.4426</td>\n",
       "      <td>0.3258</td>\n",
       "      <td>0.4904</td>\n",
       "      <td>0.4972</td>\n",
       "      <td>0.501</td>\n",
       "    </tr>\n",
       "    <tr>\n",
       "      <th>std</th>\n",
       "      <td>8.1726</td>\n",
       "      <td>3.0578</td>\n",
       "      <td>5.7130</td>\n",
       "      <td>1.3216</td>\n",
       "      <td>2.7435</td>\n",
       "      <td>2.2736</td>\n",
       "      <td>2.7751</td>\n",
       "      <td>2.5061</td>\n",
       "      <td>0.2868</td>\n",
       "      <td>0.2363</td>\n",
       "      <td>0.3015</td>\n",
       "      <td>0.2813</td>\n",
       "      <td>0.2692</td>\n",
       "      <td>0.500</td>\n",
       "    </tr>\n",
       "    <tr>\n",
       "      <th>min</th>\n",
       "      <td>0.0000</td>\n",
       "      <td>0.0000</td>\n",
       "      <td>0.0000</td>\n",
       "      <td>0.0000</td>\n",
       "      <td>0.0000</td>\n",
       "      <td>0.0000</td>\n",
       "      <td>0.0000</td>\n",
       "      <td>0.0000</td>\n",
       "      <td>0.0000</td>\n",
       "      <td>0.0000</td>\n",
       "      <td>0.0000</td>\n",
       "      <td>0.0000</td>\n",
       "      <td>0.0000</td>\n",
       "      <td>0.000</td>\n",
       "    </tr>\n",
       "    <tr>\n",
       "      <th>25%</th>\n",
       "      <td>4.0000</td>\n",
       "      <td>1.0000</td>\n",
       "      <td>4.0000</td>\n",
       "      <td>0.0000</td>\n",
       "      <td>0.0000</td>\n",
       "      <td>0.0000</td>\n",
       "      <td>0.0000</td>\n",
       "      <td>0.0000</td>\n",
       "      <td>0.5000</td>\n",
       "      <td>0.3158</td>\n",
       "      <td>0.0000</td>\n",
       "      <td>0.3333</td>\n",
       "      <td>0.3333</td>\n",
       "      <td>0.000</td>\n",
       "    </tr>\n",
       "    <tr>\n",
       "      <th>50%</th>\n",
       "      <td>8.0000</td>\n",
       "      <td>3.0000</td>\n",
       "      <td>7.0000</td>\n",
       "      <td>0.0000</td>\n",
       "      <td>2.0000</td>\n",
       "      <td>1.0000</td>\n",
       "      <td>2.0000</td>\n",
       "      <td>1.0000</td>\n",
       "      <td>0.8333</td>\n",
       "      <td>0.4444</td>\n",
       "      <td>0.3333</td>\n",
       "      <td>0.5000</td>\n",
       "      <td>0.5000</td>\n",
       "      <td>1.000</td>\n",
       "    </tr>\n",
       "    <tr>\n",
       "      <th>75%</th>\n",
       "      <td>15.0000</td>\n",
       "      <td>5.0000</td>\n",
       "      <td>11.0000</td>\n",
       "      <td>1.0000</td>\n",
       "      <td>4.0000</td>\n",
       "      <td>2.0000</td>\n",
       "      <td>3.0000</td>\n",
       "      <td>3.0000</td>\n",
       "      <td>1.0000</td>\n",
       "      <td>0.5714</td>\n",
       "      <td>0.5000</td>\n",
       "      <td>0.6667</td>\n",
       "      <td>0.6667</td>\n",
       "      <td>1.000</td>\n",
       "    </tr>\n",
       "    <tr>\n",
       "      <th>max</th>\n",
       "      <td>70.0000</td>\n",
       "      <td>24.0000</td>\n",
       "      <td>50.0000</td>\n",
       "      <td>14.0000</td>\n",
       "      <td>24.0000</td>\n",
       "      <td>26.0000</td>\n",
       "      <td>39.0000</td>\n",
       "      <td>25.0000</td>\n",
       "      <td>1.0000</td>\n",
       "      <td>1.0000</td>\n",
       "      <td>1.0000</td>\n",
       "      <td>1.0000</td>\n",
       "      <td>1.5000</td>\n",
       "      <td>1.000</td>\n",
       "    </tr>\n",
       "  </tbody>\n",
       "</table>\n",
       "</div>"
      ],
      "text/plain": [
       "               pts          fgm          fga          pm3          pa3  \\\n",
       "count  293686.0000  293686.0000  293686.0000  293686.0000  293686.0000   \n",
       "mean        9.9248       3.6834       8.0747       0.9169       2.5699   \n",
       "std         8.1726       3.0578       5.7130       1.3216       2.7435   \n",
       "min         0.0000       0.0000       0.0000       0.0000       0.0000   \n",
       "25%         4.0000       1.0000       4.0000       0.0000       0.0000   \n",
       "50%         8.0000       3.0000       7.0000       0.0000       2.0000   \n",
       "75%        15.0000       5.0000      11.0000       1.0000       4.0000   \n",
       "max        70.0000      24.0000      50.0000      14.0000      24.0000   \n",
       "\n",
       "               ftm          fta          ast          ft%          fg%  \\\n",
       "count  293686.0000  293686.0000  293686.0000  166381.0000  279167.0000   \n",
       "mean        1.6410       2.1493       2.1706       0.7519       0.4426   \n",
       "std         2.2736       2.7751       2.5061       0.2868       0.2363   \n",
       "min         0.0000       0.0000       0.0000       0.0000       0.0000   \n",
       "25%         0.0000       0.0000       0.0000       0.5000       0.3158   \n",
       "50%         1.0000       2.0000       1.0000       0.8333       0.4444   \n",
       "75%         2.0000       3.0000       3.0000       1.0000       0.5714   \n",
       "max        26.0000      39.0000      25.0000       1.0000       1.0000   \n",
       "\n",
       "               3p%          2p%         eFG%         win  \n",
       "count  201886.0000  265440.0000  279167.0000  293686.000  \n",
       "mean        0.3258       0.4904       0.4972       0.501  \n",
       "std         0.3015       0.2813       0.2692       0.500  \n",
       "min         0.0000       0.0000       0.0000       0.000  \n",
       "25%         0.0000       0.3333       0.3333       0.000  \n",
       "50%         0.3333       0.5000       0.5000       1.000  \n",
       "75%         0.5000       0.6667       0.6667       1.000  \n",
       "max         1.0000       1.0000       1.5000       1.000  "
      ]
     },
     "execution_count": 176,
     "metadata": {},
     "output_type": "execute_result"
    }
   ],
   "source": [
    "scoring_df[scoring_df.columns[3:]].toPandas().describe().round(4)"
   ]
  },
  {
   "cell_type": "markdown",
   "metadata": {},
   "source": [
    "Summary statistics show:\n",
    "- Teams have the same number of players\n",
    "    - Because wins make up 50% of all records and only one team can win\n",
    "    - There do not appear to be 'streamlined' teams in the NBA\n",
    "    - Balanced class labels for wins/results, meaning downstream classification tasks do not need make extra considerations for unbalanced classes\n",
    "- The average player contributes to points mostly through 2pt shots. (FGM and FGA mean and 50th percentile are comparable). They also contribute through free throws, making about one a game.\n",
    "    - The average player takes few 3 pt shots and hardly makes any\n",
    "- It seems that the average player takes about 2 3pt shots a game but most made threes are made by specialised/specialist players. This shows a skewness in 3PM that may need a log transform.\n",
    "- Expected value of a 3pt shot is $3\\times0.33 \\approx$ 1. Expected value of a 2pt shot is $2\\times0.49 \\approx$ 1. Expected value of a free throw is $1\\times0.75 = 0.75$\n",
    "- There is also a slight skew in assists, that may indicate teams tend to rely on playmakers to make that final pass"
   ]
  },
  {
   "cell_type": "code",
   "execution_count": null,
   "metadata": {},
   "outputs": [],
   "source": []
  },
  {
   "cell_type": "markdown",
   "metadata": {},
   "source": [
    "It is possible that there will be null values as a result of zero division (not attempting to shoot). Effectively, if a player does not attempt a shot, their percentage is 0. The percentages should be used together with the attempts to distinguish between players who attempted but did not make a shot and others who did not attempt at all."
   ]
  },
  {
   "cell_type": "code",
   "execution_count": 177,
   "metadata": {},
   "outputs": [],
   "source": [
    "percentage_cols = [i for i in scoring_df.columns if '%' in i]\n",
    "scoring_df = scoring_df.fillna(0,percentage_cols)"
   ]
  },
  {
   "cell_type": "markdown",
   "metadata": {},
   "source": [
    "To further the exploratory analysis, I will attempt clustering to see what type of scorers exist in the NBA.\n",
    "\n",
    "I employ k-means clustering, with $k=5$.\n",
    "\n",
    "All columns will be scaled to range [0,1]. Percentage columns (with the exception of eFG% which is [0,1.5]) already follow this. This will prove useful for any clustering measures because feature vectors will be unit vectors and reduces the chances of the distance functions becoming intractible."
   ]
  },
  {
   "cell_type": "code",
   "execution_count": 179,
   "metadata": {},
   "outputs": [],
   "source": [
    "features = scoring_df.columns[3:-1]\n",
    "to_scale = [i for i in features if  ('%' not in i) or i=='eFG%']\n",
    "keep = [i for i in features if i not in to_scale]"
   ]
  },
  {
   "cell_type": "markdown",
   "metadata": {},
   "source": [
    "Transformation stage"
   ]
  },
  {
   "cell_type": "code",
   "execution_count": 181,
   "metadata": {},
   "outputs": [],
   "source": [
    "from pyspark.ml.feature import MinMaxScaler, VectorAssembler\n",
    "\n",
    "scale_assembler = VectorAssembler(inputCols=to_scale,outputCol='to_scale_features')\n",
    "scoring_df = scale_assembler.transform(scoring_df)\n",
    "\n",
    "keep_assembler = VectorAssembler(inputCols=keep,outputCol='unscaled_features')\n",
    "scoring_df = keep_assembler.transform(scoring_df)\n",
    "\n"
   ]
  },
  {
   "cell_type": "code",
   "execution_count": 182,
   "metadata": {},
   "outputs": [
    {
     "name": "stderr",
     "output_type": "stream",
     "text": [
      "                                                                                \r"
     ]
    }
   ],
   "source": [
    "mm_scaler = MinMaxScaler(inputCol= 'to_scale_features', outputCol='scaled_features')\n",
    "scaler = mm_scaler.fit(scoring_df)\n",
    "\n",
    "scoring_df = scaler.transform(scoring_df)"
   ]
  },
  {
   "cell_type": "code",
   "execution_count": 183,
   "metadata": {},
   "outputs": [],
   "source": [
    "assembler = VectorAssembler(inputCols=['scaled_features','unscaled_features'],outputCol = 'features')\n",
    "\n",
    "scoring_df = assembler.transform(scoring_df)"
   ]
  },
  {
   "cell_type": "markdown",
   "metadata": {},
   "source": [
    "With the features now ready, It is now possible to perform clustering. I will use K-Means with $2 <= k<= 13$ and select the best model with the elbow method after plotting the intracluster distance (or training cost) with respect to k."
   ]
  },
  {
   "cell_type": "code",
   "execution_count": 184,
   "metadata": {},
   "outputs": [],
   "source": [
    "from pyspark.ml.clustering import KMeans"
   ]
  },
  {
   "cell_type": "markdown",
   "metadata": {},
   "source": [
    "Fitting the models"
   ]
  },
  {
   "cell_type": "code",
   "execution_count": 186,
   "metadata": {},
   "outputs": [
    {
     "name": "stderr",
     "output_type": "stream",
     "text": [
      "                                                                                \r"
     ]
    }
   ],
   "source": [
    "errors = []\n",
    "models ={}\n",
    "for k in range(2,14):\n",
    "    kmeans = KMeans(featuresCol='features', k=k)\n",
    "    model = kmeans.fit(scoring_df)\n",
    "    models['k_'+str(k)] = model\n",
    "    errors.append(model.summary.trainingCost)\n",
    "    key = 'k_'+str(k)\n",
    "    model_path =  \"./kmeans_model_\"+key\n",
    "    model.save(model_path)\n",
    "    # intra_distance =model.computeCost(scoring_df)\n",
    "    # errors.append(intra_distance)"
   ]
  },
  {
   "cell_type": "markdown",
   "metadata": {},
   "source": [
    "Plotting the results of training."
   ]
  },
  {
   "cell_type": "code",
   "execution_count": 187,
   "metadata": {},
   "outputs": [
    {
     "data": {
      "image/png": "[encoded data removed]",
      "text/plain": [
       "<Figure size 432x288 with 1 Axes>"
      ]
     },
     "metadata": {
      "needs_background": "light"
     },
     "output_type": "display_data"
    }
   ],
   "source": [
    "import matplotlib.pyplot as plt\n",
    "cluster_number = range(2,14)\n",
    "plt.xlabel('Number of clusters')\n",
    "plt.ylabel('Intra-cluster distance')\n",
    "plt.scatter(cluster_number,errors)\n",
    "plt.show()"
   ]
  },
  {
   "cell_type": "markdown",
   "metadata": {},
   "source": [
    "It appears that 7 clusters performs well enough"
   ]
  },
  {
   "cell_type": "code",
   "execution_count": 217,
   "metadata": {},
   "outputs": [
    {
     "name": "stderr",
     "output_type": "stream",
     "text": [
      "/home/blunt/.local/lib/python3.9/site-packages/pyspark/sql/context.py:125: FutureWarning: Deprecated in 3.0.0. Use SparkSession.builder.getOrCreate() instead.\n",
      "  warnings.warn(\n"
     ]
    }
   ],
   "source": [
    "preds = models['k_7'].summary.predictions\n",
    "# from pyspark.ml.clustering import KMeansModel\n",
    "    \n",
    "\n",
    "# model2 = KMeansModel.load(model_path)\n",
    "# model2.hasSummary"
   ]
  },
  {
   "cell_type": "markdown",
   "metadata": {},
   "source": [
    "A pivot table can now be made to count the wins and losses in each cluster and then calculate the win percentage within each cluster to see if there are any clusters that tend to have more winners."
   ]
  },
  {
   "cell_type": "code",
   "execution_count": 219,
   "metadata": {},
   "outputs": [
    {
     "name": "stderr",
     "output_type": "stream",
     "text": [
      "[Stage 1467:>                                                       (0 + 1) / 1]\r"
     ]
    },
    {
     "name": "stdout",
     "output_type": "stream",
     "text": [
      "+----------+-----+-----+-------------------+\n",
      "|prediction|    L|    W|               win%|\n",
      "+----------+-----+-----+-------------------+\n",
      "|         1|29731|26479| 0.4710727628535848|\n",
      "|         6|17599|20100| 0.5331706411310645|\n",
      "|         3| 9953|12531| 0.5573296566447251|\n",
      "|         5|26707|26131|0.49454937734206444|\n",
      "|         4|25238|22578| 0.4721850426635436|\n",
      "|         2|21600|27855| 0.5632393084622384|\n",
      "|         0|15707|11477|0.42219688051795173|\n",
      "+----------+-----+-----+-------------------+\n",
      "\n"
     ]
    },
    {
     "name": "stderr",
     "output_type": "stream",
     "text": [
      "                                                                                \r"
     ]
    }
   ],
   "source": [
    "pivot_table = preds.groupBy('prediction').pivot('result').count()\n",
    "pivot_table.withColumn('win%',pivot_table.W/(pivot_table.L+pivot_table.W)).\\\n",
    "    show()"
   ]
  },
  {
   "cell_type": "markdown",
   "metadata": {},
   "source": [
    "There does not appear to be a cluster or groups of clusters that contain players who consistently win.\n",
    "\n",
    "It is possible to further analyse these clusters by checking if there are particular clusters that contain certain teams, describe the scoring statistics within these clusters, etc."
   ]
  },
  {
   "cell_type": "code",
   "execution_count": 224,
   "metadata": {},
   "outputs": [],
   "source": [
    "players = preds.select('name','team',*preds.columns[3:16],'prediction')"
   ]
  },
  {
   "cell_type": "code",
   "execution_count": 231,
   "metadata": {},
   "outputs": [
    {
     "name": "stderr",
     "output_type": "stream",
     "text": [
      "                                                                                \r"
     ]
    }
   ],
   "source": [
    "p_df = players.groupBy('prediction').avg().orderBy('prediction').toPandas()"
   ]
  },
  {
   "cell_type": "code",
   "execution_count": 232,
   "metadata": {},
   "outputs": [
    {
     "data": {
      "text/html": [
       "<div>\n",
       "<style scoped>\n",
       "    .dataframe tbody tr th:only-of-type {\n",
       "        vertical-align: middle;\n",
       "    }\n",
       "\n",
       "    .dataframe tbody tr th {\n",
       "        vertical-align: top;\n",
       "    }\n",
       "\n",
       "    .dataframe thead th {\n",
       "        text-align: right;\n",
       "    }\n",
       "</style>\n",
       "<table border=\"1\" class=\"dataframe\">\n",
       "  <thead>\n",
       "    <tr style=\"text-align: right;\">\n",
       "      <th></th>\n",
       "      <th>prediction</th>\n",
       "      <th>avg(pts)</th>\n",
       "      <th>avg(fgm)</th>\n",
       "      <th>avg(fga)</th>\n",
       "      <th>avg(pm3)</th>\n",
       "      <th>avg(pa3)</th>\n",
       "      <th>avg(ftm)</th>\n",
       "      <th>avg(fta)</th>\n",
       "      <th>avg(ast)</th>\n",
       "      <th>avg(ft%)</th>\n",
       "      <th>avg(fg%)</th>\n",
       "      <th>avg(3p%)</th>\n",
       "      <th>avg(2p%)</th>\n",
       "      <th>avg(eFG%)</th>\n",
       "      <th>avg(prediction)</th>\n",
       "    </tr>\n",
       "  </thead>\n",
       "  <tbody>\n",
       "    <tr>\n",
       "      <th>0</th>\n",
       "      <td>0</td>\n",
       "      <td>6.832291</td>\n",
       "      <td>1.756585</td>\n",
       "      <td>7.514751</td>\n",
       "      <td>0.640377</td>\n",
       "      <td>2.781158</td>\n",
       "      <td>2.678745</td>\n",
       "      <td>3.128715</td>\n",
       "      <td>2.257983</td>\n",
       "      <td>0.876686</td>\n",
       "      <td>0.209762</td>\n",
       "      <td>0.151808</td>\n",
       "      <td>0.186901</td>\n",
       "      <td>0.249513</td>\n",
       "      <td>0.0</td>\n",
       "    </tr>\n",
       "    <tr>\n",
       "      <th>1</th>\n",
       "      <td>1</td>\n",
       "      <td>1.241701</td>\n",
       "      <td>0.507419</td>\n",
       "      <td>3.131453</td>\n",
       "      <td>0.150525</td>\n",
       "      <td>1.176855</td>\n",
       "      <td>0.076339</td>\n",
       "      <td>0.242982</td>\n",
       "      <td>0.991550</td>\n",
       "      <td>0.030180</td>\n",
       "      <td>0.081508</td>\n",
       "      <td>0.038623</td>\n",
       "      <td>0.073538</td>\n",
       "      <td>0.093922</td>\n",
       "      <td>1.0</td>\n",
       "    </tr>\n",
       "    <tr>\n",
       "      <th>2</th>\n",
       "      <td>2</td>\n",
       "      <td>20.426469</td>\n",
       "      <td>7.040906</td>\n",
       "      <td>13.667374</td>\n",
       "      <td>2.599414</td>\n",
       "      <td>5.247518</td>\n",
       "      <td>3.745243</td>\n",
       "      <td>4.447154</td>\n",
       "      <td>3.710929</td>\n",
       "      <td>0.861644</td>\n",
       "      <td>0.531890</td>\n",
       "      <td>0.552274</td>\n",
       "      <td>0.527146</td>\n",
       "      <td>0.639005</td>\n",
       "      <td>2.0</td>\n",
       "    </tr>\n",
       "    <tr>\n",
       "      <th>3</th>\n",
       "      <td>3</td>\n",
       "      <td>12.183286</td>\n",
       "      <td>4.687066</td>\n",
       "      <td>6.806173</td>\n",
       "      <td>0.247420</td>\n",
       "      <td>1.136942</td>\n",
       "      <td>2.561733</td>\n",
       "      <td>3.389922</td>\n",
       "      <td>1.694405</td>\n",
       "      <td>0.789833</td>\n",
       "      <td>0.712695</td>\n",
       "      <td>0.067586</td>\n",
       "      <td>0.837062</td>\n",
       "      <td>0.731260</td>\n",
       "      <td>3.0</td>\n",
       "    </tr>\n",
       "    <tr>\n",
       "      <th>4</th>\n",
       "      <td>4</td>\n",
       "      <td>13.081249</td>\n",
       "      <td>4.779593</td>\n",
       "      <td>11.011523</td>\n",
       "      <td>0.276895</td>\n",
       "      <td>2.096892</td>\n",
       "      <td>3.245169</td>\n",
       "      <td>4.242157</td>\n",
       "      <td>2.815041</td>\n",
       "      <td>0.776906</td>\n",
       "      <td>0.434698</td>\n",
       "      <td>0.058552</td>\n",
       "      <td>0.515656</td>\n",
       "      <td>0.446767</td>\n",
       "      <td>4.0</td>\n",
       "    </tr>\n",
       "    <tr>\n",
       "      <th>5</th>\n",
       "      <td>5</td>\n",
       "      <td>6.745713</td>\n",
       "      <td>3.199005</td>\n",
       "      <td>6.240603</td>\n",
       "      <td>0.290605</td>\n",
       "      <td>1.574662</td>\n",
       "      <td>0.057099</td>\n",
       "      <td>0.382357</td>\n",
       "      <td>1.589689</td>\n",
       "      <td>0.013323</td>\n",
       "      <td>0.563573</td>\n",
       "      <td>0.067956</td>\n",
       "      <td>0.699546</td>\n",
       "      <td>0.582741</td>\n",
       "      <td>5.0</td>\n",
       "    </tr>\n",
       "    <tr>\n",
       "      <th>6</th>\n",
       "      <td>6</td>\n",
       "      <td>10.429905</td>\n",
       "      <td>4.093928</td>\n",
       "      <td>8.114671</td>\n",
       "      <td>2.140932</td>\n",
       "      <td>3.831348</td>\n",
       "      <td>0.101117</td>\n",
       "      <td>0.353192</td>\n",
       "      <td>2.125892</td>\n",
       "      <td>0.036011</td>\n",
       "      <td>0.540511</td>\n",
       "      <td>0.643502</td>\n",
       "      <td>0.383267</td>\n",
       "      <td>0.703947</td>\n",
       "      <td>6.0</td>\n",
       "    </tr>\n",
       "  </tbody>\n",
       "</table>\n",
       "</div>"
      ],
      "text/plain": [
       "   prediction   avg(pts)  avg(fgm)   avg(fga)  avg(pm3)  avg(pa3)  avg(ftm)  \\\n",
       "0           0   6.832291  1.756585   7.514751  0.640377  2.781158  2.678745   \n",
       "1           1   1.241701  0.507419   3.131453  0.150525  1.176855  0.076339   \n",
       "2           2  20.426469  7.040906  13.667374  2.599414  5.247518  3.745243   \n",
       "3           3  12.183286  4.687066   6.806173  0.247420  1.136942  2.561733   \n",
       "4           4  13.081249  4.779593  11.011523  0.276895  2.096892  3.245169   \n",
       "5           5   6.745713  3.199005   6.240603  0.290605  1.574662  0.057099   \n",
       "6           6  10.429905  4.093928   8.114671  2.140932  3.831348  0.101117   \n",
       "\n",
       "   avg(fta)  avg(ast)  avg(ft%)  avg(fg%)  avg(3p%)  avg(2p%)  avg(eFG%)  \\\n",
       "0  3.128715  2.257983  0.876686  0.209762  0.151808  0.186901   0.249513   \n",
       "1  0.242982  0.991550  0.030180  0.081508  0.038623  0.073538   0.093922   \n",
       "2  4.447154  3.710929  0.861644  0.531890  0.552274  0.527146   0.639005   \n",
       "3  3.389922  1.694405  0.789833  0.712695  0.067586  0.837062   0.731260   \n",
       "4  4.242157  2.815041  0.776906  0.434698  0.058552  0.515656   0.446767   \n",
       "5  0.382357  1.589689  0.013323  0.563573  0.067956  0.699546   0.582741   \n",
       "6  0.353192  2.125892  0.036011  0.540511  0.643502  0.383267   0.703947   \n",
       "\n",
       "   avg(prediction)  \n",
       "0              0.0  \n",
       "1              1.0  \n",
       "2              2.0  \n",
       "3              3.0  \n",
       "4              4.0  \n",
       "5              5.0  \n",
       "6              6.0  "
      ]
     },
     "execution_count": 232,
     "metadata": {},
     "output_type": "execute_result"
    }
   ],
   "source": [
    "p_df"
   ]
  },
  {
   "cell_type": "code",
   "execution_count": 234,
   "metadata": {},
   "outputs": [
    {
     "name": "stderr",
     "output_type": "stream",
     "text": [
      "                                                                                \r"
     ]
    }
   ],
   "source": [
    "top_scorers = preds.select('name','team',*preds.columns[3:16],'prediction').\\\n",
    "    filter(preds['prediction']==2).toPandas()#.show()"
   ]
  },
  {
   "cell_type": "code",
   "execution_count": 242,
   "metadata": {},
   "outputs": [
    {
     "data": {
      "text/plain": [
       "name\n",
       "Zoran Dragic        1\n",
       "Earl Watson         1\n",
       "Elijah Hughes       1\n",
       "Gigi Datome         1\n",
       "Gilbert Arenas      1\n",
       "                 ... \n",
       "Damian Lillard    523\n",
       "LeBron James      563\n",
       "Kevin Durant      570\n",
       "Stephen Curry     609\n",
       "James Harden      669\n",
       "Length: 994, dtype: int64"
      ]
     },
     "execution_count": 242,
     "metadata": {},
     "output_type": "execute_result"
    }
   ],
   "source": [
    "top_scorers.value_counts('name').sort_values()"
   ]
  },
  {
   "cell_type": "code",
   "execution_count": 246,
   "metadata": {},
   "outputs": [
    {
     "data": {
      "text/plain": [
       "name                   team\n",
       "Jayson Tatum           BOS     0.004792\n",
       "Carmelo Anthony        NYK     0.004853\n",
       "Donovan Mitchell       UTA     0.005015\n",
       "Kyrie Irving           CLE     0.005156\n",
       "Giannis Antetokounmpo  MIL     0.005237\n",
       "Nikola Jokic           DEN     0.005257\n",
       "Mike Conley            MEM     0.005257\n",
       "Karl-Anthony Towns     MIN     0.005803\n",
       "Devin Booker           PHX     0.005844\n",
       "CJ McCollum            POR     0.006046\n",
       "Kevin Durant           OKC     0.006147\n",
       "Kemba Walker           CHA     0.006471\n",
       "Khris Middleton        MIL     0.006632\n",
       "Russell Westbrook      OKC     0.007057\n",
       "Klay Thompson          GSW     0.007138\n",
       "Kyle Lowry             TOR     0.007482\n",
       "Bradley Beal           WAS     0.007886\n",
       "Damian Lillard         POR     0.010575\n",
       "James Harden           HOU     0.011101\n",
       "Stephen Curry          GSW     0.012314\n",
       "dtype: float64"
      ]
     },
     "execution_count": 246,
     "metadata": {},
     "output_type": "execute_result"
    }
   ],
   "source": [
    "top_scorers.value_counts(['name','team'],normalize=True).sort_values().tail(20)"
   ]
  },
  {
   "cell_type": "code",
   "execution_count": null,
   "metadata": {},
   "outputs": [],
   "source": [
    "# ALS MODEL. DO RESEARCH ON IT!"
   ]
  }
 ],
 "metadata": {
  "interpreter": {
   "hash": "767d51c1340bd893661ea55ea3124f6de3c7a262a8b4abca0554b478b1e2ff90"
  },
  "kernelspec": {
   "display_name": "Python 3.9.2 64-bit",
   "language": "python",
   "name": "python3"
  },
  "language_info": {
   "codemirror_mode": {
    "name": "ipython",
    "version": 3
   },
   "file_extension": ".py",
   "mimetype": "text/x-python",
   "name": "python",
   "nbconvert_exporter": "python",
   "pygments_lexer": "ipython3",
   "version": "3.9.2"
  },
  "orig_nbformat": 4
 },
 "nbformat": 4,
 "nbformat_minor": 2
}
