{
 "cells": [
  {
   "cell_type": "code",
   "execution_count": 1,
   "metadata": {},
   "outputs": [],
   "source": [
    "from pyspark.sql import SparkSession\n",
    "from os import environ"
   ]
  },
  {
   "cell_type": "code",
   "execution_count": 2,
   "metadata": {},
   "outputs": [
    {
     "name": "stderr",
     "output_type": "stream",
     "text": [
      "22/07/22 10:46:32 WARN Utils: Your hostname, rpi3 resolves to a loopback address: 127.0.1.1; using 172.25.14.38 instead (on interface wlan0)\n",
      "22/07/22 10:46:32 WARN Utils: Set SPARK_LOCAL_IP if you need to bind to another address\n",
      "WARNING: An illegal reflective access operation has occurred\n",
      "WARNING: Illegal reflective access by org.apache.spark.unsafe.Platform (file:/home/blunt/.local/lib/python3.9/site-packages/pyspark/jars/spark-unsafe_2.12-3.2.1.jar) to constructor java.nio.DirectByteBuffer(long,int)\n",
      "WARNING: Please consider reporting this to the maintainers of org.apache.spark.unsafe.Platform\n",
      "WARNING: Use --illegal-access=warn to enable warnings of further illegal reflective access operations\n",
      "WARNING: All illegal access operations will be denied in a future release\n",
      "Using Spark's default log4j profile: org/apache/spark/log4j-defaults.properties\n",
      "Setting default log level to \"WARN\".\n",
      "To adjust logging level use sc.setLogLevel(newLevel). For SparkR, use setLogLevel(newLevel).\n",
      "22/07/22 10:46:37 WARN NativeCodeLoader: Unable to load native-hadoop library for your platform... using builtin-java classes where applicable\n"
     ]
    }
   ],
   "source": [
    "spark = SparkSession.builder.appName('box_score_analysis').master('local[*]').getOrCreate()"
   ]
  },
  {
   "cell_type": "code",
   "execution_count": 3,
   "metadata": {},
   "outputs": [],
   "source": [
    "query = 'select players.name as name, A.*  from '\n",
    "query += '(select teams.name as team, box_scores.* from box_scores inner join teams on ' \n",
    "query += 'team_id = id) ' \n",
    "query += 'A inner join players on player_id = id'\n",
    "\n",
    "\n",
    "df = spark.read.format('jdbc').option('url','jdbc:mysql://localhost:3306/nba').\\\n",
    "    option('user',environ.get('USER')).option('password',environ.get('PSWD')).\\\n",
    "    option('query',query).load()"
   ]
  },
  {
   "cell_type": "code",
   "execution_count": 4,
   "metadata": {},
   "outputs": [],
   "source": [
    "df = df.drop('player_id','team_id')"
   ]
  },
  {
   "cell_type": "code",
   "execution_count": null,
   "metadata": {},
   "outputs": [],
   "source": []
  },
  {
   "cell_type": "markdown",
   "metadata": {},
   "source": [
    "I have data on games from the 2011-12 to the 2021-22 NBA season. The data is on the regular and post season. "
   ]
  },
  {
   "cell_type": "code",
   "execution_count": 5,
   "metadata": {},
   "outputs": [
    {
     "name": "stderr",
     "output_type": "stream",
     "text": [
      "                                                                                \r"
     ]
    },
    {
     "name": "stdout",
     "output_type": "stream",
     "text": [
      "+-------------+-----------+\n",
      "|earliest_game|latest_game|\n",
      "+-------------+-----------+\n",
      "|   2011-12-25| 2022-06-16|\n",
      "+-------------+-----------+\n",
      "\n"
     ]
    }
   ],
   "source": [
    "import pyspark.sql.functions as F\n",
    "df.select(F.min('game_day').alias('earliest_game'),F.max('game_day').alias('latest_game')).show()"
   ]
  },
  {
   "cell_type": "markdown",
   "metadata": {},
   "source": [
    "Select scoring and assist stats from the original df"
   ]
  },
  {
   "cell_type": "code",
   "execution_count": 6,
   "metadata": {},
   "outputs": [],
   "source": [
    "scoring_stats = ['pts','fgm','fga','pm3','pa3','ftm','fta','ast']\n",
    "identifiers = ['name','team', 'game_day']\n",
    "label = ['result']\n",
    "cols = identifiers+label+scoring_stats\n",
    "scoring_df = df.select(*cols)"
   ]
  },
  {
   "cell_type": "markdown",
   "metadata": {},
   "source": [
    "Compute some derived scoring stats"
   ]
  },
  {
   "cell_type": "code",
   "execution_count": 7,
   "metadata": {},
   "outputs": [],
   "source": [
    "scoring_df = scoring_df.withColumn('ft%', scoring_df['ftm']/scoring_df['fta'])\n",
    "scoring_df = scoring_df.withColumn('fg%', scoring_df['fgm']/scoring_df['fga'])\n",
    "scoring_df = scoring_df.withColumn('3p%', scoring_df['pm3']/scoring_df['pa3'])\n",
    "scoring_df = scoring_df.withColumn('2p%', \n",
    "            (scoring_df['fgm'] - scoring_df['pm3'])/(scoring_df['fga'] -scoring_df['pa3']))\n",
    "scoring_df = scoring_df.withColumn('eFG%', (scoring_df['fgm'] + 0.5*scoring_df['pm3'])/scoring_df['fga'])"
   ]
  },
  {
   "cell_type": "code",
   "execution_count": 8,
   "metadata": {},
   "outputs": [],
   "source": [
    "from pyspark.ml.feature import StringIndexer"
   ]
  },
  {
   "cell_type": "markdown",
   "metadata": {},
   "source": [
    "Let's transform the result column in the following manner\n",
    "\n",
    "$result \\subset \\{win, loss\\}$  ==> $win \\subset \\{1,0\\}$\n",
    "\n",
    "Wins are transformed to 1 and losses are transformed to 0. "
   ]
  },
  {
   "cell_type": "code",
   "execution_count": 9,
   "metadata": {},
   "outputs": [
    {
     "name": "stderr",
     "output_type": "stream",
     "text": [
      "                                                                                \r"
     ]
    }
   ],
   "source": [
    "result_labler = StringIndexer(inputCol='result',outputCol='win',\n",
    "                stringOrderType='alphabetAsc').fit(scoring_df)"
   ]
  },
  {
   "cell_type": "code",
   "execution_count": 10,
   "metadata": {},
   "outputs": [],
   "source": [
    "scoring_df = result_labler.transform(scoring_df)"
   ]
  },
  {
   "cell_type": "code",
   "execution_count": 11,
   "metadata": {},
   "outputs": [
    {
     "name": "stdout",
     "output_type": "stream",
     "text": [
      "root\n",
      " |-- name: string (nullable = true)\n",
      " |-- team: string (nullable = true)\n",
      " |-- game_day: date (nullable = true)\n",
      " |-- result: string (nullable = true)\n",
      " |-- pts: integer (nullable = true)\n",
      " |-- fgm: integer (nullable = true)\n",
      " |-- fga: integer (nullable = true)\n",
      " |-- pm3: integer (nullable = true)\n",
      " |-- pa3: integer (nullable = true)\n",
      " |-- ftm: integer (nullable = true)\n",
      " |-- fta: integer (nullable = true)\n",
      " |-- ast: integer (nullable = true)\n",
      " |-- ft%: double (nullable = true)\n",
      " |-- fg%: double (nullable = true)\n",
      " |-- 3p%: double (nullable = true)\n",
      " |-- 2p%: double (nullable = true)\n",
      " |-- eFG%: double (nullable = true)\n",
      " |-- win: double (nullable = false)\n",
      "\n"
     ]
    }
   ],
   "source": [
    "scoring_df.printSchema()"
   ]
  },
  {
   "cell_type": "markdown",
   "metadata": {},
   "source": [
    "# Exploratory analysis\n",
    "\n",
    "Let's start with some descriptive statistics of the scoring stats."
   ]
  },
  {
   "cell_type": "code",
   "execution_count": 12,
   "metadata": {},
   "outputs": [
    {
     "name": "stderr",
     "output_type": "stream",
     "text": [
      "                                                                                \r"
     ]
    },
    {
     "data": {
      "text/html": [
       "<div>\n",
       "<style scoped>\n",
       "    .dataframe tbody tr th:only-of-type {\n",
       "        vertical-align: middle;\n",
       "    }\n",
       "\n",
       "    .dataframe tbody tr th {\n",
       "        vertical-align: top;\n",
       "    }\n",
       "\n",
       "    .dataframe thead th {\n",
       "        text-align: right;\n",
       "    }\n",
       "</style>\n",
       "<table border=\"1\" class=\"dataframe\">\n",
       "  <thead>\n",
       "    <tr style=\"text-align: right;\">\n",
       "      <th></th>\n",
       "      <th>pts</th>\n",
       "      <th>fgm</th>\n",
       "      <th>fga</th>\n",
       "      <th>pm3</th>\n",
       "      <th>pa3</th>\n",
       "      <th>ftm</th>\n",
       "      <th>fta</th>\n",
       "      <th>ast</th>\n",
       "      <th>ft%</th>\n",
       "      <th>fg%</th>\n",
       "      <th>3p%</th>\n",
       "      <th>2p%</th>\n",
       "      <th>eFG%</th>\n",
       "      <th>win</th>\n",
       "    </tr>\n",
       "  </thead>\n",
       "  <tbody>\n",
       "    <tr>\n",
       "      <th>count</th>\n",
       "      <td>293686.0000</td>\n",
       "      <td>293686.0000</td>\n",
       "      <td>293686.0000</td>\n",
       "      <td>293686.0000</td>\n",
       "      <td>293686.0000</td>\n",
       "      <td>293686.0000</td>\n",
       "      <td>293686.0000</td>\n",
       "      <td>293686.0000</td>\n",
       "      <td>166381.0000</td>\n",
       "      <td>279167.0000</td>\n",
       "      <td>201886.0000</td>\n",
       "      <td>265440.0000</td>\n",
       "      <td>279167.0000</td>\n",
       "      <td>293686.000</td>\n",
       "    </tr>\n",
       "    <tr>\n",
       "      <th>mean</th>\n",
       "      <td>9.9248</td>\n",
       "      <td>3.6834</td>\n",
       "      <td>8.0747</td>\n",
       "      <td>0.9169</td>\n",
       "      <td>2.5699</td>\n",
       "      <td>1.6410</td>\n",
       "      <td>2.1493</td>\n",
       "      <td>2.1706</td>\n",
       "      <td>0.7519</td>\n",
       "      <td>0.4426</td>\n",
       "      <td>0.3258</td>\n",
       "      <td>0.4904</td>\n",
       "      <td>0.4972</td>\n",
       "      <td>0.501</td>\n",
       "    </tr>\n",
       "    <tr>\n",
       "      <th>std</th>\n",
       "      <td>8.1726</td>\n",
       "      <td>3.0578</td>\n",
       "      <td>5.7130</td>\n",
       "      <td>1.3216</td>\n",
       "      <td>2.7435</td>\n",
       "      <td>2.2736</td>\n",
       "      <td>2.7751</td>\n",
       "      <td>2.5061</td>\n",
       "      <td>0.2868</td>\n",
       "      <td>0.2363</td>\n",
       "      <td>0.3015</td>\n",
       "      <td>0.2813</td>\n",
       "      <td>0.2692</td>\n",
       "      <td>0.500</td>\n",
       "    </tr>\n",
       "    <tr>\n",
       "      <th>min</th>\n",
       "      <td>0.0000</td>\n",
       "      <td>0.0000</td>\n",
       "      <td>0.0000</td>\n",
       "      <td>0.0000</td>\n",
       "      <td>0.0000</td>\n",
       "      <td>0.0000</td>\n",
       "      <td>0.0000</td>\n",
       "      <td>0.0000</td>\n",
       "      <td>0.0000</td>\n",
       "      <td>0.0000</td>\n",
       "      <td>0.0000</td>\n",
       "      <td>0.0000</td>\n",
       "      <td>0.0000</td>\n",
       "      <td>0.000</td>\n",
       "    </tr>\n",
       "    <tr>\n",
       "      <th>25%</th>\n",
       "      <td>4.0000</td>\n",
       "      <td>1.0000</td>\n",
       "      <td>4.0000</td>\n",
       "      <td>0.0000</td>\n",
       "      <td>0.0000</td>\n",
       "      <td>0.0000</td>\n",
       "      <td>0.0000</td>\n",
       "      <td>0.0000</td>\n",
       "      <td>0.5000</td>\n",
       "      <td>0.3158</td>\n",
       "      <td>0.0000</td>\n",
       "      <td>0.3333</td>\n",
       "      <td>0.3333</td>\n",
       "      <td>0.000</td>\n",
       "    </tr>\n",
       "    <tr>\n",
       "      <th>50%</th>\n",
       "      <td>8.0000</td>\n",
       "      <td>3.0000</td>\n",
       "      <td>7.0000</td>\n",
       "      <td>0.0000</td>\n",
       "      <td>2.0000</td>\n",
       "      <td>1.0000</td>\n",
       "      <td>2.0000</td>\n",
       "      <td>1.0000</td>\n",
       "      <td>0.8333</td>\n",
       "      <td>0.4444</td>\n",
       "      <td>0.3333</td>\n",
       "      <td>0.5000</td>\n",
       "      <td>0.5000</td>\n",
       "      <td>1.000</td>\n",
       "    </tr>\n",
       "    <tr>\n",
       "      <th>75%</th>\n",
       "      <td>15.0000</td>\n",
       "      <td>5.0000</td>\n",
       "      <td>11.0000</td>\n",
       "      <td>1.0000</td>\n",
       "      <td>4.0000</td>\n",
       "      <td>2.0000</td>\n",
       "      <td>3.0000</td>\n",
       "      <td>3.0000</td>\n",
       "      <td>1.0000</td>\n",
       "      <td>0.5714</td>\n",
       "      <td>0.5000</td>\n",
       "      <td>0.6667</td>\n",
       "      <td>0.6667</td>\n",
       "      <td>1.000</td>\n",
       "    </tr>\n",
       "    <tr>\n",
       "      <th>max</th>\n",
       "      <td>70.0000</td>\n",
       "      <td>24.0000</td>\n",
       "      <td>50.0000</td>\n",
       "      <td>14.0000</td>\n",
       "      <td>24.0000</td>\n",
       "      <td>26.0000</td>\n",
       "      <td>39.0000</td>\n",
       "      <td>25.0000</td>\n",
       "      <td>1.0000</td>\n",
       "      <td>1.0000</td>\n",
       "      <td>1.0000</td>\n",
       "      <td>1.0000</td>\n",
       "      <td>1.5000</td>\n",
       "      <td>1.000</td>\n",
       "    </tr>\n",
       "  </tbody>\n",
       "</table>\n",
       "</div>"
      ],
      "text/plain": [
       "               pts          fgm          fga          pm3          pa3  \\\n",
       "count  293686.0000  293686.0000  293686.0000  293686.0000  293686.0000   \n",
       "mean        9.9248       3.6834       8.0747       0.9169       2.5699   \n",
       "std         8.1726       3.0578       5.7130       1.3216       2.7435   \n",
       "min         0.0000       0.0000       0.0000       0.0000       0.0000   \n",
       "25%         4.0000       1.0000       4.0000       0.0000       0.0000   \n",
       "50%         8.0000       3.0000       7.0000       0.0000       2.0000   \n",
       "75%        15.0000       5.0000      11.0000       1.0000       4.0000   \n",
       "max        70.0000      24.0000      50.0000      14.0000      24.0000   \n",
       "\n",
       "               ftm          fta          ast          ft%          fg%  \\\n",
       "count  293686.0000  293686.0000  293686.0000  166381.0000  279167.0000   \n",
       "mean        1.6410       2.1493       2.1706       0.7519       0.4426   \n",
       "std         2.2736       2.7751       2.5061       0.2868       0.2363   \n",
       "min         0.0000       0.0000       0.0000       0.0000       0.0000   \n",
       "25%         0.0000       0.0000       0.0000       0.5000       0.3158   \n",
       "50%         1.0000       2.0000       1.0000       0.8333       0.4444   \n",
       "75%         2.0000       3.0000       3.0000       1.0000       0.5714   \n",
       "max        26.0000      39.0000      25.0000       1.0000       1.0000   \n",
       "\n",
       "               3p%          2p%         eFG%         win  \n",
       "count  201886.0000  265440.0000  279167.0000  293686.000  \n",
       "mean        0.3258       0.4904       0.4972       0.501  \n",
       "std         0.3015       0.2813       0.2692       0.500  \n",
       "min         0.0000       0.0000       0.0000       0.000  \n",
       "25%         0.0000       0.3333       0.3333       0.000  \n",
       "50%         0.3333       0.5000       0.5000       1.000  \n",
       "75%         0.5000       0.6667       0.6667       1.000  \n",
       "max         1.0000       1.0000       1.5000       1.000  "
      ]
     },
     "execution_count": 12,
     "metadata": {},
     "output_type": "execute_result"
    }
   ],
   "source": [
    "scoring_df.select(*scoring_df.columns[4:]).toPandas().describe().round(4)"
   ]
  },
  {
   "cell_type": "markdown",
   "metadata": {},
   "source": [
    "Summary statistics show:\n",
    "- Teams typically play the same number of players\n",
    "    - Because wins make up 50% of all records and only one team can win\n",
    "    - There do not appear to be bulky or skeleton teams in the NBA\n",
    "    - Balanced class labels for wins/results, meaning downstream classification tasks do not need make extra considerations for unbalanced classes\n",
    "- The average player contributes to points mostly through 2pt shots. (3 point shots made show the 75th percentile at only 1 and the mean being 0.9). They also contribute through free throws, making about one a game.\n",
    "    - The average player takes few 3 pt shots and hardly makes any\n",
    "- Most made threes are made by specialised/specialist players. This shows as a skew in 3PM. This stat will need a log transform for machine learning or regression models.\n",
    "- There is also a slight skew in assists that may indicate teams tend to rely on playmakers to make that final pass"
   ]
  },
  {
   "cell_type": "code",
   "execution_count": null,
   "metadata": {},
   "outputs": [],
   "source": []
  },
  {
   "cell_type": "markdown",
   "metadata": {},
   "source": [
    "It is possible that there will be null values as a result of zero division (not attempting to shoot). Effectively, if a player does not attempt a shot, their percentage is 0. The percentages should be used together with the attempts to distinguish between players who attempted but did not make a shot and others who did not attempt at all."
   ]
  },
  {
   "cell_type": "code",
   "execution_count": 13,
   "metadata": {},
   "outputs": [],
   "source": [
    "percentage_cols = [i for i in scoring_df.columns if '%' in i]\n",
    "scoring_df = scoring_df.fillna(0,percentage_cols)"
   ]
  },
  {
   "cell_type": "markdown",
   "metadata": {},
   "source": [
    "To further the exploratory analysis, I will attempt clustering to see what type of scorers exist in the NBA.\n",
    "\n",
    "I employ k-means clustering, with $k=5$.\n",
    "\n",
    "All columns will be scaled to range [0,1]. Percentage columns (with the exception of eFG% which is [0,1.5]) already follow this. This will prove useful for any clustering measures because feature vectors will be unit vectors and reduces the chances of the distance functions becoming intractible."
   ]
  },
  {
   "cell_type": "code",
   "execution_count": 14,
   "metadata": {},
   "outputs": [],
   "source": [
    "features = scoring_df.columns[4:-1]\n",
    "to_scale = [i for i in features if  ('%' not in i) or i=='eFG%']\n",
    "keep = [i for i in features if i not in to_scale]"
   ]
  },
  {
   "cell_type": "markdown",
   "metadata": {},
   "source": [
    "Transformation stage"
   ]
  },
  {
   "cell_type": "code",
   "execution_count": 15,
   "metadata": {},
   "outputs": [],
   "source": [
    "from pyspark.ml.feature import MinMaxScaler, VectorAssembler\n",
    "\n",
    "scale_assembler = VectorAssembler(inputCols=to_scale,outputCol='to_scale_features')\n",
    "scoring_df = scale_assembler.transform(scoring_df)\n",
    "\n",
    "keep_assembler = VectorAssembler(inputCols=keep,outputCol='unscaled_features')\n",
    "scoring_df = keep_assembler.transform(scoring_df)"
   ]
  },
  {
   "cell_type": "code",
   "execution_count": 16,
   "metadata": {},
   "outputs": [
    {
     "name": "stderr",
     "output_type": "stream",
     "text": [
      "                                                                                \r"
     ]
    }
   ],
   "source": [
    "mm_scaler = MinMaxScaler(inputCol= 'to_scale_features', outputCol='scaled_features')\n",
    "scaler = mm_scaler.fit(scoring_df)\n",
    "\n",
    "scoring_df = scaler.transform(scoring_df)"
   ]
  },
  {
   "cell_type": "code",
   "execution_count": 17,
   "metadata": {},
   "outputs": [],
   "source": [
    "assembler = VectorAssembler(inputCols=['scaled_features','unscaled_features'],outputCol = 'features')\n",
    "\n",
    "scoring_df = assembler.transform(scoring_df)"
   ]
  },
  {
   "cell_type": "markdown",
   "metadata": {},
   "source": [
    "With the features now ready, It is now possible to perform clustering. I will use K-Means with $2 <= k<= 13$ and select the best model with the elbow method after plotting the intracluster distance (or training cost) with respect to k."
   ]
  },
  {
   "cell_type": "code",
   "execution_count": 18,
   "metadata": {},
   "outputs": [],
   "source": [
    "from pyspark.ml.clustering import KMeans"
   ]
  },
  {
   "cell_type": "markdown",
   "metadata": {},
   "source": [
    "Fitting the models"
   ]
  },
  {
   "cell_type": "code",
   "execution_count": null,
   "metadata": {},
   "outputs": [],
   "source": [
    "errors = []\n",
    "models ={}\n",
    "for k in range(2,14):\n",
    "    kmeans = KMeans(featuresCol='features', k=k)\n",
    "    model = kmeans.fit(scoring_df)\n",
    "    models['k_'+str(k)] = model\n",
    "    errors.append(model.summary.trainingCost)\n",
    "    key = 'k_'+str(k)\n",
    "    model_path =  \"../../kmeans_model_\"+key # store model out of the repository\n",
    "    model.save(model_path)\n",
    "    intra_distance =model.computeCost(scoring_df)\n",
    "    errors.append(intra_distance)"
   ]
  },
  {
   "cell_type": "markdown",
   "metadata": {},
   "source": [
    "Plotting the results of training."
   ]
  },
  {
   "cell_type": "code",
   "execution_count": null,
   "metadata": {},
   "outputs": [
    {
     "data": {
      "image/png": "[encoded data removed]",
      "text/plain": [
       "<Figure size 432x288 with 1 Axes>"
      ]
     },
     "metadata": {
      "needs_background": "light"
     },
     "output_type": "display_data"
    }
   ],
   "source": [
    "import matplotlib.pyplot as plt\n",
    "cluster_number = range(2,14)\n",
    "plt.xlabel('Number of clusters')\n",
    "plt.ylabel('Intra-cluster distance')\n",
    "plt.scatter(cluster_number,errors)\n",
    "plt.show()"
   ]
  },
  {
   "cell_type": "markdown",
   "metadata": {},
   "source": [
    "It appears that 7 clusters performs well enough to segment the type of scoring stat lines in the NBA"
   ]
  },
  {
   "cell_type": "code",
   "execution_count": 19,
   "metadata": {},
   "outputs": [
    {
     "name": "stderr",
     "output_type": "stream",
     "text": [
      "                                                                                \r"
     ]
    }
   ],
   "source": [
    "from pyspark.ml.clustering import KMeansModel\n",
    "    \n",
    "model_path = '../../kmeans_models/kmeans_model_k_7'\n",
    "model = KMeansModel.load(model_path)\n",
    "preds = model.transform(scoring_df)"
   ]
  },
  {
   "cell_type": "code",
   "execution_count": null,
   "metadata": {},
   "outputs": [],
   "source": []
  },
  {
   "cell_type": "markdown",
   "metadata": {},
   "source": [
    "We can use a pivot table to count the wins and losses in each cluster and then calculate the win percentage within each cluster to see if there are any clusters that tend to have more winners."
   ]
  },
  {
   "cell_type": "code",
   "execution_count": 29,
   "metadata": {},
   "outputs": [
    {
     "name": "stderr",
     "output_type": "stream",
     "text": [
      "                                                                                \r"
     ]
    }
   ],
   "source": [
    "pivot_table = preds.groupBy('prediction').pivot('result').count()\n",
    "pivot_table = pivot_table.withColumn('win%',\n",
    "                                F.round(pivot_table['W']/(pivot_table['L']+pivot_table['W']),3))"
   ]
  },
  {
   "cell_type": "code",
   "execution_count": 30,
   "metadata": {},
   "outputs": [
    {
     "name": "stderr",
     "output_type": "stream",
     "text": [
      "[Stage 108:>                                                        (0 + 1) / 1]\r"
     ]
    },
    {
     "name": "stdout",
     "output_type": "stream",
     "text": [
      "+----------+-----+-----+-----+\n",
      "|prediction|    L|    W| win%|\n",
      "+----------+-----+-----+-----+\n",
      "|         2|21600|27855|0.563|\n",
      "|         3| 9953|12531|0.557|\n",
      "|         6|17599|20100|0.533|\n",
      "|         5|26707|26131|0.495|\n",
      "|         4|25238|22578|0.472|\n",
      "|         1|29731|26479|0.471|\n",
      "|         0|15707|11477|0.422|\n",
      "+----------+-----+-----+-----+\n",
      "\n"
     ]
    },
    {
     "name": "stderr",
     "output_type": "stream",
     "text": [
      "                                                                                \r"
     ]
    }
   ],
   "source": [
    "pivot_table.orderBy('win%',ascending = False).show()"
   ]
  },
  {
   "cell_type": "code",
   "execution_count": null,
   "metadata": {},
   "outputs": [],
   "source": []
  },
  {
   "cell_type": "markdown",
   "metadata": {},
   "source": [
    "There does not appear to be a cluster or groups of clusters that contain players who win considerably more than others.\n",
    "\n",
    "It is possible to do futher analysis by checking if there are particular clusters that contain certain teams, describe the scoring statistics within these clusters, etc."
   ]
  },
  {
   "cell_type": "code",
   "execution_count": 31,
   "metadata": {},
   "outputs": [],
   "source": [
    "players = preds.select('name','team',*preds.columns[3:18],'prediction')"
   ]
  },
  {
   "cell_type": "markdown",
   "metadata": {},
   "source": [
    "Let's take a look at the averages of the scoring and assist statistics of the 7 clusters in our dataset"
   ]
  },
  {
   "cell_type": "code",
   "execution_count": 32,
   "metadata": {},
   "outputs": [
    {
     "name": "stderr",
     "output_type": "stream",
     "text": [
      "22/07/22 11:08:22 WARN package: Truncated the string representation of a plan since it was too large. This behavior can be adjusted by setting 'spark.sql.debug.maxToStringFields'.\n",
      "                                                                                \r"
     ]
    }
   ],
   "source": [
    "p_df = (players\n",
    ".groupBy('prediction').avg()\n",
    ".orderBy('prediction')\n",
    ".drop('avg(prediction)')\n",
    ".toPandas().round(3))"
   ]
  },
  {
   "cell_type": "code",
   "execution_count": 33,
   "metadata": {},
   "outputs": [
    {
     "data": {
      "text/html": [
       "<div>\n",
       "<style scoped>\n",
       "    .dataframe tbody tr th:only-of-type {\n",
       "        vertical-align: middle;\n",
       "    }\n",
       "\n",
       "    .dataframe tbody tr th {\n",
       "        vertical-align: top;\n",
       "    }\n",
       "\n",
       "    .dataframe thead th {\n",
       "        text-align: right;\n",
       "    }\n",
       "</style>\n",
       "<table border=\"1\" class=\"dataframe\">\n",
       "  <thead>\n",
       "    <tr style=\"text-align: right;\">\n",
       "      <th></th>\n",
       "      <th>avg(pts)</th>\n",
       "      <th>avg(fgm)</th>\n",
       "      <th>avg(fga)</th>\n",
       "      <th>avg(pm3)</th>\n",
       "      <th>avg(pa3)</th>\n",
       "      <th>avg(ftm)</th>\n",
       "      <th>avg(fta)</th>\n",
       "      <th>avg(ast)</th>\n",
       "      <th>avg(ft%)</th>\n",
       "      <th>avg(fg%)</th>\n",
       "      <th>avg(3p%)</th>\n",
       "      <th>avg(2p%)</th>\n",
       "      <th>avg(eFG%)</th>\n",
       "      <th>avg(win)</th>\n",
       "    </tr>\n",
       "    <tr>\n",
       "      <th>prediction</th>\n",
       "      <th></th>\n",
       "      <th></th>\n",
       "      <th></th>\n",
       "      <th></th>\n",
       "      <th></th>\n",
       "      <th></th>\n",
       "      <th></th>\n",
       "      <th></th>\n",
       "      <th></th>\n",
       "      <th></th>\n",
       "      <th></th>\n",
       "      <th></th>\n",
       "      <th></th>\n",
       "      <th></th>\n",
       "    </tr>\n",
       "  </thead>\n",
       "  <tbody>\n",
       "    <tr>\n",
       "      <th>0</th>\n",
       "      <td>6.832</td>\n",
       "      <td>1.757</td>\n",
       "      <td>7.515</td>\n",
       "      <td>0.640</td>\n",
       "      <td>2.781</td>\n",
       "      <td>2.679</td>\n",
       "      <td>3.129</td>\n",
       "      <td>2.258</td>\n",
       "      <td>0.877</td>\n",
       "      <td>0.210</td>\n",
       "      <td>0.152</td>\n",
       "      <td>0.187</td>\n",
       "      <td>0.250</td>\n",
       "      <td>0.422</td>\n",
       "    </tr>\n",
       "    <tr>\n",
       "      <th>1</th>\n",
       "      <td>1.242</td>\n",
       "      <td>0.507</td>\n",
       "      <td>3.131</td>\n",
       "      <td>0.151</td>\n",
       "      <td>1.177</td>\n",
       "      <td>0.076</td>\n",
       "      <td>0.243</td>\n",
       "      <td>0.992</td>\n",
       "      <td>0.030</td>\n",
       "      <td>0.082</td>\n",
       "      <td>0.039</td>\n",
       "      <td>0.074</td>\n",
       "      <td>0.094</td>\n",
       "      <td>0.471</td>\n",
       "    </tr>\n",
       "    <tr>\n",
       "      <th>2</th>\n",
       "      <td>20.426</td>\n",
       "      <td>7.041</td>\n",
       "      <td>13.667</td>\n",
       "      <td>2.599</td>\n",
       "      <td>5.248</td>\n",
       "      <td>3.745</td>\n",
       "      <td>4.447</td>\n",
       "      <td>3.711</td>\n",
       "      <td>0.862</td>\n",
       "      <td>0.532</td>\n",
       "      <td>0.552</td>\n",
       "      <td>0.527</td>\n",
       "      <td>0.639</td>\n",
       "      <td>0.563</td>\n",
       "    </tr>\n",
       "    <tr>\n",
       "      <th>3</th>\n",
       "      <td>12.183</td>\n",
       "      <td>4.687</td>\n",
       "      <td>6.806</td>\n",
       "      <td>0.247</td>\n",
       "      <td>1.137</td>\n",
       "      <td>2.562</td>\n",
       "      <td>3.390</td>\n",
       "      <td>1.694</td>\n",
       "      <td>0.790</td>\n",
       "      <td>0.713</td>\n",
       "      <td>0.068</td>\n",
       "      <td>0.837</td>\n",
       "      <td>0.731</td>\n",
       "      <td>0.557</td>\n",
       "    </tr>\n",
       "    <tr>\n",
       "      <th>4</th>\n",
       "      <td>13.081</td>\n",
       "      <td>4.780</td>\n",
       "      <td>11.012</td>\n",
       "      <td>0.277</td>\n",
       "      <td>2.097</td>\n",
       "      <td>3.245</td>\n",
       "      <td>4.242</td>\n",
       "      <td>2.815</td>\n",
       "      <td>0.777</td>\n",
       "      <td>0.435</td>\n",
       "      <td>0.059</td>\n",
       "      <td>0.516</td>\n",
       "      <td>0.447</td>\n",
       "      <td>0.472</td>\n",
       "    </tr>\n",
       "    <tr>\n",
       "      <th>5</th>\n",
       "      <td>6.746</td>\n",
       "      <td>3.199</td>\n",
       "      <td>6.241</td>\n",
       "      <td>0.291</td>\n",
       "      <td>1.575</td>\n",
       "      <td>0.057</td>\n",
       "      <td>0.382</td>\n",
       "      <td>1.590</td>\n",
       "      <td>0.013</td>\n",
       "      <td>0.564</td>\n",
       "      <td>0.068</td>\n",
       "      <td>0.700</td>\n",
       "      <td>0.583</td>\n",
       "      <td>0.495</td>\n",
       "    </tr>\n",
       "    <tr>\n",
       "      <th>6</th>\n",
       "      <td>10.430</td>\n",
       "      <td>4.094</td>\n",
       "      <td>8.115</td>\n",
       "      <td>2.141</td>\n",
       "      <td>3.831</td>\n",
       "      <td>0.101</td>\n",
       "      <td>0.353</td>\n",
       "      <td>2.126</td>\n",
       "      <td>0.036</td>\n",
       "      <td>0.541</td>\n",
       "      <td>0.644</td>\n",
       "      <td>0.383</td>\n",
       "      <td>0.704</td>\n",
       "      <td>0.533</td>\n",
       "    </tr>\n",
       "  </tbody>\n",
       "</table>\n",
       "</div>"
      ],
      "text/plain": [
       "            avg(pts)  avg(fgm)  avg(fga)  avg(pm3)  avg(pa3)  avg(ftm)  \\\n",
       "prediction                                                               \n",
       "0              6.832     1.757     7.515     0.640     2.781     2.679   \n",
       "1              1.242     0.507     3.131     0.151     1.177     0.076   \n",
       "2             20.426     7.041    13.667     2.599     5.248     3.745   \n",
       "3             12.183     4.687     6.806     0.247     1.137     2.562   \n",
       "4             13.081     4.780    11.012     0.277     2.097     3.245   \n",
       "5              6.746     3.199     6.241     0.291     1.575     0.057   \n",
       "6             10.430     4.094     8.115     2.141     3.831     0.101   \n",
       "\n",
       "            avg(fta)  avg(ast)  avg(ft%)  avg(fg%)  avg(3p%)  avg(2p%)  \\\n",
       "prediction                                                               \n",
       "0              3.129     2.258     0.877     0.210     0.152     0.187   \n",
       "1              0.243     0.992     0.030     0.082     0.039     0.074   \n",
       "2              4.447     3.711     0.862     0.532     0.552     0.527   \n",
       "3              3.390     1.694     0.790     0.713     0.068     0.837   \n",
       "4              4.242     2.815     0.777     0.435     0.059     0.516   \n",
       "5              0.382     1.590     0.013     0.564     0.068     0.700   \n",
       "6              0.353     2.126     0.036     0.541     0.644     0.383   \n",
       "\n",
       "            avg(eFG%)  avg(win)  \n",
       "prediction                       \n",
       "0               0.250     0.422  \n",
       "1               0.094     0.471  \n",
       "2               0.639     0.563  \n",
       "3               0.731     0.557  \n",
       "4               0.447     0.472  \n",
       "5               0.583     0.495  \n",
       "6               0.704     0.533  "
      ]
     },
     "execution_count": 33,
     "metadata": {},
     "output_type": "execute_result"
    }
   ],
   "source": [
    "p_df.set_index('prediction')"
   ]
  },
  {
   "cell_type": "markdown",
   "metadata": {},
   "source": [
    "The highest scoring cluster (label 2) has an average if 20.4 points. These players are also quite efficient at the free throw line: FT% = 86.2 and make a high percentage of their 3 and 2 point shots: 3P% = 55.2% and 2P% = 52.7%. They also tend to have the highest number of assists. Players who \"go off\" will lie in this cluster. "
   ]
  },
  {
   "cell_type": "code",
   "execution_count": null,
   "metadata": {},
   "outputs": [],
   "source": []
  },
  {
   "cell_type": "markdown",
   "metadata": {},
   "source": [
    "Let's examine the high scoring cluser in the dataset:\n",
    "- We will start with the teams and see how many of their performances fall in the high scoring cluster relative to the other clusters\n",
    "- We then move onto players to their performances as high scorers relative to other performances \n",
    "- And finally both players and teams to see if high scoring players put up the same performances on different teams"
   ]
  },
  {
   "cell_type": "code",
   "execution_count": 34,
   "metadata": {},
   "outputs": [],
   "source": [
    "cluster_analysis = preds.select('name','team','prediction',*preds.columns[3:18])\n",
    "top_scorers = cluster_analysis.filter(cluster_analysis['prediction']==2)"
   ]
  },
  {
   "cell_type": "code",
   "execution_count": 35,
   "metadata": {},
   "outputs": [],
   "source": [
    "from pyspark.sql import Window"
   ]
  },
  {
   "cell_type": "markdown",
   "metadata": {},
   "source": []
  },
  {
   "cell_type": "code",
   "execution_count": 29,
   "metadata": {},
   "outputs": [],
   "source": [
    "window = Window.partitionBy('team')\n",
    "team_analysis = cluster_analysis.groupBy('team','prediction').count()\n",
    "team_analysis = team_analysis.withColumn('totals',F.sum('count').over(window))\n",
    "team_analysis = team_analysis.withColumn('cluster_share(%)',F.round(100*team_analysis['count']/team_analysis['totals'],2))"
   ]
  },
  {
   "cell_type": "code",
   "execution_count": null,
   "metadata": {},
   "outputs": [],
   "source": []
  },
  {
   "cell_type": "code",
   "execution_count": 31,
   "metadata": {},
   "outputs": [],
   "source": [
    "top_scoring_teams = team_analysis.filter(team_analysis['prediction']==2)\n",
    "\n",
    "to_plot = top_scoring_teams.orderBy('cluster_share(%)',ascending=False).limit(5).withColumn('position',F.lit('top 5'))\n",
    "to_plot = (to_plot.unionByName(top_scoring_teams.orderBy('cluster_share(%)',ascending=True)\n",
    ".limit(5).withColumn('position',F.lit('last 5'))))"
   ]
  },
  {
   "cell_type": "markdown",
   "metadata": {},
   "source": [
    "Let's visualise the shares and see the teams with the highest (top 5) and the lowest (last 5) shares in the high scoring cluster"
   ]
  },
  {
   "cell_type": "code",
   "execution_count": null,
   "metadata": {},
   "outputs": [],
   "source": [
    "(to_plot\n",
    ".orderBy('cluster_share(%)',ascending=False)\n",
    ".to_pandas_on_spark()\n",
    ".plot\n",
    ".bar(y='cluster_share(%)',x='team',color='position'))"
   ]
  },
  {
   "cell_type": "markdown",
   "metadata": {},
   "source": [
    "![TEAM](team_plot.png)\n",
    "\n",
    "\n",
    "The Rockets have the highest proportion of player performances appearing in the high scoring cluster. The Spurs have the lowest proportion of their player performances in the high scoring cluster. It is worth further investigating this to see why the Spurs, a rather successful team (at least in the first half of this datases) shows up so low. An idea of where to start could be to see how system employed by Coach Popovich (one of the most established systems in the league) values scoring.\n",
    "\n",
    "Teams show small differences in their proportions, which indicates that all teams have their go-to guy(s) to produce high scoring performances. \n",
    "\n",
    "Let's have a look at the underlying data in a table:\n",
    "\n",
    "<!-- The Warriors have the highest share in the high scoring cluster. The Detroit Pistons have the smallest share. The difference between the top and bottom teams in this cluster is about 1%. All teams have similar shares in the high scoring cluster. High scoring players appear throughout the league regardless of team as shown in the table below -->"
   ]
  },
  {
   "cell_type": "code",
   "execution_count": 36,
   "metadata": {},
   "outputs": [
    {
     "name": "stderr",
     "output_type": "stream",
     "text": [
      "                                                                                \r"
     ]
    },
    {
     "data": {
      "text/html": [
       "<div>\n",
       "<style scoped>\n",
       "    .dataframe tbody tr th:only-of-type {\n",
       "        vertical-align: middle;\n",
       "    }\n",
       "\n",
       "    .dataframe tbody tr th {\n",
       "        vertical-align: top;\n",
       "    }\n",
       "\n",
       "    .dataframe thead th {\n",
       "        text-align: right;\n",
       "    }\n",
       "</style>\n",
       "<table border=\"1\" class=\"dataframe\">\n",
       "  <thead>\n",
       "    <tr style=\"text-align: right;\">\n",
       "      <th></th>\n",
       "      <th>team</th>\n",
       "      <th>prediction</th>\n",
       "      <th>count</th>\n",
       "      <th>totals</th>\n",
       "      <th>cluster_share(%)</th>\n",
       "    </tr>\n",
       "  </thead>\n",
       "  <tbody>\n",
       "    <tr>\n",
       "      <th>0</th>\n",
       "      <td>HOU</td>\n",
       "      <td>2</td>\n",
       "      <td>1901</td>\n",
       "      <td>9482</td>\n",
       "      <td>20.05</td>\n",
       "    </tr>\n",
       "    <tr>\n",
       "      <th>1</th>\n",
       "      <td>DEN</td>\n",
       "      <td>2</td>\n",
       "      <td>1831</td>\n",
       "      <td>9780</td>\n",
       "      <td>18.72</td>\n",
       "    </tr>\n",
       "    <tr>\n",
       "      <th>2</th>\n",
       "      <td>POR</td>\n",
       "      <td>2</td>\n",
       "      <td>1786</td>\n",
       "      <td>9746</td>\n",
       "      <td>18.33</td>\n",
       "    </tr>\n",
       "    <tr>\n",
       "      <th>3</th>\n",
       "      <td>MIN</td>\n",
       "      <td>2</td>\n",
       "      <td>1647</td>\n",
       "      <td>9053</td>\n",
       "      <td>18.19</td>\n",
       "    </tr>\n",
       "    <tr>\n",
       "      <th>4</th>\n",
       "      <td>BOS</td>\n",
       "      <td>2</td>\n",
       "      <td>1928</td>\n",
       "      <td>10673</td>\n",
       "      <td>18.06</td>\n",
       "    </tr>\n",
       "    <tr>\n",
       "      <th>5</th>\n",
       "      <td>GSW</td>\n",
       "      <td>2</td>\n",
       "      <td>1996</td>\n",
       "      <td>11146</td>\n",
       "      <td>17.91</td>\n",
       "    </tr>\n",
       "    <tr>\n",
       "      <th>6</th>\n",
       "      <td>CLE</td>\n",
       "      <td>2</td>\n",
       "      <td>1741</td>\n",
       "      <td>9844</td>\n",
       "      <td>17.69</td>\n",
       "    </tr>\n",
       "    <tr>\n",
       "      <th>7</th>\n",
       "      <td>OKC</td>\n",
       "      <td>2</td>\n",
       "      <td>1799</td>\n",
       "      <td>10182</td>\n",
       "      <td>17.67</td>\n",
       "    </tr>\n",
       "    <tr>\n",
       "      <th>8</th>\n",
       "      <td>PHX</td>\n",
       "      <td>2</td>\n",
       "      <td>1671</td>\n",
       "      <td>9478</td>\n",
       "      <td>17.63</td>\n",
       "    </tr>\n",
       "    <tr>\n",
       "      <th>9</th>\n",
       "      <td>ATL</td>\n",
       "      <td>2</td>\n",
       "      <td>1762</td>\n",
       "      <td>10047</td>\n",
       "      <td>17.54</td>\n",
       "    </tr>\n",
       "    <tr>\n",
       "      <th>10</th>\n",
       "      <td>LAC</td>\n",
       "      <td>2</td>\n",
       "      <td>1807</td>\n",
       "      <td>10409</td>\n",
       "      <td>17.36</td>\n",
       "    </tr>\n",
       "    <tr>\n",
       "      <th>11</th>\n",
       "      <td>TOR</td>\n",
       "      <td>2</td>\n",
       "      <td>1750</td>\n",
       "      <td>10082</td>\n",
       "      <td>17.36</td>\n",
       "    </tr>\n",
       "    <tr>\n",
       "      <th>12</th>\n",
       "      <td>CHA</td>\n",
       "      <td>2</td>\n",
       "      <td>1573</td>\n",
       "      <td>9074</td>\n",
       "      <td>17.34</td>\n",
       "    </tr>\n",
       "    <tr>\n",
       "      <th>13</th>\n",
       "      <td>DAL</td>\n",
       "      <td>2</td>\n",
       "      <td>1736</td>\n",
       "      <td>10114</td>\n",
       "      <td>17.16</td>\n",
       "    </tr>\n",
       "    <tr>\n",
       "      <th>14</th>\n",
       "      <td>ORL</td>\n",
       "      <td>2</td>\n",
       "      <td>1557</td>\n",
       "      <td>9194</td>\n",
       "      <td>16.93</td>\n",
       "    </tr>\n",
       "    <tr>\n",
       "      <th>15</th>\n",
       "      <td>MIL</td>\n",
       "      <td>2</td>\n",
       "      <td>1690</td>\n",
       "      <td>10124</td>\n",
       "      <td>16.69</td>\n",
       "    </tr>\n",
       "    <tr>\n",
       "      <th>16</th>\n",
       "      <td>WAS</td>\n",
       "      <td>2</td>\n",
       "      <td>1603</td>\n",
       "      <td>9661</td>\n",
       "      <td>16.59</td>\n",
       "    </tr>\n",
       "    <tr>\n",
       "      <th>17</th>\n",
       "      <td>IND</td>\n",
       "      <td>2</td>\n",
       "      <td>1640</td>\n",
       "      <td>9959</td>\n",
       "      <td>16.47</td>\n",
       "    </tr>\n",
       "    <tr>\n",
       "      <th>18</th>\n",
       "      <td>SAC</td>\n",
       "      <td>2</td>\n",
       "      <td>1486</td>\n",
       "      <td>9020</td>\n",
       "      <td>16.47</td>\n",
       "    </tr>\n",
       "    <tr>\n",
       "      <th>19</th>\n",
       "      <td>NYK</td>\n",
       "      <td>2</td>\n",
       "      <td>1531</td>\n",
       "      <td>9339</td>\n",
       "      <td>16.39</td>\n",
       "    </tr>\n",
       "    <tr>\n",
       "      <th>20</th>\n",
       "      <td>BKN</td>\n",
       "      <td>2</td>\n",
       "      <td>1583</td>\n",
       "      <td>9804</td>\n",
       "      <td>16.15</td>\n",
       "    </tr>\n",
       "    <tr>\n",
       "      <th>21</th>\n",
       "      <td>NOP</td>\n",
       "      <td>2</td>\n",
       "      <td>1456</td>\n",
       "      <td>9131</td>\n",
       "      <td>15.95</td>\n",
       "    </tr>\n",
       "    <tr>\n",
       "      <th>22</th>\n",
       "      <td>PHI</td>\n",
       "      <td>2</td>\n",
       "      <td>1532</td>\n",
       "      <td>9626</td>\n",
       "      <td>15.92</td>\n",
       "    </tr>\n",
       "    <tr>\n",
       "      <th>23</th>\n",
       "      <td>LAL</td>\n",
       "      <td>2</td>\n",
       "      <td>1486</td>\n",
       "      <td>9372</td>\n",
       "      <td>15.86</td>\n",
       "    </tr>\n",
       "    <tr>\n",
       "      <th>24</th>\n",
       "      <td>CHI</td>\n",
       "      <td>2</td>\n",
       "      <td>1465</td>\n",
       "      <td>9292</td>\n",
       "      <td>15.77</td>\n",
       "    </tr>\n",
       "    <tr>\n",
       "      <th>25</th>\n",
       "      <td>UTA</td>\n",
       "      <td>2</td>\n",
       "      <td>1546</td>\n",
       "      <td>9895</td>\n",
       "      <td>15.62</td>\n",
       "    </tr>\n",
       "    <tr>\n",
       "      <th>26</th>\n",
       "      <td>MEM</td>\n",
       "      <td>2</td>\n",
       "      <td>1541</td>\n",
       "      <td>9931</td>\n",
       "      <td>15.52</td>\n",
       "    </tr>\n",
       "    <tr>\n",
       "      <th>27</th>\n",
       "      <td>MIA</td>\n",
       "      <td>2</td>\n",
       "      <td>1556</td>\n",
       "      <td>10112</td>\n",
       "      <td>15.39</td>\n",
       "    </tr>\n",
       "    <tr>\n",
       "      <th>28</th>\n",
       "      <td>DET</td>\n",
       "      <td>2</td>\n",
       "      <td>1372</td>\n",
       "      <td>9034</td>\n",
       "      <td>15.19</td>\n",
       "    </tr>\n",
       "    <tr>\n",
       "      <th>29</th>\n",
       "      <td>SAS</td>\n",
       "      <td>2</td>\n",
       "      <td>1483</td>\n",
       "      <td>11082</td>\n",
       "      <td>13.38</td>\n",
       "    </tr>\n",
       "  </tbody>\n",
       "</table>\n",
       "</div>"
      ],
      "text/plain": [
       "   team  prediction  count  totals  cluster_share(%)\n",
       "0   HOU           2   1901    9482             20.05\n",
       "1   DEN           2   1831    9780             18.72\n",
       "2   POR           2   1786    9746             18.33\n",
       "3   MIN           2   1647    9053             18.19\n",
       "4   BOS           2   1928   10673             18.06\n",
       "5   GSW           2   1996   11146             17.91\n",
       "6   CLE           2   1741    9844             17.69\n",
       "7   OKC           2   1799   10182             17.67\n",
       "8   PHX           2   1671    9478             17.63\n",
       "9   ATL           2   1762   10047             17.54\n",
       "10  LAC           2   1807   10409             17.36\n",
       "11  TOR           2   1750   10082             17.36\n",
       "12  CHA           2   1573    9074             17.34\n",
       "13  DAL           2   1736   10114             17.16\n",
       "14  ORL           2   1557    9194             16.93\n",
       "15  MIL           2   1690   10124             16.69\n",
       "16  WAS           2   1603    9661             16.59\n",
       "17  IND           2   1640    9959             16.47\n",
       "18  SAC           2   1486    9020             16.47\n",
       "19  NYK           2   1531    9339             16.39\n",
       "20  BKN           2   1583    9804             16.15\n",
       "21  NOP           2   1456    9131             15.95\n",
       "22  PHI           2   1532    9626             15.92\n",
       "23  LAL           2   1486    9372             15.86\n",
       "24  CHI           2   1465    9292             15.77\n",
       "25  UTA           2   1546    9895             15.62\n",
       "26  MEM           2   1541    9931             15.52\n",
       "27  MIA           2   1556   10112             15.39\n",
       "28  DET           2   1372    9034             15.19\n",
       "29  SAS           2   1483   11082             13.38"
      ]
     },
     "execution_count": 36,
     "metadata": {},
     "output_type": "execute_result"
    }
   ],
   "source": [
    "top_scoring_teams.orderBy('cluster_share(%)',ascending=False).toPandas().head(50)"
   ]
  },
  {
   "cell_type": "code",
   "execution_count": null,
   "metadata": {},
   "outputs": [],
   "source": []
  },
  {
   "cell_type": "code",
   "execution_count": 38,
   "metadata": {},
   "outputs": [],
   "source": [
    "window = Window.partitionBy('name')\n",
    "player_analysis = cluster_analysis.groupBy('name','prediction').count()\n",
    "player_analysis = player_analysis.withColumn('totals',F.sum('count').over(window))\n",
    "player_analysis = player_analysis.withColumn('cluster_share(%)',F.round(100*player_analysis['count']/player_analysis['totals'],2))"
   ]
  },
  {
   "cell_type": "code",
   "execution_count": null,
   "metadata": {},
   "outputs": [],
   "source": []
  },
  {
   "cell_type": "code",
   "execution_count": 41,
   "metadata": {},
   "outputs": [],
   "source": [
    "top_scoring_players = player_analysis.filter(player_analysis['prediction']==2)\n",
    "\n",
    "to_plot = top_scoring_players.orderBy('cluster_share(%)',ascending=False).limit(5).withColumn('position',F.lit('top 5'))\n",
    "to_plot = (to_plot.unionByName(top_scoring_players.orderBy('cluster_share(%)',ascending=True)\n",
    ".limit(5).withColumn('position',F.lit('last 5'))))"
   ]
  },
  {
   "cell_type": "code",
   "execution_count": null,
   "metadata": {},
   "outputs": [],
   "source": [
    "(to_plot\n",
    ".orderBy('cluster_share(%)',ascending=False)\n",
    ".to_pandas_on_spark()\n",
    ".plot\n",
    ".bar(y='cluster_share(%)',x='name',color='position'))"
   ]
  },
  {
   "cell_type": "markdown",
   "metadata": {},
   "source": [
    "![PLAYERS](player_plot.png)\n",
    "\n",
    "\n",
    "We can see Steph Curry has the highest propotion of high scoring performance with 76%. Many of the top scorers in the league show up in the top 5. The vast difference between the top 5 and the last 5 shows how the scoring responsibility falls on particular players and every now and then the supporting players have high scoring games.\n",
    "\n",
    "Let's have a look at the top 20 high scoring players in the league:"
   ]
  },
  {
   "cell_type": "code",
   "execution_count": 44,
   "metadata": {},
   "outputs": [
    {
     "name": "stderr",
     "output_type": "stream",
     "text": [
      "[Stage 132:>                                                        (0 + 1) / 1]\r"
     ]
    },
    {
     "name": "stdout",
     "output_type": "stream",
     "text": [
      "+------------------+----------+-----+------+----------------+\n",
      "|              name|prediction|count|totals|cluster_share(%)|\n",
      "+------------------+----------+-----+------+----------------+\n",
      "|     Stephen Curry|         2|  609|   806|           75.56|\n",
      "|      Kevin Durant|         2|  570|   757|            75.3|\n",
      "|      James Harden|         2|  669|   910|           73.52|\n",
      "|       Luka Doncic|         2|  202|   292|           69.18|\n",
      "|    Damian Lillard|         2|  523|   772|           67.75|\n",
      "|  Donovan Mitchell|         2|  248|   384|           64.58|\n",
      "|        Trae Young|         2|  191|   301|           63.46|\n",
      "|      Kyrie Irving|         2|  430|   685|           62.77|\n",
      "|      LeBron James|         2|  563|   913|           61.66|\n",
      "|Karl-Anthony Towns|         2|  287|   493|           58.22|\n",
      "|       Paul George|         2|  446|   779|           57.25|\n",
      "|      Devin Booker|         2|  289|   509|           56.78|\n",
      "|      Bradley Beal|         2|  390|   690|           56.52|\n",
      "|   Anthony Edwards|         2|   84|   150|            56.0|\n",
      "|      Jayson Tatum|         2|  237|   439|           53.99|\n",
      "|       Zach LaVine|         2|  255|   482|            52.9|\n",
      "|      Kemba Walker|         2|  405|   772|           52.46|\n",
      "|       Joel Embiid|         2|  195|   372|           52.42|\n",
      "|        Kyle Lowry|         2|  417|   805|            51.8|\n",
      "|     Kawhi Leonard|         2|  355|   711|           49.93|\n",
      "+------------------+----------+-----+------+----------------+\n",
      "only showing top 20 rows\n",
      "\n"
     ]
    },
    {
     "name": "stderr",
     "output_type": "stream",
     "text": [
      "                                                                                \r"
     ]
    }
   ],
   "source": [
    "player_analysis.filter(player_analysis['prediction']==2).orderBy('cluster_share(%)',ascending=False).show()"
   ]
  },
  {
   "cell_type": "code",
   "execution_count": null,
   "metadata": {},
   "outputs": [],
   "source": []
  },
  {
   "cell_type": "markdown",
   "metadata": {},
   "source": [
    "Let's have a look at the combination of players and the teams they played at. We can then see which teams relied on which players to put up high numbers during games."
   ]
  },
  {
   "cell_type": "code",
   "execution_count": 36,
   "metadata": {},
   "outputs": [],
   "source": [
    "window = Window.partitionBy('name','team')\n",
    "player_team_analysis = cluster_analysis.groupBy('name','team','prediction').count()\n",
    "player_team_analysis = player_team_analysis.withColumn('totals',F.sum('count').over(window))\n",
    "player_team_analysis = (player_team_analysis\n",
    ".withColumn('cluster_share(%)',\n",
    "F.round(100*player_team_analysis['count']/player_team_analysis['totals'],2)))"
   ]
  },
  {
   "cell_type": "code",
   "execution_count": 67,
   "metadata": {},
   "outputs": [],
   "source": [
    "top_scoring_players = player_team_analysis.filter(player_team_analysis['prediction']==2)\n",
    "\n",
    "to_plot = (top_scoring_players\n",
    ".filter(top_scoring_players['count']>50)\n",
    ".orderBy('cluster_share(%)',ascending=False)\n",
    ".limit(15)\n",
    ".withColumn('position',F.lit('top 15')))"
   ]
  },
  {
   "cell_type": "code",
   "execution_count": null,
   "metadata": {},
   "outputs": [],
   "source": []
  },
  {
   "cell_type": "markdown",
   "metadata": {},
   "source": [
    "Let's plot the top fifteen highest proportion of high scoring performances and consider the teams at which they had these performances. We will consider players who have more than 50 performances in the high scoring cluster."
   ]
  },
  {
   "cell_type": "code",
   "execution_count": null,
   "metadata": {},
   "outputs": [],
   "source": [
    "fig = (to_plot\n",
    ".orderBy('cluster_share(%)',ascending=False)\n",
    ".to_pandas_on_spark()\n",
    ".plot\n",
    ".bar(x='cluster_share(%)',y='name',color='team',text='team',barmode='overlay'))\n",
    "\n",
    "fig.update_layout(yaxis={'categoryorder':'max ascending'})"
   ]
  },
  {
   "cell_type": "markdown",
   "metadata": {},
   "source": [
    "![PLAYER_TEAMS](player_team.png)\n",
    "\n",
    "\n",
    "Kevin Durant has been a prominent scorer at every team he as been on. All teams have leaned on his scoring ability and he has delivered. It is interesting to note that he has his smallest proportion of high scoring performances when he was with the Warriors. While he was indispensible to the Warrior's back to back championships, his role as a high scorer saw a decrease compared to the other teams he has been on. The Nets have really leaned on Kevin Durant (which would explain their early exit in the 2021-22 playoffs) and he has delivered much more than he has not."
   ]
  },
  {
   "cell_type": "code",
   "execution_count": null,
   "metadata": {},
   "outputs": [],
   "source": []
  }
 ],
 "metadata": {
  "interpreter": {
   "hash": "767d51c1340bd893661ea55ea3124f6de3c7a262a8b4abca0554b478b1e2ff90"
  },
  "kernelspec": {
   "display_name": "Python 3.9.2 64-bit",
   "language": "python",
   "name": "python3"
  },
  "language_info": {
   "codemirror_mode": {
    "name": "ipython",
    "version": 3
   },
   "file_extension": ".py",
   "mimetype": "text/x-python",
   "name": "python",
   "nbconvert_exporter": "python",
   "pygments_lexer": "ipython3",
   "version": "3.9.2"
  },
  "orig_nbformat": 4
 },
 "nbformat": 4,
 "nbformat_minor": 2
}
