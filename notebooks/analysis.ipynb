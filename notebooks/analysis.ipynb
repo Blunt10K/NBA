{
 "cells": [
  {
   "cell_type": "markdown",
   "metadata": {},
   "source": [
    "# What kind of scoring performances exist in the NBA?\n",
    "\n",
    "We will try to characterise the scoring performances that appear in the NBA in this analysis.\n",
    "\n",
    "This analysis could be useful for the following reasons:\n",
    "- Grouping players by their scoring performances\n",
    "- Identifying which teams (do not) lean on high-scoring players/stars\n",
    "    - And what kind of teams are successful\n",
    "    - How players perform from with different teams"
   ]
  },
  {
   "cell_type": "code",
   "execution_count": 1,
   "metadata": {},
   "outputs": [],
   "source": [
    "from pyspark.sql import SparkSession\n",
    "from os import environ"
   ]
  },
  {
   "cell_type": "code",
   "execution_count": 2,
   "metadata": {},
   "outputs": [
    {
     "name": "stderr",
     "output_type": "stream",
     "text": [
      "22/08/13 01:18:53 WARN Utils: Your hostname, rpi3 resolves to a loopback address: 127.0.1.1; using 172.25.14.38 instead (on interface wlan0)\n",
      "22/08/13 01:18:53 WARN Utils: Set SPARK_LOCAL_IP if you need to bind to another address\n",
      "WARNING: An illegal reflective access operation has occurred\n",
      "WARNING: Illegal reflective access by org.apache.spark.unsafe.Platform (file:/home/blunt/.local/lib/python3.9/site-packages/pyspark/jars/spark-unsafe_2.12-3.2.1.jar) to constructor java.nio.DirectByteBuffer(long,int)\n",
      "WARNING: Please consider reporting this to the maintainers of org.apache.spark.unsafe.Platform\n",
      "WARNING: Use --illegal-access=warn to enable warnings of further illegal reflective access operations\n",
      "WARNING: All illegal access operations will be denied in a future release\n",
      "Using Spark's default log4j profile: org/apache/spark/log4j-defaults.properties\n",
      "Setting default log level to \"WARN\".\n",
      "To adjust logging level use sc.setLogLevel(newLevel). For SparkR, use setLogLevel(newLevel).\n",
      "22/08/13 01:18:57 WARN NativeCodeLoader: Unable to load native-hadoop library for your platform... using builtin-java classes where applicable\n"
     ]
    }
   ],
   "source": [
    "spark = SparkSession.builder.appName('box_score_analysis').master('local[*]').getOrCreate()"
   ]
  },
  {
   "cell_type": "code",
   "execution_count": 3,
   "metadata": {},
   "outputs": [],
   "source": [
    "query = 'select players.name as name, A.*  from '\n",
    "query += '(select teams.name as team, box_scores.* from box_scores inner join teams on ' \n",
    "query += 'team_id = id) ' \n",
    "query += 'A inner join players on player_id = id'\n",
    "\n",
    "\n",
    "df = spark.read.format('jdbc').option('url','jdbc:mysql://localhost:3306/nba').\\\n",
    "    option('user',environ.get('USER')).option('password',environ.get('PSWD')).\\\n",
    "    option('query',query).load()"
   ]
  },
  {
   "cell_type": "code",
   "execution_count": 4,
   "metadata": {},
   "outputs": [],
   "source": [
    "df = df.drop('player_id','team_id')"
   ]
  },
  {
   "cell_type": "code",
   "execution_count": 5,
   "metadata": {},
   "outputs": [
    {
     "data": {
      "text/plain": [
       "DataFrame[name: string, team: string, game_id: string, mins: int, pts: int, fgm: int, fga: int, pm3: int, pa3: int, ftm: int, fta: int, oreb: int, dreb: int, ast: int, stl: int, blk: int, tov: int, pf: int, plus_minus: int, result: string, game_day: date, match_up: string]"
      ]
     },
     "execution_count": 5,
     "metadata": {},
     "output_type": "execute_result"
    }
   ],
   "source": [
    "df"
   ]
  },
  {
   "cell_type": "markdown",
   "metadata": {},
   "source": [
    "I have data on games from the 2011-12 to the 2021-22 NBA season both on the regular and post season. "
   ]
  },
  {
   "cell_type": "code",
   "execution_count": 6,
   "metadata": {},
   "outputs": [
    {
     "name": "stderr",
     "output_type": "stream",
     "text": [
      "                                                                                \r"
     ]
    },
    {
     "name": "stdout",
     "output_type": "stream",
     "text": [
      "+-------------+-----------+\n",
      "|earliest_game|latest_game|\n",
      "+-------------+-----------+\n",
      "|   2011-12-25| 2022-06-16|\n",
      "+-------------+-----------+\n",
      "\n"
     ]
    }
   ],
   "source": [
    "import pyspark.sql.functions as F\n",
    "df.select(F.min('game_day').alias('earliest_game'),F.max('game_day').alias('latest_game')).show()"
   ]
  },
  {
   "cell_type": "markdown",
   "metadata": {},
   "source": [
    "Let's select scoring and assist stats from the original df"
   ]
  },
  {
   "cell_type": "code",
   "execution_count": 7,
   "metadata": {},
   "outputs": [],
   "source": [
    "scoring_stats = ['pts','fgm','fga','pm3','pa3','ftm','fta','ast']\n",
    "identifiers = ['name','team', 'game_day']\n",
    "label = ['result']\n",
    "cols = identifiers+label+scoring_stats\n",
    "scoring_df = df.select(*cols)"
   ]
  },
  {
   "cell_type": "markdown",
   "metadata": {},
   "source": [
    "Compute some derived scoring stats."
   ]
  },
  {
   "cell_type": "code",
   "execution_count": 8,
   "metadata": {},
   "outputs": [],
   "source": [
    "scoring_df = (scoring_df.withColumn('ft%', scoring_df['ftm']/scoring_df['fta'])\n",
    "    .withColumn('pm2', scoring_df['fgm']-scoring_df['pm3'])\n",
    "    .withColumn('pa2', scoring_df['fga']-scoring_df['pa3'])\n",
    "    .withColumn('fg%', scoring_df['fgm']/scoring_df['fga'])\n",
    "    .withColumn('3p%', scoring_df['pm3']/scoring_df['pa3'])\n",
    "    .withColumn('2p%', (scoring_df['fgm'] - scoring_df['pm3'])/(scoring_df['fga'] -scoring_df['pa3']))\n",
    "    .withColumn('eFG%',(scoring_df['fgm'] + 0.5*scoring_df['pm3'])/scoring_df['fga']))"
   ]
  },
  {
   "cell_type": "code",
   "execution_count": null,
   "metadata": {},
   "outputs": [],
   "source": []
  },
  {
   "cell_type": "markdown",
   "metadata": {},
   "source": [
    "Let's transform the result column in the following manner\n",
    "\n",
    "$result \\subset \\{win, loss\\}$  ==> $win \\subset \\{1,0\\}$\n",
    "\n",
    "Wins are transformed to 1 and losses are transformed to 0. "
   ]
  },
  {
   "cell_type": "code",
   "execution_count": 9,
   "metadata": {},
   "outputs": [
    {
     "name": "stderr",
     "output_type": "stream",
     "text": [
      "                                                                                \r"
     ]
    }
   ],
   "source": [
    "from pyspark.ml.feature import StringIndexer\n",
    "result_labler = StringIndexer(inputCol='result',outputCol='win',\n",
    "                stringOrderType='alphabetAsc').fit(scoring_df)"
   ]
  },
  {
   "cell_type": "code",
   "execution_count": 10,
   "metadata": {},
   "outputs": [],
   "source": [
    "scoring_df = result_labler.transform(scoring_df)"
   ]
  },
  {
   "cell_type": "code",
   "execution_count": 11,
   "metadata": {},
   "outputs": [
    {
     "name": "stdout",
     "output_type": "stream",
     "text": [
      "root\n",
      " |-- name: string (nullable = true)\n",
      " |-- team: string (nullable = true)\n",
      " |-- game_day: date (nullable = true)\n",
      " |-- result: string (nullable = true)\n",
      " |-- pts: integer (nullable = true)\n",
      " |-- fgm: integer (nullable = true)\n",
      " |-- fga: integer (nullable = true)\n",
      " |-- pm3: integer (nullable = true)\n",
      " |-- pa3: integer (nullable = true)\n",
      " |-- ftm: integer (nullable = true)\n",
      " |-- fta: integer (nullable = true)\n",
      " |-- ast: integer (nullable = true)\n",
      " |-- ft%: double (nullable = true)\n",
      " |-- pm2: integer (nullable = true)\n",
      " |-- pa2: integer (nullable = true)\n",
      " |-- fg%: double (nullable = true)\n",
      " |-- 3p%: double (nullable = true)\n",
      " |-- 2p%: double (nullable = true)\n",
      " |-- eFG%: double (nullable = true)\n",
      " |-- win: double (nullable = false)\n",
      "\n"
     ]
    }
   ],
   "source": [
    "scoring_df.printSchema()"
   ]
  },
  {
   "cell_type": "markdown",
   "metadata": {},
   "source": [
    "## Exploratory analysis\n",
    "\n",
    "Let's start with some descriptive statistics of the scoring stats."
   ]
  },
  {
   "cell_type": "code",
   "execution_count": null,
   "metadata": {},
   "outputs": [
    {
     "name": "stderr",
     "output_type": "stream",
     "text": [
      "                                                                                \r"
     ]
    },
    {
     "data": {
      "text/html": [
       "<div>\n",
       "<style scoped>\n",
       "    .dataframe tbody tr th:only-of-type {\n",
       "        vertical-align: middle;\n",
       "    }\n",
       "\n",
       "    .dataframe tbody tr th {\n",
       "        vertical-align: top;\n",
       "    }\n",
       "\n",
       "    .dataframe thead th {\n",
       "        text-align: right;\n",
       "    }\n",
       "</style>\n",
       "<table border=\"1\" class=\"dataframe\">\n",
       "  <thead>\n",
       "    <tr style=\"text-align: right;\">\n",
       "      <th></th>\n",
       "      <th>pts</th>\n",
       "      <th>fgm</th>\n",
       "      <th>fga</th>\n",
       "      <th>pm3</th>\n",
       "      <th>pa3</th>\n",
       "      <th>ftm</th>\n",
       "      <th>fta</th>\n",
       "      <th>ast</th>\n",
       "      <th>ft%</th>\n",
       "      <th>pm2</th>\n",
       "      <th>pa2</th>\n",
       "      <th>fg%</th>\n",
       "      <th>3p%</th>\n",
       "      <th>2p%</th>\n",
       "      <th>eFG%</th>\n",
       "      <th>win</th>\n",
       "    </tr>\n",
       "  </thead>\n",
       "  <tbody>\n",
       "    <tr>\n",
       "      <th>count</th>\n",
       "      <td>293686.0000</td>\n",
       "      <td>293686.0000</td>\n",
       "      <td>293686.0000</td>\n",
       "      <td>293686.0000</td>\n",
       "      <td>293686.0000</td>\n",
       "      <td>293686.0000</td>\n",
       "      <td>293686.0000</td>\n",
       "      <td>293686.0000</td>\n",
       "      <td>166381.0000</td>\n",
       "      <td>293686.0000</td>\n",
       "      <td>293686.0000</td>\n",
       "      <td>279167.0000</td>\n",
       "      <td>201886.0000</td>\n",
       "      <td>265440.0000</td>\n",
       "      <td>279167.0000</td>\n",
       "      <td>293686.000</td>\n",
       "    </tr>\n",
       "    <tr>\n",
       "      <th>mean</th>\n",
       "      <td>9.9248</td>\n",
       "      <td>3.6834</td>\n",
       "      <td>8.0747</td>\n",
       "      <td>0.9169</td>\n",
       "      <td>2.5699</td>\n",
       "      <td>1.6410</td>\n",
       "      <td>2.1493</td>\n",
       "      <td>2.1706</td>\n",
       "      <td>0.7519</td>\n",
       "      <td>2.7665</td>\n",
       "      <td>5.5048</td>\n",
       "      <td>0.4426</td>\n",
       "      <td>0.3258</td>\n",
       "      <td>0.4904</td>\n",
       "      <td>0.4972</td>\n",
       "      <td>0.501</td>\n",
       "    </tr>\n",
       "    <tr>\n",
       "      <th>std</th>\n",
       "      <td>8.1726</td>\n",
       "      <td>3.0578</td>\n",
       "      <td>5.7130</td>\n",
       "      <td>1.3216</td>\n",
       "      <td>2.7435</td>\n",
       "      <td>2.2736</td>\n",
       "      <td>2.7751</td>\n",
       "      <td>2.5061</td>\n",
       "      <td>0.2868</td>\n",
       "      <td>2.6326</td>\n",
       "      <td>4.5579</td>\n",
       "      <td>0.2363</td>\n",
       "      <td>0.3015</td>\n",
       "      <td>0.2813</td>\n",
       "      <td>0.2692</td>\n",
       "      <td>0.500</td>\n",
       "    </tr>\n",
       "    <tr>\n",
       "      <th>min</th>\n",
       "      <td>0.0000</td>\n",
       "      <td>0.0000</td>\n",
       "      <td>0.0000</td>\n",
       "      <td>0.0000</td>\n",
       "      <td>0.0000</td>\n",
       "      <td>0.0000</td>\n",
       "      <td>0.0000</td>\n",
       "      <td>0.0000</td>\n",
       "      <td>0.0000</td>\n",
       "      <td>0.0000</td>\n",
       "      <td>0.0000</td>\n",
       "      <td>0.0000</td>\n",
       "      <td>0.0000</td>\n",
       "      <td>0.0000</td>\n",
       "      <td>0.0000</td>\n",
       "      <td>0.000</td>\n",
       "    </tr>\n",
       "    <tr>\n",
       "      <th>25%</th>\n",
       "      <td>4.0000</td>\n",
       "      <td>1.0000</td>\n",
       "      <td>4.0000</td>\n",
       "      <td>0.0000</td>\n",
       "      <td>0.0000</td>\n",
       "      <td>0.0000</td>\n",
       "      <td>0.0000</td>\n",
       "      <td>0.0000</td>\n",
       "      <td>0.5000</td>\n",
       "      <td>1.0000</td>\n",
       "      <td>2.0000</td>\n",
       "      <td>0.3158</td>\n",
       "      <td>0.0000</td>\n",
       "      <td>0.3333</td>\n",
       "      <td>0.3333</td>\n",
       "      <td>0.000</td>\n",
       "    </tr>\n",
       "    <tr>\n",
       "      <th>50%</th>\n",
       "      <td>8.0000</td>\n",
       "      <td>3.0000</td>\n",
       "      <td>7.0000</td>\n",
       "      <td>0.0000</td>\n",
       "      <td>2.0000</td>\n",
       "      <td>1.0000</td>\n",
       "      <td>2.0000</td>\n",
       "      <td>1.0000</td>\n",
       "      <td>0.8333</td>\n",
       "      <td>2.0000</td>\n",
       "      <td>4.0000</td>\n",
       "      <td>0.4444</td>\n",
       "      <td>0.3333</td>\n",
       "      <td>0.5000</td>\n",
       "      <td>0.5000</td>\n",
       "      <td>1.000</td>\n",
       "    </tr>\n",
       "    <tr>\n",
       "      <th>75%</th>\n",
       "      <td>15.0000</td>\n",
       "      <td>5.0000</td>\n",
       "      <td>11.0000</td>\n",
       "      <td>1.0000</td>\n",
       "      <td>4.0000</td>\n",
       "      <td>2.0000</td>\n",
       "      <td>3.0000</td>\n",
       "      <td>3.0000</td>\n",
       "      <td>1.0000</td>\n",
       "      <td>4.0000</td>\n",
       "      <td>8.0000</td>\n",
       "      <td>0.5714</td>\n",
       "      <td>0.5000</td>\n",
       "      <td>0.6667</td>\n",
       "      <td>0.6667</td>\n",
       "      <td>1.000</td>\n",
       "    </tr>\n",
       "    <tr>\n",
       "      <th>max</th>\n",
       "      <td>70.0000</td>\n",
       "      <td>24.0000</td>\n",
       "      <td>50.0000</td>\n",
       "      <td>14.0000</td>\n",
       "      <td>24.0000</td>\n",
       "      <td>26.0000</td>\n",
       "      <td>39.0000</td>\n",
       "      <td>25.0000</td>\n",
       "      <td>1.0000</td>\n",
       "      <td>22.0000</td>\n",
       "      <td>34.0000</td>\n",
       "      <td>1.0000</td>\n",
       "      <td>1.0000</td>\n",
       "      <td>1.0000</td>\n",
       "      <td>1.5000</td>\n",
       "      <td>1.000</td>\n",
       "    </tr>\n",
       "  </tbody>\n",
       "</table>\n",
       "</div>"
      ],
      "text/plain": [
       "               pts          fgm          fga          pm3          pa3  \\\n",
       "count  293686.0000  293686.0000  293686.0000  293686.0000  293686.0000   \n",
       "mean        9.9248       3.6834       8.0747       0.9169       2.5699   \n",
       "std         8.1726       3.0578       5.7130       1.3216       2.7435   \n",
       "min         0.0000       0.0000       0.0000       0.0000       0.0000   \n",
       "25%         4.0000       1.0000       4.0000       0.0000       0.0000   \n",
       "50%         8.0000       3.0000       7.0000       0.0000       2.0000   \n",
       "75%        15.0000       5.0000      11.0000       1.0000       4.0000   \n",
       "max        70.0000      24.0000      50.0000      14.0000      24.0000   \n",
       "\n",
       "               ftm          fta          ast          ft%          pm2  \\\n",
       "count  293686.0000  293686.0000  293686.0000  166381.0000  293686.0000   \n",
       "mean        1.6410       2.1493       2.1706       0.7519       2.7665   \n",
       "std         2.2736       2.7751       2.5061       0.2868       2.6326   \n",
       "min         0.0000       0.0000       0.0000       0.0000       0.0000   \n",
       "25%         0.0000       0.0000       0.0000       0.5000       1.0000   \n",
       "50%         1.0000       2.0000       1.0000       0.8333       2.0000   \n",
       "75%         2.0000       3.0000       3.0000       1.0000       4.0000   \n",
       "max        26.0000      39.0000      25.0000       1.0000      22.0000   \n",
       "\n",
       "               pa2          fg%          3p%          2p%         eFG%  \\\n",
       "count  293686.0000  279167.0000  201886.0000  265440.0000  279167.0000   \n",
       "mean        5.5048       0.4426       0.3258       0.4904       0.4972   \n",
       "std         4.5579       0.2363       0.3015       0.2813       0.2692   \n",
       "min         0.0000       0.0000       0.0000       0.0000       0.0000   \n",
       "25%         2.0000       0.3158       0.0000       0.3333       0.3333   \n",
       "50%         4.0000       0.4444       0.3333       0.5000       0.5000   \n",
       "75%         8.0000       0.5714       0.5000       0.6667       0.6667   \n",
       "max        34.0000       1.0000       1.0000       1.0000       1.5000   \n",
       "\n",
       "              win  \n",
       "count  293686.000  \n",
       "mean        0.501  \n",
       "std         0.500  \n",
       "min         0.000  \n",
       "25%         0.000  \n",
       "50%         1.000  \n",
       "75%         1.000  \n",
       "max         1.000  "
      ]
     },
     "execution_count": 13,
     "metadata": {},
     "output_type": "execute_result"
    }
   ],
   "source": [
    "to_plot = scoring_df.select(*scoring_df.columns[4:]).toPandas()\n",
    "\n",
    "to_plot.describe().round(4)"
   ]
  },
  {
   "cell_type": "markdown",
   "metadata": {},
   "source": [
    "Summary statistics show:\n",
    "- Teams typically play the same number of players\n",
    "    - Because wins make up 50% of all records and only one team can win\n",
    "    - Balanced class labels for wins/results, meaning downstream classification tasks do not need make extra considerations for unbalanced classes\n",
    "- The average player contributes to points mostly through 2pt shots. (3 point shots made show the 75th percentile at only 1 and the mean being 0.9). They also contribute through free throws, making about one a game.\n",
    "    - The average player takes few 3 pt shots and hardly makes any\n",
    "- Most made threes are made by specialised/specialist players. This shows as a skew in 3PM where the 75th percentile is 1 three point shot made"
   ]
  },
  {
   "cell_type": "code",
   "execution_count": null,
   "metadata": {},
   "outputs": [],
   "source": []
  },
  {
   "cell_type": "markdown",
   "metadata": {},
   "source": [
    "Let's check the correlation matrix of the variables. Clustering algorithms work best with uncorrelated variables so it will be useful to identify correlated variables to before feature selection."
   ]
  },
  {
   "cell_type": "code",
   "execution_count": null,
   "metadata": {},
   "outputs": [
    {
     "data": {
      "text/html": [
       "<style type=\"text/css\">\n",
       "#T_0e0e7_row0_col0, #T_0e0e7_row1_col1, #T_0e0e7_row2_col2, #T_0e0e7_row3_col3, #T_0e0e7_row4_col4, #T_0e0e7_row5_col5, #T_0e0e7_row6_col6, #T_0e0e7_row7_col7, #T_0e0e7_row8_col8, #T_0e0e7_row9_col9, #T_0e0e7_row10_col10, #T_0e0e7_row11_col11, #T_0e0e7_row12_col12, #T_0e0e7_row13_col13, #T_0e0e7_row14_col14, #T_0e0e7_row15_col15 {\n",
       "  background-color: #b40426;\n",
       "  color: #f1f1f1;\n",
       "}\n",
       "#T_0e0e7_row0_col1, #T_0e0e7_row1_col0 {\n",
       "  background-color: #ba162b;\n",
       "  color: #f1f1f1;\n",
       "}\n",
       "#T_0e0e7_row0_col2, #T_0e0e7_row2_col0, #T_0e0e7_row2_col10, #T_0e0e7_row10_col2 {\n",
       "  background-color: #ca3b37;\n",
       "  color: #f1f1f1;\n",
       "}\n",
       "#T_0e0e7_row0_col3, #T_0e0e7_row3_col0 {\n",
       "  background-color: #ee8468;\n",
       "  color: #f1f1f1;\n",
       "}\n",
       "#T_0e0e7_row0_col4, #T_0e0e7_row4_col0 {\n",
       "  background-color: #f18f71;\n",
       "  color: #f1f1f1;\n",
       "}\n",
       "#T_0e0e7_row0_col5, #T_0e0e7_row5_col0 {\n",
       "  background-color: #e8765c;\n",
       "  color: #f1f1f1;\n",
       "}\n",
       "#T_0e0e7_row0_col6, #T_0e0e7_row6_col0 {\n",
       "  background-color: #e97a5f;\n",
       "  color: #f1f1f1;\n",
       "}\n",
       "#T_0e0e7_row0_col7, #T_0e0e7_row1_col11, #T_0e0e7_row7_col0, #T_0e0e7_row11_col1 {\n",
       "  background-color: #f6a586;\n",
       "  color: #000000;\n",
       "}\n",
       "#T_0e0e7_row0_col8, #T_0e0e7_row8_col0 {\n",
       "  background-color: #f1ccb8;\n",
       "  color: #000000;\n",
       "}\n",
       "#T_0e0e7_row0_col9, #T_0e0e7_row3_col4, #T_0e0e7_row4_col3, #T_0e0e7_row9_col0 {\n",
       "  background-color: #d44e41;\n",
       "  color: #f1f1f1;\n",
       "}\n",
       "#T_0e0e7_row0_col10, #T_0e0e7_row10_col0 {\n",
       "  background-color: #da5a49;\n",
       "  color: #f1f1f1;\n",
       "}\n",
       "#T_0e0e7_row0_col11, #T_0e0e7_row11_col0 {\n",
       "  background-color: #f7b093;\n",
       "  color: #000000;\n",
       "}\n",
       "#T_0e0e7_row0_col12, #T_0e0e7_row6_col7, #T_0e0e7_row7_col6, #T_0e0e7_row12_col0 {\n",
       "  background-color: #f7ba9f;\n",
       "  color: #000000;\n",
       "}\n",
       "#T_0e0e7_row0_col13, #T_0e0e7_row1_col12, #T_0e0e7_row12_col1, #T_0e0e7_row13_col0 {\n",
       "  background-color: #f5c0a7;\n",
       "  color: #000000;\n",
       "}\n",
       "#T_0e0e7_row0_col14, #T_0e0e7_row14_col0 {\n",
       "  background-color: #f7ad90;\n",
       "  color: #000000;\n",
       "}\n",
       "#T_0e0e7_row0_col15, #T_0e0e7_row6_col13, #T_0e0e7_row6_col14, #T_0e0e7_row13_col6, #T_0e0e7_row14_col6, #T_0e0e7_row15_col0 {\n",
       "  background-color: #e5d8d1;\n",
       "  color: #000000;\n",
       "}\n",
       "#T_0e0e7_row1_col2, #T_0e0e7_row2_col1 {\n",
       "  background-color: #c83836;\n",
       "  color: #f1f1f1;\n",
       "}\n",
       "#T_0e0e7_row1_col3, #T_0e0e7_row2_col5, #T_0e0e7_row3_col1, #T_0e0e7_row5_col2, #T_0e0e7_row6_col10, #T_0e0e7_row10_col6 {\n",
       "  background-color: #f39778;\n",
       "  color: #000000;\n",
       "}\n",
       "#T_0e0e7_row1_col4, #T_0e0e7_row1_col5, #T_0e0e7_row4_col1, #T_0e0e7_row5_col1 {\n",
       "  background-color: #f59f80;\n",
       "  color: #000000;\n",
       "}\n",
       "#T_0e0e7_row1_col6, #T_0e0e7_row6_col1, #T_0e0e7_row6_col9, #T_0e0e7_row9_col6 {\n",
       "  background-color: #f59d7e;\n",
       "  color: #000000;\n",
       "}\n",
       "#T_0e0e7_row1_col7, #T_0e0e7_row1_col14, #T_0e0e7_row7_col1, #T_0e0e7_row14_col1 {\n",
       "  background-color: #f7a98b;\n",
       "  color: #000000;\n",
       "}\n",
       "#T_0e0e7_row1_col8, #T_0e0e7_row5_col11, #T_0e0e7_row8_col1, #T_0e0e7_row11_col5, #T_0e0e7_row13_col15, #T_0e0e7_row15_col13 {\n",
       "  background-color: #e7d7ce;\n",
       "  color: #000000;\n",
       "}\n",
       "#T_0e0e7_row1_col9, #T_0e0e7_row9_col1 {\n",
       "  background-color: #c53334;\n",
       "  color: #f1f1f1;\n",
       "}\n",
       "#T_0e0e7_row1_col10, #T_0e0e7_row10_col1 {\n",
       "  background-color: #d24b40;\n",
       "  color: #f1f1f1;\n",
       "}\n",
       "#T_0e0e7_row1_col13, #T_0e0e7_row7_col9, #T_0e0e7_row9_col7, #T_0e0e7_row13_col1 {\n",
       "  background-color: #f7b497;\n",
       "  color: #000000;\n",
       "}\n",
       "#T_0e0e7_row1_col15, #T_0e0e7_row3_col15, #T_0e0e7_row5_col13, #T_0e0e7_row5_col14, #T_0e0e7_row6_col8, #T_0e0e7_row7_col15, #T_0e0e7_row8_col6, #T_0e0e7_row10_col13, #T_0e0e7_row10_col14, #T_0e0e7_row13_col5, #T_0e0e7_row13_col10, #T_0e0e7_row14_col5, #T_0e0e7_row14_col10, #T_0e0e7_row15_col1, #T_0e0e7_row15_col3, #T_0e0e7_row15_col7 {\n",
       "  background-color: #e4d9d2;\n",
       "  color: #000000;\n",
       "}\n",
       "#T_0e0e7_row2_col3, #T_0e0e7_row3_col2, #T_0e0e7_row5_col10, #T_0e0e7_row10_col5 {\n",
       "  background-color: #f49a7b;\n",
       "  color: #000000;\n",
       "}\n",
       "#T_0e0e7_row2_col4, #T_0e0e7_row4_col2 {\n",
       "  background-color: #ec7f63;\n",
       "  color: #f1f1f1;\n",
       "}\n",
       "#T_0e0e7_row2_col6, #T_0e0e7_row6_col2 {\n",
       "  background-color: #f4987a;\n",
       "  color: #000000;\n",
       "}\n",
       "#T_0e0e7_row2_col7, #T_0e0e7_row7_col2 {\n",
       "  background-color: #f59c7d;\n",
       "  color: #000000;\n",
       "}\n",
       "#T_0e0e7_row2_col8, #T_0e0e7_row3_col8, #T_0e0e7_row8_col2, #T_0e0e7_row8_col3 {\n",
       "  background-color: #ecd3c5;\n",
       "  color: #000000;\n",
       "}\n",
       "#T_0e0e7_row2_col9, #T_0e0e7_row9_col2 {\n",
       "  background-color: #d95847;\n",
       "  color: #f1f1f1;\n",
       "}\n",
       "#T_0e0e7_row2_col11, #T_0e0e7_row2_col14, #T_0e0e7_row4_col14, #T_0e0e7_row11_col2, #T_0e0e7_row14_col2, #T_0e0e7_row14_col4 {\n",
       "  background-color: #e8d6cc;\n",
       "  color: #000000;\n",
       "}\n",
       "#T_0e0e7_row2_col12, #T_0e0e7_row12_col2 {\n",
       "  background-color: #e6d7cf;\n",
       "  color: #000000;\n",
       "}\n",
       "#T_0e0e7_row2_col13, #T_0e0e7_row8_col10, #T_0e0e7_row10_col8, #T_0e0e7_row13_col2 {\n",
       "  background-color: #e3d9d3;\n",
       "  color: #000000;\n",
       "}\n",
       "#T_0e0e7_row2_col15, #T_0e0e7_row3_col13, #T_0e0e7_row9_col12, #T_0e0e7_row12_col9, #T_0e0e7_row12_col13, #T_0e0e7_row13_col3, #T_0e0e7_row13_col12, #T_0e0e7_row15_col2 {\n",
       "  background-color: #dcdddd;\n",
       "  color: #000000;\n",
       "}\n",
       "#T_0e0e7_row3_col5, #T_0e0e7_row5_col3 {\n",
       "  background-color: #f1cdba;\n",
       "  color: #000000;\n",
       "}\n",
       "#T_0e0e7_row3_col6, #T_0e0e7_row4_col12, #T_0e0e7_row6_col3, #T_0e0e7_row12_col4 {\n",
       "  background-color: #eed0c0;\n",
       "  color: #000000;\n",
       "}\n",
       "#T_0e0e7_row3_col7, #T_0e0e7_row7_col3 {\n",
       "  background-color: #f5c4ac;\n",
       "  color: #000000;\n",
       "}\n",
       "#T_0e0e7_row3_col9, #T_0e0e7_row6_col11, #T_0e0e7_row7_col8, #T_0e0e7_row8_col7, #T_0e0e7_row9_col3, #T_0e0e7_row11_col6, #T_0e0e7_row12_col15, #T_0e0e7_row15_col12 {\n",
       "  background-color: #e9d5cb;\n",
       "  color: #000000;\n",
       "}\n",
       "#T_0e0e7_row3_col10, #T_0e0e7_row10_col3 {\n",
       "  background-color: #ebd3c6;\n",
       "  color: #000000;\n",
       "}\n",
       "#T_0e0e7_row3_col11, #T_0e0e7_row4_col10, #T_0e0e7_row10_col4, #T_0e0e7_row11_col3 {\n",
       "  background-color: #f0cdbb;\n",
       "  color: #000000;\n",
       "}\n",
       "#T_0e0e7_row3_col12, #T_0e0e7_row12_col3 {\n",
       "  background-color: #ec8165;\n",
       "  color: #f1f1f1;\n",
       "}\n",
       "#T_0e0e7_row3_col14, #T_0e0e7_row14_col3 {\n",
       "  background-color: #f7b396;\n",
       "  color: #000000;\n",
       "}\n",
       "#T_0e0e7_row4_col5, #T_0e0e7_row5_col4 {\n",
       "  background-color: #f4c6af;\n",
       "  color: #000000;\n",
       "}\n",
       "#T_0e0e7_row4_col6, #T_0e0e7_row6_col4 {\n",
       "  background-color: #f2cbb7;\n",
       "  color: #000000;\n",
       "}\n",
       "#T_0e0e7_row4_col7, #T_0e0e7_row5_col7, #T_0e0e7_row7_col4, #T_0e0e7_row7_col5 {\n",
       "  background-color: #f7b89c;\n",
       "  color: #000000;\n",
       "}\n",
       "#T_0e0e7_row4_col8, #T_0e0e7_row8_col4 {\n",
       "  background-color: #efcfbf;\n",
       "  color: #000000;\n",
       "}\n",
       "#T_0e0e7_row4_col9, #T_0e0e7_row9_col4, #T_0e0e7_row10_col11, #T_0e0e7_row11_col10 {\n",
       "  background-color: #edd1c2;\n",
       "  color: #000000;\n",
       "}\n",
       "#T_0e0e7_row4_col11, #T_0e0e7_row11_col4 {\n",
       "  background-color: #d5dbe5;\n",
       "  color: #000000;\n",
       "}\n",
       "#T_0e0e7_row4_col13, #T_0e0e7_row4_col15, #T_0e0e7_row10_col12, #T_0e0e7_row12_col10, #T_0e0e7_row13_col4, #T_0e0e7_row15_col4 {\n",
       "  background-color: #dddcdc;\n",
       "  color: #000000;\n",
       "}\n",
       "#T_0e0e7_row5_col6, #T_0e0e7_row6_col5 {\n",
       "  background-color: #bd1f2d;\n",
       "  color: #f1f1f1;\n",
       "}\n",
       "#T_0e0e7_row5_col8, #T_0e0e7_row8_col5 {\n",
       "  background-color: #f7b194;\n",
       "  color: #000000;\n",
       "}\n",
       "#T_0e0e7_row5_col9, #T_0e0e7_row9_col5 {\n",
       "  background-color: #f6a283;\n",
       "  color: #000000;\n",
       "}\n",
       "#T_0e0e7_row5_col12, #T_0e0e7_row12_col5 {\n",
       "  background-color: #dfdbd9;\n",
       "  color: #000000;\n",
       "}\n",
       "#T_0e0e7_row5_col15, #T_0e0e7_row7_col12, #T_0e0e7_row7_col14, #T_0e0e7_row8_col15, #T_0e0e7_row9_col15, #T_0e0e7_row12_col7, #T_0e0e7_row14_col7, #T_0e0e7_row15_col5, #T_0e0e7_row15_col8, #T_0e0e7_row15_col9 {\n",
       "  background-color: #e1dad6;\n",
       "  color: #000000;\n",
       "}\n",
       "#T_0e0e7_row6_col12, #T_0e0e7_row7_col13, #T_0e0e7_row12_col6, #T_0e0e7_row13_col7 {\n",
       "  background-color: #dedcdb;\n",
       "  color: #000000;\n",
       "}\n",
       "#T_0e0e7_row6_col15, #T_0e0e7_row7_col11, #T_0e0e7_row8_col9, #T_0e0e7_row8_col12, #T_0e0e7_row9_col8, #T_0e0e7_row11_col7, #T_0e0e7_row12_col8, #T_0e0e7_row15_col6 {\n",
       "  background-color: #e0dbd8;\n",
       "  color: #000000;\n",
       "}\n",
       "#T_0e0e7_row7_col10, #T_0e0e7_row9_col11, #T_0e0e7_row9_col13, #T_0e0e7_row10_col7, #T_0e0e7_row11_col9, #T_0e0e7_row13_col9 {\n",
       "  background-color: #f7aa8c;\n",
       "  color: #000000;\n",
       "}\n",
       "#T_0e0e7_row8_col11, #T_0e0e7_row11_col8 {\n",
       "  background-color: #d6dce4;\n",
       "  color: #000000;\n",
       "}\n",
       "#T_0e0e7_row8_col13, #T_0e0e7_row13_col8 {\n",
       "  background-color: #d8dce2;\n",
       "  color: #000000;\n",
       "}\n",
       "#T_0e0e7_row8_col14, #T_0e0e7_row10_col15, #T_0e0e7_row14_col8, #T_0e0e7_row15_col10 {\n",
       "  background-color: #dbdcde;\n",
       "  color: #000000;\n",
       "}\n",
       "#T_0e0e7_row9_col10, #T_0e0e7_row10_col9 {\n",
       "  background-color: #c73635;\n",
       "  color: #f1f1f1;\n",
       "}\n",
       "#T_0e0e7_row9_col14, #T_0e0e7_row14_col9 {\n",
       "  background-color: #f6bda2;\n",
       "  color: #000000;\n",
       "}\n",
       "#T_0e0e7_row11_col12, #T_0e0e7_row12_col11 {\n",
       "  background-color: #ef886b;\n",
       "  color: #f1f1f1;\n",
       "}\n",
       "#T_0e0e7_row11_col13, #T_0e0e7_row13_col11 {\n",
       "  background-color: #d55042;\n",
       "  color: #f1f1f1;\n",
       "}\n",
       "#T_0e0e7_row11_col14, #T_0e0e7_row14_col11 {\n",
       "  background-color: #bb1b2c;\n",
       "  color: #f1f1f1;\n",
       "}\n",
       "#T_0e0e7_row11_col15, #T_0e0e7_row14_col15, #T_0e0e7_row15_col11, #T_0e0e7_row15_col14 {\n",
       "  background-color: #ead5c9;\n",
       "  color: #000000;\n",
       "}\n",
       "#T_0e0e7_row12_col14, #T_0e0e7_row14_col12 {\n",
       "  background-color: #e36b54;\n",
       "  color: #f1f1f1;\n",
       "}\n",
       "#T_0e0e7_row13_col14, #T_0e0e7_row14_col13 {\n",
       "  background-color: #e0654f;\n",
       "  color: #f1f1f1;\n",
       "}\n",
       "</style>\n",
       "<table id=\"T_0e0e7\">\n",
       "  <thead>\n",
       "    <tr>\n",
       "      <th class=\"blank level0\" >&nbsp;</th>\n",
       "      <th id=\"T_0e0e7_level0_col0\" class=\"col_heading level0 col0\" >pts</th>\n",
       "      <th id=\"T_0e0e7_level0_col1\" class=\"col_heading level0 col1\" >fgm</th>\n",
       "      <th id=\"T_0e0e7_level0_col2\" class=\"col_heading level0 col2\" >fga</th>\n",
       "      <th id=\"T_0e0e7_level0_col3\" class=\"col_heading level0 col3\" >pm3</th>\n",
       "      <th id=\"T_0e0e7_level0_col4\" class=\"col_heading level0 col4\" >pa3</th>\n",
       "      <th id=\"T_0e0e7_level0_col5\" class=\"col_heading level0 col5\" >ftm</th>\n",
       "      <th id=\"T_0e0e7_level0_col6\" class=\"col_heading level0 col6\" >fta</th>\n",
       "      <th id=\"T_0e0e7_level0_col7\" class=\"col_heading level0 col7\" >ast</th>\n",
       "      <th id=\"T_0e0e7_level0_col8\" class=\"col_heading level0 col8\" >ft%</th>\n",
       "      <th id=\"T_0e0e7_level0_col9\" class=\"col_heading level0 col9\" >pm2</th>\n",
       "      <th id=\"T_0e0e7_level0_col10\" class=\"col_heading level0 col10\" >pa2</th>\n",
       "      <th id=\"T_0e0e7_level0_col11\" class=\"col_heading level0 col11\" >fg%</th>\n",
       "      <th id=\"T_0e0e7_level0_col12\" class=\"col_heading level0 col12\" >3p%</th>\n",
       "      <th id=\"T_0e0e7_level0_col13\" class=\"col_heading level0 col13\" >2p%</th>\n",
       "      <th id=\"T_0e0e7_level0_col14\" class=\"col_heading level0 col14\" >eFG%</th>\n",
       "      <th id=\"T_0e0e7_level0_col15\" class=\"col_heading level0 col15\" >win</th>\n",
       "    </tr>\n",
       "  </thead>\n",
       "  <tbody>\n",
       "    <tr>\n",
       "      <th id=\"T_0e0e7_level0_row0\" class=\"row_heading level0 row0\" >pts</th>\n",
       "      <td id=\"T_0e0e7_row0_col0\" class=\"data row0 col0\" >1.00</td>\n",
       "      <td id=\"T_0e0e7_row0_col1\" class=\"data row0 col1\" >0.96</td>\n",
       "      <td id=\"T_0e0e7_row0_col2\" class=\"data row0 col2\" >0.88</td>\n",
       "      <td id=\"T_0e0e7_row0_col3\" class=\"data row0 col3\" >0.60</td>\n",
       "      <td id=\"T_0e0e7_row0_col4\" class=\"data row0 col4\" >0.55</td>\n",
       "      <td id=\"T_0e0e7_row0_col5\" class=\"data row0 col5\" >0.66</td>\n",
       "      <td id=\"T_0e0e7_row0_col6\" class=\"data row0 col6\" >0.65</td>\n",
       "      <td id=\"T_0e0e7_row0_col7\" class=\"data row0 col7\" >0.44</td>\n",
       "      <td id=\"T_0e0e7_row0_col8\" class=\"data row0 col8\" >0.19</td>\n",
       "      <td id=\"T_0e0e7_row0_col9\" class=\"data row0 col9\" >0.82</td>\n",
       "      <td id=\"T_0e0e7_row0_col10\" class=\"data row0 col10\" >0.77</td>\n",
       "      <td id=\"T_0e0e7_row0_col11\" class=\"data row0 col11\" >0.38</td>\n",
       "      <td id=\"T_0e0e7_row0_col12\" class=\"data row0 col12\" >0.31</td>\n",
       "      <td id=\"T_0e0e7_row0_col13\" class=\"data row0 col13\" >0.28</td>\n",
       "      <td id=\"T_0e0e7_row0_col14\" class=\"data row0 col14\" >0.39</td>\n",
       "      <td id=\"T_0e0e7_row0_col15\" class=\"data row0 col15\" >0.06</td>\n",
       "    </tr>\n",
       "    <tr>\n",
       "      <th id=\"T_0e0e7_level0_row1\" class=\"row_heading level0 row1\" >fgm</th>\n",
       "      <td id=\"T_0e0e7_row1_col0\" class=\"data row1 col0\" >0.96</td>\n",
       "      <td id=\"T_0e0e7_row1_col1\" class=\"data row1 col1\" >1.00</td>\n",
       "      <td id=\"T_0e0e7_row1_col2\" class=\"data row1 col2\" >0.88</td>\n",
       "      <td id=\"T_0e0e7_row1_col3\" class=\"data row1 col3\" >0.52</td>\n",
       "      <td id=\"T_0e0e7_row1_col4\" class=\"data row1 col4\" >0.48</td>\n",
       "      <td id=\"T_0e0e7_row1_col5\" class=\"data row1 col5\" >0.47</td>\n",
       "      <td id=\"T_0e0e7_row1_col6\" class=\"data row1 col6\" >0.48</td>\n",
       "      <td id=\"T_0e0e7_row1_col7\" class=\"data row1 col7\" >0.42</td>\n",
       "      <td id=\"T_0e0e7_row1_col8\" class=\"data row1 col8\" >0.08</td>\n",
       "      <td id=\"T_0e0e7_row1_col9\" class=\"data row1 col9\" >0.90</td>\n",
       "      <td id=\"T_0e0e7_row1_col10\" class=\"data row1 col10\" >0.82</td>\n",
       "      <td id=\"T_0e0e7_row1_col11\" class=\"data row1 col11\" >0.44</td>\n",
       "      <td id=\"T_0e0e7_row1_col12\" class=\"data row1 col12\" >0.28</td>\n",
       "      <td id=\"T_0e0e7_row1_col13\" class=\"data row1 col13\" >0.35</td>\n",
       "      <td id=\"T_0e0e7_row1_col14\" class=\"data row1 col14\" >0.42</td>\n",
       "      <td id=\"T_0e0e7_row1_col15\" class=\"data row1 col15\" >0.06</td>\n",
       "    </tr>\n",
       "    <tr>\n",
       "      <th id=\"T_0e0e7_level0_row2\" class=\"row_heading level0 row2\" >fga</th>\n",
       "      <td id=\"T_0e0e7_row2_col0\" class=\"data row2 col0\" >0.88</td>\n",
       "      <td id=\"T_0e0e7_row2_col1\" class=\"data row2 col1\" >0.88</td>\n",
       "      <td id=\"T_0e0e7_row2_col2\" class=\"data row2 col2\" >1.00</td>\n",
       "      <td id=\"T_0e0e7_row2_col3\" class=\"data row2 col3\" >0.49</td>\n",
       "      <td id=\"T_0e0e7_row2_col4\" class=\"data row2 col4\" >0.62</td>\n",
       "      <td id=\"T_0e0e7_row2_col5\" class=\"data row2 col5\" >0.51</td>\n",
       "      <td id=\"T_0e0e7_row2_col6\" class=\"data row2 col6\" >0.51</td>\n",
       "      <td id=\"T_0e0e7_row2_col7\" class=\"data row2 col7\" >0.49</td>\n",
       "      <td id=\"T_0e0e7_row2_col8\" class=\"data row2 col8\" >0.13</td>\n",
       "      <td id=\"T_0e0e7_row2_col9\" class=\"data row2 col9\" >0.78</td>\n",
       "      <td id=\"T_0e0e7_row2_col10\" class=\"data row2 col10\" >0.88</td>\n",
       "      <td id=\"T_0e0e7_row2_col11\" class=\"data row2 col11\" >0.09</td>\n",
       "      <td id=\"T_0e0e7_row2_col12\" class=\"data row2 col12\" >0.07</td>\n",
       "      <td id=\"T_0e0e7_row2_col13\" class=\"data row2 col13\" >0.05</td>\n",
       "      <td id=\"T_0e0e7_row2_col14\" class=\"data row2 col14\" >0.09</td>\n",
       "      <td id=\"T_0e0e7_row2_col15\" class=\"data row2 col15\" >-0.01</td>\n",
       "    </tr>\n",
       "    <tr>\n",
       "      <th id=\"T_0e0e7_level0_row3\" class=\"row_heading level0 row3\" >pm3</th>\n",
       "      <td id=\"T_0e0e7_row3_col0\" class=\"data row3 col0\" >0.60</td>\n",
       "      <td id=\"T_0e0e7_row3_col1\" class=\"data row3 col1\" >0.52</td>\n",
       "      <td id=\"T_0e0e7_row3_col2\" class=\"data row3 col2\" >0.49</td>\n",
       "      <td id=\"T_0e0e7_row3_col3\" class=\"data row3 col3\" >1.00</td>\n",
       "      <td id=\"T_0e0e7_row3_col4\" class=\"data row3 col4\" >0.82</td>\n",
       "      <td id=\"T_0e0e7_row3_col5\" class=\"data row3 col5\" >0.18</td>\n",
       "      <td id=\"T_0e0e7_row3_col6\" class=\"data row3 col6\" >0.15</td>\n",
       "      <td id=\"T_0e0e7_row3_col7\" class=\"data row3 col7\" >0.26</td>\n",
       "      <td id=\"T_0e0e7_row3_col8\" class=\"data row3 col8\" >0.13</td>\n",
       "      <td id=\"T_0e0e7_row3_col9\" class=\"data row3 col9\" >0.10</td>\n",
       "      <td id=\"T_0e0e7_row3_col10\" class=\"data row3 col10\" >0.12</td>\n",
       "      <td id=\"T_0e0e7_row3_col11\" class=\"data row3 col11\" >0.18</td>\n",
       "      <td id=\"T_0e0e7_row3_col12\" class=\"data row3 col12\" >0.61</td>\n",
       "      <td id=\"T_0e0e7_row3_col13\" class=\"data row3 col13\" >-0.00</td>\n",
       "      <td id=\"T_0e0e7_row3_col14\" class=\"data row3 col14\" >0.36</td>\n",
       "      <td id=\"T_0e0e7_row3_col15\" class=\"data row3 col15\" >0.06</td>\n",
       "    </tr>\n",
       "    <tr>\n",
       "      <th id=\"T_0e0e7_level0_row4\" class=\"row_heading level0 row4\" >pa3</th>\n",
       "      <td id=\"T_0e0e7_row4_col0\" class=\"data row4 col0\" >0.55</td>\n",
       "      <td id=\"T_0e0e7_row4_col1\" class=\"data row4 col1\" >0.48</td>\n",
       "      <td id=\"T_0e0e7_row4_col2\" class=\"data row4 col2\" >0.62</td>\n",
       "      <td id=\"T_0e0e7_row4_col3\" class=\"data row4 col3\" >0.82</td>\n",
       "      <td id=\"T_0e0e7_row4_col4\" class=\"data row4 col4\" >1.00</td>\n",
       "      <td id=\"T_0e0e7_row4_col5\" class=\"data row4 col5\" >0.24</td>\n",
       "      <td id=\"T_0e0e7_row4_col6\" class=\"data row4 col6\" >0.20</td>\n",
       "      <td id=\"T_0e0e7_row4_col7\" class=\"data row4 col7\" >0.33</td>\n",
       "      <td id=\"T_0e0e7_row4_col8\" class=\"data row4 col8\" >0.16</td>\n",
       "      <td id=\"T_0e0e7_row4_col9\" class=\"data row4 col9\" >0.14</td>\n",
       "      <td id=\"T_0e0e7_row4_col10\" class=\"data row4 col10\" >0.17</td>\n",
       "      <td id=\"T_0e0e7_row4_col11\" class=\"data row4 col11\" >-0.06</td>\n",
       "      <td id=\"T_0e0e7_row4_col12\" class=\"data row4 col12\" >0.15</td>\n",
       "      <td id=\"T_0e0e7_row4_col13\" class=\"data row4 col13\" >0.00</td>\n",
       "      <td id=\"T_0e0e7_row4_col14\" class=\"data row4 col14\" >0.09</td>\n",
       "      <td id=\"T_0e0e7_row4_col15\" class=\"data row4 col15\" >0.00</td>\n",
       "    </tr>\n",
       "    <tr>\n",
       "      <th id=\"T_0e0e7_level0_row5\" class=\"row_heading level0 row5\" >ftm</th>\n",
       "      <td id=\"T_0e0e7_row5_col0\" class=\"data row5 col0\" >0.66</td>\n",
       "      <td id=\"T_0e0e7_row5_col1\" class=\"data row5 col1\" >0.47</td>\n",
       "      <td id=\"T_0e0e7_row5_col2\" class=\"data row5 col2\" >0.51</td>\n",
       "      <td id=\"T_0e0e7_row5_col3\" class=\"data row5 col3\" >0.18</td>\n",
       "      <td id=\"T_0e0e7_row5_col4\" class=\"data row5 col4\" >0.24</td>\n",
       "      <td id=\"T_0e0e7_row5_col5\" class=\"data row5 col5\" >1.00</td>\n",
       "      <td id=\"T_0e0e7_row5_col6\" class=\"data row5 col6\" >0.95</td>\n",
       "      <td id=\"T_0e0e7_row5_col7\" class=\"data row5 col7\" >0.33</td>\n",
       "      <td id=\"T_0e0e7_row5_col8\" class=\"data row5 col8\" >0.37</td>\n",
       "      <td id=\"T_0e0e7_row5_col9\" class=\"data row5 col9\" >0.45</td>\n",
       "      <td id=\"T_0e0e7_row5_col10\" class=\"data row5 col10\" >0.49</td>\n",
       "      <td id=\"T_0e0e7_row5_col11\" class=\"data row5 col11\" >0.08</td>\n",
       "      <td id=\"T_0e0e7_row5_col12\" class=\"data row5 col12\" >0.02</td>\n",
       "      <td id=\"T_0e0e7_row5_col13\" class=\"data row5 col13\" >0.06</td>\n",
       "      <td id=\"T_0e0e7_row5_col14\" class=\"data row5 col14\" >0.06</td>\n",
       "      <td id=\"T_0e0e7_row5_col15\" class=\"data row5 col15\" >0.03</td>\n",
       "    </tr>\n",
       "    <tr>\n",
       "      <th id=\"T_0e0e7_level0_row6\" class=\"row_heading level0 row6\" >fta</th>\n",
       "      <td id=\"T_0e0e7_row6_col0\" class=\"data row6 col0\" >0.65</td>\n",
       "      <td id=\"T_0e0e7_row6_col1\" class=\"data row6 col1\" >0.48</td>\n",
       "      <td id=\"T_0e0e7_row6_col2\" class=\"data row6 col2\" >0.51</td>\n",
       "      <td id=\"T_0e0e7_row6_col3\" class=\"data row6 col3\" >0.15</td>\n",
       "      <td id=\"T_0e0e7_row6_col4\" class=\"data row6 col4\" >0.20</td>\n",
       "      <td id=\"T_0e0e7_row6_col5\" class=\"data row6 col5\" >0.95</td>\n",
       "      <td id=\"T_0e0e7_row6_col6\" class=\"data row6 col6\" >1.00</td>\n",
       "      <td id=\"T_0e0e7_row6_col7\" class=\"data row6 col7\" >0.32</td>\n",
       "      <td id=\"T_0e0e7_row6_col8\" class=\"data row6 col8\" >0.06</td>\n",
       "      <td id=\"T_0e0e7_row6_col9\" class=\"data row6 col9\" >0.48</td>\n",
       "      <td id=\"T_0e0e7_row6_col10\" class=\"data row6 col10\" >0.51</td>\n",
       "      <td id=\"T_0e0e7_row6_col11\" class=\"data row6 col11\" >0.10</td>\n",
       "      <td id=\"T_0e0e7_row6_col12\" class=\"data row6 col12\" >0.01</td>\n",
       "      <td id=\"T_0e0e7_row6_col13\" class=\"data row6 col13\" >0.07</td>\n",
       "      <td id=\"T_0e0e7_row6_col14\" class=\"data row6 col14\" >0.07</td>\n",
       "      <td id=\"T_0e0e7_row6_col15\" class=\"data row6 col15\" >0.03</td>\n",
       "    </tr>\n",
       "    <tr>\n",
       "      <th id=\"T_0e0e7_level0_row7\" class=\"row_heading level0 row7\" >ast</th>\n",
       "      <td id=\"T_0e0e7_row7_col0\" class=\"data row7 col0\" >0.44</td>\n",
       "      <td id=\"T_0e0e7_row7_col1\" class=\"data row7 col1\" >0.42</td>\n",
       "      <td id=\"T_0e0e7_row7_col2\" class=\"data row7 col2\" >0.49</td>\n",
       "      <td id=\"T_0e0e7_row7_col3\" class=\"data row7 col3\" >0.26</td>\n",
       "      <td id=\"T_0e0e7_row7_col4\" class=\"data row7 col4\" >0.33</td>\n",
       "      <td id=\"T_0e0e7_row7_col5\" class=\"data row7 col5\" >0.33</td>\n",
       "      <td id=\"T_0e0e7_row7_col6\" class=\"data row7 col6\" >0.32</td>\n",
       "      <td id=\"T_0e0e7_row7_col7\" class=\"data row7 col7\" >1.00</td>\n",
       "      <td id=\"T_0e0e7_row7_col8\" class=\"data row7 col8\" >0.09</td>\n",
       "      <td id=\"T_0e0e7_row7_col9\" class=\"data row7 col9\" >0.35</td>\n",
       "      <td id=\"T_0e0e7_row7_col10\" class=\"data row7 col10\" >0.41</td>\n",
       "      <td id=\"T_0e0e7_row7_col11\" class=\"data row7 col11\" >0.03</td>\n",
       "      <td id=\"T_0e0e7_row7_col12\" class=\"data row7 col12\" >0.03</td>\n",
       "      <td id=\"T_0e0e7_row7_col13\" class=\"data row7 col13\" >0.01</td>\n",
       "      <td id=\"T_0e0e7_row7_col14\" class=\"data row7 col14\" >0.03</td>\n",
       "      <td id=\"T_0e0e7_row7_col15\" class=\"data row7 col15\" >0.06</td>\n",
       "    </tr>\n",
       "    <tr>\n",
       "      <th id=\"T_0e0e7_level0_row8\" class=\"row_heading level0 row8\" >ft%</th>\n",
       "      <td id=\"T_0e0e7_row8_col0\" class=\"data row8 col0\" >0.19</td>\n",
       "      <td id=\"T_0e0e7_row8_col1\" class=\"data row8 col1\" >0.08</td>\n",
       "      <td id=\"T_0e0e7_row8_col2\" class=\"data row8 col2\" >0.13</td>\n",
       "      <td id=\"T_0e0e7_row8_col3\" class=\"data row8 col3\" >0.13</td>\n",
       "      <td id=\"T_0e0e7_row8_col4\" class=\"data row8 col4\" >0.16</td>\n",
       "      <td id=\"T_0e0e7_row8_col5\" class=\"data row8 col5\" >0.37</td>\n",
       "      <td id=\"T_0e0e7_row8_col6\" class=\"data row8 col6\" >0.06</td>\n",
       "      <td id=\"T_0e0e7_row8_col7\" class=\"data row8 col7\" >0.09</td>\n",
       "      <td id=\"T_0e0e7_row8_col8\" class=\"data row8 col8\" >1.00</td>\n",
       "      <td id=\"T_0e0e7_row8_col9\" class=\"data row8 col9\" >0.03</td>\n",
       "      <td id=\"T_0e0e7_row8_col10\" class=\"data row8 col10\" >0.05</td>\n",
       "      <td id=\"T_0e0e7_row8_col11\" class=\"data row8 col11\" >-0.05</td>\n",
       "      <td id=\"T_0e0e7_row8_col12\" class=\"data row8 col12\" >0.03</td>\n",
       "      <td id=\"T_0e0e7_row8_col13\" class=\"data row8 col13\" >-0.03</td>\n",
       "      <td id=\"T_0e0e7_row8_col14\" class=\"data row8 col14\" >-0.01</td>\n",
       "      <td id=\"T_0e0e7_row8_col15\" class=\"data row8 col15\" >0.04</td>\n",
       "    </tr>\n",
       "    <tr>\n",
       "      <th id=\"T_0e0e7_level0_row9\" class=\"row_heading level0 row9\" >pm2</th>\n",
       "      <td id=\"T_0e0e7_row9_col0\" class=\"data row9 col0\" >0.82</td>\n",
       "      <td id=\"T_0e0e7_row9_col1\" class=\"data row9 col1\" >0.90</td>\n",
       "      <td id=\"T_0e0e7_row9_col2\" class=\"data row9 col2\" >0.78</td>\n",
       "      <td id=\"T_0e0e7_row9_col3\" class=\"data row9 col3\" >0.10</td>\n",
       "      <td id=\"T_0e0e7_row9_col4\" class=\"data row9 col4\" >0.14</td>\n",
       "      <td id=\"T_0e0e7_row9_col5\" class=\"data row9 col5\" >0.45</td>\n",
       "      <td id=\"T_0e0e7_row9_col6\" class=\"data row9 col6\" >0.48</td>\n",
       "      <td id=\"T_0e0e7_row9_col7\" class=\"data row9 col7\" >0.35</td>\n",
       "      <td id=\"T_0e0e7_row9_col8\" class=\"data row9 col8\" >0.03</td>\n",
       "      <td id=\"T_0e0e7_row9_col9\" class=\"data row9 col9\" >1.00</td>\n",
       "      <td id=\"T_0e0e7_row9_col10\" class=\"data row9 col10\" >0.89</td>\n",
       "      <td id=\"T_0e0e7_row9_col11\" class=\"data row9 col11\" >0.41</td>\n",
       "      <td id=\"T_0e0e7_row9_col12\" class=\"data row9 col12\" >-0.00</td>\n",
       "      <td id=\"T_0e0e7_row9_col13\" class=\"data row9 col13\" >0.41</td>\n",
       "      <td id=\"T_0e0e7_row9_col14\" class=\"data row9 col14\" >0.30</td>\n",
       "      <td id=\"T_0e0e7_row9_col15\" class=\"data row9 col15\" >0.04</td>\n",
       "    </tr>\n",
       "    <tr>\n",
       "      <th id=\"T_0e0e7_level0_row10\" class=\"row_heading level0 row10\" >pa2</th>\n",
       "      <td id=\"T_0e0e7_row10_col0\" class=\"data row10 col0\" >0.77</td>\n",
       "      <td id=\"T_0e0e7_row10_col1\" class=\"data row10 col1\" >0.82</td>\n",
       "      <td id=\"T_0e0e7_row10_col2\" class=\"data row10 col2\" >0.88</td>\n",
       "      <td id=\"T_0e0e7_row10_col3\" class=\"data row10 col3\" >0.12</td>\n",
       "      <td id=\"T_0e0e7_row10_col4\" class=\"data row10 col4\" >0.17</td>\n",
       "      <td id=\"T_0e0e7_row10_col5\" class=\"data row10 col5\" >0.49</td>\n",
       "      <td id=\"T_0e0e7_row10_col6\" class=\"data row10 col6\" >0.51</td>\n",
       "      <td id=\"T_0e0e7_row10_col7\" class=\"data row10 col7\" >0.41</td>\n",
       "      <td id=\"T_0e0e7_row10_col8\" class=\"data row10 col8\" >0.05</td>\n",
       "      <td id=\"T_0e0e7_row10_col9\" class=\"data row10 col9\" >0.89</td>\n",
       "      <td id=\"T_0e0e7_row10_col10\" class=\"data row10 col10\" >1.00</td>\n",
       "      <td id=\"T_0e0e7_row10_col11\" class=\"data row10 col11\" >0.14</td>\n",
       "      <td id=\"T_0e0e7_row10_col12\" class=\"data row10 col12\" >0.00</td>\n",
       "      <td id=\"T_0e0e7_row10_col13\" class=\"data row10 col13\" >0.06</td>\n",
       "      <td id=\"T_0e0e7_row10_col14\" class=\"data row10 col14\" >0.06</td>\n",
       "      <td id=\"T_0e0e7_row10_col15\" class=\"data row10 col15\" >-0.01</td>\n",
       "    </tr>\n",
       "    <tr>\n",
       "      <th id=\"T_0e0e7_level0_row11\" class=\"row_heading level0 row11\" >fg%</th>\n",
       "      <td id=\"T_0e0e7_row11_col0\" class=\"data row11 col0\" >0.38</td>\n",
       "      <td id=\"T_0e0e7_row11_col1\" class=\"data row11 col1\" >0.44</td>\n",
       "      <td id=\"T_0e0e7_row11_col2\" class=\"data row11 col2\" >0.09</td>\n",
       "      <td id=\"T_0e0e7_row11_col3\" class=\"data row11 col3\" >0.18</td>\n",
       "      <td id=\"T_0e0e7_row11_col4\" class=\"data row11 col4\" >-0.06</td>\n",
       "      <td id=\"T_0e0e7_row11_col5\" class=\"data row11 col5\" >0.08</td>\n",
       "      <td id=\"T_0e0e7_row11_col6\" class=\"data row11 col6\" >0.10</td>\n",
       "      <td id=\"T_0e0e7_row11_col7\" class=\"data row11 col7\" >0.03</td>\n",
       "      <td id=\"T_0e0e7_row11_col8\" class=\"data row11 col8\" >-0.05</td>\n",
       "      <td id=\"T_0e0e7_row11_col9\" class=\"data row11 col9\" >0.41</td>\n",
       "      <td id=\"T_0e0e7_row11_col10\" class=\"data row11 col10\" >0.14</td>\n",
       "      <td id=\"T_0e0e7_row11_col11\" class=\"data row11 col11\" >1.00</td>\n",
       "      <td id=\"T_0e0e7_row11_col12\" class=\"data row11 col12\" >0.58</td>\n",
       "      <td id=\"T_0e0e7_row11_col13\" class=\"data row11 col13\" >0.81</td>\n",
       "      <td id=\"T_0e0e7_row11_col14\" class=\"data row11 col14\" >0.96</td>\n",
       "      <td id=\"T_0e0e7_row11_col15\" class=\"data row11 col15\" >0.10</td>\n",
       "    </tr>\n",
       "    <tr>\n",
       "      <th id=\"T_0e0e7_level0_row12\" class=\"row_heading level0 row12\" >3p%</th>\n",
       "      <td id=\"T_0e0e7_row12_col0\" class=\"data row12 col0\" >0.31</td>\n",
       "      <td id=\"T_0e0e7_row12_col1\" class=\"data row12 col1\" >0.28</td>\n",
       "      <td id=\"T_0e0e7_row12_col2\" class=\"data row12 col2\" >0.07</td>\n",
       "      <td id=\"T_0e0e7_row12_col3\" class=\"data row12 col3\" >0.61</td>\n",
       "      <td id=\"T_0e0e7_row12_col4\" class=\"data row12 col4\" >0.15</td>\n",
       "      <td id=\"T_0e0e7_row12_col5\" class=\"data row12 col5\" >0.02</td>\n",
       "      <td id=\"T_0e0e7_row12_col6\" class=\"data row12 col6\" >0.01</td>\n",
       "      <td id=\"T_0e0e7_row12_col7\" class=\"data row12 col7\" >0.03</td>\n",
       "      <td id=\"T_0e0e7_row12_col8\" class=\"data row12 col8\" >0.03</td>\n",
       "      <td id=\"T_0e0e7_row12_col9\" class=\"data row12 col9\" >-0.00</td>\n",
       "      <td id=\"T_0e0e7_row12_col10\" class=\"data row12 col10\" >0.00</td>\n",
       "      <td id=\"T_0e0e7_row12_col11\" class=\"data row12 col11\" >0.58</td>\n",
       "      <td id=\"T_0e0e7_row12_col12\" class=\"data row12 col12\" >1.00</td>\n",
       "      <td id=\"T_0e0e7_row12_col13\" class=\"data row12 col13\" >-0.00</td>\n",
       "      <td id=\"T_0e0e7_row12_col14\" class=\"data row12 col14\" >0.71</td>\n",
       "      <td id=\"T_0e0e7_row12_col15\" class=\"data row12 col15\" >0.10</td>\n",
       "    </tr>\n",
       "    <tr>\n",
       "      <th id=\"T_0e0e7_level0_row13\" class=\"row_heading level0 row13\" >2p%</th>\n",
       "      <td id=\"T_0e0e7_row13_col0\" class=\"data row13 col0\" >0.28</td>\n",
       "      <td id=\"T_0e0e7_row13_col1\" class=\"data row13 col1\" >0.35</td>\n",
       "      <td id=\"T_0e0e7_row13_col2\" class=\"data row13 col2\" >0.05</td>\n",
       "      <td id=\"T_0e0e7_row13_col3\" class=\"data row13 col3\" >-0.00</td>\n",
       "      <td id=\"T_0e0e7_row13_col4\" class=\"data row13 col4\" >0.00</td>\n",
       "      <td id=\"T_0e0e7_row13_col5\" class=\"data row13 col5\" >0.06</td>\n",
       "      <td id=\"T_0e0e7_row13_col6\" class=\"data row13 col6\" >0.07</td>\n",
       "      <td id=\"T_0e0e7_row13_col7\" class=\"data row13 col7\" >0.01</td>\n",
       "      <td id=\"T_0e0e7_row13_col8\" class=\"data row13 col8\" >-0.03</td>\n",
       "      <td id=\"T_0e0e7_row13_col9\" class=\"data row13 col9\" >0.41</td>\n",
       "      <td id=\"T_0e0e7_row13_col10\" class=\"data row13 col10\" >0.06</td>\n",
       "      <td id=\"T_0e0e7_row13_col11\" class=\"data row13 col11\" >0.81</td>\n",
       "      <td id=\"T_0e0e7_row13_col12\" class=\"data row13 col12\" >-0.00</td>\n",
       "      <td id=\"T_0e0e7_row13_col13\" class=\"data row13 col13\" >1.00</td>\n",
       "      <td id=\"T_0e0e7_row13_col14\" class=\"data row13 col14\" >0.73</td>\n",
       "      <td id=\"T_0e0e7_row13_col15\" class=\"data row13 col15\" >0.08</td>\n",
       "    </tr>\n",
       "    <tr>\n",
       "      <th id=\"T_0e0e7_level0_row14\" class=\"row_heading level0 row14\" >eFG%</th>\n",
       "      <td id=\"T_0e0e7_row14_col0\" class=\"data row14 col0\" >0.39</td>\n",
       "      <td id=\"T_0e0e7_row14_col1\" class=\"data row14 col1\" >0.42</td>\n",
       "      <td id=\"T_0e0e7_row14_col2\" class=\"data row14 col2\" >0.09</td>\n",
       "      <td id=\"T_0e0e7_row14_col3\" class=\"data row14 col3\" >0.36</td>\n",
       "      <td id=\"T_0e0e7_row14_col4\" class=\"data row14 col4\" >0.09</td>\n",
       "      <td id=\"T_0e0e7_row14_col5\" class=\"data row14 col5\" >0.06</td>\n",
       "      <td id=\"T_0e0e7_row14_col6\" class=\"data row14 col6\" >0.07</td>\n",
       "      <td id=\"T_0e0e7_row14_col7\" class=\"data row14 col7\" >0.03</td>\n",
       "      <td id=\"T_0e0e7_row14_col8\" class=\"data row14 col8\" >-0.01</td>\n",
       "      <td id=\"T_0e0e7_row14_col9\" class=\"data row14 col9\" >0.30</td>\n",
       "      <td id=\"T_0e0e7_row14_col10\" class=\"data row14 col10\" >0.06</td>\n",
       "      <td id=\"T_0e0e7_row14_col11\" class=\"data row14 col11\" >0.96</td>\n",
       "      <td id=\"T_0e0e7_row14_col12\" class=\"data row14 col12\" >0.71</td>\n",
       "      <td id=\"T_0e0e7_row14_col13\" class=\"data row14 col13\" >0.73</td>\n",
       "      <td id=\"T_0e0e7_row14_col14\" class=\"data row14 col14\" >1.00</td>\n",
       "      <td id=\"T_0e0e7_row14_col15\" class=\"data row14 col15\" >0.11</td>\n",
       "    </tr>\n",
       "    <tr>\n",
       "      <th id=\"T_0e0e7_level0_row15\" class=\"row_heading level0 row15\" >win</th>\n",
       "      <td id=\"T_0e0e7_row15_col0\" class=\"data row15 col0\" >0.06</td>\n",
       "      <td id=\"T_0e0e7_row15_col1\" class=\"data row15 col1\" >0.06</td>\n",
       "      <td id=\"T_0e0e7_row15_col2\" class=\"data row15 col2\" >-0.01</td>\n",
       "      <td id=\"T_0e0e7_row15_col3\" class=\"data row15 col3\" >0.06</td>\n",
       "      <td id=\"T_0e0e7_row15_col4\" class=\"data row15 col4\" >0.00</td>\n",
       "      <td id=\"T_0e0e7_row15_col5\" class=\"data row15 col5\" >0.03</td>\n",
       "      <td id=\"T_0e0e7_row15_col6\" class=\"data row15 col6\" >0.03</td>\n",
       "      <td id=\"T_0e0e7_row15_col7\" class=\"data row15 col7\" >0.06</td>\n",
       "      <td id=\"T_0e0e7_row15_col8\" class=\"data row15 col8\" >0.04</td>\n",
       "      <td id=\"T_0e0e7_row15_col9\" class=\"data row15 col9\" >0.04</td>\n",
       "      <td id=\"T_0e0e7_row15_col10\" class=\"data row15 col10\" >-0.01</td>\n",
       "      <td id=\"T_0e0e7_row15_col11\" class=\"data row15 col11\" >0.10</td>\n",
       "      <td id=\"T_0e0e7_row15_col12\" class=\"data row15 col12\" >0.10</td>\n",
       "      <td id=\"T_0e0e7_row15_col13\" class=\"data row15 col13\" >0.08</td>\n",
       "      <td id=\"T_0e0e7_row15_col14\" class=\"data row15 col14\" >0.11</td>\n",
       "      <td id=\"T_0e0e7_row15_col15\" class=\"data row15 col15\" >1.00</td>\n",
       "    </tr>\n",
       "  </tbody>\n",
       "</table>\n"
      ],
      "text/plain": [
       "<pandas.io.formats.style.Styler at 0x7f63eaf6a0>"
      ]
     },
     "execution_count": 35,
     "metadata": {},
     "output_type": "execute_result"
    }
   ],
   "source": [
    "precision = 2\n",
    "cmap = 'coolwarm'\n",
    "\n",
    "to_plot.corr().style.background_gradient(cmap=cmap,vmin=-1,vmax=1).format(precision=precision)"
   ]
  },
  {
   "cell_type": "markdown",
   "metadata": {},
   "source": [
    "#### There are a number of correlated variables.\n",
    "\n",
    "- Points and field goals are the obvious correlated variables given that points are a linear combination of field goals and free throws and most points are obtained through field goals\n",
    "- There is also a high correlation between 2 point shots and field goals\n",
    "    - This is plausible because most players contribute points through 2 point shots\n",
    "- Free throw attempts and made free throws also have a high correlation\n",
    "    - Players tend to make a lot of their free throws with the first quartile of scoring performances having a 50% free throw percentage\n",
    "\n",
    "Dimensionality reduction can collapse these correlated dimensions to improve clustering.\n",
    "<!-- \n",
    "import matplotlib.pyplot as plt\n",
    "% matplotlib inline\n",
    "to_plot.hist(bins = 100,figsize=(30,15),grid=False)\n",
    "plt.show() -->"
   ]
  },
  {
   "cell_type": "code",
   "execution_count": null,
   "metadata": {},
   "outputs": [],
   "source": []
  },
  {
   "cell_type": "markdown",
   "metadata": {},
   "source": [
    "## Preprocessing"
   ]
  },
  {
   "cell_type": "code",
   "execution_count": null,
   "metadata": {},
   "outputs": [],
   "source": []
  },
  {
   "cell_type": "markdown",
   "metadata": {},
   "source": [
    "It is possible that there will be null values as a result of zero division (not attempting to shoot). Effectively, if a player does not attempt a shot, their percentage is 0.\n",
    "\n",
    "The percentages should be used together with the attempts to distinguish between players who attempted but did not make a shot and others who did not attempt at all."
   ]
  },
  {
   "cell_type": "code",
   "execution_count": 12,
   "metadata": {},
   "outputs": [],
   "source": [
    "percentage_cols = [i for i in scoring_df.columns if '%' in i]\n",
    "scoring_df = scoring_df.fillna(0,percentage_cols)"
   ]
  },
  {
   "cell_type": "markdown",
   "metadata": {},
   "source": [
    "All columns will be scaled to range [0,1]. Percentage columns already follow this. This will prove useful for any clustering measures because feature vectors will be unit vectors and prevents distance functions from becoming intractible.\n",
    "\n",
    "Having features on similar scales also prevents models and dimensionality reduction models from putting undue weight on features with larger scales."
   ]
  },
  {
   "cell_type": "code",
   "execution_count": 13,
   "metadata": {},
   "outputs": [],
   "source": [
    "features = scoring_df.columns[4:-1]\n",
    "to_scale = [i for i in features if ('%' not in i) or (i == 'eFG%')]\n",
    "keep = [i for i in features if i not in to_scale]"
   ]
  },
  {
   "cell_type": "markdown",
   "metadata": {},
   "source": [
    "Transformation stage"
   ]
  },
  {
   "cell_type": "code",
   "execution_count": 14,
   "metadata": {},
   "outputs": [],
   "source": [
    "from pyspark.ml.feature import MinMaxScaler, VectorAssembler\n",
    "\n",
    "scale_assembler = VectorAssembler(inputCols=to_scale,outputCol='to_scale_features')\n",
    "scoring_df = scale_assembler.transform(scoring_df)\n",
    "\n",
    "keep_assembler = VectorAssembler(inputCols=keep,outputCol='unscaled_features')\n",
    "scoring_df = keep_assembler.transform(scoring_df)"
   ]
  },
  {
   "cell_type": "code",
   "execution_count": 15,
   "metadata": {},
   "outputs": [
    {
     "name": "stderr",
     "output_type": "stream",
     "text": [
      "                                                                                \r"
     ]
    }
   ],
   "source": [
    "mm_scaler = MinMaxScaler(inputCol= 'to_scale_features', outputCol='scaled_features')\n",
    "scaler = mm_scaler.fit(scoring_df)\n",
    "\n",
    "scoring_df = scaler.transform(scoring_df)"
   ]
  },
  {
   "cell_type": "code",
   "execution_count": 16,
   "metadata": {},
   "outputs": [],
   "source": [
    "assembler = VectorAssembler(inputCols=['scaled_features','unscaled_features'],outputCol = 'features')\n",
    "\n",
    "scoring_df = assembler.transform(scoring_df)"
   ]
  },
  {
   "cell_type": "markdown",
   "metadata": {},
   "source": [
    "Let's use PCA to perform dimensionality reduction and examine which number of components explain a reasonable amount of the variance.\n",
    "\n",
    "There are 15 features at the moment. Let's try reducing to 10 principal components."
   ]
  },
  {
   "cell_type": "code",
   "execution_count": 17,
   "metadata": {},
   "outputs": [
    {
     "data": {
      "text/plain": [
       "15"
      ]
     },
     "execution_count": 17,
     "metadata": {},
     "output_type": "execute_result"
    }
   ],
   "source": [
    "len(features)"
   ]
  },
  {
   "cell_type": "code",
   "execution_count": 18,
   "metadata": {},
   "outputs": [
    {
     "name": "stderr",
     "output_type": "stream",
     "text": [
      "22/08/13 01:21:21 WARN LAPACK: Failed to load implementation from: com.github.fommil.netlib.NativeSystemLAPACK\n",
      "22/08/13 01:21:21 WARN LAPACK: Failed to load implementation from: com.github.fommil.netlib.NativeRefLAPACK\n"
     ]
    }
   ],
   "source": [
    "from pyspark.ml.feature import PCA\n",
    "\n",
    "pca = PCA(k=10,inputCol='features', outputCol='pc')\n",
    "pca_model = pca.fit(scoring_df)"
   ]
  },
  {
   "cell_type": "code",
   "execution_count": 19,
   "metadata": {},
   "outputs": [],
   "source": [
    "scoring_df = pca_model.transform(scoring_df)"
   ]
  },
  {
   "cell_type": "markdown",
   "metadata": {},
   "source": [
    "Lets examine the explained variance and make a decision on how many components are sufficient for our purposes. This means that we will make a cutoff where there are no longer any useful incremental gains in explained variance."
   ]
  },
  {
   "cell_type": "code",
   "execution_count": 20,
   "metadata": {},
   "outputs": [
    {
     "data": {
      "text/html": [
       "<div>\n",
       "<style scoped>\n",
       "    .dataframe tbody tr th:only-of-type {\n",
       "        vertical-align: middle;\n",
       "    }\n",
       "\n",
       "    .dataframe tbody tr th {\n",
       "        vertical-align: top;\n",
       "    }\n",
       "\n",
       "    .dataframe thead th {\n",
       "        text-align: right;\n",
       "    }\n",
       "</style>\n",
       "<table border=\"1\" class=\"dataframe\">\n",
       "  <thead>\n",
       "    <tr style=\"text-align: right;\">\n",
       "      <th></th>\n",
       "      <th>exp_var</th>\n",
       "    </tr>\n",
       "  </thead>\n",
       "  <tbody>\n",
       "    <tr>\n",
       "      <th>1</th>\n",
       "      <td>42.469937</td>\n",
       "    </tr>\n",
       "    <tr>\n",
       "      <th>2</th>\n",
       "      <td>25.921787</td>\n",
       "    </tr>\n",
       "    <tr>\n",
       "      <th>3</th>\n",
       "      <td>16.002469</td>\n",
       "    </tr>\n",
       "    <tr>\n",
       "      <th>4</th>\n",
       "      <td>7.786572</td>\n",
       "    </tr>\n",
       "    <tr>\n",
       "      <th>5</th>\n",
       "      <td>3.147704</td>\n",
       "    </tr>\n",
       "    <tr>\n",
       "      <th>6</th>\n",
       "      <td>1.729603</td>\n",
       "    </tr>\n",
       "    <tr>\n",
       "      <th>7</th>\n",
       "      <td>1.287620</td>\n",
       "    </tr>\n",
       "    <tr>\n",
       "      <th>8</th>\n",
       "      <td>1.004273</td>\n",
       "    </tr>\n",
       "    <tr>\n",
       "      <th>9</th>\n",
       "      <td>0.376851</td>\n",
       "    </tr>\n",
       "    <tr>\n",
       "      <th>10</th>\n",
       "      <td>0.182758</td>\n",
       "    </tr>\n",
       "  </tbody>\n",
       "</table>\n",
       "</div>"
      ],
      "text/plain": [
       "      exp_var\n",
       "1   42.469937\n",
       "2   25.921787\n",
       "3   16.002469\n",
       "4    7.786572\n",
       "5    3.147704\n",
       "6    1.729603\n",
       "7    1.287620\n",
       "8    1.004273\n",
       "9    0.376851\n",
       "10   0.182758"
      ]
     },
     "execution_count": 20,
     "metadata": {},
     "output_type": "execute_result"
    }
   ],
   "source": [
    "import pandas as pd\n",
    "\n",
    "explained_variance = pd.DataFrame([0]+list(100*pca_model.explainedVariance),columns = ['exp_var'])\n",
    "explained_variance.iloc[1:,] # show the explained variance in order"
   ]
  },
  {
   "cell_type": "code",
   "execution_count": 21,
   "metadata": {},
   "outputs": [],
   "source": [
    "explained_variance['cumulative_var_exp'] = explained_variance['exp_var'].cumsum(0)"
   ]
  },
  {
   "cell_type": "code",
   "execution_count": 22,
   "metadata": {},
   "outputs": [
    {
     "data": {
      "text/plain": [
       "<AxesSubplot:xlabel='Number of components', ylabel='Explained variance / %'>"
      ]
     },
     "execution_count": 22,
     "metadata": {},
     "output_type": "execute_result"
    },
    {
     "data": {
      "image/png": "[encoded data removed]",
      "text/plain": [
       "<Figure size 432x288 with 1 Axes>"
      ]
     },
     "metadata": {
      "needs_background": "light"
     },
     "output_type": "display_data"
    }
   ],
   "source": [
    "explained_variance.plot(kind='line',y = 'cumulative_var_exp',\n",
    "xlabel='Number of components',ylabel='Explained variance / %',\n",
    "legend=False,xticks=range(0,11),marker = 'x',mec='r')"
   ]
  },
  {
   "cell_type": "markdown",
   "metadata": {},
   "source": [
    "It appears that the 6 principal components are sufficient to explain the variance in the data. Lets see exactly how much of the variance is explained by 6 principal components."
   ]
  },
  {
   "cell_type": "code",
   "execution_count": 23,
   "metadata": {},
   "outputs": [
    {
     "data": {
      "text/plain": [
       "97.05807258053704"
      ]
     },
     "execution_count": 23,
     "metadata": {},
     "output_type": "execute_result"
    }
   ],
   "source": [
    "explained_variance['cumulative_var_exp'].iloc[6]#.sum()"
   ]
  },
  {
   "cell_type": "markdown",
   "metadata": {},
   "source": [
    "6 components explain 97% of the variance. We can therefore reduce the input features by more than half: from 15 to 6."
   ]
  },
  {
   "cell_type": "code",
   "execution_count": 24,
   "metadata": {},
   "outputs": [],
   "source": [
    "from pyspark.ml.feature import VectorSlicer\n",
    "slicer = VectorSlicer(inputCol='pc',outputCol='cluster_cols',indices=list(range(6)))"
   ]
  },
  {
   "cell_type": "code",
   "execution_count": 25,
   "metadata": {},
   "outputs": [],
   "source": [
    "scoring_df = slicer.transform(scoring_df)"
   ]
  },
  {
   "cell_type": "markdown",
   "metadata": {},
   "source": [
    "## Cluster analysis"
   ]
  },
  {
   "cell_type": "markdown",
   "metadata": {},
   "source": [
    "With the features now ready, It is now possible to perform clustering. Let's use K-Means with $2 <= k<= 20$ and select the best model with the elbow method after plotting the intracluster distance (or training cost) with respect to k."
   ]
  },
  {
   "cell_type": "code",
   "execution_count": 26,
   "metadata": {},
   "outputs": [],
   "source": [
    "from pyspark.ml.clustering import KMeans"
   ]
  },
  {
   "cell_type": "markdown",
   "metadata": {},
   "source": [
    "Fitting the models"
   ]
  },
  {
   "cell_type": "code",
   "execution_count": 27,
   "metadata": {},
   "outputs": [],
   "source": [
    "errors = []\n",
    "seed = 42"
   ]
  },
  {
   "cell_type": "code",
   "execution_count": 30,
   "metadata": {},
   "outputs": [
    {
     "name": "stderr",
     "output_type": "stream",
     "text": [
      "                                                                                \r"
     ]
    }
   ],
   "source": [
    "cluster_number = range(7,8)\n",
    "\n",
    "for k in cluster_number:\n",
    "    kmeans = KMeans(featuresCol='cluster_cols', k=k,seed=seed)\n",
    "    model = kmeans.fit(scoring_df)\n",
    "    errors.append(model.summary.trainingCost)\n",
    "    key = 'k_'+str(k)\n",
    "    model_path =  \"../../kmeans_model/\"+key # store model out of the repository\n",
    "    model.save(model_path)"
   ]
  },
  {
   "cell_type": "markdown",
   "metadata": {},
   "source": [
    "Let's see the intra-cluster variation with respect to the number of clusters."
   ]
  },
  {
   "cell_type": "code",
   "execution_count": 62,
   "metadata": {},
   "outputs": [
    {
     "data": {
      "image/png": "[encoded data removed]",
      "text/plain": [
       "<Figure size 432x288 with 1 Axes>"
      ]
     },
     "metadata": {
      "needs_background": "light"
     },
     "output_type": "display_data"
    }
   ],
   "source": [
    "import matplotlib.pyplot as plt\n",
    "plt.xlabel('Number of clusters')\n",
    "plt.ylabel('Intra-cluster distance')\n",
    "plt.plot(cluster_number,errors,marker='x',mec='r')\n",
    "plt.xticks(range(2,21,2))\n",
    "plt.show()"
   ]
  },
  {
   "cell_type": "markdown",
   "metadata": {},
   "source": [
    "It appears that 7 clusters performs well enough to segment the type of scoring stat lines in the NBA"
   ]
  },
  {
   "cell_type": "code",
   "execution_count": 31,
   "metadata": {},
   "outputs": [
    {
     "name": "stderr",
     "output_type": "stream",
     "text": [
      "                                                                                \r"
     ]
    }
   ],
   "source": [
    "from pyspark.ml.clustering import KMeansModel\n",
    "    \n",
    "model_path = '../../kmeans_model/k_7'\n",
    "model = KMeansModel.load(model_path)\n",
    "preds = model.transform(scoring_df)"
   ]
  },
  {
   "cell_type": "code",
   "execution_count": 32,
   "metadata": {},
   "outputs": [],
   "source": [
    "preds = preds.withColumnRenamed('prediction','cluster')"
   ]
  },
  {
   "cell_type": "markdown",
   "metadata": {},
   "source": [
    "We can use a pivot table to count the wins and losses in each cluster and then calculate the win percentage within each cluster to see if there are any clusters that tend to have more winners."
   ]
  },
  {
   "cell_type": "code",
   "execution_count": 33,
   "metadata": {},
   "outputs": [
    {
     "name": "stderr",
     "output_type": "stream",
     "text": [
      "                                                                                \r"
     ]
    }
   ],
   "source": [
    "pivot_table = preds.groupBy('cluster').pivot('result').count()\n",
    "pivot_table = pivot_table.withColumn('win%',\n",
    "                                F.round(pivot_table['W']/(pivot_table['L']+pivot_table['W']),3))\n",
    "pivot_table = pivot_table.withColumn('over 50%',\n",
    "                                F.when(pivot_table['win%']> .5, True).otherwise(False))"
   ]
  },
  {
   "cell_type": "code",
   "execution_count": 34,
   "metadata": {},
   "outputs": [
    {
     "name": "stderr",
     "output_type": "stream",
     "text": [
      "                                                                                \r"
     ]
    },
    {
     "name": "stdout",
     "output_type": "stream",
     "text": [
      "+-------+-----+-----+-----+--------+\n",
      "|cluster|    L|    W| win%|over 50%|\n",
      "+-------+-----+-----+-----+--------+\n",
      "|      0|22607|28871|0.561|    true|\n",
      "|      2|12396|15141| 0.55|    true|\n",
      "|      3|15178|17355|0.533|    true|\n",
      "|      6|24376|25928|0.515|    true|\n",
      "|      5|23650|22152|0.484|   false|\n",
      "|      4|24414|19728|0.447|   false|\n",
      "|      1|23914|17976|0.429|   false|\n",
      "+-------+-----+-----+-----+--------+\n",
      "\n"
     ]
    }
   ],
   "source": [
    "pivot_table.orderBy('win%',ascending = False).show()"
   ]
  },
  {
   "cell_type": "code",
   "execution_count": null,
   "metadata": {},
   "outputs": [],
   "source": [
    "to_plot = pivot_table.to_pandas_on_spark()\n",
    "to_plot['cluster'] = to_plot['cluster'].astype(str)\n",
    "to_plot = to_plot.sort_values('win%',False)\n",
    "\n",
    "to_plot.plot.bar(x='cluster',y='win%',color='over 50%')"
   ]
  },
  {
   "cell_type": "markdown",
   "metadata": {},
   "source": [
    "![CLUSTER win%](plots/cluster_winp.png)\n",
    "\n",
    "There does not appear to be a cluster or groups of clusters that contain players who win considerably more than others. A statistical test can b\n",
    "\n",
    "It is possible to do futher analysis by checking if there are particular clusters that contain certain teams, describe the scoring statistics within these clusters, etc."
   ]
  },
  {
   "cell_type": "code",
   "execution_count": 36,
   "metadata": {},
   "outputs": [],
   "source": [
    "players = preds.select('name','team',*preds.columns[3:19],'cluster')"
   ]
  },
  {
   "cell_type": "markdown",
   "metadata": {},
   "source": [
    "Let's take a look at the averages of the scoring and assist statistics of the 7 clusters in our dataset"
   ]
  },
  {
   "cell_type": "code",
   "execution_count": 37,
   "metadata": {},
   "outputs": [],
   "source": [
    "p_df = (players\n",
    ".groupBy('cluster').avg()\n",
    ".orderBy('cluster')\n",
    ".drop('avg(cluster)')\n",
    ".to_pandas_on_spark().round(3))"
   ]
  },
  {
   "cell_type": "code",
   "execution_count": 38,
   "metadata": {},
   "outputs": [
    {
     "name": "stderr",
     "output_type": "stream",
     "text": [
      "22/08/13 01:28:06 WARN package: Truncated the string representation of a plan since it was too large. This behavior can be adjusted by setting 'spark.sql.debug.maxToStringFields'.\n",
      "                                                                                \r"
     ]
    },
    {
     "data": {
      "text/html": [
       "<div>\n",
       "<style scoped>\n",
       "    .dataframe tbody tr th:only-of-type {\n",
       "        vertical-align: middle;\n",
       "    }\n",
       "\n",
       "    .dataframe tbody tr th {\n",
       "        vertical-align: top;\n",
       "    }\n",
       "\n",
       "    .dataframe thead th {\n",
       "        text-align: right;\n",
       "    }\n",
       "</style>\n",
       "<table border=\"1\" class=\"dataframe\">\n",
       "  <thead>\n",
       "    <tr style=\"text-align: right;\">\n",
       "      <th></th>\n",
       "      <th>avg(pts)</th>\n",
       "      <th>avg(fgm)</th>\n",
       "      <th>avg(fga)</th>\n",
       "      <th>avg(pm3)</th>\n",
       "      <th>avg(pa3)</th>\n",
       "      <th>avg(ftm)</th>\n",
       "      <th>avg(fta)</th>\n",
       "      <th>avg(ast)</th>\n",
       "      <th>avg(ft%)</th>\n",
       "      <th>avg(pm2)</th>\n",
       "      <th>avg(pa2)</th>\n",
       "      <th>avg(fg%)</th>\n",
       "      <th>avg(3p%)</th>\n",
       "      <th>avg(2p%)</th>\n",
       "      <th>avg(eFG%)</th>\n",
       "    </tr>\n",
       "    <tr>\n",
       "      <th>cluster</th>\n",
       "      <th></th>\n",
       "      <th></th>\n",
       "      <th></th>\n",
       "      <th></th>\n",
       "      <th></th>\n",
       "      <th></th>\n",
       "      <th></th>\n",
       "      <th></th>\n",
       "      <th></th>\n",
       "      <th></th>\n",
       "      <th></th>\n",
       "      <th></th>\n",
       "      <th></th>\n",
       "      <th></th>\n",
       "      <th></th>\n",
       "    </tr>\n",
       "  </thead>\n",
       "  <tbody>\n",
       "    <tr>\n",
       "      <th>0</th>\n",
       "      <td>20.233</td>\n",
       "      <td>6.982</td>\n",
       "      <td>13.662</td>\n",
       "      <td>2.542</td>\n",
       "      <td>5.206</td>\n",
       "      <td>3.726</td>\n",
       "      <td>4.436</td>\n",
       "      <td>3.716</td>\n",
       "      <td>0.860</td>\n",
       "      <td>4.440</td>\n",
       "      <td>8.456</td>\n",
       "      <td>0.531</td>\n",
       "      <td>0.544</td>\n",
       "      <td>0.536</td>\n",
       "      <td>0.635</td>\n",
       "    </tr>\n",
       "    <tr>\n",
       "      <th>6</th>\n",
       "      <td>14.239</td>\n",
       "      <td>5.429</td>\n",
       "      <td>10.262</td>\n",
       "      <td>0.180</td>\n",
       "      <td>1.546</td>\n",
       "      <td>3.201</td>\n",
       "      <td>4.152</td>\n",
       "      <td>2.512</td>\n",
       "      <td>0.797</td>\n",
       "      <td>5.249</td>\n",
       "      <td>8.716</td>\n",
       "      <td>0.560</td>\n",
       "      <td>0.040</td>\n",
       "      <td>0.653</td>\n",
       "      <td>0.568</td>\n",
       "    </tr>\n",
       "    <tr>\n",
       "      <th>3</th>\n",
       "      <td>10.118</td>\n",
       "      <td>3.912</td>\n",
       "      <td>7.859</td>\n",
       "      <td>2.177</td>\n",
       "      <td>3.769</td>\n",
       "      <td>0.117</td>\n",
       "      <td>0.367</td>\n",
       "      <td>2.068</td>\n",
       "      <td>0.043</td>\n",
       "      <td>1.735</td>\n",
       "      <td>4.090</td>\n",
       "      <td>0.522</td>\n",
       "      <td>0.658</td>\n",
       "      <td>0.316</td>\n",
       "      <td>0.690</td>\n",
       "    </tr>\n",
       "    <tr>\n",
       "      <th>1</th>\n",
       "      <td>7.551</td>\n",
       "      <td>2.150</td>\n",
       "      <td>7.840</td>\n",
       "      <td>0.549</td>\n",
       "      <td>2.634</td>\n",
       "      <td>2.703</td>\n",
       "      <td>3.278</td>\n",
       "      <td>2.297</td>\n",
       "      <td>0.844</td>\n",
       "      <td>1.601</td>\n",
       "      <td>5.206</td>\n",
       "      <td>0.261</td>\n",
       "      <td>0.127</td>\n",
       "      <td>0.273</td>\n",
       "      <td>0.294</td>\n",
       "    </tr>\n",
       "    <tr>\n",
       "      <th>2</th>\n",
       "      <td>7.257</td>\n",
       "      <td>3.251</td>\n",
       "      <td>4.633</td>\n",
       "      <td>0.574</td>\n",
       "      <td>1.499</td>\n",
       "      <td>0.181</td>\n",
       "      <td>0.585</td>\n",
       "      <td>1.268</td>\n",
       "      <td>0.059</td>\n",
       "      <td>2.677</td>\n",
       "      <td>3.135</td>\n",
       "      <td>0.761</td>\n",
       "      <td>0.168</td>\n",
       "      <td>0.916</td>\n",
       "      <td>0.810</td>\n",
       "    </tr>\n",
       "    <tr>\n",
       "      <th>4</th>\n",
       "      <td>6.402</td>\n",
       "      <td>3.001</td>\n",
       "      <td>7.602</td>\n",
       "      <td>0.327</td>\n",
       "      <td>2.016</td>\n",
       "      <td>0.073</td>\n",
       "      <td>0.406</td>\n",
       "      <td>1.926</td>\n",
       "      <td>0.018</td>\n",
       "      <td>2.675</td>\n",
       "      <td>5.586</td>\n",
       "      <td>0.396</td>\n",
       "      <td>0.069</td>\n",
       "      <td>0.494</td>\n",
       "      <td>0.412</td>\n",
       "    </tr>\n",
       "    <tr>\n",
       "      <th>5</th>\n",
       "      <td>0.634</td>\n",
       "      <td>0.217</td>\n",
       "      <td>2.286</td>\n",
       "      <td>0.117</td>\n",
       "      <td>0.999</td>\n",
       "      <td>0.084</td>\n",
       "      <td>0.235</td>\n",
       "      <td>0.795</td>\n",
       "      <td>0.035</td>\n",
       "      <td>0.100</td>\n",
       "      <td>1.287</td>\n",
       "      <td>0.039</td>\n",
       "      <td>0.030</td>\n",
       "      <td>0.021</td>\n",
       "      <td>0.050</td>\n",
       "    </tr>\n",
       "  </tbody>\n",
       "</table>\n",
       "</div>"
      ],
      "text/plain": [
       "         avg(pts)  avg(fgm)  avg(fga)  avg(pm3)  avg(pa3)  avg(ftm)  avg(fta)  avg(ast)  avg(ft%)  avg(pm2)  avg(pa2)  avg(fg%)  avg(3p%)  avg(2p%)  avg(eFG%)\n",
       "cluster                                                                                                                                                       \n",
       "0          20.233     6.982    13.662     2.542     5.206     3.726     4.436     3.716     0.860     4.440     8.456     0.531     0.544     0.536      0.635\n",
       "6          14.239     5.429    10.262     0.180     1.546     3.201     4.152     2.512     0.797     5.249     8.716     0.560     0.040     0.653      0.568\n",
       "3          10.118     3.912     7.859     2.177     3.769     0.117     0.367     2.068     0.043     1.735     4.090     0.522     0.658     0.316      0.690\n",
       "1           7.551     2.150     7.840     0.549     2.634     2.703     3.278     2.297     0.844     1.601     5.206     0.261     0.127     0.273      0.294\n",
       "2           7.257     3.251     4.633     0.574     1.499     0.181     0.585     1.268     0.059     2.677     3.135     0.761     0.168     0.916      0.810\n",
       "4           6.402     3.001     7.602     0.327     2.016     0.073     0.406     1.926     0.018     2.675     5.586     0.396     0.069     0.494      0.412\n",
       "5           0.634     0.217     2.286     0.117     0.999     0.084     0.235     0.795     0.035     0.100     1.287     0.039     0.030     0.021      0.050"
      ]
     },
     "execution_count": 38,
     "metadata": {},
     "output_type": "execute_result"
    }
   ],
   "source": [
    "p_df.set_index('cluster').sort_values('avg(pts)',ascending = False)"
   ]
  },
  {
   "cell_type": "markdown",
   "metadata": {},
   "source": [
    "The highest scoring cluster (label 0) has an average of 20.2 points. These players are also quite efficient at the free throw line: average FT% = 86% and make a high percentage of their 3 and 2 point shots: average 3P% = 54.4% and average 2P% = 53.6%. They also tend to have the highest number of assists as a group. It is worth investigating if players who \"go off\" will lie in this cluster. \n",
    "\n",
    "Another cluster that is of interest is cluster 3 that makes a number of 3 point shots and has a high average 3 point percentage. This cluster might contain 3 point specialists/second options, perhaps catch and shoot players.\n",
    "\n",
    "Let's visualise some averages of the different clusters using a bubble chart. Let's consider the average points scored and 3 point shots made in conjunction with the effective field goal percentage and free throw percentage of each cluster."
   ]
  },
  {
   "cell_type": "code",
   "execution_count": 39,
   "metadata": {},
   "outputs": [],
   "source": [
    "to_plot = (players.select('cluster','ftm','fta','fga','fgm','pm3','pts','ft%')\n",
    ".groupBy('cluster') # calculate for individual clusters\n",
    ".agg(F.round((100*(F.sum('fgm')+0.5*F.sum('pm3'))/F.sum('fga')),1).alias('eFG%'), # calculate eFG%\n",
    "    F.avg('pm3'), # average 3 point shots made\n",
    "    F.avg('pts'), # average points scored\n",
    "    F.round(100*(F.sum('ftm')/F.sum('fta')),1).alias('ft%')) # calculate FT%\n",
    ".to_pandas_on_spark()).sort_values('cluster')"
   ]
  },
  {
   "cell_type": "code",
   "execution_count": null,
   "metadata": {},
   "outputs": [],
   "source": [
    "to_plot['cluster'] = to_plot['cluster'].astype(str)\n",
    "to_plot = to_plot.plot.scatter(y = 'avg(pm3)', x = 'avg(pts)',\n",
    "color= 'cluster',size = 'eFG%',text = 'ft%')\n",
    "to_plot.update_yaxes(showgrid=False)\n",
    "to_plot.update_xaxes(showgrid=False)"
   ]
  },
  {
   "cell_type": "markdown",
   "metadata": {},
   "source": [
    "![CLUSTER SUMMARY](plots/cluster_summary.png)\n",
    "\n",
    "The free throw percentages of clusters 2, 4, 5 and especially 3 seem unusual. Cluster 1 has a free trhow percentage of 82.5%. It seems counterintuitive that a cluster 3, a group that makes more 3 point shots than most would have such a low free throw percentage. Let's investigate this by:\n",
    "- checking the summary statistics of this subset of clusters\n",
    "- seeing the counts of each cluster (they could be very small with particularly bad free throw performances)\n",
    "- taking a look at players who typically show up in the clusters with bad free throw percentages and see if it is typical for them have such bad performances\n",
    "- running a statistical test to see which of these groups deviate from the league averages significantly\n"
   ]
  },
  {
   "cell_type": "code",
   "execution_count": 41,
   "metadata": {},
   "outputs": [],
   "source": [
    "bad_ft_groups = (players.select('name','cluster','ftm','fta','ft%','pm3','pa3')\n",
    ".filter('cluster in (2, 3, 4, 5)'))"
   ]
  },
  {
   "cell_type": "code",
   "execution_count": 42,
   "metadata": {},
   "outputs": [
    {
     "name": "stderr",
     "output_type": "stream",
     "text": [
      "                                                                                \r"
     ]
    },
    {
     "data": {
      "text/html": [
       "<div>\n",
       "<style scoped>\n",
       "    .dataframe tbody tr th:only-of-type {\n",
       "        vertical-align: middle;\n",
       "    }\n",
       "\n",
       "    .dataframe tbody tr th {\n",
       "        vertical-align: top;\n",
       "    }\n",
       "\n",
       "    .dataframe thead th {\n",
       "        text-align: right;\n",
       "    }\n",
       "</style>\n",
       "<table border=\"1\" class=\"dataframe\">\n",
       "  <thead>\n",
       "    <tr style=\"text-align: right;\">\n",
       "      <th></th>\n",
       "      <th>ftm</th>\n",
       "      <th>fta</th>\n",
       "      <th>ft%</th>\n",
       "    </tr>\n",
       "  </thead>\n",
       "  <tbody>\n",
       "    <tr>\n",
       "      <th>count</th>\n",
       "      <td>150014.000000</td>\n",
       "      <td>150014.000000</td>\n",
       "      <td>150014.000000</td>\n",
       "    </tr>\n",
       "    <tr>\n",
       "      <th>mean</th>\n",
       "      <td>0.105823</td>\n",
       "      <td>0.378211</td>\n",
       "      <td>0.035972</td>\n",
       "    </tr>\n",
       "    <tr>\n",
       "      <th>std</th>\n",
       "      <td>0.389231</td>\n",
       "      <td>1.076090</td>\n",
       "      <td>0.122796</td>\n",
       "    </tr>\n",
       "    <tr>\n",
       "      <th>min</th>\n",
       "      <td>0.000000</td>\n",
       "      <td>0.000000</td>\n",
       "      <td>0.000000</td>\n",
       "    </tr>\n",
       "    <tr>\n",
       "      <th>25%</th>\n",
       "      <td>0.000000</td>\n",
       "      <td>0.000000</td>\n",
       "      <td>0.000000</td>\n",
       "    </tr>\n",
       "    <tr>\n",
       "      <th>50%</th>\n",
       "      <td>0.000000</td>\n",
       "      <td>0.000000</td>\n",
       "      <td>0.000000</td>\n",
       "    </tr>\n",
       "    <tr>\n",
       "      <th>75%</th>\n",
       "      <td>0.000000</td>\n",
       "      <td>0.000000</td>\n",
       "      <td>0.000000</td>\n",
       "    </tr>\n",
       "    <tr>\n",
       "      <th>max</th>\n",
       "      <td>7.000000</td>\n",
       "      <td>23.000000</td>\n",
       "      <td>0.750000</td>\n",
       "    </tr>\n",
       "  </tbody>\n",
       "</table>\n",
       "</div>"
      ],
      "text/plain": [
       "                 ftm            fta            ft%\n",
       "count  150014.000000  150014.000000  150014.000000\n",
       "mean        0.105823       0.378211       0.035972\n",
       "std         0.389231       1.076090       0.122796\n",
       "min         0.000000       0.000000       0.000000\n",
       "25%         0.000000       0.000000       0.000000\n",
       "50%         0.000000       0.000000       0.000000\n",
       "75%         0.000000       0.000000       0.000000\n",
       "max         7.000000      23.000000       0.750000"
      ]
     },
     "execution_count": 42,
     "metadata": {},
     "output_type": "execute_result"
    }
   ],
   "source": [
    "bad_ft_groups.drop('cluster','pm3','pa3').toPandas().describe()"
   ]
  },
  {
   "cell_type": "markdown",
   "metadata": {},
   "source": [
    "The total number of records in this dataset is $\\approx$ 300K. So the clusters make up about half of the dataset, meaning the low free throw percentages are not outliers. **The vast majority of players in these clusters do not take any free throws.**\n",
    "\n",
    "Let's take a look at the counts in the individual clusters. "
   ]
  },
  {
   "cell_type": "code",
   "execution_count": 43,
   "metadata": {},
   "outputs": [
    {
     "name": "stderr",
     "output_type": "stream",
     "text": [
      "[Stage 160:>                                                        (0 + 1) / 1]\r"
     ]
    },
    {
     "name": "stdout",
     "output_type": "stream",
     "text": [
      "+-------+-------+\n",
      "|cluster|records|\n",
      "+-------+-------+\n",
      "|      3|  32533|\n",
      "|      5|  45802|\n",
      "|      4|  44142|\n",
      "|      2|  27537|\n",
      "+-------+-------+\n",
      "\n"
     ]
    },
    {
     "name": "stderr",
     "output_type": "stream",
     "text": [
      "                                                                                \r"
     ]
    }
   ],
   "source": [
    "bad_ft_groups.groupBy('cluster').agg(F.count('name').alias('records')).show()"
   ]
  },
  {
   "cell_type": "markdown",
   "metadata": {},
   "source": [
    "Cluster 3 -- that on average makes more 3 point shots than most clusters are noteably smaller than the other clusters with bad free throw performance, but in the context of the entire dataset, is still sizeable as $\\approx \\frac{1}{8}th$ of the dataset considering there are 7 groups. \n",
    "\n",
    "Now let's take a look at the average free throws made, attempted and percentages for each group."
   ]
  },
  {
   "cell_type": "code",
   "execution_count": 44,
   "metadata": {},
   "outputs": [
    {
     "name": "stderr",
     "output_type": "stream",
     "text": [
      "[Stage 163:>                                                        (0 + 1) / 1]\r"
     ]
    },
    {
     "name": "stdout",
     "output_type": "stream",
     "text": [
      "+-------+--------+--------+--------+\n",
      "|cluster|avg(ftm)|avg(fta)|avg(ft%)|\n",
      "+-------+--------+--------+--------+\n",
      "|      3|     0.1|     0.4|     4.3|\n",
      "|      5|     0.1|     0.2|     3.5|\n",
      "|      4|     0.1|     0.4|     1.8|\n",
      "|      2|     0.2|     0.6|     5.9|\n",
      "+-------+--------+--------+--------+\n",
      "\n"
     ]
    },
    {
     "name": "stderr",
     "output_type": "stream",
     "text": [
      "                                                                                \r"
     ]
    }
   ],
   "source": [
    "(bad_ft_groups\n",
    ".groupBy('cluster')\n",
    ".agg(F.round(F.avg('ftm'),1).alias('avg(ftm)'),\n",
    "     F.round(F.avg('fta'),1).alias('avg(fta)'),\n",
    "     F.round(100*F.avg('ft%'),1).alias('avg(ft%)'))\n",
    ".show()\n",
    ")"
   ]
  },
  {
   "cell_type": "markdown",
   "metadata": {},
   "source": [
    "Players who mainly show up in these clusters don't take any free throws on average and those who do take free throws miss most of them. This would explain the low cluster free throw percentages.\n",
    "\n",
    "Cluster 3 is the most curious since players make more 3's on average than essentially every other cluster.\n",
    "\n",
    "Let's take a look at the players who have made over 100 threes and see how they perfrom at the stripe in this group. "
   ]
  },
  {
   "cell_type": "code",
   "execution_count": 45,
   "metadata": {},
   "outputs": [],
   "source": [
    "aggs = (bad_ft_groups\n",
    ".filter('cluster=3')\n",
    ".groupBy('name')\n",
    ".agg(F.sum('ftm').alias('ftm'),\n",
    "    F.sum('fta').alias('fta'),\n",
    "    F.sum('pm3').alias('pm3'),\n",
    "    F.sum('pa3').alias('pa3'),\n",
    "    (100*F.sum('ftm')/F.sum('fta')).alias('ft%'),\n",
    "    (100*F.sum('pm3')/F.sum('pa3')).alias('3p%'))\n",
    ".fillna(0,['ft%','3p%']))\n",
    "\n",
    "to_plot = aggs.filter('pm3 > 100').to_pandas_on_spark()"
   ]
  },
  {
   "cell_type": "code",
   "execution_count": 47,
   "metadata": {},
   "outputs": [
    {
     "name": "stderr",
     "output_type": "stream",
     "text": [
      "22/08/13 01:38:10 WARN WindowExec: No Partition Defined for Window operation! Moving all data to a single partition, this can cause serious performance degradation.\n",
      "22/08/13 01:38:10 WARN WindowExec: No Partition Defined for Window operation! Moving all data to a single partition, this can cause serious performance degradation.\n",
      "22/08/13 01:38:28 WARN WindowExec: No Partition Defined for Window operation! Moving all data to a single partition, this can cause serious performance degradation.\n",
      "22/08/13 01:38:29 WARN WindowExec: No Partition Defined for Window operation! Moving all data to a single partition, this can cause serious performance degradation.\n",
      "                                                                                \r"
     ]
    },
    {
     "data": {
      "text/html": [
       "<div>\n",
       "<style scoped>\n",
       "    .dataframe tbody tr th:only-of-type {\n",
       "        vertical-align: middle;\n",
       "    }\n",
       "\n",
       "    .dataframe tbody tr th {\n",
       "        vertical-align: top;\n",
       "    }\n",
       "\n",
       "    .dataframe thead th {\n",
       "        text-align: right;\n",
       "    }\n",
       "</style>\n",
       "<table border=\"1\" class=\"dataframe\">\n",
       "  <thead>\n",
       "    <tr style=\"text-align: right;\">\n",
       "      <th></th>\n",
       "      <th>name</th>\n",
       "      <th>ftm</th>\n",
       "      <th>fta</th>\n",
       "      <th>pm3</th>\n",
       "      <th>pa3</th>\n",
       "      <th>ft%</th>\n",
       "      <th>3p%</th>\n",
       "    </tr>\n",
       "  </thead>\n",
       "  <tbody>\n",
       "    <tr>\n",
       "      <th>28</th>\n",
       "      <td>Danny Green</td>\n",
       "      <td>16</td>\n",
       "      <td>46</td>\n",
       "      <td>878</td>\n",
       "      <td>1628</td>\n",
       "      <td>34.782609</td>\n",
       "      <td>53.931204</td>\n",
       "    </tr>\n",
       "    <tr>\n",
       "      <th>111</th>\n",
       "      <td>Klay Thompson</td>\n",
       "      <td>3</td>\n",
       "      <td>23</td>\n",
       "      <td>697</td>\n",
       "      <td>1317</td>\n",
       "      <td>13.043478</td>\n",
       "      <td>52.923311</td>\n",
       "    </tr>\n",
       "    <tr>\n",
       "      <th>54</th>\n",
       "      <td>Kyle Korver</td>\n",
       "      <td>7</td>\n",
       "      <td>20</td>\n",
       "      <td>593</td>\n",
       "      <td>1070</td>\n",
       "      <td>35.000000</td>\n",
       "      <td>55.420561</td>\n",
       "    </tr>\n",
       "    <tr>\n",
       "      <th>62</th>\n",
       "      <td>Patty Mills</td>\n",
       "      <td>10</td>\n",
       "      <td>25</td>\n",
       "      <td>585</td>\n",
       "      <td>1061</td>\n",
       "      <td>40.000000</td>\n",
       "      <td>55.136664</td>\n",
       "    </tr>\n",
       "    <tr>\n",
       "      <th>179</th>\n",
       "      <td>Buddy Hield</td>\n",
       "      <td>3</td>\n",
       "      <td>14</td>\n",
       "      <td>538</td>\n",
       "      <td>1075</td>\n",
       "      <td>21.428571</td>\n",
       "      <td>50.046512</td>\n",
       "    </tr>\n",
       "    <tr>\n",
       "      <th>10</th>\n",
       "      <td>JR Smith</td>\n",
       "      <td>14</td>\n",
       "      <td>52</td>\n",
       "      <td>524</td>\n",
       "      <td>1030</td>\n",
       "      <td>26.923077</td>\n",
       "      <td>50.873786</td>\n",
       "    </tr>\n",
       "    <tr>\n",
       "      <th>14</th>\n",
       "      <td>Wayne Ellington</td>\n",
       "      <td>3</td>\n",
       "      <td>12</td>\n",
       "      <td>487</td>\n",
       "      <td>931</td>\n",
       "      <td>25.000000</td>\n",
       "      <td>52.309345</td>\n",
       "    </tr>\n",
       "    <tr>\n",
       "      <th>198</th>\n",
       "      <td>Wesley Matthews</td>\n",
       "      <td>16</td>\n",
       "      <td>50</td>\n",
       "      <td>475</td>\n",
       "      <td>892</td>\n",
       "      <td>32.000000</td>\n",
       "      <td>53.251121</td>\n",
       "    </tr>\n",
       "    <tr>\n",
       "      <th>78</th>\n",
       "      <td>Joe Ingles</td>\n",
       "      <td>13</td>\n",
       "      <td>34</td>\n",
       "      <td>462</td>\n",
       "      <td>816</td>\n",
       "      <td>38.235294</td>\n",
       "      <td>56.617647</td>\n",
       "    </tr>\n",
       "    <tr>\n",
       "      <th>155</th>\n",
       "      <td>Terrence Ross</td>\n",
       "      <td>6</td>\n",
       "      <td>21</td>\n",
       "      <td>414</td>\n",
       "      <td>774</td>\n",
       "      <td>28.571429</td>\n",
       "      <td>53.488372</td>\n",
       "    </tr>\n",
       "    <tr>\n",
       "      <th>50</th>\n",
       "      <td>Joe Harris</td>\n",
       "      <td>14</td>\n",
       "      <td>44</td>\n",
       "      <td>407</td>\n",
       "      <td>715</td>\n",
       "      <td>31.818182</td>\n",
       "      <td>56.923077</td>\n",
       "    </tr>\n",
       "    <tr>\n",
       "      <th>36</th>\n",
       "      <td>P.J. Tucker</td>\n",
       "      <td>14</td>\n",
       "      <td>51</td>\n",
       "      <td>385</td>\n",
       "      <td>646</td>\n",
       "      <td>27.450980</td>\n",
       "      <td>59.597523</td>\n",
       "    </tr>\n",
       "    <tr>\n",
       "      <th>24</th>\n",
       "      <td>Patrick Beverley</td>\n",
       "      <td>24</td>\n",
       "      <td>58</td>\n",
       "      <td>381</td>\n",
       "      <td>694</td>\n",
       "      <td>41.379310</td>\n",
       "      <td>54.899135</td>\n",
       "    </tr>\n",
       "    <tr>\n",
       "      <th>164</th>\n",
       "      <td>Trevor Ariza</td>\n",
       "      <td>14</td>\n",
       "      <td>43</td>\n",
       "      <td>359</td>\n",
       "      <td>719</td>\n",
       "      <td>32.558140</td>\n",
       "      <td>49.930459</td>\n",
       "    </tr>\n",
       "    <tr>\n",
       "      <th>148</th>\n",
       "      <td>Justin Holiday</td>\n",
       "      <td>9</td>\n",
       "      <td>25</td>\n",
       "      <td>357</td>\n",
       "      <td>678</td>\n",
       "      <td>36.000000</td>\n",
       "      <td>52.654867</td>\n",
       "    </tr>\n",
       "    <tr>\n",
       "      <th>7</th>\n",
       "      <td>Tony Snell</td>\n",
       "      <td>5</td>\n",
       "      <td>14</td>\n",
       "      <td>348</td>\n",
       "      <td>581</td>\n",
       "      <td>35.714286</td>\n",
       "      <td>59.896730</td>\n",
       "    </tr>\n",
       "    <tr>\n",
       "      <th>9</th>\n",
       "      <td>Ben McLemore</td>\n",
       "      <td>3</td>\n",
       "      <td>14</td>\n",
       "      <td>325</td>\n",
       "      <td>610</td>\n",
       "      <td>21.428571</td>\n",
       "      <td>53.278689</td>\n",
       "    </tr>\n",
       "    <tr>\n",
       "      <th>190</th>\n",
       "      <td>Avery Bradley</td>\n",
       "      <td>8</td>\n",
       "      <td>32</td>\n",
       "      <td>324</td>\n",
       "      <td>569</td>\n",
       "      <td>25.000000</td>\n",
       "      <td>56.942004</td>\n",
       "    </tr>\n",
       "    <tr>\n",
       "      <th>145</th>\n",
       "      <td>Robert Covington</td>\n",
       "      <td>16</td>\n",
       "      <td>43</td>\n",
       "      <td>322</td>\n",
       "      <td>609</td>\n",
       "      <td>37.209302</td>\n",
       "      <td>52.873563</td>\n",
       "    </tr>\n",
       "    <tr>\n",
       "      <th>123</th>\n",
       "      <td>Anthony Tolliver</td>\n",
       "      <td>20</td>\n",
       "      <td>49</td>\n",
       "      <td>320</td>\n",
       "      <td>537</td>\n",
       "      <td>40.816327</td>\n",
       "      <td>59.590317</td>\n",
       "    </tr>\n",
       "  </tbody>\n",
       "</table>\n",
       "</div>"
      ],
      "text/plain": [
       "                 name  ftm  fta  pm3   pa3        ft%        3p%\n",
       "28        Danny Green   16   46  878  1628  34.782609  53.931204\n",
       "111     Klay Thompson    3   23  697  1317  13.043478  52.923311\n",
       "54        Kyle Korver    7   20  593  1070  35.000000  55.420561\n",
       "62        Patty Mills   10   25  585  1061  40.000000  55.136664\n",
       "179       Buddy Hield    3   14  538  1075  21.428571  50.046512\n",
       "10           JR Smith   14   52  524  1030  26.923077  50.873786\n",
       "14    Wayne Ellington    3   12  487   931  25.000000  52.309345\n",
       "198   Wesley Matthews   16   50  475   892  32.000000  53.251121\n",
       "78         Joe Ingles   13   34  462   816  38.235294  56.617647\n",
       "155     Terrence Ross    6   21  414   774  28.571429  53.488372\n",
       "50         Joe Harris   14   44  407   715  31.818182  56.923077\n",
       "36        P.J. Tucker   14   51  385   646  27.450980  59.597523\n",
       "24   Patrick Beverley   24   58  381   694  41.379310  54.899135\n",
       "164      Trevor Ariza   14   43  359   719  32.558140  49.930459\n",
       "148    Justin Holiday    9   25  357   678  36.000000  52.654867\n",
       "7          Tony Snell    5   14  348   581  35.714286  59.896730\n",
       "9        Ben McLemore    3   14  325   610  21.428571  53.278689\n",
       "190     Avery Bradley    8   32  324   569  25.000000  56.942004\n",
       "145  Robert Covington   16   43  322   609  37.209302  52.873563\n",
       "123  Anthony Tolliver   20   49  320   537  40.816327  59.590317"
      ]
     },
     "execution_count": 47,
     "metadata": {},
     "output_type": "execute_result"
    }
   ],
   "source": [
    "to_plot.sort_values('pm3',False).head(20)"
   ]
  },
  {
   "cell_type": "code",
   "execution_count": null,
   "metadata": {},
   "outputs": [],
   "source": [
    "to_plot = to_plot.plot.scatter(x='pm3',y='ftm',size='fta', color = 'ft%',color_continuous_scale='sunset')\n",
    "to_plot.update_yaxes(showgrid=False)\n",
    "to_plot.update_xaxes(showgrid=False)"
   ]
  },
  {
   "cell_type": "markdown",
   "metadata": {},
   "source": [
    "![Cluster 6 plot](plots/cluster_6_plot.png)\n",
    "\n",
    "There is no correlation between the number of 3's made and the number of free throws made in this cluster. There also isn't a correlation between the volume of 3's and the free throw percentage (bubbles would get progressively darker along the x-axis in that case). It is worth investigating if in general, there is no correlation between 3 point shooting and free throw shooting.\n",
    "\n",
    "The graph also shows players make (and ultimately take) significantly less free throws compared to the number of 3's they make (and ultimately take) because of the large difference in scale of the axes. This points towards two things:\n",
    "- players in this cluster are catch and shoot 3 point shooters\n",
    "- teams avoid fouling 3 point shooters. Further analysis with perhaps play-by-play data could lend evidence to this\n",
    "\n",
    "It appears that players in this cluster simply put up bad performances at the free throw line (players don't even have above 50% free throw percentage). Let's have a look at the group's 3 point percentage and the group's free throw percentage:"
   ]
  },
  {
   "cell_type": "code",
   "execution_count": 49,
   "metadata": {},
   "outputs": [
    {
     "name": "stderr",
     "output_type": "stream",
     "text": [
      "[Stage 181:>                                                        (0 + 1) / 1]\r"
     ]
    },
    {
     "name": "stdout",
     "output_type": "stream",
     "text": [
      "+----+----+\n",
      "| 3p%| ft%|\n",
      "+----+----+\n",
      "|57.7|32.0|\n",
      "+----+----+\n",
      "\n"
     ]
    },
    {
     "name": "stderr",
     "output_type": "stream",
     "text": [
      "                                                                                \r"
     ]
    }
   ],
   "source": [
    "(aggs\n",
    ".select(F.round((100*F.sum('pm3')/F.sum('pa3')),1).alias('3p%'),\n",
    "        F.round((100*F.sum('ftm')/F.sum('fta')),1).alias('ft%'))\n",
    ".show())"
   ]
  },
  {
   "cell_type": "markdown",
   "metadata": {},
   "source": [
    "The cluster has a very high 3 point percentage but a very low free throw percentage. This counter-intuitive group is worth investigating if players who consistently appear in it are three point specialists with particularly bad overall free throw percentages. "
   ]
  },
  {
   "cell_type": "code",
   "execution_count": null,
   "metadata": {},
   "outputs": [],
   "source": []
  },
  {
   "cell_type": "markdown",
   "metadata": {},
   "source": [
    "Now let's examine the high scoring cluser in the dataset:\n",
    "- We will start with the teams and see how many of their performances lie in the high scoring cluster relative to the other clusters\n",
    "- Then move onto players and their performances as high scorers relative to other performances \n",
    "- And finally both players and teams to see if high scoring players put up the same performances on different teams (if the move teams)"
   ]
  },
  {
   "cell_type": "code",
   "execution_count": 50,
   "metadata": {},
   "outputs": [],
   "source": [
    "high_cluster = 0\n",
    "cluster_analysis = preds.select('name','team','cluster',*preds.columns[3:18])\n",
    "top_scorers = cluster_analysis.filter(f'cluster={high_cluster}')"
   ]
  },
  {
   "cell_type": "code",
   "execution_count": 51,
   "metadata": {},
   "outputs": [],
   "source": [
    "from pyspark.sql import Window"
   ]
  },
  {
   "cell_type": "code",
   "execution_count": 52,
   "metadata": {},
   "outputs": [],
   "source": [
    "window = Window.partitionBy('team')\n",
    "team_analysis = (cluster_analysis\n",
    ".groupBy('team','cluster').count()\n",
    ".withColumn('totals',F.sum('count').over(window)))\n",
    "team_analysis = (team_analysis\n",
    ".withColumn('cluster_share(%)',F.round(100*team_analysis['count']/team_analysis['totals'],2)))"
   ]
  },
  {
   "cell_type": "code",
   "execution_count": 53,
   "metadata": {},
   "outputs": [],
   "source": [
    "top_scoring_teams = team_analysis.filter(f'cluster={high_cluster}')\n",
    "\n",
    "to_plot = (top_scoring_teams\n",
    ".orderBy('cluster_share(%)',ascending=False)\n",
    ".limit(5)\n",
    ".withColumn('position',F.lit('top 5')))\n",
    "to_plot = (to_plot\n",
    ".unionByName(top_scoring_teams.orderBy('cluster_share(%)',ascending=True)\n",
    ".limit(5)\n",
    ".withColumn('position',F.lit('last 5'))))"
   ]
  },
  {
   "cell_type": "markdown",
   "metadata": {},
   "source": [
    "Let's visualise the shares and see the teams with the highest (top 5) and the lowest (last 5) shares in the high scoring cluster"
   ]
  },
  {
   "cell_type": "code",
   "execution_count": null,
   "metadata": {},
   "outputs": [],
   "source": [
    "(to_plot\n",
    ".orderBy('cluster_share(%)',ascending=False)\n",
    ".to_pandas_on_spark()\n",
    ".plot\n",
    ".bar(y='cluster_share(%)',x='team',color='position'))"
   ]
  },
  {
   "cell_type": "markdown",
   "metadata": {},
   "source": [
    "![TEAM](plots/team_plot.png)\n",
    "\n",
    "\n",
    "The Rockets have the highest proportion of player performances appearing in the high scoring cluster. The Spurs have the lowest proportion of their player performances in the high scoring cluster. It is worth further investigating this to see why the Spurs, a rather successful team (at least in the first half of this dataset) shows up so low. An idea of where to start could be to see how the system employed by Coach Popovich (one of the most established systems in the league) values scoring.\n",
    "\n",
    "Teams show small differences in their proportions in the high scoring clusters, which indicates that all teams have their go-to guy(s) to produce high scoring performances. Even though some rely on them more than others. \n",
    "\n",
    "Let's have a look at the underlying data in a table:"
   ]
  },
  {
   "cell_type": "code",
   "execution_count": 55,
   "metadata": {},
   "outputs": [
    {
     "name": "stderr",
     "output_type": "stream",
     "text": [
      "                                                                                \r"
     ]
    },
    {
     "data": {
      "text/html": [
       "<div>\n",
       "<style scoped>\n",
       "    .dataframe tbody tr th:only-of-type {\n",
       "        vertical-align: middle;\n",
       "    }\n",
       "\n",
       "    .dataframe tbody tr th {\n",
       "        vertical-align: top;\n",
       "    }\n",
       "\n",
       "    .dataframe thead th {\n",
       "        text-align: right;\n",
       "    }\n",
       "</style>\n",
       "<table border=\"1\" class=\"dataframe\">\n",
       "  <thead>\n",
       "    <tr style=\"text-align: right;\">\n",
       "      <th></th>\n",
       "      <th>team</th>\n",
       "      <th>cluster</th>\n",
       "      <th>count</th>\n",
       "      <th>totals</th>\n",
       "      <th>cluster_share(%)</th>\n",
       "    </tr>\n",
       "  </thead>\n",
       "  <tbody>\n",
       "    <tr>\n",
       "      <th>0</th>\n",
       "      <td>HOU</td>\n",
       "      <td>0</td>\n",
       "      <td>1950</td>\n",
       "      <td>9482</td>\n",
       "      <td>20.57</td>\n",
       "    </tr>\n",
       "    <tr>\n",
       "      <th>1</th>\n",
       "      <td>DEN</td>\n",
       "      <td>0</td>\n",
       "      <td>1898</td>\n",
       "      <td>9780</td>\n",
       "      <td>19.41</td>\n",
       "    </tr>\n",
       "    <tr>\n",
       "      <th>2</th>\n",
       "      <td>POR</td>\n",
       "      <td>0</td>\n",
       "      <td>1858</td>\n",
       "      <td>9746</td>\n",
       "      <td>19.06</td>\n",
       "    </tr>\n",
       "    <tr>\n",
       "      <th>3</th>\n",
       "      <td>MIN</td>\n",
       "      <td>0</td>\n",
       "      <td>1725</td>\n",
       "      <td>9053</td>\n",
       "      <td>19.05</td>\n",
       "    </tr>\n",
       "    <tr>\n",
       "      <th>4</th>\n",
       "      <td>BOS</td>\n",
       "      <td>0</td>\n",
       "      <td>2011</td>\n",
       "      <td>10673</td>\n",
       "      <td>18.84</td>\n",
       "    </tr>\n",
       "    <tr>\n",
       "      <th>5</th>\n",
       "      <td>OKC</td>\n",
       "      <td>0</td>\n",
       "      <td>1904</td>\n",
       "      <td>10182</td>\n",
       "      <td>18.70</td>\n",
       "    </tr>\n",
       "    <tr>\n",
       "      <th>6</th>\n",
       "      <td>GSW</td>\n",
       "      <td>0</td>\n",
       "      <td>2075</td>\n",
       "      <td>11146</td>\n",
       "      <td>18.62</td>\n",
       "    </tr>\n",
       "    <tr>\n",
       "      <th>7</th>\n",
       "      <td>ATL</td>\n",
       "      <td>0</td>\n",
       "      <td>1869</td>\n",
       "      <td>10047</td>\n",
       "      <td>18.60</td>\n",
       "    </tr>\n",
       "    <tr>\n",
       "      <th>8</th>\n",
       "      <td>CLE</td>\n",
       "      <td>0</td>\n",
       "      <td>1816</td>\n",
       "      <td>9844</td>\n",
       "      <td>18.45</td>\n",
       "    </tr>\n",
       "    <tr>\n",
       "      <th>9</th>\n",
       "      <td>PHX</td>\n",
       "      <td>0</td>\n",
       "      <td>1732</td>\n",
       "      <td>9478</td>\n",
       "      <td>18.27</td>\n",
       "    </tr>\n",
       "    <tr>\n",
       "      <th>10</th>\n",
       "      <td>CHA</td>\n",
       "      <td>0</td>\n",
       "      <td>1641</td>\n",
       "      <td>9074</td>\n",
       "      <td>18.08</td>\n",
       "    </tr>\n",
       "    <tr>\n",
       "      <th>11</th>\n",
       "      <td>DAL</td>\n",
       "      <td>0</td>\n",
       "      <td>1829</td>\n",
       "      <td>10114</td>\n",
       "      <td>18.08</td>\n",
       "    </tr>\n",
       "    <tr>\n",
       "      <th>12</th>\n",
       "      <td>TOR</td>\n",
       "      <td>0</td>\n",
       "      <td>1823</td>\n",
       "      <td>10082</td>\n",
       "      <td>18.08</td>\n",
       "    </tr>\n",
       "    <tr>\n",
       "      <th>13</th>\n",
       "      <td>LAC</td>\n",
       "      <td>0</td>\n",
       "      <td>1868</td>\n",
       "      <td>10409</td>\n",
       "      <td>17.95</td>\n",
       "    </tr>\n",
       "    <tr>\n",
       "      <th>14</th>\n",
       "      <td>ORL</td>\n",
       "      <td>0</td>\n",
       "      <td>1621</td>\n",
       "      <td>9194</td>\n",
       "      <td>17.63</td>\n",
       "    </tr>\n",
       "    <tr>\n",
       "      <th>15</th>\n",
       "      <td>WAS</td>\n",
       "      <td>0</td>\n",
       "      <td>1688</td>\n",
       "      <td>9661</td>\n",
       "      <td>17.47</td>\n",
       "    </tr>\n",
       "    <tr>\n",
       "      <th>16</th>\n",
       "      <td>MIL</td>\n",
       "      <td>0</td>\n",
       "      <td>1744</td>\n",
       "      <td>10124</td>\n",
       "      <td>17.23</td>\n",
       "    </tr>\n",
       "    <tr>\n",
       "      <th>17</th>\n",
       "      <td>NYK</td>\n",
       "      <td>0</td>\n",
       "      <td>1602</td>\n",
       "      <td>9339</td>\n",
       "      <td>17.15</td>\n",
       "    </tr>\n",
       "    <tr>\n",
       "      <th>18</th>\n",
       "      <td>IND</td>\n",
       "      <td>0</td>\n",
       "      <td>1706</td>\n",
       "      <td>9959</td>\n",
       "      <td>17.13</td>\n",
       "    </tr>\n",
       "    <tr>\n",
       "      <th>19</th>\n",
       "      <td>SAC</td>\n",
       "      <td>0</td>\n",
       "      <td>1536</td>\n",
       "      <td>9020</td>\n",
       "      <td>17.03</td>\n",
       "    </tr>\n",
       "    <tr>\n",
       "      <th>20</th>\n",
       "      <td>PHI</td>\n",
       "      <td>0</td>\n",
       "      <td>1607</td>\n",
       "      <td>9626</td>\n",
       "      <td>16.69</td>\n",
       "    </tr>\n",
       "    <tr>\n",
       "      <th>21</th>\n",
       "      <td>NOP</td>\n",
       "      <td>0</td>\n",
       "      <td>1517</td>\n",
       "      <td>9131</td>\n",
       "      <td>16.61</td>\n",
       "    </tr>\n",
       "    <tr>\n",
       "      <th>22</th>\n",
       "      <td>CHI</td>\n",
       "      <td>0</td>\n",
       "      <td>1533</td>\n",
       "      <td>9292</td>\n",
       "      <td>16.50</td>\n",
       "    </tr>\n",
       "    <tr>\n",
       "      <th>23</th>\n",
       "      <td>BKN</td>\n",
       "      <td>0</td>\n",
       "      <td>1608</td>\n",
       "      <td>9804</td>\n",
       "      <td>16.40</td>\n",
       "    </tr>\n",
       "    <tr>\n",
       "      <th>24</th>\n",
       "      <td>LAL</td>\n",
       "      <td>0</td>\n",
       "      <td>1532</td>\n",
       "      <td>9372</td>\n",
       "      <td>16.35</td>\n",
       "    </tr>\n",
       "    <tr>\n",
       "      <th>25</th>\n",
       "      <td>UTA</td>\n",
       "      <td>0</td>\n",
       "      <td>1609</td>\n",
       "      <td>9895</td>\n",
       "      <td>16.26</td>\n",
       "    </tr>\n",
       "    <tr>\n",
       "      <th>26</th>\n",
       "      <td>DET</td>\n",
       "      <td>0</td>\n",
       "      <td>1454</td>\n",
       "      <td>9034</td>\n",
       "      <td>16.09</td>\n",
       "    </tr>\n",
       "    <tr>\n",
       "      <th>27</th>\n",
       "      <td>MEM</td>\n",
       "      <td>0</td>\n",
       "      <td>1589</td>\n",
       "      <td>9931</td>\n",
       "      <td>16.00</td>\n",
       "    </tr>\n",
       "    <tr>\n",
       "      <th>28</th>\n",
       "      <td>MIA</td>\n",
       "      <td>0</td>\n",
       "      <td>1606</td>\n",
       "      <td>10112</td>\n",
       "      <td>15.88</td>\n",
       "    </tr>\n",
       "    <tr>\n",
       "      <th>29</th>\n",
       "      <td>SAS</td>\n",
       "      <td>0</td>\n",
       "      <td>1527</td>\n",
       "      <td>11082</td>\n",
       "      <td>13.78</td>\n",
       "    </tr>\n",
       "  </tbody>\n",
       "</table>\n",
       "</div>"
      ],
      "text/plain": [
       "   team  cluster  count  totals  cluster_share(%)\n",
       "0   HOU        0   1950    9482             20.57\n",
       "1   DEN        0   1898    9780             19.41\n",
       "2   POR        0   1858    9746             19.06\n",
       "3   MIN        0   1725    9053             19.05\n",
       "4   BOS        0   2011   10673             18.84\n",
       "5   OKC        0   1904   10182             18.70\n",
       "6   GSW        0   2075   11146             18.62\n",
       "7   ATL        0   1869   10047             18.60\n",
       "8   CLE        0   1816    9844             18.45\n",
       "9   PHX        0   1732    9478             18.27\n",
       "10  CHA        0   1641    9074             18.08\n",
       "11  DAL        0   1829   10114             18.08\n",
       "12  TOR        0   1823   10082             18.08\n",
       "13  LAC        0   1868   10409             17.95\n",
       "14  ORL        0   1621    9194             17.63\n",
       "15  WAS        0   1688    9661             17.47\n",
       "16  MIL        0   1744   10124             17.23\n",
       "17  NYK        0   1602    9339             17.15\n",
       "18  IND        0   1706    9959             17.13\n",
       "19  SAC        0   1536    9020             17.03\n",
       "20  PHI        0   1607    9626             16.69\n",
       "21  NOP        0   1517    9131             16.61\n",
       "22  CHI        0   1533    9292             16.50\n",
       "23  BKN        0   1608    9804             16.40\n",
       "24  LAL        0   1532    9372             16.35\n",
       "25  UTA        0   1609    9895             16.26\n",
       "26  DET        0   1454    9034             16.09\n",
       "27  MEM        0   1589    9931             16.00\n",
       "28  MIA        0   1606   10112             15.88\n",
       "29  SAS        0   1527   11082             13.78"
      ]
     },
     "execution_count": 55,
     "metadata": {},
     "output_type": "execute_result"
    }
   ],
   "source": [
    "top_scoring_teams.orderBy('cluster_share(%)',ascending=False).toPandas().head(30)"
   ]
  },
  {
   "cell_type": "code",
   "execution_count": null,
   "metadata": {},
   "outputs": [],
   "source": []
  },
  {
   "cell_type": "markdown",
   "metadata": {},
   "source": [
    "Let's have a look at the player's shares in the high scoring cluster. That is, what percentage of players' games fall in the high scoring cluster."
   ]
  },
  {
   "cell_type": "code",
   "execution_count": 56,
   "metadata": {},
   "outputs": [],
   "source": [
    "window = Window.partitionBy('name')\n",
    "player_analysis = (cluster_analysis.groupBy('name','cluster').count()\n",
    ".withColumn('totals',F.sum('count').over(window)))\n",
    "player_analysis = player_analysis.withColumn('cluster_share(%)',\n",
    "        F.round(100*player_analysis['count']/player_analysis['totals'],2))"
   ]
  },
  {
   "cell_type": "code",
   "execution_count": 65,
   "metadata": {},
   "outputs": [],
   "source": [
    "top_scoring_players = player_analysis.filter(f'cluster={high_cluster}')\n",
    "# find the top 5 players\n",
    "to_plot = (top_scoring_players\n",
    ".orderBy('cluster_share(%)',ascending=False)\n",
    ".limit(5).withColumn('position',F.lit('top 5')))\n",
    "\n",
    "# find the last top players\n",
    "to_plot = (to_plot.unionByName(\n",
    "    top_scoring_players.orderBy('cluster_share(%)',ascending=True)\n",
    ".limit(5)\n",
    ".withColumn('position',F.lit('last 5'))))"
   ]
  },
  {
   "cell_type": "code",
   "execution_count": null,
   "metadata": {},
   "outputs": [],
   "source": [
    "fig = (to_plot\n",
    ".to_pandas_on_spark()\n",
    ".plot\n",
    ".bar(x='cluster_share(%)',y='name',color='position'))\n",
    "fig.update_layout(yaxis={'categoryorder':'max ascending'})"
   ]
  },
  {
   "cell_type": "markdown",
   "metadata": {},
   "source": [
    "![PLAYERS](plots/player_plot.png)\n",
    "\n",
    "\n",
    "We can see Stephen Curry, James Harden and Kevin Durant are the 3 most prolific. The top scorers in the league indeed show up in the top 5. The vast difference between the top 5 and the last 5 shows how the scoring responsibility falls on particular players and that, at random, supporting or role players have high scoring games.\n",
    "\n",
    "Let's have a look at the top 20 high scoring players in the league:"
   ]
  },
  {
   "cell_type": "code",
   "execution_count": 59,
   "metadata": {},
   "outputs": [
    {
     "name": "stderr",
     "output_type": "stream",
     "text": [
      "[Stage 228:>                                                        (0 + 1) / 1]\r"
     ]
    },
    {
     "name": "stdout",
     "output_type": "stream",
     "text": [
      "+------------------+-------+-----+------+----------------+\n",
      "|              name|cluster|count|totals|cluster_share(%)|\n",
      "+------------------+-------+-----+------+----------------+\n",
      "|     Stephen Curry|      0|  622|   806|           77.17|\n",
      "|      Kevin Durant|      0|  577|   757|           76.22|\n",
      "|      James Harden|      0|  682|   910|           74.95|\n",
      "|       Luka Doncic|      0|  209|   292|           71.58|\n",
      "|    Damian Lillard|      0|  549|   772|           71.11|\n",
      "|  Donovan Mitchell|      0|  258|   384|           67.19|\n",
      "|        Trae Young|      0|  201|   301|           66.78|\n",
      "|      Kyrie Irving|      0|  446|   685|           65.11|\n",
      "|      LeBron James|      0|  576|   913|           63.09|\n",
      "|       Paul George|      0|  474|   779|           60.85|\n",
      "|      Devin Booker|      0|  305|   509|           59.92|\n",
      "|   Anthony Edwards|      0|   87|   150|            58.0|\n",
      "|      Bradley Beal|      0|  399|   690|           57.83|\n",
      "|Karl-Anthony Towns|      0|  283|   493|            57.4|\n",
      "|      Jayson Tatum|      0|  251|   439|           57.18|\n",
      "| Russell Westbrook|      0|  478|   863|           55.39|\n",
      "|      Kemba Walker|      0|  426|   772|           55.18|\n",
      "|       Joel Embiid|      0|  204|   372|           54.84|\n",
      "|       LaMelo Ball|      0|   67|   126|           53.17|\n",
      "|       Zach LaVine|      0|  254|   482|            52.7|\n",
      "+------------------+-------+-----+------+----------------+\n",
      "only showing top 20 rows\n",
      "\n"
     ]
    },
    {
     "name": "stderr",
     "output_type": "stream",
     "text": [
      "                                                                                \r"
     ]
    }
   ],
   "source": [
    "(player_analysis\n",
    ".filter(f'cluster={high_cluster}')\n",
    ".orderBy('cluster_share(%)',ascending=False)\n",
    ".show())"
   ]
  },
  {
   "cell_type": "markdown",
   "metadata": {},
   "source": [
    "Let's have a look at the combination of players and the teams they played at. This will allow us to see which teams relied on which players to put up numbers during games. We will consider players who have played over 100 games for a team."
   ]
  },
  {
   "cell_type": "code",
   "execution_count": 60,
   "metadata": {},
   "outputs": [],
   "source": [
    "window = Window.partitionBy('name','team')\n",
    "\n",
    "player_team_analysis = cluster_analysis.groupBy('name','team','cluster').count()\n",
    "player_team_analysis = player_team_analysis.withColumn('totals',F.sum('count').over(window))\n",
    "player_team_analysis = (player_team_analysis\n",
    ".withColumn('cluster_share(%)',\n",
    "    F.round(100*player_team_analysis['count']/player_team_analysis['totals'],2)))"
   ]
  },
  {
   "cell_type": "markdown",
   "metadata": {},
   "source": [
    "Let's consider players who show up in the high scoring cluster and have played more than 100 games for a team."
   ]
  },
  {
   "cell_type": "code",
   "execution_count": 68,
   "metadata": {},
   "outputs": [],
   "source": [
    "top_scoring_players = player_team_analysis.filter(f'cluster={high_cluster}')\n",
    "\n",
    "to_plot = (top_scoring_players\n",
    ".filter(top_scoring_players['totals']>100)\n",
    ".orderBy('cluster_share(%)',ascending=False)\n",
    ".limit(10))"
   ]
  },
  {
   "cell_type": "markdown",
   "metadata": {},
   "source": [
    "Let's plot the top ten players with the highest share in the high scoring cluster with respect to the teams at which they had these performances."
   ]
  },
  {
   "cell_type": "code",
   "execution_count": null,
   "metadata": {},
   "outputs": [],
   "source": [
    "fig = (to_plot\n",
    ".orderBy('cluster_share(%)',ascending=False)\n",
    ".to_pandas_on_spark()\n",
    ".plot.bar(x='cluster_share(%)',y='name',color='team',text='team',barmode='overlay'))\n",
    "\n",
    "fig.update_layout(yaxis={'categoryorder':'max ascending'})"
   ]
  },
  {
   "cell_type": "markdown",
   "metadata": {},
   "source": [
    "![PLAYER_TEAMS](plots/player_team.png)\n",
    "\n",
    "\n",
    "Kevin Durant has been a prominent scorer at every team he as been on. All of his teams teams have leaned on his scoring ability and he has delivered. He has his smallest proportion of high scoring performances when he was with the Warriors. While he was indispensible to the Warrior's back to back championships, his role as a high scorer saw a decrease compared to the other teams he has been on. This is likely due to the Warriors' system revolving around Stephen Curry. The data also shows that the Nets have really leaned on Kevin Durant as their primary scorer (which would explain their early exit in the 2021-22 playoffs given his performance suffered against Boston) and he has delivered much more than he has not.\n",
    "\n",
    "Another interesting point to note is that Kevin Durant and Kyrie Irving, part of the Nets' big 3  appear in this list. So even though they did not play many games together (or have the great run everyone expected), they did make sizeable contribution to scoring when the other was not available."
   ]
  },
  {
   "cell_type": "code",
   "execution_count": 69,
   "metadata": {},
   "outputs": [
    {
     "name": "stderr",
     "output_type": "stream",
     "text": [
      "[Stage 268:>                                                        (0 + 1) / 1]\r"
     ]
    },
    {
     "name": "stdout",
     "output_type": "stream",
     "text": [
      "+--------------+----+-------+-----+------+----------------+\n",
      "|          name|team|cluster|count|totals|cluster_share(%)|\n",
      "+--------------+----+-------+-----+------+----------------+\n",
      "|  Kevin Durant| BKN|      0|   87|   106|           82.08|\n",
      "|  James Harden| HOU|      0|  562|   706|            79.6|\n",
      "|  Kevin Durant| OKC|      0|  309|   395|           78.23|\n",
      "| Stephen Curry| GSW|      0|  622|   806|           77.17|\n",
      "|   Paul George| OKC|      0|  128|   167|           76.65|\n",
      "|  Kyrie Irving| BKN|      0|   85|   116|           73.28|\n",
      "| Kawhi Leonard| LAC|      0|   96|   133|           72.18|\n",
      "|   Luka Doncic| DAL|      0|  209|   292|           71.58|\n",
      "|Damian Lillard| POR|      0|  549|   772|           71.11|\n",
      "|  Kevin Durant| GSW|      0|  181|   256|            70.7|\n",
      "+--------------+----+-------+-----+------+----------------+\n",
      "\n"
     ]
    },
    {
     "name": "stderr",
     "output_type": "stream",
     "text": [
      "                                                                                \r"
     ]
    },
    {
     "name": "stderr",
     "output_type": "stream",
     "text": [
      "22/08/13 03:47:46 WARN TransportChannelHandler: Exception in connection from /172.25.14.38:43991\n",
      "java.io.IOException: Connection timed out\n",
      "\tat java.base/sun.nio.ch.FileDispatcherImpl.read0(Native Method)\n",
      "\tat java.base/sun.nio.ch.SocketDispatcher.read(SocketDispatcher.java:39)\n",
      "\tat java.base/sun.nio.ch.IOUtil.readIntoNativeBuffer(IOUtil.java:276)\n",
      "\tat java.base/sun.nio.ch.IOUtil.read(IOUtil.java:233)\n",
      "\tat java.base/sun.nio.ch.IOUtil.read(IOUtil.java:223)\n",
      "\tat java.base/sun.nio.ch.SocketChannelImpl.read(SocketChannelImpl.java:356)\n",
      "\tat io.netty.buffer.PooledByteBuf.setBytes(PooledByteBuf.java:253)\n",
      "\tat io.netty.buffer.AbstractByteBuf.writeBytes(AbstractByteBuf.java:1132)\n",
      "\tat io.netty.channel.socket.nio.NioSocketChannel.doReadBytes(NioSocketChannel.java:350)\n",
      "\tat io.netty.channel.nio.AbstractNioByteChannel$NioByteUnsafe.read(AbstractNioByteChannel.java:151)\n",
      "\tat io.netty.channel.nio.NioEventLoop.processSelectedKey(NioEventLoop.java:719)\n",
      "\tat io.netty.channel.nio.NioEventLoop.processSelectedKeysOptimized(NioEventLoop.java:655)\n",
      "\tat io.netty.channel.nio.NioEventLoop.processSelectedKeys(NioEventLoop.java:581)\n",
      "\tat io.netty.channel.nio.NioEventLoop.run(NioEventLoop.java:493)\n",
      "\tat io.netty.util.concurrent.SingleThreadEventExecutor$4.run(SingleThreadEventExecutor.java:986)\n",
      "\tat io.netty.util.internal.ThreadExecutorMap$2.run(ThreadExecutorMap.java:74)\n",
      "\tat io.netty.util.concurrent.FastThreadLocalRunnable.run(FastThreadLocalRunnable.java:30)\n",
      "\tat java.base/java.lang.Thread.run(Thread.java:829)\n"
     ]
    }
   ],
   "source": [
    "to_plot.show()"
   ]
  },
  {
   "cell_type": "code",
   "execution_count": 78,
   "metadata": {},
   "outputs": [
    {
     "name": "stderr",
     "output_type": "stream",
     "text": [
      "[Stage 833:=========================================================(1 + 0) / 1]\r"
     ]
    },
    {
     "name": "stdout",
     "output_type": "stream",
     "text": [
      "+-----------------+----+------------------+\n",
      "|             name|team|               pts|\n",
      "+-----------------+----+------------------+\n",
      "|     James Harden| HOU| 29.43484419263456|\n",
      "|     Kevin Durant| BKN|29.264150943396228|\n",
      "|     Kevin Durant| OKC| 28.91392405063291|\n",
      "|    Kawhi Leonard| TOR|27.714285714285715|\n",
      "|    DeMar DeRozan| CHI|27.432098765432098|\n",
      "|     LeBron James| MIA| 27.22064056939502|\n",
      "|     LeBron James| CLE| 27.12041884816754|\n",
      "|     LeBron James| LAL|            26.976|\n",
      "|      Luka Doncic| DAL| 26.96232876712329|\n",
      "|    Kawhi Leonard| LAC|26.586466165413533|\n",
      "|     Kyrie Irving| BKN|26.586206896551722|\n",
      "|     Kevin Durant| GSW|       26.55078125|\n",
      "|Russell Westbrook| HOU|26.092307692307692|\n",
      "|    Stephen Curry| GSW|25.883374689826304|\n",
      "|      Joel Embiid| PHI|25.787634408602152|\n",
      "|  Zion Williamson| NOP|25.729411764705883|\n",
      "|Russell Westbrook| OKC|25.306153846153848|\n",
      "|       Trae Young| ATL|25.295681063122924|\n",
      "|       Kevin Love| MIN| 25.14666666666667|\n",
      "|      Paul George| OKC| 25.05389221556886|\n",
      "+-----------------+----+------------------+\n",
      "only showing top 20 rows\n",
      "\n"
     ]
    },
    {
     "name": "stderr",
     "output_type": "stream",
     "text": [
      "                                                                                \r"
     ]
    }
   ],
   "source": [
    "df.select('name','team', 'pts').groupBy('name','team').agg(F.avg('pts').alias('pts')).orderBy('pts',ascending=False).show()"
   ]
  },
  {
   "cell_type": "code",
   "execution_count": null,
   "metadata": {},
   "outputs": [],
   "source": []
  }
 ],
 "metadata": {
  "interpreter": {
   "hash": "767d51c1340bd893661ea55ea3124f6de3c7a262a8b4abca0554b478b1e2ff90"
  },
  "kernelspec": {
   "display_name": "Python 3.9.2 64-bit",
   "language": "python",
   "name": "python3"
  },
  "language_info": {
   "codemirror_mode": {
    "name": "ipython",
    "version": 3
   },
   "file_extension": ".py",
   "mimetype": "text/x-python",
   "name": "python",
   "nbconvert_exporter": "python",
   "pygments_lexer": "ipython3",
   "version": "3.9.2"
  },
  "orig_nbformat": 4
 },
 "nbformat": 4,
 "nbformat_minor": 2
}
