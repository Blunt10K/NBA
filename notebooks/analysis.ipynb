{
 "cells": [
  {
   "cell_type": "markdown",
   "metadata": {},
   "source": [
    "# What kind of scoring performances exist in the NBA?\n",
    "\n",
    "We will try to characterise the scoring performances that appear in the NBA in this analysis.\n",
    "\n",
    "This analysis could be useful for the following reasons:\n",
    "- Grouping players by their scoring performances\n",
    "- Identifying which teams (do not) lean on high-scoring players/stars\n",
    "    - And what kind of teams are successful\n",
    "    - How players perform from with different teams"
   ]
  },
  {
   "cell_type": "code",
   "execution_count": 1,
   "metadata": {},
   "outputs": [],
   "source": [
    "from pyspark.sql import SparkSession\n",
    "from os import environ"
   ]
  },
  {
   "cell_type": "code",
   "execution_count": null,
   "metadata": {},
   "outputs": [],
   "source": [
    "spark = SparkSession.builder.appName('box_score_analysis').master('local[*]').getOrCreate()"
   ]
  },
  {
   "cell_type": "code",
   "execution_count": 3,
   "metadata": {},
   "outputs": [],
   "source": [
    "query = 'select players.name as name, A.*  from '\n",
    "query += '(select teams.name as team, box_scores.* from box_scores inner join teams on ' \n",
    "query += 'team_id = id) ' \n",
    "query += 'A inner join players on player_id = id'\n",
    "\n",
    "\n",
    "df = spark.read.format('jdbc').option('url','jdbc:mysql://localhost:3306/nba').\\\n",
    "    option('user',environ.get('USER')).option('password',environ.get('PSWD')).\\\n",
    "    option('query',query).load()"
   ]
  },
  {
   "cell_type": "code",
   "execution_count": 4,
   "metadata": {},
   "outputs": [],
   "source": [
    "df = df.drop('player_id','team_id')"
   ]
  },
  {
   "cell_type": "code",
   "execution_count": null,
   "metadata": {},
   "outputs": [],
   "source": []
  },
  {
   "cell_type": "markdown",
   "metadata": {},
   "source": [
    "I have data on games from the 2011-12 to the 2021-22 NBA season both on the regular and post season. "
   ]
  },
  {
   "cell_type": "code",
   "execution_count": 5,
   "metadata": {},
   "outputs": [
    {
     "name": "stderr",
     "output_type": "stream",
     "text": [
      "                                                                                \r"
     ]
    },
    {
     "name": "stdout",
     "output_type": "stream",
     "text": [
      "+-------------+-----------+\n",
      "|earliest_game|latest_game|\n",
      "+-------------+-----------+\n",
      "|   2011-12-25| 2022-06-16|\n",
      "+-------------+-----------+\n",
      "\n"
     ]
    }
   ],
   "source": [
    "import pyspark.sql.functions as F\n",
    "df.select(F.min('game_day').alias('earliest_game'),F.max('game_day').alias('latest_game')).show()"
   ]
  },
  {
   "cell_type": "markdown",
   "metadata": {},
   "source": [
    "Let's select scoring and assist stats from the original df"
   ]
  },
  {
   "cell_type": "code",
   "execution_count": 6,
   "metadata": {},
   "outputs": [],
   "source": [
    "scoring_stats = ['pts','fgm','fga','pm3','pa3','ftm','fta','ast']\n",
    "identifiers = ['name','team', 'game_day']\n",
    "label = ['result']\n",
    "cols = identifiers+label+scoring_stats\n",
    "scoring_df = df.select(*cols)"
   ]
  },
  {
   "cell_type": "markdown",
   "metadata": {},
   "source": [
    "Compute some derived scoring stats."
   ]
  },
  {
   "cell_type": "code",
   "execution_count": 7,
   "metadata": {},
   "outputs": [],
   "source": [
    "scoring_df = (scoring_df.withColumn('ft%', scoring_df['ftm']/scoring_df['fta'])\n",
    "    .withColumn('pm2', scoring_df['fgm']-scoring_df['pm3'])\n",
    "    .withColumn('pa2', scoring_df['fga']-scoring_df['pa3'])\n",
    "    .withColumn('fg%', scoring_df['fgm']/scoring_df['fga'])\n",
    "    .withColumn('3p%', scoring_df['pm3']/scoring_df['pa3'])\n",
    "    .withColumn('2p%', (scoring_df['fgm'] - scoring_df['pm3'])/(scoring_df['fga'] -scoring_df['pa3']))\n",
    "    .withColumn('eFG%',(scoring_df['fgm'] + 0.5*scoring_df['pm3'])/scoring_df['fga']))"
   ]
  },
  {
   "cell_type": "code",
   "execution_count": null,
   "metadata": {},
   "outputs": [],
   "source": []
  },
  {
   "cell_type": "markdown",
   "metadata": {},
   "source": [
    "Let's transform the result column in the following manner\n",
    "\n",
    "$result \\subset \\{win, loss\\}$  ==> $win \\subset \\{1,0\\}$\n",
    "\n",
    "Wins are transformed to 1 and losses are transformed to 0. "
   ]
  },
  {
   "cell_type": "code",
   "execution_count": null,
   "metadata": {},
   "outputs": [],
   "source": [
    "from pyspark.ml.feature import StringIndexer\n",
    "result_labler = StringIndexer(inputCol='result',outputCol='win',\n",
    "                stringOrderType='alphabetAsc').fit(scoring_df)"
   ]
  },
  {
   "cell_type": "code",
   "execution_count": null,
   "metadata": {},
   "outputs": [],
   "source": [
    "scoring_df = result_labler.transform(scoring_df)"
   ]
  },
  {
   "cell_type": "code",
   "execution_count": null,
   "metadata": {},
   "outputs": [
    {
     "name": "stdout",
     "output_type": "stream",
     "text": [
      "root\n",
      " |-- name: string (nullable = true)\n",
      " |-- team: string (nullable = true)\n",
      " |-- game_day: date (nullable = true)\n",
      " |-- result: string (nullable = true)\n",
      " |-- pts: integer (nullable = true)\n",
      " |-- fgm: integer (nullable = true)\n",
      " |-- fga: integer (nullable = true)\n",
      " |-- pm3: integer (nullable = true)\n",
      " |-- pa3: integer (nullable = true)\n",
      " |-- ftm: integer (nullable = true)\n",
      " |-- fta: integer (nullable = true)\n",
      " |-- ast: integer (nullable = true)\n",
      " |-- ft%: double (nullable = true)\n",
      " |-- pm2: integer (nullable = true)\n",
      " |-- pa2: integer (nullable = true)\n",
      " |-- fg%: double (nullable = true)\n",
      " |-- 3p%: double (nullable = true)\n",
      " |-- 2p%: double (nullable = true)\n",
      " |-- eFG%: double (nullable = true)\n",
      " |-- win: double (nullable = false)\n",
      "\n"
     ]
    }
   ],
   "source": [
    "scoring_df.printSchema()"
   ]
  },
  {
   "cell_type": "markdown",
   "metadata": {},
   "source": [
    "## Exploratory analysis\n",
    "\n",
    "Let's start with some descriptive statistics of the scoring stats."
   ]
  },
  {
   "cell_type": "code",
   "execution_count": null,
   "metadata": {},
   "outputs": [
    {
     "name": "stderr",
     "output_type": "stream",
     "text": [
      "                                                                                \r"
     ]
    },
    {
     "data": {
      "text/html": [
       "<div>\n",
       "<style scoped>\n",
       "    .dataframe tbody tr th:only-of-type {\n",
       "        vertical-align: middle;\n",
       "    }\n",
       "\n",
       "    .dataframe tbody tr th {\n",
       "        vertical-align: top;\n",
       "    }\n",
       "\n",
       "    .dataframe thead th {\n",
       "        text-align: right;\n",
       "    }\n",
       "</style>\n",
       "<table border=\"1\" class=\"dataframe\">\n",
       "  <thead>\n",
       "    <tr style=\"text-align: right;\">\n",
       "      <th></th>\n",
       "      <th>pts</th>\n",
       "      <th>fgm</th>\n",
       "      <th>fga</th>\n",
       "      <th>pm3</th>\n",
       "      <th>pa3</th>\n",
       "      <th>ftm</th>\n",
       "      <th>fta</th>\n",
       "      <th>ast</th>\n",
       "      <th>ft%</th>\n",
       "      <th>pm2</th>\n",
       "      <th>pa2</th>\n",
       "      <th>fg%</th>\n",
       "      <th>3p%</th>\n",
       "      <th>2p%</th>\n",
       "      <th>eFG%</th>\n",
       "      <th>win</th>\n",
       "    </tr>\n",
       "  </thead>\n",
       "  <tbody>\n",
       "    <tr>\n",
       "      <th>count</th>\n",
       "      <td>293686.0000</td>\n",
       "      <td>293686.0000</td>\n",
       "      <td>293686.0000</td>\n",
       "      <td>293686.0000</td>\n",
       "      <td>293686.0000</td>\n",
       "      <td>293686.0000</td>\n",
       "      <td>293686.0000</td>\n",
       "      <td>293686.0000</td>\n",
       "      <td>166381.0000</td>\n",
       "      <td>293686.0000</td>\n",
       "      <td>293686.0000</td>\n",
       "      <td>279167.0000</td>\n",
       "      <td>201886.0000</td>\n",
       "      <td>265440.0000</td>\n",
       "      <td>279167.0000</td>\n",
       "      <td>293686.000</td>\n",
       "    </tr>\n",
       "    <tr>\n",
       "      <th>mean</th>\n",
       "      <td>9.9248</td>\n",
       "      <td>3.6834</td>\n",
       "      <td>8.0747</td>\n",
       "      <td>0.9169</td>\n",
       "      <td>2.5699</td>\n",
       "      <td>1.6410</td>\n",
       "      <td>2.1493</td>\n",
       "      <td>2.1706</td>\n",
       "      <td>0.7519</td>\n",
       "      <td>2.7665</td>\n",
       "      <td>5.5048</td>\n",
       "      <td>0.4426</td>\n",
       "      <td>0.3258</td>\n",
       "      <td>0.4904</td>\n",
       "      <td>0.4972</td>\n",
       "      <td>0.501</td>\n",
       "    </tr>\n",
       "    <tr>\n",
       "      <th>std</th>\n",
       "      <td>8.1726</td>\n",
       "      <td>3.0578</td>\n",
       "      <td>5.7130</td>\n",
       "      <td>1.3216</td>\n",
       "      <td>2.7435</td>\n",
       "      <td>2.2736</td>\n",
       "      <td>2.7751</td>\n",
       "      <td>2.5061</td>\n",
       "      <td>0.2868</td>\n",
       "      <td>2.6326</td>\n",
       "      <td>4.5579</td>\n",
       "      <td>0.2363</td>\n",
       "      <td>0.3015</td>\n",
       "      <td>0.2813</td>\n",
       "      <td>0.2692</td>\n",
       "      <td>0.500</td>\n",
       "    </tr>\n",
       "    <tr>\n",
       "      <th>min</th>\n",
       "      <td>0.0000</td>\n",
       "      <td>0.0000</td>\n",
       "      <td>0.0000</td>\n",
       "      <td>0.0000</td>\n",
       "      <td>0.0000</td>\n",
       "      <td>0.0000</td>\n",
       "      <td>0.0000</td>\n",
       "      <td>0.0000</td>\n",
       "      <td>0.0000</td>\n",
       "      <td>0.0000</td>\n",
       "      <td>0.0000</td>\n",
       "      <td>0.0000</td>\n",
       "      <td>0.0000</td>\n",
       "      <td>0.0000</td>\n",
       "      <td>0.0000</td>\n",
       "      <td>0.000</td>\n",
       "    </tr>\n",
       "    <tr>\n",
       "      <th>25%</th>\n",
       "      <td>4.0000</td>\n",
       "      <td>1.0000</td>\n",
       "      <td>4.0000</td>\n",
       "      <td>0.0000</td>\n",
       "      <td>0.0000</td>\n",
       "      <td>0.0000</td>\n",
       "      <td>0.0000</td>\n",
       "      <td>0.0000</td>\n",
       "      <td>0.5000</td>\n",
       "      <td>1.0000</td>\n",
       "      <td>2.0000</td>\n",
       "      <td>0.3158</td>\n",
       "      <td>0.0000</td>\n",
       "      <td>0.3333</td>\n",
       "      <td>0.3333</td>\n",
       "      <td>0.000</td>\n",
       "    </tr>\n",
       "    <tr>\n",
       "      <th>50%</th>\n",
       "      <td>8.0000</td>\n",
       "      <td>3.0000</td>\n",
       "      <td>7.0000</td>\n",
       "      <td>0.0000</td>\n",
       "      <td>2.0000</td>\n",
       "      <td>1.0000</td>\n",
       "      <td>2.0000</td>\n",
       "      <td>1.0000</td>\n",
       "      <td>0.8333</td>\n",
       "      <td>2.0000</td>\n",
       "      <td>4.0000</td>\n",
       "      <td>0.4444</td>\n",
       "      <td>0.3333</td>\n",
       "      <td>0.5000</td>\n",
       "      <td>0.5000</td>\n",
       "      <td>1.000</td>\n",
       "    </tr>\n",
       "    <tr>\n",
       "      <th>75%</th>\n",
       "      <td>15.0000</td>\n",
       "      <td>5.0000</td>\n",
       "      <td>11.0000</td>\n",
       "      <td>1.0000</td>\n",
       "      <td>4.0000</td>\n",
       "      <td>2.0000</td>\n",
       "      <td>3.0000</td>\n",
       "      <td>3.0000</td>\n",
       "      <td>1.0000</td>\n",
       "      <td>4.0000</td>\n",
       "      <td>8.0000</td>\n",
       "      <td>0.5714</td>\n",
       "      <td>0.5000</td>\n",
       "      <td>0.6667</td>\n",
       "      <td>0.6667</td>\n",
       "      <td>1.000</td>\n",
       "    </tr>\n",
       "    <tr>\n",
       "      <th>max</th>\n",
       "      <td>70.0000</td>\n",
       "      <td>24.0000</td>\n",
       "      <td>50.0000</td>\n",
       "      <td>14.0000</td>\n",
       "      <td>24.0000</td>\n",
       "      <td>26.0000</td>\n",
       "      <td>39.0000</td>\n",
       "      <td>25.0000</td>\n",
       "      <td>1.0000</td>\n",
       "      <td>22.0000</td>\n",
       "      <td>34.0000</td>\n",
       "      <td>1.0000</td>\n",
       "      <td>1.0000</td>\n",
       "      <td>1.0000</td>\n",
       "      <td>1.5000</td>\n",
       "      <td>1.000</td>\n",
       "    </tr>\n",
       "  </tbody>\n",
       "</table>\n",
       "</div>"
      ],
      "text/plain": [
       "               pts          fgm          fga          pm3          pa3  \\\n",
       "count  293686.0000  293686.0000  293686.0000  293686.0000  293686.0000   \n",
       "mean        9.9248       3.6834       8.0747       0.9169       2.5699   \n",
       "std         8.1726       3.0578       5.7130       1.3216       2.7435   \n",
       "min         0.0000       0.0000       0.0000       0.0000       0.0000   \n",
       "25%         4.0000       1.0000       4.0000       0.0000       0.0000   \n",
       "50%         8.0000       3.0000       7.0000       0.0000       2.0000   \n",
       "75%        15.0000       5.0000      11.0000       1.0000       4.0000   \n",
       "max        70.0000      24.0000      50.0000      14.0000      24.0000   \n",
       "\n",
       "               ftm          fta          ast          ft%          pm2  \\\n",
       "count  293686.0000  293686.0000  293686.0000  166381.0000  293686.0000   \n",
       "mean        1.6410       2.1493       2.1706       0.7519       2.7665   \n",
       "std         2.2736       2.7751       2.5061       0.2868       2.6326   \n",
       "min         0.0000       0.0000       0.0000       0.0000       0.0000   \n",
       "25%         0.0000       0.0000       0.0000       0.5000       1.0000   \n",
       "50%         1.0000       2.0000       1.0000       0.8333       2.0000   \n",
       "75%         2.0000       3.0000       3.0000       1.0000       4.0000   \n",
       "max        26.0000      39.0000      25.0000       1.0000      22.0000   \n",
       "\n",
       "               pa2          fg%          3p%          2p%         eFG%  \\\n",
       "count  293686.0000  279167.0000  201886.0000  265440.0000  279167.0000   \n",
       "mean        5.5048       0.4426       0.3258       0.4904       0.4972   \n",
       "std         4.5579       0.2363       0.3015       0.2813       0.2692   \n",
       "min         0.0000       0.0000       0.0000       0.0000       0.0000   \n",
       "25%         2.0000       0.3158       0.0000       0.3333       0.3333   \n",
       "50%         4.0000       0.4444       0.3333       0.5000       0.5000   \n",
       "75%         8.0000       0.5714       0.5000       0.6667       0.6667   \n",
       "max        34.0000       1.0000       1.0000       1.0000       1.5000   \n",
       "\n",
       "              win  \n",
       "count  293686.000  \n",
       "mean        0.501  \n",
       "std         0.500  \n",
       "min         0.000  \n",
       "25%         0.000  \n",
       "50%         1.000  \n",
       "75%         1.000  \n",
       "max         1.000  "
      ]
     },
     "execution_count": 13,
     "metadata": {},
     "output_type": "execute_result"
    }
   ],
   "source": [
    "to_plot = scoring_df.select(*scoring_df.columns[4:]).toPandas()\n",
    "\n",
    "to_plot.describe().round(4)"
   ]
  },
  {
   "cell_type": "markdown",
   "metadata": {},
   "source": [
    "Summary statistics show:\n",
    "- Teams typically play the same number of players\n",
    "    - Because wins make up 50% of all records and only one team can win\n",
    "    - Balanced class labels for wins/results, meaning downstream classification tasks do not need make extra considerations for unbalanced classes\n",
    "- The average player contributes to points mostly through 2pt shots. (3 point shots made show the 75th percentile at only 1 and the mean being 0.9). They also contribute through free throws, making about one a game.\n",
    "    - The average player takes few 3 pt shots and hardly makes any\n",
    "- Most made threes are made by specialised/specialist players. This shows as a skew in 3PM where the 75th percentile is 1 three point shot made"
   ]
  },
  {
   "cell_type": "code",
   "execution_count": null,
   "metadata": {},
   "outputs": [],
   "source": []
  },
  {
   "cell_type": "markdown",
   "metadata": {},
   "source": [
    "Let's check the correlation matrix of the variables. Clustering algorithms work best with uncorrelated variables so it will be useful to identify correlated variables to before feature selection."
   ]
  },
  {
   "cell_type": "code",
   "execution_count": 35,
   "metadata": {},
   "outputs": [
    {
     "data": {
      "text/html": [
       "<style type=\"text/css\">\n",
       "#T_0e0e7_row0_col0, #T_0e0e7_row1_col1, #T_0e0e7_row2_col2, #T_0e0e7_row3_col3, #T_0e0e7_row4_col4, #T_0e0e7_row5_col5, #T_0e0e7_row6_col6, #T_0e0e7_row7_col7, #T_0e0e7_row8_col8, #T_0e0e7_row9_col9, #T_0e0e7_row10_col10, #T_0e0e7_row11_col11, #T_0e0e7_row12_col12, #T_0e0e7_row13_col13, #T_0e0e7_row14_col14, #T_0e0e7_row15_col15 {\n",
       "  background-color: #b40426;\n",
       "  color: #f1f1f1;\n",
       "}\n",
       "#T_0e0e7_row0_col1, #T_0e0e7_row1_col0 {\n",
       "  background-color: #ba162b;\n",
       "  color: #f1f1f1;\n",
       "}\n",
       "#T_0e0e7_row0_col2, #T_0e0e7_row2_col0, #T_0e0e7_row2_col10, #T_0e0e7_row10_col2 {\n",
       "  background-color: #ca3b37;\n",
       "  color: #f1f1f1;\n",
       "}\n",
       "#T_0e0e7_row0_col3, #T_0e0e7_row3_col0 {\n",
       "  background-color: #ee8468;\n",
       "  color: #f1f1f1;\n",
       "}\n",
       "#T_0e0e7_row0_col4, #T_0e0e7_row4_col0 {\n",
       "  background-color: #f18f71;\n",
       "  color: #f1f1f1;\n",
       "}\n",
       "#T_0e0e7_row0_col5, #T_0e0e7_row5_col0 {\n",
       "  background-color: #e8765c;\n",
       "  color: #f1f1f1;\n",
       "}\n",
       "#T_0e0e7_row0_col6, #T_0e0e7_row6_col0 {\n",
       "  background-color: #e97a5f;\n",
       "  color: #f1f1f1;\n",
       "}\n",
       "#T_0e0e7_row0_col7, #T_0e0e7_row1_col11, #T_0e0e7_row7_col0, #T_0e0e7_row11_col1 {\n",
       "  background-color: #f6a586;\n",
       "  color: #000000;\n",
       "}\n",
       "#T_0e0e7_row0_col8, #T_0e0e7_row8_col0 {\n",
       "  background-color: #f1ccb8;\n",
       "  color: #000000;\n",
       "}\n",
       "#T_0e0e7_row0_col9, #T_0e0e7_row3_col4, #T_0e0e7_row4_col3, #T_0e0e7_row9_col0 {\n",
       "  background-color: #d44e41;\n",
       "  color: #f1f1f1;\n",
       "}\n",
       "#T_0e0e7_row0_col10, #T_0e0e7_row10_col0 {\n",
       "  background-color: #da5a49;\n",
       "  color: #f1f1f1;\n",
       "}\n",
       "#T_0e0e7_row0_col11, #T_0e0e7_row11_col0 {\n",
       "  background-color: #f7b093;\n",
       "  color: #000000;\n",
       "}\n",
       "#T_0e0e7_row0_col12, #T_0e0e7_row6_col7, #T_0e0e7_row7_col6, #T_0e0e7_row12_col0 {\n",
       "  background-color: #f7ba9f;\n",
       "  color: #000000;\n",
       "}\n",
       "#T_0e0e7_row0_col13, #T_0e0e7_row1_col12, #T_0e0e7_row12_col1, #T_0e0e7_row13_col0 {\n",
       "  background-color: #f5c0a7;\n",
       "  color: #000000;\n",
       "}\n",
       "#T_0e0e7_row0_col14, #T_0e0e7_row14_col0 {\n",
       "  background-color: #f7ad90;\n",
       "  color: #000000;\n",
       "}\n",
       "#T_0e0e7_row0_col15, #T_0e0e7_row6_col13, #T_0e0e7_row6_col14, #T_0e0e7_row13_col6, #T_0e0e7_row14_col6, #T_0e0e7_row15_col0 {\n",
       "  background-color: #e5d8d1;\n",
       "  color: #000000;\n",
       "}\n",
       "#T_0e0e7_row1_col2, #T_0e0e7_row2_col1 {\n",
       "  background-color: #c83836;\n",
       "  color: #f1f1f1;\n",
       "}\n",
       "#T_0e0e7_row1_col3, #T_0e0e7_row2_col5, #T_0e0e7_row3_col1, #T_0e0e7_row5_col2, #T_0e0e7_row6_col10, #T_0e0e7_row10_col6 {\n",
       "  background-color: #f39778;\n",
       "  color: #000000;\n",
       "}\n",
       "#T_0e0e7_row1_col4, #T_0e0e7_row1_col5, #T_0e0e7_row4_col1, #T_0e0e7_row5_col1 {\n",
       "  background-color: #f59f80;\n",
       "  color: #000000;\n",
       "}\n",
       "#T_0e0e7_row1_col6, #T_0e0e7_row6_col1, #T_0e0e7_row6_col9, #T_0e0e7_row9_col6 {\n",
       "  background-color: #f59d7e;\n",
       "  color: #000000;\n",
       "}\n",
       "#T_0e0e7_row1_col7, #T_0e0e7_row1_col14, #T_0e0e7_row7_col1, #T_0e0e7_row14_col1 {\n",
       "  background-color: #f7a98b;\n",
       "  color: #000000;\n",
       "}\n",
       "#T_0e0e7_row1_col8, #T_0e0e7_row5_col11, #T_0e0e7_row8_col1, #T_0e0e7_row11_col5, #T_0e0e7_row13_col15, #T_0e0e7_row15_col13 {\n",
       "  background-color: #e7d7ce;\n",
       "  color: #000000;\n",
       "}\n",
       "#T_0e0e7_row1_col9, #T_0e0e7_row9_col1 {\n",
       "  background-color: #c53334;\n",
       "  color: #f1f1f1;\n",
       "}\n",
       "#T_0e0e7_row1_col10, #T_0e0e7_row10_col1 {\n",
       "  background-color: #d24b40;\n",
       "  color: #f1f1f1;\n",
       "}\n",
       "#T_0e0e7_row1_col13, #T_0e0e7_row7_col9, #T_0e0e7_row9_col7, #T_0e0e7_row13_col1 {\n",
       "  background-color: #f7b497;\n",
       "  color: #000000;\n",
       "}\n",
       "#T_0e0e7_row1_col15, #T_0e0e7_row3_col15, #T_0e0e7_row5_col13, #T_0e0e7_row5_col14, #T_0e0e7_row6_col8, #T_0e0e7_row7_col15, #T_0e0e7_row8_col6, #T_0e0e7_row10_col13, #T_0e0e7_row10_col14, #T_0e0e7_row13_col5, #T_0e0e7_row13_col10, #T_0e0e7_row14_col5, #T_0e0e7_row14_col10, #T_0e0e7_row15_col1, #T_0e0e7_row15_col3, #T_0e0e7_row15_col7 {\n",
       "  background-color: #e4d9d2;\n",
       "  color: #000000;\n",
       "}\n",
       "#T_0e0e7_row2_col3, #T_0e0e7_row3_col2, #T_0e0e7_row5_col10, #T_0e0e7_row10_col5 {\n",
       "  background-color: #f49a7b;\n",
       "  color: #000000;\n",
       "}\n",
       "#T_0e0e7_row2_col4, #T_0e0e7_row4_col2 {\n",
       "  background-color: #ec7f63;\n",
       "  color: #f1f1f1;\n",
       "}\n",
       "#T_0e0e7_row2_col6, #T_0e0e7_row6_col2 {\n",
       "  background-color: #f4987a;\n",
       "  color: #000000;\n",
       "}\n",
       "#T_0e0e7_row2_col7, #T_0e0e7_row7_col2 {\n",
       "  background-color: #f59c7d;\n",
       "  color: #000000;\n",
       "}\n",
       "#T_0e0e7_row2_col8, #T_0e0e7_row3_col8, #T_0e0e7_row8_col2, #T_0e0e7_row8_col3 {\n",
       "  background-color: #ecd3c5;\n",
       "  color: #000000;\n",
       "}\n",
       "#T_0e0e7_row2_col9, #T_0e0e7_row9_col2 {\n",
       "  background-color: #d95847;\n",
       "  color: #f1f1f1;\n",
       "}\n",
       "#T_0e0e7_row2_col11, #T_0e0e7_row2_col14, #T_0e0e7_row4_col14, #T_0e0e7_row11_col2, #T_0e0e7_row14_col2, #T_0e0e7_row14_col4 {\n",
       "  background-color: #e8d6cc;\n",
       "  color: #000000;\n",
       "}\n",
       "#T_0e0e7_row2_col12, #T_0e0e7_row12_col2 {\n",
       "  background-color: #e6d7cf;\n",
       "  color: #000000;\n",
       "}\n",
       "#T_0e0e7_row2_col13, #T_0e0e7_row8_col10, #T_0e0e7_row10_col8, #T_0e0e7_row13_col2 {\n",
       "  background-color: #e3d9d3;\n",
       "  color: #000000;\n",
       "}\n",
       "#T_0e0e7_row2_col15, #T_0e0e7_row3_col13, #T_0e0e7_row9_col12, #T_0e0e7_row12_col9, #T_0e0e7_row12_col13, #T_0e0e7_row13_col3, #T_0e0e7_row13_col12, #T_0e0e7_row15_col2 {\n",
       "  background-color: #dcdddd;\n",
       "  color: #000000;\n",
       "}\n",
       "#T_0e0e7_row3_col5, #T_0e0e7_row5_col3 {\n",
       "  background-color: #f1cdba;\n",
       "  color: #000000;\n",
       "}\n",
       "#T_0e0e7_row3_col6, #T_0e0e7_row4_col12, #T_0e0e7_row6_col3, #T_0e0e7_row12_col4 {\n",
       "  background-color: #eed0c0;\n",
       "  color: #000000;\n",
       "}\n",
       "#T_0e0e7_row3_col7, #T_0e0e7_row7_col3 {\n",
       "  background-color: #f5c4ac;\n",
       "  color: #000000;\n",
       "}\n",
       "#T_0e0e7_row3_col9, #T_0e0e7_row6_col11, #T_0e0e7_row7_col8, #T_0e0e7_row8_col7, #T_0e0e7_row9_col3, #T_0e0e7_row11_col6, #T_0e0e7_row12_col15, #T_0e0e7_row15_col12 {\n",
       "  background-color: #e9d5cb;\n",
       "  color: #000000;\n",
       "}\n",
       "#T_0e0e7_row3_col10, #T_0e0e7_row10_col3 {\n",
       "  background-color: #ebd3c6;\n",
       "  color: #000000;\n",
       "}\n",
       "#T_0e0e7_row3_col11, #T_0e0e7_row4_col10, #T_0e0e7_row10_col4, #T_0e0e7_row11_col3 {\n",
       "  background-color: #f0cdbb;\n",
       "  color: #000000;\n",
       "}\n",
       "#T_0e0e7_row3_col12, #T_0e0e7_row12_col3 {\n",
       "  background-color: #ec8165;\n",
       "  color: #f1f1f1;\n",
       "}\n",
       "#T_0e0e7_row3_col14, #T_0e0e7_row14_col3 {\n",
       "  background-color: #f7b396;\n",
       "  color: #000000;\n",
       "}\n",
       "#T_0e0e7_row4_col5, #T_0e0e7_row5_col4 {\n",
       "  background-color: #f4c6af;\n",
       "  color: #000000;\n",
       "}\n",
       "#T_0e0e7_row4_col6, #T_0e0e7_row6_col4 {\n",
       "  background-color: #f2cbb7;\n",
       "  color: #000000;\n",
       "}\n",
       "#T_0e0e7_row4_col7, #T_0e0e7_row5_col7, #T_0e0e7_row7_col4, #T_0e0e7_row7_col5 {\n",
       "  background-color: #f7b89c;\n",
       "  color: #000000;\n",
       "}\n",
       "#T_0e0e7_row4_col8, #T_0e0e7_row8_col4 {\n",
       "  background-color: #efcfbf;\n",
       "  color: #000000;\n",
       "}\n",
       "#T_0e0e7_row4_col9, #T_0e0e7_row9_col4, #T_0e0e7_row10_col11, #T_0e0e7_row11_col10 {\n",
       "  background-color: #edd1c2;\n",
       "  color: #000000;\n",
       "}\n",
       "#T_0e0e7_row4_col11, #T_0e0e7_row11_col4 {\n",
       "  background-color: #d5dbe5;\n",
       "  color: #000000;\n",
       "}\n",
       "#T_0e0e7_row4_col13, #T_0e0e7_row4_col15, #T_0e0e7_row10_col12, #T_0e0e7_row12_col10, #T_0e0e7_row13_col4, #T_0e0e7_row15_col4 {\n",
       "  background-color: #dddcdc;\n",
       "  color: #000000;\n",
       "}\n",
       "#T_0e0e7_row5_col6, #T_0e0e7_row6_col5 {\n",
       "  background-color: #bd1f2d;\n",
       "  color: #f1f1f1;\n",
       "}\n",
       "#T_0e0e7_row5_col8, #T_0e0e7_row8_col5 {\n",
       "  background-color: #f7b194;\n",
       "  color: #000000;\n",
       "}\n",
       "#T_0e0e7_row5_col9, #T_0e0e7_row9_col5 {\n",
       "  background-color: #f6a283;\n",
       "  color: #000000;\n",
       "}\n",
       "#T_0e0e7_row5_col12, #T_0e0e7_row12_col5 {\n",
       "  background-color: #dfdbd9;\n",
       "  color: #000000;\n",
       "}\n",
       "#T_0e0e7_row5_col15, #T_0e0e7_row7_col12, #T_0e0e7_row7_col14, #T_0e0e7_row8_col15, #T_0e0e7_row9_col15, #T_0e0e7_row12_col7, #T_0e0e7_row14_col7, #T_0e0e7_row15_col5, #T_0e0e7_row15_col8, #T_0e0e7_row15_col9 {\n",
       "  background-color: #e1dad6;\n",
       "  color: #000000;\n",
       "}\n",
       "#T_0e0e7_row6_col12, #T_0e0e7_row7_col13, #T_0e0e7_row12_col6, #T_0e0e7_row13_col7 {\n",
       "  background-color: #dedcdb;\n",
       "  color: #000000;\n",
       "}\n",
       "#T_0e0e7_row6_col15, #T_0e0e7_row7_col11, #T_0e0e7_row8_col9, #T_0e0e7_row8_col12, #T_0e0e7_row9_col8, #T_0e0e7_row11_col7, #T_0e0e7_row12_col8, #T_0e0e7_row15_col6 {\n",
       "  background-color: #e0dbd8;\n",
       "  color: #000000;\n",
       "}\n",
       "#T_0e0e7_row7_col10, #T_0e0e7_row9_col11, #T_0e0e7_row9_col13, #T_0e0e7_row10_col7, #T_0e0e7_row11_col9, #T_0e0e7_row13_col9 {\n",
       "  background-color: #f7aa8c;\n",
       "  color: #000000;\n",
       "}\n",
       "#T_0e0e7_row8_col11, #T_0e0e7_row11_col8 {\n",
       "  background-color: #d6dce4;\n",
       "  color: #000000;\n",
       "}\n",
       "#T_0e0e7_row8_col13, #T_0e0e7_row13_col8 {\n",
       "  background-color: #d8dce2;\n",
       "  color: #000000;\n",
       "}\n",
       "#T_0e0e7_row8_col14, #T_0e0e7_row10_col15, #T_0e0e7_row14_col8, #T_0e0e7_row15_col10 {\n",
       "  background-color: #dbdcde;\n",
       "  color: #000000;\n",
       "}\n",
       "#T_0e0e7_row9_col10, #T_0e0e7_row10_col9 {\n",
       "  background-color: #c73635;\n",
       "  color: #f1f1f1;\n",
       "}\n",
       "#T_0e0e7_row9_col14, #T_0e0e7_row14_col9 {\n",
       "  background-color: #f6bda2;\n",
       "  color: #000000;\n",
       "}\n",
       "#T_0e0e7_row11_col12, #T_0e0e7_row12_col11 {\n",
       "  background-color: #ef886b;\n",
       "  color: #f1f1f1;\n",
       "}\n",
       "#T_0e0e7_row11_col13, #T_0e0e7_row13_col11 {\n",
       "  background-color: #d55042;\n",
       "  color: #f1f1f1;\n",
       "}\n",
       "#T_0e0e7_row11_col14, #T_0e0e7_row14_col11 {\n",
       "  background-color: #bb1b2c;\n",
       "  color: #f1f1f1;\n",
       "}\n",
       "#T_0e0e7_row11_col15, #T_0e0e7_row14_col15, #T_0e0e7_row15_col11, #T_0e0e7_row15_col14 {\n",
       "  background-color: #ead5c9;\n",
       "  color: #000000;\n",
       "}\n",
       "#T_0e0e7_row12_col14, #T_0e0e7_row14_col12 {\n",
       "  background-color: #e36b54;\n",
       "  color: #f1f1f1;\n",
       "}\n",
       "#T_0e0e7_row13_col14, #T_0e0e7_row14_col13 {\n",
       "  background-color: #e0654f;\n",
       "  color: #f1f1f1;\n",
       "}\n",
       "</style>\n",
       "<table id=\"T_0e0e7\">\n",
       "  <thead>\n",
       "    <tr>\n",
       "      <th class=\"blank level0\" >&nbsp;</th>\n",
       "      <th id=\"T_0e0e7_level0_col0\" class=\"col_heading level0 col0\" >pts</th>\n",
       "      <th id=\"T_0e0e7_level0_col1\" class=\"col_heading level0 col1\" >fgm</th>\n",
       "      <th id=\"T_0e0e7_level0_col2\" class=\"col_heading level0 col2\" >fga</th>\n",
       "      <th id=\"T_0e0e7_level0_col3\" class=\"col_heading level0 col3\" >pm3</th>\n",
       "      <th id=\"T_0e0e7_level0_col4\" class=\"col_heading level0 col4\" >pa3</th>\n",
       "      <th id=\"T_0e0e7_level0_col5\" class=\"col_heading level0 col5\" >ftm</th>\n",
       "      <th id=\"T_0e0e7_level0_col6\" class=\"col_heading level0 col6\" >fta</th>\n",
       "      <th id=\"T_0e0e7_level0_col7\" class=\"col_heading level0 col7\" >ast</th>\n",
       "      <th id=\"T_0e0e7_level0_col8\" class=\"col_heading level0 col8\" >ft%</th>\n",
       "      <th id=\"T_0e0e7_level0_col9\" class=\"col_heading level0 col9\" >pm2</th>\n",
       "      <th id=\"T_0e0e7_level0_col10\" class=\"col_heading level0 col10\" >pa2</th>\n",
       "      <th id=\"T_0e0e7_level0_col11\" class=\"col_heading level0 col11\" >fg%</th>\n",
       "      <th id=\"T_0e0e7_level0_col12\" class=\"col_heading level0 col12\" >3p%</th>\n",
       "      <th id=\"T_0e0e7_level0_col13\" class=\"col_heading level0 col13\" >2p%</th>\n",
       "      <th id=\"T_0e0e7_level0_col14\" class=\"col_heading level0 col14\" >eFG%</th>\n",
       "      <th id=\"T_0e0e7_level0_col15\" class=\"col_heading level0 col15\" >win</th>\n",
       "    </tr>\n",
       "  </thead>\n",
       "  <tbody>\n",
       "    <tr>\n",
       "      <th id=\"T_0e0e7_level0_row0\" class=\"row_heading level0 row0\" >pts</th>\n",
       "      <td id=\"T_0e0e7_row0_col0\" class=\"data row0 col0\" >1.00</td>\n",
       "      <td id=\"T_0e0e7_row0_col1\" class=\"data row0 col1\" >0.96</td>\n",
       "      <td id=\"T_0e0e7_row0_col2\" class=\"data row0 col2\" >0.88</td>\n",
       "      <td id=\"T_0e0e7_row0_col3\" class=\"data row0 col3\" >0.60</td>\n",
       "      <td id=\"T_0e0e7_row0_col4\" class=\"data row0 col4\" >0.55</td>\n",
       "      <td id=\"T_0e0e7_row0_col5\" class=\"data row0 col5\" >0.66</td>\n",
       "      <td id=\"T_0e0e7_row0_col6\" class=\"data row0 col6\" >0.65</td>\n",
       "      <td id=\"T_0e0e7_row0_col7\" class=\"data row0 col7\" >0.44</td>\n",
       "      <td id=\"T_0e0e7_row0_col8\" class=\"data row0 col8\" >0.19</td>\n",
       "      <td id=\"T_0e0e7_row0_col9\" class=\"data row0 col9\" >0.82</td>\n",
       "      <td id=\"T_0e0e7_row0_col10\" class=\"data row0 col10\" >0.77</td>\n",
       "      <td id=\"T_0e0e7_row0_col11\" class=\"data row0 col11\" >0.38</td>\n",
       "      <td id=\"T_0e0e7_row0_col12\" class=\"data row0 col12\" >0.31</td>\n",
       "      <td id=\"T_0e0e7_row0_col13\" class=\"data row0 col13\" >0.28</td>\n",
       "      <td id=\"T_0e0e7_row0_col14\" class=\"data row0 col14\" >0.39</td>\n",
       "      <td id=\"T_0e0e7_row0_col15\" class=\"data row0 col15\" >0.06</td>\n",
       "    </tr>\n",
       "    <tr>\n",
       "      <th id=\"T_0e0e7_level0_row1\" class=\"row_heading level0 row1\" >fgm</th>\n",
       "      <td id=\"T_0e0e7_row1_col0\" class=\"data row1 col0\" >0.96</td>\n",
       "      <td id=\"T_0e0e7_row1_col1\" class=\"data row1 col1\" >1.00</td>\n",
       "      <td id=\"T_0e0e7_row1_col2\" class=\"data row1 col2\" >0.88</td>\n",
       "      <td id=\"T_0e0e7_row1_col3\" class=\"data row1 col3\" >0.52</td>\n",
       "      <td id=\"T_0e0e7_row1_col4\" class=\"data row1 col4\" >0.48</td>\n",
       "      <td id=\"T_0e0e7_row1_col5\" class=\"data row1 col5\" >0.47</td>\n",
       "      <td id=\"T_0e0e7_row1_col6\" class=\"data row1 col6\" >0.48</td>\n",
       "      <td id=\"T_0e0e7_row1_col7\" class=\"data row1 col7\" >0.42</td>\n",
       "      <td id=\"T_0e0e7_row1_col8\" class=\"data row1 col8\" >0.08</td>\n",
       "      <td id=\"T_0e0e7_row1_col9\" class=\"data row1 col9\" >0.90</td>\n",
       "      <td id=\"T_0e0e7_row1_col10\" class=\"data row1 col10\" >0.82</td>\n",
       "      <td id=\"T_0e0e7_row1_col11\" class=\"data row1 col11\" >0.44</td>\n",
       "      <td id=\"T_0e0e7_row1_col12\" class=\"data row1 col12\" >0.28</td>\n",
       "      <td id=\"T_0e0e7_row1_col13\" class=\"data row1 col13\" >0.35</td>\n",
       "      <td id=\"T_0e0e7_row1_col14\" class=\"data row1 col14\" >0.42</td>\n",
       "      <td id=\"T_0e0e7_row1_col15\" class=\"data row1 col15\" >0.06</td>\n",
       "    </tr>\n",
       "    <tr>\n",
       "      <th id=\"T_0e0e7_level0_row2\" class=\"row_heading level0 row2\" >fga</th>\n",
       "      <td id=\"T_0e0e7_row2_col0\" class=\"data row2 col0\" >0.88</td>\n",
       "      <td id=\"T_0e0e7_row2_col1\" class=\"data row2 col1\" >0.88</td>\n",
       "      <td id=\"T_0e0e7_row2_col2\" class=\"data row2 col2\" >1.00</td>\n",
       "      <td id=\"T_0e0e7_row2_col3\" class=\"data row2 col3\" >0.49</td>\n",
       "      <td id=\"T_0e0e7_row2_col4\" class=\"data row2 col4\" >0.62</td>\n",
       "      <td id=\"T_0e0e7_row2_col5\" class=\"data row2 col5\" >0.51</td>\n",
       "      <td id=\"T_0e0e7_row2_col6\" class=\"data row2 col6\" >0.51</td>\n",
       "      <td id=\"T_0e0e7_row2_col7\" class=\"data row2 col7\" >0.49</td>\n",
       "      <td id=\"T_0e0e7_row2_col8\" class=\"data row2 col8\" >0.13</td>\n",
       "      <td id=\"T_0e0e7_row2_col9\" class=\"data row2 col9\" >0.78</td>\n",
       "      <td id=\"T_0e0e7_row2_col10\" class=\"data row2 col10\" >0.88</td>\n",
       "      <td id=\"T_0e0e7_row2_col11\" class=\"data row2 col11\" >0.09</td>\n",
       "      <td id=\"T_0e0e7_row2_col12\" class=\"data row2 col12\" >0.07</td>\n",
       "      <td id=\"T_0e0e7_row2_col13\" class=\"data row2 col13\" >0.05</td>\n",
       "      <td id=\"T_0e0e7_row2_col14\" class=\"data row2 col14\" >0.09</td>\n",
       "      <td id=\"T_0e0e7_row2_col15\" class=\"data row2 col15\" >-0.01</td>\n",
       "    </tr>\n",
       "    <tr>\n",
       "      <th id=\"T_0e0e7_level0_row3\" class=\"row_heading level0 row3\" >pm3</th>\n",
       "      <td id=\"T_0e0e7_row3_col0\" class=\"data row3 col0\" >0.60</td>\n",
       "      <td id=\"T_0e0e7_row3_col1\" class=\"data row3 col1\" >0.52</td>\n",
       "      <td id=\"T_0e0e7_row3_col2\" class=\"data row3 col2\" >0.49</td>\n",
       "      <td id=\"T_0e0e7_row3_col3\" class=\"data row3 col3\" >1.00</td>\n",
       "      <td id=\"T_0e0e7_row3_col4\" class=\"data row3 col4\" >0.82</td>\n",
       "      <td id=\"T_0e0e7_row3_col5\" class=\"data row3 col5\" >0.18</td>\n",
       "      <td id=\"T_0e0e7_row3_col6\" class=\"data row3 col6\" >0.15</td>\n",
       "      <td id=\"T_0e0e7_row3_col7\" class=\"data row3 col7\" >0.26</td>\n",
       "      <td id=\"T_0e0e7_row3_col8\" class=\"data row3 col8\" >0.13</td>\n",
       "      <td id=\"T_0e0e7_row3_col9\" class=\"data row3 col9\" >0.10</td>\n",
       "      <td id=\"T_0e0e7_row3_col10\" class=\"data row3 col10\" >0.12</td>\n",
       "      <td id=\"T_0e0e7_row3_col11\" class=\"data row3 col11\" >0.18</td>\n",
       "      <td id=\"T_0e0e7_row3_col12\" class=\"data row3 col12\" >0.61</td>\n",
       "      <td id=\"T_0e0e7_row3_col13\" class=\"data row3 col13\" >-0.00</td>\n",
       "      <td id=\"T_0e0e7_row3_col14\" class=\"data row3 col14\" >0.36</td>\n",
       "      <td id=\"T_0e0e7_row3_col15\" class=\"data row3 col15\" >0.06</td>\n",
       "    </tr>\n",
       "    <tr>\n",
       "      <th id=\"T_0e0e7_level0_row4\" class=\"row_heading level0 row4\" >pa3</th>\n",
       "      <td id=\"T_0e0e7_row4_col0\" class=\"data row4 col0\" >0.55</td>\n",
       "      <td id=\"T_0e0e7_row4_col1\" class=\"data row4 col1\" >0.48</td>\n",
       "      <td id=\"T_0e0e7_row4_col2\" class=\"data row4 col2\" >0.62</td>\n",
       "      <td id=\"T_0e0e7_row4_col3\" class=\"data row4 col3\" >0.82</td>\n",
       "      <td id=\"T_0e0e7_row4_col4\" class=\"data row4 col4\" >1.00</td>\n",
       "      <td id=\"T_0e0e7_row4_col5\" class=\"data row4 col5\" >0.24</td>\n",
       "      <td id=\"T_0e0e7_row4_col6\" class=\"data row4 col6\" >0.20</td>\n",
       "      <td id=\"T_0e0e7_row4_col7\" class=\"data row4 col7\" >0.33</td>\n",
       "      <td id=\"T_0e0e7_row4_col8\" class=\"data row4 col8\" >0.16</td>\n",
       "      <td id=\"T_0e0e7_row4_col9\" class=\"data row4 col9\" >0.14</td>\n",
       "      <td id=\"T_0e0e7_row4_col10\" class=\"data row4 col10\" >0.17</td>\n",
       "      <td id=\"T_0e0e7_row4_col11\" class=\"data row4 col11\" >-0.06</td>\n",
       "      <td id=\"T_0e0e7_row4_col12\" class=\"data row4 col12\" >0.15</td>\n",
       "      <td id=\"T_0e0e7_row4_col13\" class=\"data row4 col13\" >0.00</td>\n",
       "      <td id=\"T_0e0e7_row4_col14\" class=\"data row4 col14\" >0.09</td>\n",
       "      <td id=\"T_0e0e7_row4_col15\" class=\"data row4 col15\" >0.00</td>\n",
       "    </tr>\n",
       "    <tr>\n",
       "      <th id=\"T_0e0e7_level0_row5\" class=\"row_heading level0 row5\" >ftm</th>\n",
       "      <td id=\"T_0e0e7_row5_col0\" class=\"data row5 col0\" >0.66</td>\n",
       "      <td id=\"T_0e0e7_row5_col1\" class=\"data row5 col1\" >0.47</td>\n",
       "      <td id=\"T_0e0e7_row5_col2\" class=\"data row5 col2\" >0.51</td>\n",
       "      <td id=\"T_0e0e7_row5_col3\" class=\"data row5 col3\" >0.18</td>\n",
       "      <td id=\"T_0e0e7_row5_col4\" class=\"data row5 col4\" >0.24</td>\n",
       "      <td id=\"T_0e0e7_row5_col5\" class=\"data row5 col5\" >1.00</td>\n",
       "      <td id=\"T_0e0e7_row5_col6\" class=\"data row5 col6\" >0.95</td>\n",
       "      <td id=\"T_0e0e7_row5_col7\" class=\"data row5 col7\" >0.33</td>\n",
       "      <td id=\"T_0e0e7_row5_col8\" class=\"data row5 col8\" >0.37</td>\n",
       "      <td id=\"T_0e0e7_row5_col9\" class=\"data row5 col9\" >0.45</td>\n",
       "      <td id=\"T_0e0e7_row5_col10\" class=\"data row5 col10\" >0.49</td>\n",
       "      <td id=\"T_0e0e7_row5_col11\" class=\"data row5 col11\" >0.08</td>\n",
       "      <td id=\"T_0e0e7_row5_col12\" class=\"data row5 col12\" >0.02</td>\n",
       "      <td id=\"T_0e0e7_row5_col13\" class=\"data row5 col13\" >0.06</td>\n",
       "      <td id=\"T_0e0e7_row5_col14\" class=\"data row5 col14\" >0.06</td>\n",
       "      <td id=\"T_0e0e7_row5_col15\" class=\"data row5 col15\" >0.03</td>\n",
       "    </tr>\n",
       "    <tr>\n",
       "      <th id=\"T_0e0e7_level0_row6\" class=\"row_heading level0 row6\" >fta</th>\n",
       "      <td id=\"T_0e0e7_row6_col0\" class=\"data row6 col0\" >0.65</td>\n",
       "      <td id=\"T_0e0e7_row6_col1\" class=\"data row6 col1\" >0.48</td>\n",
       "      <td id=\"T_0e0e7_row6_col2\" class=\"data row6 col2\" >0.51</td>\n",
       "      <td id=\"T_0e0e7_row6_col3\" class=\"data row6 col3\" >0.15</td>\n",
       "      <td id=\"T_0e0e7_row6_col4\" class=\"data row6 col4\" >0.20</td>\n",
       "      <td id=\"T_0e0e7_row6_col5\" class=\"data row6 col5\" >0.95</td>\n",
       "      <td id=\"T_0e0e7_row6_col6\" class=\"data row6 col6\" >1.00</td>\n",
       "      <td id=\"T_0e0e7_row6_col7\" class=\"data row6 col7\" >0.32</td>\n",
       "      <td id=\"T_0e0e7_row6_col8\" class=\"data row6 col8\" >0.06</td>\n",
       "      <td id=\"T_0e0e7_row6_col9\" class=\"data row6 col9\" >0.48</td>\n",
       "      <td id=\"T_0e0e7_row6_col10\" class=\"data row6 col10\" >0.51</td>\n",
       "      <td id=\"T_0e0e7_row6_col11\" class=\"data row6 col11\" >0.10</td>\n",
       "      <td id=\"T_0e0e7_row6_col12\" class=\"data row6 col12\" >0.01</td>\n",
       "      <td id=\"T_0e0e7_row6_col13\" class=\"data row6 col13\" >0.07</td>\n",
       "      <td id=\"T_0e0e7_row6_col14\" class=\"data row6 col14\" >0.07</td>\n",
       "      <td id=\"T_0e0e7_row6_col15\" class=\"data row6 col15\" >0.03</td>\n",
       "    </tr>\n",
       "    <tr>\n",
       "      <th id=\"T_0e0e7_level0_row7\" class=\"row_heading level0 row7\" >ast</th>\n",
       "      <td id=\"T_0e0e7_row7_col0\" class=\"data row7 col0\" >0.44</td>\n",
       "      <td id=\"T_0e0e7_row7_col1\" class=\"data row7 col1\" >0.42</td>\n",
       "      <td id=\"T_0e0e7_row7_col2\" class=\"data row7 col2\" >0.49</td>\n",
       "      <td id=\"T_0e0e7_row7_col3\" class=\"data row7 col3\" >0.26</td>\n",
       "      <td id=\"T_0e0e7_row7_col4\" class=\"data row7 col4\" >0.33</td>\n",
       "      <td id=\"T_0e0e7_row7_col5\" class=\"data row7 col5\" >0.33</td>\n",
       "      <td id=\"T_0e0e7_row7_col6\" class=\"data row7 col6\" >0.32</td>\n",
       "      <td id=\"T_0e0e7_row7_col7\" class=\"data row7 col7\" >1.00</td>\n",
       "      <td id=\"T_0e0e7_row7_col8\" class=\"data row7 col8\" >0.09</td>\n",
       "      <td id=\"T_0e0e7_row7_col9\" class=\"data row7 col9\" >0.35</td>\n",
       "      <td id=\"T_0e0e7_row7_col10\" class=\"data row7 col10\" >0.41</td>\n",
       "      <td id=\"T_0e0e7_row7_col11\" class=\"data row7 col11\" >0.03</td>\n",
       "      <td id=\"T_0e0e7_row7_col12\" class=\"data row7 col12\" >0.03</td>\n",
       "      <td id=\"T_0e0e7_row7_col13\" class=\"data row7 col13\" >0.01</td>\n",
       "      <td id=\"T_0e0e7_row7_col14\" class=\"data row7 col14\" >0.03</td>\n",
       "      <td id=\"T_0e0e7_row7_col15\" class=\"data row7 col15\" >0.06</td>\n",
       "    </tr>\n",
       "    <tr>\n",
       "      <th id=\"T_0e0e7_level0_row8\" class=\"row_heading level0 row8\" >ft%</th>\n",
       "      <td id=\"T_0e0e7_row8_col0\" class=\"data row8 col0\" >0.19</td>\n",
       "      <td id=\"T_0e0e7_row8_col1\" class=\"data row8 col1\" >0.08</td>\n",
       "      <td id=\"T_0e0e7_row8_col2\" class=\"data row8 col2\" >0.13</td>\n",
       "      <td id=\"T_0e0e7_row8_col3\" class=\"data row8 col3\" >0.13</td>\n",
       "      <td id=\"T_0e0e7_row8_col4\" class=\"data row8 col4\" >0.16</td>\n",
       "      <td id=\"T_0e0e7_row8_col5\" class=\"data row8 col5\" >0.37</td>\n",
       "      <td id=\"T_0e0e7_row8_col6\" class=\"data row8 col6\" >0.06</td>\n",
       "      <td id=\"T_0e0e7_row8_col7\" class=\"data row8 col7\" >0.09</td>\n",
       "      <td id=\"T_0e0e7_row8_col8\" class=\"data row8 col8\" >1.00</td>\n",
       "      <td id=\"T_0e0e7_row8_col9\" class=\"data row8 col9\" >0.03</td>\n",
       "      <td id=\"T_0e0e7_row8_col10\" class=\"data row8 col10\" >0.05</td>\n",
       "      <td id=\"T_0e0e7_row8_col11\" class=\"data row8 col11\" >-0.05</td>\n",
       "      <td id=\"T_0e0e7_row8_col12\" class=\"data row8 col12\" >0.03</td>\n",
       "      <td id=\"T_0e0e7_row8_col13\" class=\"data row8 col13\" >-0.03</td>\n",
       "      <td id=\"T_0e0e7_row8_col14\" class=\"data row8 col14\" >-0.01</td>\n",
       "      <td id=\"T_0e0e7_row8_col15\" class=\"data row8 col15\" >0.04</td>\n",
       "    </tr>\n",
       "    <tr>\n",
       "      <th id=\"T_0e0e7_level0_row9\" class=\"row_heading level0 row9\" >pm2</th>\n",
       "      <td id=\"T_0e0e7_row9_col0\" class=\"data row9 col0\" >0.82</td>\n",
       "      <td id=\"T_0e0e7_row9_col1\" class=\"data row9 col1\" >0.90</td>\n",
       "      <td id=\"T_0e0e7_row9_col2\" class=\"data row9 col2\" >0.78</td>\n",
       "      <td id=\"T_0e0e7_row9_col3\" class=\"data row9 col3\" >0.10</td>\n",
       "      <td id=\"T_0e0e7_row9_col4\" class=\"data row9 col4\" >0.14</td>\n",
       "      <td id=\"T_0e0e7_row9_col5\" class=\"data row9 col5\" >0.45</td>\n",
       "      <td id=\"T_0e0e7_row9_col6\" class=\"data row9 col6\" >0.48</td>\n",
       "      <td id=\"T_0e0e7_row9_col7\" class=\"data row9 col7\" >0.35</td>\n",
       "      <td id=\"T_0e0e7_row9_col8\" class=\"data row9 col8\" >0.03</td>\n",
       "      <td id=\"T_0e0e7_row9_col9\" class=\"data row9 col9\" >1.00</td>\n",
       "      <td id=\"T_0e0e7_row9_col10\" class=\"data row9 col10\" >0.89</td>\n",
       "      <td id=\"T_0e0e7_row9_col11\" class=\"data row9 col11\" >0.41</td>\n",
       "      <td id=\"T_0e0e7_row9_col12\" class=\"data row9 col12\" >-0.00</td>\n",
       "      <td id=\"T_0e0e7_row9_col13\" class=\"data row9 col13\" >0.41</td>\n",
       "      <td id=\"T_0e0e7_row9_col14\" class=\"data row9 col14\" >0.30</td>\n",
       "      <td id=\"T_0e0e7_row9_col15\" class=\"data row9 col15\" >0.04</td>\n",
       "    </tr>\n",
       "    <tr>\n",
       "      <th id=\"T_0e0e7_level0_row10\" class=\"row_heading level0 row10\" >pa2</th>\n",
       "      <td id=\"T_0e0e7_row10_col0\" class=\"data row10 col0\" >0.77</td>\n",
       "      <td id=\"T_0e0e7_row10_col1\" class=\"data row10 col1\" >0.82</td>\n",
       "      <td id=\"T_0e0e7_row10_col2\" class=\"data row10 col2\" >0.88</td>\n",
       "      <td id=\"T_0e0e7_row10_col3\" class=\"data row10 col3\" >0.12</td>\n",
       "      <td id=\"T_0e0e7_row10_col4\" class=\"data row10 col4\" >0.17</td>\n",
       "      <td id=\"T_0e0e7_row10_col5\" class=\"data row10 col5\" >0.49</td>\n",
       "      <td id=\"T_0e0e7_row10_col6\" class=\"data row10 col6\" >0.51</td>\n",
       "      <td id=\"T_0e0e7_row10_col7\" class=\"data row10 col7\" >0.41</td>\n",
       "      <td id=\"T_0e0e7_row10_col8\" class=\"data row10 col8\" >0.05</td>\n",
       "      <td id=\"T_0e0e7_row10_col9\" class=\"data row10 col9\" >0.89</td>\n",
       "      <td id=\"T_0e0e7_row10_col10\" class=\"data row10 col10\" >1.00</td>\n",
       "      <td id=\"T_0e0e7_row10_col11\" class=\"data row10 col11\" >0.14</td>\n",
       "      <td id=\"T_0e0e7_row10_col12\" class=\"data row10 col12\" >0.00</td>\n",
       "      <td id=\"T_0e0e7_row10_col13\" class=\"data row10 col13\" >0.06</td>\n",
       "      <td id=\"T_0e0e7_row10_col14\" class=\"data row10 col14\" >0.06</td>\n",
       "      <td id=\"T_0e0e7_row10_col15\" class=\"data row10 col15\" >-0.01</td>\n",
       "    </tr>\n",
       "    <tr>\n",
       "      <th id=\"T_0e0e7_level0_row11\" class=\"row_heading level0 row11\" >fg%</th>\n",
       "      <td id=\"T_0e0e7_row11_col0\" class=\"data row11 col0\" >0.38</td>\n",
       "      <td id=\"T_0e0e7_row11_col1\" class=\"data row11 col1\" >0.44</td>\n",
       "      <td id=\"T_0e0e7_row11_col2\" class=\"data row11 col2\" >0.09</td>\n",
       "      <td id=\"T_0e0e7_row11_col3\" class=\"data row11 col3\" >0.18</td>\n",
       "      <td id=\"T_0e0e7_row11_col4\" class=\"data row11 col4\" >-0.06</td>\n",
       "      <td id=\"T_0e0e7_row11_col5\" class=\"data row11 col5\" >0.08</td>\n",
       "      <td id=\"T_0e0e7_row11_col6\" class=\"data row11 col6\" >0.10</td>\n",
       "      <td id=\"T_0e0e7_row11_col7\" class=\"data row11 col7\" >0.03</td>\n",
       "      <td id=\"T_0e0e7_row11_col8\" class=\"data row11 col8\" >-0.05</td>\n",
       "      <td id=\"T_0e0e7_row11_col9\" class=\"data row11 col9\" >0.41</td>\n",
       "      <td id=\"T_0e0e7_row11_col10\" class=\"data row11 col10\" >0.14</td>\n",
       "      <td id=\"T_0e0e7_row11_col11\" class=\"data row11 col11\" >1.00</td>\n",
       "      <td id=\"T_0e0e7_row11_col12\" class=\"data row11 col12\" >0.58</td>\n",
       "      <td id=\"T_0e0e7_row11_col13\" class=\"data row11 col13\" >0.81</td>\n",
       "      <td id=\"T_0e0e7_row11_col14\" class=\"data row11 col14\" >0.96</td>\n",
       "      <td id=\"T_0e0e7_row11_col15\" class=\"data row11 col15\" >0.10</td>\n",
       "    </tr>\n",
       "    <tr>\n",
       "      <th id=\"T_0e0e7_level0_row12\" class=\"row_heading level0 row12\" >3p%</th>\n",
       "      <td id=\"T_0e0e7_row12_col0\" class=\"data row12 col0\" >0.31</td>\n",
       "      <td id=\"T_0e0e7_row12_col1\" class=\"data row12 col1\" >0.28</td>\n",
       "      <td id=\"T_0e0e7_row12_col2\" class=\"data row12 col2\" >0.07</td>\n",
       "      <td id=\"T_0e0e7_row12_col3\" class=\"data row12 col3\" >0.61</td>\n",
       "      <td id=\"T_0e0e7_row12_col4\" class=\"data row12 col4\" >0.15</td>\n",
       "      <td id=\"T_0e0e7_row12_col5\" class=\"data row12 col5\" >0.02</td>\n",
       "      <td id=\"T_0e0e7_row12_col6\" class=\"data row12 col6\" >0.01</td>\n",
       "      <td id=\"T_0e0e7_row12_col7\" class=\"data row12 col7\" >0.03</td>\n",
       "      <td id=\"T_0e0e7_row12_col8\" class=\"data row12 col8\" >0.03</td>\n",
       "      <td id=\"T_0e0e7_row12_col9\" class=\"data row12 col9\" >-0.00</td>\n",
       "      <td id=\"T_0e0e7_row12_col10\" class=\"data row12 col10\" >0.00</td>\n",
       "      <td id=\"T_0e0e7_row12_col11\" class=\"data row12 col11\" >0.58</td>\n",
       "      <td id=\"T_0e0e7_row12_col12\" class=\"data row12 col12\" >1.00</td>\n",
       "      <td id=\"T_0e0e7_row12_col13\" class=\"data row12 col13\" >-0.00</td>\n",
       "      <td id=\"T_0e0e7_row12_col14\" class=\"data row12 col14\" >0.71</td>\n",
       "      <td id=\"T_0e0e7_row12_col15\" class=\"data row12 col15\" >0.10</td>\n",
       "    </tr>\n",
       "    <tr>\n",
       "      <th id=\"T_0e0e7_level0_row13\" class=\"row_heading level0 row13\" >2p%</th>\n",
       "      <td id=\"T_0e0e7_row13_col0\" class=\"data row13 col0\" >0.28</td>\n",
       "      <td id=\"T_0e0e7_row13_col1\" class=\"data row13 col1\" >0.35</td>\n",
       "      <td id=\"T_0e0e7_row13_col2\" class=\"data row13 col2\" >0.05</td>\n",
       "      <td id=\"T_0e0e7_row13_col3\" class=\"data row13 col3\" >-0.00</td>\n",
       "      <td id=\"T_0e0e7_row13_col4\" class=\"data row13 col4\" >0.00</td>\n",
       "      <td id=\"T_0e0e7_row13_col5\" class=\"data row13 col5\" >0.06</td>\n",
       "      <td id=\"T_0e0e7_row13_col6\" class=\"data row13 col6\" >0.07</td>\n",
       "      <td id=\"T_0e0e7_row13_col7\" class=\"data row13 col7\" >0.01</td>\n",
       "      <td id=\"T_0e0e7_row13_col8\" class=\"data row13 col8\" >-0.03</td>\n",
       "      <td id=\"T_0e0e7_row13_col9\" class=\"data row13 col9\" >0.41</td>\n",
       "      <td id=\"T_0e0e7_row13_col10\" class=\"data row13 col10\" >0.06</td>\n",
       "      <td id=\"T_0e0e7_row13_col11\" class=\"data row13 col11\" >0.81</td>\n",
       "      <td id=\"T_0e0e7_row13_col12\" class=\"data row13 col12\" >-0.00</td>\n",
       "      <td id=\"T_0e0e7_row13_col13\" class=\"data row13 col13\" >1.00</td>\n",
       "      <td id=\"T_0e0e7_row13_col14\" class=\"data row13 col14\" >0.73</td>\n",
       "      <td id=\"T_0e0e7_row13_col15\" class=\"data row13 col15\" >0.08</td>\n",
       "    </tr>\n",
       "    <tr>\n",
       "      <th id=\"T_0e0e7_level0_row14\" class=\"row_heading level0 row14\" >eFG%</th>\n",
       "      <td id=\"T_0e0e7_row14_col0\" class=\"data row14 col0\" >0.39</td>\n",
       "      <td id=\"T_0e0e7_row14_col1\" class=\"data row14 col1\" >0.42</td>\n",
       "      <td id=\"T_0e0e7_row14_col2\" class=\"data row14 col2\" >0.09</td>\n",
       "      <td id=\"T_0e0e7_row14_col3\" class=\"data row14 col3\" >0.36</td>\n",
       "      <td id=\"T_0e0e7_row14_col4\" class=\"data row14 col4\" >0.09</td>\n",
       "      <td id=\"T_0e0e7_row14_col5\" class=\"data row14 col5\" >0.06</td>\n",
       "      <td id=\"T_0e0e7_row14_col6\" class=\"data row14 col6\" >0.07</td>\n",
       "      <td id=\"T_0e0e7_row14_col7\" class=\"data row14 col7\" >0.03</td>\n",
       "      <td id=\"T_0e0e7_row14_col8\" class=\"data row14 col8\" >-0.01</td>\n",
       "      <td id=\"T_0e0e7_row14_col9\" class=\"data row14 col9\" >0.30</td>\n",
       "      <td id=\"T_0e0e7_row14_col10\" class=\"data row14 col10\" >0.06</td>\n",
       "      <td id=\"T_0e0e7_row14_col11\" class=\"data row14 col11\" >0.96</td>\n",
       "      <td id=\"T_0e0e7_row14_col12\" class=\"data row14 col12\" >0.71</td>\n",
       "      <td id=\"T_0e0e7_row14_col13\" class=\"data row14 col13\" >0.73</td>\n",
       "      <td id=\"T_0e0e7_row14_col14\" class=\"data row14 col14\" >1.00</td>\n",
       "      <td id=\"T_0e0e7_row14_col15\" class=\"data row14 col15\" >0.11</td>\n",
       "    </tr>\n",
       "    <tr>\n",
       "      <th id=\"T_0e0e7_level0_row15\" class=\"row_heading level0 row15\" >win</th>\n",
       "      <td id=\"T_0e0e7_row15_col0\" class=\"data row15 col0\" >0.06</td>\n",
       "      <td id=\"T_0e0e7_row15_col1\" class=\"data row15 col1\" >0.06</td>\n",
       "      <td id=\"T_0e0e7_row15_col2\" class=\"data row15 col2\" >-0.01</td>\n",
       "      <td id=\"T_0e0e7_row15_col3\" class=\"data row15 col3\" >0.06</td>\n",
       "      <td id=\"T_0e0e7_row15_col4\" class=\"data row15 col4\" >0.00</td>\n",
       "      <td id=\"T_0e0e7_row15_col5\" class=\"data row15 col5\" >0.03</td>\n",
       "      <td id=\"T_0e0e7_row15_col6\" class=\"data row15 col6\" >0.03</td>\n",
       "      <td id=\"T_0e0e7_row15_col7\" class=\"data row15 col7\" >0.06</td>\n",
       "      <td id=\"T_0e0e7_row15_col8\" class=\"data row15 col8\" >0.04</td>\n",
       "      <td id=\"T_0e0e7_row15_col9\" class=\"data row15 col9\" >0.04</td>\n",
       "      <td id=\"T_0e0e7_row15_col10\" class=\"data row15 col10\" >-0.01</td>\n",
       "      <td id=\"T_0e0e7_row15_col11\" class=\"data row15 col11\" >0.10</td>\n",
       "      <td id=\"T_0e0e7_row15_col12\" class=\"data row15 col12\" >0.10</td>\n",
       "      <td id=\"T_0e0e7_row15_col13\" class=\"data row15 col13\" >0.08</td>\n",
       "      <td id=\"T_0e0e7_row15_col14\" class=\"data row15 col14\" >0.11</td>\n",
       "      <td id=\"T_0e0e7_row15_col15\" class=\"data row15 col15\" >1.00</td>\n",
       "    </tr>\n",
       "  </tbody>\n",
       "</table>\n"
      ],
      "text/plain": [
       "<pandas.io.formats.style.Styler at 0x7f63eaf6a0>"
      ]
     },
     "execution_count": 35,
     "metadata": {},
     "output_type": "execute_result"
    }
   ],
   "source": [
    "precision = 2\n",
    "cmap = 'coolwarm'\n",
    "\n",
    "to_plot.corr().style.background_gradient(cmap=cmap,vmin=-1,vmax=1).format(precision=precision)"
   ]
  },
  {
   "cell_type": "markdown",
   "metadata": {},
   "source": [
    "#### There are a number of correlated variables.\n",
    "\n",
    "- Points and field goals are the obvious correlated variables given that points are a linear combination of field goals and free throws and most points are obtained through field goals\n",
    "- There is also a high correlation between 2 point shots and field goals\n",
    "    - This is plausible because most players contribute points through 2 point shots\n",
    "- Free throw attempts and made free throws also have a high correlation\n",
    "    - Players tend to make a lot of their free throws with the first quartile of scoring performances having a 50% free throw percentage\n",
    "\n",
    "Dimensionality reduction can collapse these correlated dimensions to improve clustering.\n",
    "<!-- \n",
    "import matplotlib.pyplot as plt\n",
    "# % matplotlib inline\n",
    "to_plot.hist(bins = 100,figsize=(30,15),grid=False)\n",
    "plt.show() -->"
   ]
  },
  {
   "cell_type": "code",
   "execution_count": null,
   "metadata": {},
   "outputs": [],
   "source": []
  },
  {
   "cell_type": "markdown",
   "metadata": {},
   "source": [
    "## Preprocessing"
   ]
  },
  {
   "cell_type": "code",
   "execution_count": null,
   "metadata": {},
   "outputs": [],
   "source": []
  },
  {
   "cell_type": "markdown",
   "metadata": {},
   "source": [
    "It is possible that there will be null values as a result of zero division (not attempting to shoot). Effectively, if a player does not attempt a shot, their percentage is 0.\n",
    "\n",
    "The percentages should be used together with the attempts to distinguish between players who attempted but did not make a shot and others who did not attempt at all."
   ]
  },
  {
   "cell_type": "code",
   "execution_count": 9,
   "metadata": {},
   "outputs": [],
   "source": [
    "percentage_cols = [i for i in scoring_df.columns if '%' in i]\n",
    "scoring_df = scoring_df.fillna(0,percentage_cols)"
   ]
  },
  {
   "cell_type": "markdown",
   "metadata": {},
   "source": [
    "The effective field goal column currently has values in the range [0,1.5] as a result of the extra weight three point shots are awarded. Let's clip values to the range [0,1]"
   ]
  },
  {
   "cell_type": "code",
   "execution_count": 13,
   "metadata": {},
   "outputs": [],
   "source": [
    "# scoring_df = scoring_df.withColumn('eFG%', F.when(scoring_df['eFG%']>1,1))"
   ]
  },
  {
   "cell_type": "markdown",
   "metadata": {},
   "source": [
    "All columns will be scaled to range [0,1]. Percentage columns already follow this. This will prove useful for any clustering measures because feature vectors will be unit vectors and prevents distance functions from becoming intractible.\n",
    "\n",
    "Having features on similar scales also prevents models and dimensionality reduction models from putting undue weight on features with larger scales."
   ]
  },
  {
   "cell_type": "code",
   "execution_count": 10,
   "metadata": {},
   "outputs": [],
   "source": [
    "features = scoring_df.columns[4:-1]\n",
    "to_scale = [i for i in features if ('%' not in i) and (i != 'eFG%')]\n",
    "keep = [i for i in features if i not in to_scale]"
   ]
  },
  {
   "cell_type": "markdown",
   "metadata": {},
   "source": [
    "Transformation stage"
   ]
  },
  {
   "cell_type": "code",
   "execution_count": 11,
   "metadata": {},
   "outputs": [],
   "source": [
    "from pyspark.ml.feature import MinMaxScaler, VectorAssembler\n",
    "\n",
    "scale_assembler = VectorAssembler(inputCols=to_scale,outputCol='to_scale_features')\n",
    "scoring_df = scale_assembler.transform(scoring_df)\n",
    "\n",
    "keep_assembler = VectorAssembler(inputCols=keep,outputCol='unscaled_features')\n",
    "scoring_df = keep_assembler.transform(scoring_df)"
   ]
  },
  {
   "cell_type": "code",
   "execution_count": 12,
   "metadata": {},
   "outputs": [
    {
     "name": "stderr",
     "output_type": "stream",
     "text": [
      "                                                                                \r"
     ]
    }
   ],
   "source": [
    "mm_scaler = MinMaxScaler(inputCol= 'to_scale_features', outputCol='scaled_features')\n",
    "scaler = mm_scaler.fit(scoring_df)\n",
    "\n",
    "scoring_df = scaler.transform(scoring_df)"
   ]
  },
  {
   "cell_type": "code",
   "execution_count": 13,
   "metadata": {},
   "outputs": [],
   "source": [
    "assembler = VectorAssembler(inputCols=['scaled_features','unscaled_features'],outputCol = 'features')\n",
    "\n",
    "scoring_df = assembler.transform(scoring_df)"
   ]
  },
  {
   "cell_type": "markdown",
   "metadata": {},
   "source": [
    "Let's use PCA to perform dimensionality reduction and examine which number of components explain a reasonable amount of the variance.\n",
    "\n",
    "There are 14 features at the moment. Let's try reducing to 10 principal components."
   ]
  },
  {
   "cell_type": "code",
   "execution_count": 15,
   "metadata": {},
   "outputs": [
    {
     "data": {
      "text/plain": [
       "14"
      ]
     },
     "execution_count": 15,
     "metadata": {},
     "output_type": "execute_result"
    }
   ],
   "source": [
    "len(features)"
   ]
  },
  {
   "cell_type": "code",
   "execution_count": 16,
   "metadata": {},
   "outputs": [
    {
     "name": "stderr",
     "output_type": "stream",
     "text": [
      "22/08/11 17:30:07 WARN LAPACK: Failed to load implementation from: com.github.fommil.netlib.NativeSystemLAPACK\n",
      "22/08/11 17:30:07 WARN LAPACK: Failed to load implementation from: com.github.fommil.netlib.NativeRefLAPACK\n"
     ]
    }
   ],
   "source": [
    "from pyspark.ml.feature import PCA\n",
    "\n",
    "pca = PCA(k=10,inputCol='features', outputCol='pc')\n",
    "pca_model = pca.fit(scoring_df)"
   ]
  },
  {
   "cell_type": "code",
   "execution_count": 17,
   "metadata": {},
   "outputs": [],
   "source": [
    "scoring_df = pca_model.transform(scoring_df)"
   ]
  },
  {
   "cell_type": "markdown",
   "metadata": {},
   "source": [
    "Lets examine the explained variance and make a decision on how many components are sufficient for our purposes. This means that we will make a cutoff where there are no longer any useful incremental gains in explained variance."
   ]
  },
  {
   "cell_type": "code",
   "execution_count": 18,
   "metadata": {},
   "outputs": [
    {
     "data": {
      "text/html": [
       "<div>\n",
       "<style scoped>\n",
       "    .dataframe tbody tr th:only-of-type {\n",
       "        vertical-align: middle;\n",
       "    }\n",
       "\n",
       "    .dataframe tbody tr th {\n",
       "        vertical-align: top;\n",
       "    }\n",
       "\n",
       "    .dataframe thead th {\n",
       "        text-align: right;\n",
       "    }\n",
       "</style>\n",
       "<table border=\"1\" class=\"dataframe\">\n",
       "  <thead>\n",
       "    <tr style=\"text-align: right;\">\n",
       "      <th></th>\n",
       "      <th>exp_var</th>\n",
       "    </tr>\n",
       "  </thead>\n",
       "  <tbody>\n",
       "    <tr>\n",
       "      <th>1</th>\n",
       "      <td>43.122023</td>\n",
       "    </tr>\n",
       "    <tr>\n",
       "      <th>2</th>\n",
       "      <td>24.257775</td>\n",
       "    </tr>\n",
       "    <tr>\n",
       "      <th>3</th>\n",
       "      <td>16.931609</td>\n",
       "    </tr>\n",
       "    <tr>\n",
       "      <th>4</th>\n",
       "      <td>8.005172</td>\n",
       "    </tr>\n",
       "    <tr>\n",
       "      <th>5</th>\n",
       "      <td>3.089748</td>\n",
       "    </tr>\n",
       "    <tr>\n",
       "      <th>6</th>\n",
       "      <td>1.520481</td>\n",
       "    </tr>\n",
       "    <tr>\n",
       "      <th>7</th>\n",
       "      <td>1.364458</td>\n",
       "    </tr>\n",
       "    <tr>\n",
       "      <th>8</th>\n",
       "      <td>1.068722</td>\n",
       "    </tr>\n",
       "    <tr>\n",
       "      <th>9</th>\n",
       "      <td>0.398376</td>\n",
       "    </tr>\n",
       "    <tr>\n",
       "      <th>10</th>\n",
       "      <td>0.192331</td>\n",
       "    </tr>\n",
       "  </tbody>\n",
       "</table>\n",
       "</div>"
      ],
      "text/plain": [
       "      exp_var\n",
       "1   43.122023\n",
       "2   24.257775\n",
       "3   16.931609\n",
       "4    8.005172\n",
       "5    3.089748\n",
       "6    1.520481\n",
       "7    1.364458\n",
       "8    1.068722\n",
       "9    0.398376\n",
       "10   0.192331"
      ]
     },
     "execution_count": 18,
     "metadata": {},
     "output_type": "execute_result"
    }
   ],
   "source": [
    "import pandas as pd\n",
    "\n",
    "explained_variance = pd.DataFrame([0]+list(100*pca_model.explainedVariance),columns = ['exp_var'])\n",
    "explained_variance.iloc[1:,] # show the explained variance in order"
   ]
  },
  {
   "cell_type": "code",
   "execution_count": 19,
   "metadata": {},
   "outputs": [],
   "source": [
    "explained_variance['cumulative_var_exp'] = explained_variance['exp_var'].cumsum(0)"
   ]
  },
  {
   "cell_type": "code",
   "execution_count": 20,
   "metadata": {},
   "outputs": [
    {
     "data": {
      "text/plain": [
       "<AxesSubplot:xlabel='Number of components', ylabel='Explained variance / %'>"
      ]
     },
     "execution_count": 20,
     "metadata": {},
     "output_type": "execute_result"
    },
    {
     "data": {
      "image/png": "[encoded data removed]",
      "text/plain": [
       "<Figure size 432x288 with 1 Axes>"
      ]
     },
     "metadata": {
      "needs_background": "light"
     },
     "output_type": "display_data"
    }
   ],
   "source": [
    "explained_variance.plot(kind='line',y = 'cumulative_var_exp',\n",
    "xlabel='Number of components',ylabel='Explained variance / %',\n",
    "legend=False,xticks=range(0,11),marker = 'x',mec='r')#,ms=50)"
   ]
  },
  {
   "cell_type": "markdown",
   "metadata": {},
   "source": [
    "It appears that the 6 principal components are sufficient to explain the variance in the data. Lets see exactly how much of the variance is explained by 6 principal components."
   ]
  },
  {
   "cell_type": "code",
   "execution_count": 21,
   "metadata": {},
   "outputs": [
    {
     "data": {
      "text/plain": [
       "96.92680753805926"
      ]
     },
     "execution_count": 21,
     "metadata": {},
     "output_type": "execute_result"
    }
   ],
   "source": [
    "explained_variance['cumulative_var_exp'].iloc[6]#.sum()"
   ]
  },
  {
   "cell_type": "markdown",
   "metadata": {},
   "source": [
    "6 components explain 97% of the variance. We can therefore reduce the input features by more than half: from 14 to 6."
   ]
  },
  {
   "cell_type": "code",
   "execution_count": 22,
   "metadata": {},
   "outputs": [],
   "source": [
    "from pyspark.ml.feature import VectorSlicer\n",
    "slicer = VectorSlicer(inputCol='pc',outputCol='cluster_cols',indices=list(range(5)))"
   ]
  },
  {
   "cell_type": "code",
   "execution_count": 23,
   "metadata": {},
   "outputs": [],
   "source": [
    "scoring_df = slicer.transform(scoring_df)"
   ]
  },
  {
   "cell_type": "markdown",
   "metadata": {},
   "source": [
    "## Cluster analysis"
   ]
  },
  {
   "cell_type": "markdown",
   "metadata": {},
   "source": [
    "With the features now ready, It is now possible to perform clustering. Let's use K-Means with $2 <= k<= 13$ and select the best model with the elbow method after plotting the intracluster distance (or training cost) with respect to k."
   ]
  },
  {
   "cell_type": "code",
   "execution_count": 24,
   "metadata": {},
   "outputs": [],
   "source": [
    "from pyspark.ml.clustering import KMeans"
   ]
  },
  {
   "cell_type": "markdown",
   "metadata": {},
   "source": [
    "Fitting the models"
   ]
  },
  {
   "cell_type": "code",
   "execution_count": 28,
   "metadata": {},
   "outputs": [
    {
     "name": "stderr",
     "output_type": "stream",
     "text": [
      "                                                                                \r"
     ]
    }
   ],
   "source": [
    "errors = []\n",
    "models ={}\n",
    "for k in range(2,14):\n",
    "    kmeans = KMeans(featuresCol='cluster_cols', k=k)\n",
    "    model = kmeans.fit(scoring_df)\n",
    "    models['k_'+str(k)] = model\n",
    "    errors.append(model.summary.trainingCost)\n",
    "    key = 'k_'+str(k)\n",
    "    model_path =  \"../../kmeans_model/\"+key # store model out of the repository\n",
    "    model.save(model_path)"
   ]
  },
  {
   "cell_type": "markdown",
   "metadata": {},
   "source": [
    "Plotting the results of training."
   ]
  },
  {
   "cell_type": "code",
   "execution_count": 33,
   "metadata": {},
   "outputs": [
    {
     "data": {
      "image/png": "[encoded data removed]",
      "text/plain": [
       "<Figure size 432x288 with 1 Axes>"
      ]
     },
     "metadata": {
      "needs_background": "light"
     },
     "output_type": "display_data"
    }
   ],
   "source": [
    "import matplotlib.pyplot as plt\n",
    "cluster_number = range(2,14)\n",
    "plt.xlabel('Number of clusters')\n",
    "plt.ylabel('Intra-cluster distance')\n",
    "plt.scatter(cluster_number,errors)\n",
    "plt.show()"
   ]
  },
  {
   "cell_type": "markdown",
   "metadata": {},
   "source": [
    "It appears that 7 clusters performs well enough to segment the type of scoring stat lines in the NBA"
   ]
  },
  {
   "cell_type": "code",
   "execution_count": 34,
   "metadata": {},
   "outputs": [
    {
     "name": "stderr",
     "output_type": "stream",
     "text": [
      "                                                                                \r"
     ]
    }
   ],
   "source": [
    "from pyspark.ml.clustering import KMeansModel\n",
    "    \n",
    "model_path = '../../kmeans_model/k_7'\n",
    "model = KMeansModel.load(model_path)\n",
    "preds = model.transform(scoring_df)"
   ]
  },
  {
   "cell_type": "code",
   "execution_count": null,
   "metadata": {},
   "outputs": [],
   "source": []
  },
  {
   "cell_type": "markdown",
   "metadata": {},
   "source": [
    "We can use a pivot table to count the wins and losses in each cluster and then calculate the win percentage within each cluster to see if there are any clusters that tend to have more winners."
   ]
  },
  {
   "cell_type": "code",
   "execution_count": 35,
   "metadata": {},
   "outputs": [
    {
     "name": "stderr",
     "output_type": "stream",
     "text": [
      "                                                                                \r"
     ]
    }
   ],
   "source": [
    "pivot_table = preds.groupBy('prediction').pivot('result').count()\n",
    "pivot_table = pivot_table.withColumn('win%',\n",
    "                                F.round(pivot_table['W']/(pivot_table['L']+pivot_table['W']),3))\n",
    "pivot_table = pivot_table.withColumn('over 50%',\n",
    "                                F.when(pivot_table['win%']> .5, True).otherwise(False))"
   ]
  },
  {
   "cell_type": "code",
   "execution_count": 36,
   "metadata": {},
   "outputs": [
    {
     "name": "stderr",
     "output_type": "stream",
     "text": [
      "                                                                                \r"
     ]
    },
    {
     "name": "stdout",
     "output_type": "stream",
     "text": [
      "+----------+-----+-----+-----+--------+\n",
      "|prediction|    L|    W| win%|over 50%|\n",
      "+----------+-----+-----+-----+--------+\n",
      "|         3|23427|29244|0.555|    true|\n",
      "|         6|12886|15246|0.542|    true|\n",
      "|         5|25180|26684|0.514|    true|\n",
      "|         1|10479|10713|0.506|    true|\n",
      "|         4|24154|23048|0.488|   false|\n",
      "|         0|27977|25268|0.475|   false|\n",
      "|         2|22432|16948| 0.43|   false|\n",
      "+----------+-----+-----+-----+--------+\n",
      "\n"
     ]
    }
   ],
   "source": [
    "pivot_table.orderBy('win%',ascending = False).show()"
   ]
  },
  {
   "cell_type": "code",
   "execution_count": null,
   "metadata": {},
   "outputs": [],
   "source": [
    "to_plot = pivot_table.to_pandas_on_spark()\n",
    "to_plot['prediction'] = to_plot['prediction'].astype(str)\n",
    "to_plot = to_plot.sort_values('win%',False)\n",
    "\n",
    "to_plot.plot.bar(x='prediction',y='win%',color='over 50%')"
   ]
  },
  {
   "cell_type": "markdown",
   "metadata": {},
   "source": [
    "![CLUSTER win%](plots/cluster_winp.png)\n",
    "\n",
    "There does not appear to be a cluster or groups of clusters that contain players who win considerably more than others.\n",
    "\n",
    "It is possible to do futher analysis by checking if there are particular clusters that contain certain teams, describe the scoring statistics within these clusters, etc."
   ]
  },
  {
   "cell_type": "code",
   "execution_count": 44,
   "metadata": {},
   "outputs": [],
   "source": [
    "players = preds.select('name','team',*preds.columns[3:19],'prediction')"
   ]
  },
  {
   "cell_type": "code",
   "execution_count": null,
   "metadata": {},
   "outputs": [],
   "source": []
  },
  {
   "cell_type": "markdown",
   "metadata": {},
   "source": [
    "Let's take a look at the averages of the scoring and assist statistics of the 7 clusters in our dataset"
   ]
  },
  {
   "cell_type": "code",
   "execution_count": 45,
   "metadata": {},
   "outputs": [],
   "source": [
    "p_df = (players\n",
    ".groupBy('prediction').avg()\n",
    ".orderBy('prediction')\n",
    ".drop('avg(prediction)')\n",
    ".to_pandas_on_spark().round(3))"
   ]
  },
  {
   "cell_type": "code",
   "execution_count": 46,
   "metadata": {},
   "outputs": [
    {
     "name": "stderr",
     "output_type": "stream",
     "text": [
      "22/08/11 18:22:27 WARN package: Truncated the string representation of a plan since it was too large. This behavior can be adjusted by setting 'spark.sql.debug.maxToStringFields'.\n",
      "                                                                                \r"
     ]
    },
    {
     "data": {
      "text/html": [
       "<div>\n",
       "<style scoped>\n",
       "    .dataframe tbody tr th:only-of-type {\n",
       "        vertical-align: middle;\n",
       "    }\n",
       "\n",
       "    .dataframe tbody tr th {\n",
       "        vertical-align: top;\n",
       "    }\n",
       "\n",
       "    .dataframe thead th {\n",
       "        text-align: right;\n",
       "    }\n",
       "</style>\n",
       "<table border=\"1\" class=\"dataframe\">\n",
       "  <thead>\n",
       "    <tr style=\"text-align: right;\">\n",
       "      <th></th>\n",
       "      <th>avg(pts)</th>\n",
       "      <th>avg(fgm)</th>\n",
       "      <th>avg(fga)</th>\n",
       "      <th>avg(pm3)</th>\n",
       "      <th>avg(pa3)</th>\n",
       "      <th>avg(ftm)</th>\n",
       "      <th>avg(fta)</th>\n",
       "      <th>avg(ast)</th>\n",
       "      <th>avg(ft%)</th>\n",
       "      <th>avg(pm2)</th>\n",
       "      <th>avg(pa2)</th>\n",
       "      <th>avg(fg%)</th>\n",
       "      <th>avg(3p%)</th>\n",
       "      <th>avg(2p%)</th>\n",
       "      <th>avg(eFG%)</th>\n",
       "    </tr>\n",
       "    <tr>\n",
       "      <th>prediction</th>\n",
       "      <th></th>\n",
       "      <th></th>\n",
       "      <th></th>\n",
       "      <th></th>\n",
       "      <th></th>\n",
       "      <th></th>\n",
       "      <th></th>\n",
       "      <th></th>\n",
       "      <th></th>\n",
       "      <th></th>\n",
       "      <th></th>\n",
       "      <th></th>\n",
       "      <th></th>\n",
       "      <th></th>\n",
       "      <th></th>\n",
       "    </tr>\n",
       "  </thead>\n",
       "  <tbody>\n",
       "    <tr>\n",
       "      <th>0</th>\n",
       "      <td>1.029</td>\n",
       "      <td>0.420</td>\n",
       "      <td>2.864</td>\n",
       "      <td>0.112</td>\n",
       "      <td>1.072</td>\n",
       "      <td>0.078</td>\n",
       "      <td>0.241</td>\n",
       "      <td>0.932</td>\n",
       "      <td>0.031</td>\n",
       "      <td>0.308</td>\n",
       "      <td>1.793</td>\n",
       "      <td>0.072</td>\n",
       "      <td>0.027</td>\n",
       "      <td>0.066</td>\n",
       "      <td>0.081</td>\n",
       "    </tr>\n",
       "    <tr>\n",
       "      <th>1</th>\n",
       "      <td>7.141</td>\n",
       "      <td>2.557</td>\n",
       "      <td>6.191</td>\n",
       "      <td>1.858</td>\n",
       "      <td>3.241</td>\n",
       "      <td>0.169</td>\n",
       "      <td>0.416</td>\n",
       "      <td>1.750</td>\n",
       "      <td>0.062</td>\n",
       "      <td>0.698</td>\n",
       "      <td>2.950</td>\n",
       "      <td>0.468</td>\n",
       "      <td>0.666</td>\n",
       "      <td>0.147</td>\n",
       "      <td>0.656</td>\n",
       "    </tr>\n",
       "    <tr>\n",
       "      <th>2</th>\n",
       "      <td>7.362</td>\n",
       "      <td>2.062</td>\n",
       "      <td>7.656</td>\n",
       "      <td>0.551</td>\n",
       "      <td>2.619</td>\n",
       "      <td>2.688</td>\n",
       "      <td>3.238</td>\n",
       "      <td>2.255</td>\n",
       "      <td>0.853</td>\n",
       "      <td>1.511</td>\n",
       "      <td>5.037</td>\n",
       "      <td>0.256</td>\n",
       "      <td>0.127</td>\n",
       "      <td>0.264</td>\n",
       "      <td>0.290</td>\n",
       "    </tr>\n",
       "    <tr>\n",
       "      <th>3</th>\n",
       "      <td>20.368</td>\n",
       "      <td>7.031</td>\n",
       "      <td>13.951</td>\n",
       "      <td>2.486</td>\n",
       "      <td>5.241</td>\n",
       "      <td>3.820</td>\n",
       "      <td>4.520</td>\n",
       "      <td>3.794</td>\n",
       "      <td>0.868</td>\n",
       "      <td>4.545</td>\n",
       "      <td>8.710</td>\n",
       "      <td>0.523</td>\n",
       "      <td>0.528</td>\n",
       "      <td>0.533</td>\n",
       "      <td>0.623</td>\n",
       "    </tr>\n",
       "    <tr>\n",
       "      <th>4</th>\n",
       "      <td>5.981</td>\n",
       "      <td>2.905</td>\n",
       "      <td>5.740</td>\n",
       "      <td>0.091</td>\n",
       "      <td>1.108</td>\n",
       "      <td>0.080</td>\n",
       "      <td>0.441</td>\n",
       "      <td>1.452</td>\n",
       "      <td>0.021</td>\n",
       "      <td>2.814</td>\n",
       "      <td>4.632</td>\n",
       "      <td>0.566</td>\n",
       "      <td>0.021</td>\n",
       "      <td>0.688</td>\n",
       "      <td>0.572</td>\n",
       "    </tr>\n",
       "    <tr>\n",
       "      <th>5</th>\n",
       "      <td>13.606</td>\n",
       "      <td>5.190</td>\n",
       "      <td>9.768</td>\n",
       "      <td>0.147</td>\n",
       "      <td>1.398</td>\n",
       "      <td>3.079</td>\n",
       "      <td>4.052</td>\n",
       "      <td>2.380</td>\n",
       "      <td>0.782</td>\n",
       "      <td>5.043</td>\n",
       "      <td>8.370</td>\n",
       "      <td>0.566</td>\n",
       "      <td>0.033</td>\n",
       "      <td>0.658</td>\n",
       "      <td>0.574</td>\n",
       "    </tr>\n",
       "    <tr>\n",
       "      <th>6</th>\n",
       "      <td>12.724</td>\n",
       "      <td>5.241</td>\n",
       "      <td>9.735</td>\n",
       "      <td>2.113</td>\n",
       "      <td>4.444</td>\n",
       "      <td>0.130</td>\n",
       "      <td>0.464</td>\n",
       "      <td>2.492</td>\n",
       "      <td>0.044</td>\n",
       "      <td>3.128</td>\n",
       "      <td>5.291</td>\n",
       "      <td>0.574</td>\n",
       "      <td>0.524</td>\n",
       "      <td>0.655</td>\n",
       "      <td>0.695</td>\n",
       "    </tr>\n",
       "  </tbody>\n",
       "</table>\n",
       "</div>"
      ],
      "text/plain": [
       "            avg(pts)  avg(fgm)  avg(fga)  avg(pm3)  avg(pa3)  avg(ftm)  avg(fta)  avg(ast)  avg(ft%)  avg(pm2)  avg(pa2)  avg(fg%)  avg(3p%)  avg(2p%)  avg(eFG%)\n",
       "prediction                                                                                                                                                       \n",
       "0              1.029     0.420     2.864     0.112     1.072     0.078     0.241     0.932     0.031     0.308     1.793     0.072     0.027     0.066      0.081\n",
       "1              7.141     2.557     6.191     1.858     3.241     0.169     0.416     1.750     0.062     0.698     2.950     0.468     0.666     0.147      0.656\n",
       "2              7.362     2.062     7.656     0.551     2.619     2.688     3.238     2.255     0.853     1.511     5.037     0.256     0.127     0.264      0.290\n",
       "3             20.368     7.031    13.951     2.486     5.241     3.820     4.520     3.794     0.868     4.545     8.710     0.523     0.528     0.533      0.623\n",
       "4              5.981     2.905     5.740     0.091     1.108     0.080     0.441     1.452     0.021     2.814     4.632     0.566     0.021     0.688      0.572\n",
       "5             13.606     5.190     9.768     0.147     1.398     3.079     4.052     2.380     0.782     5.043     8.370     0.566     0.033     0.658      0.574\n",
       "6             12.724     5.241     9.735     2.113     4.444     0.130     0.464     2.492     0.044     3.128     5.291     0.574     0.524     0.655      0.695"
      ]
     },
     "execution_count": 46,
     "metadata": {},
     "output_type": "execute_result"
    }
   ],
   "source": [
    "p_df.set_index('prediction')"
   ]
  },
  {
   "cell_type": "markdown",
   "metadata": {},
   "source": [
    "The highest scoring cluster (label 3) has an average if 20.4 points. These players are also quite efficient at the free throw line: average FT% = 86.8 and make a high percentage of their 3 and 2 point shots: average 3P% = 52.3% and average 2P% = 53.3%. They also tend to have the highest number of assists as a group. It is worth investigating if players who \"go off\" will lie in this cluster. Another cluster that is of interest is cluster 6 that makes a number of 3 point shots and has a high average 3 point percentage. This cluster would seem to contain 3 point specialists, perhaps catch and shoot players.\n",
    "\n",
    "Let's visualise some averages of the different clusters using a bubble chart. Let's consider the average points scored and 3 point shots made in conjunction with the effective field goal percentage and free throw percentage of each cluster."
   ]
  },
  {
   "cell_type": "code",
   "execution_count": 47,
   "metadata": {},
   "outputs": [],
   "source": [
    "to_plot = (players.select('prediction','ftm','fta','fga','fgm','pm3','pts','ft%')\n",
    ".groupBy('prediction') # calculate for individual clusters\n",
    ".agg(F.round((100*(F.sum('fgm')+0.5*F.sum('pm3'))/F.sum('fga')),1).alias('eFG%'), # calculate eFG%\n",
    "    F.avg('pm3'), # average 3 point shots made\n",
    "    F.avg('pts'), # average points scored\n",
    "    F.round(100*(F.sum('ftm')/F.sum('fta')),1).alias('ft%')) # calculate FT%\n",
    ".to_pandas_on_spark()).sort_values('prediction')"
   ]
  },
  {
   "cell_type": "code",
   "execution_count": null,
   "metadata": {},
   "outputs": [],
   "source": [
    "to_plot['prediction'] = to_plot['prediction'].astype(str)\n",
    "to_plot = to_plot.plot.scatter(y = 'avg(pm3)', x = 'avg(pts)',\n",
    "color= 'prediction',size = 'eFG%',text = 'ft%')\n",
    "to_plot.update_yaxes(showgrid=False)\n",
    "to_plot.update_xaxes(showgrid=False)"
   ]
  },
  {
   "cell_type": "markdown",
   "metadata": {},
   "source": [
    "![CLUSTER SUMMARY](plots/cluster_summary.png)\n",
    "\n",
    "The free throw percentages of clusters 0, 1, 4 and especially 6 seem unusual. It seems counterintuitive that a group that makes more 3 point shots than most would have such a low free throw percentage. Let's investigate this by:\n",
    "- checking the summary statistics of this subset of clusters\n",
    "- seeing the counts of each cluster (they could be very small with particularly bad free throw performances)\n",
    "- taking a look at players who typically show up in the clusters with bad free throw percentages and see if it is typical for them have such bad performances\n",
    "- running a statistical test to see which of these groups deviate from the league averages significantly\n"
   ]
  },
  {
   "cell_type": "code",
   "execution_count": 49,
   "metadata": {},
   "outputs": [],
   "source": [
    "bad_ft_groups = (players.select('name','prediction','ftm','fta','ft%','pm3','pa3')\n",
    ".filter('prediction in (0,1,4,6)'))"
   ]
  },
  {
   "cell_type": "code",
   "execution_count": 62,
   "metadata": {},
   "outputs": [
    {
     "name": "stderr",
     "output_type": "stream",
     "text": [
      "                                                                                \r"
     ]
    },
    {
     "data": {
      "text/html": [
       "<div>\n",
       "<style scoped>\n",
       "    .dataframe tbody tr th:only-of-type {\n",
       "        vertical-align: middle;\n",
       "    }\n",
       "\n",
       "    .dataframe tbody tr th {\n",
       "        vertical-align: top;\n",
       "    }\n",
       "\n",
       "    .dataframe thead th {\n",
       "        text-align: right;\n",
       "    }\n",
       "</style>\n",
       "<table border=\"1\" class=\"dataframe\">\n",
       "  <thead>\n",
       "    <tr style=\"text-align: right;\">\n",
       "      <th></th>\n",
       "      <th>ftm</th>\n",
       "      <th>fta</th>\n",
       "      <th>ft%</th>\n",
       "    </tr>\n",
       "  </thead>\n",
       "  <tbody>\n",
       "    <tr>\n",
       "      <th>count</th>\n",
       "      <td>149771.000000</td>\n",
       "      <td>149771.000000</td>\n",
       "      <td>149771.000000</td>\n",
       "    </tr>\n",
       "    <tr>\n",
       "      <th>mean</th>\n",
       "      <td>0.101235</td>\n",
       "      <td>0.370506</td>\n",
       "      <td>0.035024</td>\n",
       "    </tr>\n",
       "    <tr>\n",
       "      <th>std</th>\n",
       "      <td>0.370807</td>\n",
       "      <td>1.052978</td>\n",
       "      <td>0.120867</td>\n",
       "    </tr>\n",
       "    <tr>\n",
       "      <th>min</th>\n",
       "      <td>0.000000</td>\n",
       "      <td>0.000000</td>\n",
       "      <td>0.000000</td>\n",
       "    </tr>\n",
       "    <tr>\n",
       "      <th>25%</th>\n",
       "      <td>0.000000</td>\n",
       "      <td>0.000000</td>\n",
       "      <td>0.000000</td>\n",
       "    </tr>\n",
       "    <tr>\n",
       "      <th>50%</th>\n",
       "      <td>0.000000</td>\n",
       "      <td>0.000000</td>\n",
       "      <td>0.000000</td>\n",
       "    </tr>\n",
       "    <tr>\n",
       "      <th>75%</th>\n",
       "      <td>0.000000</td>\n",
       "      <td>0.000000</td>\n",
       "      <td>0.000000</td>\n",
       "    </tr>\n",
       "    <tr>\n",
       "      <th>max</th>\n",
       "      <td>9.000000</td>\n",
       "      <td>23.000000</td>\n",
       "      <td>0.833333</td>\n",
       "    </tr>\n",
       "  </tbody>\n",
       "</table>\n",
       "</div>"
      ],
      "text/plain": [
       "                 ftm            fta            ft%\n",
       "count  149771.000000  149771.000000  149771.000000\n",
       "mean        0.101235       0.370506       0.035024\n",
       "std         0.370807       1.052978       0.120867\n",
       "min         0.000000       0.000000       0.000000\n",
       "25%         0.000000       0.000000       0.000000\n",
       "50%         0.000000       0.000000       0.000000\n",
       "75%         0.000000       0.000000       0.000000\n",
       "max         9.000000      23.000000       0.833333"
      ]
     },
     "execution_count": 62,
     "metadata": {},
     "output_type": "execute_result"
    }
   ],
   "source": [
    "bad_ft_groups.drop('prediction','pm3','pa3').toPandas().describe()"
   ]
  },
  {
   "cell_type": "markdown",
   "metadata": {},
   "source": [
    "The total number of records in this dataset is $\\approx$ 300K. So the clusters make up about half of the dataset, meaning the low free throw percentages are not outliers. **The vast majority of players in these clusters do not take any free throws.**\n",
    "\n",
    "Let's take a look at the counts in the individual clusters. "
   ]
  },
  {
   "cell_type": "code",
   "execution_count": 63,
   "metadata": {},
   "outputs": [
    {
     "name": "stderr",
     "output_type": "stream",
     "text": [
      "[Stage 842:>                                                        (0 + 1) / 1]\r"
     ]
    },
    {
     "name": "stdout",
     "output_type": "stream",
     "text": [
      "+----------+-------+\n",
      "|prediction|records|\n",
      "+----------+-------+\n",
      "|         1|  21192|\n",
      "|         6|  28132|\n",
      "|         4|  47202|\n",
      "|         0|  53245|\n",
      "+----------+-------+\n",
      "\n"
     ]
    },
    {
     "name": "stderr",
     "output_type": "stream",
     "text": [
      "                                                                                \r"
     ]
    }
   ],
   "source": [
    "bad_ft_groups.groupBy('prediction').agg(F.count('name').alias('records')).show()"
   ]
  },
  {
   "cell_type": "markdown",
   "metadata": {},
   "source": [
    "Clusters 6 and 1 -- that on average makes more 3 point shots than most clusters are noteably smaller than the other clusters with bad free throw performance, but in the context of the entire dataset, they are still sizeable as $\\approx \\frac{1}{8}th$ of the dataset considering there are 7 groups. \n",
    "\n",
    "Now let's take a look at the average free throws made, attempted and percentages for each group."
   ]
  },
  {
   "cell_type": "code",
   "execution_count": 64,
   "metadata": {},
   "outputs": [
    {
     "name": "stderr",
     "output_type": "stream",
     "text": [
      "[Stage 845:>                                                        (0 + 1) / 1]\r"
     ]
    },
    {
     "name": "stdout",
     "output_type": "stream",
     "text": [
      "+----------+--------+--------+--------+\n",
      "|prediction|avg(ftm)|avg(fta)|avg(ft%)|\n",
      "+----------+--------+--------+--------+\n",
      "|         1|     0.2|     0.4|     6.2|\n",
      "|         6|     0.1|     0.5|     4.4|\n",
      "|         4|     0.1|     0.4|     2.1|\n",
      "|         0|     0.1|     0.2|     3.1|\n",
      "+----------+--------+--------+--------+\n",
      "\n"
     ]
    },
    {
     "name": "stderr",
     "output_type": "stream",
     "text": [
      "                                                                                \r"
     ]
    }
   ],
   "source": [
    "(bad_ft_groups\n",
    ".groupBy('prediction')\n",
    ".agg(F.round(F.avg('ftm'),1).alias('avg(ftm)'),\n",
    "     F.round(F.avg('fta'),1).alias('avg(fta)'),\n",
    "     F.round(100*F.avg('ft%'),1).alias('avg(ft%)'))\n",
    ".show()\n",
    ")"
   ]
  },
  {
   "cell_type": "markdown",
   "metadata": {},
   "source": [
    "Players who show up in these clusters don't take any free throws on average and those who do take free throws miss most of them. This would explain the low cluster free throw percentages.\n",
    "\n",
    "Cluster 6 is the most curious since players make more 3's on average than essentially every other cluster.\n",
    "\n",
    "Let's take a look at the players who have made over 100 threes and see how they perfrom at the stripe in this group. "
   ]
  },
  {
   "cell_type": "code",
   "execution_count": 69,
   "metadata": {},
   "outputs": [],
   "source": [
    "aggs = (bad_ft_groups\n",
    ".filter('prediction=6')\n",
    ".groupBy('name')\n",
    ".agg(F.sum('ftm').alias('ftm'),\n",
    "    F.sum('fta').alias('fta'),\n",
    "    F.sum('pm3').alias('pm3'),\n",
    "    F.sum('pa3').alias('pa3'),\n",
    "    (100*F.sum('ftm')/F.sum('fta')).alias('ft%'),\n",
    "    (100*F.sum('pm3')/F.sum('pa3')).alias('3p%'))\n",
    ".fillna(0,['ft%','3p%']))\n",
    "\n",
    "to_plot = aggs.filter('pm3 > 100').to_pandas_on_spark()"
   ]
  },
  {
   "cell_type": "code",
   "execution_count": 66,
   "metadata": {},
   "outputs": [
    {
     "name": "stderr",
     "output_type": "stream",
     "text": [
      "22/08/11 19:22:16 WARN WindowExec: No Partition Defined for Window operation! Moving all data to a single partition, this can cause serious performance degradation.\n",
      "22/08/11 19:22:16 WARN WindowExec: No Partition Defined for Window operation! Moving all data to a single partition, this can cause serious performance degradation.\n",
      "22/08/11 19:22:38 WARN WindowExec: No Partition Defined for Window operation! Moving all data to a single partition, this can cause serious performance degradation.\n",
      "22/08/11 19:22:39 WARN WindowExec: No Partition Defined for Window operation! Moving all data to a single partition, this can cause serious performance degradation.\n",
      "                                                                                \r"
     ]
    },
    {
     "data": {
      "text/html": [
       "<div>\n",
       "<style scoped>\n",
       "    .dataframe tbody tr th:only-of-type {\n",
       "        vertical-align: middle;\n",
       "    }\n",
       "\n",
       "    .dataframe tbody tr th {\n",
       "        vertical-align: top;\n",
       "    }\n",
       "\n",
       "    .dataframe thead th {\n",
       "        text-align: right;\n",
       "    }\n",
       "</style>\n",
       "<table border=\"1\" class=\"dataframe\">\n",
       "  <thead>\n",
       "    <tr style=\"text-align: right;\">\n",
       "      <th></th>\n",
       "      <th>name</th>\n",
       "      <th>ftm</th>\n",
       "      <th>fta</th>\n",
       "      <th>pm3</th>\n",
       "      <th>pa3</th>\n",
       "      <th>ft%</th>\n",
       "      <th>3p%</th>\n",
       "    </tr>\n",
       "  </thead>\n",
       "  <tbody>\n",
       "    <tr>\n",
       "      <th>92</th>\n",
       "      <td>Klay Thompson</td>\n",
       "      <td>8</td>\n",
       "      <td>49</td>\n",
       "      <td>727</td>\n",
       "      <td>1594</td>\n",
       "      <td>16.326531</td>\n",
       "      <td>45.608532</td>\n",
       "    </tr>\n",
       "    <tr>\n",
       "      <th>23</th>\n",
       "      <td>Danny Green</td>\n",
       "      <td>11</td>\n",
       "      <td>37</td>\n",
       "      <td>582</td>\n",
       "      <td>1192</td>\n",
       "      <td>29.729730</td>\n",
       "      <td>48.825503</td>\n",
       "    </tr>\n",
       "    <tr>\n",
       "      <th>154</th>\n",
       "      <td>Buddy Hield</td>\n",
       "      <td>1</td>\n",
       "      <td>14</td>\n",
       "      <td>530</td>\n",
       "      <td>1171</td>\n",
       "      <td>7.142857</td>\n",
       "      <td>45.260461</td>\n",
       "    </tr>\n",
       "    <tr>\n",
       "      <th>49</th>\n",
       "      <td>Patty Mills</td>\n",
       "      <td>7</td>\n",
       "      <td>23</td>\n",
       "      <td>479</td>\n",
       "      <td>1018</td>\n",
       "      <td>30.434783</td>\n",
       "      <td>47.053045</td>\n",
       "    </tr>\n",
       "    <tr>\n",
       "      <th>42</th>\n",
       "      <td>Kyle Korver</td>\n",
       "      <td>12</td>\n",
       "      <td>28</td>\n",
       "      <td>473</td>\n",
       "      <td>901</td>\n",
       "      <td>42.857143</td>\n",
       "      <td>52.497225</td>\n",
       "    </tr>\n",
       "    <tr>\n",
       "      <th>8</th>\n",
       "      <td>JR Smith</td>\n",
       "      <td>8</td>\n",
       "      <td>41</td>\n",
       "      <td>448</td>\n",
       "      <td>1022</td>\n",
       "      <td>19.512195</td>\n",
       "      <td>43.835616</td>\n",
       "    </tr>\n",
       "    <tr>\n",
       "      <th>139</th>\n",
       "      <td>Trevor Ariza</td>\n",
       "      <td>22</td>\n",
       "      <td>75</td>\n",
       "      <td>398</td>\n",
       "      <td>884</td>\n",
       "      <td>29.333333</td>\n",
       "      <td>45.022624</td>\n",
       "    </tr>\n",
       "    <tr>\n",
       "      <th>66</th>\n",
       "      <td>Joe Ingles</td>\n",
       "      <td>16</td>\n",
       "      <td>38</td>\n",
       "      <td>393</td>\n",
       "      <td>798</td>\n",
       "      <td>42.105263</td>\n",
       "      <td>49.248120</td>\n",
       "    </tr>\n",
       "    <tr>\n",
       "      <th>130</th>\n",
       "      <td>Terrence Ross</td>\n",
       "      <td>4</td>\n",
       "      <td>22</td>\n",
       "      <td>385</td>\n",
       "      <td>869</td>\n",
       "      <td>18.181818</td>\n",
       "      <td>44.303797</td>\n",
       "    </tr>\n",
       "    <tr>\n",
       "      <th>167</th>\n",
       "      <td>Wesley Matthews</td>\n",
       "      <td>16</td>\n",
       "      <td>55</td>\n",
       "      <td>370</td>\n",
       "      <td>836</td>\n",
       "      <td>29.090909</td>\n",
       "      <td>44.258373</td>\n",
       "    </tr>\n",
       "    <tr>\n",
       "      <th>39</th>\n",
       "      <td>Joe Harris</td>\n",
       "      <td>6</td>\n",
       "      <td>26</td>\n",
       "      <td>351</td>\n",
       "      <td>698</td>\n",
       "      <td>23.076923</td>\n",
       "      <td>50.286533</td>\n",
       "    </tr>\n",
       "    <tr>\n",
       "      <th>171</th>\n",
       "      <td>Jae Crowder</td>\n",
       "      <td>28</td>\n",
       "      <td>86</td>\n",
       "      <td>345</td>\n",
       "      <td>782</td>\n",
       "      <td>32.558140</td>\n",
       "      <td>44.117647</td>\n",
       "    </tr>\n",
       "    <tr>\n",
       "      <th>100</th>\n",
       "      <td>CJ McCollum</td>\n",
       "      <td>11</td>\n",
       "      <td>64</td>\n",
       "      <td>326</td>\n",
       "      <td>782</td>\n",
       "      <td>17.187500</td>\n",
       "      <td>41.687980</td>\n",
       "    </tr>\n",
       "    <tr>\n",
       "      <th>12</th>\n",
       "      <td>Wayne Ellington</td>\n",
       "      <td>4</td>\n",
       "      <td>10</td>\n",
       "      <td>320</td>\n",
       "      <td>699</td>\n",
       "      <td>40.000000</td>\n",
       "      <td>45.779685</td>\n",
       "    </tr>\n",
       "    <tr>\n",
       "      <th>51</th>\n",
       "      <td>Eric Gordon</td>\n",
       "      <td>14</td>\n",
       "      <td>50</td>\n",
       "      <td>305</td>\n",
       "      <td>713</td>\n",
       "      <td>28.000000</td>\n",
       "      <td>42.776999</td>\n",
       "    </tr>\n",
       "    <tr>\n",
       "      <th>122</th>\n",
       "      <td>Robert Covington</td>\n",
       "      <td>14</td>\n",
       "      <td>41</td>\n",
       "      <td>302</td>\n",
       "      <td>675</td>\n",
       "      <td>34.146341</td>\n",
       "      <td>44.740741</td>\n",
       "    </tr>\n",
       "    <tr>\n",
       "      <th>53</th>\n",
       "      <td>Kevin Huerter</td>\n",
       "      <td>1</td>\n",
       "      <td>9</td>\n",
       "      <td>289</td>\n",
       "      <td>626</td>\n",
       "      <td>11.111111</td>\n",
       "      <td>46.166134</td>\n",
       "    </tr>\n",
       "    <tr>\n",
       "      <th>7</th>\n",
       "      <td>Ben McLemore</td>\n",
       "      <td>16</td>\n",
       "      <td>47</td>\n",
       "      <td>285</td>\n",
       "      <td>632</td>\n",
       "      <td>34.042553</td>\n",
       "      <td>45.094937</td>\n",
       "    </tr>\n",
       "    <tr>\n",
       "      <th>146</th>\n",
       "      <td>Tim Hardaway Jr.</td>\n",
       "      <td>5</td>\n",
       "      <td>26</td>\n",
       "      <td>285</td>\n",
       "      <td>638</td>\n",
       "      <td>19.230769</td>\n",
       "      <td>44.670846</td>\n",
       "    </tr>\n",
       "    <tr>\n",
       "      <th>163</th>\n",
       "      <td>Avery Bradley</td>\n",
       "      <td>2</td>\n",
       "      <td>20</td>\n",
       "      <td>285</td>\n",
       "      <td>632</td>\n",
       "      <td>10.000000</td>\n",
       "      <td>45.094937</td>\n",
       "    </tr>\n",
       "  </tbody>\n",
       "</table>\n",
       "</div>"
      ],
      "text/plain": [
       "                 name  ftm  fta  pm3   pa3        ft%        3p%\n",
       "92      Klay Thompson    8   49  727  1594  16.326531  45.608532\n",
       "23        Danny Green   11   37  582  1192  29.729730  48.825503\n",
       "154       Buddy Hield    1   14  530  1171   7.142857  45.260461\n",
       "49        Patty Mills    7   23  479  1018  30.434783  47.053045\n",
       "42        Kyle Korver   12   28  473   901  42.857143  52.497225\n",
       "8            JR Smith    8   41  448  1022  19.512195  43.835616\n",
       "139      Trevor Ariza   22   75  398   884  29.333333  45.022624\n",
       "66         Joe Ingles   16   38  393   798  42.105263  49.248120\n",
       "130     Terrence Ross    4   22  385   869  18.181818  44.303797\n",
       "167   Wesley Matthews   16   55  370   836  29.090909  44.258373\n",
       "39         Joe Harris    6   26  351   698  23.076923  50.286533\n",
       "171       Jae Crowder   28   86  345   782  32.558140  44.117647\n",
       "100       CJ McCollum   11   64  326   782  17.187500  41.687980\n",
       "12    Wayne Ellington    4   10  320   699  40.000000  45.779685\n",
       "51        Eric Gordon   14   50  305   713  28.000000  42.776999\n",
       "122  Robert Covington   14   41  302   675  34.146341  44.740741\n",
       "53      Kevin Huerter    1    9  289   626  11.111111  46.166134\n",
       "7        Ben McLemore   16   47  285   632  34.042553  45.094937\n",
       "146  Tim Hardaway Jr.    5   26  285   638  19.230769  44.670846\n",
       "163     Avery Bradley    2   20  285   632  10.000000  45.094937"
      ]
     },
     "execution_count": 66,
     "metadata": {},
     "output_type": "execute_result"
    }
   ],
   "source": [
    "to_plot.sort_values('pm3',False).head(20)"
   ]
  },
  {
   "cell_type": "code",
   "execution_count": null,
   "metadata": {},
   "outputs": [],
   "source": [
    "to_plot = to_plot.plot.scatter(x='pm3',y='ftm',size='fta', color = 'ft%',color_continuous_scale='sunset')\n",
    "to_plot.update_yaxes(showgrid=False)\n",
    "to_plot.update_xaxes(showgrid=False)"
   ]
  },
  {
   "cell_type": "markdown",
   "metadata": {},
   "source": [
    "![Cluster 6 plot](plots/cluster_6_plot.png)\n",
    "\n",
    "There is no correlation between the number of 3's made and the number of free throws made in this cluster. There also isn't a correlation between the volume of 3's and the free throw percentage (bubbles would get progressively darker along the x-axis in that case). It is worth investigating if in general, there is no correlation between 3 point shooting and free throw shooting.\n",
    "\n",
    "The graph also shows players make (and ultimately take) significantly less free throws compared to the number of 3's they make (and ultimately take) because of the large difference in scale of the axes. This points towards two things:\n",
    "- players in this cluster are catch and shoot 3 point shooters\n",
    "- teams avoid fouling 3 point shooters. Further analysis with perhaps play-by-play data could lend evidence to this\n",
    "\n",
    "It appears that players in this cluster simply put up bad performances at the free throw line (players don't even have above 50% free throw percentage). Let's have a look at the group's 3 point percentage and the group's free throw percentage:"
   ]
  },
  {
   "cell_type": "code",
   "execution_count": 71,
   "metadata": {},
   "outputs": [
    {
     "name": "stderr",
     "output_type": "stream",
     "text": [
      "[Stage 860:>                                                        (0 + 1) / 1]\r"
     ]
    },
    {
     "name": "stdout",
     "output_type": "stream",
     "text": [
      "+----+----+\n",
      "| 3p%| ft%|\n",
      "+----+----+\n",
      "|47.5|28.0|\n",
      "+----+----+\n",
      "\n"
     ]
    },
    {
     "name": "stderr",
     "output_type": "stream",
     "text": [
      "                                                                                \r"
     ]
    }
   ],
   "source": [
    "(aggs\n",
    ".select(F.round((100*F.sum('pm3')/F.sum('pa3')),1).alias('3p%'),\n",
    "        F.round((100*F.sum('ftm')/F.sum('fta')),1).alias('ft%'))\n",
    ".show())"
   ]
  },
  {
   "cell_type": "markdown",
   "metadata": {},
   "source": [
    "The cluster has a very high 3 point percentage but a very low free throw percentage. This counter-intuitive group is worth investigating if players who consistently appear in it are three point specialists with particularly bad free throw percentages. "
   ]
  },
  {
   "cell_type": "code",
   "execution_count": null,
   "metadata": {},
   "outputs": [],
   "source": []
  },
  {
   "cell_type": "markdown",
   "metadata": {},
   "source": [
    "Now let's examine the high scoring cluser in the dataset:\n",
    "- We will start with the teams and see how many of their performances fall in the high scoring cluster relative to the other clusters\n",
    "- We then move onto players to their performances as high scorers relative to other performances \n",
    "- And finally both players and teams to see if high scoring players put up the same performances on different teams"
   ]
  },
  {
   "cell_type": "code",
   "execution_count": 72,
   "metadata": {},
   "outputs": [],
   "source": [
    "cluster_analysis = preds.select('name','team','prediction',*preds.columns[3:18])\n",
    "top_scorers = cluster_analysis.filter(cluster_analysis['prediction']==3)"
   ]
  },
  {
   "cell_type": "code",
   "execution_count": 73,
   "metadata": {},
   "outputs": [],
   "source": [
    "from pyspark.sql import Window"
   ]
  },
  {
   "cell_type": "code",
   "execution_count": 74,
   "metadata": {},
   "outputs": [],
   "source": [
    "window = Window.partitionBy('team')\n",
    "team_analysis = (cluster_analysis\n",
    ".groupBy('team','prediction').count()\n",
    ".withColumn('totals',F.sum('count').over(window)))\n",
    "team_analysis = (team_analysis\n",
    ".withColumn('cluster_share(%)',F.round(100*team_analysis['count']/team_analysis['totals'],2)))"
   ]
  },
  {
   "cell_type": "code",
   "execution_count": null,
   "metadata": {},
   "outputs": [],
   "source": []
  },
  {
   "cell_type": "code",
   "execution_count": 77,
   "metadata": {},
   "outputs": [],
   "source": [
    "top_scoring_teams = team_analysis.filter(team_analysis['prediction']==3)\n",
    "\n",
    "to_plot = top_scoring_teams.orderBy('cluster_share(%)',ascending=False).limit(5).withColumn('position',F.lit('top 5'))\n",
    "to_plot = (to_plot.unionByName(top_scoring_teams.orderBy('cluster_share(%)',ascending=True)\n",
    ".limit(5).withColumn('position',F.lit('last 5'))))"
   ]
  },
  {
   "cell_type": "markdown",
   "metadata": {},
   "source": [
    "Let's visualise the shares and see the teams with the highest (top 5) and the lowest (last 5) shares in the high scoring cluster"
   ]
  },
  {
   "cell_type": "code",
   "execution_count": null,
   "metadata": {},
   "outputs": [],
   "source": [
    "(to_plot\n",
    ".orderBy('cluster_share(%)',ascending=False)\n",
    ".to_pandas_on_spark()\n",
    ".plot\n",
    ".bar(y='cluster_share(%)',x='team',color='position'))"
   ]
  },
  {
   "cell_type": "markdown",
   "metadata": {},
   "source": [
    "![TEAM](plots/team_plot.png)\n",
    "\n",
    "\n",
    "The Rockets have the highest proportion of player performances appearing in the high scoring cluster. The Spurs have the lowest proportion of their player performances in the high scoring cluster. It is worth further investigating this to see why the Spurs, a rather successful team (at least in the first half of this dataset) shows up so low. An idea of where to start could be to see how the system employed by Coach Popovich (one of the most established systems in the league) values scoring.\n",
    "\n",
    "Teams show small differences in their proportions in the high scoring clusters, which indicates that all teams have their go-to guy(s) to produce high scoring performances. Even though some rely on them more than others. \n",
    "\n",
    "Let's have a look at the underlying data in a table:\n",
    "\n",
    "<!-- The Warriors have the highest share in the high scoring cluster. The Detroit Pistons have the smallest share. The difference between the top and bottom teams in this cluster is about 1%. All teams have similar shares in the high scoring cluster. High scoring players appear throughout the league regardless of team as shown in the table below -->"
   ]
  },
  {
   "cell_type": "code",
   "execution_count": 80,
   "metadata": {},
   "outputs": [
    {
     "name": "stderr",
     "output_type": "stream",
     "text": [
      "                                                                                \r"
     ]
    },
    {
     "data": {
      "text/html": [
       "<div>\n",
       "<style scoped>\n",
       "    .dataframe tbody tr th:only-of-type {\n",
       "        vertical-align: middle;\n",
       "    }\n",
       "\n",
       "    .dataframe tbody tr th {\n",
       "        vertical-align: top;\n",
       "    }\n",
       "\n",
       "    .dataframe thead th {\n",
       "        text-align: right;\n",
       "    }\n",
       "</style>\n",
       "<table border=\"1\" class=\"dataframe\">\n",
       "  <thead>\n",
       "    <tr style=\"text-align: right;\">\n",
       "      <th></th>\n",
       "      <th>team</th>\n",
       "      <th>prediction</th>\n",
       "      <th>count</th>\n",
       "      <th>totals</th>\n",
       "      <th>cluster_share(%)</th>\n",
       "    </tr>\n",
       "  </thead>\n",
       "  <tbody>\n",
       "    <tr>\n",
       "      <th>0</th>\n",
       "      <td>HOU</td>\n",
       "      <td>3</td>\n",
       "      <td>1976</td>\n",
       "      <td>9482</td>\n",
       "      <td>20.84</td>\n",
       "    </tr>\n",
       "    <tr>\n",
       "      <th>1</th>\n",
       "      <td>DEN</td>\n",
       "      <td>3</td>\n",
       "      <td>1930</td>\n",
       "      <td>9780</td>\n",
       "      <td>19.73</td>\n",
       "    </tr>\n",
       "    <tr>\n",
       "      <th>2</th>\n",
       "      <td>MIN</td>\n",
       "      <td>3</td>\n",
       "      <td>1773</td>\n",
       "      <td>9053</td>\n",
       "      <td>19.58</td>\n",
       "    </tr>\n",
       "    <tr>\n",
       "      <th>3</th>\n",
       "      <td>POR</td>\n",
       "      <td>3</td>\n",
       "      <td>1893</td>\n",
       "      <td>9746</td>\n",
       "      <td>19.42</td>\n",
       "    </tr>\n",
       "    <tr>\n",
       "      <th>4</th>\n",
       "      <td>BOS</td>\n",
       "      <td>3</td>\n",
       "      <td>2062</td>\n",
       "      <td>10673</td>\n",
       "      <td>19.32</td>\n",
       "    </tr>\n",
       "    <tr>\n",
       "      <th>5</th>\n",
       "      <td>OKC</td>\n",
       "      <td>3</td>\n",
       "      <td>1954</td>\n",
       "      <td>10182</td>\n",
       "      <td>19.19</td>\n",
       "    </tr>\n",
       "    <tr>\n",
       "      <th>6</th>\n",
       "      <td>GSW</td>\n",
       "      <td>3</td>\n",
       "      <td>2116</td>\n",
       "      <td>11146</td>\n",
       "      <td>18.98</td>\n",
       "    </tr>\n",
       "    <tr>\n",
       "      <th>7</th>\n",
       "      <td>PHX</td>\n",
       "      <td>3</td>\n",
       "      <td>1797</td>\n",
       "      <td>9478</td>\n",
       "      <td>18.96</td>\n",
       "    </tr>\n",
       "    <tr>\n",
       "      <th>8</th>\n",
       "      <td>CLE</td>\n",
       "      <td>3</td>\n",
       "      <td>1863</td>\n",
       "      <td>9844</td>\n",
       "      <td>18.93</td>\n",
       "    </tr>\n",
       "    <tr>\n",
       "      <th>9</th>\n",
       "      <td>ATL</td>\n",
       "      <td>3</td>\n",
       "      <td>1877</td>\n",
       "      <td>10047</td>\n",
       "      <td>18.68</td>\n",
       "    </tr>\n",
       "    <tr>\n",
       "      <th>10</th>\n",
       "      <td>CHA</td>\n",
       "      <td>3</td>\n",
       "      <td>1683</td>\n",
       "      <td>9074</td>\n",
       "      <td>18.55</td>\n",
       "    </tr>\n",
       "    <tr>\n",
       "      <th>11</th>\n",
       "      <td>LAC</td>\n",
       "      <td>3</td>\n",
       "      <td>1922</td>\n",
       "      <td>10409</td>\n",
       "      <td>18.46</td>\n",
       "    </tr>\n",
       "    <tr>\n",
       "      <th>12</th>\n",
       "      <td>DAL</td>\n",
       "      <td>3</td>\n",
       "      <td>1858</td>\n",
       "      <td>10114</td>\n",
       "      <td>18.37</td>\n",
       "    </tr>\n",
       "    <tr>\n",
       "      <th>13</th>\n",
       "      <td>TOR</td>\n",
       "      <td>3</td>\n",
       "      <td>1845</td>\n",
       "      <td>10082</td>\n",
       "      <td>18.30</td>\n",
       "    </tr>\n",
       "    <tr>\n",
       "      <th>14</th>\n",
       "      <td>ORL</td>\n",
       "      <td>3</td>\n",
       "      <td>1674</td>\n",
       "      <td>9194</td>\n",
       "      <td>18.21</td>\n",
       "    </tr>\n",
       "    <tr>\n",
       "      <th>15</th>\n",
       "      <td>WAS</td>\n",
       "      <td>3</td>\n",
       "      <td>1734</td>\n",
       "      <td>9661</td>\n",
       "      <td>17.95</td>\n",
       "    </tr>\n",
       "    <tr>\n",
       "      <th>16</th>\n",
       "      <td>NYK</td>\n",
       "      <td>3</td>\n",
       "      <td>1657</td>\n",
       "      <td>9339</td>\n",
       "      <td>17.74</td>\n",
       "    </tr>\n",
       "    <tr>\n",
       "      <th>17</th>\n",
       "      <td>MIL</td>\n",
       "      <td>3</td>\n",
       "      <td>1788</td>\n",
       "      <td>10124</td>\n",
       "      <td>17.66</td>\n",
       "    </tr>\n",
       "    <tr>\n",
       "      <th>18</th>\n",
       "      <td>SAC</td>\n",
       "      <td>3</td>\n",
       "      <td>1584</td>\n",
       "      <td>9020</td>\n",
       "      <td>17.56</td>\n",
       "    </tr>\n",
       "    <tr>\n",
       "      <th>19</th>\n",
       "      <td>IND</td>\n",
       "      <td>3</td>\n",
       "      <td>1744</td>\n",
       "      <td>9959</td>\n",
       "      <td>17.51</td>\n",
       "    </tr>\n",
       "    <tr>\n",
       "      <th>20</th>\n",
       "      <td>BKN</td>\n",
       "      <td>3</td>\n",
       "      <td>1679</td>\n",
       "      <td>9804</td>\n",
       "      <td>17.13</td>\n",
       "    </tr>\n",
       "    <tr>\n",
       "      <th>21</th>\n",
       "      <td>NOP</td>\n",
       "      <td>3</td>\n",
       "      <td>1555</td>\n",
       "      <td>9131</td>\n",
       "      <td>17.03</td>\n",
       "    </tr>\n",
       "    <tr>\n",
       "      <th>22</th>\n",
       "      <td>PHI</td>\n",
       "      <td>3</td>\n",
       "      <td>1639</td>\n",
       "      <td>9626</td>\n",
       "      <td>17.03</td>\n",
       "    </tr>\n",
       "    <tr>\n",
       "      <th>23</th>\n",
       "      <td>CHI</td>\n",
       "      <td>3</td>\n",
       "      <td>1565</td>\n",
       "      <td>9292</td>\n",
       "      <td>16.84</td>\n",
       "    </tr>\n",
       "    <tr>\n",
       "      <th>24</th>\n",
       "      <td>LAL</td>\n",
       "      <td>3</td>\n",
       "      <td>1569</td>\n",
       "      <td>9372</td>\n",
       "      <td>16.74</td>\n",
       "    </tr>\n",
       "    <tr>\n",
       "      <th>25</th>\n",
       "      <td>DET</td>\n",
       "      <td>3</td>\n",
       "      <td>1506</td>\n",
       "      <td>9034</td>\n",
       "      <td>16.67</td>\n",
       "    </tr>\n",
       "    <tr>\n",
       "      <th>26</th>\n",
       "      <td>UTA</td>\n",
       "      <td>3</td>\n",
       "      <td>1647</td>\n",
       "      <td>9895</td>\n",
       "      <td>16.64</td>\n",
       "    </tr>\n",
       "    <tr>\n",
       "      <th>27</th>\n",
       "      <td>MEM</td>\n",
       "      <td>3</td>\n",
       "      <td>1619</td>\n",
       "      <td>9931</td>\n",
       "      <td>16.30</td>\n",
       "    </tr>\n",
       "    <tr>\n",
       "      <th>28</th>\n",
       "      <td>MIA</td>\n",
       "      <td>3</td>\n",
       "      <td>1626</td>\n",
       "      <td>10112</td>\n",
       "      <td>16.08</td>\n",
       "    </tr>\n",
       "    <tr>\n",
       "      <th>29</th>\n",
       "      <td>SAS</td>\n",
       "      <td>3</td>\n",
       "      <td>1536</td>\n",
       "      <td>11082</td>\n",
       "      <td>13.86</td>\n",
       "    </tr>\n",
       "  </tbody>\n",
       "</table>\n",
       "</div>"
      ],
      "text/plain": [
       "   team  prediction  count  totals  cluster_share(%)\n",
       "0   HOU           3   1976    9482             20.84\n",
       "1   DEN           3   1930    9780             19.73\n",
       "2   MIN           3   1773    9053             19.58\n",
       "3   POR           3   1893    9746             19.42\n",
       "4   BOS           3   2062   10673             19.32\n",
       "5   OKC           3   1954   10182             19.19\n",
       "6   GSW           3   2116   11146             18.98\n",
       "7   PHX           3   1797    9478             18.96\n",
       "8   CLE           3   1863    9844             18.93\n",
       "9   ATL           3   1877   10047             18.68\n",
       "10  CHA           3   1683    9074             18.55\n",
       "11  LAC           3   1922   10409             18.46\n",
       "12  DAL           3   1858   10114             18.37\n",
       "13  TOR           3   1845   10082             18.30\n",
       "14  ORL           3   1674    9194             18.21\n",
       "15  WAS           3   1734    9661             17.95\n",
       "16  NYK           3   1657    9339             17.74\n",
       "17  MIL           3   1788   10124             17.66\n",
       "18  SAC           3   1584    9020             17.56\n",
       "19  IND           3   1744    9959             17.51\n",
       "20  BKN           3   1679    9804             17.13\n",
       "21  NOP           3   1555    9131             17.03\n",
       "22  PHI           3   1639    9626             17.03\n",
       "23  CHI           3   1565    9292             16.84\n",
       "24  LAL           3   1569    9372             16.74\n",
       "25  DET           3   1506    9034             16.67\n",
       "26  UTA           3   1647    9895             16.64\n",
       "27  MEM           3   1619    9931             16.30\n",
       "28  MIA           3   1626   10112             16.08\n",
       "29  SAS           3   1536   11082             13.86"
      ]
     },
     "execution_count": 80,
     "metadata": {},
     "output_type": "execute_result"
    }
   ],
   "source": [
    "top_scoring_teams.orderBy('cluster_share(%)',ascending=False).toPandas().head(30)"
   ]
  },
  {
   "cell_type": "code",
   "execution_count": null,
   "metadata": {},
   "outputs": [],
   "source": []
  },
  {
   "cell_type": "code",
   "execution_count": 95,
   "metadata": {},
   "outputs": [],
   "source": [
    "window = Window.partitionBy('name')\n",
    "player_analysis = (cluster_analysis.groupBy('name','prediction').count()\n",
    ".withColumn('totals',F.sum('count').over(window)))\n",
    "player_analysis = player_analysis.withColumn('cluster_share(%)',\n",
    "        F.round(100*player_analysis['count']/player_analysis['totals'],2))"
   ]
  },
  {
   "cell_type": "code",
   "execution_count": null,
   "metadata": {},
   "outputs": [],
   "source": []
  },
  {
   "cell_type": "code",
   "execution_count": 103,
   "metadata": {},
   "outputs": [],
   "source": [
    "top_scoring_players = player_analysis.filter(player_analysis['prediction']==3)\n",
    "# find the top 5 players\n",
    "to_plot = (top_scoring_players\n",
    ".orderBy('cluster_share(%)',ascending=False)\n",
    ".limit(5).withColumn('position',F.lit('top 5')))\n",
    "\n",
    "# find the last top players\n",
    "to_plot = (to_plot.unionByName(\n",
    "    top_scoring_players.orderBy('cluster_share(%)',ascending=True)\n",
    ".limit(5)\n",
    ".withColumn('position',F.lit('last 5'))))"
   ]
  },
  {
   "cell_type": "code",
   "execution_count": null,
   "metadata": {},
   "outputs": [],
   "source": [
    "fig = (to_plot\n",
    ".to_pandas_on_spark()\n",
    ".plot\n",
    ".bar(x='cluster_share(%)',y='name',color='position'))\n",
    "fig.update_layout(yaxis={'categoryorder':'max ascending'})"
   ]
  },
  {
   "cell_type": "markdown",
   "metadata": {},
   "source": [
    "![PLAYERS](plots/player_plot.png)\n",
    "\n",
    "\n",
    "We can see Kevin Durant has the highest propotion of high scoring performance with 81%. Many of the top scorers in the league show up in the top 5. The vast difference between the top 5 and the last 5 shows how the scoring responsibility falls on particular players and that occasionally, supporting players have high scoring games.\n",
    "\n",
    "Let's have a look at the top 20 high scoring players in the league:"
   ]
  },
  {
   "cell_type": "code",
   "execution_count": 107,
   "metadata": {},
   "outputs": [
    {
     "name": "stderr",
     "output_type": "stream",
     "text": [
      "[Stage 1158:>                                                       (0 + 1) / 1]\r"
     ]
    },
    {
     "name": "stdout",
     "output_type": "stream",
     "text": [
      "+------------------+----------+-----+------+----------------+\n",
      "|              name|prediction|count|totals|cluster_share(%)|\n",
      "+------------------+----------+-----+------+----------------+\n",
      "|      Kevin Durant|         3|  617|   757|           81.51|\n",
      "|      James Harden|         3|  728|   910|            80.0|\n",
      "|     Stephen Curry|         3|  644|   806|            79.9|\n",
      "|       Luka Doncic|         3|  227|   292|           77.74|\n",
      "|        Trae Young|         3|  225|   301|           74.75|\n",
      "|    Damian Lillard|         3|  575|   772|           74.48|\n",
      "|  Donovan Mitchell|         3|  280|   384|           72.92|\n",
      "|      Kyrie Irving|         3|  479|   685|           69.93|\n",
      "|      LeBron James|         3|  617|   913|           67.58|\n",
      "|      Devin Booker|         3|  334|   509|           65.62|\n",
      "|       Paul George|         3|  496|   779|           63.67|\n",
      "|      Bradley Beal|         3|  430|   690|           62.32|\n",
      "|       Joel Embiid|         3|  231|   372|            62.1|\n",
      "|Karl-Anthony Towns|         3|  303|   493|           61.46|\n",
      "|      Jayson Tatum|         3|  266|   439|           60.59|\n",
      "|       Kobe Bryant|         3|  154|   255|           60.39|\n",
      "| Russell Westbrook|         3|  515|   863|           59.68|\n",
      "|   Anthony Edwards|         3|   89|   150|           59.33|\n",
      "|      Kemba Walker|         3|  455|   772|           58.94|\n",
      "|       Zach LaVine|         3|  274|   482|           56.85|\n",
      "+------------------+----------+-----+------+----------------+\n",
      "only showing top 20 rows\n",
      "\n"
     ]
    },
    {
     "name": "stderr",
     "output_type": "stream",
     "text": [
      "                                                                                \r"
     ]
    }
   ],
   "source": [
    "(player_analysis\n",
    ".filter(player_analysis['prediction']==3)\n",
    ".orderBy('cluster_share(%)',ascending=False)\n",
    ".show())"
   ]
  },
  {
   "cell_type": "code",
   "execution_count": null,
   "metadata": {},
   "outputs": [],
   "source": []
  },
  {
   "cell_type": "markdown",
   "metadata": {},
   "source": [
    "Let's have a look at the combination of players and the teams they played at. We can then see which teams relied on which players to put up high numbers during games. Let's consider players who have "
   ]
  },
  {
   "cell_type": "code",
   "execution_count": 108,
   "metadata": {},
   "outputs": [],
   "source": [
    "window = Window.partitionBy('name','team')\n",
    "\n",
    "player_team_analysis = cluster_analysis.groupBy('name','team','prediction').count()\n",
    "player_team_analysis = player_team_analysis.withColumn('totals',F.sum('count').over(window))\n",
    "player_team_analysis = (player_team_analysis\n",
    ".withColumn('cluster_share(%)',\n",
    "    F.round(100*player_team_analysis['count']/player_team_analysis['totals'],2)))"
   ]
  },
  {
   "cell_type": "markdown",
   "metadata": {},
   "source": [
    "Let's consider players who show up in the high scoring cluster and have played more than 100 games for a team."
   ]
  },
  {
   "cell_type": "code",
   "execution_count": 121,
   "metadata": {},
   "outputs": [],
   "source": [
    "top_scoring_players = player_team_analysis.filter(player_team_analysis['prediction']==3)\n",
    "\n",
    "to_plot = (top_scoring_players\n",
    ".filter(top_scoring_players['totals']>100)\n",
    ".orderBy('cluster_share(%)',ascending=False)\n",
    ".limit(10)\n",
    ".withColumn('position',F.lit('top 15')))"
   ]
  },
  {
   "cell_type": "markdown",
   "metadata": {},
   "source": [
    "Let's plot the top ten players with the highest share in the high scoring cluster with respect to the teams at which they had these performances."
   ]
  },
  {
   "cell_type": "code",
   "execution_count": null,
   "metadata": {},
   "outputs": [],
   "source": [
    "fig = (to_plot\n",
    ".orderBy('cluster_share(%)',ascending=False)\n",
    ".to_pandas_on_spark()\n",
    ".plot.bar(x='cluster_share(%)',y='name',color='team',text='team',barmode='overlay'))\n",
    "\n",
    "fig.update_layout(yaxis={'categoryorder':'max ascending'})"
   ]
  },
  {
   "cell_type": "markdown",
   "metadata": {},
   "source": [
    "![PLAYER_TEAMS](plots/player_team.png)\n",
    "\n",
    "\n",
    "Kevin Durant has been a prominent scorer at every team he as been on. All teams have leaned on his scoring ability and he has delivered. He has his smallest proportion of high scoring performances when he was with the Warriors. While he was indispensible to the Warrior's back to back championships, his role as a high scorer saw a decrease compared to the other teams he has been on. This is likely due to the Warriors' system revolving around Stephen Curry. The data also shows that the Nets have really leaned on Kevin Durant as their primary scorer (which would explain their early exit in the 2021-22 playoffs) and he has delivered much more than he has not.\n",
    "\n",
    "Another interesting point to note is that Kevin Durant and Kyrie Irving, part of the Nets' big 3  appear in this list. So even though they did not play many games together (or have the great run everyone expected), they did make sizeable contribution to scoring when the other(s) were not available."
   ]
  },
  {
   "cell_type": "code",
   "execution_count": null,
   "metadata": {},
   "outputs": [],
   "source": []
  }
 ],
 "metadata": {
  "interpreter": {
   "hash": "767d51c1340bd893661ea55ea3124f6de3c7a262a8b4abca0554b478b1e2ff90"
  },
  "kernelspec": {
   "display_name": "Python 3.9.2 64-bit",
   "language": "python",
   "name": "python3"
  },
  "language_info": {
   "codemirror_mode": {
    "name": "ipython",
    "version": 3
   },
   "file_extension": ".py",
   "mimetype": "text/x-python",
   "name": "python",
   "nbconvert_exporter": "python",
   "pygments_lexer": "ipython3",
   "version": "3.9.2"
  },
  "orig_nbformat": 4
 },
 "nbformat": 4,
 "nbformat_minor": 2
}
