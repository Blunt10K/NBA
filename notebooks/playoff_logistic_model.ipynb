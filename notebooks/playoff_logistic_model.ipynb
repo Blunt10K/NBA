{
 "cells": [
  {
   "cell_type": "code",
   "execution_count": 62,
   "id": "2822fbfc",
   "metadata": {},
   "outputs": [],
   "source": [
    "from playoff_model_helpers import *\n",
    "\n",
    "from sklearn.linear_model import LogisticRegression#,SGDClassifier\n",
    "\n",
    "from sklearn.model_selection import cross_validate"
   ]
  },
  {
   "cell_type": "code",
   "execution_count": 2,
   "id": "c617d00b",
   "metadata": {},
   "outputs": [],
   "source": [
    "df = import_data()"
   ]
  },
  {
   "cell_type": "code",
   "execution_count": 3,
   "id": "276c34b6",
   "metadata": {},
   "outputs": [],
   "source": [
    "df = made_playoffs(df)"
   ]
  },
  {
   "cell_type": "code",
   "execution_count": 4,
   "id": "e8836c9c",
   "metadata": {},
   "outputs": [],
   "source": [
    "train,test = split_train_test(df)"
   ]
  },
  {
   "cell_type": "code",
   "execution_count": 5,
   "id": "a1620a1d",
   "metadata": {},
   "outputs": [],
   "source": [
    "x,y,transformer = preprocess(train)"
   ]
  },
  {
   "cell_type": "code",
   "execution_count": 6,
   "id": "a97e8787",
   "metadata": {},
   "outputs": [
    {
     "data": {
      "text/plain": [
       "LogisticRegression(max_iter=1000, random_state=10)"
      ]
     },
     "execution_count": 6,
     "metadata": {},
     "output_type": "execute_result"
    }
   ],
   "source": [
    "model = LogisticRegression(random_state=10,max_iter=1000)\n",
    "model.fit(x,y)"
   ]
  },
  {
   "cell_type": "code",
   "execution_count": 64,
   "id": "8574f45a",
   "metadata": {},
   "outputs": [],
   "source": [
    "cv = cross_validate(model,x,y,scoring='precision',cv=5)"
   ]
  },
  {
   "cell_type": "code",
   "execution_count": 65,
   "id": "d307c3d7",
   "metadata": {},
   "outputs": [
    {
     "data": {
      "text/plain": [
       "0.6312570520595091"
      ]
     },
     "execution_count": 65,
     "metadata": {},
     "output_type": "execute_result"
    }
   ],
   "source": [
    "cv['test_score'].mean()"
   ]
  },
  {
   "cell_type": "code",
   "execution_count": 66,
   "id": "38c3f7de",
   "metadata": {},
   "outputs": [
    {
     "data": {
      "text/plain": [
       "0.004890608659003544"
      ]
     },
     "execution_count": 66,
     "metadata": {},
     "output_type": "execute_result"
    }
   ],
   "source": [
    "cv['test_score'].std()"
   ]
  },
  {
   "cell_type": "code",
   "execution_count": 35,
   "id": "5e09b344",
   "metadata": {},
   "outputs": [],
   "source": [
    "from sklearn.metrics import roc_curve"
   ]
  },
  {
   "cell_type": "code",
   "execution_count": 53,
   "id": "c9c944d5",
   "metadata": {},
   "outputs": [],
   "source": [
    "fpr,tpr,threashold = roc_curve(y,model.predict_proba(x)[:,1])"
   ]
  },
  {
   "cell_type": "code",
   "execution_count": 54,
   "id": "e342fd9c",
   "metadata": {},
   "outputs": [],
   "source": [
    "import matplotlib.pyplot as plt"
   ]
  },
  {
   "cell_type": "code",
   "execution_count": 55,
   "id": "c29cc81f",
   "metadata": {},
   "outputs": [
    {
     "data": {
      "text/plain": [
       "[<matplotlib.lines.Line2D at 0xa70e2a90>]"
      ]
     },
     "execution_count": 55,
     "metadata": {},
     "output_type": "execute_result"
    },
    {
     "data": {
      "image/png": "[encoded data removed]",
      "text/plain": [
       "<Figure size 432x288 with 1 Axes>"
      ]
     },
     "metadata": {
      "needs_background": "light"
     },
     "output_type": "display_data"
    }
   ],
   "source": [
    "plt.plot(fpr,tpr,label=\"ROC curve\")\n",
    "plt.plot([0,1],[0,1])"
   ]
  },
  {
   "cell_type": "code",
   "execution_count": 42,
   "id": "79d49bc9",
   "metadata": {},
   "outputs": [],
   "source": [
    "from sklearn.metrics import roc_auc_score"
   ]
  },
  {
   "cell_type": "code",
   "execution_count": 56,
   "id": "a26ad7d1",
   "metadata": {},
   "outputs": [
    {
     "data": {
      "text/plain": [
       "0.6055532982822893"
      ]
     },
     "execution_count": 56,
     "metadata": {},
     "output_type": "execute_result"
    }
   ],
   "source": [
    "roc_auc_score(y,model.predict(x))"
   ]
  },
  {
   "cell_type": "code",
   "execution_count": null,
   "id": "7557a44a",
   "metadata": {},
   "outputs": [],
   "source": []
  }
 ],
 "metadata": {
  "kernelspec": {
   "display_name": "Python 3",
   "language": "python",
   "name": "python3"
  },
  "language_info": {
   "codemirror_mode": {
    "name": "ipython",
    "version": 3
   },
   "file_extension": ".py",
   "mimetype": "text/x-python",
   "name": "python",
   "nbconvert_exporter": "python",
   "pygments_lexer": "ipython3",
   "version": "3.7.3"
  }
 },
 "nbformat": 4,
 "nbformat_minor": 5
}
