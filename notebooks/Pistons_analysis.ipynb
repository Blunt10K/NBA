{
 "cells": [
  {
   "cell_type": "code",
   "execution_count": 1,
   "id": "a203f5ee",
   "metadata": {},
   "outputs": [
    {
     "name": "stderr",
     "output_type": "stream",
     "text": [
      "/usr/lib/python3/dist-packages/requests/__init__.py:91: RequestsDependencyWarning: urllib3 (1.26.7) or chardet (3.0.4) doesn't match a supported version!\n",
      "  RequestsDependencyWarning)\n"
     ]
    }
   ],
   "source": [
    "from jupyter_dash import JupyterDash\n",
    "from dash import html\n",
    "from dash.dependencies import Input, Output\n",
    "import plotly.express as px\n",
    "# import plotly.graph_objects as go\n",
    "from dash import dcc"
   ]
  },
  {
   "cell_type": "code",
   "execution_count": 2,
   "id": "002fcdc6",
   "metadata": {},
   "outputs": [],
   "source": [
    "import sqlalchemy\n",
    "from os import environ\n",
    "\n",
    "import numpy as np\n",
    "import pandas as pd"
   ]
  },
  {
   "cell_type": "code",
   "execution_count": 3,
   "id": "12d0d029",
   "metadata": {},
   "outputs": [],
   "source": [
    "engine = sqlalchemy.create_engine(\"mariadb+mariadbconnector://\"+environ.get(\"USER\")+\\\n",
    "                                  \":\"+environ.get(\"PSWD\")+\"@127.0.0.1:3306/nba\")"
   ]
  },
  {
   "cell_type": "code",
   "execution_count": 4,
   "id": "048f5b03",
   "metadata": {},
   "outputs": [],
   "source": [
    "A_cols = ['A.Name', 'PTS',\n",
    " 'FGM', 'FGA', 'PM3', 'PA3', 'AST','Game_day']\n",
    "\n",
    "A_cols = \", \".join(A_cols)"
   ]
  },
  {
   "cell_type": "code",
   "execution_count": 5,
   "id": "9a265102",
   "metadata": {},
   "outputs": [],
   "source": [
    "fields = \"* \"\n",
    "\n",
    "inner_join =  \"Box_scores INNER JOIN Players on Box_scores.Player_ID = Players.ID) A \"\n",
    "\n",
    "inner_select = \"(SELECT * FROM \" + inner_join \n",
    "\n",
    "outer_join = \"INNER JOIN Teams on Teams.ID=A.Team_ID \"\n",
    "\n",
    "outer_select = \"SELECT \" + A_cols +  \", Teams.Name as Team FROM \" + inner_select  + outer_join \n",
    "outer_select += ' ORDER BY Game_day DESC'"
   ]
  },
  {
   "cell_type": "code",
   "execution_count": 6,
   "id": "95347a08",
   "metadata": {},
   "outputs": [],
   "source": [
    "league = pd.read_sql(outer_select,engine,parse_dates=['Game_day'])"
   ]
  },
  {
   "cell_type": "code",
   "execution_count": 7,
   "id": "f97e5935",
   "metadata": {},
   "outputs": [],
   "source": [
    "def map_conference(df):\n",
    "    west = ['NOP','UTA', 'MEM','PHX', 'POR', 'SAC', 'SAS', 'OKC','DAL', 'DEN', 'GSW', 'HOU','LAC', 'LAL','MIN']\n",
    "    \n",
    "    df['Conference'] = 'west'\n",
    "    df['Conference'].where(df['Team'].isin(west),'east',inplace=True)\n",
    "    return df"
   ]
  },
  {
   "cell_type": "code",
   "execution_count": 8,
   "id": "3e56d768",
   "metadata": {},
   "outputs": [],
   "source": [
    "def map_division(df):\n",
    "    divisions = {}\n",
    "    # eastern conference divisions\n",
    "    divisions['atlantic'] = ['BOS','BKN','NYK','PHI','TOR']\n",
    "    divisions['central'] = ['CHI','CLE','DET','IND','MIL']\n",
    "    divisions['southeast'] = ['ATL','CHA','MIA','ORL','WAS']\n",
    "    \n",
    "    # western conference divisions\n",
    "    divisions['northwest'] = ['DEN', 'MIN','OKC','POR','UTA']\n",
    "    divisions['pacific'] = ['GSW','LAC','LAL','PHX','SAC']\n",
    "    divisions['southwest'] = ['DAL','HOU','MEM','NOP','SAS']\n",
    "    \n",
    "    df['Division'] = 'west'\n",
    "    \n",
    "    for i in divisions:\n",
    "        df['Division'].where(~df['Team'].isin(divisions[i]),i,inplace=True)\n",
    "    return df"
   ]
  },
  {
   "cell_type": "code",
   "execution_count": 9,
   "id": "aa74bd82",
   "metadata": {},
   "outputs": [],
   "source": [
    "league = map_division(league)\n",
    "league = map_conference(league)"
   ]
  },
  {
   "cell_type": "code",
   "execution_count": 10,
   "id": "5f94eb0e",
   "metadata": {},
   "outputs": [],
   "source": [
    "def calculate_features(df):\n",
    "    df['eFG'] = 100*(df['FGM']+.5*df['PM3'])/df['FGA']\n",
    "    df['PM2'] = df['FGM'] - df['PM3']\n",
    "\n",
    "    return df"
   ]
  },
  {
   "cell_type": "code",
   "execution_count": 11,
   "id": "9b707b9a",
   "metadata": {},
   "outputs": [],
   "source": [
    "league = calculate_features(league)"
   ]
  },
  {
   "cell_type": "code",
   "execution_count": 12,
   "id": "8e122508",
   "metadata": {},
   "outputs": [],
   "source": [
    "league_avg = league.dropna().mean(numeric_only=True)"
   ]
  },
  {
   "cell_type": "code",
   "execution_count": null,
   "id": "433af668",
   "metadata": {},
   "outputs": [],
   "source": []
  },
  {
   "cell_type": "code",
   "execution_count": 13,
   "id": "34318ed5",
   "metadata": {},
   "outputs": [],
   "source": [
    "div_avg = league.groupby('Division').mean()"
   ]
  },
  {
   "cell_type": "code",
   "execution_count": 14,
   "id": "98df1e4d",
   "metadata": {},
   "outputs": [],
   "source": [
    "det = league.loc[league['Team']=='DET']"
   ]
  },
  {
   "cell_type": "code",
   "execution_count": 15,
   "id": "b0793ef6",
   "metadata": {},
   "outputs": [],
   "source": [
    "conf_avg = league.groupby('Conference').mean()"
   ]
  },
  {
   "cell_type": "code",
   "execution_count": 16,
   "id": "d88a02da",
   "metadata": {},
   "outputs": [],
   "source": [
    "det_avg = det.mean(numeric_only=True)"
   ]
  },
  {
   "cell_type": "code",
   "execution_count": 17,
   "id": "13906b4d",
   "metadata": {},
   "outputs": [],
   "source": [
    "team_avg = league.groupby(\"Team\").mean()"
   ]
  },
  {
   "cell_type": "code",
   "execution_count": 18,
   "id": "f1d359c9",
   "metadata": {},
   "outputs": [],
   "source": [
    "def teams(names):\n",
    "    options = []\n",
    "    for i in names:\n",
    "        d = {}\n",
    "        d[\"label\"] = i\n",
    "        d[\"value\"] = i\n",
    "        options.append(d)\n",
    "        \n",
    "    return options"
   ]
  },
  {
   "cell_type": "code",
   "execution_count": 19,
   "id": "8e5ec029",
   "metadata": {},
   "outputs": [],
   "source": [
    "def slider():\n",
    "    slider = dcc.Slider(\n",
    "        id = 'n_players',\n",
    "        min = 1,\n",
    "        max = 15,\n",
    "        value = 5,\n",
    "        marks = {year: str(year) for year in range(1,16)},\n",
    "        step = None,\n",
    "        tooltip={'always_visible':False}\n",
    "    )\n",
    "    return slider"
   ]
  },
  {
   "cell_type": "code",
   "execution_count": 20,
   "id": "50b20e9d",
   "metadata": {},
   "outputs": [],
   "source": [
    "def opposition_select(opps, i, t):\n",
    "    opts = teams(opps)\n",
    "    d = dcc.Dropdown(options=opts,value=t,id=i,multi=False)\n",
    "    \n",
    "    return d"
   ]
  },
  {
   "cell_type": "code",
   "execution_count": 21,
   "id": "23761fc8",
   "metadata": {},
   "outputs": [],
   "source": [
    "import dash_daq as daq"
   ]
  },
  {
   "cell_type": "code",
   "execution_count": 22,
   "id": "c29cf73e",
   "metadata": {},
   "outputs": [],
   "source": [
    "def update_df(opp,n=5):\n",
    "    opps = league.loc[league['Team']==opp].groupby('Name',as_index=False).mean().sort_values('PTS',ascending=False)\n",
    "    opps['Team'] = opp\n",
    "    \n",
    "    d = det.groupby('Name',as_index=False).mean().sort_values('PTS',ascending=False)\n",
    "    d['Team'] = 'DET'\n",
    "    \n",
    "    df = pd.concat((d.head(n),opps.head(n)))\n",
    "    \n",
    "    df= df.round(1)\n",
    "    \n",
    "    return df"
   ]
  },
  {
   "cell_type": "code",
   "execution_count": 23,
   "id": "4b4afcb9",
   "metadata": {},
   "outputs": [],
   "source": [
    "def toggle_names(df,player_lab=True):\n",
    "    \n",
    "    if(player_lab):\n",
    "        fig = px.scatter(y=\"PM3\", x=\"PM2\",color=\"eFG\",size = \"AST\",data_frame = df,symbol='Team',\n",
    "                         labels=dict(PM3='Average 3PM',PM2='Average 2PM',eFG='eFG%'),range_x=(-.2,df['PM2'].max()+2),\n",
    "                         text=\"Name\", hover_data = ['PM3','PM2','eFG','AST','Name'],\n",
    "                         color_continuous_scale='RdBu_r',range_y=(-.2,df['PM3'].max()+1))\n",
    "        fig.update_traces(textposition='top center')\n",
    "\n",
    "    else:\n",
    "        fig = px.scatter(y=\"PM3\", x=\"PM2\",color=\"eFG\",size = \"AST\",data_frame = df,symbol='Team',\n",
    "                         labels=dict(PM3='Average 3PM',PM2='Average 2PM',eFG='eFG%'),range_x=(-.2,df['PM2'].max()+2),\n",
    "                         hover_data = ['PM3','PM2','eFG','AST','Name'],\n",
    "                         color_continuous_scale='RdBu_r',range_y=(-.2,df['PM3'].max()+1))\n",
    "        \n",
    "    return fig"
   ]
  },
  {
   "cell_type": "code",
   "execution_count": 24,
   "id": "0ebb37ca",
   "metadata": {},
   "outputs": [],
   "source": [
    "def add_lines(fig,grouping='League'):\n",
    "    avgs = {'League':league_avg}\n",
    "    \n",
    "    fig.add_hline(avgs[grouping]['PM3'],annotation_text = grouping+' average',\n",
    "                  annotation_position='right top',line_dash='dash')\n",
    "    fig.add_vline(avgs[grouping]['PM2'],annotation_text= grouping+' average',\n",
    "                  annotation_position='right top',line_dash='dash')\n",
    "    \n",
    "    return fig"
   ]
  },
  {
   "cell_type": "code",
   "execution_count": 25,
   "id": "68bbdce9",
   "metadata": {},
   "outputs": [],
   "source": [
    "def left(opp_teams):\n",
    "    d = html.Div([html.Label(\"Opposition: \", style = {'textAlign': 'center'}),\n",
    "                    opposition_select(opp_teams,'drpdwn','ATL')])#'textAlign': 'left',\n",
    "    \n",
    "    return d"
   ]
  },
  {
   "cell_type": "code",
   "execution_count": 26,
   "id": "49a7518c",
   "metadata": {},
   "outputs": [],
   "source": [
    "def right(t):\n",
    "    d = html.Div([html.Label(\"Number of players for each team: \", style = {'textAlign': 'center'}),t],)\n",
    "    return d"
   ]
  },
  {
   "cell_type": "code",
   "execution_count": 29,
   "id": "70409e54",
   "metadata": {},
   "outputs": [],
   "source": [
    "for i in league['Name'].unique():  \n",
    "    league.loc[league['Name']==i,'Team'] = league.loc[league['Name']==i,'Team'].unique()[0]"
   ]
  },
  {
   "cell_type": "code",
   "execution_count": 33,
   "id": "98adce16",
   "metadata": {},
   "outputs": [
    {
     "data": {
      "text/plain": [
       "Index(['Name', 'PTS', 'FGM', 'FGA', 'PM3', 'PA3', 'AST', 'Game_day', 'Team',\n",
       "       'Division', 'Conference', 'eFG', 'PM2'],\n",
       "      dtype='object')"
      ]
     },
     "execution_count": 33,
     "metadata": {},
     "output_type": "execute_result"
    }
   ],
   "source": [
    "league.columns"
   ]
  },
  {
   "cell_type": "code",
   "execution_count": 35,
   "id": "71312206",
   "metadata": {},
   "outputs": [],
   "source": [
    "league.to_csv('../../Pistons_dash.csv',index=False,columns=['Name', 'PTS', 'FGM', 'FGA', 'PM3', 'PA3', 'AST', 'Team'])"
   ]
  },
  {
   "cell_type": "code",
   "execution_count": null,
   "id": "83d6e40c",
   "metadata": {},
   "outputs": [],
   "source": [
    "def drop_players(league):"
   ]
  },
  {
   "cell_type": "code",
   "execution_count": 27,
   "id": "26084c02",
   "metadata": {},
   "outputs": [],
   "source": [
    "opps = league.loc[league['Team']=='ATL'].groupby('Name',as_index=False).mean().sort_values('PTS',ascending=False)\n",
    "opps['Team'] = 'ATL'\n",
    "d = det.groupby('Name',as_index=False).mean().sort_values('PTS',ascending=False)\n",
    "d['Team'] = 'DET'\n",
    "df = pd.concat((d.head(5),opps.head(5)))\n",
    "df= df.round(1)\n",
    "\n",
    "fig = toggle_names(df)\n",
    "fig.update_layout(title =\"Bubble size = Average AST\",\n",
    "                  title_x = 0.5,coloraxis_colorbar_x=1.15)\n",
    "\n",
    "\n",
    "\n",
    "fig.update_xaxes(showgrid=False)\n",
    "fig.update_yaxes(showgrid=False)\n",
    "\n",
    "fig.update_traces(textposition='top center')\n",
    "\n",
    "fig = add_lines(fig)\n",
    "\n",
    "opp_teams = [i for i in league['Team'].unique() if i != \"DET\"]\n",
    "opp_teams = sorted(opp_teams)\n",
    "\n",
    "app = JupyterDash(__name__)\n",
    "\n",
    "t = daq.ToggleSwitch(value=True, vertical=False,label='Toggle player labels',id='player_lab',size=32)\n",
    "\n",
    "buttons_style = dict(width='45%',display='inline-block',height='5%')\n",
    "app.layout = html.Div(className=\"p-heading\",\n",
    "                      children=[html.H1(children=\"Detroit Pistons field goal production\"),\n",
    "                                html.Div(children=[html.Div(children=[left(opp_teams)],\n",
    "                                                    style=buttons_style),\n",
    "                                                    html.Div(children=[right(slider())],\n",
    "                                                     style=buttons_style)],\n",
    "                                         style={'height':'24%'}),\n",
    "                                html.Div([t, dcc.Graph(figure = fig, id = 'graph')])\n",
    "])\n",
    "\n",
    "@app.callback(\n",
    "    Output('graph','figure'),\n",
    "    Input('drpdwn','value'),\n",
    "    Input('player_lab','value'),\n",
    "    Input('n_players','value'))\n",
    "def update_figure(opp,player_lab,n):\n",
    "    \n",
    "    df = update_df(opp,n)\n",
    "\n",
    "    fig = toggle_names(df,player_lab)\n",
    "    \n",
    "    fig.update_layout(title =\"Bubble size = Average AST\",title_x = 0.5,\n",
    "                      coloraxis_colorbar_x=1.15)\n",
    "\n",
    "    fig.update_xaxes(showgrid=False)\n",
    "    fig.update_yaxes(showgrid=False)\n",
    "    fig = add_lines(fig)\n",
    "\n",
    "    \n",
    "    return fig"
   ]
  },
  {
   "cell_type": "code",
   "execution_count": 28,
   "id": "bc988a39",
   "metadata": {},
   "outputs": [
    {
     "name": "stdout",
     "output_type": "stream",
     "text": [
      "Dash app running on http://127.0.0.1:8050/\n"
     ]
    }
   ],
   "source": [
    "app.run_server(mode = \"external\")"
   ]
  },
  {
   "cell_type": "code",
   "execution_count": 29,
   "id": "415023a7",
   "metadata": {},
   "outputs": [
    {
     "data": {
      "text/html": [
       "<div>\n",
       "<style scoped>\n",
       "    .dataframe tbody tr th:only-of-type {\n",
       "        vertical-align: middle;\n",
       "    }\n",
       "\n",
       "    .dataframe tbody tr th {\n",
       "        vertical-align: top;\n",
       "    }\n",
       "\n",
       "    .dataframe thead th {\n",
       "        text-align: right;\n",
       "    }\n",
       "</style>\n",
       "<table border=\"1\" class=\"dataframe\">\n",
       "  <thead>\n",
       "    <tr style=\"text-align: right;\">\n",
       "      <th></th>\n",
       "      <th>Name</th>\n",
       "      <th>PTS</th>\n",
       "      <th>FGM</th>\n",
       "      <th>FGA</th>\n",
       "      <th>PM3</th>\n",
       "      <th>PA3</th>\n",
       "      <th>AST</th>\n",
       "      <th>Game_day</th>\n",
       "      <th>Team</th>\n",
       "      <th>Division</th>\n",
       "      <th>Conference</th>\n",
       "      <th>eFG</th>\n",
       "      <th>PM2</th>\n",
       "    </tr>\n",
       "  </thead>\n",
       "  <tbody>\n",
       "    <tr>\n",
       "      <th>0</th>\n",
       "      <td>Payton Pritchard</td>\n",
       "      <td>14</td>\n",
       "      <td>5</td>\n",
       "      <td>8</td>\n",
       "      <td>4</td>\n",
       "      <td>7</td>\n",
       "      <td>3</td>\n",
       "      <td>2022-04-03</td>\n",
       "      <td>BOS</td>\n",
       "      <td>atlantic</td>\n",
       "      <td>east</td>\n",
       "      <td>87.500000</td>\n",
       "      <td>1</td>\n",
       "    </tr>\n",
       "    <tr>\n",
       "      <th>1</th>\n",
       "      <td>Grant Williams</td>\n",
       "      <td>16</td>\n",
       "      <td>6</td>\n",
       "      <td>7</td>\n",
       "      <td>4</td>\n",
       "      <td>5</td>\n",
       "      <td>0</td>\n",
       "      <td>2022-04-03</td>\n",
       "      <td>BOS</td>\n",
       "      <td>atlantic</td>\n",
       "      <td>east</td>\n",
       "      <td>114.285714</td>\n",
       "      <td>2</td>\n",
       "    </tr>\n",
       "    <tr>\n",
       "      <th>2</th>\n",
       "      <td>Derrick White</td>\n",
       "      <td>17</td>\n",
       "      <td>6</td>\n",
       "      <td>7</td>\n",
       "      <td>3</td>\n",
       "      <td>3</td>\n",
       "      <td>3</td>\n",
       "      <td>2022-04-03</td>\n",
       "      <td>BOS</td>\n",
       "      <td>atlantic</td>\n",
       "      <td>east</td>\n",
       "      <td>107.142857</td>\n",
       "      <td>3</td>\n",
       "    </tr>\n",
       "    <tr>\n",
       "      <th>3</th>\n",
       "      <td>Jaylen Brown</td>\n",
       "      <td>32</td>\n",
       "      <td>12</td>\n",
       "      <td>17</td>\n",
       "      <td>4</td>\n",
       "      <td>5</td>\n",
       "      <td>5</td>\n",
       "      <td>2022-04-03</td>\n",
       "      <td>BOS</td>\n",
       "      <td>atlantic</td>\n",
       "      <td>east</td>\n",
       "      <td>82.352941</td>\n",
       "      <td>8</td>\n",
       "    </tr>\n",
       "    <tr>\n",
       "      <th>4</th>\n",
       "      <td>Al Horford</td>\n",
       "      <td>10</td>\n",
       "      <td>4</td>\n",
       "      <td>9</td>\n",
       "      <td>2</td>\n",
       "      <td>6</td>\n",
       "      <td>6</td>\n",
       "      <td>2022-04-03</td>\n",
       "      <td>BOS</td>\n",
       "      <td>atlantic</td>\n",
       "      <td>east</td>\n",
       "      <td>55.555556</td>\n",
       "      <td>2</td>\n",
       "    </tr>\n",
       "  </tbody>\n",
       "</table>\n",
       "</div>"
      ],
      "text/plain": [
       "               Name  PTS  FGM  FGA  PM3  PA3  AST   Game_day Team  Division  \\\n",
       "0  Payton Pritchard   14    5    8    4    7    3 2022-04-03  BOS  atlantic   \n",
       "1    Grant Williams   16    6    7    4    5    0 2022-04-03  BOS  atlantic   \n",
       "2     Derrick White   17    6    7    3    3    3 2022-04-03  BOS  atlantic   \n",
       "3      Jaylen Brown   32   12   17    4    5    5 2022-04-03  BOS  atlantic   \n",
       "4        Al Horford   10    4    9    2    6    6 2022-04-03  BOS  atlantic   \n",
       "\n",
       "  Conference         eFG  PM2  \n",
       "0       east   87.500000    1  \n",
       "1       east  114.285714    2  \n",
       "2       east  107.142857    3  \n",
       "3       east   82.352941    8  \n",
       "4       east   55.555556    2  "
      ]
     },
     "execution_count": 29,
     "metadata": {},
     "output_type": "execute_result"
    }
   ],
   "source": [
    "league.head()"
   ]
  },
  {
   "cell_type": "code",
   "execution_count": 31,
   "id": "267f56be",
   "metadata": {},
   "outputs": [],
   "source": [
    "league[league.columns[0:8]].to_csv('Pistons_dash.csv',index=False)"
   ]
  },
  {
   "cell_type": "code",
   "execution_count": null,
   "id": "e901b57b",
   "metadata": {},
   "outputs": [],
   "source": [
    "# fig.add_scatter(y=other[\"PM3\"], x=other[\"PM2\"],color=other[\"eFG\"],size = other[\"AST\"])#,\n",
    "#                 color_continuous_scale='Blues')\n",
    "\n",
    "# for k in df['Team'].unique():\n",
    "#     temp = df.loc[df['Team']==k].sort_values(\"PTS\",ascending=False)\n",
    "#     for i in range(10):\n",
    "#         fig.add_annotation(text=temp.index[i],x=temp.loc[temp.index[i],'PM2'],\n",
    "#                            y=temp.loc[temp.index[i],'PM3'])\n",
    "\n",
    "\n",
    "# fig = go.Figure()\n",
    "\n",
    "# # Team averages\n",
    "# temp = det.groupby('Name').mean()\n",
    "# opps = league.loc[league['Team']=='BKN'].groupby('Name').mean()\n",
    "\n",
    "# # size limit definition\n",
    "# upper_limit = max(temp['AST'].max(),opps['AST'].max())\n",
    "# sizeref = 2*upper_limit/100\n",
    "# sizemin = 10\n",
    "\n",
    "# colorbar=dict(tickvals = list(range(0,100,10)),ticktext=list(range(0,100,10)))\n",
    "\n",
    "# # plot DET stats\n",
    "# marker = dict(size=temp['AST'],sizeref=sizeref,sizemin=sizemin,\n",
    "#               color=temp['eFG'],colorscale='Blues',showscale=True,colorbar=colorbar)\n",
    "\n",
    "# fig.add_trace(go.Scatter(y=temp[\"PM3\"], x=temp[\"PM2\"],mode='markers',\n",
    "#                          name='DET',marker=marker))\n",
    "\n",
    "# # plot opposition stats\n",
    "# marker = dict(size=opps['AST'],sizeref=sizeref,sizemin=sizemin,colorbar=colorbar,\n",
    "#               color=opps['eFG'],colorscale='Reds',showscale=True,colorbar_x=1.15)\n",
    "\n",
    "# fig.add_trace(go.Scatter(y=opps[\"PM3\"], x=opps[\"PM2\"],mode='markers',name='POR',marker = marker))\n",
    "\n",
    "# # plot league averages\n",
    "# fig.add_hline(y=league_avg['PM3'])\n",
    "# fig.add_vline(x=league_avg['PM2'])"
   ]
  }
 ],
 "metadata": {
  "kernelspec": {
   "display_name": "Python 3",
   "language": "python",
   "name": "python3"
  },
  "language_info": {
   "codemirror_mode": {
    "name": "ipython",
    "version": 3
   },
   "file_extension": ".py",
   "mimetype": "text/x-python",
   "name": "python",
   "nbconvert_exporter": "python",
   "pygments_lexer": "ipython3",
   "version": "3.7.3"
  }
 },
 "nbformat": 4,
 "nbformat_minor": 5
}
