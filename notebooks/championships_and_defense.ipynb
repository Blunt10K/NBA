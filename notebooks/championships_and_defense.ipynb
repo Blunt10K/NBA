{
 "cells": [
  {
   "cell_type": "markdown",
   "id": "d4cb2647",
   "metadata": {},
   "source": [
    "# Does defense actually win championships?\n",
    "\n",
    "In this analysis, we will attempt to answer this question with defensive team statistics on the NBA championships from the 1996-97 season up to the 2020-21 season. These are different eras which would help identify if there is a consistent underlying pattern that is fundamental in the NBA even as the style of play changes.\n",
    "\n",
    "The relevence of this analysis is to provide evidence to coaches deciding on their next draft pick or trade should be geared towards a more defensive player. It is also relevent to players as it can help illustrate how important defense is to their championship aspirations.\n",
    "\n",
    "Following analyses will also address attacking and the combination of attacking and defense."
   ]
  },
  {
   "cell_type": "code",
   "execution_count": 13,
   "id": "e05dd46b",
   "metadata": {},
   "outputs": [],
   "source": [
    "import sqlalchemy\n",
    "import pandas as pd\n",
    "from os import environ\n",
    "from time import localtime\n",
    "\n",
    "engine = sqlalchemy.create_engine(\"mariadb+mariadbconnector://\"+environ.get(\"USER\")+\\\n",
    "                                  \":\"+environ.get(\"PSWD\")+\"@127.0.0.1:3306/nba\")\n",
    "\n"
   ]
  },
  {
   "cell_type": "markdown",
   "id": "a4c5a00a",
   "metadata": {},
   "source": [
    "### The first step is to collect the average team stats reorded in the playoffs from the database.\n",
    "\n",
    "Since we are interested in team's winning the championship in relation to the defesive statistics, we will only collect the defensive statistics, wins and the team names. The teams can then be ordered by the number of wins with respect to the season the teams participated in\n",
    "\n",
    "We will therefore take:\n",
    "- The playoff season that follows the format \"004YY\" where YY is the year the season starts (SEASON_ID)\n",
    "- The team names of the participating teams (TEAM) and: \n",
    "- Their wins (W)\n",
    "- Their average rebounds (REB)\n",
    "- Their average steals (STL)\n",
    "- Their average blocks (BLK)"
   ]
  },
  {
   "cell_type": "code",
   "execution_count": 32,
   "id": "f7f10d3a",
   "metadata": {},
   "outputs": [],
   "source": [
    "fields = \"SEASON_ID, Teams.Name as TEAM, W, REB, STL, BLK \"\n",
    "\n",
    "join =  \"Team_standings INNER JOIN Teams on Team_standings.TEAM_ID = Teams.ID \"\n",
    "\n",
    "condition = \"where SEASON_ID LIKE '004%' \"\n",
    "\n",
    "select = \"SELECT \"+ fields + \"FROM \" + join + condition + \"order by SEASON_ID asc, W desc\"\n",
    "\n",
    "df = pd.read_sql(select, engine)"
   ]
  },
  {
   "cell_type": "code",
   "execution_count": 33,
   "id": "c6b1b23f",
   "metadata": {},
   "outputs": [],
   "source": [
    "def build_year(year):\n",
    "    if(2000+year> localtime().tm_year):\n",
    "        return 1900+year\n",
    "    return 2000+year"
   ]
  },
  {
   "cell_type": "markdown",
   "id": "538691ff",
   "metadata": {},
   "source": [
    "## Since this analysis is on championships, we consider the teams that appear in the NBA finals from the 1996-97 season to the 2020-21 season."
   ]
  },
  {
   "cell_type": "code",
   "execution_count": 16,
   "id": "ba127f1c",
   "metadata": {},
   "outputs": [],
   "source": [
    "def segment_data(df):\n",
    "    new_df  = pd.DataFrame()\n",
    "    seasons = df['SEASON_ID'].unique()\n",
    "    \n",
    "    for s in seasons:\n",
    "        d = df.loc[df['SEASON_ID'] == s].head(2)\n",
    "        d[\"POSITION\"] = list(range(1,len(d)+1))\n",
    "        d[\"YEAR\"] = build_year(int(s[-2:]))\n",
    "        new_df = pd.concat([new_df,d])\n",
    "        \n",
    "    return new_df.sort_values([\"YEAR\",\"POSITION\"],ascending= [True,False])"
   ]
  },
  {
   "cell_type": "code",
   "execution_count": 42,
   "id": "f9294913",
   "metadata": {},
   "outputs": [],
   "source": [
    "df = segment_data(df)"
   ]
  },
  {
   "cell_type": "code",
   "execution_count": 43,
   "id": "6f7a1cf0",
   "metadata": {},
   "outputs": [
    {
     "data": {
      "text/html": [
       "<div>\n",
       "<style scoped>\n",
       "    .dataframe tbody tr th:only-of-type {\n",
       "        vertical-align: middle;\n",
       "    }\n",
       "\n",
       "    .dataframe tbody tr th {\n",
       "        vertical-align: top;\n",
       "    }\n",
       "\n",
       "    .dataframe thead th {\n",
       "        text-align: right;\n",
       "    }\n",
       "</style>\n",
       "<table border=\"1\" class=\"dataframe\">\n",
       "  <thead>\n",
       "    <tr style=\"text-align: right;\">\n",
       "      <th></th>\n",
       "      <th>SEASON_ID</th>\n",
       "      <th>TEAM</th>\n",
       "      <th>W</th>\n",
       "      <th>REB</th>\n",
       "      <th>STL</th>\n",
       "      <th>BLK</th>\n",
       "      <th>POSITION</th>\n",
       "      <th>YEAR</th>\n",
       "    </tr>\n",
       "  </thead>\n",
       "  <tbody>\n",
       "    <tr>\n",
       "      <th>337</th>\n",
       "      <td>00496</td>\n",
       "      <td>UTA</td>\n",
       "      <td>13</td>\n",
       "      <td>41.8</td>\n",
       "      <td>7.4</td>\n",
       "      <td>4.9</td>\n",
       "      <td>2</td>\n",
       "      <td>1996</td>\n",
       "    </tr>\n",
       "    <tr>\n",
       "      <th>336</th>\n",
       "      <td>00496</td>\n",
       "      <td>CHI</td>\n",
       "      <td>15</td>\n",
       "      <td>43.5</td>\n",
       "      <td>8.5</td>\n",
       "      <td>4.8</td>\n",
       "      <td>1</td>\n",
       "      <td>1996</td>\n",
       "    </tr>\n",
       "    <tr>\n",
       "      <th>353</th>\n",
       "      <td>00497</td>\n",
       "      <td>UTA</td>\n",
       "      <td>13</td>\n",
       "      <td>39.8</td>\n",
       "      <td>6.5</td>\n",
       "      <td>4.9</td>\n",
       "      <td>2</td>\n",
       "      <td>1997</td>\n",
       "    </tr>\n",
       "    <tr>\n",
       "      <th>352</th>\n",
       "      <td>00497</td>\n",
       "      <td>CHI</td>\n",
       "      <td>15</td>\n",
       "      <td>41.0</td>\n",
       "      <td>9.0</td>\n",
       "      <td>4.5</td>\n",
       "      <td>1</td>\n",
       "      <td>1997</td>\n",
       "    </tr>\n",
       "    <tr>\n",
       "      <th>369</th>\n",
       "      <td>00498</td>\n",
       "      <td>NYK</td>\n",
       "      <td>12</td>\n",
       "      <td>39.3</td>\n",
       "      <td>7.6</td>\n",
       "      <td>3.9</td>\n",
       "      <td>2</td>\n",
       "      <td>1998</td>\n",
       "    </tr>\n",
       "  </tbody>\n",
       "</table>\n",
       "</div>"
      ],
      "text/plain": [
       "    SEASON_ID TEAM   W   REB  STL  BLK  POSITION  YEAR\n",
       "337     00496  UTA  13  41.8  7.4  4.9         2  1996\n",
       "336     00496  CHI  15  43.5  8.5  4.8         1  1996\n",
       "353     00497  UTA  13  39.8  6.5  4.9         2  1997\n",
       "352     00497  CHI  15  41.0  9.0  4.5         1  1997\n",
       "369     00498  NYK  12  39.3  7.6  3.9         2  1998"
      ]
     },
     "execution_count": 43,
     "metadata": {},
     "output_type": "execute_result"
    }
   ],
   "source": [
    "df.head()"
   ]
  },
  {
   "cell_type": "markdown",
   "id": "8bdf9ee5",
   "metadata": {},
   "source": [
    "## Of the two teams, we will determine the percentage of teams that have won in the NBA finals given that the team that wins:\n",
    "\n",
    "- Does not have any defensive stats higher than the losing team\n",
    "- Has one of the defensive stats higher than the losing team\n",
    "- Has two defensive stats higher than the losing team\n",
    "- Has all defensive stats higher than the losing teams\n",
    "\n",
    "#### So the winning teams with one or none of the defensive stats higher had a weaker defensive performance and those with two or three defensive stats higher had a stronger defensive performance, with a more complete defense. \n",
    "\n",
    "## This will show if a more complete defense likely leads to a win in the Finals. "
   ]
  },
  {
   "cell_type": "code",
   "execution_count": null,
   "id": "1a77d31e",
   "metadata": {},
   "outputs": [],
   "source": []
  },
  {
   "cell_type": "markdown",
   "id": "fde0165b",
   "metadata": {},
   "source": [
    "## We calculate the differences in the defensive stats for each year's NBA finalists. Positive differences mean that the winning team had higher defensive stats then the runner up. Negative diffences mean the winning team had lower defensive stats than the runner up"
   ]
  },
  {
   "cell_type": "code",
   "execution_count": 44,
   "id": "2c58388a",
   "metadata": {},
   "outputs": [],
   "source": [
    "diffs = df.groupby(\"SEASON_ID\").diff()"
   ]
  },
  {
   "cell_type": "code",
   "execution_count": 94,
   "id": "ec125e9b",
   "metadata": {},
   "outputs": [
    {
     "data": {
      "text/html": [
       "<div>\n",
       "<style scoped>\n",
       "    .dataframe tbody tr th:only-of-type {\n",
       "        vertical-align: middle;\n",
       "    }\n",
       "\n",
       "    .dataframe tbody tr th {\n",
       "        vertical-align: top;\n",
       "    }\n",
       "\n",
       "    .dataframe thead th {\n",
       "        text-align: right;\n",
       "    }\n",
       "</style>\n",
       "<table border=\"1\" class=\"dataframe\">\n",
       "  <thead>\n",
       "    <tr style=\"text-align: right;\">\n",
       "      <th></th>\n",
       "      <th>SEASON_ID</th>\n",
       "      <th>TEAM</th>\n",
       "      <th>W</th>\n",
       "      <th>REB</th>\n",
       "      <th>STL</th>\n",
       "      <th>BLK</th>\n",
       "      <th>POSITION</th>\n",
       "      <th>YEAR</th>\n",
       "    </tr>\n",
       "  </thead>\n",
       "  <tbody>\n",
       "    <tr>\n",
       "      <th>337</th>\n",
       "      <td>00496</td>\n",
       "      <td>UTA</td>\n",
       "      <td>13</td>\n",
       "      <td>41.8</td>\n",
       "      <td>7.4</td>\n",
       "      <td>4.9</td>\n",
       "      <td>2</td>\n",
       "      <td>1996</td>\n",
       "    </tr>\n",
       "    <tr>\n",
       "      <th>336</th>\n",
       "      <td>00496</td>\n",
       "      <td>CHI</td>\n",
       "      <td>15</td>\n",
       "      <td>43.5</td>\n",
       "      <td>8.5</td>\n",
       "      <td>4.8</td>\n",
       "      <td>1</td>\n",
       "      <td>1996</td>\n",
       "    </tr>\n",
       "    <tr>\n",
       "      <th>353</th>\n",
       "      <td>00497</td>\n",
       "      <td>UTA</td>\n",
       "      <td>13</td>\n",
       "      <td>39.8</td>\n",
       "      <td>6.5</td>\n",
       "      <td>4.9</td>\n",
       "      <td>2</td>\n",
       "      <td>1997</td>\n",
       "    </tr>\n",
       "    <tr>\n",
       "      <th>352</th>\n",
       "      <td>00497</td>\n",
       "      <td>CHI</td>\n",
       "      <td>15</td>\n",
       "      <td>41.0</td>\n",
       "      <td>9.0</td>\n",
       "      <td>4.5</td>\n",
       "      <td>1</td>\n",
       "      <td>1997</td>\n",
       "    </tr>\n",
       "    <tr>\n",
       "      <th>369</th>\n",
       "      <td>00498</td>\n",
       "      <td>NYK</td>\n",
       "      <td>12</td>\n",
       "      <td>39.3</td>\n",
       "      <td>7.6</td>\n",
       "      <td>3.9</td>\n",
       "      <td>2</td>\n",
       "      <td>1998</td>\n",
       "    </tr>\n",
       "  </tbody>\n",
       "</table>\n",
       "</div>"
      ],
      "text/plain": [
       "    SEASON_ID TEAM   W   REB  STL  BLK  POSITION  YEAR\n",
       "337     00496  UTA  13  41.8  7.4  4.9         2  1996\n",
       "336     00496  CHI  15  43.5  8.5  4.8         1  1996\n",
       "353     00497  UTA  13  39.8  6.5  4.9         2  1997\n",
       "352     00497  CHI  15  41.0  9.0  4.5         1  1997\n",
       "369     00498  NYK  12  39.3  7.6  3.9         2  1998"
      ]
     },
     "execution_count": 94,
     "metadata": {},
     "output_type": "execute_result"
    }
   ],
   "source": [
    "df.head()"
   ]
  },
  {
   "cell_type": "code",
   "execution_count": 50,
   "id": "74a89648",
   "metadata": {},
   "outputs": [],
   "source": [
    "diffs[\"SEASON_ID\"] = df[\"SEASON_ID\"]\n",
    "diffs[\"TEAM\"] = df.loc[df[\"POSITION\"]==1][\"TEAM\"]"
   ]
  },
  {
   "cell_type": "code",
   "execution_count": 51,
   "id": "1d543748",
   "metadata": {},
   "outputs": [],
   "source": [
    "diffs = diffs.dropna()"
   ]
  },
  {
   "cell_type": "code",
   "execution_count": 52,
   "id": "17aee4bf",
   "metadata": {},
   "outputs": [],
   "source": [
    "diffs = diffs[[\"REB\",\"STL\",\"BLK\",\"SEASON_ID\",\"TEAM\"]]"
   ]
  },
  {
   "cell_type": "code",
   "execution_count": 53,
   "id": "48fafe08",
   "metadata": {},
   "outputs": [
    {
     "data": {
      "text/html": [
       "<div>\n",
       "<style scoped>\n",
       "    .dataframe tbody tr th:only-of-type {\n",
       "        vertical-align: middle;\n",
       "    }\n",
       "\n",
       "    .dataframe tbody tr th {\n",
       "        vertical-align: top;\n",
       "    }\n",
       "\n",
       "    .dataframe thead th {\n",
       "        text-align: right;\n",
       "    }\n",
       "</style>\n",
       "<table border=\"1\" class=\"dataframe\">\n",
       "  <thead>\n",
       "    <tr style=\"text-align: right;\">\n",
       "      <th></th>\n",
       "      <th>REB</th>\n",
       "      <th>STL</th>\n",
       "      <th>BLK</th>\n",
       "      <th>SEASON_ID</th>\n",
       "      <th>TEAM</th>\n",
       "    </tr>\n",
       "  </thead>\n",
       "  <tbody>\n",
       "    <tr>\n",
       "      <th>336</th>\n",
       "      <td>1.7</td>\n",
       "      <td>1.1</td>\n",
       "      <td>-0.1</td>\n",
       "      <td>00496</td>\n",
       "      <td>CHI</td>\n",
       "    </tr>\n",
       "    <tr>\n",
       "      <th>352</th>\n",
       "      <td>1.2</td>\n",
       "      <td>2.5</td>\n",
       "      <td>-0.4</td>\n",
       "      <td>00497</td>\n",
       "      <td>CHI</td>\n",
       "    </tr>\n",
       "    <tr>\n",
       "      <th>368</th>\n",
       "      <td>0.9</td>\n",
       "      <td>-0.3</td>\n",
       "      <td>1.9</td>\n",
       "      <td>00498</td>\n",
       "      <td>SAS</td>\n",
       "    </tr>\n",
       "    <tr>\n",
       "      <th>384</th>\n",
       "      <td>2.8</td>\n",
       "      <td>1.2</td>\n",
       "      <td>1.4</td>\n",
       "      <td>00499</td>\n",
       "      <td>LAL</td>\n",
       "    </tr>\n",
       "    <tr>\n",
       "      <th>0</th>\n",
       "      <td>4.3</td>\n",
       "      <td>1.2</td>\n",
       "      <td>0.9</td>\n",
       "      <td>00400</td>\n",
       "      <td>LAL</td>\n",
       "    </tr>\n",
       "  </tbody>\n",
       "</table>\n",
       "</div>"
      ],
      "text/plain": [
       "     REB  STL  BLK SEASON_ID TEAM\n",
       "336  1.7  1.1 -0.1     00496  CHI\n",
       "352  1.2  2.5 -0.4     00497  CHI\n",
       "368  0.9 -0.3  1.9     00498  SAS\n",
       "384  2.8  1.2  1.4     00499  LAL\n",
       "0    4.3  1.2  0.9     00400  LAL"
      ]
     },
     "execution_count": 53,
     "metadata": {},
     "output_type": "execute_result"
    }
   ],
   "source": [
    "diffs.head()"
   ]
  },
  {
   "cell_type": "markdown",
   "id": "bff8b021",
   "metadata": {},
   "source": [
    "## With the differences calculated, we can count the number of stats the champions had higher than the runner up."
   ]
  },
  {
   "cell_type": "code",
   "execution_count": 54,
   "id": "6d1f1213",
   "metadata": {},
   "outputs": [],
   "source": [
    "def count_higher(df,stats,number_higher):\n",
    "    count = 0\n",
    "    for i in df[stats].iterrows():\n",
    "        higher = 0\n",
    "        idx = 0\n",
    "        while(idx<len(i[1])):\n",
    "            if(i[1][idx] >= 0):\n",
    "                higher+=1\n",
    "            idx+=1\n",
    "        \n",
    "        if(higher == number_higher):\n",
    "            count+=1\n",
    "            \n",
    "    return count"
   ]
  },
  {
   "cell_type": "code",
   "execution_count": 55,
   "id": "17d0c22e",
   "metadata": {},
   "outputs": [],
   "source": [
    "total_finals = len(diffs)\n",
    "stats = [\"REB\",\"STL\",\"BLK\"]"
   ]
  },
  {
   "cell_type": "code",
   "execution_count": 82,
   "id": "10e9031e",
   "metadata": {},
   "outputs": [],
   "source": [
    "highs = []\n",
    "percentages = []\n",
    "for h in range(len(stats)+1):\n",
    "    highs.append(count_higher(diffs,stats, h))\n",
    "    percentages.append(100*highs[h]/total_finals)"
   ]
  },
  {
   "cell_type": "markdown",
   "id": "e157afe6",
   "metadata": {},
   "source": [
    "### "
   ]
  },
  {
   "cell_type": "code",
   "execution_count": 83,
   "id": "89949bef",
   "metadata": {},
   "outputs": [
    {
     "data": {
      "text/plain": [
       "[2, 5, 9, 9]"
      ]
     },
     "execution_count": 83,
     "metadata": {},
     "output_type": "execute_result"
    }
   ],
   "source": [
    "highs"
   ]
  },
  {
   "cell_type": "code",
   "execution_count": 84,
   "id": "42372484",
   "metadata": {},
   "outputs": [
    {
     "data": {
      "text/plain": [
       "[8.0, 20.0, 36.0, 36.0]"
      ]
     },
     "execution_count": 84,
     "metadata": {},
     "output_type": "execute_result"
    }
   ],
   "source": [
    "percentages"
   ]
  },
  {
   "cell_type": "code",
   "execution_count": 85,
   "id": "cfe073ae",
   "metadata": {},
   "outputs": [],
   "source": [
    "labels = [\"Zero\", \"One\",\"Two\",\"All\"]"
   ]
  },
  {
   "cell_type": "markdown",
   "id": "4b7a5032",
   "metadata": {},
   "source": [
    "## We will now build a dashboard that shows the defensive statistic against the season's year. With colour seperating the team's positions"
   ]
  },
  {
   "cell_type": "code",
   "execution_count": 61,
   "id": "0691f976",
   "metadata": {},
   "outputs": [
    {
     "name": "stderr",
     "output_type": "stream",
     "text": [
      "/usr/lib/python3/dist-packages/requests/__init__.py:91: RequestsDependencyWarning: urllib3 (1.26.7) or chardet (3.0.4) doesn't match a supported version!\n",
      "  RequestsDependencyWarning)\n"
     ]
    }
   ],
   "source": [
    "from jupyter_dash import JupyterDash\n",
    "from dash import html\n",
    "from dash.dependencies import Input, Output\n",
    "import plotly.express as px\n",
    "from dash import dcc"
   ]
  },
  {
   "cell_type": "code",
   "execution_count": null,
   "id": "a4701cc3",
   "metadata": {},
   "outputs": [],
   "source": []
  },
  {
   "cell_type": "code",
   "execution_count": 92,
   "id": "5eab3cc5",
   "metadata": {},
   "outputs": [],
   "source": [
    "fig = px.bar(y=labels, x=percentages,color=labels,barmode='overlay',opacity=1,orientation='h')\n",
    "fig.update_layout(title =\"NBA champions defensive performances from the 1996-97 to the 2020-21 season\",\n",
    "                  title_x = 0.5,\n",
    "                  yaxis={'categoryorder':'max ascending'},xaxis_title=\"Percentage of champions\",\n",
    "                  yaxis_title = \"Defensive stats higher than the runner up\")\n",
    "\n",
    "\n",
    "app = JupyterDash(__name__)\n",
    "colours = {'text': '#7FDBFF', 'background':'#333333','radio_button':'#BBBBBB'} \n",
    "text_size = {'H1':48,'H2':40,'text':28,'radio_button':20}\n",
    "\n",
    "app.layout = html.Div(style={'backgroundColor':colours['background'],'fontFamily':'Arial'}, children=[\n",
    "    html.H1(children=\"NBA champions defensive performances from the 1996-97 to the 2020-21 season\",\n",
    "        style = {'textAlign': 'center',\n",
    "                 'color':colours['text'],\n",
    "                 'fontSize':text_size['H1']}),\n",
    "\n",
    "    html.Div(children=[dcc.Graph(figure = fig, id = 'graph')])])"
   ]
  },
  {
   "cell_type": "code",
   "execution_count": 93,
   "id": "ef0c6e8c",
   "metadata": {},
   "outputs": [
    {
     "name": "stdout",
     "output_type": "stream",
     "text": [
      "Dash app running on http://127.0.0.1:8050/\n"
     ]
    },
    {
     "name": "stderr",
     "output_type": "stream",
     "text": [
      "/home/blunt/.local/lib/python3.7/site-packages/jupyter_dash/jupyter_app.py:139: UserWarning:\n",
      "\n",
      "The 'environ['werkzeug.server.shutdown']' function is deprecated and will be removed in Werkzeug 2.1.\n",
      "\n"
     ]
    }
   ],
   "source": [
    "app.run_server(mode = \"external\")"
   ]
  },
  {
   "cell_type": "markdown",
   "id": "2664cc15",
   "metadata": {},
   "source": [
    "## The resulting graph shows that the teams with a more complete defense have won the Finals  72% of the time in the last 25 seasons.\n",
    "\n",
    "![graph](../graph.png)\n",
    "\n",
    "### These results indicate that teams in the NBA finals with a better overall defensive performance that season are twice as likely to win the Finals."
   ]
  },
  {
   "cell_type": "code",
   "execution_count": null,
   "id": "b454307b",
   "metadata": {},
   "outputs": [],
   "source": []
  }
 ],
 "metadata": {
  "kernelspec": {
   "display_name": "Python 3",
   "language": "python",
   "name": "python3"
  },
  "language_info": {
   "codemirror_mode": {
    "name": "ipython",
    "version": 3
   },
   "file_extension": ".py",
   "mimetype": "text/x-python",
   "name": "python",
   "nbconvert_exporter": "python",
   "pygments_lexer": "ipython3",
   "version": "3.7.3"
  }
 },
 "nbformat": 4,
 "nbformat_minor": 5
}
