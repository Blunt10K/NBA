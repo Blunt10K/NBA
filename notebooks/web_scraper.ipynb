{
 "cells": [
  {
   "cell_type": "code",
   "execution_count": 4,
   "metadata": {},
   "outputs": [],
   "source": [
    "import pandas as pd"
   ]
  },
  {
   "cell_type": "code",
   "execution_count": 5,
   "metadata": {},
   "outputs": [],
   "source": [
    "from bs4 import BeautifulSoup"
   ]
  },
  {
   "cell_type": "code",
   "execution_count": 6,
   "metadata": {},
   "outputs": [],
   "source": [
    "from re import search"
   ]
  },
  {
   "cell_type": "code",
   "execution_count": null,
   "metadata": {},
   "outputs": [],
   "source": [
    "from selenium.webdriver.support.select import Select\n",
    "from selenium.webdriver.common.by import By\n",
    "from selenium.webdriver.support.ui import WebDriverWait\n",
    "from selenium.webdriver.support import expected_conditions as EC"
   ]
  },
  {
   "cell_type": "code",
   "execution_count": 7,
   "metadata": {},
   "outputs": [],
   "source": [
    "class Teams:\n",
    "    def __init__(self):\n",
    "        self.root = \"https://www.nba.com/stats/teams/traditional/?\"\n",
    "        self.REG = \"Regular%20Season\"\n",
    "        self.POST = \"Playoffs\"\n",
    "        self.mid = \"Season=\" # +[year] YYYY-YY +\n",
    "        self.tail = \"&SeasonType=\" # + [Regular%20Season|Playoffs]\n",
    "        self.xpath = \"/html/body/main/div/div/div[2]/div/div/nba-stat-table/div[2]/div[1]/table\"\n",
    "\n",
    "\n",
    "    def build_url(self,year,reg_season = False):\n",
    "        if(reg_season):\n",
    "            return self.root + self.mid + year + self.tail + self.REG\n",
    "\n",
    "        return self.root + self.mid + year + self.tail + self.POST\n",
    "\n",
    "    def get_team_ids(self,html):\n",
    "        soup = BeautifulSoup(html,'html.parser')\n",
    "        table = soup.find(\"table\")\n",
    "\n",
    "        tids = []\n",
    "        team_reg = '/team/\\d+'\n",
    "\n",
    "        for l in table.find_all('a'):\n",
    "            team_match = search(team_reg,l.get('href'))\n",
    "\n",
    "            if(team_match):\n",
    "                team_id = int(search('\\d+',team_match.group()).group())\n",
    "                tids.append(team_id)\n",
    "\n",
    "        return tids\n",
    "\n",
    "    def get_source_and_teams(self, url, driver):\n",
    "#         while(1<2):\n",
    "#             try:\n",
    "#                 driver.get(url)\n",
    "#                 html = driver.page_source\n",
    "#                 return html, self.get_team_ids(html)\n",
    "#             except:\n",
    "#                 pass\n",
    "        wait = 10\n",
    "        driver.get(url)\n",
    "        element = WebDriverWait(driver,wait).until(EC.presence_of_element_located((By.XPATH,self.xpath)))\n",
    "        html = driver.page_source\n",
    "        \n",
    "        return html, self.get_team_ids(html)"
   ]
  },
  {
   "cell_type": "code",
   "execution_count": 8,
   "metadata": {},
   "outputs": [],
   "source": [
    "class Players:\n",
    "    def __init__(self):\n",
    "        self.REG = \"Regular%20Season\"\n",
    "        self.POST = \"Playoffs\"\n",
    "        self.root = \"https://www.nba.com/stats/players/traditional/?\" # + [teamname -prefix_1] +\n",
    "        self.mid = \"Season=\" # +[year] YYYY-YY +\n",
    "        self.tail = \"&SeasonType=\" # + [Regular%20Season|Playoffs]\n",
    "        self.xpath = \"/html/body/main/div/div/div[2]/div/div/nba-stat-table/div[1]/div/div/select\"\n",
    "\n",
    "    def build_url(self,year,reg_season = False):\n",
    "        if(reg_season):\n",
    "            return self.root + self.mid + year + self.tail + self.REG\n",
    "\n",
    "        return self.root + self.mid + year + self.tail + self.POST\n",
    "\n",
    "    def click_all(self, url, driver):\n",
    "        wait = 10\n",
    "        driver.get(url)\n",
    "        element = WebDriverWait(driver,wait).until(EC.presence_of_element_located((By.XPATH,self.xpath)))\n",
    "        s = driver.find_element(By.XPATH,self.xpath)\n",
    "        s = Select(s)\n",
    "        s.select_by_visible_text(\"All\")\n",
    "\n",
    "        return driver.page_source\n",
    "\n",
    "\n",
    "    def get_player_and_team_ids(self,html):\n",
    "\n",
    "        soup = BeautifulSoup(html, 'html.parser')\n",
    "        table = soup.find(\"table\")\n",
    "\n",
    "        pids = []\n",
    "        tids = []\n",
    "\n",
    "        player_reg = '/player/\\d+'\n",
    "        team_reg = '/team/\\d+'\n",
    "\n",
    "        for l in table.find_all('a'):\n",
    "            player_match = search(player_reg,l.get('href'))\n",
    "\n",
    "            team_match = search(team_reg,l.get('href'))\n",
    "\n",
    "            if(player_match):\n",
    "                player_id = int(search('\\d+',player_match.group()).group())\n",
    "                pids.append(player_id)\n",
    "            elif(team_match):\n",
    "                team_id = int(search('\\d+',team_match.group()).group())\n",
    "                tids.append(team_id)\n",
    "\n",
    "        return pids, tids"
   ]
  },
  {
   "cell_type": "code",
   "execution_count": 9,
   "metadata": {},
   "outputs": [],
   "source": [
    "class Box_scores:\n",
    "    def __init__(self):\n",
    "        self.REG = \"Regular%20Season\"\n",
    "        self.POST = \"Playoffs\"\n",
    "        self.root = \"https://www.nba.com/stats/players/boxscores/?\" # + [teamname -prefix_1] +\n",
    "        self.mid = \"Season=\" # +[year] YYYY-YY +\n",
    "        self.tail = \"&SeasonType=\" # + [Regular%20Season|Playoffs]\n",
    "        self.xpath = \"/html/body/main/div/div/div[2]/div/div/nba-stat-table/div[2]/div[1]/table\"\n",
    "        self.select_xpath = \"/html/body/main/div/div/div[2]/div/div/nba-stat-table/div[1]/div/div/select\"\n",
    "\n",
    "    def build_url(self,year,reg_season = False):\n",
    "        if(reg_season):\n",
    "            return self.root + self.mid + year + self.tail + self.REG\n",
    "\n",
    "        return self.root + self.mid + year + self.tail + self.POST\n",
    "\n",
    "\n",
    "    def iter_all(self, url, driver):\n",
    "        wait = 10\n",
    "        driver.get(url)\n",
    "        element = WebDriverWait(driver,wait).until(EC.presence_of_element_located((By.XPATH,self.xpath)))\n",
    "        s = driver.find_element(By.XPATH,self.select_xpath)\n",
    "        t = s.text\n",
    "        t = t.split(\"\\n\")\n",
    "\n",
    "        d = pd.read_csv(\"../box_score.csv\")\n",
    "        difference = len(t) - d[\"Pages\"][0]+1\n",
    "\n",
    "        for i in t[1:difference]:\n",
    "            s = driver.find_element(By.XPATH,self.select_xpath)\n",
    "            s = Select(s)\n",
    "            s.select_by_visible_text(i)\n",
    "            yield driver.page_source\n",
    "\n",
    "        d[\"Pages\"][0] = int(t[-1])\n",
    "        d.to_csv(\"../box_score.csv\",index = False)\n",
    "        return\n",
    "\n",
    "\n",
    "    def get_player_and_team_ids(self,html):\n",
    "\n",
    "        soup = BeautifulSoup(html, 'html.parser')\n",
    "        table = soup.find(\"table\")\n",
    "\n",
    "        pids = []\n",
    "        tids = []\n",
    "        gids = []\n",
    "\n",
    "        player_reg = '/player/\\d+'\n",
    "        team_reg = '/team/\\d+'\n",
    "        game_reg = '/game/\\d+'\n",
    "\n",
    "        for l in table.find_all('a'):\n",
    "            player_match = search(player_reg,l.get('href'))\n",
    "\n",
    "            team_match = search(team_reg,l.get('href'))\n",
    "\n",
    "            game_match = search(game_reg,l.get('href'))\n",
    "\n",
    "            if(player_match):\n",
    "                player_id = int(search('\\d+',player_match.group()).group())\n",
    "                pids.append(player_id)\n",
    "            elif(team_match):\n",
    "                team_id = int(search('\\d+',team_match.group()).group())\n",
    "                tids.append(team_id)\n",
    "            elif(game_match):\n",
    "                game_id = search('\\d+',game_match.group()).group()\n",
    "                gids.append(game_id)\n",
    "\n",
    "        return pids, tids, gids"
   ]
  },
  {
   "cell_type": "code",
   "execution_count": 17,
   "metadata": {},
   "outputs": [],
   "source": [
    "bs = Box(wbs.boxes)"
   ]
  },
  {
   "cell_type": "code",
   "execution_count": 19,
   "metadata": {
    "scrolled": false
   },
   "outputs": [
    {
     "name": "stdout",
     "output_type": "stream",
     "text": [
      "Difference  6\n"
     ]
    }
   ],
   "source": [
    "bs.get_player_stats(2022)"
   ]
  },
  {
   "cell_type": "code",
   "execution_count": 19,
   "metadata": {},
   "outputs": [],
   "source": [
    "ts = Team_standings(wbs.teams)"
   ]
  },
  {
   "cell_type": "code",
   "execution_count": 8,
   "metadata": {},
   "outputs": [],
   "source": [
    "ts.get_team_standings(22)"
   ]
  },
  {
   "cell_type": "code",
   "execution_count": 9,
   "metadata": {},
   "outputs": [],
   "source": [
    "ps = Player_stats(wbs.players)"
   ]
  },
  {
   "cell_type": "code",
   "execution_count": 11,
   "metadata": {},
   "outputs": [
    {
     "name": "stdout",
     "output_type": "stream",
     "text": [
      "https://www.nba.com/stats/players/traditional/?Season=1997-98&SeasonType=Regular%20Season\n",
      "https://www.nba.com/stats/players/traditional/?Season=1997-98&SeasonType=Playoffs\n"
     ]
    }
   ],
   "source": [
    "ps.get_player_stats(23)"
   ]
  }
 ],
 "metadata": {
  "kernelspec": {
   "display_name": "Python 3",
   "language": "python",
   "name": "python3"
  },
  "language_info": {
   "codemirror_mode": {
    "name": "ipython",
    "version": 3
   },
   "file_extension": ".py",
   "mimetype": "text/x-python",
   "name": "python",
   "nbconvert_exporter": "python",
   "pygments_lexer": "ipython3",
   "version": "3.7.3"
  }
 },
 "nbformat": 4,
 "nbformat_minor": 4
}
