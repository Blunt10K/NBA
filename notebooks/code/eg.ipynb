{
 "cells": [
  {
   "cell_type": "code",
   "execution_count": 66,
   "metadata": {},
   "outputs": [],
   "source": [
    "from airflow import DAG\n",
    "\n",
    "from airflow.operators.python import PythonOperator\n",
    "\n",
    "\n",
    "from time import strftime,localtime\n",
    "from web_scraper import *"
   ]
  },
  {
   "cell_type": "code",
   "execution_count": 67,
   "metadata": {},
   "outputs": [],
   "source": [
    "with DAG('player_box_scores_etl',default_args={'retries': 4},description='ETL DAG tutorial',\n",
    "        schedule_interval='0 10 * 10 *',catchup=False,tags=['nba_stats']) as dag:\n",
    "\n",
    "        dag.doc_md = __doc__\n",
    "\n",
    "        def extract(**kwargs):\n",
    "                ti = kwargs['ti']\n",
    "\n",
    "                bs = Box_scores()\n",
    "                year = int(strftime(\"%Y\"))\n",
    "\n",
    "                start_reg = 9\n",
    "                end_reg = 4\n",
    "                start_post = end_reg\n",
    "                end_post = 7\n",
    "                reg_season = True\n",
    "\n",
    "                month = int(strftime('%m'))\n",
    "                year_range = str(year-1) + \"-{:0>2d}\".format(get_last_year(year))\n",
    "\n",
    "                ti = kwargs['ti']\n",
    "                if month <= end_reg or month >= start_reg:\n",
    "\n",
    "                        url = bs.build_url(year_range, not reg_season)\n",
    "\n",
    "                elif month >= start_post and month <= end_post:\n",
    "\n",
    "                        url = bs.build_url(year_range, not reg_season)\n",
    "                else:\n",
    "                        return # exit dag\n",
    "                \n",
    "                return bs.iter_all(url,)\n",
    "\n",
    "    \n"
   ]
  },
  {
   "cell_type": "code",
   "execution_count": 68,
   "metadata": {},
   "outputs": [],
   "source": [
    "def get_last_year(year):\n",
    "        if(year > 2000):\n",
    "            return year % 2000\n",
    "        return year % 100\n"
   ]
  },
  {
   "cell_type": "code",
   "execution_count": 69,
   "metadata": {},
   "outputs": [],
   "source": [
    "import pendulum"
   ]
  },
  {
   "cell_type": "code",
   "execution_count": 70,
   "metadata": {},
   "outputs": [],
   "source": [
    "d = pendulum.datetime(2022,5,27)"
   ]
  },
  {
   "cell_type": "code",
   "execution_count": 71,
   "metadata": {},
   "outputs": [],
   "source": [
    "link = 'https://www.nba.com/stats/players/boxscores/?Season=2021-22&SeasonType=Regular%20Season&DateFrom=05%2F01%2F2021&DateTo=05%2F27%2F2022'"
   ]
  },
  {
   "cell_type": "code",
   "execution_count": 72,
   "metadata": {},
   "outputs": [],
   "source": [
    "import datetime\n",
    "from datetime import timedelta\n",
    "\n",
    "d = datetime.datetime\n",
    "\n",
    "e = d.strftime(datetime.date.today(),'%m-%d-%Y').replace('-','%2F')"
   ]
  },
  {
   "cell_type": "code",
   "execution_count": 73,
   "metadata": {},
   "outputs": [
    {
     "data": {
      "text/plain": [
       "'05%2F27%2F2022'"
      ]
     },
     "execution_count": 73,
     "metadata": {},
     "output_type": "execute_result"
    }
   ],
   "source": [
    "s = link.find(e)\n",
    "link[s:len(e)+s]"
   ]
  },
  {
   "cell_type": "code",
   "execution_count": 74,
   "metadata": {},
   "outputs": [
    {
     "data": {
      "text/plain": [
       "'05%2F27%2F2022'"
      ]
     },
     "execution_count": 74,
     "metadata": {},
     "output_type": "execute_result"
    }
   ],
   "source": [
    "e"
   ]
  },
  {
   "cell_type": "code",
   "execution_count": 75,
   "metadata": {},
   "outputs": [],
   "source": [
    "def extract(**kwargs):\n",
    "# ti = kwargs['ti']\n",
    "        d = datetime.datetime\n",
    "        from web_scraper import Box_scores\n",
    "        bs = Box_scores()\n",
    "        year = int(d.strftime(datetime.date.today(),\"%Y\"))\n",
    "        \n",
    "        s = datetime.date.today() - timedelta(days= 13)\n",
    "\n",
    "        start_reg = 9\n",
    "        end_reg = 4\n",
    "        start_post = end_reg\n",
    "        end_post = 7\n",
    "        reg_season = True\n",
    "\n",
    "        month = int(strftime('%m'))\n",
    "        year_range = str(year-1) + \"-{:0>2d}\".format(get_last_year(year))\n",
    "\n",
    "        # ti = kwargs['ti']\n",
    "        if month <= end_reg or month >= start_reg:\n",
    "\n",
    "                url = bs.build_url(year_range, not reg_season)\n",
    "\n",
    "        elif month >= start_post and month <= end_post:\n",
    "\n",
    "                url = bs.build_url(year_range,s, not reg_season)\n",
    "        else:\n",
    "                return # exit dag\n",
    "\n",
    "        return bs.iter_all(url)\n"
   ]
  },
  {
   "cell_type": "code",
   "execution_count": 76,
   "metadata": {},
   "outputs": [],
   "source": [
    "pages = []\n",
    "for i in extract():\n",
    "    pages.append(i)"
   ]
  },
  {
   "cell_type": "code",
   "execution_count": 77,
   "metadata": {},
   "outputs": [],
   "source": [
    "def get_player_and_team_ids(self,html):\n",
    "            soup = BeautifulSoup(html, 'html.parser')\n",
    "            table = soup.find(\"table\")\n",
    "            \n",
    "            pids = []\n",
    "            tids = []\n",
    "            gids = []\n",
    "            \n",
    "            player_reg = '/player/\\d+'\n",
    "            team_reg = '/team/\\d+'\n",
    "            game_reg = '/game/\\d+'\n",
    "\n",
    "            for l in table.find_all('a'):\n",
    "                player_match = search(player_reg,l.get('href'))\n",
    "\n",
    "                team_match = search(team_reg,l.get('href'))\n",
    "                \n",
    "                game_match = search(game_reg,l.get('href'))\n",
    "\n",
    "                if(player_match):\n",
    "                    player_id = int(search('\\d+',player_match.group()).group())\n",
    "                    pids.append(player_id)\n",
    "                elif(team_match):\n",
    "                    team_id = int(search('\\d+',team_match.group()).group())\n",
    "                    tids.append(team_id)\n",
    "                elif(game_match):\n",
    "                    game_id = search('\\d+',game_match.group()).group()\n",
    "                    gids.append(game_id)\n",
    "                    \n",
    "            return pids, tids, gids"
   ]
  },
  {
   "cell_type": "code",
   "execution_count": 78,
   "metadata": {},
   "outputs": [],
   "source": [
    "import pandas as pd\n",
    "from bs4 import BeautifulSoup"
   ]
  },
  {
   "cell_type": "code",
   "execution_count": 84,
   "metadata": {},
   "outputs": [],
   "source": [
    "df = pd.DataFrame()\n",
    "for i in pages:\n",
    "    df = pd.concat((df,pd.read_html(i)[0]))"
   ]
  },
  {
   "cell_type": "code",
   "execution_count": 85,
   "metadata": {},
   "outputs": [],
   "source": [
    "df.drop(columns=['Season','FP','FG%','FT%','3P%','REB'],inplace = True)"
   ]
  },
  {
   "cell_type": "code",
   "execution_count": 86,
   "metadata": {},
   "outputs": [
    {
     "data": {
      "text/plain": [
       "Index(['Player', 'Team', 'Match Up', 'Game Date', 'W/L', 'MIN', 'PTS', 'FGM',\n",
       "       'FGA', '3PM', '3PA', 'FTM', 'FTA', 'OREB', 'DREB', 'AST', 'STL', 'BLK',\n",
       "       'TOV', 'PF', '+/-'],\n",
       "      dtype='object')"
      ]
     },
     "execution_count": 86,
     "metadata": {},
     "output_type": "execute_result"
    }
   ],
   "source": [
    "df.columns"
   ]
  },
  {
   "cell_type": "code",
   "execution_count": 87,
   "metadata": {},
   "outputs": [],
   "source": [
    "di = {'3pm':'pm3', '3pa':'pa3','match\\xa0up':'match_up','min':'mins',\n",
    "'w/l': 'result','+/-':'plus_minus','game\\xa0date':'game_date'}\n",
    "# dicto = dict(df.columns,)\n",
    "transform = [i.lower() for i in df.columns]\n",
    "df.rename(str.lower,axis='columns',inplace=True)\n",
    "\n",
    "df.rename(columns=di,inplace =True)"
   ]
  },
  {
   "cell_type": "code",
   "execution_count": 88,
   "metadata": {},
   "outputs": [
    {
     "data": {
      "text/plain": [
       "player        object\n",
       "team          object\n",
       "match_up      object\n",
       "game_date     object\n",
       "result        object\n",
       "mins           int64\n",
       "pts            int64\n",
       "fgm            int64\n",
       "fga            int64\n",
       "pm3            int64\n",
       "pa3            int64\n",
       "ftm            int64\n",
       "fta            int64\n",
       "oreb           int64\n",
       "dreb           int64\n",
       "ast            int64\n",
       "stl            int64\n",
       "blk            int64\n",
       "tov            int64\n",
       "pf             int64\n",
       "plus_minus     int64\n",
       "dtype: object"
      ]
     },
     "execution_count": 88,
     "metadata": {},
     "output_type": "execute_result"
    }
   ],
   "source": [
    "df.dtypes"
   ]
  },
  {
   "cell_type": "code",
   "execution_count": 89,
   "metadata": {},
   "outputs": [],
   "source": [
    "with open('shots.html','r') as f:\n",
    "    h = f.read()"
   ]
  },
  {
   "cell_type": "code",
   "execution_count": 93,
   "metadata": {},
   "outputs": [],
   "source": [
    "soup = BeautifulSoup(h)"
   ]
  },
  {
   "cell_type": "code",
   "execution_count": 95,
   "metadata": {},
   "outputs": [],
   "source": [
    "soup.find('th')"
   ]
  },
  {
   "cell_type": "code",
   "execution_count": null,
   "metadata": {},
   "outputs": [],
   "source": []
  }
 ],
 "metadata": {
  "interpreter": {
   "hash": "767d51c1340bd893661ea55ea3124f6de3c7a262a8b4abca0554b478b1e2ff90"
  },
  "kernelspec": {
   "display_name": "Python 3.9.2 64-bit",
   "language": "python",
   "name": "python3"
  },
  "language_info": {
   "codemirror_mode": {
    "name": "ipython",
    "version": 3
   },
   "file_extension": ".py",
   "mimetype": "text/x-python",
   "name": "python",
   "nbconvert_exporter": "python",
   "pygments_lexer": "ipython3",
   "version": "3.9.2"
  },
  "orig_nbformat": 4
 },
 "nbformat": 4,
 "nbformat_minor": 2
}
