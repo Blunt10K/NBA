{
 "cells": [
  {
   "cell_type": "code",
   "execution_count": 24,
   "metadata": {},
   "outputs": [],
   "source": [
    "from airflow import DAG\n",
    "\n",
    "from airflow.operators.python import PythonOperator\n",
    "\n",
    "\n",
    "from time import strftime,localtime\n",
    "from web_scraper import *"
   ]
  },
  {
   "cell_type": "code",
   "execution_count": 14,
   "metadata": {},
   "outputs": [
    {
     "name": "stdout",
     "output_type": "stream",
     "text": [
      "0\n",
      "1\n",
      "2\n",
      "3\n",
      "4\n",
      "5\n",
      "6\n",
      "7\n",
      "8\n",
      "9\n"
     ]
    }
   ],
   "source": [
    "with DAG('player_box_scores_etl',default_args={'retries': 4},description='ETL DAG tutorial',\n",
    "        schedule_interval='0 10 * 10 *',catchup=False,tags=['nba_stats']) as dag:\n",
    "\n",
    "        dag.doc_md = __doc__\n",
    "\n",
    "        def extract(**kwargs):\n",
    "                ti = kwargs['ti']\n",
    "\n",
    "                bs = Box_scores()\n",
    "                year = int(strftime(\"%Y\"))\n",
    "\n",
    "                start_reg = 9\n",
    "                end_reg = 4\n",
    "                start_post = end_reg\n",
    "                end_post = 7\n",
    "                reg_season = True\n",
    "\n",
    "                month = int(strftime('%m'))\n",
    "                year_range = str(year-1) + \"-{:0>2d}\".format(get_last_year(year))\n",
    "\n",
    "                ti = kwargs['ti']\n",
    "                if month <= end_reg or month >= start_reg:\n",
    "\n",
    "                        url = bs.build_url(year_range, not reg_season)\n",
    "\n",
    "                elif month >= start_post and month <= end_post:\n",
    "\n",
    "                        url = bs.build_url(year_range, not reg_season)\n",
    "                else:\n",
    "                        return # exit dag\n",
    "                \n",
    "                return bs.iter_all(url)\n",
    "\n",
    "    \n"
   ]
  },
  {
   "cell_type": "code",
   "execution_count": 26,
   "metadata": {},
   "outputs": [],
   "source": [
    "def get_last_year(year):\n",
    "        if(year > 2000):\n",
    "            return year % 2000\n",
    "        return year % 100\n"
   ]
  },
  {
   "cell_type": "code",
   "execution_count": 16,
   "metadata": {},
   "outputs": [],
   "source": [
    "import pendulum"
   ]
  },
  {
   "cell_type": "code",
   "execution_count": 19,
   "metadata": {},
   "outputs": [],
   "source": [
    "\n",
    "    d = pendulum.datetime(2022,5,27)"
   ]
  },
  {
   "cell_type": "code",
   "execution_count": 25,
   "metadata": {},
   "outputs": [
    {
     "ename": "TypeError",
     "evalue": "'NoneType' object is not iterable",
     "output_type": "error",
     "traceback": [
      "\u001b[0;31m---------------------------------------------------------------------------\u001b[0m",
      "\u001b[0;31mTypeError\u001b[0m                                 Traceback (most recent call last)",
      "\u001b[1;32m/home/blunt/programming/data_science/NBA/notebooks/code/eg.ipynb Cell 5'\u001b[0m in \u001b[0;36m<cell line: 1>\u001b[0;34m()\u001b[0m\n\u001b[0;32m----> <a href='vscode-notebook-cell:/home/blunt/programming/data_science/NBA/notebooks/code/eg.ipynb#ch0000005?line=0'>1</a>\u001b[0m \u001b[39mfor\u001b[39;00m i \u001b[39min\u001b[39;00m \u001b[39mNone\u001b[39;00m:\n\u001b[1;32m      <a href='vscode-notebook-cell:/home/blunt/programming/data_science/NBA/notebooks/code/eg.ipynb#ch0000005?line=1'>2</a>\u001b[0m     \u001b[39mprint\u001b[39m(i)\n",
      "\u001b[0;31mTypeError\u001b[0m: 'NoneType' object is not iterable"
     ]
    }
   ],
   "source": [
    "for i in None:\n",
    "    print(i)"
   ]
  },
  {
   "cell_type": "code",
   "execution_count": null,
   "metadata": {},
   "outputs": [],
   "source": []
  }
 ],
 "metadata": {
  "interpreter": {
   "hash": "767d51c1340bd893661ea55ea3124f6de3c7a262a8b4abca0554b478b1e2ff90"
  },
  "kernelspec": {
   "display_name": "Python 3.9.2 64-bit",
   "language": "python",
   "name": "python3"
  },
  "language_info": {
   "codemirror_mode": {
    "name": "ipython",
    "version": 3
   },
   "file_extension": ".py",
   "mimetype": "text/x-python",
   "name": "python",
   "nbconvert_exporter": "python",
   "pygments_lexer": "ipython3",
   "version": "3.9.2"
  },
  "orig_nbformat": 4
 },
 "nbformat": 4,
 "nbformat_minor": 2
}
