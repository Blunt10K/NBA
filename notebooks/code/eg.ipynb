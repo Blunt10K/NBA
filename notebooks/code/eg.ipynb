{
 "cells": [
  {
   "cell_type": "code",
   "execution_count": null,
   "metadata": {},
   "outputs": [],
   "source": [
    "from airflow import DAG\n",
    "\n",
    "from airflow.operators.python import PythonOperator\n",
    "\n",
    "\n",
    "from time import strftime,localtime\n",
    "from web_scraper import *"
   ]
  },
  {
   "cell_type": "code",
   "execution_count": null,
   "metadata": {},
   "outputs": [],
   "source": [
    "with DAG('player_box_scores_etl',default_args={'retries': 4},description='ETL DAG tutorial',\n",
    "        schedule_interval='0 10 * 10 *',catchup=False,tags=['nba_stats']) as dag:\n",
    "\n",
    "        dag.doc_md = __doc__\n",
    "\n",
    "        def extract(**kwargs):\n",
    "                ti = kwargs['ti']\n",
    "\n",
    "                bs = Box_scores()\n",
    "                year = int(strftime(\"%Y\"))\n",
    "\n",
    "                start_reg = 9\n",
    "                end_reg = 4\n",
    "                start_post = end_reg\n",
    "                end_post = 7\n",
    "                reg_season = True\n",
    "\n",
    "                month = int(strftime('%m'))\n",
    "                year_range = str(year-1) + \"-{:0>2d}\".format(get_last_year(year))\n",
    "\n",
    "                ti = kwargs['ti']\n",
    "                if month <= end_reg or month >= start_reg:\n",
    "\n",
    "                        url = bs.build_url(year_range, not reg_season)\n",
    "\n",
    "                elif month >= start_post and month <= end_post:\n",
    "\n",
    "                        url = bs.build_url(year_range, not reg_season)\n",
    "                else:\n",
    "                        return # exit dag\n",
    "                \n",
    "                return bs.iter_all(url,)\n",
    "\n",
    "    \n"
   ]
  },
  {
   "cell_type": "code",
   "execution_count": null,
   "metadata": {},
   "outputs": [],
   "source": [
    "def get_last_year(year):\n",
    "        if(year > 2000):\n",
    "            return year % 2000\n",
    "        return year % 100\n"
   ]
  },
  {
   "cell_type": "code",
   "execution_count": null,
   "metadata": {},
   "outputs": [],
   "source": [
    "import pendulum"
   ]
  },
  {
   "cell_type": "code",
   "execution_count": null,
   "metadata": {},
   "outputs": [],
   "source": [
    "d = pendulum.datetime(2022,5,27)"
   ]
  },
  {
   "cell_type": "code",
   "execution_count": null,
   "metadata": {},
   "outputs": [],
   "source": [
    "link = 'https://www.nba.com/stats/players/boxscores/?Season=2021-22&SeasonType=Regular%20Season&DateFrom=05%2F01%2F2021&DateTo=05%2F27%2F2022'"
   ]
  },
  {
   "cell_type": "code",
   "execution_count": null,
   "metadata": {},
   "outputs": [],
   "source": [
    "import datetime\n",
    "from datetime import timedelta\n",
    "\n",
    "d = datetime.datetime\n",
    "\n",
    "e = d.strftime(datetime.date.today(),'%m-%d-%Y').replace('-','%2F')"
   ]
  },
  {
   "cell_type": "code",
   "execution_count": null,
   "metadata": {},
   "outputs": [],
   "source": [
    "s = link.find(e)\n",
    "link[s:len(e)+s]"
   ]
  },
  {
   "cell_type": "code",
   "execution_count": null,
   "metadata": {},
   "outputs": [],
   "source": [
    "e"
   ]
  },
  {
   "cell_type": "code",
   "execution_count": null,
   "metadata": {},
   "outputs": [],
   "source": [
    "def extract(**kwargs):\n",
    "# ti = kwargs['ti']\n",
    "        d = datetime.datetime\n",
    "        from web_scraper import Box_scores\n",
    "        bs = Box_scores()\n",
    "        year = int(d.strftime(datetime.date.today(),\"%Y\"))\n",
    "        \n",
    "        s = datetime.date.today() - timedelta(days= 13)\n",
    "\n",
    "        start_reg = 9\n",
    "        end_reg = 4\n",
    "        start_post = end_reg\n",
    "        end_post = 7\n",
    "        reg_season = True\n",
    "\n",
    "        month = int(strftime('%m'))\n",
    "        year_range = str(year-1) + \"-{:0>2d}\".format(get_last_year(year))\n",
    "\n",
    "        # ti = kwargs['ti']\n",
    "        if month <= end_reg or month >= start_reg:\n",
    "\n",
    "                url = bs.build_url(year_range, not reg_season)\n",
    "\n",
    "        elif month >= start_post and month <= end_post:\n",
    "\n",
    "                url = bs.build_url(year_range,s, not reg_season)\n",
    "        else:\n",
    "                return # exit dag\n",
    "\n",
    "        return bs.iter_all(url)\n"
   ]
  },
  {
   "cell_type": "code",
   "execution_count": null,
   "metadata": {},
   "outputs": [],
   "source": [
    "pages = []\n",
    "for i in extract():\n",
    "    pages.append(i)"
   ]
  },
  {
   "cell_type": "code",
   "execution_count": null,
   "metadata": {},
   "outputs": [],
   "source": [
    "def get_player_and_team_ids(self,html):\n",
    "            soup = BeautifulSoup(html, 'html.parser')\n",
    "            table = soup.find(\"table\")\n",
    "            \n",
    "            pids = []\n",
    "            tids = []\n",
    "            gids = []\n",
    "            \n",
    "            player_reg = '/player/\\d+'\n",
    "            team_reg = '/team/\\d+'\n",
    "            game_reg = '/game/\\d+'\n",
    "\n",
    "            for l in table.find_all('a'):\n",
    "                player_match = search(player_reg,l.get('href'))\n",
    "\n",
    "                team_match = search(team_reg,l.get('href'))\n",
    "                \n",
    "                game_match = search(game_reg,l.get('href'))\n",
    "\n",
    "                if(player_match):\n",
    "                    player_id = int(search('\\d+',player_match.group()).group())\n",
    "                    pids.append(player_id)\n",
    "                elif(team_match):\n",
    "                    team_id = int(search('\\d+',team_match.group()).group())\n",
    "                    tids.append(team_id)\n",
    "                elif(game_match):\n",
    "                    game_id = search('\\d+',game_match.group()).group()\n",
    "                    gids.append(game_id)\n",
    "                    \n",
    "            return pids, tids, gids"
   ]
  },
  {
   "cell_type": "code",
   "execution_count": null,
   "metadata": {},
   "outputs": [],
   "source": [
    "import pandas as pd\n",
    "from bs4 import BeautifulSoup"
   ]
  },
  {
   "cell_type": "code",
   "execution_count": null,
   "metadata": {},
   "outputs": [],
   "source": [
    "df = pd.DataFrame()\n",
    "for i in pages:\n",
    "    df = pd.concat((df,pd.read_html(i)[0]))"
   ]
  },
  {
   "cell_type": "code",
   "execution_count": null,
   "metadata": {},
   "outputs": [],
   "source": [
    "df.drop(columns=['Season','FP','FG%','FT%','3P%','REB'],inplace = True)"
   ]
  },
  {
   "cell_type": "code",
   "execution_count": null,
   "metadata": {},
   "outputs": [],
   "source": [
    "df.columns"
   ]
  },
  {
   "cell_type": "code",
   "execution_count": null,
   "metadata": {},
   "outputs": [],
   "source": [
    "di = {'3pm':'pm3', '3pa':'pa3','match\\xa0up':'match_up','min':'mins',\n",
    "'w/l': 'result','+/-':'plus_minus','game\\xa0date':'game_date'}\n",
    "# dicto = dict(df.columns,)\n",
    "transform = [i.lower() for i in df.columns]\n",
    "df.rename(str.lower,axis='columns',inplace=True)\n",
    "\n",
    "df.rename(columns=di,inplace =True)"
   ]
  },
  {
   "cell_type": "code",
   "execution_count": null,
   "metadata": {},
   "outputs": [],
   "source": [
    "df.dtypes"
   ]
  },
  {
   "cell_type": "code",
   "execution_count": null,
   "metadata": {},
   "outputs": [],
   "source": [
    "with open('shots.html','r') as f:\n",
    "    h = f.read()"
   ]
  },
  {
   "cell_type": "code",
   "execution_count": null,
   "metadata": {},
   "outputs": [],
   "source": [
    "soup = BeautifulSoup(h)"
   ]
  },
  {
   "cell_type": "code",
   "execution_count": null,
   "metadata": {},
   "outputs": [],
   "source": [
    "soup.find('th')"
   ]
  },
  {
   "cell_type": "code",
   "execution_count": null,
   "metadata": {},
   "outputs": [],
   "source": [
    "def build_url(self,year,s,reg_season = False):\n",
    "            form = '%m-%d-%Y'\n",
    "            d = datetime.datetime\n",
    "            e = datetime.date.today() \n",
    "\n",
    "            s = d.strftime(s,form)\n",
    "            e = d.strftime(e,form)\n",
    "            start = '&DateFrom='+ s.replace('-','%2F')\n",
    "            end = '&DateTo='+ e.replace('-','%2F')"
   ]
  },
  {
   "cell_type": "code",
   "execution_count": null,
   "metadata": {},
   "outputs": [],
   "source": [
    "from bs4 import BeautifulSoup\n",
    "import re\n",
    "from selenium.webdriver.support.select import Select\n",
    "from selenium.webdriver.common.by import By\n",
    "from selenium import webdriver\n",
    "from selenium.webdriver.support.select import Select\n",
    "from selenium.webdriver.common.by import By\n",
    "from selenium.webdriver.support.ui import WebDriverWait\n",
    "from selenium.webdriver.support import expected_conditions as EC\n",
    "from bs4 import BeautifulSoup\n",
    "\n",
    "from re import search\n",
    "import pandas as pd\n"
   ]
  },
  {
   "cell_type": "code",
   "execution_count": null,
   "metadata": {},
   "outputs": [],
   "source": [
    "class Box_scores:\n",
    "        def __init__(self):\n",
    "            self.REG = \"Regular%20Season\"\n",
    "            self.POST = \"Playoffs\"\n",
    "            self.root = \"https://www.nba.com/stats/players/boxscores/?\" # + [teamname -prefix_1] +\n",
    "            self.mid = \"Season=\" # +[year] YYYY-YY +\n",
    "            self.tail = \"&SeasonType=\" # + [Regular%20Season|Playoffs]\n",
    "            self.xpath = \"/html/body/main/div/div/div[2]/div/div/nba-stat-table/div[2]/div[1]/table\"\n",
    "            self.select_xpath = \"/html/body/main/div/div/div[2]/div/div/nba-stat-table/div[1]/div/div/select\"\n",
    "            \n",
    "        def build_url(self,year,reg_season = False):\n",
    "            if(reg_season):\n",
    "                return self.root + self.mid + year + self.tail + self.REG\n",
    "            \n",
    "            return self.root + self.mid + year + self.tail + self.POST\n",
    "        \n",
    "        \n",
    "        def iter_all(self, url):\n",
    "            wait = 20\n",
    "            with webdriver.Chrome() as driver:\n",
    "                driver.get(url)\n",
    "                element = WebDriverWait(driver,wait).until(EC.presence_of_element_located((By.XPATH,self.xpath)))\n",
    "                s = driver.find_element(By.XPATH,self.select_xpath)\n",
    "                t = s.text\n",
    "                t = t.split(\"\\n\")\n",
    "\n",
    "                \n",
    "                for i in t[1:]:\n",
    "                    s = driver.find_element(By.XPATH,self.select_xpath)\n",
    "                    s = Select(s)\n",
    "                    s.select_by_visible_text(i)\n",
    "                    yield driver.page_source\n",
    "                \n",
    "\n",
    "            return\n",
    "            \n",
    "        \n",
    "        def get_player_and_team_ids(self,html):\n",
    "            soup = BeautifulSoup(html, 'html.parser')\n",
    "            table = soup.find(\"table\")\n",
    "            \n",
    "            pids = []\n",
    "            tids = []\n",
    "            gids = []\n",
    "            \n",
    "            player_reg = '/player/\\d+'\n",
    "            team_reg = '/team/\\d+'\n",
    "            game_reg = '/game/\\d+'\n",
    "\n",
    "            for l in table.find_all('a'):\n",
    "                player_match = search(player_reg,l.get('href'))\n",
    "\n",
    "                team_match = search(team_reg,l.get('href'))\n",
    "                \n",
    "                game_match = search(game_reg,l.get('href'))\n",
    "\n",
    "                if(player_match):\n",
    "                    player_id = int(search('\\d+',player_match.group()).group())\n",
    "                    pids.append(player_id)\n",
    "                elif(team_match):\n",
    "                    team_id = int(search('\\d+',team_match.group()).group())\n",
    "                    tids.append(team_id)\n",
    "                elif(game_match):\n",
    "                    game_id = search('\\d+',game_match.group()).group()\n",
    "                    gids.append(game_id)\n",
    "                    \n",
    "            return pids, tids, gids\n"
   ]
  },
  {
   "cell_type": "code",
   "execution_count": null,
   "metadata": {},
   "outputs": [],
   "source": [
    "def extract(year, regular):\n",
    "    # ti = kwargs['ti']\n",
    "    d = datetime.datetime\n",
    "    bs = Box_scores()\n",
    "\n",
    "    year_range = str(year-1) + \"-{:0>2d}\".format(get_last_year(year))\n",
    "\n",
    "    url = bs.build_url(year_range, regular)\n",
    "\n",
    "    return bs.iter_all(url)\n"
   ]
  },
  {
   "cell_type": "code",
   "execution_count": 116,
   "metadata": {},
   "outputs": [
    {
     "ename": "TimeoutException",
     "evalue": "Message: \nStacktrace:\n#0 0x00557d7f2988 <unknown>\n#1 0x00557d5b541c <unknown>\n#2 0x00557d5e0c18 <unknown>\n#3 0x00557d6063f4 <unknown>\n#4 0x00557d5d856c <unknown>\n#5 0x00557d5d9128 <unknown>\n#6 0x00557d81e5a4 <unknown>\n#7 0x00557d83547c <unknown>\n#8 0x00557d820238 <unknown>\n#9 0x00557d835d58 <unknown>\n#10 0x00557d8147c0 <unknown>\n#11 0x00557d84e320 <unknown>\n#12 0x00557d84e474 <unknown>\n#13 0x00557d86597c <unknown>\n#14 0x007f990ad628 <unknown>\n#15 0x007f98bda01c <unknown>\n",
     "output_type": "error",
     "traceback": [
      "\u001b[0;31m---------------------------------------------------------------------------\u001b[0m",
      "\u001b[0;31mTimeoutException\u001b[0m                          Traceback (most recent call last)",
      "\u001b[1;32m/home/blunt/programming/data_science/NBA/notebooks/code/eg.ipynb Cell 26'\u001b[0m in \u001b[0;36m<cell line: 1>\u001b[0;34m()\u001b[0m\n\u001b[1;32m      <a href='vscode-notebook-cell:/home/blunt/programming/data_science/NBA/notebooks/code/eg.ipynb#ch0000023?line=0'>1</a>\u001b[0m \u001b[39mfor\u001b[39;00m year \u001b[39min\u001b[39;00m \u001b[39mrange\u001b[39m(\u001b[39m2014\u001b[39m,\u001b[39m2011\u001b[39m,\u001b[39m-\u001b[39m\u001b[39m1\u001b[39m):\n\u001b[1;32m      <a href='vscode-notebook-cell:/home/blunt/programming/data_science/NBA/notebooks/code/eg.ipynb#ch0000023?line=1'>2</a>\u001b[0m     \u001b[39m# playoffs\u001b[39;00m\n\u001b[1;32m      <a href='vscode-notebook-cell:/home/blunt/programming/data_science/NBA/notebooks/code/eg.ipynb#ch0000023?line=2'>3</a>\u001b[0m     \u001b[39m# j = 0\u001b[39;00m\n\u001b[0;32m   (...)\u001b[0m\n\u001b[1;32m      <a href='vscode-notebook-cell:/home/blunt/programming/data_science/NBA/notebooks/code/eg.ipynb#ch0000023?line=5'>6</a>\u001b[0m     \u001b[39m#         f.write(i)\u001b[39;00m\n\u001b[1;32m      <a href='vscode-notebook-cell:/home/blunt/programming/data_science/NBA/notebooks/code/eg.ipynb#ch0000023?line=6'>7</a>\u001b[0m     \u001b[39m#     j+=1\u001b[39;00m\n\u001b[1;32m      <a href='vscode-notebook-cell:/home/blunt/programming/data_science/NBA/notebooks/code/eg.ipynb#ch0000023?line=8'>9</a>\u001b[0m     j\u001b[39m=\u001b[39m\u001b[39m0\u001b[39m\n\u001b[0;32m---> <a href='vscode-notebook-cell:/home/blunt/programming/data_science/NBA/notebooks/code/eg.ipynb#ch0000023?line=9'>10</a>\u001b[0m     \u001b[39mfor\u001b[39;00m i \u001b[39min\u001b[39;00m extract(year, \u001b[39mTrue\u001b[39;00m):\n\u001b[1;32m     <a href='vscode-notebook-cell:/home/blunt/programming/data_science/NBA/notebooks/code/eg.ipynb#ch0000023?line=10'>11</a>\u001b[0m         \u001b[39mwith\u001b[39;00m \u001b[39mopen\u001b[39m(\u001b[39m'\u001b[39m\u001b[39m../../../data/\u001b[39m\u001b[39m'\u001b[39m\u001b[39m+\u001b[39m\u001b[39mstr\u001b[39m(year)\u001b[39m+\u001b[39m\u001b[39m'\u001b[39m\u001b[39m_reg_season_\u001b[39m\u001b[39m'\u001b[39m\u001b[39m+\u001b[39m\u001b[39mstr\u001b[39m(j)\u001b[39m+\u001b[39m\u001b[39m'\u001b[39m\u001b[39m.html\u001b[39m\u001b[39m'\u001b[39m,\u001b[39m'\u001b[39m\u001b[39mw\u001b[39m\u001b[39m'\u001b[39m) \u001b[39mas\u001b[39;00m f:\n\u001b[1;32m     <a href='vscode-notebook-cell:/home/blunt/programming/data_science/NBA/notebooks/code/eg.ipynb#ch0000023?line=11'>12</a>\u001b[0m             f\u001b[39m.\u001b[39mwrite(i)\n",
      "\u001b[1;32m/home/blunt/programming/data_science/NBA/notebooks/code/eg.ipynb Cell 24'\u001b[0m in \u001b[0;36mBox_scores.iter_all\u001b[0;34m(self, url)\u001b[0m\n\u001b[1;32m     <a href='vscode-notebook-cell:/home/blunt/programming/data_science/NBA/notebooks/code/eg.ipynb#ch0000025?line=19'>20</a>\u001b[0m \u001b[39mwith\u001b[39;00m webdriver\u001b[39m.\u001b[39mChrome() \u001b[39mas\u001b[39;00m driver:\n\u001b[1;32m     <a href='vscode-notebook-cell:/home/blunt/programming/data_science/NBA/notebooks/code/eg.ipynb#ch0000025?line=20'>21</a>\u001b[0m     driver\u001b[39m.\u001b[39mget(url)\n\u001b[0;32m---> <a href='vscode-notebook-cell:/home/blunt/programming/data_science/NBA/notebooks/code/eg.ipynb#ch0000025?line=21'>22</a>\u001b[0m     element \u001b[39m=\u001b[39m WebDriverWait(driver,wait)\u001b[39m.\u001b[39;49muntil(EC\u001b[39m.\u001b[39;49mpresence_of_element_located((By\u001b[39m.\u001b[39;49mXPATH,\u001b[39mself\u001b[39;49m\u001b[39m.\u001b[39;49mxpath)))\n\u001b[1;32m     <a href='vscode-notebook-cell:/home/blunt/programming/data_science/NBA/notebooks/code/eg.ipynb#ch0000025?line=22'>23</a>\u001b[0m     s \u001b[39m=\u001b[39m driver\u001b[39m.\u001b[39mfind_element(By\u001b[39m.\u001b[39mXPATH,\u001b[39mself\u001b[39m\u001b[39m.\u001b[39mselect_xpath)\n\u001b[1;32m     <a href='vscode-notebook-cell:/home/blunt/programming/data_science/NBA/notebooks/code/eg.ipynb#ch0000025?line=23'>24</a>\u001b[0m     t \u001b[39m=\u001b[39m s\u001b[39m.\u001b[39mtext\n",
      "File \u001b[0;32m~/.local/lib/python3.9/site-packages/selenium/webdriver/support/wait.py:89\u001b[0m, in \u001b[0;36mWebDriverWait.until\u001b[0;34m(self, method, message)\u001b[0m\n\u001b[1;32m     <a href='file:///home/blunt/.local/lib/python3.9/site-packages/selenium/webdriver/support/wait.py?line=86'>87</a>\u001b[0m     \u001b[39mif\u001b[39;00m time\u001b[39m.\u001b[39mmonotonic() \u001b[39m>\u001b[39m end_time:\n\u001b[1;32m     <a href='file:///home/blunt/.local/lib/python3.9/site-packages/selenium/webdriver/support/wait.py?line=87'>88</a>\u001b[0m         \u001b[39mbreak\u001b[39;00m\n\u001b[0;32m---> <a href='file:///home/blunt/.local/lib/python3.9/site-packages/selenium/webdriver/support/wait.py?line=88'>89</a>\u001b[0m \u001b[39mraise\u001b[39;00m TimeoutException(message, screen, stacktrace)\n",
      "\u001b[0;31mTimeoutException\u001b[0m: Message: \nStacktrace:\n#0 0x00557d7f2988 <unknown>\n#1 0x00557d5b541c <unknown>\n#2 0x00557d5e0c18 <unknown>\n#3 0x00557d6063f4 <unknown>\n#4 0x00557d5d856c <unknown>\n#5 0x00557d5d9128 <unknown>\n#6 0x00557d81e5a4 <unknown>\n#7 0x00557d83547c <unknown>\n#8 0x00557d820238 <unknown>\n#9 0x00557d835d58 <unknown>\n#10 0x00557d8147c0 <unknown>\n#11 0x00557d84e320 <unknown>\n#12 0x00557d84e474 <unknown>\n#13 0x00557d86597c <unknown>\n#14 0x007f990ad628 <unknown>\n#15 0x007f98bda01c <unknown>\n"
     ]
    }
   ],
   "source": [
    "for year in range(2014,2011,-1):\n",
    "    # playoffs\n",
    "    # j = 0\n",
    "    # for i in extract(year, False):\n",
    "    #     with open('../../../data/'+str(year)+'_playoffs_'+str(j)+'.html','w') as f:\n",
    "    #         f.write(i)\n",
    "    #     j+=1\n",
    "    \n",
    "    j=0\n",
    "    for i in extract(year, True):\n",
    "        with open('../../../data/'+str(year)+'_reg_season_'+str(j)+'.html','w') as f:\n",
    "            f.write(i)\n",
    "        j+=1\n"
   ]
  },
  {
   "cell_type": "code",
   "execution_count": 125,
   "metadata": {},
   "outputs": [],
   "source": [
    "from re import search"
   ]
  },
  {
   "cell_type": "code",
   "execution_count": 132,
   "metadata": {},
   "outputs": [],
   "source": [
    "def get_player_and_team_ids(html):\n",
    "            soup = BeautifulSoup(html, 'html.parser')\n",
    "            table = soup.find(\"table\")\n",
    "            \n",
    "            pids = []\n",
    "            tids = []\n",
    "            gids = []\n",
    "            \n",
    "            player_reg = '/player/\\d+'\n",
    "            team_reg = '/team/\\d+'\n",
    "            game_reg = '/game/\\d+'\n",
    "\n",
    "            for l in table.find_all('a'):\n",
    "                player_match = search(player_reg,l.get('href'))\n",
    "\n",
    "                team_match = search(team_reg,l.get('href'))\n",
    "                \n",
    "                game_match = search(game_reg,l.get('href'))\n",
    "\n",
    "                if(player_match):\n",
    "                    player_id = int(search('\\d+',player_match.group()).group())\n",
    "                    pids.append(player_id)\n",
    "                elif(team_match):\n",
    "                    team_id = int(search('\\d+',team_match.group()).group())\n",
    "                    tids.append(team_id)\n",
    "                elif(game_match):\n",
    "                    game_id = search('\\d+',game_match.group()).group()\n",
    "                    gids.append(game_id)\n",
    "                    \n",
    "            return pids, tids, gids\n"
   ]
  },
  {
   "cell_type": "code",
   "execution_count": 141,
   "metadata": {},
   "outputs": [],
   "source": [
    "from os import listdir"
   ]
  },
  {
   "cell_type": "code",
   "execution_count": 144,
   "metadata": {},
   "outputs": [],
   "source": [
    "fp = '../../../data/'\n",
    "df = pd.DataFrame()\n",
    "for i in listdir(fp):\n",
    "    if '2022_playoffs' in i:\n",
    "        with open(fp+i,'r') as f:\n",
    "            html = f.read()\n",
    "        pids, tids, gids = get_player_and_team_ids(html)\n",
    "\n",
    "        right = pd.read_html(html)[0]\n",
    "        right['player_id'] = pids\n",
    "        right['tean_id'] = pids\n",
    "        right['game_id'] = pids\n",
    "        df= pd.concat((df,right))"
   ]
  },
  {
   "cell_type": "code",
   "execution_count": 149,
   "metadata": {},
   "outputs": [],
   "source": [
    "def players(df):\n",
    "    d = df[['player_id','Player']]\n",
    "    d.rename(columns={'Player':'name'},inplace=True)\n",
    "\n",
    "    return d"
   ]
  },
  {
   "cell_type": "code",
   "execution_count": 151,
   "metadata": {},
   "outputs": [
    {
     "data": {
      "text/html": [
       "<pre style=\"white-space:pre;overflow-x:auto;line-height:normal;font-family:Menlo,'DejaVu Sans Mono',consolas,'Courier New',monospace\"><span style=\"color: #808000; text-decoration-color: #808000; font-weight: bold\">/tmp/ipykernel_327504/3369944772.py:</span><span style=\"color: #808000; text-decoration-color: #808000; font-weight: bold\">3</span><span style=\"color: #808000; text-decoration-color: #808000; font-weight: bold\"> SettingWithCopyWarning</span><span style=\"color: #808000; text-decoration-color: #808000\">: </span>\n",
       "<span style=\"color: #808000; text-decoration-color: #808000\">A value is trying to be set on a copy of a slice from a DataFrame</span>\n",
       "\n",
       "<span style=\"color: #808000; text-decoration-color: #808000\">See the caveats in the documentation: </span><span style=\"color: #808000; text-decoration-color: #808000; text-decoration: underline\">https://pandas.pydata.org/pandas-docs/stable/user_guide/indexing.html#returning-a-view-versus-a-copy</span>\n",
       "</pre>\n"
      ],
      "text/plain": [
       "\u001b[1;33m/tmp/ipykernel_327504/\u001b[0m\u001b[1;33m3369944772.py\u001b[0m\u001b[1;33m:\u001b[0m\u001b[1;33m3\u001b[0m\u001b[1;33m SettingWithCopyWarning\u001b[0m\u001b[33m: \u001b[0m\n",
       "\u001b[33mA value is trying to be set on a copy of a slice from a DataFrame\u001b[0m\n",
       "\n",
       "\u001b[33mSee the caveats in the documentation: \u001b[0m\u001b[4;33mhttps://pandas.pydata.org/pandas-docs/stable/user_guide/indexing.html#returning-a-view-versus-a-copy\u001b[0m\n"
      ]
     },
     "metadata": {},
     "output_type": "display_data"
    }
   ],
   "source": [
    "players = players(df)"
   ]
  },
  {
   "cell_type": "code",
   "execution_count": 156,
   "metadata": {},
   "outputs": [
    {
     "data": {
      "text/plain": [
       "player_id     int64\n",
       "name         object\n",
       "dtype: object"
      ]
     },
     "execution_count": 156,
     "metadata": {},
     "output_type": "execute_result"
    }
   ],
   "source": [
    "players.drop_duplicates('player_id').dtypes"
   ]
  },
  {
   "cell_type": "code",
   "execution_count": 153,
   "metadata": {},
   "outputs": [
    {
     "data": {
      "text/plain": [
       "array([ 202691,  203490, 1626172,  202722,  203506,  202710,  200782,\n",
       "       1629639,  203473, 1630202, 1629684, 1627759,  203935,  201143,\n",
       "       1630209, 1630174, 1629752,  203917, 1628369, 1628389, 1628436,\n",
       "       1628464, 1628997, 1629057, 1629130, 1629216, 1629312, 1629622,\n",
       "        201939,  203504, 1630228, 1629673,  203952,  203110, 1629029,\n",
       "       1628467, 1628373,  203939, 1627737, 1627814, 1627827, 1628973,\n",
       "       1630182, 1630541, 1628425, 1629308, 1628401,  203648, 1626192,\n",
       "        203507,  202083,  201586,  203937, 1626156, 1629020,  202328,\n",
       "       1630217,  201976, 1629630, 1630162, 1630214, 1626145, 1628415,\n",
       "       1630183, 1629723, 1626157, 1627736, 1628991, 1629162, 1629634,\n",
       "        203497,  203493, 1626220, 1628378, 1629672,  201144,  202355,\n",
       "        203903,  203915, 1627823, 1627863,  202711, 1626164,  203468,\n",
       "        202685,  101108,  202687,  201580,  201988, 1630549, 1629651,\n",
       "       1628971,  203083, 1630556, 1630560,  201609,  202681,  203552,\n",
       "        203109, 1626166, 1628470, 1628984, 1629028, 1629637, 1630230,\n",
       "       1628969, 1629013, 1630530, 1627742, 1630631, 1630529, 1626204,\n",
       "       1629661, 1629001, 1627752, 1630533, 1629669, 1629633, 1629003,\n",
       "       1630194,  201980,  200768, 1630178, 1629680, 1627788,  202699,\n",
       "        201599, 1627777,  201935, 1629646, 1630198, 1630531,  203932,\n",
       "       1627780,  203210, 1630267,  202326, 1628960, 1628396, 1627884,\n",
       "       1626171,  202684,  201950,  201942,  201572, 1629670, 1629730,\n",
       "       1630172, 1630492, 1630245, 1629750, 1629632, 1628975, 1628972,\n",
       "        202696, 1628988,  203500,  202357,  201588, 1630688,  203954,\n",
       "       1627936,  203897,  201568, 1626153, 1630168, 1628381, 1629027,\n",
       "       1629631,  203992, 1628989, 1630201, 1628449, 1627832,  203920,\n",
       "       1627783, 1629018, 1630173, 1628384, 1630192, 1630538, 1628427,\n",
       "       1628420, 1627854,  203999,  203115,  201145,  203085, 1628995,\n",
       "       1630219, 1630552,  203476,  203991, 1627789,    2738, 1626246,\n",
       "       1629638, 1630215,  201152, 1629004, 1629139, 1629717, 1630625,\n",
       "       1630567,  201142,  201933, 1629675, 1629067,  202693, 1630238,\n",
       "        203901, 1626195,  202066, 1630573,  203114,  200794, 1629006])"
      ]
     },
     "execution_count": 153,
     "metadata": {},
     "output_type": "execute_result"
    }
   ],
   "source": []
  },
  {
   "cell_type": "code",
   "execution_count": null,
   "metadata": {},
   "outputs": [],
   "source": []
  }
 ],
 "metadata": {
  "interpreter": {
   "hash": "767d51c1340bd893661ea55ea3124f6de3c7a262a8b4abca0554b478b1e2ff90"
  },
  "kernelspec": {
   "display_name": "Python 3.9.2 64-bit",
   "language": "python",
   "name": "python3"
  },
  "language_info": {
   "codemirror_mode": {
    "name": "ipython",
    "version": 3
   },
   "file_extension": ".py",
   "mimetype": "text/x-python",
   "name": "python",
   "nbconvert_exporter": "python",
   "pygments_lexer": "ipython3",
   "version": "3.9.2"
  },
  "orig_nbformat": 4
 },
 "nbformat": 4,
 "nbformat_minor": 2
}
