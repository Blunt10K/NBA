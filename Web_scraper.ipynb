{
 "cells": [
  {
   "cell_type": "code",
   "execution_count": 1,
   "metadata": {},
   "outputs": [],
   "source": [
    "from time import strftime,localtime\n",
    "import pandas as pd\n",
    "from os.path import exists\n",
    "from os import mkdir"
   ]
  },
  {
   "cell_type": "code",
   "execution_count": 2,
   "metadata": {},
   "outputs": [],
   "source": [
    "class Web_scraper:\n",
    "    def __init__(self):\n",
    "        self.teams = self.Teams()\n",
    "        self.players = self.Players()\n",
    "    \n",
    "    class Teams:\n",
    "        def __init__(self):\n",
    "            self.root = \"https://www.espn.com/nba/standings/_\"\n",
    "            self.tail = \"/group/league\"\n",
    "            team_abbrvs = pd.read_csv(\"team_names.csv\",usecols=[\"prefix_1\"])\n",
    "            self.team_names = \"|\".join(list(team_abbrvs[\"prefix_1\"].str.upper()))\n",
    "            del team_abbrvs\n",
    "            \n",
    "        def build_url(self,year_n,current = True,preseason = False):\n",
    "            if(current and not preseason):\n",
    "                return self.root + self.tail\n",
    "            elif(current and preseason):\n",
    "                return self.root + \"/seasontype/pre\" + self.tail\n",
    "            elif(not current and preseason):\n",
    "                return self.root + \"/seasontype/pre/season/\" + year_n + self.tail\n",
    "            else:\n",
    "                return self.root + \"/season/\" + year_n + self.tail\n",
    "            \n",
    "\n",
    "        def correct_teams(self, df):\n",
    "            teams = df\n",
    "            first = teams.columns[0]\n",
    "            row_0 = pd.DataFrame([first],columns=[\"Team\"])\n",
    "            teams = teams.rename(columns={first:\"Team\"})\n",
    "            teams = pd.concat([row_0,teams],ignore_index=True)\n",
    "\n",
    "            return teams\n",
    "        \n",
    "        def preprocess(self,df, complete_league = True):\n",
    "            if(complete_league):\n",
    "                df[\"Team\"] = df[\"Team\"].str.extract(r'(.+--)(.+)', expand = True)[1]\n",
    "\n",
    "            processed = df[\"Team\"].str.extract(fr'({self.team_names})(.+)', expand = True)\n",
    "\n",
    "            df.insert(0,\"ID\",processed[0])\n",
    "            df[\"Team\"] = processed[1]\n",
    "\n",
    "            return df\n",
    "    \n",
    "        def build_table(self, url,complete_league=True):\n",
    "            dfs = pd.read_html(url,match=\".+ | \\n\")\n",
    "            stats = dfs[1] \n",
    "            teams = self.correct_teams(dfs[0]) # Needed to correct empty table header on espn site\n",
    "            table = teams.join(stats)\n",
    "\n",
    "            return self.preprocess(table,complete_league)\n",
    "        \n",
    "    class Players:\n",
    "        def __init__(self):\n",
    "            self.REG = \"2\"\n",
    "            self.POST = \"3\"\n",
    "            self.root = \"https://www.espn.com/nba/team/stats/_/name\" #[teamname -prefix_1]\n",
    "            self.mid = \"/season\" #[year] YYYY\n",
    "            self.tail = \"/seasontype\" #[2|3] 2 = regular season, 3 = postseason\n",
    "            team_abbrvs = pd.read_csv(\"team_names.csv\",usecols=[\"prefix_1\"])\n",
    "            self.team_names = \"|\".join(list(team_abbrvs[\"prefix_1\"].str.upper()))\n",
    "            del team_abbrvs\n",
    "            \n",
    "        def build_url(self,year,team,postseason = False):\n",
    "            if(postseason):\n",
    "                return self.root + \"/\" + team + self.mid + \"/\" +year + self.tail + \"/\" +self.POST\n",
    "            \n",
    "            return self.root + \"/\" + team + self.mid + \"/\" +year + self.tail + \"/\" +self.REG\n",
    "        \n",
    "        def preprocess(self,df,shooting = True):\n",
    "            processed = df[\"Name\"].str.extract(r'(.+ | Total)([A-Z]+\\**)',expand = True)\n",
    "            \n",
    "            processed = processed.drop([len(processed)-1])\n",
    "            \n",
    "            if(shooting):\n",
    "                df.insert(1,\"POS\",processed[1])\n",
    "                \n",
    "            df[\"Name\"] = processed[0].str.strip()\n",
    "            \n",
    "            df = df.drop([len(df)-1])\n",
    "\n",
    "#             df[\"Name\"]= df[\"Name\"].fillna(\"Total\")\n",
    "#             df[\"POS\"]= df[\"POS\"].fillna(\"\")\n",
    "            return df\n",
    "            \n",
    "        def build_table(self, url, team):\n",
    "            dfs = pd.read_html(url)\n",
    "            \n",
    "            players = pd.concat([dfs[0],dfs[1]],axis=1)\n",
    "            shooting = pd.concat([dfs[2],dfs[3]],axis=1)\n",
    "            \n",
    "            players = self.preprocess(players,False)\n",
    "            shooting = self.preprocess(shooting)\n",
    "            \n",
    "            table = shooting.join(players.set_index(\"Name\"),on = \"Name\")\n",
    "            table[\"Team\"] = team.upper()\n",
    "\n",
    "            return table"
   ]
  },
  {
   "cell_type": "code",
   "execution_count": 3,
   "metadata": {},
   "outputs": [],
   "source": [
    "class Team_standings:\n",
    "    \n",
    "    def __init__(self, teams):\n",
    "        self.REG = 0\n",
    "        self.PRE = 1\n",
    "        self.labels =(\"regular_season\", \"pre_season\")\n",
    "        self.teams = teams\n",
    "        self.reg_fp = \"./team_standings/reg_season/\"\n",
    "        self.pre_fp = \"./team_standings/pre_season/\"\n",
    "\n",
    "\n",
    "    def gen_key(self, year, season_type):\n",
    "        return year+\"_\"+season_type\n",
    "\n",
    "    \n",
    "    def save_standings(self,filepath,year,preseason=False):\n",
    "        if(exists(filepath)):\n",
    "            return\n",
    "        \n",
    "        current = False\n",
    "        season = self.teams.build_url(year,current, preseason)\n",
    "\n",
    "        if(preseason):\n",
    "            table = self.teams.build_table(season,False)\n",
    "        else:\n",
    "            table = self.teams.build_table(season)\n",
    "            \n",
    "        table.to_csv(filepath,index = False)\n",
    "        \n",
    "        return\n",
    "\n",
    "    def update_team_standings(self):\n",
    "        this_year = strftime(\"%Y\",localtime())\n",
    "\n",
    "        filename = self.gen_key(this_year,self.labels[self.REG]) + \".csv\"\n",
    "        filepath = self.reg_fp + filename\n",
    "        \n",
    "        reg_season = self.teams.build_url(this_year)\n",
    "        table = self.teams.build_table(reg_season,False)\n",
    "        table.to_csv(filepath,index = False)\n",
    "        \n",
    "        \n",
    "        filename = self.gen_key(this_year,self.labels[self.PRE]) + \".csv\"\n",
    "        filepath =  self.pre_fp + filename\n",
    "        \n",
    "        pre_season = self.teams.build_url(this_year,preseason = True)\n",
    "        table = self.teams.build_table(pre_season,False)\n",
    "        table.to_csv(filepath,index = False)\n",
    "    \n",
    "        return\n",
    "        \n",
    "        \n",
    "    \n",
    "    def get_team_standings(self,last_n_years):\n",
    "        this_year = strftime(\"%Y\",localtime())\n",
    "        year = int(this_year)\n",
    "\n",
    "        for y in range(year,year-last_n_years,-1):\n",
    "            filename = self.gen_key(str(y-1),self.labels[self.REG]) + \".csv\"\n",
    "            filepath = self.reg_fp + filename\n",
    "            self.save_standings(filepath,str(y-1))\n",
    "            \n",
    "            \n",
    "            filename = self.gen_key(str(y-1),self.labels[self.PRE]) + \".csv\"\n",
    "            filepath = self.pre_fp + filename\n",
    "            self.save_standings(filepath,str(y-1),True)\n",
    "        \n",
    "        return"
   ]
  },
  {
   "cell_type": "code",
   "execution_count": 4,
   "metadata": {},
   "outputs": [],
   "source": [
    "class Player_stats:\n",
    "    def __init__(self,players):\n",
    "        self.players = players\n",
    "        team_abb = pd.read_csv(\"team_names.csv\")\n",
    "        self.teams = list(team_abb[\"prefix_1\"].str.lower())\n",
    "        del team_abb\n",
    "        self.root = \"./player_stats\"\n",
    "        self.REG = 0\n",
    "        self.POST = 1\n",
    "        self.labels =(\"/regular_season.csv\", \"/post_season.csv\")\n",
    "        \n",
    "    def make_dir(self, path):\n",
    "        if(not exists(path)):\n",
    "            mkdir(path)\n",
    "        return path\n",
    "        \n",
    "    def get_player_stats(self,last_n_years):\n",
    "        this_year = strftime(\"%Y\",localtime())\n",
    "        year = int(this_year)\n",
    "        \n",
    "        for y in range(year,year-last_n_years,-1):\n",
    "            file_dir = self.make_dir(self.root + \"/\" + str(y-1))\n",
    "            yr = str(y-1)\n",
    "            \n",
    "            df = []\n",
    "            reg_fp = file_dir + self.labels[self.REG]\n",
    "            \n",
    "            post_fp = file_dir + self.labels[self.POST]\n",
    "            \n",
    "            i = 0\n",
    "            for t in self.teams:\n",
    "                url = self.players.build_url(yr,t)\n",
    "                print(url)\n",
    "                df = self.players.build_table(url,t)\n",
    "                \n",
    "                df.to_csv(reg_fp, index = False,header = i==0, mode = \"a\")\n",
    "                \n",
    "                \n",
    "                url = self.players.build_url(yr,t,True)\n",
    "                df = self.players.build_table(url,t)\n",
    "                df.to_csv(post_fp, index = False,header = i==0, mode = \"a\")\n",
    "                i+=1\n",
    "        \n",
    "        return"
   ]
  },
  {
   "cell_type": "code",
   "execution_count": 5,
   "metadata": {},
   "outputs": [],
   "source": [
    "wbs = Web_scraper()\n",
    "obj = Team_standings(wbs.teams)"
   ]
  },
  {
   "cell_type": "code",
   "execution_count": 6,
   "metadata": {},
   "outputs": [],
   "source": [
    "ps = Player_stats(wbs.players)"
   ]
  },
  {
   "cell_type": "code",
   "execution_count": 7,
   "metadata": {},
   "outputs": [
    {
     "name": "stdout",
     "output_type": "stream",
     "text": [
      "https://www.espn.com/nba/team/stats/_/name/bos/season/2021/seasontype/2\n",
      "https://www.espn.com/nba/team/stats/_/name/bkn/season/2021/seasontype/2\n",
      "https://www.espn.com/nba/team/stats/_/name/ny/season/2021/seasontype/2\n",
      "https://www.espn.com/nba/team/stats/_/name/phi/season/2021/seasontype/2\n",
      "https://www.espn.com/nba/team/stats/_/name/tor/season/2021/seasontype/2\n",
      "https://www.espn.com/nba/team/stats/_/name/gs/season/2021/seasontype/2\n",
      "https://www.espn.com/nba/team/stats/_/name/lac/season/2021/seasontype/2\n",
      "https://www.espn.com/nba/team/stats/_/name/lal/season/2021/seasontype/2\n",
      "https://www.espn.com/nba/team/stats/_/name/phx/season/2021/seasontype/2\n",
      "https://www.espn.com/nba/team/stats/_/name/sac/season/2021/seasontype/2\n",
      "https://www.espn.com/nba/team/stats/_/name/chi/season/2021/seasontype/2\n",
      "https://www.espn.com/nba/team/stats/_/name/cle/season/2021/seasontype/2\n",
      "https://www.espn.com/nba/team/stats/_/name/det/season/2021/seasontype/2\n",
      "https://www.espn.com/nba/team/stats/_/name/ind/season/2021/seasontype/2\n",
      "https://www.espn.com/nba/team/stats/_/name/mil/season/2021/seasontype/2\n",
      "https://www.espn.com/nba/team/stats/_/name/dal/season/2021/seasontype/2\n",
      "https://www.espn.com/nba/team/stats/_/name/hou/season/2021/seasontype/2\n",
      "https://www.espn.com/nba/team/stats/_/name/mem/season/2021/seasontype/2\n",
      "https://www.espn.com/nba/team/stats/_/name/no/season/2021/seasontype/2\n",
      "https://www.espn.com/nba/team/stats/_/name/sa/season/2021/seasontype/2\n",
      "https://www.espn.com/nba/team/stats/_/name/atl/season/2021/seasontype/2\n",
      "https://www.espn.com/nba/team/stats/_/name/cha/season/2021/seasontype/2\n",
      "https://www.espn.com/nba/team/stats/_/name/mia/season/2021/seasontype/2\n",
      "https://www.espn.com/nba/team/stats/_/name/orl/season/2021/seasontype/2\n",
      "https://www.espn.com/nba/team/stats/_/name/wsh/season/2021/seasontype/2\n",
      "https://www.espn.com/nba/team/stats/_/name/den/season/2021/seasontype/2\n",
      "https://www.espn.com/nba/team/stats/_/name/min/season/2021/seasontype/2\n",
      "https://www.espn.com/nba/team/stats/_/name/okc/season/2021/seasontype/2\n",
      "https://www.espn.com/nba/team/stats/_/name/por/season/2021/seasontype/2\n",
      "https://www.espn.com/nba/team/stats/_/name/utah/season/2021/seasontype/2\n"
     ]
    }
   ],
   "source": [
    "ps.get_player_stats(1)"
   ]
  },
  {
   "cell_type": "code",
   "execution_count": null,
   "metadata": {},
   "outputs": [],
   "source": [
    "obj.get_team_standings(5)\n",
    "obj.update_team_standings()"
   ]
  },
  {
   "cell_type": "code",
   "execution_count": null,
   "metadata": {},
   "outputs": [],
   "source": [
    "df = pd.read_csv(\"./team_standings/reg_season/2022_regular_season.csv\")"
   ]
  },
  {
   "cell_type": "code",
   "execution_count": null,
   "metadata": {},
   "outputs": [],
   "source": [
    "stats = pd.read_html(\"https://www.espn.com/nba/team/stats/_/name/utah/season/2021/seasontype/2\")"
   ]
  },
  {
   "cell_type": "code",
   "execution_count": 8,
   "metadata": {},
   "outputs": [],
   "source": [
    "p = pd.read_csv(\"./player_stats/2021/regular_season.csv\")"
   ]
  },
  {
   "cell_type": "code",
   "execution_count": 9,
   "metadata": {},
   "outputs": [],
   "source": [
    "p[\"Name\"] = p[\"Name\"].str.strip()"
   ]
  },
  {
   "cell_type": "code",
   "execution_count": 16,
   "metadata": {},
   "outputs": [],
   "source": [
    "p[\"Team\"] = ps.teams[0]"
   ]
  },
  {
   "cell_type": "code",
   "execution_count": 9,
   "metadata": {},
   "outputs": [
    {
     "data": {
      "text/html": [
       "<div>\n",
       "<style scoped>\n",
       "    .dataframe tbody tr th:only-of-type {\n",
       "        vertical-align: middle;\n",
       "    }\n",
       "\n",
       "    .dataframe tbody tr th {\n",
       "        vertical-align: top;\n",
       "    }\n",
       "\n",
       "    .dataframe thead th {\n",
       "        text-align: right;\n",
       "    }\n",
       "</style>\n",
       "<table border=\"1\" class=\"dataframe\">\n",
       "  <thead>\n",
       "    <tr style=\"text-align: right;\">\n",
       "      <th></th>\n",
       "      <th>Name</th>\n",
       "      <th>POS</th>\n",
       "      <th>FGM</th>\n",
       "      <th>FGA</th>\n",
       "      <th>FG%</th>\n",
       "      <th>3PM</th>\n",
       "      <th>3PA</th>\n",
       "      <th>3P%</th>\n",
       "      <th>FTM</th>\n",
       "      <th>FTA</th>\n",
       "      <th>...</th>\n",
       "      <th>DR</th>\n",
       "      <th>REB</th>\n",
       "      <th>AST</th>\n",
       "      <th>STL</th>\n",
       "      <th>BLK</th>\n",
       "      <th>TO</th>\n",
       "      <th>PF</th>\n",
       "      <th>AST/TO</th>\n",
       "      <th>PER</th>\n",
       "      <th>Team</th>\n",
       "    </tr>\n",
       "  </thead>\n",
       "  <tbody>\n",
       "    <tr>\n",
       "      <th>594</th>\n",
       "      <td>Damian Lillard</td>\n",
       "      <td>PG</td>\n",
       "      <td>9.0</td>\n",
       "      <td>19.9</td>\n",
       "      <td>45.1</td>\n",
       "      <td>4.1</td>\n",
       "      <td>10.5</td>\n",
       "      <td>39.1</td>\n",
       "      <td>6.7</td>\n",
       "      <td>7.2</td>\n",
       "      <td>...</td>\n",
       "      <td>3.7</td>\n",
       "      <td>4.2</td>\n",
       "      <td>7.5</td>\n",
       "      <td>0.9</td>\n",
       "      <td>0.3</td>\n",
       "      <td>3.0</td>\n",
       "      <td>1.5</td>\n",
       "      <td>2.5</td>\n",
       "      <td>25.65</td>\n",
       "      <td>POR</td>\n",
       "    </tr>\n",
       "  </tbody>\n",
       "</table>\n",
       "<p>1 rows × 31 columns</p>\n",
       "</div>"
      ],
      "text/plain": [
       "               Name POS  FGM   FGA   FG%  3PM   3PA   3P%  FTM  FTA  ...   DR  \\\n",
       "594  Damian Lillard  PG  9.0  19.9  45.1  4.1  10.5  39.1  6.7  7.2  ...  3.7   \n",
       "\n",
       "     REB  AST  STL  BLK   TO   PF  AST/TO    PER  Team  \n",
       "594  4.2  7.5  0.9  0.3  3.0  1.5     2.5  25.65   POR  \n",
       "\n",
       "[1 rows x 31 columns]"
      ]
     },
     "execution_count": 9,
     "metadata": {},
     "output_type": "execute_result"
    }
   ],
   "source": [
    "p.loc[p[\"Name\"] == \"Damian Lillard\"]"
   ]
  },
  {
   "cell_type": "code",
   "execution_count": null,
   "metadata": {},
   "outputs": [],
   "source": [
    "players = players.drop([len(players)-1])"
   ]
  },
  {
   "cell_type": "code",
   "execution_count": null,
   "metadata": {},
   "outputs": [],
   "source": [
    "players"
   ]
  },
  {
   "cell_type": "code",
   "execution_count": null,
   "metadata": {},
   "outputs": [],
   "source": [
    "shooting = stats[2].join(stats[3])"
   ]
  },
  {
   "cell_type": "code",
   "execution_count": null,
   "metadata": {},
   "outputs": [],
   "source": [
    "shooting = shooting.drop([len(shooting)-1])"
   ]
  },
  {
   "cell_type": "code",
   "execution_count": null,
   "metadata": {},
   "outputs": [],
   "source": [
    "shooting"
   ]
  },
  {
   "cell_type": "code",
   "execution_count": null,
   "metadata": {},
   "outputs": [],
   "source": [
    "processed = players[\"Name\"].str.extract(r'(.+ | Total)([A-Z]+\\**)'\n",
    "                                         ,expand = True)"
   ]
  },
  {
   "cell_type": "code",
   "execution_count": null,
   "metadata": {},
   "outputs": [],
   "source": [
    "processed"
   ]
  },
  {
   "cell_type": "code",
   "execution_count": null,
   "metadata": {},
   "outputs": [],
   "source": [
    "# players.insert(1,\"POS\",processed[1])\n",
    "players[\"Name\"] = processed[0]"
   ]
  },
  {
   "cell_type": "code",
   "execution_count": null,
   "metadata": {},
   "outputs": [],
   "source": [
    "players"
   ]
  },
  {
   "cell_type": "code",
   "execution_count": null,
   "metadata": {},
   "outputs": [],
   "source": [
    "processed = shooting[\"Name\"].str.extract(r'(.+ | Total)([A-Z]+\\**)'\n",
    "                                         ,expand = True)\n",
    "shooting[\"Name\"] = processed[0]\n",
    "shooting.insert(1,\"POS\", processed[1])"
   ]
  },
  {
   "cell_type": "code",
   "execution_count": null,
   "metadata": {},
   "outputs": [],
   "source": [
    "shooting"
   ]
  },
  {
   "cell_type": "code",
   "execution_count": null,
   "metadata": {},
   "outputs": [],
   "source": [
    "s = shooting.join(players.set_index(\"Name\"),on = \"Name\")"
   ]
  },
  {
   "cell_type": "code",
   "execution_count": null,
   "metadata": {},
   "outputs": [],
   "source": [
    "s"
   ]
  },
  {
   "cell_type": "code",
   "execution_count": null,
   "metadata": {},
   "outputs": [],
   "source": [
    "f = pd.read_html(\"/Users/school/Downloads/utah.html\")"
   ]
  },
  {
   "cell_type": "code",
   "execution_count": 15,
   "metadata": {},
   "outputs": [
    {
     "data": {
      "text/plain": [
       "['bos',\n",
       " 'bkn',\n",
       " 'ny',\n",
       " 'phi',\n",
       " 'tor',\n",
       " 'gs',\n",
       " 'lac',\n",
       " 'lal',\n",
       " 'phx',\n",
       " 'sac',\n",
       " 'chi',\n",
       " 'cle',\n",
       " 'det',\n",
       " 'ind',\n",
       " 'mil',\n",
       " 'dal',\n",
       " 'hou',\n",
       " 'mem',\n",
       " 'no',\n",
       " 'sa',\n",
       " 'atl',\n",
       " 'cha',\n",
       " 'mia',\n",
       " 'orl',\n",
       " 'wsh',\n",
       " 'den',\n",
       " 'min',\n",
       " 'okc',\n",
       " 'por',\n",
       " 'utah']"
      ]
     },
     "execution_count": 15,
     "metadata": {},
     "output_type": "execute_result"
    }
   ],
   "source": [
    "ps.teams"
   ]
  },
  {
   "cell_type": "code",
   "execution_count": null,
   "metadata": {},
   "outputs": [],
   "source": []
  }
 ],
 "metadata": {
  "kernelspec": {
   "display_name": "Python 3",
   "language": "python",
   "name": "python3"
  },
  "language_info": {
   "codemirror_mode": {
    "name": "ipython",
    "version": 3
   },
   "file_extension": ".py",
   "mimetype": "text/x-python",
   "name": "python",
   "nbconvert_exporter": "python",
   "pygments_lexer": "ipython3",
   "version": "3.7.9"
  }
 },
 "nbformat": 4,
 "nbformat_minor": 4
}
