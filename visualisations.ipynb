{
 "cells": [
  {
   "cell_type": "code",
   "execution_count": 1,
   "id": "10f676f2",
   "metadata": {},
   "outputs": [],
   "source": [
    "import pandas as pd"
   ]
  },
  {
   "cell_type": "code",
   "execution_count": 47,
   "id": "4d4cac2f",
   "metadata": {},
   "outputs": [],
   "source": [
    "def segment_data(df):\n",
    "    pos_dict = {}\n",
    "    pos = ['PG','SG','PF','SF','C','F','G']\n",
    "    \n",
    "    for p in pos:\n",
    "        pos_dict[p] = df.loc[df['POS'] == p]\n",
    "        \n",
    "    return pos_dict"
   ]
  },
  {
   "cell_type": "code",
   "execution_count": 85,
   "id": "d91466b3",
   "metadata": {},
   "outputs": [],
   "source": [
    "def get_data(last_n_years,season):\n",
    "    from time import strftime, localtime\n",
    "    import pandas as pd\n",
    "    \n",
    "    this_year = int(strftime(\"%Y\",localtime())) -1\n",
    "    dfs = {}\n",
    "    for y in range(this_year,this_year - last_n_years,-1):\n",
    "        df = pd.read_csv(\"./player_stats/\"+str(y)+\"/\"+season+\".csv\")\n",
    "        dfs[y] = segment_data(df)\n",
    "        \n",
    "    return dfs"
   ]
  },
  {
   "cell_type": "code",
   "execution_count": 86,
   "id": "5393a4e4",
   "metadata": {},
   "outputs": [],
   "source": [
    "def player_slider():\n",
    "    slider = dcc.Slider(\n",
    "                        id = 'n_players',\n",
    "                        min = 1,\n",
    "                        max = 10,\n",
    "                        value = 5,\n",
    "                        marks = {str(n): str(n) for n in range(1,11)},\n",
    "                        step = None\n",
    "                    )\n",
    "    return slider"
   ]
  },
  {
   "cell_type": "code",
   "execution_count": 87,
   "id": "1a7ca69a",
   "metadata": {},
   "outputs": [],
   "source": [
    "def year_slider():\n",
    "    slider = dcc.Slider(\n",
    "                        id = 'years',\n",
    "                        min = min(dfs.keys()),\n",
    "                        max = max(dfs.keys()),\n",
    "                        value = max(dfs.keys()),\n",
    "                        marks = {year: str(year) for year in dfs.keys()},\n",
    "                        step = None\n",
    "                    )\n",
    "    return slider"
   ]
  },
  {
   "cell_type": "code",
   "execution_count": 88,
   "id": "1a14041c",
   "metadata": {},
   "outputs": [],
   "source": [
    "def player_stats():\n",
    "    stats = dcc.RadioItems(\n",
    "                            options=[\n",
    "                                {'label': 'PTS','value':'PTS'},\n",
    "                                {'label': 'AST','value':'AST'},\n",
    "                                {'label': 'REB','value':'REB'},\n",
    "                                {'label': 'BLK','value':'BLK'},\n",
    "                                {'label': 'STL','value':'STL'}\n",
    "                            ],\n",
    "                            value = 'PTS',\n",
    "                            id = \"stats\"\n",
    "                    )\n",
    "    return stats"
   ]
  },
  {
   "cell_type": "code",
   "execution_count": 177,
   "id": "973c63e0",
   "metadata": {},
   "outputs": [],
   "source": [
    "def pos_dropdown():\n",
    "    d = dcc.Dropdown(\n",
    "                    options = [\n",
    "                        {\"value\":\"PG\", \"label\":\"Point Guard\"},\n",
    "                        {\"value\":\"SG\", \"label\":\"Shooting Guard\"},\n",
    "                        {\"value\":\"G\", \"label\":\"Guard\"},\n",
    "                        {\"value\":\"PF\", \"label\":\"Power Forward\"},\n",
    "                        {\"value\":\"SF\", \"label\":\"Small Forward\"},\n",
    "                        {\"value\":\"F\", \"label\":\"Forward\"},\n",
    "                        {\"value\":\"C\", \"label\":\"Centre\"}\n",
    "                    ],\n",
    "                    value = \"PG\",\n",
    "                    id = \"pos_drop\"\n",
    "                )\n",
    "    return d"
   ]
  },
  {
   "cell_type": "code",
   "execution_count": 178,
   "id": "944119b7",
   "metadata": {},
   "outputs": [],
   "source": [
    "def season_dropdown():\n",
    "    d = dcc.Dropdown(\n",
    "                    options = [\n",
    "                        {\"value\":\"regular\", \"label\":\"Regular\"},\n",
    "                        {\"value\":\"post\", \"label\":\"Post\"}\n",
    "                    ],\n",
    "                    value = \"regular\",\n",
    "                    id = \"season_drop\"\n",
    "                )\n",
    "    return d"
   ]
  },
  {
   "cell_type": "code",
   "execution_count": 179,
   "id": "fc26d549",
   "metadata": {},
   "outputs": [],
   "source": [
    "from jupyter_dash import JupyterDash\n",
    "from dash import dcc\n",
    "from dash import html\n",
    "from dash.dependencies import Input, Output\n",
    "import plotly.express as px\n",
    "from datetime import date\n",
    "\n",
    "season_types = [\"regular_season\",\"post_season\"]\n",
    "r_season = season_types[0]\n",
    "p_season = season_types[1]\n",
    "\n",
    "\n",
    "y = 2021\n",
    "pos = 'PG'\n",
    "top_n_players = 5\n",
    "\n",
    "reg_season = get_data(5,r_season)\n",
    "post_season = get_data(5,p_season)\n",
    "\n",
    "seasons = {\"regular\":reg_season, \"post\":post_season}\n",
    "\n",
    "sorted_df = seasons[\"regular\"][y][pos].sort_values(\"PTS\",ascending = False).head(top_n_players)\n",
    "\n",
    "fig = px.bar(sorted_df, x='PTS', y=\"Name\", color=\"Team\", text = 'PTS',\n",
    "             title=\"PTS for top \"+str(top_n_players)+\" players at \"+ pos + \" in the \"+str(y) +\" regular season\")\n",
    "\n",
    "\n",
    "\n",
    "\n",
    "app = JupyterDash(__name__)\n",
    "colours = {'text': '#7FDBFF', 'background':'#777777'}\n",
    "text_size = {'H1':48,'H2':40,'text':28}\n",
    "\n",
    "app.layout = html.Div(style={'backgroundColor':colours['background'],'fontFamily':'calibri'}, children=[\n",
    "\n",
    "    html.H1(children='NBA Data visualisation',\n",
    "        style = {'textAlign': 'center',\n",
    "                 'color':colours['text'],\n",
    "                 'fontSize':text_size['H1']}),\n",
    "\n",
    "\n",
    "    html.Div(children=[\n",
    "        \n",
    "            html.Div([html.Label(\"Position: \", style = {'textAlign': 'center',\n",
    "                         'color':colours['text'],\n",
    "                         'fontSize':text_size['text']}),\n",
    "                        pos_dropdown()\n",
    "                    ],\n",
    "                style = {'textAlign': 'left',\"flex\":1}\n",
    "            ),\n",
    "        \n",
    "            html.Div([html.Label(\"Season: \", style = {'textAlign': 'center',\n",
    "                         'color':colours['text'],\n",
    "                         'fontSize':text_size['text']}),\n",
    "                        season_dropdown()\n",
    "                     ],\n",
    "                style = {'textAlign': 'center',\"flex\":1}\n",
    "            ),\n",
    "        \n",
    "#             html.Div([season_dropdown()], style = {'textAlign': 'center'}),\n",
    "        \n",
    "            html.Div([html.Label(\"Stats\", style = {'textAlign': 'center',\n",
    "                         'color':colours['text'],\n",
    "                         'fontSize':text_size['text']}),\n",
    "                        player_stats()\n",
    "                     ],\n",
    "                style = {'textAlign': 'right',\"flex\":1}\n",
    "            )\n",
    "        \n",
    "        \n",
    "            \n",
    "\n",
    "        ],style = {'display':'flex','flex-direction': 'row'}\n",
    "    ),\n",
    "    \n",
    "    player_slider(),\n",
    "    \n",
    "    dcc.Graph(figure = fig, id = 'graph'),\n",
    "    \n",
    "    year_slider()\n",
    "])\n",
    "\n",
    "@app.callback(\n",
    "    Output('graph','figure'),\n",
    "    Input('stats','value'),\n",
    "    Input('years','value'),\n",
    "    Input('pos_drop','value'),\n",
    "    Input('n_players','value'),\n",
    "    Input('season_drop','value'))\n",
    "def update_figure(stat,y,pos,top_n_players,season_type):\n",
    "    \n",
    "    sorted_df = seasons[season_type][y][pos].sort_values(stat,ascending = False).head(top_n_players)\n",
    "    fig = px.bar(sorted_df, x=stat, y='Name', color=\"Team\",text = stat,\n",
    "                    title=\"PTS for top \"+str(top_n_players)+\" players at \"+ pos + \" in the \"+str(y)+\\\n",
    "                            \" \"+ season_type + \" season\")\n",
    "\n",
    "    return fig"
   ]
  },
  {
   "cell_type": "code",
   "execution_count": 181,
   "id": "1c886223",
   "metadata": {},
   "outputs": [
    {
     "name": "stderr",
     "output_type": "stream",
     "text": [
      "/home/blunt/.local/lib/python3.7/site-packages/jupyter_dash/jupyter_app.py:139: UserWarning:\n",
      "\n",
      "The 'environ['werkzeug.server.shutdown']' function is deprecated and will be removed in Werkzeug 2.1.\n",
      "\n"
     ]
    },
    {
     "data": {
      "text/html": [
       "\n",
       "        <iframe\n",
       "            width=\"100%\"\n",
       "            height=\"650\"\n",
       "            src=\"http://127.0.0.1:8050/\"\n",
       "            frameborder=\"0\"\n",
       "            allowfullscreen\n",
       "        ></iframe>\n",
       "        "
      ],
      "text/plain": [
       "<IPython.lib.display.IFrame at 0x87523e10>"
      ]
     },
     "metadata": {},
     "output_type": "display_data"
    }
   ],
   "source": [
    "app.run_server(mode = \"inline\")"
   ]
  },
  {
   "cell_type": "code",
   "execution_count": null,
   "id": "1d6b35d2",
   "metadata": {},
   "outputs": [],
   "source": []
  }
 ],
 "metadata": {
  "kernelspec": {
   "display_name": "Python 3",
   "language": "python",
   "name": "python3"
  },
  "language_info": {
   "codemirror_mode": {
    "name": "ipython",
    "version": 3
   },
   "file_extension": ".py",
   "mimetype": "text/x-python",
   "name": "python",
   "nbconvert_exporter": "python",
   "pygments_lexer": "ipython3",
   "version": "3.7.3"
  }
 },
 "nbformat": 4,
 "nbformat_minor": 5
}
