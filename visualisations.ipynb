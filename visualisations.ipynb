{
 "cells": [
  {
   "cell_type": "code",
   "execution_count": 1,
   "id": "10f676f2",
   "metadata": {},
   "outputs": [],
   "source": [
    "import pandas as pd\n",
    "import matplotlib.pyplot as plt"
   ]
  },
  {
   "cell_type": "code",
   "execution_count": 2,
   "id": "85a8bd79",
   "metadata": {},
   "outputs": [],
   "source": [
    "reg_2021 = pd.read_csv(\"./player_stats/2021/regular_season.csv\")"
   ]
  },
  {
   "cell_type": "code",
   "execution_count": 3,
   "id": "c48feca2",
   "metadata": {},
   "outputs": [],
   "source": [
    "pgs = reg_2021.loc[reg_2021[\"POS\"] == \"PG\"].sort_values(\"PTS\",ascending = False)"
   ]
  },
  {
   "cell_type": "code",
   "execution_count": 4,
   "id": "277f76f4",
   "metadata": {},
   "outputs": [],
   "source": [
    "sgs = reg_2021.loc[reg_2021[\"POS\"] == \"SG\"].sort_values(\"PTS\",ascending = False)"
   ]
  },
  {
   "cell_type": "code",
   "execution_count": 5,
   "id": "eaa24421",
   "metadata": {},
   "outputs": [],
   "source": [
    "pfs = reg_2021.loc[reg_2021[\"POS\"] == \"PF\"].sort_values(\"PTS\",ascending = False)"
   ]
  },
  {
   "cell_type": "code",
   "execution_count": 6,
   "id": "dc0f7e2c",
   "metadata": {},
   "outputs": [],
   "source": [
    "sfs = reg_2021.loc[reg_2021[\"POS\"] == \"SF\"].sort_values(\"PTS\",ascending = False)"
   ]
  },
  {
   "cell_type": "code",
   "execution_count": 7,
   "id": "3bbd0e3d",
   "metadata": {},
   "outputs": [],
   "source": [
    "cs = reg_2021.loc[reg_2021[\"POS\"] == \"C\"].sort_values(\"PTS\",ascending = False)"
   ]
  },
  {
   "cell_type": "code",
   "execution_count": 8,
   "id": "66eb6198",
   "metadata": {},
   "outputs": [
    {
     "data": {
      "text/plain": [
       "(0, 32.54732154395873)"
      ]
     },
     "execution_count": 8,
     "metadata": {},
     "output_type": "execute_result"
    },
    {
     "data": {
      "image/png": "[encoded data removed]",
      "text/plain": [
       "<Figure size 432x288 with 1 Axes>"
      ]
     },
     "metadata": {
      "needs_background": "light"
     },
     "output_type": "display_data"
    }
   ],
   "source": [
    "plt.scatter(\"FG%\",\"PTS\",marker=\"o\",c = \"b\", data = pgs.head(5),)\n",
    "plt.scatter(\"FG%\",\"PTS\",marker=\"o\",c = \"r\", data = sgs.head(5))\n",
    "plt.scatter(\"FG%\",\"PTS\",marker=\"o\",c = \"c\", data = pfs.head(5))\n",
    "plt.scatter(\"FG%\",\"PTS\",marker=\"o\",c = \"m\", data = sfs.head(5))\n",
    "plt.scatter(\"FG%\",\"PTS\",marker=\"o\",c = \"y\", data = cs.head(5))\n",
    "plt.xlim(0)\n",
    "plt.ylim(0)"
   ]
  },
  {
   "cell_type": "code",
   "execution_count": 20,
   "id": "c2009bb9",
   "metadata": {},
   "outputs": [],
   "source": [
    "def segment_data(df, top_n_players):\n",
    "    pos_dict = {}\n",
    "    pos = ['PG','SG','PF','SF','C']\n",
    "    \n",
    "    for p in pos:\n",
    "        pos_dict[p] = df.loc[df['POS'] == p].sort_values(\"PTS\",ascending = False).head(top_n_players)\n",
    "        \n",
    "    return pos_dict"
   ]
  },
  {
   "cell_type": "code",
   "execution_count": 21,
   "id": "d91466b3",
   "metadata": {},
   "outputs": [],
   "source": [
    "def get_data(last_n_years, top_n_players):\n",
    "    from time import strftime, localtime\n",
    "    import pandas as pd\n",
    "    \n",
    "    this_year = int(strftime(\"%Y\",localtime())) -1\n",
    "    dfs = {}\n",
    "    for y in range(this_year,this_year - last_n_years,-1):\n",
    "        df = pd.read_csv(\"./player_stats/\"+str(y)+\"/regular_season.csv\")\n",
    "        dfs[y] = segment_data(df, top_n_players)\n",
    "        \n",
    "    return dfs"
   ]
  },
  {
   "cell_type": "code",
   "execution_count": 22,
   "id": "e00d313e",
   "metadata": {},
   "outputs": [],
   "source": [
    "dfs = get_data(3,10)"
   ]
  },
  {
   "cell_type": "code",
   "execution_count": 23,
   "id": "c2c3953e",
   "metadata": {},
   "outputs": [
    {
     "data": {
      "text/html": [
       "<div>\n",
       "<style scoped>\n",
       "    .dataframe tbody tr th:only-of-type {\n",
       "        vertical-align: middle;\n",
       "    }\n",
       "\n",
       "    .dataframe tbody tr th {\n",
       "        vertical-align: top;\n",
       "    }\n",
       "\n",
       "    .dataframe thead th {\n",
       "        text-align: right;\n",
       "    }\n",
       "</style>\n",
       "<table border=\"1\" class=\"dataframe\">\n",
       "  <thead>\n",
       "    <tr style=\"text-align: right;\">\n",
       "      <th></th>\n",
       "      <th>Name</th>\n",
       "      <th>PTS</th>\n",
       "      <th>Team</th>\n",
       "    </tr>\n",
       "  </thead>\n",
       "  <tbody>\n",
       "    <tr>\n",
       "      <th>513</th>\n",
       "      <td>Bradley Beal</td>\n",
       "      <td>31.3</td>\n",
       "      <td>WSH</td>\n",
       "    </tr>\n",
       "    <tr>\n",
       "      <th>210</th>\n",
       "      <td>Zach LaVine</td>\n",
       "      <td>27.4</td>\n",
       "      <td>CHI</td>\n",
       "    </tr>\n",
       "    <tr>\n",
       "      <th>611</th>\n",
       "      <td>Donovan Mitchell</td>\n",
       "      <td>26.4</td>\n",
       "      <td>UTAH</td>\n",
       "    </tr>\n",
       "    <tr>\n",
       "      <th>169</th>\n",
       "      <td>Devin Booker</td>\n",
       "      <td>25.6</td>\n",
       "      <td>PHX</td>\n",
       "    </tr>\n",
       "    <tr>\n",
       "      <th>342</th>\n",
       "      <td>James Harden</td>\n",
       "      <td>24.8</td>\n",
       "      <td>HOU</td>\n",
       "    </tr>\n",
       "    <tr>\n",
       "      <th>1</th>\n",
       "      <td>Jaylen Brown</td>\n",
       "      <td>24.7</td>\n",
       "      <td>BOS</td>\n",
       "    </tr>\n",
       "    <tr>\n",
       "      <th>23</th>\n",
       "      <td>James Harden</td>\n",
       "      <td>24.6</td>\n",
       "      <td>BKN</td>\n",
       "    </tr>\n",
       "    <tr>\n",
       "      <th>131</th>\n",
       "      <td>Paul George</td>\n",
       "      <td>23.3</td>\n",
       "      <td>LAC</td>\n",
       "    </tr>\n",
       "    <tr>\n",
       "      <th>595</th>\n",
       "      <td>CJ McCollum</td>\n",
       "      <td>23.1</td>\n",
       "      <td>POR</td>\n",
       "    </tr>\n",
       "    <tr>\n",
       "      <th>343</th>\n",
       "      <td>Victor Oladipo</td>\n",
       "      <td>21.2</td>\n",
       "      <td>HOU</td>\n",
       "    </tr>\n",
       "  </tbody>\n",
       "</table>\n",
       "</div>"
      ],
      "text/plain": [
       "                 Name   PTS  Team\n",
       "513      Bradley Beal  31.3   WSH\n",
       "210       Zach LaVine  27.4   CHI\n",
       "611  Donovan Mitchell  26.4  UTAH\n",
       "169      Devin Booker  25.6   PHX\n",
       "342      James Harden  24.8   HOU\n",
       "1        Jaylen Brown  24.7   BOS\n",
       "23       James Harden  24.6   BKN\n",
       "131       Paul George  23.3   LAC\n",
       "595       CJ McCollum  23.1   POR\n",
       "343    Victor Oladipo  21.2   HOU"
      ]
     },
     "execution_count": 23,
     "metadata": {},
     "output_type": "execute_result"
    }
   ],
   "source": [
    "dfs[2021]['SG'][['Name','PTS','Team']]"
   ]
  },
  {
   "cell_type": "code",
   "execution_count": 25,
   "id": "1d2f4313",
   "metadata": {},
   "outputs": [
    {
     "data": {
      "text/html": [
       "<div>\n",
       "<style scoped>\n",
       "    .dataframe tbody tr th:only-of-type {\n",
       "        vertical-align: middle;\n",
       "    }\n",
       "\n",
       "    .dataframe tbody tr th {\n",
       "        vertical-align: top;\n",
       "    }\n",
       "\n",
       "    .dataframe thead th {\n",
       "        text-align: right;\n",
       "    }\n",
       "</style>\n",
       "<table border=\"1\" class=\"dataframe\">\n",
       "  <thead>\n",
       "    <tr style=\"text-align: right;\">\n",
       "      <th></th>\n",
       "      <th>Name</th>\n",
       "      <th>POS</th>\n",
       "      <th>Team</th>\n",
       "      <th>PTS</th>\n",
       "      <th>AST</th>\n",
       "      <th>FG%</th>\n",
       "      <th>3P%</th>\n",
       "      <th>3PM</th>\n",
       "    </tr>\n",
       "  </thead>\n",
       "  <tbody>\n",
       "    <tr>\n",
       "      <th>513</th>\n",
       "      <td>Bradley Beal</td>\n",
       "      <td>SG</td>\n",
       "      <td>WSH</td>\n",
       "      <td>31.3</td>\n",
       "      <td>4.4</td>\n",
       "      <td>48.5</td>\n",
       "      <td>34.9</td>\n",
       "      <td>2.2</td>\n",
       "    </tr>\n",
       "    <tr>\n",
       "      <th>210</th>\n",
       "      <td>Zach LaVine</td>\n",
       "      <td>SG</td>\n",
       "      <td>CHI</td>\n",
       "      <td>27.4</td>\n",
       "      <td>4.9</td>\n",
       "      <td>50.7</td>\n",
       "      <td>41.9</td>\n",
       "      <td>3.4</td>\n",
       "    </tr>\n",
       "    <tr>\n",
       "      <th>611</th>\n",
       "      <td>Donovan Mitchell</td>\n",
       "      <td>SG</td>\n",
       "      <td>UTAH</td>\n",
       "      <td>26.4</td>\n",
       "      <td>5.2</td>\n",
       "      <td>43.8</td>\n",
       "      <td>38.6</td>\n",
       "      <td>3.4</td>\n",
       "    </tr>\n",
       "    <tr>\n",
       "      <th>169</th>\n",
       "      <td>Devin Booker</td>\n",
       "      <td>SG</td>\n",
       "      <td>PHX</td>\n",
       "      <td>25.6</td>\n",
       "      <td>4.3</td>\n",
       "      <td>48.4</td>\n",
       "      <td>34.0</td>\n",
       "      <td>1.9</td>\n",
       "    </tr>\n",
       "    <tr>\n",
       "      <th>342</th>\n",
       "      <td>James Harden</td>\n",
       "      <td>SG</td>\n",
       "      <td>HOU</td>\n",
       "      <td>24.8</td>\n",
       "      <td>10.4</td>\n",
       "      <td>44.4</td>\n",
       "      <td>34.7</td>\n",
       "      <td>3.1</td>\n",
       "    </tr>\n",
       "    <tr>\n",
       "      <th>1</th>\n",
       "      <td>Jaylen Brown</td>\n",
       "      <td>SG</td>\n",
       "      <td>BOS</td>\n",
       "      <td>24.7</td>\n",
       "      <td>3.4</td>\n",
       "      <td>48.4</td>\n",
       "      <td>39.7</td>\n",
       "      <td>2.8</td>\n",
       "    </tr>\n",
       "    <tr>\n",
       "      <th>23</th>\n",
       "      <td>James Harden</td>\n",
       "      <td>SG</td>\n",
       "      <td>BKN</td>\n",
       "      <td>24.6</td>\n",
       "      <td>10.9</td>\n",
       "      <td>47.1</td>\n",
       "      <td>36.6</td>\n",
       "      <td>2.7</td>\n",
       "    </tr>\n",
       "    <tr>\n",
       "      <th>131</th>\n",
       "      <td>Paul George</td>\n",
       "      <td>SG</td>\n",
       "      <td>LAC</td>\n",
       "      <td>23.3</td>\n",
       "      <td>5.2</td>\n",
       "      <td>46.7</td>\n",
       "      <td>41.1</td>\n",
       "      <td>3.2</td>\n",
       "    </tr>\n",
       "    <tr>\n",
       "      <th>595</th>\n",
       "      <td>CJ McCollum</td>\n",
       "      <td>SG</td>\n",
       "      <td>POR</td>\n",
       "      <td>23.1</td>\n",
       "      <td>4.7</td>\n",
       "      <td>45.8</td>\n",
       "      <td>40.2</td>\n",
       "      <td>3.6</td>\n",
       "    </tr>\n",
       "    <tr>\n",
       "      <th>343</th>\n",
       "      <td>Victor Oladipo</td>\n",
       "      <td>SG</td>\n",
       "      <td>HOU</td>\n",
       "      <td>21.2</td>\n",
       "      <td>5.0</td>\n",
       "      <td>40.7</td>\n",
       "      <td>32.0</td>\n",
       "      <td>2.5</td>\n",
       "    </tr>\n",
       "  </tbody>\n",
       "</table>\n",
       "</div>"
      ],
      "text/plain": [
       "                 Name POS  Team   PTS   AST   FG%   3P%  3PM\n",
       "513      Bradley Beal  SG   WSH  31.3   4.4  48.5  34.9  2.2\n",
       "210       Zach LaVine  SG   CHI  27.4   4.9  50.7  41.9  3.4\n",
       "611  Donovan Mitchell  SG  UTAH  26.4   5.2  43.8  38.6  3.4\n",
       "169      Devin Booker  SG   PHX  25.6   4.3  48.4  34.0  1.9\n",
       "342      James Harden  SG   HOU  24.8  10.4  44.4  34.7  3.1\n",
       "1        Jaylen Brown  SG   BOS  24.7   3.4  48.4  39.7  2.8\n",
       "23       James Harden  SG   BKN  24.6  10.9  47.1  36.6  2.7\n",
       "131       Paul George  SG   LAC  23.3   5.2  46.7  41.1  3.2\n",
       "595       CJ McCollum  SG   POR  23.1   4.7  45.8  40.2  3.6\n",
       "343    Victor Oladipo  SG   HOU  21.2   5.0  40.7  32.0  2.5"
      ]
     },
     "execution_count": 25,
     "metadata": {},
     "output_type": "execute_result"
    }
   ],
   "source": [
    "dfs[2021]['sg'.upper()][[\"Name\",\"POS\",\"Team\",\"PTS\",\"AST\",\"FG%\",\"3P%\",\"3PM\"]]"
   ]
  },
  {
   "cell_type": "code",
   "execution_count": 12,
   "id": "65b6438b",
   "metadata": {},
   "outputs": [],
   "source": [
    "data = get_top_n_players(10,dfs)"
   ]
  },
  {
   "cell_type": "code",
   "execution_count": 22,
   "id": "5393a4e4",
   "metadata": {},
   "outputs": [],
   "source": []
  },
  {
   "cell_type": "code",
   "execution_count": 36,
   "id": "fc26d549",
   "metadata": {},
   "outputs": [],
   "source": [
    "from jupyter_dash import JupyterDash\n",
    "from dash import dcc\n",
    "from dash import html\n",
    "from dash.dependencies import Input, Output\n",
    "import plotly.express as px\n",
    "from datetime import date\n",
    "\n",
    "app = JupyterDash(__name__)\n",
    "colours = {'text': '#7FDBFF', 'background':'#111111'}\n",
    "text_size = {'H1':48,'H2':40,'text':36}\n",
    "\n",
    "app.layout = html.Div(style={'backgroundColor':colours['background'],'fontFamily':'calibri'}, children=[\n",
    "\n",
    "    html.H1(children='NBA Data visualisation',\n",
    "        style = {'textAlign': 'center',\n",
    "                 'color':colours['text'],\n",
    "                 'fontSize':text_size['H1']}),\n",
    "\n",
    "    html.H2(children='A simple dashboard exercise',\n",
    "            style = {'textAlign': 'center','color':colours['text'],'fontSize':text_size['H2']}),\n",
    "\n",
    "    html.Div(children=[\n",
    "            html.Div(children = [\n",
    "                    dcc.Dropdown(\n",
    "                        options = [\n",
    "                            {\"value\":\"Point Guard\", \"label\":\"PG\"},\n",
    "                            {\"value\":\"Shooting Guard\", \"label\":\"SG\"},\n",
    "                            {\"value\":\"Power Forward\", \"label\":\"PF\"},\n",
    "                            {\"value\":\"Small Forward\", \"label\":\"SF\"},\n",
    "                            {\"value\":\"Centre\", \"label\":\"C\"},\n",
    "                            {\"value\":\"Forward\", \"label\":\"F\"}\n",
    "                        ],\n",
    "                        value = \"PG\"\n",
    "                    ),\n",
    "                    html.Div(id = 'pos_dropdown')\n",
    "                ],\n",
    "                style = {\"padding\":10,'textAlign': 'left','color':colours['text'],'fontSize':text_size['text'],\"flex\":1}\n",
    "            ),\n",
    "            \n",
    "            html.Div(children = [\n",
    "                        html.Label(\"Stats\",style = {'textAlign': 'right','color':colours['text'],'fontSize':text_size['text']}),\n",
    "\n",
    "                        dcc.RadioItems(\n",
    "                            options=[\n",
    "                                {'label': 'PTS','value':'pts'},\n",
    "                                {'label': 'AST','value':'ast'},\n",
    "                                {'label': 'FG%','value':'fg%'},\n",
    "                                {'label': '3P%','value':'3p%'}\n",
    "                            ]\n",
    "                        )\n",
    "                    ], style = {'textAlign': 'right','color':colours['text'],'fontSize':text_size['text'],\"flex\":2}\n",
    "            )\n",
    "        ],style = {'display':'flex','flex-direction': 'row'}\n",
    "    )\n",
    "\n",
    "\n",
    "#     html.Br(),\n",
    "#     html.Br(),\n",
    "\n",
    "#     html.Div([\n",
    "#         dcc.RangeSlider(\n",
    "#             id = 'range_slider',\n",
    "#             min = 0,\n",
    "#             max = 23,\n",
    "#             step = 1,\n",
    "#             value = [0,23],\n",
    "#             allowCross = False,\n",
    "#             tooltip = {'placement':'bottom','always_visible':True}\n",
    "#         ),\n",
    "#         html.Div(id='out_range_slider')\n",
    "#     ])\n",
    "\n",
    "\n",
    "    # dcc.Graph(\n",
    "    #     id='example-graph',\n",
    "    #     figure=None\n",
    "    # )\n",
    "])"
   ]
  },
  {
   "cell_type": "code",
   "execution_count": 37,
   "id": "1c886223",
   "metadata": {},
   "outputs": [
    {
     "name": "stderr",
     "output_type": "stream",
     "text": [
      "/home/blunt/.local/lib/python3.7/site-packages/jupyter_dash/jupyter_app.py:139: UserWarning:\n",
      "\n",
      "The 'environ['werkzeug.server.shutdown']' function is deprecated and will be removed in Werkzeug 2.1.\n",
      "\n"
     ]
    },
    {
     "data": {
      "text/html": [
       "\n",
       "        <iframe\n",
       "            width=\"100%\"\n",
       "            height=\"650\"\n",
       "            src=\"http://127.0.0.1:8050/\"\n",
       "            frameborder=\"0\"\n",
       "            allowfullscreen\n",
       "        ></iframe>\n",
       "        "
      ],
      "text/plain": [
       "<IPython.lib.display.IFrame at 0xa77efb70>"
      ]
     },
     "metadata": {},
     "output_type": "display_data"
    }
   ],
   "source": [
    "app.run_server(mode = \"inline\")"
   ]
  },
  {
   "cell_type": "code",
   "execution_count": 17,
   "id": "c90046a2",
   "metadata": {},
   "outputs": [
    {
     "data": {
      "text/html": [
       "<div>\n",
       "<style scoped>\n",
       "    .dataframe tbody tr th:only-of-type {\n",
       "        vertical-align: middle;\n",
       "    }\n",
       "\n",
       "    .dataframe tbody tr th {\n",
       "        vertical-align: top;\n",
       "    }\n",
       "\n",
       "    .dataframe thead th {\n",
       "        text-align: right;\n",
       "    }\n",
       "</style>\n",
       "<table border=\"1\" class=\"dataframe\">\n",
       "  <thead>\n",
       "    <tr style=\"text-align: right;\">\n",
       "      <th></th>\n",
       "      <th>Name</th>\n",
       "      <th>Team</th>\n",
       "      <th>PTS</th>\n",
       "      <th>FG%</th>\n",
       "      <th>3P%</th>\n",
       "      <th>FT%</th>\n",
       "      <th>2P%</th>\n",
       "      <th>AST</th>\n",
       "      <th>BLK</th>\n",
       "      <th>STL</th>\n",
       "    </tr>\n",
       "  </thead>\n",
       "  <tbody>\n",
       "    <tr>\n",
       "      <th>112</th>\n",
       "      <td>Stephen Curry</td>\n",
       "      <td>GS</td>\n",
       "      <td>32.0</td>\n",
       "      <td>48.2</td>\n",
       "      <td>42.1</td>\n",
       "      <td>91.6</td>\n",
       "      <td>56.9</td>\n",
       "      <td>5.8</td>\n",
       "      <td>0.1</td>\n",
       "      <td>1.2</td>\n",
       "    </tr>\n",
       "    <tr>\n",
       "      <th>594</th>\n",
       "      <td>Damian Lillard</td>\n",
       "      <td>POR</td>\n",
       "      <td>28.8</td>\n",
       "      <td>45.1</td>\n",
       "      <td>39.1</td>\n",
       "      <td>92.8</td>\n",
       "      <td>51.9</td>\n",
       "      <td>7.5</td>\n",
       "      <td>0.3</td>\n",
       "      <td>0.9</td>\n",
       "    </tr>\n",
       "    <tr>\n",
       "      <th>323</th>\n",
       "      <td>Luka Doncic</td>\n",
       "      <td>DAL</td>\n",
       "      <td>27.7</td>\n",
       "      <td>47.9</td>\n",
       "      <td>35.0</td>\n",
       "      <td>73.0</td>\n",
       "      <td>56.7</td>\n",
       "      <td>8.6</td>\n",
       "      <td>0.5</td>\n",
       "      <td>1.0</td>\n",
       "    </tr>\n",
       "    <tr>\n",
       "      <th>22</th>\n",
       "      <td>Kyrie Irving</td>\n",
       "      <td>BKN</td>\n",
       "      <td>26.9</td>\n",
       "      <td>50.6</td>\n",
       "      <td>40.2</td>\n",
       "      <td>92.2</td>\n",
       "      <td>56.1</td>\n",
       "      <td>6.0</td>\n",
       "      <td>0.7</td>\n",
       "      <td>1.4</td>\n",
       "    </tr>\n",
       "    <tr>\n",
       "      <th>429</th>\n",
       "      <td>Trae Young</td>\n",
       "      <td>ATL</td>\n",
       "      <td>25.3</td>\n",
       "      <td>43.8</td>\n",
       "      <td>34.3</td>\n",
       "      <td>88.6</td>\n",
       "      <td>49.1</td>\n",
       "      <td>9.4</td>\n",
       "      <td>0.2</td>\n",
       "      <td>0.8</td>\n",
       "    </tr>\n",
       "  </tbody>\n",
       "</table>\n",
       "</div>"
      ],
      "text/plain": [
       "               Name Team   PTS   FG%   3P%   FT%   2P%  AST  BLK  STL\n",
       "112   Stephen Curry   GS  32.0  48.2  42.1  91.6  56.9  5.8  0.1  1.2\n",
       "594  Damian Lillard  POR  28.8  45.1  39.1  92.8  51.9  7.5  0.3  0.9\n",
       "323     Luka Doncic  DAL  27.7  47.9  35.0  73.0  56.7  8.6  0.5  1.0\n",
       "22     Kyrie Irving  BKN  26.9  50.6  40.2  92.2  56.1  6.0  0.7  1.4\n",
       "429      Trae Young  ATL  25.3  43.8  34.3  88.6  49.1  9.4  0.2  0.8"
      ]
     },
     "execution_count": 17,
     "metadata": {},
     "output_type": "execute_result"
    }
   ],
   "source": [
    "pgs[[\"Name\",\"Team\",\"PTS\",\"FG%\",\"3P%\",\"FT%\",\"2P%\",\"AST\",\"BLK\",\"STL\"]].head()"
   ]
  },
  {
   "cell_type": "code",
   "execution_count": 24,
   "id": "8ce1954c",
   "metadata": {},
   "outputs": [],
   "source": [
    "import numpy as np"
   ]
  },
  {
   "cell_type": "code",
   "execution_count": 41,
   "id": "fb10d48b",
   "metadata": {},
   "outputs": [
    {
     "data": {
      "image/png": "[encoded data removed]",
      "text/plain": [
       "<Figure size 1080x720 with 1 Axes>"
      ]
     },
     "metadata": {
      "needs_background": "light"
     },
     "output_type": "display_data"
    }
   ],
   "source": [
    "plt.figure(figsize=(15,10))\n",
    "# plt.scatter(\"FG%\",\"PTS\", data = data[0][2021])\n",
    "# plt.text(x=x coordinate, y=y coordinate, s=string to be displayed)\n",
    "# plt.text(df.G[df.Team=='TOT'],df.GA[df.Team=='TOT'],\"TOT\", color='red')\n",
    "pos_idx = [\"PG\",\"SG\",\"PF\",\"SF\",\"C\"]\n",
    "n = 2\n",
    "cs = [\"r\",\"g\",\"b\",\"c\",\"y\"]\n",
    "for i in dfs.keys():\n",
    "    for k in range(len(pos_idx)):\n",
    "        y = dfs[i].loc[dfs[i][\"POS\"] == pos_idx[k]].sort_values(\"PTS\",ascending = False).head(n)\n",
    "        x = i * np.ones(len(y))\n",
    "        \n",
    "#         y = data[i][year][\"PTS\"].values[0]\n",
    "#         x = year#data[i][2021][\"FG%\"].values[i]\n",
    "        label = dfs[i][\"Name\"]\n",
    "\n",
    "        plt.scatter(x,y[\"PTS\"],c=cs[k])\n",
    "#         plt.annotate(label,\n",
    "#                     xy=(x, y[\"PTS\"]), #show point \n",
    "#                     xytext=(5, 2), #show annotate\n",
    "#                     textcoords='offset points',\n",
    "#                     ha='right',\n",
    "#                     va='bottom')\n",
    "n = len(dfs.keys())\n",
    "# plt.xticks(np.arange(3), ['Tom', 'Dick', 'Sue'])\n",
    "# plt.xticks(np.arange(0, 1, step=0.2)) \n",
    "# plt.ylim(0)\n",
    "# plt.xlim(0)\n",
    "#     plt.text(data[0][2021][\"PTS\"].values[i],\n",
    "#              data[0][2021][\"FG%\"].values[i],\n",
    "#              data[0][2021][\"Name\"].values[i],\n",
    "#              verticalalignment='center',\n",
    "#              transform=ax.transAxes)\n"
   ]
  },
  {
   "cell_type": "code",
   "execution_count": 47,
   "id": "9293e4fc",
   "metadata": {},
   "outputs": [
    {
     "data": {
      "text/plain": [
       "<matplotlib.axes._subplots.AxesSubplot at 0xa72f05f0>"
      ]
     },
     "execution_count": 47,
     "metadata": {},
     "output_type": "execute_result"
    },
    {
     "data": {
      "image/png": "[encoded data removed]",
      "text/plain": [
       "<Figure size 432x288 with 1 Axes>"
      ]
     },
     "metadata": {
      "needs_background": "light"
     },
     "output_type": "display_data"
    }
   ],
   "source": [
    "plt.subplot(224)"
   ]
  },
  {
   "cell_type": "code",
   "execution_count": 32,
   "id": "c85d99f1",
   "metadata": {},
   "outputs": [
    {
     "data": {
      "text/plain": [
       "dict_keys([2021, 2020, 2019])"
      ]
     },
     "execution_count": 32,
     "metadata": {},
     "output_type": "execute_result"
    }
   ],
   "source": [
    "dfs.keys()"
   ]
  },
  {
   "cell_type": "code",
   "execution_count": null,
   "id": "a80538bf",
   "metadata": {},
   "outputs": [],
   "source": []
  }
 ],
 "metadata": {
  "kernelspec": {
   "display_name": "Python 3",
   "language": "python",
   "name": "python3"
  },
  "language_info": {
   "codemirror_mode": {
    "name": "ipython",
    "version": 3
   },
   "file_extension": ".py",
   "mimetype": "text/x-python",
   "name": "python",
   "nbconvert_exporter": "python",
   "pygments_lexer": "ipython3",
   "version": "3.7.3"
  }
 },
 "nbformat": 4,
 "nbformat_minor": 5
}
