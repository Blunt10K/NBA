{
 "cells": [
  {
   "cell_type": "code",
   "execution_count": 1,
   "id": "10f676f2",
   "metadata": {},
   "outputs": [],
   "source": [
    "import pandas as pd\n",
    "import matplotlib.pyplot as plt"
   ]
  },
  {
   "cell_type": "code",
   "execution_count": 28,
   "id": "85a8bd79",
   "metadata": {},
   "outputs": [],
   "source": [
    "reg_2021 = pd.read_csv(\"./player_stats/2021/regular_season.csv\")"
   ]
  },
  {
   "cell_type": "code",
   "execution_count": 68,
   "id": "c48feca2",
   "metadata": {},
   "outputs": [],
   "source": [
    "pgs = reg_2021.loc[reg_2021[\"POS\"] == \"PG\"].sort_values(\"PTS\",ascending = False)"
   ]
  },
  {
   "cell_type": "code",
   "execution_count": 69,
   "id": "277f76f4",
   "metadata": {},
   "outputs": [],
   "source": [
    "sgs = reg_2021.loc[reg_2021[\"POS\"] == \"SG\"].sort_values(\"PTS\",ascending = False)"
   ]
  },
  {
   "cell_type": "code",
   "execution_count": 70,
   "id": "eaa24421",
   "metadata": {},
   "outputs": [],
   "source": [
    "pfs = reg_2021.loc[reg_2021[\"POS\"] == \"PF\"].sort_values(\"PTS\",ascending = False)"
   ]
  },
  {
   "cell_type": "code",
   "execution_count": 71,
   "id": "dc0f7e2c",
   "metadata": {},
   "outputs": [],
   "source": [
    "sfs = reg_2021.loc[reg_2021[\"POS\"] == \"SF\"].sort_values(\"PTS\",ascending = False)"
   ]
  },
  {
   "cell_type": "code",
   "execution_count": 72,
   "id": "3bbd0e3d",
   "metadata": {},
   "outputs": [],
   "source": [
    "cs = reg_2021.loc[reg_2021[\"POS\"] == \"C\"].sort_values(\"PTS\",ascending = False)"
   ]
  },
  {
   "cell_type": "code",
   "execution_count": 84,
   "id": "66eb6198",
   "metadata": {},
   "outputs": [
    {
     "data": {
      "text/plain": [
       "(0, 32.54732154395873)"
      ]
     },
     "execution_count": 84,
     "metadata": {},
     "output_type": "execute_result"
    },
    {
     "data": {
      "image/png": "[encoded data removed]",
      "text/plain": [
       "<matplotlib.figure.Figure at 0x7f5dc5f7f0>"
      ]
     },
     "metadata": {
      "needs_background": "light"
     },
     "output_type": "display_data"
    }
   ],
   "source": [
    "plt.scatter(\"FG%\",\"PTS\",marker=\"o\",c = \"b\", data = pgs.head(5),)\n",
    "plt.scatter(\"FG%\",\"PTS\",marker=\"o\",c = \"r\", data = sgs.head(5))\n",
    "plt.scatter(\"FG%\",\"PTS\",marker=\"o\",c = \"c\", data = pfs.head(5))\n",
    "plt.scatter(\"FG%\",\"PTS\",marker=\"o\",c = \"m\", data = sfs.head(5))\n",
    "plt.scatter(\"FG%\",\"PTS\",marker=\"o\",c = \"y\", data = cs.head(5))\n",
    "plt.xlim(0)\n",
    "plt.ylim(0)"
   ]
  },
  {
   "cell_type": "code",
   "execution_count": 52,
   "id": "d91466b3",
   "metadata": {},
   "outputs": [],
   "source": [
    "def get_data(last_n_years):\n",
    "    from time import strftime, localtime\n",
    "    import pandas as pd\n",
    "    \n",
    "    this_year = int(strftime(\"%Y\",localtime())) -1\n",
    "    dfs = {}\n",
    "    for i in range(this_year,this_year - last_n_years,-1):\n",
    "        dfs[i] = pd.read_csv(\"./player_stats/\"+str(i)+\"/regular_season.csv\")\n",
    "        \n",
    "    return dfs"
   ]
  },
  {
   "cell_type": "code",
   "execution_count": 56,
   "id": "e00d313e",
   "metadata": {},
   "outputs": [],
   "source": [
    "dfs = get_data(3)"
   ]
  },
  {
   "cell_type": "code",
   "execution_count": 63,
   "id": "f51e1d94",
   "metadata": {},
   "outputs": [],
   "source": [
    "def get_top_n_players(n, dfs):\n",
    "    METRIC = \"PTS\"\n",
    "    pgs,sgs,pfs,sfs,cs = {},{},{},{},{}\n",
    "    for k in dfs.keys():\n",
    "        pgs[k] = dfs[k].loc[dfs[k][\"POS\"] == \"PG\"].sort_values(\"PTS\",ascending = False).head(n)\n",
    "        sgs[k] = dfs[k].loc[dfs[k][\"POS\"] == \"SG\"].sort_values(\"PTS\",ascending = False).head(n)\n",
    "        pfs[k] = dfs[k].loc[dfs[k][\"POS\"] == \"PF\"].sort_values(\"PTS\",ascending = False).head(n)\n",
    "        sfs[k] = dfs[k].loc[dfs[k][\"POS\"] == \"SF\"].sort_values(\"PTS\",ascending = False).head(n)\n",
    "        cs[k] = dfs[k].loc[dfs[k][\"POS\"] == \"C\"].sort_values(\"PTS\",ascending = False).head(n)\n",
    "        \n",
    "    return [pgs,sgs,pfs,sfs,cs]"
   ]
  },
  {
   "cell_type": "code",
   "execution_count": 85,
   "id": "65b6438b",
   "metadata": {},
   "outputs": [],
   "source": [
    "data = get_top_n_players(1,dfs)"
   ]
  },
  {
   "cell_type": "code",
   "execution_count": 86,
   "id": "5393a4e4",
   "metadata": {},
   "outputs": [],
   "source": [
    "pos_idx = [\"PG\",\"SG\",\"PF\",\"SF\",\"C\"]"
   ]
  },
  {
   "cell_type": "code",
   "execution_count": null,
   "id": "997a2013",
   "metadata": {},
   "outputs": [],
   "source": [
    "ps = data[0]\n",
    "plt.plot(ps[\"\"])"
   ]
  }
 ],
 "metadata": {
  "kernelspec": {
   "display_name": "Python 3",
   "language": "python",
   "name": "python3"
  },
  "language_info": {
   "codemirror_mode": {
    "name": "ipython",
    "version": 3
   },
   "file_extension": ".py",
   "mimetype": "text/x-python",
   "name": "python",
   "nbconvert_exporter": "python",
   "pygments_lexer": "ipython3",
   "version": "3.6.9"
  }
 },
 "nbformat": 4,
 "nbformat_minor": 5
}
