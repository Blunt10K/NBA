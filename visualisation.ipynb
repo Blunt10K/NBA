{
 "cells": [
  {
   "cell_type": "code",
   "execution_count": 1,
   "metadata": {},
   "outputs": [],
   "source": [
    "from Team_standings import Team_standings"
   ]
  },
  {
   "cell_type": "code",
   "execution_count": 2,
   "metadata": {},
   "outputs": [],
   "source": [
    "T = Team_standings()"
   ]
  },
  {
   "cell_type": "code",
   "execution_count": 3,
   "metadata": {},
   "outputs": [],
   "source": [
    "T.update_team_standings()"
   ]
  },
  {
   "cell_type": "code",
   "execution_count": 4,
   "metadata": {},
   "outputs": [],
   "source": [
    "from Player_stats import Player_stats"
   ]
  },
  {
   "cell_type": "code",
   "execution_count": 5,
   "metadata": {},
   "outputs": [],
   "source": [
    "P = Player_stats()"
   ]
  },
  {
   "cell_type": "code",
   "execution_count": 6,
   "metadata": {},
   "outputs": [
    {
     "data": {
      "text/plain": [
       "('bos',\n",
       " 'bkn',\n",
       " 'ny',\n",
       " 'phi',\n",
       " 'tor',\n",
       " 'gs',\n",
       " 'lac',\n",
       " 'lal',\n",
       " 'phx',\n",
       " 'sac',\n",
       " 'chi',\n",
       " 'cle',\n",
       " 'det',\n",
       " 'ind',\n",
       " 'mil',\n",
       " 'dal',\n",
       " 'hou',\n",
       " 'mem',\n",
       " 'no',\n",
       " 'sa',\n",
       " 'atl',\n",
       " 'cha',\n",
       " 'mia',\n",
       " 'orl',\n",
       " 'wsh',\n",
       " 'den',\n",
       " 'min',\n",
       " 'okc',\n",
       " 'por',\n",
       " 'utah')"
      ]
     },
     "execution_count": 6,
     "metadata": {},
     "output_type": "execute_result"
    }
   ],
   "source": [
    "P.teams"
   ]
  },
  {
   "cell_type": "code",
   "execution_count": null,
   "metadata": {},
   "outputs": [],
   "source": []
  }
 ],
 "metadata": {
  "kernelspec": {
   "display_name": "Python 3",
   "language": "python",
   "name": "python3"
  },
  "language_info": {
   "codemirror_mode": {
    "name": "ipython",
    "version": 3
   },
   "file_extension": ".py",
   "mimetype": "text/x-python",
   "name": "python",
   "nbconvert_exporter": "python",
   "pygments_lexer": "ipython3",
   "version": "3.7.9"
  }
 },
 "nbformat": 4,
 "nbformat_minor": 5
}
