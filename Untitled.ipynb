{
 "cells": [
  {
   "cell_type": "code",
   "execution_count": null,
   "id": "a49a134e",
   "metadata": {},
   "outputs": [],
   "source": [
    "dictionary = {\"21-22_Reg\":\"https://africa.espn.com/nba/stats/player/_/table/offensive/sort/avgPoints/dir/desc\",\n",
    "             \"20-21_Post\":\"https://africa.espn.com/nba/stats/player/_/season/2021/seasontype/3/table/offensive/sort/avgPoints/dir/desc\",\n",
    "             \"21-22_Reg\":\"https://africa.espn.com/nba/stats/player/_/season/2021/seasontype/2/table/offensive/sort/avgPoints/dir/desc\"}"
   ]
  }
 ],
 "metadata": {
  "kernelspec": {
   "display_name": "Python 3",
   "language": "python",
   "name": "python3"
  },
  "language_info": {
   "codemirror_mode": {
    "name": "ipython",
    "version": 3
   },
   "file_extension": ".py",
   "mimetype": "text/x-python",
   "name": "python",
   "nbconvert_exporter": "python",
   "pygments_lexer": "ipython3",
   "version": "3.6.9"
  }
 },
 "nbformat": 4,
 "nbformat_minor": 5
}
