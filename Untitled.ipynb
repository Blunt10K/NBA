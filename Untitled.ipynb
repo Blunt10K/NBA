{
 "cells": [
  {
   "cell_type": "code",
   "execution_count": 1,
   "metadata": {},
   "outputs": [],
   "source": [
    "from os import walk\n",
    "from os import rename\n",
    "from os.path import join"
   ]
  },
  {
   "cell_type": "code",
   "execution_count": 3,
   "metadata": {},
   "outputs": [
    {
     "name": "stdout",
     "output_type": "stream",
     "text": [
      "2017 ['.DS_Store']\n",
      ".DS_Store\n",
      "2019 ['.DS_Store']\n",
      ".DS_Store\n",
      "2021 ['.DS_Store']\n",
      ".DS_Store\n",
      "2020 ['.DS_Store']\n",
      ".DS_Store\n",
      "2018 ['.DS_Store']\n",
      ".DS_Store\n"
     ]
    }
   ],
   "source": [
    "for root, dirs, files in walk(\"./player_stats\"):\n",
    "    for d in dirs:\n",
    "        print(d, files)\n",
    "        for f in files:\n",
    "            print(f)\n",
    "#             rename(join(root,f),d+f)"
   ]
  },
  {
   "cell_type": "code",
   "execution_count": null,
   "metadata": {},
   "outputs": [],
   "source": []
  }
 ],
 "metadata": {
  "kernelspec": {
   "display_name": "Python 3",
   "language": "python",
   "name": "python3"
  },
  "language_info": {
   "codemirror_mode": {
    "name": "ipython",
    "version": 3
   },
   "file_extension": ".py",
   "mimetype": "text/x-python",
   "name": "python",
   "nbconvert_exporter": "python",
   "pygments_lexer": "ipython3",
   "version": "3.7.9"
  }
 },
 "nbformat": 4,
 "nbformat_minor": 4
}
